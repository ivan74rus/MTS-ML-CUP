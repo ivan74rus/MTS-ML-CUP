{
  "nbformat": 4,
  "nbformat_minor": 0,
  "metadata": {
    "colab": {
      "provenance": [],
      "toc_visible": true,
      "mount_file_id": "1UffclFiH1TH8ti6cgVmCVJIlNh1lXjIx",
      "authorship_tag": "ABX9TyOrUHjPjmC37R1+eISI+rEG",
      "include_colab_link": true
    },
    "kernelspec": {
      "name": "python3",
      "display_name": "Python 3"
    },
    "language_info": {
      "name": "python"
    }
  },
  "cells": [
    {
      "cell_type": "markdown",
      "metadata": {
        "id": "view-in-github",
        "colab_type": "text"
      },
      "source": [
        "<a href=\"https://colab.research.google.com/github/ivan74rus/MTS-ML-CUP/blob/main/MTS_CUP_ipynb%22%22.ipynb\" target=\"_parent\"><img src=\"https://colab.research.google.com/assets/colab-badge.svg\" alt=\"Open In Colab\"/></a>"
      ]
    },
    {
      "cell_type": "markdown",
      "source": [
        "##import"
      ],
      "metadata": {
        "id": "G_xOu4W7VnK2"
      }
    },
    {
      "cell_type": "code",
      "source": [
        "#подключить гугл диск\n",
        "from google.colab import drive\n",
        "drive.mount('/content/drive')"
      ],
      "metadata": {
        "id": "bfB7f6PGYJ8Z",
        "colab": {
          "base_uri": "https://localhost:8080/"
        },
        "outputId": "748d794c-98a4-4564-e0e8-bcf33427641b"
      },
      "execution_count": 1,
      "outputs": [
        {
          "output_type": "stream",
          "name": "stdout",
          "text": [
            "Mounted at /content/drive\n"
          ]
        }
      ]
    },
    {
      "cell_type": "code",
      "source": [
        "#instal catboost\n",
        "!pip install catboost"
      ],
      "metadata": {
        "colab": {
          "base_uri": "https://localhost:8080/"
        },
        "id": "pfnvb1KtEbmi",
        "outputId": "7a93b831-8829-415d-d9c1-2401bad83222"
      },
      "execution_count": 2,
      "outputs": [
        {
          "output_type": "stream",
          "name": "stdout",
          "text": [
            "Looking in indexes: https://pypi.org/simple, https://us-python.pkg.dev/colab-wheels/public/simple/\n",
            "Collecting catboost\n",
            "  Downloading catboost-1.1.1-cp38-none-manylinux1_x86_64.whl (76.6 MB)\n",
            "\u001b[2K     \u001b[90m━━━━━━━━━━━━━━━━━━━━━━━━━━━━━━━━━━━━━━━━\u001b[0m \u001b[32m76.6/76.6 MB\u001b[0m \u001b[31m11.5 MB/s\u001b[0m eta \u001b[36m0:00:00\u001b[0m\n",
            "\u001b[?25hRequirement already satisfied: scipy in /usr/local/lib/python3.8/dist-packages (from catboost) (1.7.3)\n",
            "Requirement already satisfied: six in /usr/local/lib/python3.8/dist-packages (from catboost) (1.15.0)\n",
            "Requirement already satisfied: plotly in /usr/local/lib/python3.8/dist-packages (from catboost) (5.5.0)\n",
            "Requirement already satisfied: pandas>=0.24.0 in /usr/local/lib/python3.8/dist-packages (from catboost) (1.3.5)\n",
            "Requirement already satisfied: matplotlib in /usr/local/lib/python3.8/dist-packages (from catboost) (3.5.3)\n",
            "Requirement already satisfied: graphviz in /usr/local/lib/python3.8/dist-packages (from catboost) (0.10.1)\n",
            "Requirement already satisfied: numpy>=1.16.0 in /usr/local/lib/python3.8/dist-packages (from catboost) (1.22.4)\n",
            "Requirement already satisfied: python-dateutil>=2.7.3 in /usr/local/lib/python3.8/dist-packages (from pandas>=0.24.0->catboost) (2.8.2)\n",
            "Requirement already satisfied: pytz>=2017.3 in /usr/local/lib/python3.8/dist-packages (from pandas>=0.24.0->catboost) (2022.7.1)\n",
            "Requirement already satisfied: fonttools>=4.22.0 in /usr/local/lib/python3.8/dist-packages (from matplotlib->catboost) (4.38.0)\n",
            "Requirement already satisfied: pyparsing>=2.2.1 in /usr/local/lib/python3.8/dist-packages (from matplotlib->catboost) (3.0.9)\n",
            "Requirement already satisfied: packaging>=20.0 in /usr/local/lib/python3.8/dist-packages (from matplotlib->catboost) (23.0)\n",
            "Requirement already satisfied: cycler>=0.10 in /usr/local/lib/python3.8/dist-packages (from matplotlib->catboost) (0.11.0)\n",
            "Requirement already satisfied: pillow>=6.2.0 in /usr/local/lib/python3.8/dist-packages (from matplotlib->catboost) (7.1.2)\n",
            "Requirement already satisfied: kiwisolver>=1.0.1 in /usr/local/lib/python3.8/dist-packages (from matplotlib->catboost) (1.4.4)\n",
            "Requirement already satisfied: tenacity>=6.2.0 in /usr/local/lib/python3.8/dist-packages (from plotly->catboost) (8.2.1)\n",
            "Installing collected packages: catboost\n",
            "Successfully installed catboost-1.1.1\n"
          ]
        }
      ]
    },
    {
      "cell_type": "code",
      "source": [
        "import pandas as pd\n",
        "import joblib\n",
        "import numpy as np\n",
        "import time\n",
        "import pyarrow.parquet as pq\n",
        "import scipy\n",
        "import bisect\n",
        "import sklearn.metrics as m\n",
        "from catboost import CatBoostClassifier, CatBoostRegressor, Pool\n",
        "from sklearn.model_selection import train_test_split\n",
        "from sklearn.calibration import calibration_curve, CalibratedClassifierCV"
      ],
      "metadata": {
        "id": "_rFkNmInIuNH"
      },
      "execution_count": 18,
      "outputs": []
    },
    {
      "cell_type": "code",
      "source": [
        "# константы\n",
        "LOCAL_DATA_PATH = '/content/drive/MyDrive/DS/MTS/'\n",
        "#SPLIT_SEED = 42\n",
        "DATA_FILE = 'competition_data_final_pqt'\n",
        "TIM_LIST = 'top_300urls_timur.xlsx'\n",
        "TARGET_FILE = 'public_train.pqt'\n",
        "SUBMISSION_FILE = 'submit_2.pqt'\n"
      ],
      "metadata": {
        "id": "uvBOEOey_e26"
      },
      "execution_count": 19,
      "outputs": []
    },
    {
      "cell_type": "code",
      "source": [
        "# это ID для которых нужно выдать результат \n",
        "id_to_submit = pq.read_table(f'{LOCAL_DATA_PATH}/{SUBMISSION_FILE}').to_pandas()#.values.reshape(-1)"
      ],
      "metadata": {
        "id": "fiNUiWIpulEd"
      },
      "execution_count": null,
      "outputs": []
    },
    {
      "cell_type": "code",
      "source": [
        "#получим id для submita\n",
        "submit_id = id_to_submit.values.reshape(-1)\n",
        "submit_id"
      ],
      "metadata": {
        "colab": {
          "base_uri": "https://localhost:8080/"
        },
        "id": "XH3WRt2o1l1M",
        "outputId": "a7c05326-6853-4dca-c53a-aa4a4d6d6251"
      },
      "execution_count": null,
      "outputs": [
        {
          "output_type": "execute_result",
          "data": {
            "text/plain": [
              "array([221301,  31271, 211594, ..., 415286, 415306, 415315])"
            ]
          },
          "metadata": {},
          "execution_count": 13
        }
      ]
    },
    {
      "cell_type": "code",
      "source": [
        "id_to_submit.shape"
      ],
      "metadata": {
        "colab": {
          "base_uri": "https://localhost:8080/"
        },
        "id": "epVkvF-YTdTU",
        "outputId": "7b7f460e-08ba-438a-9f4f-ed1cedc50db1"
      },
      "execution_count": null,
      "outputs": [
        {
          "output_type": "execute_result",
          "data": {
            "text/plain": [
              "(144724, 1)"
            ]
          },
          "metadata": {},
          "execution_count": 12
        }
      ]
    },
    {
      "cell_type": "code",
      "source": [
        "# это как раз те ID решеные в безлайне\n",
        "submision_baseline = pd.read_csv(f'{LOCAL_DATA_PATH}/sample_submission.csv')\n",
        "#sample_submission.csv"
      ],
      "metadata": {
        "id": "_CFBdRyE1nQU"
      },
      "execution_count": null,
      "outputs": []
    },
    {
      "cell_type": "code",
      "source": [
        "submision_baseline"
      ],
      "metadata": {
        "colab": {
          "base_uri": "https://localhost:8080/",
          "height": 424
        },
        "id": "rH3j8IomCltY",
        "outputId": "f22e18a0-a4e5-4823-d4f9-0694cbaa87f4"
      },
      "execution_count": null,
      "outputs": [
        {
          "output_type": "execute_result",
          "data": {
            "text/plain": [
              "        user_id  age   is_male\n",
              "0             6    2  0.330467\n",
              "1            11    5  0.725477\n",
              "2            19    1  0.240190\n",
              "3            27    2  0.536798\n",
              "4            32    3  0.471325\n",
              "...         ...  ...       ...\n",
              "144719   161841    3  0.526730\n",
              "144720   179608    3  0.314178\n",
              "144721   378281    3  0.995775\n",
              "144722   169278    1  0.089454\n",
              "144723   135060    2  0.174740\n",
              "\n",
              "[144724 rows x 3 columns]"
            ],
            "text/html": [
              "\n",
              "  <div id=\"df-d661def2-7ce5-4c97-9baf-f9bc4ed4cffa\">\n",
              "    <div class=\"colab-df-container\">\n",
              "      <div>\n",
              "<style scoped>\n",
              "    .dataframe tbody tr th:only-of-type {\n",
              "        vertical-align: middle;\n",
              "    }\n",
              "\n",
              "    .dataframe tbody tr th {\n",
              "        vertical-align: top;\n",
              "    }\n",
              "\n",
              "    .dataframe thead th {\n",
              "        text-align: right;\n",
              "    }\n",
              "</style>\n",
              "<table border=\"1\" class=\"dataframe\">\n",
              "  <thead>\n",
              "    <tr style=\"text-align: right;\">\n",
              "      <th></th>\n",
              "      <th>user_id</th>\n",
              "      <th>age</th>\n",
              "      <th>is_male</th>\n",
              "    </tr>\n",
              "  </thead>\n",
              "  <tbody>\n",
              "    <tr>\n",
              "      <th>0</th>\n",
              "      <td>6</td>\n",
              "      <td>2</td>\n",
              "      <td>0.330467</td>\n",
              "    </tr>\n",
              "    <tr>\n",
              "      <th>1</th>\n",
              "      <td>11</td>\n",
              "      <td>5</td>\n",
              "      <td>0.725477</td>\n",
              "    </tr>\n",
              "    <tr>\n",
              "      <th>2</th>\n",
              "      <td>19</td>\n",
              "      <td>1</td>\n",
              "      <td>0.240190</td>\n",
              "    </tr>\n",
              "    <tr>\n",
              "      <th>3</th>\n",
              "      <td>27</td>\n",
              "      <td>2</td>\n",
              "      <td>0.536798</td>\n",
              "    </tr>\n",
              "    <tr>\n",
              "      <th>4</th>\n",
              "      <td>32</td>\n",
              "      <td>3</td>\n",
              "      <td>0.471325</td>\n",
              "    </tr>\n",
              "    <tr>\n",
              "      <th>...</th>\n",
              "      <td>...</td>\n",
              "      <td>...</td>\n",
              "      <td>...</td>\n",
              "    </tr>\n",
              "    <tr>\n",
              "      <th>144719</th>\n",
              "      <td>161841</td>\n",
              "      <td>3</td>\n",
              "      <td>0.526730</td>\n",
              "    </tr>\n",
              "    <tr>\n",
              "      <th>144720</th>\n",
              "      <td>179608</td>\n",
              "      <td>3</td>\n",
              "      <td>0.314178</td>\n",
              "    </tr>\n",
              "    <tr>\n",
              "      <th>144721</th>\n",
              "      <td>378281</td>\n",
              "      <td>3</td>\n",
              "      <td>0.995775</td>\n",
              "    </tr>\n",
              "    <tr>\n",
              "      <th>144722</th>\n",
              "      <td>169278</td>\n",
              "      <td>1</td>\n",
              "      <td>0.089454</td>\n",
              "    </tr>\n",
              "    <tr>\n",
              "      <th>144723</th>\n",
              "      <td>135060</td>\n",
              "      <td>2</td>\n",
              "      <td>0.174740</td>\n",
              "    </tr>\n",
              "  </tbody>\n",
              "</table>\n",
              "<p>144724 rows × 3 columns</p>\n",
              "</div>\n",
              "      <button class=\"colab-df-convert\" onclick=\"convertToInteractive('df-d661def2-7ce5-4c97-9baf-f9bc4ed4cffa')\"\n",
              "              title=\"Convert this dataframe to an interactive table.\"\n",
              "              style=\"display:none;\">\n",
              "        \n",
              "  <svg xmlns=\"http://www.w3.org/2000/svg\" height=\"24px\"viewBox=\"0 0 24 24\"\n",
              "       width=\"24px\">\n",
              "    <path d=\"M0 0h24v24H0V0z\" fill=\"none\"/>\n",
              "    <path d=\"M18.56 5.44l.94 2.06.94-2.06 2.06-.94-2.06-.94-.94-2.06-.94 2.06-2.06.94zm-11 1L8.5 8.5l.94-2.06 2.06-.94-2.06-.94L8.5 2.5l-.94 2.06-2.06.94zm10 10l.94 2.06.94-2.06 2.06-.94-2.06-.94-.94-2.06-.94 2.06-2.06.94z\"/><path d=\"M17.41 7.96l-1.37-1.37c-.4-.4-.92-.59-1.43-.59-.52 0-1.04.2-1.43.59L10.3 9.45l-7.72 7.72c-.78.78-.78 2.05 0 2.83L4 21.41c.39.39.9.59 1.41.59.51 0 1.02-.2 1.41-.59l7.78-7.78 2.81-2.81c.8-.78.8-2.07 0-2.86zM5.41 20L4 18.59l7.72-7.72 1.47 1.35L5.41 20z\"/>\n",
              "  </svg>\n",
              "      </button>\n",
              "      \n",
              "  <style>\n",
              "    .colab-df-container {\n",
              "      display:flex;\n",
              "      flex-wrap:wrap;\n",
              "      gap: 12px;\n",
              "    }\n",
              "\n",
              "    .colab-df-convert {\n",
              "      background-color: #E8F0FE;\n",
              "      border: none;\n",
              "      border-radius: 50%;\n",
              "      cursor: pointer;\n",
              "      display: none;\n",
              "      fill: #1967D2;\n",
              "      height: 32px;\n",
              "      padding: 0 0 0 0;\n",
              "      width: 32px;\n",
              "    }\n",
              "\n",
              "    .colab-df-convert:hover {\n",
              "      background-color: #E2EBFA;\n",
              "      box-shadow: 0px 1px 2px rgba(60, 64, 67, 0.3), 0px 1px 3px 1px rgba(60, 64, 67, 0.15);\n",
              "      fill: #174EA6;\n",
              "    }\n",
              "\n",
              "    [theme=dark] .colab-df-convert {\n",
              "      background-color: #3B4455;\n",
              "      fill: #D2E3FC;\n",
              "    }\n",
              "\n",
              "    [theme=dark] .colab-df-convert:hover {\n",
              "      background-color: #434B5C;\n",
              "      box-shadow: 0px 1px 3px 1px rgba(0, 0, 0, 0.15);\n",
              "      filter: drop-shadow(0px 1px 2px rgba(0, 0, 0, 0.3));\n",
              "      fill: #FFFFFF;\n",
              "    }\n",
              "  </style>\n",
              "\n",
              "      <script>\n",
              "        const buttonEl =\n",
              "          document.querySelector('#df-d661def2-7ce5-4c97-9baf-f9bc4ed4cffa button.colab-df-convert');\n",
              "        buttonEl.style.display =\n",
              "          google.colab.kernel.accessAllowed ? 'block' : 'none';\n",
              "\n",
              "        async function convertToInteractive(key) {\n",
              "          const element = document.querySelector('#df-d661def2-7ce5-4c97-9baf-f9bc4ed4cffa');\n",
              "          const dataTable =\n",
              "            await google.colab.kernel.invokeFunction('convertToInteractive',\n",
              "                                                     [key], {});\n",
              "          if (!dataTable) return;\n",
              "\n",
              "          const docLinkHtml = 'Like what you see? Visit the ' +\n",
              "            '<a target=\"_blank\" href=https://colab.research.google.com/notebooks/data_table.ipynb>data table notebook</a>'\n",
              "            + ' to learn more about interactive tables.';\n",
              "          element.innerHTML = '';\n",
              "          dataTable['output_type'] = 'display_data';\n",
              "          await google.colab.output.renderOutput(dataTable, element);\n",
              "          const docLink = document.createElement('div');\n",
              "          docLink.innerHTML = docLinkHtml;\n",
              "          element.appendChild(docLink);\n",
              "        }\n",
              "      </script>\n",
              "    </div>\n",
              "  </div>\n",
              "  "
            ]
          },
          "metadata": {},
          "execution_count": 86
        }
      ]
    },
    {
      "cell_type": "markdown",
      "source": [
        "# 1.Загружаем в пандус кусок  и готовим для ML.\n",
        " Так как ОЗУ всего 12 Гигов и не хватает, то будем выдергивать нужные фичи по кускам, сохранять все на диск в csv и затем с диска снова подгружать.    \n",
        "\n",
        "  "
      ],
      "metadata": {
        "id": "JN7gGMxU-bYZ"
      }
    },
    {
      "cell_type": "markdown",
      "source": [
        "### 1.0. Условие на нужные урлы \n",
        " \n",
        "Оставим только урлы из списка Тимура,   \n",
        "Подгрузим submit    \n"
      ],
      "metadata": {
        "id": "mjFlY2ljTau_"
      }
    },
    {
      "cell_type": "code",
      "source": [
        "#оставляем урлы Тимура , это отсортированные топ 300 урл по реквестам, и руками выкинуты технические\n",
        "#timur_url_list = pd.read_excel(f'{LOCAL_DATA_PATH}{TIM_LIST}')\n",
        "#timur_url_list = timur_url_list[timur_url_list['url_host'] != 0]['Unnamed: 0'].values\n",
        "\n",
        "timur_url_list = pd.read_csv(f'{LOCAL_DATA_PATH}top_all_urls.csv')\n",
        "timur_url_list = timur_url_list.loc[:2333,'index'].values\n",
        "len(timur_url_list)\n",
        "#timur_url_list"
      ],
      "metadata": {
        "id": "pg91YiVXZihO",
        "colab": {
          "base_uri": "https://localhost:8080/"
        },
        "outputId": "46c823d9-4dd8-4412-ad44-a15780422cca"
      },
      "execution_count": null,
      "outputs": [
        {
          "output_type": "execute_result",
          "data": {
            "text/plain": [
              "2334"
            ]
          },
          "metadata": {},
          "execution_count": 7
        }
      ]
    },
    {
      "cell_type": "code",
      "source": [
        "#сабмиты и таргеты\n",
        "#сразу дропаем ненужный возраст из таргет\n",
        "id_for_target = pq.read_table(f'{LOCAL_DATA_PATH}/{TARGET_FILE}').to_pandas().query('age >=19 ') \n",
        "\n",
        "\n",
        "id_for_submit = pq.read_table(f'{LOCAL_DATA_PATH}/{SUBMISSION_FILE}').to_pandas() "
      ],
      "metadata": {
        "id": "wVHb5OhTLUGE"
      },
      "execution_count": null,
      "outputs": []
    },
    {
      "cell_type": "markdown",
      "source": [
        "## 1.1 Загружаем из паркета ЦИКЛОМ нужные фичи и обрабатываем кусок.\n",
        "Формируем часть дф готового к обработке, сохраняем на диск уже раздельно трайн и фо_сабмит выбокри. Все дял экономии памяти ОЗУ. Все разбивки  и сохраннеия все в цикле. Иначе финальный кусок не оббработать никак."
      ],
      "metadata": {
        "id": "C_hnsPbhCPSz"
      }
    },
    {
      "cell_type": "code",
      "source": [
        "part_list  = ['part-00000-aba60f69-2b63-4cc1-95ca-542598094698-c000.snappy.parquet',\n",
        "              'part-00001-aba60f69-2b63-4cc1-95ca-542598094698-c000.snappy.parquet',\n",
        "              'part-00002-aba60f69-2b63-4cc1-95ca-542598094698-c000.snappy.parquet',\n",
        "              'part-00003-aba60f69-2b63-4cc1-95ca-542598094698-c000.snappy.parquet',\n",
        "              'part-00004-aba60f69-2b63-4cc1-95ca-542598094698-c000.snappy.parquet',\n",
        "              'part-00005-aba60f69-2b63-4cc1-95ca-542598094698-c000.snappy.parquet',\n",
        "              'part-00006-aba60f69-2b63-4cc1-95ca-542598094698-c000.snappy.parquet',\n",
        "              'part-00007-aba60f69-2b63-4cc1-95ca-542598094698-c000.snappy.parquet',\n",
        "              'part-00008-aba60f69-2b63-4cc1-95ca-542598094698-c000.snappy.parquet',\n",
        "              'part-00009-aba60f69-2b63-4cc1-95ca-542598094698-c000.snappy.parquet',\n",
        "    \n",
        "]"
      ],
      "metadata": {
        "id": "qcyAvu5oCuWM"
      },
      "execution_count": null,
      "outputs": []
    },
    {
      "cell_type": "code",
      "source": [
        "#функция разбивки возраста по категориям\n",
        "def age_bucket(x):\n",
        "    return bisect.bisect_left([25,35,45,55,65], x)\n",
        "\n",
        "#my \n",
        "def age_bascket(x):\n",
        "  if x <= 25 :\n",
        "    return 1\n",
        "  elif 25 < x <= 35:\n",
        "    return 2\n",
        "  elif 35 < x <= 45:\n",
        "    return 3\n",
        "  elif 45 < x <= 55:\n",
        "    return 4\n",
        "  elif 55 < x <= 65:\n",
        "    return 5\n",
        "  return 6  \n",
        "#bisect.bisect_right([19,26,36,46,56,66], x) # вроде так надо пишут"
      ],
      "metadata": {
        "id": "1ATEGn288jq1"
      },
      "execution_count": 136,
      "outputs": []
    },
    {
      "cell_type": "code",
      "source": [
        "age_bascket(33)"
      ],
      "metadata": {
        "colab": {
          "base_uri": "https://localhost:8080/"
        },
        "id": "A4ThdP7RCnhq",
        "outputId": "1a26d7ea-ddb3-4b67-c240-bb3d59958f0b"
      },
      "execution_count": 141,
      "outputs": [
        {
          "output_type": "execute_result",
          "data": {
            "text/plain": [
              "2"
            ]
          },
          "metadata": {},
          "execution_count": 141
        }
      ]
    },
    {
      "cell_type": "code",
      "source": [
        "# цикл грузит из паркета нужные даные и отсеивает по топ урлам из списка\n",
        "for i in  range(1,10): #(len(part_list))\n",
        "  \n",
        "  #тут выбираем какие колонки из паркета грузим, можно через переменну определить\n",
        "  df = pq.read_table(f'{LOCAL_DATA_PATH}{part_list[i]}').select([\t'cpe_model_name',\t'url_host',\t\t'request_cnt',\t'part_of_day','user_id']).to_pandas()\n",
        "  \n",
        "  #контроль цикла, загрузка из паркета в память.\n",
        "  print ('part', i, 'load, shape = ',df.shape)\n",
        "  # для подсчета соко пропало user_id после обрезки по урлам\n",
        "  user_id_count = df['user_id'].nunique()\n",
        "  print ('part', i, 'до обрезки user_id = ', df['user_id'].nunique())\n",
        "\n",
        "  #обрезаем по урлам\n",
        "  df = df.query('url_host in @timur_url_list')\n",
        "  print ('part', i, 'load, shape = ',df.shape)\n",
        "  print ('part', i, 'после обрезки user_id уменьшилось на :',  user_id_count - df['user_id'].nunique())\n",
        "\n",
        "\n",
        "  # дф по урлам формируем\n",
        "  df_user_url = df.pivot_table(index='user_id', columns='url_host', values='request_cnt',aggfunc='count').reset_index()\n",
        "\n",
        "  # дф по времени суток\n",
        "  df_user_part_of_day = df.pivot_table(index='user_id', columns='part_of_day', values='request_cnt',aggfunc='count').reset_index()\n",
        "\n",
        "  #обезаем дф до состояния каждый юзер 1 строчка\n",
        "  df.drop(columns=['url_host', 'request_cnt', 'part_of_day'], inplace=True)\n",
        "  df.drop_duplicates(inplace=True)\n",
        "\n",
        "  #обьединяем все куски\n",
        "  df = df.merge(df_user_url, on='user_id')\n",
        "  df = df.merge(df_user_part_of_day, on='user_id')\n",
        "\n",
        "  #теперь разделяем \n",
        "  \n",
        "  df_train = df.merge(id_for_target,  on='user_id')\n",
        "  df_submit = df.merge(id_for_submit, on='user_id')\n",
        "\n",
        "  #дропаем возраст <19  сразу тут из  трайн (убирается в merge)\n",
        "  #df_train = df_train[df_train['age'] >=19] \n",
        "  \n",
        "  #категоризируем возраст\n",
        "  df_train['age'] = df_train['age'].map(age_bucket)\n",
        "  \n",
        "  #сохраняем на диск  подготовленные файлы\n",
        "  #train  не нужен\n",
        "  #df_train.to_feather(f'{LOCAL_DATA_PATH}train_part_{i}.feather', index = False)\n",
        "  df_submit.to_feather(f'{LOCAL_DATA_PATH}submit_part_{i}.feather', index = False)\n",
        "\n",
        "  # все заранее разбиваем, т к потом не хватает ОЗУ общий файл обрабатывать\n",
        "  \n",
        "  # сохраняем фичи и таргет для age\n",
        "  df_train.drop(['user_id', 'age', 'is_male'], axis = 1).to_feather(f'{LOCAL_DATA_PATH}train_feat_age_part_{i}.feather', index = False)\n",
        "  df_train['age'].to_feather(f'{LOCAL_DATA_PATH}train_target_age_part_{i}.feather', index = False)\n",
        "    \n",
        "\n",
        "  # сохраняем фичи и таргет для is_male\n",
        "  #дропаем перед ML по полу, заранее нельзя, тк  там много данных по возрасту\n",
        "  df_train = df_train[df_train['is_male'] != 'NA']\n",
        "\n",
        "  df_train.drop(['user_id', 'age', 'is_male'], axis = 1).to_feather(f'{LOCAL_DATA_PATH}train_feat_is_male_part_{i}.feather', index = False)\n",
        "  df_train['is_male'].to_feather(f'{LOCAL_DATA_PATH}train_target_is_male_part_{i}.feather', index = False)\n",
        "\n",
        "\n",
        "  #итого сохраняется файл сабмита + общий_трайн + фич+таргет_age + фич+таргет_is_male = 6шт\n",
        "  # все нужно для анализа\n",
        "\n",
        "  print ('part' , i , 'saved on disc')"
      ],
      "metadata": {
        "id": "-cifsYJ6-ajK",
        "colab": {
          "base_uri": "https://localhost:8080/"
        },
        "outputId": "3624e215-8cb8-4367-fd47-0cc7e612c530"
      },
      "execution_count": null,
      "outputs": [
        {
          "output_type": "stream",
          "name": "stdout",
          "text": [
            "part 1 load, shape =  (32423119, 5)\n",
            "part 1 до обрезки user_id =  41570\n",
            "part 1 load, shape =  (31785066, 5)\n",
            "part 1 после обрезки user_id уменьшилось на : 1\n",
            "part 1 saved on disc\n",
            "part 2 load, shape =  (32146620, 5)\n",
            "part 2 до обрезки user_id =  41335\n",
            "part 2 load, shape =  (31518890, 5)\n",
            "part 2 после обрезки user_id уменьшилось на : 1\n",
            "part 2 saved on disc\n",
            "part 3 load, shape =  (32156858, 5)\n",
            "part 3 до обрезки user_id =  41640\n",
            "part 3 load, shape =  (31534833, 5)\n",
            "part 3 после обрезки user_id уменьшилось на : 3\n",
            "part 3 saved on disc\n",
            "part 4 load, shape =  (32119163, 5)\n",
            "part 4 до обрезки user_id =  41286\n",
            "part 4 load, shape =  (31500819, 5)\n",
            "part 4 после обрезки user_id уменьшилось на : 1\n",
            "part 4 saved on disc\n",
            "part 5 load, shape =  (32300908, 5)\n",
            "part 5 до обрезки user_id =  41577\n",
            "part 5 load, shape =  (31678027, 5)\n",
            "part 5 после обрезки user_id уменьшилось на : 1\n",
            "part 5 saved on disc\n",
            "part 6 load, shape =  (32134423, 5)\n",
            "part 6 до обрезки user_id =  41461\n",
            "part 6 load, shape =  (31506352, 5)\n",
            "part 6 после обрезки user_id уменьшилось на : 2\n",
            "part 6 saved on disc\n",
            "part 7 load, shape =  (32523675, 5)\n",
            "part 7 до обрезки user_id =  41612\n",
            "part 7 load, shape =  (31872843, 5)\n",
            "part 7 после обрезки user_id уменьшилось на : 1\n",
            "part 7 saved on disc\n",
            "part 8 load, shape =  (32136680, 5)\n",
            "part 8 до обрезки user_id =  41683\n",
            "part 8 load, shape =  (31520448, 5)\n",
            "part 8 после обрезки user_id уменьшилось на : 1\n",
            "part 8 saved on disc\n",
            "part 9 load, shape =  (32319280, 5)\n",
            "part 9 до обрезки user_id =  41559\n",
            "part 9 load, shape =  (31681848, 5)\n",
            "part 9 после обрезки user_id уменьшилось на : 0\n",
            "part 9 saved on disc\n"
          ]
        }
      ]
    },
    {
      "cell_type": "code",
      "source": [
        "print (df_train.shape[0] + df_submit.shape[0] )\n",
        "print (df_train.shape)\n",
        "print (df_submit.shape)"
      ],
      "metadata": {
        "colab": {
          "base_uri": "https://localhost:8080/"
        },
        "id": "I6ptSrXKRBEu",
        "outputId": "67fc896e-ea95-485b-ba1b-4fe9972aa2af"
      },
      "execution_count": null,
      "outputs": [
        {
          "output_type": "stream",
          "name": "stdout",
          "text": [
            "41520\n",
            "(27057, 2341)\n",
            "(14463, 2339)\n"
          ]
        }
      ]
    },
    {
      "cell_type": "markdown",
      "source": [
        "### Ручная загрузка"
      ],
      "metadata": {
        "id": "IJiqawAZJVDq"
      }
    },
    {
      "cell_type": "code",
      "source": [
        "df = pq.read_table(f'{LOCAL_DATA_PATH}part-00000-aba60f69-2b63-4cc1-95ca-542598094698-c000.snappy.parquet').\\\n",
        "select([\t'cpe_model_name',\t'url_host',\t\t'request_cnt',\t'part_of_day','user_id']).to_pandas()"
      ],
      "metadata": {
        "id": "nBYX25Qh7Z-v"
      },
      "execution_count": null,
      "outputs": []
    },
    {
      "cell_type": "code",
      "source": [
        "# сохраняемся )) в паркет т к нет уже места на диске гугла для csv\n",
        "df.to_parquet(f'{LOCAL_DATA_PATH}part_all.parquet')"
      ],
      "metadata": {
        "id": "D_93WAw8JGad"
      },
      "execution_count": null,
      "outputs": []
    },
    {
      "cell_type": "markdown",
      "source": [
        "### 1.3. Готовим дф по урлам.\n",
        "Групипруем  по юзверям, предварительно подгрузив файл\n"
      ],
      "metadata": {
        "id": "m8hRng5zhsIk"
      }
    },
    {
      "cell_type": "code",
      "source": [
        "#тут уже не хваатет оперативы..\n",
        "#df = pq.read_table(f'{LOCAL_DATA_PATH}part_all.parquet').to_pandas()"
      ],
      "metadata": {
        "id": "kRnGSUVCNwV7"
      },
      "execution_count": null,
      "outputs": []
    },
    {
      "cell_type": "code",
      "source": [
        "df_user_url = df.pivot_table(index='user_id', columns='url_host', values='request_cnt',aggfunc='count').reset_index()"
      ],
      "metadata": {
        "id": "hGBcz_hNh_mz"
      },
      "execution_count": null,
      "outputs": []
    },
    {
      "cell_type": "code",
      "source": [
        "df_user_url .shape"
      ],
      "metadata": {
        "colab": {
          "base_uri": "https://localhost:8080/"
        },
        "id": "BPRlYoESh_7U",
        "outputId": "3b0120c4-ee5a-49e8-e59a-c0cba7620b98"
      },
      "execution_count": null,
      "outputs": [
        {
          "output_type": "execute_result",
          "data": {
            "text/plain": [
              "(41591, 2001)"
            ]
          },
          "metadata": {},
          "execution_count": 38
        }
      ]
    },
    {
      "cell_type": "code",
      "source": [
        "#df_user_url.info()"
      ],
      "metadata": {
        "id": "lRIkkd1qiAP7"
      },
      "execution_count": null,
      "outputs": []
    },
    {
      "cell_type": "markdown",
      "source": [
        "### 1.3 Готовим дф по  колву реквестов во время суток  "
      ],
      "metadata": {
        "id": "e8t-3Q3rabRu"
      }
    },
    {
      "cell_type": "code",
      "source": [
        "df_user_part_of_day = df.pivot_table(index='user_id', columns='part_of_day', values='request_cnt',aggfunc='count').reset_index()"
      ],
      "metadata": {
        "id": "lb3dl_NCamvp"
      },
      "execution_count": null,
      "outputs": []
    },
    {
      "cell_type": "code",
      "source": [
        "#df_user_part_of_day.info()"
      ],
      "metadata": {
        "id": "-vsAoGGuanK6"
      },
      "execution_count": null,
      "outputs": []
    },
    {
      "cell_type": "markdown",
      "source": [
        "### 1.4. Обрезаем исходны дф   \n",
        "для каждого юзера - одна строчка, выкидываем все колонки и дропаем дубликаты.   \n",
        "наверное проще есть способ.   \n",
        "Под дроп :    'url_host', 'request_cnt', 'part_of_day'"
      ],
      "metadata": {
        "id": "-2BfVw7ziAnn"
      }
    },
    {
      "cell_type": "code",
      "source": [
        "df.drop(columns=['url_host', 'request_cnt', 'part_of_day'], inplace=True)"
      ],
      "metadata": {
        "id": "LBzXmRXriu2g"
      },
      "execution_count": null,
      "outputs": []
    },
    {
      "cell_type": "code",
      "source": [
        "df.drop_duplicates(inplace=True)"
      ],
      "metadata": {
        "id": "I9K4jX1djq2I"
      },
      "execution_count": null,
      "outputs": []
    },
    {
      "cell_type": "code",
      "source": [
        "#df.head()"
      ],
      "metadata": {
        "id": "dDljGzFNjclj"
      },
      "execution_count": null,
      "outputs": []
    },
    {
      "cell_type": "code",
      "source": [
        "df.shape"
      ],
      "metadata": {
        "colab": {
          "base_uri": "https://localhost:8080/"
        },
        "id": "b0pFtfeG1Fki",
        "outputId": "dcdd0d44-1969-4f1e-bb17-5bfe19552262"
      },
      "execution_count": null,
      "outputs": [
        {
          "output_type": "execute_result",
          "data": {
            "text/plain": [
              "(41591, 2)"
            ]
          },
          "metadata": {},
          "execution_count": 42
        }
      ]
    },
    {
      "cell_type": "markdown",
      "source": [
        "### 1.5. Объединям три дф.   \n",
        "Обрезки исходного + по урлам + по часть суток.   \n",
        "Получили вообще небольшой дф около 50 мб"
      ],
      "metadata": {
        "id": "YqZQMNUPj0Ps"
      }
    },
    {
      "cell_type": "code",
      "source": [
        "# проверим размерности\n",
        "print(df.shape)\n",
        "print(df_user_url.shape)\n",
        "print(df_user_part_of_day.shape)"
      ],
      "metadata": {
        "colab": {
          "base_uri": "https://localhost:8080/"
        },
        "id": "Mkl3pikqkGMt",
        "outputId": "d451e5a4-c16b-4f28-d62b-f804fc5bff49"
      },
      "execution_count": null,
      "outputs": [
        {
          "output_type": "stream",
          "name": "stdout",
          "text": [
            "(41591, 2)\n",
            "(41591, 2001)\n",
            "(41591, 5)\n"
          ]
        }
      ]
    },
    {
      "cell_type": "code",
      "source": [
        "df = df.merge(df_user_url, on='user_id')"
      ],
      "metadata": {
        "id": "6N1_P9ROkGnE"
      },
      "execution_count": null,
      "outputs": []
    },
    {
      "cell_type": "code",
      "source": [
        "df = df.merge(df_user_part_of_day, on='user_id')"
      ],
      "metadata": {
        "id": "KgAq_DMukG-t"
      },
      "execution_count": null,
      "outputs": []
    },
    {
      "cell_type": "code",
      "source": [
        "df.shape"
      ],
      "metadata": {
        "colab": {
          "base_uri": "https://localhost:8080/"
        },
        "id": "Pxt_r95okHYI",
        "outputId": "e04b0028-d9ae-4a19-c767-147aafdcb62f"
      },
      "execution_count": null,
      "outputs": [
        {
          "output_type": "execute_result",
          "data": {
            "text/plain": [
              "(41591, 2006)"
            ]
          },
          "metadata": {},
          "execution_count": 46
        }
      ]
    },
    {
      "cell_type": "markdown",
      "source": [
        "### 1.6. Сохранение куска на диск.   \n",
        "Получили кусок дф для ML, но тут только то что с таргетами..\n"
      ],
      "metadata": {
        "id": "P1iHUmpulurc"
      }
    },
    {
      "cell_type": "code",
      "source": [
        "#df.to_pickle(f'{LOCAL_DATA_PATH}/df_part_0.pkl')\n",
        "#df.to_pickle(f'{LOCAL_DATA_PATH}/df_part_1.pkl')\n",
        "#df.to_pickle(f'{LOCAL_DATA_PATH}/df_part_2.pkl')\n",
        "#df.to_pickle(f'{LOCAL_DATA_PATH}/df_part_3.pkl')\n",
        "#df.to_pickle(f'{LOCAL_DATA_PATH}/df_part_4.pkl')\n",
        "#df.to_pickle(f'{LOCAL_DATA_PATH}/df_part_5.pkl')\n",
        "#df.to_pickle(f'{LOCAL_DATA_PATH}/df_part_6.pkl')\n",
        "#df.to_pickle(f'{LOCAL_DATA_PATH}/df_part_7.pkl')\n",
        "#df.to_pickle(f'{LOCAL_DATA_PATH}/df_part_8.pkl')\n",
        "#df.to_pickle(f'{LOCAL_DATA_PATH}/df_part_9.pkl')"
      ],
      "metadata": {
        "id": "J_p75XU2mOyQ"
      },
      "execution_count": null,
      "outputs": []
    },
    {
      "cell_type": "markdown",
      "source": [
        "# 2.Склейка и сохранение  итогового файла. \n",
        "Тут уже файлы готовые , относительно не большие. сшиваются и сохр на диск,   хватает ОЗУ. "
      ],
      "metadata": {
        "id": "MzZ_-aEe0EMb"
      }
    },
    {
      "cell_type": "code",
      "source": [
        "pickle_list_train  = [\n",
        "    'train_part_0.csv',\n",
        "    'train_part_1.csv',\n",
        "    'train_part_2.csv',\n",
        "    'train_part_3.csv',\n",
        "    'train_part_4.csv',\n",
        "    'train_part_5.csv',\n",
        "    'train_part_6.csv',\n",
        "    'train_part_7.csv',\n",
        "    'train_part_8.csv',\n",
        "    'train_part_9.csv',\n",
        "     ]\n",
        "\n",
        "pickle_list_submit  = [\n",
        "    'submit_part_0.csv',\n",
        "    'submit_part_1.csv',\n",
        "    'submit_part_2.csv',\n",
        "    'submit_part_3.csv',\n",
        "    'submit_part_4.csv',\n",
        "    'submit_part_5.csv',\n",
        "    'submit_part_6.csv',\n",
        "    'submit_part_7.csv',\n",
        "    'submit_part_8.csv',\n",
        "    'submit_part_9.csv',\n",
        "     ]\n"
      ],
      "metadata": {
        "id": "Av_V3gFS0O8t"
      },
      "execution_count": 8,
      "outputs": []
    },
    {
      "cell_type": "code",
      "source": [
        "%%time\n",
        "#цикл склейки train общего\n",
        "#первый файл\n",
        "df = pd.read_csv(f'{LOCAL_DATA_PATH}{pickle_list_train[0]}')\n",
        "print (pickle_list_train[0],'shape', df.shape)\n",
        "\n",
        "\n",
        "for i in range (1,len(pickle_list_train)):\n",
        "  df_ = pd.read_csv(f'{LOCAL_DATA_PATH}{pickle_list_train[i]}')\n",
        "       \n",
        "  #сшиваем\n",
        "  df = pd.concat([df, df_], ignore_index=True)\n",
        "  #контролль цикла\n",
        "  print (pickle_list_train[i],'shape', df_.shape)\n",
        "  print ('Суммарное df.shape',df.shape)\n",
        "\n",
        "\n",
        "# сохранение\n",
        "# pickle быстрее сохраняет( раз в 5-6) и читает, но  больше размером на диске в 6-7  раз\n",
        "#df.to_csv(f'{LOCAL_DATA_PATH}/train_df_all_parts.csv')\n",
        "df.to_pickle(f'{LOCAL_DATA_PATH}/train_df_all_parts.pkl')\n",
        "print ('Итоговый файл сохранен на диск')"
      ],
      "metadata": {
        "colab": {
          "base_uri": "https://localhost:8080/"
        },
        "id": "ddwjgOe76D4D",
        "outputId": "a8336f55-9d7d-49a9-fc90-3dc29be3b3c1"
      },
      "execution_count": null,
      "outputs": [
        {
          "output_type": "stream",
          "name": "stdout",
          "text": [
            "train_part_0.csv shape (27175, 2341)\n",
            "train_part_1.csv shape (26935, 2341)\n",
            "Суммарное df.shape (54013, 2341)\n",
            "train_part_2.csv shape (26800, 2341)\n",
            "Суммарное df.shape (80813, 2341)\n",
            "train_part_3.csv shape (26899, 2341)\n",
            "Суммарное df.shape (107712, 2341)\n",
            "train_part_4.csv shape (26793, 2340)\n",
            "Суммарное df.shape (134505, 2341)\n",
            "train_part_5.csv shape (26961, 2341)\n",
            "Суммарное df.shape (161466, 2341)\n",
            "train_part_6.csv shape (26815, 2341)\n",
            "Суммарное df.shape (188281, 2341)\n",
            "train_part_7.csv shape (26838, 2341)\n",
            "Суммарное df.shape (215119, 2341)\n",
            "train_part_8.csv shape (26882, 2341)\n",
            "Суммарное df.shape (242001, 2341)\n",
            "train_part_9.csv shape (26908, 2341)\n",
            "Суммарное df.shape (268909, 2341)\n",
            "Итоговый файл сохранен на диск\n",
            "CPU times: user 1min 22s, sys: 15.4 s, total: 1min 37s\n",
            "Wall time: 2min 7s\n"
          ]
        }
      ]
    },
    {
      "cell_type": "markdown",
      "source": [
        "### цикл склейки submit"
      ],
      "metadata": {
        "id": "nH0I0DJ3N3bm"
      }
    },
    {
      "cell_type": "code",
      "source": [
        "%%time\n",
        "#цикл склейки submit\n",
        "#первый файл\n",
        "df = pd.read_csv(f'{LOCAL_DATA_PATH}{pickle_list_submit[0]}')\n",
        "print (pickle_list_submit[0],'shape', df.shape)\n",
        "\n",
        "for i in range (1,len(pickle_list_submit)):\n",
        "  df_ = pd.read_csv(f'{LOCAL_DATA_PATH}{pickle_list_submit[i]}')\n",
        "  df = pd.concat([df, df_], ignore_index=True)\n",
        "  #контролль цикла\n",
        "  print (pickle_list_submit[i],'shape', df_.shape)\n",
        "  #print ('Суммарное df.shape',df.shape)\n",
        "\n",
        "\n",
        "# сохранение \n",
        "#df.to_pickle(f'{LOCAL_DATA_PATH}/submit_df_all_parts.pkl')\n",
        "df.to_feather(f'{LOCAL_DATA_PATH}/submit_df_all_parts.feather')\n",
        "#df.to_csv(f'{LOCAL_DATA_PATH}/submit_df_all_parts.csv')\n",
        "print ('Итоговый файл сохранен на диск')"
      ],
      "metadata": {
        "colab": {
          "base_uri": "https://localhost:8080/"
        },
        "id": "AcdySNU_a49a",
        "outputId": "c7ee7e20-b8a4-438d-cd54-074ed5197812"
      },
      "execution_count": 9,
      "outputs": [
        {
          "output_type": "stream",
          "name": "stdout",
          "text": [
            "submit_part_0.csv shape (14368, 2339)\n",
            "submit_part_1.csv shape (14463, 2339)\n",
            "submit_part_2.csv shape (14366, 2339)\n",
            "submit_part_3.csv shape (14571, 2339)\n",
            "submit_part_4.csv shape (14315, 2338)\n",
            "submit_part_5.csv shape (14426, 2339)\n",
            "submit_part_6.csv shape (14485, 2339)\n",
            "submit_part_7.csv shape (14616, 2339)\n",
            "submit_part_8.csv shape (14623, 2339)\n",
            "submit_part_9.csv shape (14490, 2339)\n",
            "Итоговый файл сохранен на диск\n",
            "CPU times: user 44.3 s, sys: 5.32 s, total: 49.6 s\n",
            "Wall time: 54.1 s\n"
          ]
        }
      ]
    },
    {
      "cell_type": "code",
      "source": [
        "list_train_feat_age  = [\n",
        "    'train_feat_age_part_0.csv',\n",
        "    'train_feat_age_part_1.csv',\n",
        "    'train_feat_age_part_2.csv',\n",
        "    'train_feat_age_part_3.csv',\n",
        "    'train_feat_age_part_4.csv',\n",
        "    'train_feat_age_part_5.csv',\n",
        "    'train_feat_age_part_6.csv',\n",
        "    'train_feat_age_part_7.csv',\n",
        "    'train_feat_age_part_8.csv',\n",
        "    'train_feat_age_part_9.csv',\n",
        "     ]\n",
        "\n",
        "list_train_target_age  = [\n",
        "    'train_target_age_part_0.csv',\n",
        "    'train_target_age_part_1.csv',\n",
        "    'train_target_age_part_2.csv',\n",
        "    'train_target_age_part_3.csv',\n",
        "    'train_target_age_part_4.csv',\n",
        "    'train_target_age_part_5.csv',\n",
        "    'train_target_age_part_6.csv',\n",
        "    'train_target_age_part_7.csv',\n",
        "    'train_target_age_part_8.csv',\n",
        "    'train_target_age_part_9.csv',\n",
        "     ]\n",
        "list_train_feat_is_male  = [\n",
        "    'train_feat_is_male_part_0.csv',\n",
        "    'train_feat_is_male_part_1.csv',\n",
        "    'train_feat_is_male_part_2.csv',\n",
        "    'train_feat_is_male_part_3.csv',\n",
        "    'train_feat_is_male_part_4.csv',\n",
        "    'train_feat_is_male_part_5.csv',\n",
        "    'train_feat_is_male_part_6.csv',\n",
        "    'train_feat_is_male_part_7.csv',\n",
        "    'train_feat_is_male_part_8.csv',\n",
        "    'train_feat_is_male_part_9.csv',\n",
        "     ]\n",
        "\n",
        "list_train_target_is_male  = [\n",
        "    'train_target_is_male_part_0.csv',\n",
        "    'train_target_is_male_part_1.csv',\n",
        "    'train_target_is_male_part_2.csv',\n",
        "    'train_target_is_male_part_3.csv',\n",
        "    'train_target_is_male_part_4.csv',\n",
        "    'train_target_is_male_part_5.csv',\n",
        "    'train_target_is_male_part_6.csv',\n",
        "    'train_target_is_male_part_7.csv',\n",
        "    'train_target_is_male_part_8.csv',\n",
        "    'train_target_is_male_part_9.csv',\n",
        "     ]"
      ],
      "metadata": {
        "id": "KTJCW4DaE_la"
      },
      "execution_count": 6,
      "outputs": []
    },
    {
      "cell_type": "markdown",
      "source": [
        "### цикл склейки age"
      ],
      "metadata": {
        "id": "3GGjdeTONd1G"
      }
    },
    {
      "cell_type": "code",
      "source": [
        "%%time\n",
        "#цикл склейки train_feat_age\n",
        "#первый файл\n",
        "df = pd.read_csv(f'{LOCAL_DATA_PATH}{list_train_feat_age[0]}')\n",
        "print (list_train_feat_age[0],'shape', df.shape)\n",
        "\n",
        "\n",
        "for i in range (1,len(pickle_list_train)):\n",
        "  df_ = pd.read_csv(f'{LOCAL_DATA_PATH}{list_train_feat_age[i]}')\n",
        "       \n",
        "  #сшиваем\n",
        "  df = pd.concat([df, df_], ignore_index=True)\n",
        "  #контролль цикла\n",
        "  print (list_train_feat_age[i],'shape', df_.shape)\n",
        "  #print ('Суммарное df.shape',df.shape)\n",
        "\n",
        "\n",
        "# сохранение\n",
        "df.to_csv(f'{LOCAL_DATA_PATH}/train_df_all_parts.csv')\n",
        "#df.to_pickle(f'{LOCAL_DATA_PATH}/train_feat_age_df_all_parts.pkl')\n",
        "print ('Итоговый файл сохранен на диск')\n",
        "\n",
        "\n",
        "\n",
        "#цикл склейки train_target_age\n",
        "#первый файл\n",
        "df = pd.read_csv(f'{LOCAL_DATA_PATH}{list_train_target_age[0]}')\n",
        "print (list_train_target_age[0],'shape', df.shape)\n",
        "\n",
        "\n",
        "for i in range (1,len(pickle_list_train)):\n",
        "  df_ = pd.read_csv(f'{LOCAL_DATA_PATH}{list_train_target_age[i]}')\n",
        "       \n",
        "  #сшиваем\n",
        "  df = pd.concat([df, df_], ignore_index=True)\n",
        "  #контролль цикла\n",
        "  print (list_train_target_age[i],'shape', df_.shape)\n",
        "  #print ('Суммарное df.shape',df.shape)\n",
        "\n",
        "\n",
        "# сохранение\n",
        "# pickle быстрее сохраняет( раз в 5-6) и читает, но  больше размером на диске в 6-7  раз\n",
        "#df.to_csv(f'{LOCAL_DATA_PATH}/train_df_all_parts.csv')\n",
        "#df.to_pickle(f'{LOCAL_DATA_PATH}/train_target_age_df_all_parts.pkl')\n",
        "df.to_feather(f'{LOCAL_DATA_PATH}/train_target_age_df_all_parts.feather')\n",
        "\n",
        "print ('Итоговый файл  train_target_age_df_all_parts сохранен на диск')\n"
      ],
      "metadata": {
        "id": "PSzrMLbX0O_3",
        "colab": {
          "base_uri": "https://localhost:8080/"
        },
        "outputId": "040ab0b9-1d33-42a8-b50d-e9f2b131d061"
      },
      "execution_count": null,
      "outputs": [
        {
          "output_type": "stream",
          "name": "stdout",
          "text": [
            "train_feat_age_part_0.csv shape (27078, 2338)\n",
            "train_feat_age_part_1.csv shape (26935, 2338)\n",
            "train_feat_age_part_2.csv shape (26800, 2338)\n",
            "train_feat_age_part_3.csv shape (26899, 2338)\n",
            "train_feat_age_part_4.csv shape (26793, 2337)\n",
            "train_feat_age_part_5.csv shape (26961, 2338)\n",
            "train_feat_age_part_6.csv shape (26815, 2338)\n",
            "train_feat_age_part_7.csv shape (26838, 2338)\n",
            "train_feat_age_part_8.csv shape (26882, 2338)\n",
            "train_feat_age_part_9.csv shape (26908, 2338)\n",
            "Итоговый файл сохранен на диск\n",
            "train_target_age_part_0.csv shape (27078, 1)\n",
            "train_target_age_part_1.csv shape (26935, 1)\n",
            "Суммарное df.shape (54013, 1)\n",
            "train_target_age_part_2.csv shape (26800, 1)\n",
            "Суммарное df.shape (80813, 1)\n",
            "train_target_age_part_3.csv shape (26899, 1)\n",
            "Суммарное df.shape (107712, 1)\n",
            "train_target_age_part_4.csv shape (26793, 1)\n",
            "Суммарное df.shape (134505, 1)\n",
            "train_target_age_part_5.csv shape (26961, 1)\n",
            "Суммарное df.shape (161466, 1)\n",
            "train_target_age_part_6.csv shape (26815, 1)\n",
            "Суммарное df.shape (188281, 1)\n",
            "train_target_age_part_7.csv shape (26838, 1)\n",
            "Суммарное df.shape (215119, 1)\n",
            "train_target_age_part_8.csv shape (26882, 1)\n",
            "Суммарное df.shape (242001, 1)\n",
            "train_target_age_part_9.csv shape (26908, 1)\n",
            "Суммарное df.shape (268909, 1)\n",
            "Итоговый файл сохранен на диск\n",
            "CPU times: user 1min 16s, sys: 13.3 s, total: 1min 30s\n",
            "Wall time: 1min 54s\n"
          ]
        }
      ]
    },
    {
      "cell_type": "markdown",
      "source": [
        "### цикл склейки is_male"
      ],
      "metadata": {
        "id": "dOLcxJslPel_"
      }
    },
    {
      "cell_type": "code",
      "source": [
        "%%time\n",
        "#цикл склейки train_feat_is_male\n",
        "#первый файл\n",
        "df = pd.read_csv(f'{LOCAL_DATA_PATH}{list_train_feat_is_male[0]}')\n",
        "print (list_train_feat_is_male[0],'shape', df.shape)\n",
        "\n",
        "\n",
        "for i in range (1,len(list_train_feat_is_male)):\n",
        "  df_ = pd.read_csv(f'{LOCAL_DATA_PATH}{list_train_feat_is_male[i]}')\n",
        "       \n",
        "  #сшиваем\n",
        "  df = pd.concat([df, df_], ignore_index=True)\n",
        "  #контролль цикла\n",
        "  print (list_train_feat_is_male[i],'shape', df_.shape)\n",
        "  #print ('Суммарное df.shape',df.shape)\n",
        "\n",
        "\n",
        "# сохранение\n",
        "# pickle быстрее сохраняет( раз в 5-6) и читает, но  больше размером на диске в 6-7  раз\n",
        "#df.to_csv(f'{LOCAL_DATA_PATH}/train_df_all_parts.csv')\n",
        "#df.to_pickle(f'{LOCAL_DATA_PATH}/train_feat_is_male_df_all_parts.pkl')\n",
        "df.to_feather(f'{LOCAL_DATA_PATH}/train_feat_is_male_df_all_parts.feather')\n",
        "print ('Итоговый файл сохранен на диск')\n",
        "\n",
        "\n",
        "\n",
        "#цикл склейки train_target_is_male\n",
        "#первый файл\n",
        "df = pd.read_csv(f'{LOCAL_DATA_PATH}{list_train_target_is_male[0]}')\n",
        "print (list_train_target_is_male[0],'shape', df.shape)\n",
        "\n",
        "\n",
        "for i in range (1,len(list_train_target_is_male)):\n",
        "  df_ = pd.read_csv(f'{LOCAL_DATA_PATH}{list_train_target_is_male[i]}')\n",
        "       \n",
        "  #сшиваем\n",
        "  df = pd.concat([df, df_], ignore_index=True)\n",
        "  #контролль цикла\n",
        "  print (list_train_target_is_male[i],'shape', df_.shape)\n",
        "  #print ('Суммарное df.shape',df.shape)\n",
        "\n",
        "\n",
        "# сохранение\n",
        "# pickle быстрее сохраняет( раз в 5-6) и читает, но  больше размером на диске в 6-7  раз\n",
        "#df.to_csv(f'{LOCAL_DATA_PATH}/train_df_all_parts.csv')\n",
        "#df.to_pickle(f'{LOCAL_DATA_PATH}/train_target_is_male_df_all_parts.pkl')\n",
        "df.to_feather(f'{LOCAL_DATA_PATH}/train_target_is_male_df_all_parts.feather')\n",
        "\n",
        "print ('Итоговый файл  train_target_is_male_df_all_parts сохранен на диск')"
      ],
      "metadata": {
        "id": "Dkga_jVYIvf4",
        "colab": {
          "base_uri": "https://localhost:8080/"
        },
        "outputId": "f5b5e20e-543f-436b-e269-1a9d8bb71442"
      },
      "execution_count": 10,
      "outputs": [
        {
          "output_type": "stream",
          "name": "stdout",
          "text": [
            "train_feat_is_male_part_0.csv shape (26527, 2338)\n",
            "train_feat_is_male_part_1.csv shape (26393, 2338)\n",
            "train_feat_is_male_part_2.csv shape (26268, 2338)\n",
            "train_feat_is_male_part_3.csv shape (26336, 2338)\n",
            "train_feat_is_male_part_4.csv shape (26250, 2337)\n",
            "train_feat_is_male_part_5.csv shape (26409, 2338)\n",
            "train_feat_is_male_part_6.csv shape (26285, 2338)\n",
            "train_feat_is_male_part_7.csv shape (26355, 2338)\n",
            "train_feat_is_male_part_8.csv shape (26315, 2338)\n",
            "train_feat_is_male_part_9.csv shape (26358, 2338)\n",
            "Итоговый файл сохранен на диск\n",
            "train_target_is_male_part_0.csv shape (26527, 1)\n",
            "train_target_is_male_part_1.csv shape (26393, 1)\n",
            "train_target_is_male_part_2.csv shape (26268, 1)\n",
            "train_target_is_male_part_3.csv shape (26336, 1)\n",
            "train_target_is_male_part_4.csv shape (26250, 1)\n",
            "train_target_is_male_part_5.csv shape (26409, 1)\n",
            "train_target_is_male_part_6.csv shape (26285, 1)\n",
            "train_target_is_male_part_7.csv shape (26355, 1)\n",
            "train_target_is_male_part_8.csv shape (26315, 1)\n",
            "train_target_is_male_part_9.csv shape (26358, 1)\n",
            "Итоговый файл  train_target_is_male_df_all_parts сохранен на диск\n",
            "CPU times: user 55.2 s, sys: 11.1 s, total: 1min 6s\n",
            "Wall time: 1min 6s\n"
          ]
        }
      ]
    },
    {
      "cell_type": "code",
      "source": [
        "df.shape"
      ],
      "metadata": {
        "colab": {
          "base_uri": "https://localhost:8080/"
        },
        "id": "-Ll9zf1w79cj",
        "outputId": "012b7a43-8e75-47f9-d29f-6e0c19d25058"
      },
      "execution_count": null,
      "outputs": [
        {
          "output_type": "execute_result",
          "data": {
            "text/plain": [
              "(410594, 211)"
            ]
          },
          "metadata": {},
          "execution_count": 7
        }
      ]
    },
    {
      "cell_type": "markdown",
      "source": [
        "# tmp\n"
      ],
      "metadata": {
        "id": "etbRa8ls0X7B"
      }
    },
    {
      "cell_type": "markdown",
      "source": [
        "## открываем кусок данных полностью"
      ],
      "metadata": {
        "id": "kc0KVGh_g2jB"
      }
    },
    {
      "cell_type": "code",
      "source": [
        "df = pq.read_table(f'{LOCAL_DATA_PATH}part-00000-aba60f69-2b63-4cc1-95ca-542598094698-c000.snappy.parquet').\\\n",
        "select([\t'cpe_model_name',\t'url_host',\t\t'request_cnt',\t'part_of_day','user_id']).to_pandas()"
      ],
      "metadata": {
        "id": "jSJ6ABj5Fbmq"
      },
      "execution_count": null,
      "outputs": []
    },
    {
      "cell_type": "code",
      "source": [
        "df['user_id'].nunique()"
      ],
      "metadata": {
        "id": "l8ViRACSSLK0",
        "colab": {
          "base_uri": "https://localhost:8080/"
        },
        "outputId": "9840d55a-fca6-4852-f083-f1fd1d32807c"
      },
      "execution_count": null,
      "outputs": [
        {
          "output_type": "execute_result",
          "data": {
            "text/plain": [
              "41594"
            ]
          },
          "metadata": {},
          "execution_count": 34
        }
      ]
    },
    {
      "cell_type": "code",
      "source": [
        "df = df.query('url_host in @timur_url_list')"
      ],
      "metadata": {
        "id": "e6zOnJak8OiV"
      },
      "execution_count": null,
      "outputs": []
    },
    {
      "cell_type": "code",
      "source": [
        "df['user_id'].nunique()"
      ],
      "metadata": {
        "colab": {
          "base_uri": "https://localhost:8080/"
        },
        "id": "MBiLYpyR8Ok3",
        "outputId": "72cd2875-d73d-403c-b5a4-9377db5e6863"
      },
      "execution_count": null,
      "outputs": [
        {
          "output_type": "execute_result",
          "data": {
            "text/plain": [
              "41591"
            ]
          },
          "metadata": {},
          "execution_count": 36
        }
      ]
    },
    {
      "cell_type": "code",
      "source": [],
      "metadata": {
        "id": "K4nbA5Wx8OnX"
      },
      "execution_count": null,
      "outputs": []
    },
    {
      "cell_type": "code",
      "source": [],
      "metadata": {
        "id": "fqDahl4Y8Opx"
      },
      "execution_count": null,
      "outputs": []
    },
    {
      "cell_type": "code",
      "source": [],
      "metadata": {
        "id": "kJLASR8f8OsU"
      },
      "execution_count": null,
      "outputs": []
    },
    {
      "cell_type": "markdown",
      "source": [
        "## Посмотрим  по сколько строк на кажлм пльзователе.   \n",
        "чтобы выкинуть тех у кого мало и котрые не дадут инфы для МЛ.    \n",
        "тут я получил, что  чем больше возраст тем меньше на user_id строк с урлами, меньше кол-во среднего"
      ],
      "metadata": {
        "id": "iuiyJX_gxnZp"
      }
    },
    {
      "cell_type": "code",
      "source": [
        "df.pivot_table(index='user_id', values='request_cnt', aggfunc=('count')).reset_index()"
      ],
      "metadata": {
        "colab": {
          "base_uri": "https://localhost:8080/",
          "height": 424
        },
        "id": "pRZJ7TRKyplH",
        "outputId": "83eeb035-b350-49d8-cc6c-a20f50fec083"
      },
      "execution_count": null,
      "outputs": [
        {
          "output_type": "execute_result",
          "data": {
            "text/plain": [
              "       user_id  request_cnt\n",
              "0            4          591\n",
              "1           16         1231\n",
              "2           18         1125\n",
              "3           26         1018\n",
              "4           29         1458\n",
              "...        ...          ...\n",
              "27173   415227            4\n",
              "27174   415251            3\n",
              "27175   415266            3\n",
              "27176   415273            1\n",
              "27177   415277            5\n",
              "\n",
              "[27178 rows x 2 columns]"
            ],
            "text/html": [
              "\n",
              "  <div id=\"df-0410a18f-b311-46aa-93a0-6190fb245e82\">\n",
              "    <div class=\"colab-df-container\">\n",
              "      <div>\n",
              "<style scoped>\n",
              "    .dataframe tbody tr th:only-of-type {\n",
              "        vertical-align: middle;\n",
              "    }\n",
              "\n",
              "    .dataframe tbody tr th {\n",
              "        vertical-align: top;\n",
              "    }\n",
              "\n",
              "    .dataframe thead th {\n",
              "        text-align: right;\n",
              "    }\n",
              "</style>\n",
              "<table border=\"1\" class=\"dataframe\">\n",
              "  <thead>\n",
              "    <tr style=\"text-align: right;\">\n",
              "      <th></th>\n",
              "      <th>user_id</th>\n",
              "      <th>request_cnt</th>\n",
              "    </tr>\n",
              "  </thead>\n",
              "  <tbody>\n",
              "    <tr>\n",
              "      <th>0</th>\n",
              "      <td>4</td>\n",
              "      <td>591</td>\n",
              "    </tr>\n",
              "    <tr>\n",
              "      <th>1</th>\n",
              "      <td>16</td>\n",
              "      <td>1231</td>\n",
              "    </tr>\n",
              "    <tr>\n",
              "      <th>2</th>\n",
              "      <td>18</td>\n",
              "      <td>1125</td>\n",
              "    </tr>\n",
              "    <tr>\n",
              "      <th>3</th>\n",
              "      <td>26</td>\n",
              "      <td>1018</td>\n",
              "    </tr>\n",
              "    <tr>\n",
              "      <th>4</th>\n",
              "      <td>29</td>\n",
              "      <td>1458</td>\n",
              "    </tr>\n",
              "    <tr>\n",
              "      <th>...</th>\n",
              "      <td>...</td>\n",
              "      <td>...</td>\n",
              "    </tr>\n",
              "    <tr>\n",
              "      <th>27173</th>\n",
              "      <td>415227</td>\n",
              "      <td>4</td>\n",
              "    </tr>\n",
              "    <tr>\n",
              "      <th>27174</th>\n",
              "      <td>415251</td>\n",
              "      <td>3</td>\n",
              "    </tr>\n",
              "    <tr>\n",
              "      <th>27175</th>\n",
              "      <td>415266</td>\n",
              "      <td>3</td>\n",
              "    </tr>\n",
              "    <tr>\n",
              "      <th>27176</th>\n",
              "      <td>415273</td>\n",
              "      <td>1</td>\n",
              "    </tr>\n",
              "    <tr>\n",
              "      <th>27177</th>\n",
              "      <td>415277</td>\n",
              "      <td>5</td>\n",
              "    </tr>\n",
              "  </tbody>\n",
              "</table>\n",
              "<p>27178 rows × 2 columns</p>\n",
              "</div>\n",
              "      <button class=\"colab-df-convert\" onclick=\"convertToInteractive('df-0410a18f-b311-46aa-93a0-6190fb245e82')\"\n",
              "              title=\"Convert this dataframe to an interactive table.\"\n",
              "              style=\"display:none;\">\n",
              "        \n",
              "  <svg xmlns=\"http://www.w3.org/2000/svg\" height=\"24px\"viewBox=\"0 0 24 24\"\n",
              "       width=\"24px\">\n",
              "    <path d=\"M0 0h24v24H0V0z\" fill=\"none\"/>\n",
              "    <path d=\"M18.56 5.44l.94 2.06.94-2.06 2.06-.94-2.06-.94-.94-2.06-.94 2.06-2.06.94zm-11 1L8.5 8.5l.94-2.06 2.06-.94-2.06-.94L8.5 2.5l-.94 2.06-2.06.94zm10 10l.94 2.06.94-2.06 2.06-.94-2.06-.94-.94-2.06-.94 2.06-2.06.94z\"/><path d=\"M17.41 7.96l-1.37-1.37c-.4-.4-.92-.59-1.43-.59-.52 0-1.04.2-1.43.59L10.3 9.45l-7.72 7.72c-.78.78-.78 2.05 0 2.83L4 21.41c.39.39.9.59 1.41.59.51 0 1.02-.2 1.41-.59l7.78-7.78 2.81-2.81c.8-.78.8-2.07 0-2.86zM5.41 20L4 18.59l7.72-7.72 1.47 1.35L5.41 20z\"/>\n",
              "  </svg>\n",
              "      </button>\n",
              "      \n",
              "  <style>\n",
              "    .colab-df-container {\n",
              "      display:flex;\n",
              "      flex-wrap:wrap;\n",
              "      gap: 12px;\n",
              "    }\n",
              "\n",
              "    .colab-df-convert {\n",
              "      background-color: #E8F0FE;\n",
              "      border: none;\n",
              "      border-radius: 50%;\n",
              "      cursor: pointer;\n",
              "      display: none;\n",
              "      fill: #1967D2;\n",
              "      height: 32px;\n",
              "      padding: 0 0 0 0;\n",
              "      width: 32px;\n",
              "    }\n",
              "\n",
              "    .colab-df-convert:hover {\n",
              "      background-color: #E2EBFA;\n",
              "      box-shadow: 0px 1px 2px rgba(60, 64, 67, 0.3), 0px 1px 3px 1px rgba(60, 64, 67, 0.15);\n",
              "      fill: #174EA6;\n",
              "    }\n",
              "\n",
              "    [theme=dark] .colab-df-convert {\n",
              "      background-color: #3B4455;\n",
              "      fill: #D2E3FC;\n",
              "    }\n",
              "\n",
              "    [theme=dark] .colab-df-convert:hover {\n",
              "      background-color: #434B5C;\n",
              "      box-shadow: 0px 1px 3px 1px rgba(0, 0, 0, 0.15);\n",
              "      filter: drop-shadow(0px 1px 2px rgba(0, 0, 0, 0.3));\n",
              "      fill: #FFFFFF;\n",
              "    }\n",
              "  </style>\n",
              "\n",
              "      <script>\n",
              "        const buttonEl =\n",
              "          document.querySelector('#df-0410a18f-b311-46aa-93a0-6190fb245e82 button.colab-df-convert');\n",
              "        buttonEl.style.display =\n",
              "          google.colab.kernel.accessAllowed ? 'block' : 'none';\n",
              "\n",
              "        async function convertToInteractive(key) {\n",
              "          const element = document.querySelector('#df-0410a18f-b311-46aa-93a0-6190fb245e82');\n",
              "          const dataTable =\n",
              "            await google.colab.kernel.invokeFunction('convertToInteractive',\n",
              "                                                     [key], {});\n",
              "          if (!dataTable) return;\n",
              "\n",
              "          const docLinkHtml = 'Like what you see? Visit the ' +\n",
              "            '<a target=\"_blank\" href=https://colab.research.google.com/notebooks/data_table.ipynb>data table notebook</a>'\n",
              "            + ' to learn more about interactive tables.';\n",
              "          element.innerHTML = '';\n",
              "          dataTable['output_type'] = 'display_data';\n",
              "          await google.colab.output.renderOutput(dataTable, element);\n",
              "          const docLink = document.createElement('div');\n",
              "          docLink.innerHTML = docLinkHtml;\n",
              "          element.appendChild(docLink);\n",
              "        }\n",
              "      </script>\n",
              "    </div>\n",
              "  </div>\n",
              "  "
            ]
          },
          "metadata": {},
          "execution_count": 102
        }
      ]
    },
    {
      "cell_type": "code",
      "source": [],
      "metadata": {
        "colab": {
          "base_uri": "https://localhost:8080/",
          "height": 143
        },
        "id": "bueGmE100jZ8",
        "outputId": "56927653-7770-444f-e4dd-fc6c17bf5632"
      },
      "execution_count": null,
      "outputs": [
        {
          "output_type": "execute_result",
          "data": {
            "text/plain": [
              "   user_id  request_cnt\n",
              "0        4          591\n",
              "1       16         1231\n",
              "2       18         1125"
            ],
            "text/html": [
              "\n",
              "  <div id=\"df-ef733782-1a67-4c57-a0c9-935fa06e82a8\">\n",
              "    <div class=\"colab-df-container\">\n",
              "      <div>\n",
              "<style scoped>\n",
              "    .dataframe tbody tr th:only-of-type {\n",
              "        vertical-align: middle;\n",
              "    }\n",
              "\n",
              "    .dataframe tbody tr th {\n",
              "        vertical-align: top;\n",
              "    }\n",
              "\n",
              "    .dataframe thead th {\n",
              "        text-align: right;\n",
              "    }\n",
              "</style>\n",
              "<table border=\"1\" class=\"dataframe\">\n",
              "  <thead>\n",
              "    <tr style=\"text-align: right;\">\n",
              "      <th></th>\n",
              "      <th>user_id</th>\n",
              "      <th>request_cnt</th>\n",
              "    </tr>\n",
              "  </thead>\n",
              "  <tbody>\n",
              "    <tr>\n",
              "      <th>0</th>\n",
              "      <td>4</td>\n",
              "      <td>591</td>\n",
              "    </tr>\n",
              "    <tr>\n",
              "      <th>1</th>\n",
              "      <td>16</td>\n",
              "      <td>1231</td>\n",
              "    </tr>\n",
              "    <tr>\n",
              "      <th>2</th>\n",
              "      <td>18</td>\n",
              "      <td>1125</td>\n",
              "    </tr>\n",
              "  </tbody>\n",
              "</table>\n",
              "</div>\n",
              "      <button class=\"colab-df-convert\" onclick=\"convertToInteractive('df-ef733782-1a67-4c57-a0c9-935fa06e82a8')\"\n",
              "              title=\"Convert this dataframe to an interactive table.\"\n",
              "              style=\"display:none;\">\n",
              "        \n",
              "  <svg xmlns=\"http://www.w3.org/2000/svg\" height=\"24px\"viewBox=\"0 0 24 24\"\n",
              "       width=\"24px\">\n",
              "    <path d=\"M0 0h24v24H0V0z\" fill=\"none\"/>\n",
              "    <path d=\"M18.56 5.44l.94 2.06.94-2.06 2.06-.94-2.06-.94-.94-2.06-.94 2.06-2.06.94zm-11 1L8.5 8.5l.94-2.06 2.06-.94-2.06-.94L8.5 2.5l-.94 2.06-2.06.94zm10 10l.94 2.06.94-2.06 2.06-.94-2.06-.94-.94-2.06-.94 2.06-2.06.94z\"/><path d=\"M17.41 7.96l-1.37-1.37c-.4-.4-.92-.59-1.43-.59-.52 0-1.04.2-1.43.59L10.3 9.45l-7.72 7.72c-.78.78-.78 2.05 0 2.83L4 21.41c.39.39.9.59 1.41.59.51 0 1.02-.2 1.41-.59l7.78-7.78 2.81-2.81c.8-.78.8-2.07 0-2.86zM5.41 20L4 18.59l7.72-7.72 1.47 1.35L5.41 20z\"/>\n",
              "  </svg>\n",
              "      </button>\n",
              "      \n",
              "  <style>\n",
              "    .colab-df-container {\n",
              "      display:flex;\n",
              "      flex-wrap:wrap;\n",
              "      gap: 12px;\n",
              "    }\n",
              "\n",
              "    .colab-df-convert {\n",
              "      background-color: #E8F0FE;\n",
              "      border: none;\n",
              "      border-radius: 50%;\n",
              "      cursor: pointer;\n",
              "      display: none;\n",
              "      fill: #1967D2;\n",
              "      height: 32px;\n",
              "      padding: 0 0 0 0;\n",
              "      width: 32px;\n",
              "    }\n",
              "\n",
              "    .colab-df-convert:hover {\n",
              "      background-color: #E2EBFA;\n",
              "      box-shadow: 0px 1px 2px rgba(60, 64, 67, 0.3), 0px 1px 3px 1px rgba(60, 64, 67, 0.15);\n",
              "      fill: #174EA6;\n",
              "    }\n",
              "\n",
              "    [theme=dark] .colab-df-convert {\n",
              "      background-color: #3B4455;\n",
              "      fill: #D2E3FC;\n",
              "    }\n",
              "\n",
              "    [theme=dark] .colab-df-convert:hover {\n",
              "      background-color: #434B5C;\n",
              "      box-shadow: 0px 1px 3px 1px rgba(0, 0, 0, 0.15);\n",
              "      filter: drop-shadow(0px 1px 2px rgba(0, 0, 0, 0.3));\n",
              "      fill: #FFFFFF;\n",
              "    }\n",
              "  </style>\n",
              "\n",
              "      <script>\n",
              "        const buttonEl =\n",
              "          document.querySelector('#df-ef733782-1a67-4c57-a0c9-935fa06e82a8 button.colab-df-convert');\n",
              "        buttonEl.style.display =\n",
              "          google.colab.kernel.accessAllowed ? 'block' : 'none';\n",
              "\n",
              "        async function convertToInteractive(key) {\n",
              "          const element = document.querySelector('#df-ef733782-1a67-4c57-a0c9-935fa06e82a8');\n",
              "          const dataTable =\n",
              "            await google.colab.kernel.invokeFunction('convertToInteractive',\n",
              "                                                     [key], {});\n",
              "          if (!dataTable) return;\n",
              "\n",
              "          const docLinkHtml = 'Like what you see? Visit the ' +\n",
              "            '<a target=\"_blank\" href=https://colab.research.google.com/notebooks/data_table.ipynb>data table notebook</a>'\n",
              "            + ' to learn more about interactive tables.';\n",
              "          element.innerHTML = '';\n",
              "          dataTable['output_type'] = 'display_data';\n",
              "          await google.colab.output.renderOutput(dataTable, element);\n",
              "          const docLink = document.createElement('div');\n",
              "          docLink.innerHTML = docLinkHtml;\n",
              "          element.appendChild(docLink);\n",
              "        }\n",
              "      </script>\n",
              "    </div>\n",
              "  </div>\n",
              "  "
            ]
          },
          "metadata": {},
          "execution_count": 89
        }
      ]
    },
    {
      "cell_type": "code",
      "source": [
        "df_pivot['request_cnt'].describe()"
      ],
      "metadata": {
        "colab": {
          "base_uri": "https://localhost:8080/"
        },
        "id": "d3yMPSL00n3f",
        "outputId": "f5510a66-8c36-410e-eaa2-d4834ac45699"
      },
      "execution_count": null,
      "outputs": [
        {
          "output_type": "execute_result",
          "data": {
            "text/plain": [
              "count    27178.000000\n",
              "mean       786.966517\n",
              "std       1045.336455\n",
              "min          1.000000\n",
              "25%        106.000000\n",
              "50%        426.000000\n",
              "75%       1060.000000\n",
              "max      17481.000000\n",
              "Name: request_cnt, dtype: float64"
            ]
          },
          "metadata": {},
          "execution_count": 92
        }
      ]
    },
    {
      "cell_type": "markdown",
      "source": [
        "##Нужен список топ УРЛОВ"
      ],
      "metadata": {
        "id": "WPi2Y6yzxhAX"
      }
    },
    {
      "cell_type": "code",
      "source": [
        "df = pq.read_table(f'{LOCAL_DATA_PATH}part-00000-aba60f69-2b63-4cc1-95ca-542598094698-c000.snappy.parquet').\\\n",
        "select(['url_host','request_cnt']).to_pandas()"
      ],
      "metadata": {
        "id": "ZlpZx1rk8-QX"
      },
      "execution_count": null,
      "outputs": []
    },
    {
      "cell_type": "code",
      "source": [
        "df.info()"
      ],
      "metadata": {
        "colab": {
          "base_uri": "https://localhost:8080/"
        },
        "id": "Bq6qBvjR9EC5",
        "outputId": "a8a2abe0-119a-435d-e443-7b80dd2f56a6"
      },
      "execution_count": null,
      "outputs": [
        {
          "output_type": "stream",
          "name": "stdout",
          "text": [
            "<class 'pandas.core.frame.DataFrame'>\n",
            "RangeIndex: 32638709 entries, 0 to 32638708\n",
            "Data columns (total 2 columns):\n",
            " #   Column       Dtype \n",
            "---  ------       ----- \n",
            " 0   url_host     object\n",
            " 1   request_cnt  int64 \n",
            "dtypes: int64(1), object(1)\n",
            "memory usage: 498.0+ MB\n"
          ]
        }
      ]
    },
    {
      "cell_type": "code",
      "source": [],
      "metadata": {
        "id": "u8tS3xhB9EFb"
      },
      "execution_count": null,
      "outputs": []
    },
    {
      "cell_type": "code",
      "source": [
        "#всего урлов\n",
        "# цикл грузит из паркета ид\n",
        "df = pq.read_table(f'{LOCAL_DATA_PATH}{part_list[0]}').select(['url_host','request_cnt']).to_pandas()\n",
        "for i in  range(1,6):\n",
        "  df_ = pq.read_table(f'{LOCAL_DATA_PATH}{part_list[i]}').select(['url_host','request_cnt']).to_pandas()\n",
        "  #обрезаем\n",
        "  df = pd.concat([df, df_], ignore_index=True)\n",
        "  #контролль цикла\n",
        "  print ('df_,shape',df_.shape)\n",
        "  print ('df,shape',df.shape)\n"
      ],
      "metadata": {
        "id": "vs7r5HrJJrAv",
        "colab": {
          "base_uri": "https://localhost:8080/"
        },
        "outputId": "992366a1-a698-4919-acdd-d43079ce8499"
      },
      "execution_count": null,
      "outputs": [
        {
          "output_type": "stream",
          "name": "stdout",
          "text": [
            "df_,shape (32423119, 2)\n",
            "df,shape (65061828, 2)\n",
            "df_,shape (32146620, 2)\n",
            "df,shape (97208448, 2)\n",
            "df_,shape (32156858, 2)\n",
            "df,shape (129365306, 2)\n",
            "df_,shape (32119163, 2)\n",
            "df,shape (161484469, 2)\n",
            "df_,shape (32300908, 2)\n",
            "df,shape (193785377, 2)\n"
          ]
        }
      ]
    },
    {
      "cell_type": "code",
      "source": [
        "df['request_cnt'].max()"
      ],
      "metadata": {
        "colab": {
          "base_uri": "https://localhost:8080/"
        },
        "id": "AlVCh7UY-7ZX",
        "outputId": "a346aef0-8c05-41ba-b7c2-446c5d19ae48"
      },
      "execution_count": null,
      "outputs": [
        {
          "output_type": "execute_result",
          "data": {
            "text/plain": [
              "16"
            ]
          },
          "metadata": {},
          "execution_count": 15
        }
      ]
    },
    {
      "cell_type": "code",
      "source": [
        "df_urls = df['url_host'].value_counts().reset_index()#['url_host'].describe()"
      ],
      "metadata": {
        "id": "16296QEGyTEh"
      },
      "execution_count": null,
      "outputs": []
    },
    {
      "cell_type": "code",
      "source": [
        "df_urls"
      ],
      "metadata": {
        "colab": {
          "base_uri": "https://localhost:8080/",
          "height": 424
        },
        "id": "C-bso4T7APKg",
        "outputId": "8e72aece-1ddd-428f-8b07-5e6c40045a94"
      },
      "execution_count": null,
      "outputs": [
        {
          "output_type": "execute_result",
          "data": {
            "text/plain": [
              "                              index  url_host\n",
              "0       googleads.g.doubleclick.net  13198558\n",
              "1                         yandex.ru  11401766\n",
              "2                       i.ytimg.com  10145609\n",
              "3                            vk.com  10024484\n",
              "4            avatars.mds.yandex.net   9722654\n",
              "...                             ...       ...\n",
              "166605          ufa.livejournal.com         1\n",
              "166606                   usznval.ru         1\n",
              "166607               crazy-anapa.ru         1\n",
              "166608                    av.3dn.ru         1\n",
              "166609             kambala-hotel.ru         1\n",
              "\n",
              "[166610 rows x 2 columns]"
            ],
            "text/html": [
              "\n",
              "  <div id=\"df-d59a1afd-3e69-42d4-9808-09b5756a63f5\">\n",
              "    <div class=\"colab-df-container\">\n",
              "      <div>\n",
              "<style scoped>\n",
              "    .dataframe tbody tr th:only-of-type {\n",
              "        vertical-align: middle;\n",
              "    }\n",
              "\n",
              "    .dataframe tbody tr th {\n",
              "        vertical-align: top;\n",
              "    }\n",
              "\n",
              "    .dataframe thead th {\n",
              "        text-align: right;\n",
              "    }\n",
              "</style>\n",
              "<table border=\"1\" class=\"dataframe\">\n",
              "  <thead>\n",
              "    <tr style=\"text-align: right;\">\n",
              "      <th></th>\n",
              "      <th>index</th>\n",
              "      <th>url_host</th>\n",
              "    </tr>\n",
              "  </thead>\n",
              "  <tbody>\n",
              "    <tr>\n",
              "      <th>0</th>\n",
              "      <td>googleads.g.doubleclick.net</td>\n",
              "      <td>13198558</td>\n",
              "    </tr>\n",
              "    <tr>\n",
              "      <th>1</th>\n",
              "      <td>yandex.ru</td>\n",
              "      <td>11401766</td>\n",
              "    </tr>\n",
              "    <tr>\n",
              "      <th>2</th>\n",
              "      <td>i.ytimg.com</td>\n",
              "      <td>10145609</td>\n",
              "    </tr>\n",
              "    <tr>\n",
              "      <th>3</th>\n",
              "      <td>vk.com</td>\n",
              "      <td>10024484</td>\n",
              "    </tr>\n",
              "    <tr>\n",
              "      <th>4</th>\n",
              "      <td>avatars.mds.yandex.net</td>\n",
              "      <td>9722654</td>\n",
              "    </tr>\n",
              "    <tr>\n",
              "      <th>...</th>\n",
              "      <td>...</td>\n",
              "      <td>...</td>\n",
              "    </tr>\n",
              "    <tr>\n",
              "      <th>166605</th>\n",
              "      <td>ufa.livejournal.com</td>\n",
              "      <td>1</td>\n",
              "    </tr>\n",
              "    <tr>\n",
              "      <th>166606</th>\n",
              "      <td>usznval.ru</td>\n",
              "      <td>1</td>\n",
              "    </tr>\n",
              "    <tr>\n",
              "      <th>166607</th>\n",
              "      <td>crazy-anapa.ru</td>\n",
              "      <td>1</td>\n",
              "    </tr>\n",
              "    <tr>\n",
              "      <th>166608</th>\n",
              "      <td>av.3dn.ru</td>\n",
              "      <td>1</td>\n",
              "    </tr>\n",
              "    <tr>\n",
              "      <th>166609</th>\n",
              "      <td>kambala-hotel.ru</td>\n",
              "      <td>1</td>\n",
              "    </tr>\n",
              "  </tbody>\n",
              "</table>\n",
              "<p>166610 rows × 2 columns</p>\n",
              "</div>\n",
              "      <button class=\"colab-df-convert\" onclick=\"convertToInteractive('df-d59a1afd-3e69-42d4-9808-09b5756a63f5')\"\n",
              "              title=\"Convert this dataframe to an interactive table.\"\n",
              "              style=\"display:none;\">\n",
              "        \n",
              "  <svg xmlns=\"http://www.w3.org/2000/svg\" height=\"24px\"viewBox=\"0 0 24 24\"\n",
              "       width=\"24px\">\n",
              "    <path d=\"M0 0h24v24H0V0z\" fill=\"none\"/>\n",
              "    <path d=\"M18.56 5.44l.94 2.06.94-2.06 2.06-.94-2.06-.94-.94-2.06-.94 2.06-2.06.94zm-11 1L8.5 8.5l.94-2.06 2.06-.94-2.06-.94L8.5 2.5l-.94 2.06-2.06.94zm10 10l.94 2.06.94-2.06 2.06-.94-2.06-.94-.94-2.06-.94 2.06-2.06.94z\"/><path d=\"M17.41 7.96l-1.37-1.37c-.4-.4-.92-.59-1.43-.59-.52 0-1.04.2-1.43.59L10.3 9.45l-7.72 7.72c-.78.78-.78 2.05 0 2.83L4 21.41c.39.39.9.59 1.41.59.51 0 1.02-.2 1.41-.59l7.78-7.78 2.81-2.81c.8-.78.8-2.07 0-2.86zM5.41 20L4 18.59l7.72-7.72 1.47 1.35L5.41 20z\"/>\n",
              "  </svg>\n",
              "      </button>\n",
              "      \n",
              "  <style>\n",
              "    .colab-df-container {\n",
              "      display:flex;\n",
              "      flex-wrap:wrap;\n",
              "      gap: 12px;\n",
              "    }\n",
              "\n",
              "    .colab-df-convert {\n",
              "      background-color: #E8F0FE;\n",
              "      border: none;\n",
              "      border-radius: 50%;\n",
              "      cursor: pointer;\n",
              "      display: none;\n",
              "      fill: #1967D2;\n",
              "      height: 32px;\n",
              "      padding: 0 0 0 0;\n",
              "      width: 32px;\n",
              "    }\n",
              "\n",
              "    .colab-df-convert:hover {\n",
              "      background-color: #E2EBFA;\n",
              "      box-shadow: 0px 1px 2px rgba(60, 64, 67, 0.3), 0px 1px 3px 1px rgba(60, 64, 67, 0.15);\n",
              "      fill: #174EA6;\n",
              "    }\n",
              "\n",
              "    [theme=dark] .colab-df-convert {\n",
              "      background-color: #3B4455;\n",
              "      fill: #D2E3FC;\n",
              "    }\n",
              "\n",
              "    [theme=dark] .colab-df-convert:hover {\n",
              "      background-color: #434B5C;\n",
              "      box-shadow: 0px 1px 3px 1px rgba(0, 0, 0, 0.15);\n",
              "      filter: drop-shadow(0px 1px 2px rgba(0, 0, 0, 0.3));\n",
              "      fill: #FFFFFF;\n",
              "    }\n",
              "  </style>\n",
              "\n",
              "      <script>\n",
              "        const buttonEl =\n",
              "          document.querySelector('#df-d59a1afd-3e69-42d4-9808-09b5756a63f5 button.colab-df-convert');\n",
              "        buttonEl.style.display =\n",
              "          google.colab.kernel.accessAllowed ? 'block' : 'none';\n",
              "\n",
              "        async function convertToInteractive(key) {\n",
              "          const element = document.querySelector('#df-d59a1afd-3e69-42d4-9808-09b5756a63f5');\n",
              "          const dataTable =\n",
              "            await google.colab.kernel.invokeFunction('convertToInteractive',\n",
              "                                                     [key], {});\n",
              "          if (!dataTable) return;\n",
              "\n",
              "          const docLinkHtml = 'Like what you see? Visit the ' +\n",
              "            '<a target=\"_blank\" href=https://colab.research.google.com/notebooks/data_table.ipynb>data table notebook</a>'\n",
              "            + ' to learn more about interactive tables.';\n",
              "          element.innerHTML = '';\n",
              "          dataTable['output_type'] = 'display_data';\n",
              "          await google.colab.output.renderOutput(dataTable, element);\n",
              "          const docLink = document.createElement('div');\n",
              "          docLink.innerHTML = docLinkHtml;\n",
              "          element.appendChild(docLink);\n",
              "        }\n",
              "      </script>\n",
              "    </div>\n",
              "  </div>\n",
              "  "
            ]
          },
          "metadata": {},
          "execution_count": 29
        }
      ]
    },
    {
      "cell_type": "code",
      "source": [
        "#в список топ\n",
        "top_urls = set(df['url_host'].value_counts().head(2000).index)"
      ],
      "metadata": {
        "id": "h8HN0JziQJAg"
      },
      "execution_count": null,
      "outputs": []
    },
    {
      "cell_type": "code",
      "source": [
        "top_urls"
      ],
      "metadata": {
        "colab": {
          "base_uri": "https://localhost:8080/"
        },
        "id": "-TTEDssrpgAA",
        "outputId": "d89e5162-2e98-4ba2-d1d2-0c02d8d6121a"
      },
      "execution_count": null,
      "outputs": [
        {
          "output_type": "execute_result",
          "data": {
            "text/plain": [
              "Index(['googleads.g.doubleclick.net', 'yandex.ru', 'i.ytimg.com', 'vk.com',\n",
              "       'avatars.mds.yandex.net', 'ad.mail.ru', 'yastatic.net', 'apple.com',\n",
              "       'ads.adfox.ru', 'tpc.googlesyndication.com',\n",
              "       ...\n",
              "       'amic-ru.turbopages.org', 'qrcoder.ru', 'kino.rambler.ru',\n",
              "       'service-online.su', 'friday.ru', 'tgramsearch.com',\n",
              "       'bashinform-ru.turbopages.org', 'kogda-vykhodit.ru', 'snipp.ru',\n",
              "       'rutaxist.ru'],\n",
              "      dtype='object', length=2000)"
            ]
          },
          "metadata": {},
          "execution_count": 24
        }
      ]
    },
    {
      "cell_type": "code",
      "source": [
        "#cохраняем список топ урлов, чтобы тимур пометил не нужные\n",
        "df_urls.to_csv(f'{LOCAL_DATA_PATH}/top_all_urls.csv')"
      ],
      "metadata": {
        "id": "PihaphxzTn5I"
      },
      "execution_count": null,
      "outputs": []
    },
    {
      "cell_type": "code",
      "source": [
        "df_top_urls.info()\n"
      ],
      "metadata": {
        "colab": {
          "base_uri": "https://localhost:8080/"
        },
        "id": "EqSwmu-o5oEX",
        "outputId": "0cbae913-1727-447a-abb8-068f012f758e"
      },
      "execution_count": null,
      "outputs": [
        {
          "output_type": "stream",
          "name": "stdout",
          "text": [
            "<class 'pandas.core.frame.DataFrame'>\n",
            "Int64Index: 9636142 entries, 0 to 21388167\n",
            "Data columns (total 14 columns):\n",
            " #   Column                 Dtype  \n",
            "---  ------                 -----  \n",
            " 0   region_name            object \n",
            " 1   city_name              object \n",
            " 2   cpe_manufacturer_name  object \n",
            " 3   cpe_model_name         object \n",
            " 4   url_host               object \n",
            " 5   cpe_type_cd            object \n",
            " 6   cpe_model_os_type      object \n",
            " 7   price                  float64\n",
            " 8   date                   object \n",
            " 9   part_of_day            object \n",
            " 10  request_cnt            int64  \n",
            " 11  user_id                int64  \n",
            " 12  age                    float64\n",
            " 13  is_male                object \n",
            "dtypes: float64(2), int64(2), object(10)\n",
            "memory usage: 1.1+ GB\n"
          ]
        }
      ]
    },
    {
      "cell_type": "markdown",
      "source": [
        "## смотрим размерность дата сета где все user_id сгруппированы"
      ],
      "metadata": {
        "id": "5UfliHdg3bXy"
      }
    },
    {
      "cell_type": "code",
      "source": [],
      "metadata": {
        "id": "U5-lbpJKxmy0"
      },
      "execution_count": null,
      "outputs": []
    },
    {
      "cell_type": "code",
      "source": [],
      "metadata": {
        "id": "codx_yjjxva7"
      },
      "execution_count": null,
      "outputs": []
    },
    {
      "cell_type": "markdown",
      "source": [
        "## FeaturesEng  \\ Определяем нужны ли фичи\n",
        "Загрузим df с таргетами ,все кроме урлов. Урежем таблицу. Зупустим ML.\n"
      ],
      "metadata": {
        "id": "-Z1nlSBxCYbE"
      }
    },
    {
      "cell_type": "code",
      "source": [
        "df.drop(columns=['url_host','date', 'region_name','city_name', 'price','request_cnt','part_of_day','cpe_type_cd' ], inplace=True)  #'part_of_day',"
      ],
      "metadata": {
        "id": "WtA1OP3hDvnE"
      },
      "execution_count": null,
      "outputs": []
    },
    {
      "cell_type": "code",
      "source": [
        "df.drop(columns=['part_of_day'], inplace=True) #'url_host',"
      ],
      "metadata": {
        "id": "Nmyh21cUMr_W"
      },
      "execution_count": null,
      "outputs": []
    },
    {
      "cell_type": "code",
      "source": [
        "#df.drop(columns=['cpe_type_cd','cpe_model_name'], inplace=True)"
      ],
      "metadata": {
        "id": "-P4NYaxC8eaV"
      },
      "execution_count": null,
      "outputs": []
    },
    {
      "cell_type": "code",
      "source": [
        "#после удаления урлов у нас куча строк дубликатов\n",
        "df.drop_duplicates(inplace=True)"
      ],
      "metadata": {
        "id": "9pE8XjiaFOw2"
      },
      "execution_count": null,
      "outputs": []
    },
    {
      "cell_type": "code",
      "source": [
        "#выкидывыаем возраст меньше 19\n",
        "df = df[df['age'] >= 19]"
      ],
      "metadata": {
        "id": "Fu7NVmQJ1Q7E"
      },
      "execution_count": null,
      "outputs": []
    },
    {
      "cell_type": "code",
      "source": [
        "df.info()"
      ],
      "metadata": {
        "colab": {
          "base_uri": "https://localhost:8080/"
        },
        "id": "adS3wl1a1d8t",
        "outputId": "9c5e475b-7004-4753-b309-098ab121fc73"
      },
      "execution_count": null,
      "outputs": [
        {
          "output_type": "stream",
          "name": "stdout",
          "text": [
            "<class 'pandas.core.frame.DataFrame'>\n",
            "Int64Index: 27081 entries, 0 to 21385071\n",
            "Data columns (total 4 columns):\n",
            " #   Column          Non-Null Count  Dtype  \n",
            "---  ------          --------------  -----  \n",
            " 0   cpe_model_name  27081 non-null  object \n",
            " 1   user_id         27081 non-null  int64  \n",
            " 2   age             27081 non-null  float64\n",
            " 3   is_male         27081 non-null  object \n",
            "dtypes: float64(1), int64(1), object(2)\n",
            "memory usage: 1.0+ MB\n"
          ]
        }
      ]
    },
    {
      "cell_type": "code",
      "source": [
        "df.head(2)"
      ],
      "metadata": {
        "colab": {
          "base_uri": "https://localhost:8080/",
          "height": 112
        },
        "id": "IS1X9yjHFtyR",
        "outputId": "6c478625-b156-472b-9671-d48bc398208d"
      },
      "execution_count": null,
      "outputs": [
        {
          "output_type": "execute_result",
          "data": {
            "text/plain": [
              "     cpe_model_name  user_id   age is_male\n",
              "0       Galaxy S20+    79395  35.0       1\n",
              "1635    Poco X3 Pro    91294  35.0       1"
            ],
            "text/html": [
              "\n",
              "  <div id=\"df-674da5c6-e08c-4c90-839a-c7f2f55261b2\">\n",
              "    <div class=\"colab-df-container\">\n",
              "      <div>\n",
              "<style scoped>\n",
              "    .dataframe tbody tr th:only-of-type {\n",
              "        vertical-align: middle;\n",
              "    }\n",
              "\n",
              "    .dataframe tbody tr th {\n",
              "        vertical-align: top;\n",
              "    }\n",
              "\n",
              "    .dataframe thead th {\n",
              "        text-align: right;\n",
              "    }\n",
              "</style>\n",
              "<table border=\"1\" class=\"dataframe\">\n",
              "  <thead>\n",
              "    <tr style=\"text-align: right;\">\n",
              "      <th></th>\n",
              "      <th>cpe_model_name</th>\n",
              "      <th>user_id</th>\n",
              "      <th>age</th>\n",
              "      <th>is_male</th>\n",
              "    </tr>\n",
              "  </thead>\n",
              "  <tbody>\n",
              "    <tr>\n",
              "      <th>0</th>\n",
              "      <td>Galaxy S20+</td>\n",
              "      <td>79395</td>\n",
              "      <td>35.0</td>\n",
              "      <td>1</td>\n",
              "    </tr>\n",
              "    <tr>\n",
              "      <th>1635</th>\n",
              "      <td>Poco X3 Pro</td>\n",
              "      <td>91294</td>\n",
              "      <td>35.0</td>\n",
              "      <td>1</td>\n",
              "    </tr>\n",
              "  </tbody>\n",
              "</table>\n",
              "</div>\n",
              "      <button class=\"colab-df-convert\" onclick=\"convertToInteractive('df-674da5c6-e08c-4c90-839a-c7f2f55261b2')\"\n",
              "              title=\"Convert this dataframe to an interactive table.\"\n",
              "              style=\"display:none;\">\n",
              "        \n",
              "  <svg xmlns=\"http://www.w3.org/2000/svg\" height=\"24px\"viewBox=\"0 0 24 24\"\n",
              "       width=\"24px\">\n",
              "    <path d=\"M0 0h24v24H0V0z\" fill=\"none\"/>\n",
              "    <path d=\"M18.56 5.44l.94 2.06.94-2.06 2.06-.94-2.06-.94-.94-2.06-.94 2.06-2.06.94zm-11 1L8.5 8.5l.94-2.06 2.06-.94-2.06-.94L8.5 2.5l-.94 2.06-2.06.94zm10 10l.94 2.06.94-2.06 2.06-.94-2.06-.94-.94-2.06-.94 2.06-2.06.94z\"/><path d=\"M17.41 7.96l-1.37-1.37c-.4-.4-.92-.59-1.43-.59-.52 0-1.04.2-1.43.59L10.3 9.45l-7.72 7.72c-.78.78-.78 2.05 0 2.83L4 21.41c.39.39.9.59 1.41.59.51 0 1.02-.2 1.41-.59l7.78-7.78 2.81-2.81c.8-.78.8-2.07 0-2.86zM5.41 20L4 18.59l7.72-7.72 1.47 1.35L5.41 20z\"/>\n",
              "  </svg>\n",
              "      </button>\n",
              "      \n",
              "  <style>\n",
              "    .colab-df-container {\n",
              "      display:flex;\n",
              "      flex-wrap:wrap;\n",
              "      gap: 12px;\n",
              "    }\n",
              "\n",
              "    .colab-df-convert {\n",
              "      background-color: #E8F0FE;\n",
              "      border: none;\n",
              "      border-radius: 50%;\n",
              "      cursor: pointer;\n",
              "      display: none;\n",
              "      fill: #1967D2;\n",
              "      height: 32px;\n",
              "      padding: 0 0 0 0;\n",
              "      width: 32px;\n",
              "    }\n",
              "\n",
              "    .colab-df-convert:hover {\n",
              "      background-color: #E2EBFA;\n",
              "      box-shadow: 0px 1px 2px rgba(60, 64, 67, 0.3), 0px 1px 3px 1px rgba(60, 64, 67, 0.15);\n",
              "      fill: #174EA6;\n",
              "    }\n",
              "\n",
              "    [theme=dark] .colab-df-convert {\n",
              "      background-color: #3B4455;\n",
              "      fill: #D2E3FC;\n",
              "    }\n",
              "\n",
              "    [theme=dark] .colab-df-convert:hover {\n",
              "      background-color: #434B5C;\n",
              "      box-shadow: 0px 1px 3px 1px rgba(0, 0, 0, 0.15);\n",
              "      filter: drop-shadow(0px 1px 2px rgba(0, 0, 0, 0.3));\n",
              "      fill: #FFFFFF;\n",
              "    }\n",
              "  </style>\n",
              "\n",
              "      <script>\n",
              "        const buttonEl =\n",
              "          document.querySelector('#df-674da5c6-e08c-4c90-839a-c7f2f55261b2 button.colab-df-convert');\n",
              "        buttonEl.style.display =\n",
              "          google.colab.kernel.accessAllowed ? 'block' : 'none';\n",
              "\n",
              "        async function convertToInteractive(key) {\n",
              "          const element = document.querySelector('#df-674da5c6-e08c-4c90-839a-c7f2f55261b2');\n",
              "          const dataTable =\n",
              "            await google.colab.kernel.invokeFunction('convertToInteractive',\n",
              "                                                     [key], {});\n",
              "          if (!dataTable) return;\n",
              "\n",
              "          const docLinkHtml = 'Like what you see? Visit the ' +\n",
              "            '<a target=\"_blank\" href=https://colab.research.google.com/notebooks/data_table.ipynb>data table notebook</a>'\n",
              "            + ' to learn more about interactive tables.';\n",
              "          element.innerHTML = '';\n",
              "          dataTable['output_type'] = 'display_data';\n",
              "          await google.colab.output.renderOutput(dataTable, element);\n",
              "          const docLink = document.createElement('div');\n",
              "          docLink.innerHTML = docLinkHtml;\n",
              "          element.appendChild(docLink);\n",
              "        }\n",
              "      </script>\n",
              "    </div>\n",
              "  </div>\n",
              "  "
            ]
          },
          "metadata": {},
          "execution_count": 97
        }
      ]
    },
    {
      "cell_type": "code",
      "source": [
        "#группируем по юзерам по \n",
        "df_user_part_of_day = df.pivot_table(index='user_id', columns='part_of_day', values='request_cnt',aggfunc='count').reset_index()"
      ],
      "metadata": {
        "id": "A1vIGWkMOhEl"
      },
      "execution_count": null,
      "outputs": []
    },
    {
      "cell_type": "code",
      "source": [
        "df_user_part_of_day.head(2)"
      ],
      "metadata": {
        "colab": {
          "base_uri": "https://localhost:8080/",
          "height": 112
        },
        "id": "w7jGP5MzSvg7",
        "outputId": "bf43271f-91ac-46cc-e548-52516b095e9a"
      },
      "execution_count": null,
      "outputs": [
        {
          "output_type": "execute_result",
          "data": {
            "text/plain": [
              "part_of_day  user_id    day  evening  morning  night\n",
              "0                  4  199.0    170.0    212.0   10.0\n",
              "1                 16  443.0    321.0    330.0  137.0"
            ],
            "text/html": [
              "\n",
              "  <div id=\"df-5aebfdb9-ca65-4a1b-8eab-00a5dd0ee3ed\">\n",
              "    <div class=\"colab-df-container\">\n",
              "      <div>\n",
              "<style scoped>\n",
              "    .dataframe tbody tr th:only-of-type {\n",
              "        vertical-align: middle;\n",
              "    }\n",
              "\n",
              "    .dataframe tbody tr th {\n",
              "        vertical-align: top;\n",
              "    }\n",
              "\n",
              "    .dataframe thead th {\n",
              "        text-align: right;\n",
              "    }\n",
              "</style>\n",
              "<table border=\"1\" class=\"dataframe\">\n",
              "  <thead>\n",
              "    <tr style=\"text-align: right;\">\n",
              "      <th>part_of_day</th>\n",
              "      <th>user_id</th>\n",
              "      <th>day</th>\n",
              "      <th>evening</th>\n",
              "      <th>morning</th>\n",
              "      <th>night</th>\n",
              "    </tr>\n",
              "  </thead>\n",
              "  <tbody>\n",
              "    <tr>\n",
              "      <th>0</th>\n",
              "      <td>4</td>\n",
              "      <td>199.0</td>\n",
              "      <td>170.0</td>\n",
              "      <td>212.0</td>\n",
              "      <td>10.0</td>\n",
              "    </tr>\n",
              "    <tr>\n",
              "      <th>1</th>\n",
              "      <td>16</td>\n",
              "      <td>443.0</td>\n",
              "      <td>321.0</td>\n",
              "      <td>330.0</td>\n",
              "      <td>137.0</td>\n",
              "    </tr>\n",
              "  </tbody>\n",
              "</table>\n",
              "</div>\n",
              "      <button class=\"colab-df-convert\" onclick=\"convertToInteractive('df-5aebfdb9-ca65-4a1b-8eab-00a5dd0ee3ed')\"\n",
              "              title=\"Convert this dataframe to an interactive table.\"\n",
              "              style=\"display:none;\">\n",
              "        \n",
              "  <svg xmlns=\"http://www.w3.org/2000/svg\" height=\"24px\"viewBox=\"0 0 24 24\"\n",
              "       width=\"24px\">\n",
              "    <path d=\"M0 0h24v24H0V0z\" fill=\"none\"/>\n",
              "    <path d=\"M18.56 5.44l.94 2.06.94-2.06 2.06-.94-2.06-.94-.94-2.06-.94 2.06-2.06.94zm-11 1L8.5 8.5l.94-2.06 2.06-.94-2.06-.94L8.5 2.5l-.94 2.06-2.06.94zm10 10l.94 2.06.94-2.06 2.06-.94-2.06-.94-.94-2.06-.94 2.06-2.06.94z\"/><path d=\"M17.41 7.96l-1.37-1.37c-.4-.4-.92-.59-1.43-.59-.52 0-1.04.2-1.43.59L10.3 9.45l-7.72 7.72c-.78.78-.78 2.05 0 2.83L4 21.41c.39.39.9.59 1.41.59.51 0 1.02-.2 1.41-.59l7.78-7.78 2.81-2.81c.8-.78.8-2.07 0-2.86zM5.41 20L4 18.59l7.72-7.72 1.47 1.35L5.41 20z\"/>\n",
              "  </svg>\n",
              "      </button>\n",
              "      \n",
              "  <style>\n",
              "    .colab-df-container {\n",
              "      display:flex;\n",
              "      flex-wrap:wrap;\n",
              "      gap: 12px;\n",
              "    }\n",
              "\n",
              "    .colab-df-convert {\n",
              "      background-color: #E8F0FE;\n",
              "      border: none;\n",
              "      border-radius: 50%;\n",
              "      cursor: pointer;\n",
              "      display: none;\n",
              "      fill: #1967D2;\n",
              "      height: 32px;\n",
              "      padding: 0 0 0 0;\n",
              "      width: 32px;\n",
              "    }\n",
              "\n",
              "    .colab-df-convert:hover {\n",
              "      background-color: #E2EBFA;\n",
              "      box-shadow: 0px 1px 2px rgba(60, 64, 67, 0.3), 0px 1px 3px 1px rgba(60, 64, 67, 0.15);\n",
              "      fill: #174EA6;\n",
              "    }\n",
              "\n",
              "    [theme=dark] .colab-df-convert {\n",
              "      background-color: #3B4455;\n",
              "      fill: #D2E3FC;\n",
              "    }\n",
              "\n",
              "    [theme=dark] .colab-df-convert:hover {\n",
              "      background-color: #434B5C;\n",
              "      box-shadow: 0px 1px 3px 1px rgba(0, 0, 0, 0.15);\n",
              "      filter: drop-shadow(0px 1px 2px rgba(0, 0, 0, 0.3));\n",
              "      fill: #FFFFFF;\n",
              "    }\n",
              "  </style>\n",
              "\n",
              "      <script>\n",
              "        const buttonEl =\n",
              "          document.querySelector('#df-5aebfdb9-ca65-4a1b-8eab-00a5dd0ee3ed button.colab-df-convert');\n",
              "        buttonEl.style.display =\n",
              "          google.colab.kernel.accessAllowed ? 'block' : 'none';\n",
              "\n",
              "        async function convertToInteractive(key) {\n",
              "          const element = document.querySelector('#df-5aebfdb9-ca65-4a1b-8eab-00a5dd0ee3ed');\n",
              "          const dataTable =\n",
              "            await google.colab.kernel.invokeFunction('convertToInteractive',\n",
              "                                                     [key], {});\n",
              "          if (!dataTable) return;\n",
              "\n",
              "          const docLinkHtml = 'Like what you see? Visit the ' +\n",
              "            '<a target=\"_blank\" href=https://colab.research.google.com/notebooks/data_table.ipynb>data table notebook</a>'\n",
              "            + ' to learn more about interactive tables.';\n",
              "          element.innerHTML = '';\n",
              "          dataTable['output_type'] = 'display_data';\n",
              "          await google.colab.output.renderOutput(dataTable, element);\n",
              "          const docLink = document.createElement('div');\n",
              "          docLink.innerHTML = docLinkHtml;\n",
              "          element.appendChild(docLink);\n",
              "        }\n",
              "      </script>\n",
              "    </div>\n",
              "  </div>\n",
              "  "
            ]
          },
          "metadata": {},
          "execution_count": 80
        }
      ]
    },
    {
      "cell_type": "code",
      "source": [
        "df_user_part_of_day['user_id'].nunique()"
      ],
      "metadata": {
        "colab": {
          "base_uri": "https://localhost:8080/"
        },
        "id": "VpDQQ0xDXJjy",
        "outputId": "fe222fe8-f821-4058-82e0-136b2775664f"
      },
      "execution_count": null,
      "outputs": [
        {
          "output_type": "execute_result",
          "data": {
            "text/plain": [
              "27178"
            ]
          },
          "metadata": {},
          "execution_count": 95
        }
      ]
    },
    {
      "cell_type": "code",
      "source": [
        "#соедениям  обрезаннуют таблицу с юзерами и моделью телефона+ юзеры и кол-во реквестов  по дням/ночам\n",
        "df = df.merge(df_user_part_of_day, on='user_id')"
      ],
      "metadata": {
        "id": "ieFtc1tZX1sq"
      },
      "execution_count": null,
      "outputs": []
    },
    {
      "cell_type": "code",
      "source": [
        "df.head(2)"
      ],
      "metadata": {
        "colab": {
          "base_uri": "https://localhost:8080/",
          "height": 112
        },
        "id": "i5nLgVwSX14g",
        "outputId": "c76aefb9-510a-42bb-d067-abee5a96cb75"
      },
      "execution_count": null,
      "outputs": [
        {
          "output_type": "execute_result",
          "data": {
            "text/plain": [
              "  cpe_model_name  user_id  age is_male    day  evening  morning  night\n",
              "0    Galaxy S20+    79395    1       1  586.0    524.0    346.0  179.0\n",
              "1    Poco X3 Pro    91294    1       1  551.0    515.0    338.0  166.0"
            ],
            "text/html": [
              "\n",
              "  <div id=\"df-723e096b-8e8c-49b0-8039-815612ad3169\">\n",
              "    <div class=\"colab-df-container\">\n",
              "      <div>\n",
              "<style scoped>\n",
              "    .dataframe tbody tr th:only-of-type {\n",
              "        vertical-align: middle;\n",
              "    }\n",
              "\n",
              "    .dataframe tbody tr th {\n",
              "        vertical-align: top;\n",
              "    }\n",
              "\n",
              "    .dataframe thead th {\n",
              "        text-align: right;\n",
              "    }\n",
              "</style>\n",
              "<table border=\"1\" class=\"dataframe\">\n",
              "  <thead>\n",
              "    <tr style=\"text-align: right;\">\n",
              "      <th></th>\n",
              "      <th>cpe_model_name</th>\n",
              "      <th>user_id</th>\n",
              "      <th>age</th>\n",
              "      <th>is_male</th>\n",
              "      <th>day</th>\n",
              "      <th>evening</th>\n",
              "      <th>morning</th>\n",
              "      <th>night</th>\n",
              "    </tr>\n",
              "  </thead>\n",
              "  <tbody>\n",
              "    <tr>\n",
              "      <th>0</th>\n",
              "      <td>Galaxy S20+</td>\n",
              "      <td>79395</td>\n",
              "      <td>1</td>\n",
              "      <td>1</td>\n",
              "      <td>586.0</td>\n",
              "      <td>524.0</td>\n",
              "      <td>346.0</td>\n",
              "      <td>179.0</td>\n",
              "    </tr>\n",
              "    <tr>\n",
              "      <th>1</th>\n",
              "      <td>Poco X3 Pro</td>\n",
              "      <td>91294</td>\n",
              "      <td>1</td>\n",
              "      <td>1</td>\n",
              "      <td>551.0</td>\n",
              "      <td>515.0</td>\n",
              "      <td>338.0</td>\n",
              "      <td>166.0</td>\n",
              "    </tr>\n",
              "  </tbody>\n",
              "</table>\n",
              "</div>\n",
              "      <button class=\"colab-df-convert\" onclick=\"convertToInteractive('df-723e096b-8e8c-49b0-8039-815612ad3169')\"\n",
              "              title=\"Convert this dataframe to an interactive table.\"\n",
              "              style=\"display:none;\">\n",
              "        \n",
              "  <svg xmlns=\"http://www.w3.org/2000/svg\" height=\"24px\"viewBox=\"0 0 24 24\"\n",
              "       width=\"24px\">\n",
              "    <path d=\"M0 0h24v24H0V0z\" fill=\"none\"/>\n",
              "    <path d=\"M18.56 5.44l.94 2.06.94-2.06 2.06-.94-2.06-.94-.94-2.06-.94 2.06-2.06.94zm-11 1L8.5 8.5l.94-2.06 2.06-.94-2.06-.94L8.5 2.5l-.94 2.06-2.06.94zm10 10l.94 2.06.94-2.06 2.06-.94-2.06-.94-.94-2.06-.94 2.06-2.06.94z\"/><path d=\"M17.41 7.96l-1.37-1.37c-.4-.4-.92-.59-1.43-.59-.52 0-1.04.2-1.43.59L10.3 9.45l-7.72 7.72c-.78.78-.78 2.05 0 2.83L4 21.41c.39.39.9.59 1.41.59.51 0 1.02-.2 1.41-.59l7.78-7.78 2.81-2.81c.8-.78.8-2.07 0-2.86zM5.41 20L4 18.59l7.72-7.72 1.47 1.35L5.41 20z\"/>\n",
              "  </svg>\n",
              "      </button>\n",
              "      \n",
              "  <style>\n",
              "    .colab-df-container {\n",
              "      display:flex;\n",
              "      flex-wrap:wrap;\n",
              "      gap: 12px;\n",
              "    }\n",
              "\n",
              "    .colab-df-convert {\n",
              "      background-color: #E8F0FE;\n",
              "      border: none;\n",
              "      border-radius: 50%;\n",
              "      cursor: pointer;\n",
              "      display: none;\n",
              "      fill: #1967D2;\n",
              "      height: 32px;\n",
              "      padding: 0 0 0 0;\n",
              "      width: 32px;\n",
              "    }\n",
              "\n",
              "    .colab-df-convert:hover {\n",
              "      background-color: #E2EBFA;\n",
              "      box-shadow: 0px 1px 2px rgba(60, 64, 67, 0.3), 0px 1px 3px 1px rgba(60, 64, 67, 0.15);\n",
              "      fill: #174EA6;\n",
              "    }\n",
              "\n",
              "    [theme=dark] .colab-df-convert {\n",
              "      background-color: #3B4455;\n",
              "      fill: #D2E3FC;\n",
              "    }\n",
              "\n",
              "    [theme=dark] .colab-df-convert:hover {\n",
              "      background-color: #434B5C;\n",
              "      box-shadow: 0px 1px 3px 1px rgba(0, 0, 0, 0.15);\n",
              "      filter: drop-shadow(0px 1px 2px rgba(0, 0, 0, 0.3));\n",
              "      fill: #FFFFFF;\n",
              "    }\n",
              "  </style>\n",
              "\n",
              "      <script>\n",
              "        const buttonEl =\n",
              "          document.querySelector('#df-723e096b-8e8c-49b0-8039-815612ad3169 button.colab-df-convert');\n",
              "        buttonEl.style.display =\n",
              "          google.colab.kernel.accessAllowed ? 'block' : 'none';\n",
              "\n",
              "        async function convertToInteractive(key) {\n",
              "          const element = document.querySelector('#df-723e096b-8e8c-49b0-8039-815612ad3169');\n",
              "          const dataTable =\n",
              "            await google.colab.kernel.invokeFunction('convertToInteractive',\n",
              "                                                     [key], {});\n",
              "          if (!dataTable) return;\n",
              "\n",
              "          const docLinkHtml = 'Like what you see? Visit the ' +\n",
              "            '<a target=\"_blank\" href=https://colab.research.google.com/notebooks/data_table.ipynb>data table notebook</a>'\n",
              "            + ' to learn more about interactive tables.';\n",
              "          element.innerHTML = '';\n",
              "          dataTable['output_type'] = 'display_data';\n",
              "          await google.colab.output.renderOutput(dataTable, element);\n",
              "          const docLink = document.createElement('div');\n",
              "          docLink.innerHTML = docLinkHtml;\n",
              "          element.appendChild(docLink);\n",
              "        }\n",
              "      </script>\n",
              "    </div>\n",
              "  </div>\n",
              "  "
            ]
          },
          "metadata": {},
          "execution_count": 102
        }
      ]
    },
    {
      "cell_type": "code",
      "source": [
        "#функция разбивки возраста по баскетам\n",
        "def age_bucket(x):\n",
        "    return bisect.bisect_left([25,35,45,55,65], x)"
      ],
      "metadata": {
        "id": "18QXq9iGC5SJ"
      },
      "execution_count": null,
      "outputs": []
    },
    {
      "cell_type": "code",
      "source": [
        "df['age'] = df['age'].map(age_bucket)"
      ],
      "metadata": {
        "id": "W8qH8oXMC9fp"
      },
      "execution_count": null,
      "outputs": []
    },
    {
      "cell_type": "code",
      "source": [
        "# cсохраним на диск готовый крайне обедненый фал чась 0, с разбиьтой корзиной возратсов\n",
        "df.to_csv(f'{LOCAL_DATA_PATH}/part_0_no_urls.csv', index = False)"
      ],
      "metadata": {
        "id": "0bBbeTd9IPOG"
      },
      "execution_count": null,
      "outputs": []
    },
    {
      "cell_type": "markdown",
      "source": [
        "# 3.ML"
      ],
      "metadata": {
        "id": "qyTjz_XQJKMT"
      }
    },
    {
      "cell_type": "code",
      "source": [
        "#сабмиты и таргеты\n",
        "id_for_target = pq.read_table(f'{LOCAL_DATA_PATH}/{TARGET_FILE}').to_pandas().query ('age >=19 ')\n",
        "id_for_submit = pq.read_table(f'{LOCAL_DATA_PATH}/{SUBMISSION_FILE}').to_pandas()"
      ],
      "metadata": {
        "id": "jWCpvZA08VsK"
      },
      "execution_count": null,
      "outputs": []
    },
    {
      "cell_type": "code",
      "source": [
        "id_for_submit['user_id'].nunique()"
      ],
      "metadata": {
        "colab": {
          "base_uri": "https://localhost:8080/"
        },
        "id": "8iMOMAYj9RRr",
        "outputId": "a6c569d4-592b-4f41-d584-e9044fdefe48"
      },
      "execution_count": null,
      "outputs": [
        {
          "output_type": "execute_result",
          "data": {
            "text/plain": [
              "144724"
            ]
          },
          "metadata": {},
          "execution_count": 6
        }
      ]
    },
    {
      "cell_type": "code",
      "source": [
        "id_for_target['user_id'].nunique()"
      ],
      "metadata": {
        "colab": {
          "base_uri": "https://localhost:8080/"
        },
        "id": "TOuejFuR9-t7",
        "outputId": "27927bfd-fe33-48ff-e44a-986953b375bb"
      },
      "execution_count": null,
      "outputs": [
        {
          "output_type": "execute_result",
          "data": {
            "text/plain": [
              "268922"
            ]
          },
          "metadata": {},
          "execution_count": 7
        }
      ]
    },
    {
      "cell_type": "markdown",
      "source": [
        "### Подгружаем файл с дииска\n",
        "Трайн и сабмиты отдельно.   \n",
        "Для age и is_male  отдельно."
      ],
      "metadata": {
        "id": "cTwXxcIApWVf"
      }
    },
    {
      "cell_type": "code",
      "source": [
        "#df_train = pd.read_pickle(f'{LOCAL_DATA_PATH}/train_df_all_parts.pkl')\n",
        "#df_train = pd.read_csv(f'{LOCAL_DATA_PATH}/train_df_all_parts.csv')   # csv  не подгруждается, не хватает памяти..\n"
      ],
      "metadata": {
        "id": "QVdbR2EJpeUx"
      },
      "execution_count": 10,
      "outputs": []
    },
    {
      "cell_type": "code",
      "source": [
        "df_submit = pd.read_feather(f'{LOCAL_DATA_PATH}/submit_df_all_parts.feather')\n",
        "df_submit.info()"
      ],
      "metadata": {
        "colab": {
          "base_uri": "https://localhost:8080/"
        },
        "id": "AK4BKv4qpert",
        "outputId": "365c419c-6ba5-411e-8164-a8e6535fa4d5"
      },
      "execution_count": 22,
      "outputs": [
        {
          "output_type": "stream",
          "name": "stdout",
          "text": [
            "<class 'pandas.core.frame.DataFrame'>\n",
            "RangeIndex: 144723 entries, 0 to 144722\n",
            "Columns: 2339 entries, cpe_model_name to night\n",
            "dtypes: float64(2337), int64(1), object(1)\n",
            "memory usage: 2.5+ GB\n"
          ]
        }
      ]
    },
    {
      "cell_type": "code",
      "source": [
        "# проверим размерности\n",
        "#print ('df_train.shape =', df_train.shape)\n",
        "print ('df_submit.shape =', df_submit.shape)"
      ],
      "metadata": {
        "id": "XvLp8LnVfU2w",
        "colab": {
          "base_uri": "https://localhost:8080/"
        },
        "outputId": "7e36629f-aabc-4641-86b6-7d5268941331"
      },
      "execution_count": 12,
      "outputs": [
        {
          "output_type": "stream",
          "name": "stdout",
          "text": [
            "df_submit.shape = (144723, 2339)\n"
          ]
        }
      ]
    },
    {
      "cell_type": "markdown",
      "source": [
        "### Обработка возраста      \n",
        " "
      ],
      "metadata": {
        "id": "2fS-DrKUQLLY"
      }
    },
    {
      "cell_type": "code",
      "source": [
        "#\n",
        "#Тут для всех способов не хватает ОЗУ поэтому эта часть добавлена в цикл по заполнению\n",
        "\n",
        "#df_train = df_train[df_train['age'] >=19]  \n",
        "#df_train =  df_train.query ('age >=19 ')\n",
        "#df_train.drop(df_train[df_train['age'] <19], inplace=True )\n",
        "df_train.shape\n",
        "\n",
        "\n",
        "#функция разбивки возраста по баскетам\n",
        "def age_bucket(x):\n",
        "    return bisect.bisect_left([25,35,45,55,65], x)\n",
        "#категоризируем возраст\n",
        "df_train['age'] = df_train['age'].map(age_bucket)"
      ],
      "metadata": {
        "id": "kfO-wsS0Q42G"
      },
      "execution_count": null,
      "outputs": []
    },
    {
      "cell_type": "markdown",
      "source": [
        "## ML age"
      ],
      "metadata": {
        "id": "VT_DX4zYpgec"
      }
    },
    {
      "cell_type": "code",
      "source": [
        "# загружаем файл для age\n",
        "#df_train_feat_age = pd.read_pickle(f'{LOCAL_DATA_PATH}train_feat_age_df_all_parts.pkl')\n",
        "#df_train_target_age = pd.read_pickle(f'{LOCAL_DATA_PATH}train_target_age_df_all_parts.pkl')\n",
        "df_train_feat_age = pd.read_feather(f'{LOCAL_DATA_PATH}train_feat_age_df_all_parts.feather')\n",
        "df_train_target_age = pd.read_feather(f'{LOCAL_DATA_PATH}train_target_age_df_all_parts.feather')"
      ],
      "metadata": {
        "id": "hgcQ12pmJrxC"
      },
      "execution_count": null,
      "outputs": []
    },
    {
      "cell_type": "code",
      "source": [
        "#cat_features = ['cpe_manufacturer_name',\t'cpe_model_os_type' ] #\t,\n",
        "cat_features = ['cpe_model_name'] \n"
      ],
      "metadata": {
        "id": "xCCKSLjWIyRe"
      },
      "execution_count": null,
      "outputs": []
    },
    {
      "cell_type": "code",
      "source": [
        "x_train, x_test, y_train, y_test = train_test_split(\\\n",
        "    df_train.drop(['user_id', 'age', 'is_male'], axis = 1), \\\n",
        "    df_train['age'], test_size = 0.33, random_state = 777)\n",
        "\n"
      ],
      "metadata": {
        "id": "5I6Om0smELfg"
      },
      "execution_count": null,
      "outputs": []
    },
    {
      "cell_type": "code",
      "source": [
        "x_train.shape\n",
        "#df_train.shape"
      ],
      "metadata": {
        "colab": {
          "base_uri": "https://localhost:8080/"
        },
        "id": "y7a8ekFSnsmt",
        "outputId": "e2c49a29-93f5-4789-c660-bb1db1b78c2a"
      },
      "execution_count": null,
      "outputs": [
        {
          "output_type": "execute_result",
          "data": {
            "text/plain": [
              "(18142, 2005)"
            ]
          },
          "metadata": {},
          "execution_count": 55
        }
      ]
    },
    {
      "cell_type": "code",
      "source": [
        "%%time\n",
        "#тест модели \n",
        "clf = CatBoostClassifier()\n",
        "clf.fit(x_train, y_train, cat_features,verbose = False)\n",
        "print(m.classification_report(y_test, clf.predict(x_test), \\\n",
        "    target_names = [ '19-25','26-34', '36-45', '46-56', '56-65', '65+']))"
      ],
      "metadata": {
        "colab": {
          "base_uri": "https://localhost:8080/"
        },
        "id": "rLczs18YEukz",
        "outputId": "c5fe2189-a7c3-4e0d-fba4-cef094b33cb5"
      },
      "execution_count": null,
      "outputs": [
        {
          "output_type": "stream",
          "name": "stdout",
          "text": [
            "              precision    recall  f1-score   support\n",
            "\n",
            "       19-25       0.53      0.28      0.36      1110\n",
            "       26-34       0.47      0.64      0.55      2901\n",
            "       36-45       0.38      0.49      0.43      2546\n",
            "       46-56       0.39      0.21      0.28      1423\n",
            "       56-65       0.40      0.16      0.23       776\n",
            "         65+       0.60      0.02      0.03       180\n",
            "\n",
            "    accuracy                           0.43      8936\n",
            "   macro avg       0.46      0.30      0.31      8936\n",
            "weighted avg       0.44      0.43      0.41      8936\n",
            "\n",
            "CPU times: user 19min, sys: 2min 6s, total: 21min 7s\n",
            "Wall time: 12min 55s\n"
          ]
        }
      ]
    },
    {
      "cell_type": "markdown",
      "source": [
        "### Обучение на всей трайн выборке для сабмитов"
      ],
      "metadata": {
        "id": "owDcR7hEQau3"
      }
    },
    {
      "cell_type": "code",
      "source": [
        "%%time\n",
        "# финальное обучение для сабмита\n",
        "clf = CatBoostClassifier()\n",
        "clf.fit(df_train_feat_age, df_train_target_age, cat_features, verbose = False)\n",
        "\n"
      ],
      "metadata": {
        "colab": {
          "base_uri": "https://localhost:8080/"
        },
        "id": "gtARWd5qb6w7",
        "outputId": "00f461c7-ef2a-427d-8892-6acff0cd3433"
      },
      "execution_count": null,
      "outputs": [
        {
          "output_type": "stream",
          "name": "stdout",
          "text": [
            "CPU times: user 5h 41min 1s, sys: 58.5 s, total: 5h 42min\n",
            "Wall time: 3h 27min 6s\n"
          ]
        },
        {
          "output_type": "execute_result",
          "data": {
            "text/plain": [
              "<catboost.core.CatBoostClassifier at 0x7f27d7976220>"
            ]
          },
          "metadata": {},
          "execution_count": 5
        }
      ]
    },
    {
      "cell_type": "code",
      "source": [
        "##########################\n",
        "# SAVE-LOAD using joblib #\n",
        "##########################\n",
        "# save\n",
        "joblib.dump(clf, f'{LOCAL_DATA_PATH}model_age.pkl')"
      ],
      "metadata": {
        "colab": {
          "base_uri": "https://localhost:8080/"
        },
        "id": "QCq0SRbCAF1R",
        "outputId": "60a4a43f-47ea-44bd-9371-510a99f77de8"
      },
      "execution_count": null,
      "outputs": [
        {
          "output_type": "execute_result",
          "data": {
            "text/plain": [
              "['/content/drive/MyDrive/DS/MTS/model_age.pkl']"
            ]
          },
          "metadata": {},
          "execution_count": 6
        }
      ]
    },
    {
      "cell_type": "code",
      "source": [
        "# load\n",
        "clf_age = joblib.load(f'{LOCAL_DATA_PATH}model_age.pkl')"
      ],
      "metadata": {
        "id": "UgTjcRx1MegA"
      },
      "execution_count": 30,
      "outputs": []
    },
    {
      "cell_type": "code",
      "source": [
        "# предикты возраста\n",
        "predict_age = clf_age.predict(df_submit)"
      ],
      "metadata": {
        "id": "H_ZQsmpYcb1x"
      },
      "execution_count": 31,
      "outputs": []
    },
    {
      "cell_type": "code",
      "source": [
        "#сохраняем в файл\n",
        "pd.Series(predict_age.reshape(-1)).to_pickle(f'{LOCAL_DATA_PATH}predict_age.pkl')\n"
      ],
      "metadata": {
        "id": "I3Sq3XPnmy09"
      },
      "execution_count": 15,
      "outputs": []
    },
    {
      "cell_type": "markdown",
      "source": [
        "## ML is_male\n"
      ],
      "metadata": {
        "id": "0x-MzRd4pw5B"
      }
    },
    {
      "cell_type": "code",
      "source": [
        "#загружаем данные для is_male\n",
        "#df_train_feat_is_male = pd.read_pickle(f'{LOCAL_DATA_PATH}train_feat_is_male_df_all_parts.pkl')\n",
        "#df_train_target_is_male = pd.read_pickle(f'{LOCAL_DATA_PATH}train_target_is_male_df_all_parts.pkl')\n",
        "df_train_feat_is_male = pd.read_feather(f'{LOCAL_DATA_PATH}train_feat_is_male_df_all_parts.feather')\n",
        "df_train_target_is_male = pd.read_feather(f'{LOCAL_DATA_PATH}train_target_is_male_df_all_parts.feather')"
      ],
      "metadata": {
        "id": "NXYlH75lwl9M"
      },
      "execution_count": 11,
      "outputs": []
    },
    {
      "cell_type": "code",
      "source": [
        "df_train_target_is_male['is_male'].unique()\n",
        "df_train_target_is_male.shape"
      ],
      "metadata": {
        "id": "k2-DAsvlKRCb",
        "colab": {
          "base_uri": "https://localhost:8080/"
        },
        "outputId": "205951d5-7ce3-4861-fdd7-4fc3ce27b8a8"
      },
      "execution_count": 23,
      "outputs": [
        {
          "output_type": "execute_result",
          "data": {
            "text/plain": [
              "(263496, 1)"
            ]
          },
          "metadata": {},
          "execution_count": 23
        }
      ]
    },
    {
      "cell_type": "code",
      "source": [
        "cat_features = ['cpe_model_name'] "
      ],
      "metadata": {
        "id": "m6bh9cjfRv0b"
      },
      "execution_count": 15,
      "outputs": []
    },
    {
      "cell_type": "code",
      "source": [
        "%%time\n",
        "x_train, x_test, y_train, y_test = train_test_split(\\\n",
        "    df_train.drop(['user_id', 'age', 'is_male'], axis = 1), df_train['is_male'], test_size = 0.33, random_state = 777)\n",
        "clf = CatBoostClassifier()\n",
        "clf.fit(x_train, y_train, cat_features , verbose = False )\n"
      ],
      "metadata": {
        "colab": {
          "base_uri": "https://localhost:8080/"
        },
        "id": "I4dpGEXMqDAN",
        "outputId": "c568526b-d54d-4c30-c299-0200f2891cf7"
      },
      "execution_count": null,
      "outputs": [
        {
          "output_type": "stream",
          "name": "stdout",
          "text": [
            "CPU times: user 4min, sys: 5.18 s, total: 4min 5s\n",
            "Wall time: 2min 30s\n"
          ]
        },
        {
          "output_type": "execute_result",
          "data": {
            "text/plain": [
              "<catboost.core.CatBoostClassifier at 0x7f10fe76f3d0>"
            ]
          },
          "metadata": {},
          "execution_count": 59
        }
      ]
    },
    {
      "cell_type": "code",
      "source": [
        "print(f'GINI по полу {2 * m.roc_auc_score(y_test, clf.predict_proba(x_test)[:,1]) - 1:2.3f}')"
      ],
      "metadata": {
        "colab": {
          "base_uri": "https://localhost:8080/"
        },
        "id": "0GzIz1I4qDQZ",
        "outputId": "8ce65c42-442d-40c5-9092-faefaeca226c"
      },
      "execution_count": null,
      "outputs": [
        {
          "output_type": "stream",
          "name": "stdout",
          "text": [
            "GINI по полу 0.696\n"
          ]
        }
      ]
    },
    {
      "cell_type": "markdown",
      "source": [
        "### Обучение на всей выбоке для сабмитов"
      ],
      "metadata": {
        "id": "vuPtGDq5wRR4"
      }
    },
    {
      "cell_type": "code",
      "source": [
        "%%time\n",
        "# обучения для сабмита на всей выборке\n",
        "clf = CatBoostClassifier()\n",
        "clf.fit(df_train_feat_is_male, df_train_target_is_male, cat_features , verbose = False )\n"
      ],
      "metadata": {
        "colab": {
          "base_uri": "https://localhost:8080/"
        },
        "id": "jrQ9e7dxqCah",
        "outputId": "07893513-923b-4c33-c4cf-c9355770f0e1"
      },
      "execution_count": 16,
      "outputs": [
        {
          "output_type": "stream",
          "name": "stdout",
          "text": [
            "CPU times: user 47min 29s, sys: 8.53 s, total: 47min 38s\n",
            "Wall time: 26min 52s\n"
          ]
        },
        {
          "output_type": "execute_result",
          "data": {
            "text/plain": [
              "<catboost.core.CatBoostClassifier at 0x7fd54ed7e5b0>"
            ]
          },
          "metadata": {},
          "execution_count": 16
        }
      ]
    },
    {
      "cell_type": "code",
      "source": [
        "##########################\n",
        "# SAVE-LOAD using joblib #\n",
        "##########################\n",
        "joblib.dump(clf, f'{LOCAL_DATA_PATH}model_is_male.pkl')"
      ],
      "metadata": {
        "colab": {
          "base_uri": "https://localhost:8080/"
        },
        "id": "z3upHH2VOvh3",
        "outputId": "d84c59b7-49de-4b0d-c9bd-6ef2bce5e9df"
      },
      "execution_count": 17,
      "outputs": [
        {
          "output_type": "execute_result",
          "data": {
            "text/plain": [
              "['/content/drive/MyDrive/DS/MTS/model_is_male.pkl']"
            ]
          },
          "metadata": {},
          "execution_count": 17
        }
      ]
    },
    {
      "cell_type": "code",
      "source": [
        "predict_is_male_proba = clf_is_male.predict_proba(df_submit)"
      ],
      "metadata": {
        "id": "brrrkeEIps7U"
      },
      "execution_count": 24,
      "outputs": []
    },
    {
      "cell_type": "code",
      "source": [
        "# load\n",
        "clf_is_male = joblib.load(f'{LOCAL_DATA_PATH}model_is_male.pkl')"
      ],
      "metadata": {
        "id": "C-92fm1xO7Ae"
      },
      "execution_count": 20,
      "outputs": []
    },
    {
      "cell_type": "code",
      "source": [
        "#сохранем\n",
        "pd.Series(predict_is_male_proba[:,1]).to_pickle(f'{LOCAL_DATA_PATH}predict_is_male_proba.pkl')"
      ],
      "metadata": {
        "id": "pUa6KVkQrxWr"
      },
      "execution_count": 25,
      "outputs": []
    },
    {
      "cell_type": "code",
      "source": [
        "predict_is_male_proba[:,0].shape"
      ],
      "metadata": {
        "id": "k9nh_wXSxqit",
        "colab": {
          "base_uri": "https://localhost:8080/"
        },
        "outputId": "c827d5fc-c90d-45ef-a1d9-81863ecfb02f"
      },
      "execution_count": 50,
      "outputs": [
        {
          "output_type": "execute_result",
          "data": {
            "text/plain": [
              "(144723,)"
            ]
          },
          "metadata": {},
          "execution_count": 50
        }
      ]
    },
    {
      "cell_type": "markdown",
      "source": [
        "## Заполняем id_to_submit"
      ],
      "metadata": {
        "id": "af4DlhRVxrYq"
      }
    },
    {
      "cell_type": "code",
      "source": [
        "#меняем категорию\n",
        "def fix_age_cat(age):\n",
        "  if age == 0:\n",
        "    return 1\n",
        "  elif age == 1:\n",
        "    return 2\n",
        "  elif age == 2:\n",
        "    return 3\n",
        "  elif age == 3:\n",
        "    return 4\n",
        "  elif age == 4:\n",
        "    return 5\n",
        "  return 6"
      ],
      "metadata": {
        "id": "y30leV3HAEoi"
      },
      "execution_count": 146,
      "outputs": []
    },
    {
      "cell_type": "code",
      "source": [
        "#это временный дата сет, т к у нас нет некоторого числа user_id  \n",
        "a = pd.DataFrame (df_submit['user_id'])"
      ],
      "metadata": {
        "id": "jS_9humru5_f"
      },
      "execution_count": 120,
      "outputs": []
    },
    {
      "cell_type": "code",
      "source": [
        "a['is_male'] = predict_is_male_proba[:,1]\n",
        "a['age'] =  predict_age"
      ],
      "metadata": {
        "id": "Q33CnO-9v-8n"
      },
      "execution_count": 144,
      "outputs": []
    },
    {
      "cell_type": "code",
      "source": [
        "# fix категории\n",
        "#a['age'] = a['age'].map(fix_age_cat)"
      ],
      "metadata": {
        "id": "sTFPxULz1Mwg"
      },
      "execution_count": 147,
      "outputs": []
    },
    {
      "cell_type": "code",
      "source": [
        "a['age'].unique()"
      ],
      "metadata": {
        "colab": {
          "base_uri": "https://localhost:8080/"
        },
        "id": "JdVmgRB6GjJE",
        "outputId": "45b19ee4-2e8a-4072-cf97-7ba4c5e1c0af"
      },
      "execution_count": 148,
      "outputs": [
        {
          "output_type": "execute_result",
          "data": {
            "text/plain": [
              "array([2, 1, 3, 4, 5, 6])"
            ]
          },
          "metadata": {},
          "execution_count": 148
        }
      ]
    },
    {
      "cell_type": "code",
      "source": [
        "id_to_submit = pq.read_table(f'{LOCAL_DATA_PATH}/{SUBMISSION_FILE}').to_pandas().reset_index(drop=True)"
      ],
      "metadata": {
        "id": "72kFBmkSw-xP"
      },
      "execution_count": 149,
      "outputs": []
    },
    {
      "cell_type": "code",
      "source": [
        "id_to_submit.shape\n",
        "a.shape"
      ],
      "metadata": {
        "colab": {
          "base_uri": "https://localhost:8080/"
        },
        "id": "GhJ-3fp4sjGU",
        "outputId": "8e5aefcd-787c-4a2b-f728-71234fc13451"
      },
      "execution_count": 132,
      "outputs": [
        {
          "output_type": "execute_result",
          "data": {
            "text/plain": [
              "(144723, 3)"
            ]
          },
          "metadata": {},
          "execution_count": 132
        }
      ]
    },
    {
      "cell_type": "code",
      "source": [
        "#этот мердж правльный\n",
        "id_to_submit = id_to_submit.merge(a,how='outer', on='user_id')\n"
      ],
      "metadata": {
        "id": "XY16xxOPyDOf"
      },
      "execution_count": 150,
      "outputs": []
    },
    {
      "cell_type": "code",
      "source": [
        "id_to_submit.info()"
      ],
      "metadata": {
        "colab": {
          "base_uri": "https://localhost:8080/"
        },
        "id": "E-eOGPOXyhUI",
        "outputId": "56b163a7-df98-4d36-dca4-ed27d33a962a"
      },
      "execution_count": 151,
      "outputs": [
        {
          "output_type": "stream",
          "name": "stdout",
          "text": [
            "<class 'pandas.core.frame.DataFrame'>\n",
            "Int64Index: 144724 entries, 0 to 144723\n",
            "Data columns (total 3 columns):\n",
            " #   Column   Non-Null Count   Dtype  \n",
            "---  ------   --------------   -----  \n",
            " 0   user_id  144724 non-null  int64  \n",
            " 1   is_male  144723 non-null  float64\n",
            " 2   age      144723 non-null  float64\n",
            "dtypes: float64(2), int64(1)\n",
            "memory usage: 4.4 MB\n"
          ]
        }
      ]
    },
    {
      "cell_type": "code",
      "source": [
        "#заполним пропуски is_male = 0.511735 , age = 1"
      ],
      "metadata": {
        "id": "V6IXPKnFzQVw"
      },
      "execution_count": null,
      "outputs": []
    },
    {
      "cell_type": "code",
      "source": [
        "#закрывем na\n",
        "id_to_submit.loc[id_to_submit['age'].isna(),'age'] = 1\n",
        "id_to_submit.loc[id_to_submit['is_male'].isna(),'is_male'] = 0.511735\n",
        "id_to_submit['age'] = id_to_submit['age'].astype(int)"
      ],
      "metadata": {
        "id": "ONvVmORxzxjQ"
      },
      "execution_count": 152,
      "outputs": []
    },
    {
      "cell_type": "code",
      "source": [
        "id_to_submit.info()"
      ],
      "metadata": {
        "colab": {
          "base_uri": "https://localhost:8080/"
        },
        "id": "fu0sfFzlzBhw",
        "outputId": "08e5dbb6-4e79-4dfe-f108-0086d534fde4"
      },
      "execution_count": 153,
      "outputs": [
        {
          "output_type": "stream",
          "name": "stdout",
          "text": [
            "<class 'pandas.core.frame.DataFrame'>\n",
            "Int64Index: 144724 entries, 0 to 144723\n",
            "Data columns (total 3 columns):\n",
            " #   Column   Non-Null Count   Dtype  \n",
            "---  ------   --------------   -----  \n",
            " 0   user_id  144724 non-null  int64  \n",
            " 1   is_male  144724 non-null  float64\n",
            " 2   age      144724 non-null  int64  \n",
            "dtypes: float64(1), int64(2)\n",
            "memory usage: 4.4 MB\n"
          ]
        }
      ]
    },
    {
      "cell_type": "code",
      "source": [
        "id_to_submit.head()"
      ],
      "metadata": {
        "colab": {
          "base_uri": "https://localhost:8080/",
          "height": 206
        },
        "id": "PMQKWv33-QGU",
        "outputId": "12698ccf-b66c-4c63-e835-bab633b3e0fb"
      },
      "execution_count": 154,
      "outputs": [
        {
          "output_type": "execute_result",
          "data": {
            "text/plain": [
              "   user_id   is_male  age\n",
              "0   221301  0.934758    2\n",
              "1    31271  0.473703    3\n",
              "2   211594  0.529451    2\n",
              "3   253119  0.482333    3\n",
              "4   192578  0.838852    2"
            ],
            "text/html": [
              "\n",
              "  <div id=\"df-7ccf5f65-113f-4445-9334-dedd75f17c25\">\n",
              "    <div class=\"colab-df-container\">\n",
              "      <div>\n",
              "<style scoped>\n",
              "    .dataframe tbody tr th:only-of-type {\n",
              "        vertical-align: middle;\n",
              "    }\n",
              "\n",
              "    .dataframe tbody tr th {\n",
              "        vertical-align: top;\n",
              "    }\n",
              "\n",
              "    .dataframe thead th {\n",
              "        text-align: right;\n",
              "    }\n",
              "</style>\n",
              "<table border=\"1\" class=\"dataframe\">\n",
              "  <thead>\n",
              "    <tr style=\"text-align: right;\">\n",
              "      <th></th>\n",
              "      <th>user_id</th>\n",
              "      <th>is_male</th>\n",
              "      <th>age</th>\n",
              "    </tr>\n",
              "  </thead>\n",
              "  <tbody>\n",
              "    <tr>\n",
              "      <th>0</th>\n",
              "      <td>221301</td>\n",
              "      <td>0.934758</td>\n",
              "      <td>2</td>\n",
              "    </tr>\n",
              "    <tr>\n",
              "      <th>1</th>\n",
              "      <td>31271</td>\n",
              "      <td>0.473703</td>\n",
              "      <td>3</td>\n",
              "    </tr>\n",
              "    <tr>\n",
              "      <th>2</th>\n",
              "      <td>211594</td>\n",
              "      <td>0.529451</td>\n",
              "      <td>2</td>\n",
              "    </tr>\n",
              "    <tr>\n",
              "      <th>3</th>\n",
              "      <td>253119</td>\n",
              "      <td>0.482333</td>\n",
              "      <td>3</td>\n",
              "    </tr>\n",
              "    <tr>\n",
              "      <th>4</th>\n",
              "      <td>192578</td>\n",
              "      <td>0.838852</td>\n",
              "      <td>2</td>\n",
              "    </tr>\n",
              "  </tbody>\n",
              "</table>\n",
              "</div>\n",
              "      <button class=\"colab-df-convert\" onclick=\"convertToInteractive('df-7ccf5f65-113f-4445-9334-dedd75f17c25')\"\n",
              "              title=\"Convert this dataframe to an interactive table.\"\n",
              "              style=\"display:none;\">\n",
              "        \n",
              "  <svg xmlns=\"http://www.w3.org/2000/svg\" height=\"24px\"viewBox=\"0 0 24 24\"\n",
              "       width=\"24px\">\n",
              "    <path d=\"M0 0h24v24H0V0z\" fill=\"none\"/>\n",
              "    <path d=\"M18.56 5.44l.94 2.06.94-2.06 2.06-.94-2.06-.94-.94-2.06-.94 2.06-2.06.94zm-11 1L8.5 8.5l.94-2.06 2.06-.94-2.06-.94L8.5 2.5l-.94 2.06-2.06.94zm10 10l.94 2.06.94-2.06 2.06-.94-2.06-.94-.94-2.06-.94 2.06-2.06.94z\"/><path d=\"M17.41 7.96l-1.37-1.37c-.4-.4-.92-.59-1.43-.59-.52 0-1.04.2-1.43.59L10.3 9.45l-7.72 7.72c-.78.78-.78 2.05 0 2.83L4 21.41c.39.39.9.59 1.41.59.51 0 1.02-.2 1.41-.59l7.78-7.78 2.81-2.81c.8-.78.8-2.07 0-2.86zM5.41 20L4 18.59l7.72-7.72 1.47 1.35L5.41 20z\"/>\n",
              "  </svg>\n",
              "      </button>\n",
              "      \n",
              "  <style>\n",
              "    .colab-df-container {\n",
              "      display:flex;\n",
              "      flex-wrap:wrap;\n",
              "      gap: 12px;\n",
              "    }\n",
              "\n",
              "    .colab-df-convert {\n",
              "      background-color: #E8F0FE;\n",
              "      border: none;\n",
              "      border-radius: 50%;\n",
              "      cursor: pointer;\n",
              "      display: none;\n",
              "      fill: #1967D2;\n",
              "      height: 32px;\n",
              "      padding: 0 0 0 0;\n",
              "      width: 32px;\n",
              "    }\n",
              "\n",
              "    .colab-df-convert:hover {\n",
              "      background-color: #E2EBFA;\n",
              "      box-shadow: 0px 1px 2px rgba(60, 64, 67, 0.3), 0px 1px 3px 1px rgba(60, 64, 67, 0.15);\n",
              "      fill: #174EA6;\n",
              "    }\n",
              "\n",
              "    [theme=dark] .colab-df-convert {\n",
              "      background-color: #3B4455;\n",
              "      fill: #D2E3FC;\n",
              "    }\n",
              "\n",
              "    [theme=dark] .colab-df-convert:hover {\n",
              "      background-color: #434B5C;\n",
              "      box-shadow: 0px 1px 3px 1px rgba(0, 0, 0, 0.15);\n",
              "      filter: drop-shadow(0px 1px 2px rgba(0, 0, 0, 0.3));\n",
              "      fill: #FFFFFF;\n",
              "    }\n",
              "  </style>\n",
              "\n",
              "      <script>\n",
              "        const buttonEl =\n",
              "          document.querySelector('#df-7ccf5f65-113f-4445-9334-dedd75f17c25 button.colab-df-convert');\n",
              "        buttonEl.style.display =\n",
              "          google.colab.kernel.accessAllowed ? 'block' : 'none';\n",
              "\n",
              "        async function convertToInteractive(key) {\n",
              "          const element = document.querySelector('#df-7ccf5f65-113f-4445-9334-dedd75f17c25');\n",
              "          const dataTable =\n",
              "            await google.colab.kernel.invokeFunction('convertToInteractive',\n",
              "                                                     [key], {});\n",
              "          if (!dataTable) return;\n",
              "\n",
              "          const docLinkHtml = 'Like what you see? Visit the ' +\n",
              "            '<a target=\"_blank\" href=https://colab.research.google.com/notebooks/data_table.ipynb>data table notebook</a>'\n",
              "            + ' to learn more about interactive tables.';\n",
              "          element.innerHTML = '';\n",
              "          dataTable['output_type'] = 'display_data';\n",
              "          await google.colab.output.renderOutput(dataTable, element);\n",
              "          const docLink = document.createElement('div');\n",
              "          docLink.innerHTML = docLinkHtml;\n",
              "          element.appendChild(docLink);\n",
              "        }\n",
              "      </script>\n",
              "    </div>\n",
              "  </div>\n",
              "  "
            ]
          },
          "metadata": {},
          "execution_count": 154
        }
      ]
    },
    {
      "cell_type": "code",
      "source": [
        "#итоговый сохраняем\n",
        "id_to_submit.to_csv(f'{LOCAL_DATA_PATH}/submission_v3.csv', index = False)"
      ],
      "metadata": {
        "id": "7d9MPnTs1Cdr"
      },
      "execution_count": 155,
      "outputs": []
    },
    {
      "cell_type": "markdown",
      "source": [
        "## СКоры на лидер борде    \n",
        "Когда пофиксил категоризацию age\n",
        "\t1,6359491017   это 2300 тпо урлов без отсева технических, кэт дефол"
      ],
      "metadata": {
        "id": "cH-Vuz70AGKx"
      }
    }
  ]
}