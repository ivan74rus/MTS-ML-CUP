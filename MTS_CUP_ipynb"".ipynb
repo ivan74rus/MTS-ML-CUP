{
  "nbformat": 4,
  "nbformat_minor": 0,
  "metadata": {
    "colab": {
      "provenance": [],
      "toc_visible": true,
      "mount_file_id": "1UffclFiH1TH8ti6cgVmCVJIlNh1lXjIx",
      "authorship_tag": "ABX9TyOF596IR6oG+m43p7ncZQL/",
      "include_colab_link": true
    },
    "kernelspec": {
      "name": "python3",
      "display_name": "Python 3"
    },
    "language_info": {
      "name": "python"
    },
    "gpuClass": "standard",
    "accelerator": "GPU"
  },
  "cells": [
    {
      "cell_type": "markdown",
      "metadata": {
        "id": "view-in-github",
        "colab_type": "text"
      },
      "source": [
        "<a href=\"https://colab.research.google.com/github/ivan74rus/MTS-ML-CUP/blob/v2/MTS_CUP_ipynb%22%22.ipynb\" target=\"_parent\"><img src=\"https://colab.research.google.com/assets/colab-badge.svg\" alt=\"Open In Colab\"/></a>"
      ]
    },
    {
      "cell_type": "markdown",
      "source": [
        "##import"
      ],
      "metadata": {
        "id": "G_xOu4W7VnK2"
      }
    },
    {
      "cell_type": "code",
      "source": [
        "#подключить гугл диск\n",
        "from google.colab import drive\n",
        "drive.mount('/content/drive')"
      ],
      "metadata": {
        "id": "bfB7f6PGYJ8Z",
        "colab": {
          "base_uri": "https://localhost:8080/"
        },
        "outputId": "d9c171b8-1405-40a5-dd10-c963ecbd767e"
      },
      "execution_count": 1,
      "outputs": [
        {
          "output_type": "stream",
          "name": "stdout",
          "text": [
            "Mounted at /content/drive\n"
          ]
        }
      ]
    },
    {
      "cell_type": "code",
      "source": [
        "#instal catboost\n",
        "!pip install catboost"
      ],
      "metadata": {
        "id": "JvHKSDRATzw9",
        "colab": {
          "base_uri": "https://localhost:8080/"
        },
        "outputId": "4972d7c3-7df9-4e0a-db90-cb59b94f7698"
      },
      "execution_count": 2,
      "outputs": [
        {
          "output_type": "stream",
          "name": "stdout",
          "text": [
            "Looking in indexes: https://pypi.org/simple, https://us-python.pkg.dev/colab-wheels/public/simple/\n",
            "Collecting catboost\n",
            "  Downloading catboost-1.1.1-cp39-none-manylinux1_x86_64.whl (76.6 MB)\n",
            "\u001b[2K     \u001b[90m━━━━━━━━━━━━━━━━━━━━━━━━━━━━━━━━━━━━━━━━\u001b[0m \u001b[32m76.6/76.6 MB\u001b[0m \u001b[31m13.9 MB/s\u001b[0m eta \u001b[36m0:00:00\u001b[0m\n",
            "\u001b[?25hRequirement already satisfied: six in /usr/local/lib/python3.9/dist-packages (from catboost) (1.15.0)\n",
            "Requirement already satisfied: numpy>=1.16.0 in /usr/local/lib/python3.9/dist-packages (from catboost) (1.22.4)\n",
            "Requirement already satisfied: scipy in /usr/local/lib/python3.9/dist-packages (from catboost) (1.10.1)\n",
            "Requirement already satisfied: graphviz in /usr/local/lib/python3.9/dist-packages (from catboost) (0.10.1)\n",
            "Requirement already satisfied: pandas>=0.24.0 in /usr/local/lib/python3.9/dist-packages (from catboost) (1.3.5)\n",
            "Requirement already satisfied: matplotlib in /usr/local/lib/python3.9/dist-packages (from catboost) (3.5.3)\n",
            "Requirement already satisfied: plotly in /usr/local/lib/python3.9/dist-packages (from catboost) (5.5.0)\n",
            "Requirement already satisfied: pytz>=2017.3 in /usr/local/lib/python3.9/dist-packages (from pandas>=0.24.0->catboost) (2022.7.1)\n",
            "Requirement already satisfied: python-dateutil>=2.7.3 in /usr/local/lib/python3.9/dist-packages (from pandas>=0.24.0->catboost) (2.8.2)\n",
            "Requirement already satisfied: pyparsing>=2.2.1 in /usr/local/lib/python3.9/dist-packages (from matplotlib->catboost) (3.0.9)\n",
            "Requirement already satisfied: kiwisolver>=1.0.1 in /usr/local/lib/python3.9/dist-packages (from matplotlib->catboost) (1.4.4)\n",
            "Requirement already satisfied: cycler>=0.10 in /usr/local/lib/python3.9/dist-packages (from matplotlib->catboost) (0.11.0)\n",
            "Requirement already satisfied: fonttools>=4.22.0 in /usr/local/lib/python3.9/dist-packages (from matplotlib->catboost) (4.39.0)\n",
            "Requirement already satisfied: pillow>=6.2.0 in /usr/local/lib/python3.9/dist-packages (from matplotlib->catboost) (8.4.0)\n",
            "Requirement already satisfied: packaging>=20.0 in /usr/local/lib/python3.9/dist-packages (from matplotlib->catboost) (23.0)\n",
            "Requirement already satisfied: tenacity>=6.2.0 in /usr/local/lib/python3.9/dist-packages (from plotly->catboost) (8.2.2)\n",
            "Installing collected packages: catboost\n",
            "Successfully installed catboost-1.1.1\n"
          ]
        }
      ]
    },
    {
      "cell_type": "code",
      "source": [
        "import pandas as pd\n",
        "import joblib\n",
        "import numpy as np\n",
        "from random import randint\n",
        "#import time\n",
        "import pyarrow.parquet as pq\n",
        "import scipy\n",
        "import bisect\n",
        "import sklearn.metrics as metrics\n",
        "from sklearn.metrics import f1_score\n",
        "from sklearn.metrics import roc_auc_score\n",
        "from catboost import CatBoostClassifier, CatBoostRegressor, Pool\n",
        "from sklearn.model_selection import train_test_split\n",
        "#from sklearn.calibration import calibration_curve, CalibratedClassifierCV"
      ],
      "metadata": {
        "id": "_rFkNmInIuNH"
      },
      "execution_count": 3,
      "outputs": []
    },
    {
      "cell_type": "code",
      "source": [
        "# константы\n",
        "LOCAL_DATA_PATH = '/content/drive/MyDrive/DS/MTS/'\n",
        "LOCAL_DATA_PATH_2 = '/content/drive/MyDrive/DS/MTS/feat_select/'\n",
        "#SPLIT_SEED = 42\n",
        "DATA_FILE = 'competition_data_final_pqt'\n",
        "TIM_LIST = 'timur_url_list_1.csv' #'top_all_urls_2802.xlsx'\n",
        "TARGET_FILE = 'public_train.pqt'\n",
        "SUBMISSION_FILE = 'submit_2.pqt'\n",
        "\n"
      ],
      "metadata": {
        "id": "uvBOEOey_e26"
      },
      "execution_count": 4,
      "outputs": []
    },
    {
      "cell_type": "markdown",
      "source": [
        "# 1.Загружаем в пандус кусок  и готовим для ML.\n",
        " Так как ОЗУ всего 12 Гигов и не хватает, то будем выдергивать нужные фичи по кускам, сохранять все на диск в csv и затем с диска снова подгружать.    \n",
        "\n",
        "  "
      ],
      "metadata": {
        "id": "JN7gGMxU-bYZ"
      }
    },
    {
      "cell_type": "markdown",
      "source": [
        "### 1.0. Условие на нужные урлы \n",
        " \n",
        "Оставим только урлы из списка Тимура,   \n",
        "Подгрузим submit    \n"
      ],
      "metadata": {
        "id": "mjFlY2ljTau_"
      }
    },
    {
      "cell_type": "code",
      "source": [
        "#файл составлен из 5-6 частей,топ урлов (даже не  реквестам)\n",
        "# из них тимур убрал технические\n",
        "#timur_url_list_1 = pd.read_excel(f'{LOCAL_DATA_PATH}{TIM_LIST}')\n",
        "timur_url_list_1 = pd.read_csv(f'{LOCAL_DATA_PATH}{TIM_LIST}')\n",
        "#технические для дропа\n",
        "timur_url_list_tech = timur_url_list_1[timur_url_list_1['url_host'] == 0]['index'].values\n",
        "\n",
        "#дропаем технические\n",
        "timur_url_list = pd.read_csv(f'{LOCAL_DATA_PATH}top_all_urls.csv')\n",
        "timur_url_list = timur_url_list.query('index not in @timur_url_list_tech')\n",
        "\n",
        "\n",
        "#timur_url_list_freak = timur_url_list.reset_index(drop=True).loc[2001:10000,'index'].values\n",
        "\n",
        "#2700 не хватает памяти на сшивку, 2500 ок\n",
        "timur_url_list = pd.read_csv(f'{LOCAL_DATA_PATH}top_all_urls.csv')\n",
        "timur_url_list = timur_url_list.reset_index(drop=True).loc[7501:15000,'index'].values\n",
        "\n",
        "len(timur_url_list)\n",
        "#timur_url_list"
      ],
      "metadata": {
        "id": "pg91YiVXZihO",
        "colab": {
          "base_uri": "https://localhost:8080/"
        },
        "outputId": "9f4609dd-7e81-4636-aa64-6529d79c8549"
      },
      "execution_count": null,
      "outputs": [
        {
          "output_type": "execute_result",
          "data": {
            "text/plain": [
              "7500"
            ]
          },
          "metadata": {},
          "execution_count": 6
        }
      ]
    },
    {
      "cell_type": "code",
      "source": [
        "# это фичи из фич_импотант\n",
        "timur_url_list_age = pd.read_csv(f'{LOCAL_DATA_PATH}feature_age_importance_1.csv')\n",
        "timur_url_list_male = pd.read_csv(f'{LOCAL_DATA_PATH}feature_male_importance_1.csv')\n",
        "\n",
        "timur_url_list_age_2 = pd.read_csv(f'{LOCAL_DATA_PATH}feature_age_importance_2.csv')\n",
        "timur_url_list_male_2 = pd.read_csv(f'{LOCAL_DATA_PATH}feature_male_importance_2.csv')\n",
        "\n",
        "#сложеие 2х списков\n",
        "#timur_url_list_age = set (timur_url_list_age['index']) | set(timur_url_list_age_2['index'])\n",
        "#timur_url_list_male = set (timur_url_list_male['index']) |  set(timur_url_list_male_2['index'])\n",
        "\n",
        "# раздельно\n",
        "timur_url_list_age = timur_url_list_age.loc[:,'index'].values\n",
        "timur_url_list_male = timur_url_list_male.loc[:,'index'].values\n",
        "\n"
      ],
      "metadata": {
        "id": "LP3DnS13zEzy"
      },
      "execution_count": null,
      "outputs": []
    },
    {
      "cell_type": "code",
      "source": [
        "timur_url_list_age_v1 = set (timur_url_list_age)\n",
        "timur_url_list_male_v1 = set (timur_url_list_male)"
      ],
      "metadata": {
        "id": "p0MG9lXUw3kZ"
      },
      "execution_count": null,
      "outputs": []
    },
    {
      "cell_type": "code",
      "source": [
        "timur_url_list_age_v2 = set (timur_url_list_age_v2)\n",
        "timur_url_list_male_v2 = set (timur_url_list_male_v2)"
      ],
      "metadata": {
        "id": "ZIr1lbcxxTGz"
      },
      "execution_count": null,
      "outputs": []
    },
    {
      "cell_type": "code",
      "source": [
        "timur_url_list_age = timur_url_list_age_v1 | timur_url_list_age_v2\n",
        "timur_url_list_male = timur_url_list_male_v1 | timur_url_list_male_v2"
      ],
      "metadata": {
        "id": "p0hKGVeAxmSD"
      },
      "execution_count": null,
      "outputs": []
    },
    {
      "cell_type": "code",
      "source": [
        "print(len (timur_url_list_age))\n",
        "print(len(timur_url_list_male))"
      ],
      "metadata": {
        "colab": {
          "base_uri": "https://localhost:8080/"
        },
        "id": "PtfjXJ-pU6w0",
        "outputId": "9e1fba35-6cf2-4851-b389-7bea7ecbef68"
      },
      "execution_count": null,
      "outputs": [
        {
          "output_type": "stream",
          "name": "stdout",
          "text": [
            "1645\n",
            "1604\n"
          ]
        }
      ]
    },
    {
      "cell_type": "code",
      "source": [
        "timur_url_list_age_v2"
      ],
      "metadata": {
        "id": "ihuCIJR6Hn-6",
        "colab": {
          "base_uri": "https://localhost:8080/"
        },
        "outputId": "806f74d0-dea3-41c1-ad79-255a9c17e44c"
      },
      "execution_count": null,
      "outputs": [
        {
          "output_type": "execute_result",
          "data": {
            "text/plain": [
              "{'korrnews.ru',\n",
              " 'forbes-ru.turbopages.org',\n",
              " 'api.placehere.link',\n",
              " 'rsport-ria-ru.turbopages.org',\n",
              " 'ulibky.ru',\n",
              " 'rusvesna.su',\n",
              " 'dachamechty.ru',\n",
              " 'do.ngs.ru',\n",
              " 'hd.kinopoisk.ru',\n",
              " 'coolsen.ru',\n",
              " 'm.5-tv.ru',\n",
              " 'drom.ru',\n",
              " 'jut.su',\n",
              " 'super.ru',\n",
              " 'spb-kp-ru.turbopages.org',\n",
              " 'hh.kz',\n",
              " 'prodoctorov.ru',\n",
              " 's1.stc.all.kpcdn.net',\n",
              " 'dic.academic.ru',\n",
              " 'vtb.ru',\n",
              " 'vsetam.net',\n",
              " 'sun9-80.userapi.com',\n",
              " 'povarenok-ru.turbopages.org',\n",
              " 'qcomment.ru',\n",
              " 'online-red.com',\n",
              " 'mp3iq.net',\n",
              " 'pfr.gov.ru',\n",
              " 'news.mail.ru',\n",
              " 'movieads.ru',\n",
              " 'tutu.ru',\n",
              " 'ru.wikipedia.org',\n",
              " 'ru.warface.com',\n",
              " '2gis.ru',\n",
              " 'vedomosti-ru.turbopages.org',\n",
              " 'avtoliga.taxi',\n",
              " 'twitter.com',\n",
              " 'kp-ru.turbopages.org',\n",
              " 'medicinik-ac.ru',\n",
              " 'context.reverso.net',\n",
              " 'automania-shop.ru',\n",
              " 'bankiros-ru.turbopages.org',\n",
              " 'acs2.sbrf.ru',\n",
              " 'm.vz.ru',\n",
              " 'sport--express-ru.turbopages.org',\n",
              " 'mynickname.com',\n",
              " 'm.ru.investing.com',\n",
              " 'bit.ly',\n",
              " 'connect.ok.ru',\n",
              " 'lena-miro.ru',\n",
              " 'studfile.net',\n",
              " 'node3.online.sberbank.ru',\n",
              " 'probolezny.ru',\n",
              " 'vp.rambler.ru',\n",
              " 'sberbank.ru',\n",
              " 'otzovik.com',\n",
              " 'wroom.ru',\n",
              " 'm.igromania.ru',\n",
              " 'tutinteresno.ru',\n",
              " 'uduba.com',\n",
              " 'm.fotostrana.ru',\n",
              " 'ipic.su',\n",
              " 'apps.apple.com',\n",
              " 'newradio.ru',\n",
              " 'razlozhi.ru',\n",
              " 'widget.premieralight.ru',\n",
              " 'voprosoff.net',\n",
              " 'mobifitness.ru',\n",
              " 'interesnoznat.com',\n",
              " 'envybox.io',\n",
              " 'rlsnet.ru',\n",
              " 'privetpeople.ru',\n",
              " 'turkru.tv',\n",
              " 'women-tusovka.ru',\n",
              " 'femmie.ru',\n",
              " 'akafistnik.ru',\n",
              " 'autolada.ru',\n",
              " 'my.anwap.pub',\n",
              " 'jobfilter.ru',\n",
              " 'masterh5.adriver.ru',\n",
              " 'ege.sdamgia.ru',\n",
              " 'football24.ru',\n",
              " 'quote.rbc.ru',\n",
              " 'legolas.allohastream.com',\n",
              " 'dnevnik.ru',\n",
              " '5play.ru',\n",
              " 'shkolazhizni.ru',\n",
              " 't.co',\n",
              " '1plus1tv.ru',\n",
              " 'amp.rbc.ru',\n",
              " 'cubiq.ru',\n",
              " 'api.my.games',\n",
              " 'souspark.ru',\n",
              " 't.mail.ru',\n",
              " 'ren.tv',\n",
              " 'ria-ru.turbopages.org',\n",
              " 'allshops.me',\n",
              " 'eda.ru',\n",
              " 'elitenetflix.ru',\n",
              " 'federal.tv',\n",
              " 'citaty.info',\n",
              " 'us05web.zoom.us',\n",
              " 'tv.cmlt.tv',\n",
              " 'womanadvice.ru',\n",
              " 'games.mail.ru',\n",
              " 'dtf.ru',\n",
              " 's3-us-west-2.amazonaws.com',\n",
              " 'o-pogode.ru',\n",
              " 'tattooinfo.ru',\n",
              " 'tv.mail.ru',\n",
              " 'plus.yandex.ru',\n",
              " 'i.ytimg.com',\n",
              " 'lekvapteke.ru',\n",
              " 'sun9-5.userapi.com',\n",
              " 'kodeks.ru',\n",
              " 'avr.tivizor.ru',\n",
              " 'mybuses.ru',\n",
              " 'chelseanews.ru',\n",
              " 'kdl.ru',\n",
              " 'cdn.appnext.com',\n",
              " 'groupprice.ru',\n",
              " 'thepresentation.ru',\n",
              " 'astromeridian-ru.turbopages.org',\n",
              " 'static.skwstat.ru',\n",
              " 'player.vgtrk.com',\n",
              " 'play.google.com',\n",
              " 'news.rambler.ru',\n",
              " 'ntvplus.tv',\n",
              " 'risovach.ru',\n",
              " 'ooo.fm',\n",
              " 'poezdato.net',\n",
              " '24smi.info',\n",
              " 'mh6.adriver.ru',\n",
              " 'pogoda.mail.ru',\n",
              " 'dsa-ee.hybrid.ai',\n",
              " 'vkuhkne.ru',\n",
              " 'ru.sefon.pro',\n",
              " 'pikabu-ru.turbopages.org',\n",
              " 'mangalib.me',\n",
              " 'xn--b1algemdcsb.xn--p1ai',\n",
              " 'rocketme.top',\n",
              " 'servers3.adriver.ru',\n",
              " 'smotrim.ru',\n",
              " 'instasaved.net',\n",
              " 'kommersant-ru.turbopages.org',\n",
              " 'friday.ru',\n",
              " 'ulogin.ru',\n",
              " 'govoritmoskva.ru',\n",
              " 'fssp.gov.ru',\n",
              " 'velobike.ru',\n",
              " 'm.lenta.ru',\n",
              " 'go.mail.ru',\n",
              " 'googlesyndication.com',\n",
              " 'muzonov.net',\n",
              " 'tass.ru',\n",
              " 'author.today',\n",
              " 'enot.io',\n",
              " 'prekrasnaya.com',\n",
              " 'otkritkiok.ru',\n",
              " 'omnidesk.ru',\n",
              " 'hoff.ru',\n",
              " 'mh8.adriver.ru',\n",
              " 'uslugi.yandex.ru',\n",
              " 'vc.ru',\n",
              " 'auto.mail.ru',\n",
              " 'fss.ru',\n",
              " 'ad.adriver.ru',\n",
              " 'kfc-kupons.ru',\n",
              " 'moevideo.biz',\n",
              " 'muzofond.fm',\n",
              " 'mts.ru',\n",
              " 'tilda.ws',\n",
              " 'regnum.ru',\n",
              " 'st.mycdn.me',\n",
              " 'inforuss.info',\n",
              " 'thesame.tv',\n",
              " 'news-front.info',\n",
              " 'web.archive.org',\n",
              " 'izvmor.ru',\n",
              " 'api.stiven-king.com',\n",
              " 'web.whatsapp.com',\n",
              " 'nevnov-ru.turbopages.org',\n",
              " 'api.venyoo.ru',\n",
              " 'kinf.ru',\n",
              " 'ukraina.ru',\n",
              " 'm.zhongddi.com',\n",
              " 'tv.lordfilm.lu',\n",
              " 'private.auth.alfabank.ru',\n",
              " 'life-ru.turbopages.org',\n",
              " 'fintolk.pro',\n",
              " 'belyashi.thealloha.club',\n",
              " 'forums.playground.ru',\n",
              " 'domashniy.ru',\n",
              " 'motor-ru.cdn.ampproject.org',\n",
              " 'expertology.ru',\n",
              " 'zen.yandex.ru',\n",
              " 'lifehacker.ru',\n",
              " 'ria.ru',\n",
              " 'sibmama.ru',\n",
              " 'sportkp.ru',\n",
              " 'yablyk.com',\n",
              " 'ssp-rtb.sape.ru',\n",
              " 'music4you.cc',\n",
              " 'dsa-eu.hybrid.ai',\n",
              " 'tvcenter.ru',\n",
              " 'sunhome-ru.turbopages.org',\n",
              " 'mail.yandex.ru',\n",
              " 'novate.ru',\n",
              " 'mp3fly.net',\n",
              " 'expert.ru',\n",
              " 'dud.allohalive.com',\n",
              " 'ru.wargaming.net',\n",
              " 'instagram.com',\n",
              " 'maxidom.ru',\n",
              " 'rasp.yandex.ru',\n",
              " 'vest-nic.ru',\n",
              " 'kartinok.ru',\n",
              " 'm.love.ru',\n",
              " 'exchange.buzzoola.com',\n",
              " 'sheldon.allohalive.com',\n",
              " 'dfm.ru',\n",
              " 'clck.lentainform.com',\n",
              " 'rb.infox.sg',\n",
              " 'gmail.com',\n",
              " 'eldorado.ru',\n",
              " 'enjourneys.com',\n",
              " 'travel-dom.ru',\n",
              " 'cont.ws',\n",
              " 'poezda.biletyplus.ru',\n",
              " 'yakutia-daily.ru',\n",
              " 'riafan.ru',\n",
              " 'remontka.pro',\n",
              " 'lumpics.ru',\n",
              " 'mobilejump.mobi',\n",
              " 'googleads.g.doubleclick.net',\n",
              " 'checko.ru',\n",
              " 'weather.rambler.ru',\n",
              " 'docs.cntd.ru',\n",
              " 'samo.vazhno.ru',\n",
              " 'sputnik-georgia.ru',\n",
              " 'howto-news.info',\n",
              " 'text-pesni.com',\n",
              " 'avito.ru',\n",
              " 'rg-ru.turbopages.org',\n",
              " 'playreplay.net',\n",
              " 'tass-ru.turbopages.org',\n",
              " 'genius.com',\n",
              " 'lenta-ru.turbopages.org',\n",
              " 'alfabank.ru',\n",
              " 'feeds.feedburner.com',\n",
              " 'old.radiorecord.ru',\n",
              " 'clinica--opora-ru.turbopages.org',\n",
              " 'tlgrm.ru',\n",
              " 'telegraf.com.ua',\n",
              " 'vgif.ru',\n",
              " 'cyber.sports.ru',\n",
              " 'mp3uk.net',\n",
              " 'scripts-old.advmusic.com',\n",
              " 'ibispaint.com',\n",
              " 'mcdonaldsmenu.ru',\n",
              " 'getcourse.ru',\n",
              " 'mamba.ru',\n",
              " 'pogoda7.ru',\n",
              " '72.ru',\n",
              " 'rutraveller.ru',\n",
              " 'm.tvzvezda.ru',\n",
              " 's5.stc.all.kpcdn.net',\n",
              " 'coub.com',\n",
              " 's7.stc.all.kpcdn.net',\n",
              " 'infotime.co',\n",
              " 'sbis.ru',\n",
              " 'ura.news',\n",
              " 'otvet.mail.ru',\n",
              " 'acs1.sbrf.ru',\n",
              " 'moslenta.ru',\n",
              " 'zetserial.online',\n",
              " 'my.mos.ru',\n",
              " 'irecommend.ru',\n",
              " 'stopnews.online',\n",
              " 'mk-ru.turbopages.org',\n",
              " 't.rasp.yandex.ru',\n",
              " 'nanoreview.net',\n",
              " 'kakoysegodnyaprazdnik.ru',\n",
              " 'love.mail.ru',\n",
              " 'ngs24.ru',\n",
              " 'eadaily.com',\n",
              " 'mp3zen.net',\n",
              " 'glavnoe.life',\n",
              " 'vip.zagonka.net',\n",
              " 'vilkin.pro',\n",
              " 'yandex-video.naydex.net',\n",
              " 'acs4.sbrf.ru',\n",
              " 'aliexpress.ru',\n",
              " '-1',\n",
              " 'travel.yandex.ru',\n",
              " 'showjet.tv',\n",
              " 'ecco.ru',\n",
              " 'shopandshow.ru',\n",
              " 'gamemag.ru',\n",
              " 'meshok.net',\n",
              " '1prime-ru.turbopages.org',\n",
              " 'bankiros.ru',\n",
              " 'rb.ru',\n",
              " 'megafon.tv',\n",
              " 'fipi.ru',\n",
              " 'avr.i-trailer.ru',\n",
              " 'otkritki2.ru',\n",
              " 'smi.expert',\n",
              " 'req.startappservice.com',\n",
              " 'ivolk.ru',\n",
              " 'prekrasnaja.com',\n",
              " 'sansa.allohalive.com',\n",
              " 'rossaprimavera.ru',\n",
              " 'luckclub.ru',\n",
              " 'sobesednik.ru',\n",
              " 'amulet-shield.ru',\n",
              " 'news-sphere.com',\n",
              " 'mobs.mail.ru',\n",
              " 's.4pda.to',\n",
              " 'memepedia.ru',\n",
              " 'xn--80aapampemcchfmo7a3c9ehj.xn--p1ai',\n",
              " 'google.com',\n",
              " 'tnt-online.ru',\n",
              " 'anketa.alfabank.ru',\n",
              " 'amp-eda-ru.cdn.ampproject.org',\n",
              " 'lolz.guru',\n",
              " 'aif-ru.turbopages.org',\n",
              " 'realty.yandex.ru',\n",
              " 'videomore.ru',\n",
              " 'ladyelena-ru.turbopages.org',\n",
              " 'spb.superjob.ru',\n",
              " 'player.mediavitrina.ru',\n",
              " 'ichip.ru',\n",
              " 'teleprogramma.pro',\n",
              " 'proza.ru',\n",
              " 'vk.link',\n",
              " 'ixbt.video',\n",
              " 'utv.ru',\n",
              " 'magadanmedia.ru',\n",
              " 'otatuirovkah.ru',\n",
              " 'translated.turbopages.org',\n",
              " 'ru.drivemusic.me',\n",
              " 'app-99195.games.s3.yandex.net',\n",
              " 'media-dad.com',\n",
              " 'kto-zvonil-mne.ru',\n",
              " '4geo.ru',\n",
              " 'forbes.ru',\n",
              " 'novost1.ru',\n",
              " 'aliexpress.com',\n",
              " 'unblock.mts.ru',\n",
              " 'turkish-tv-series.ru',\n",
              " 'pdalife.ru',\n",
              " 'g0.sunlight.net',\n",
              " 'm.sibkray.ru',\n",
              " 'spbdnevnik.ru',\n",
              " 'tele2.ru',\n",
              " 'mcgrp.ru',\n",
              " 'pravoved.ru',\n",
              " 'rollbun.com',\n",
              " 'gazeta.ru',\n",
              " 'ipleer.com',\n",
              " 'away.vk.com',\n",
              " 'daily-inform.ru',\n",
              " 'jimdo.com',\n",
              " 'reformal.ru',\n",
              " 'habr.com',\n",
              " 'ati.su',\n",
              " '1000iodinsovet.ru',\n",
              " 'kinopoisk.ru',\n",
              " 'maps.goweatherradar.com',\n",
              " 'sites.google.com',\n",
              " 'pochta.ru',\n",
              " '3dnews.ru',\n",
              " 'lifehacker-ru.cdn.ampproject.org',\n",
              " 'dpd.ru',\n",
              " 'vk.com',\n",
              " 'profi.ru',\n",
              " 'paymentnew.ok.ru',\n",
              " 'msk.postupi.online',\n",
              " 'glavbukh-ru.turbopages.org',\n",
              " 'matchtv-ru.turbopages.org',\n",
              " 'm.tsargrad.tv',\n",
              " 'avidreaders.ru',\n",
              " 'burgerking-kuponi.ru',\n",
              " 'zr-ru.turbopages.org',\n",
              " 'radiosputnik.ria.ru',\n",
              " 's3.stc.all.kpcdn.net',\n",
              " 'udipedia-one.ru',\n",
              " 'spletnik-ru.turbopages.org',\n",
              " 'smi2.ru',\n",
              " 'news-ru.turbopages.org',\n",
              " 'lk.gosuslugi.ru',\n",
              " 'rtb.com.ru',\n",
              " 'data-vykhoda.ru',\n",
              " 'hoday.ru',\n",
              " 'kp.kg',\n",
              " 'horo.mail.ru',\n",
              " 'tevas.mobi',\n",
              " 'kto-chto-gde.ru',\n",
              " 'auto-rambler-ru.cdn.ampproject.org',\n",
              " 'fighttime.ru',\n",
              " 'minutkapozitiva.ru',\n",
              " 'russian7.ru',\n",
              " 'udipedia-green.ru',\n",
              " 'biletyplus.ru',\n",
              " 'youtube.com',\n",
              " 'pickpoint.ru',\n",
              " 'sprashivalka.com',\n",
              " 'ssp.rambler.ru',\n",
              " 'zakupki.gov.ru',\n",
              " 'ssp.bidvol.com',\n",
              " 'bloknot-volgodonsk.ru',\n",
              " 'relap.io',\n",
              " 'beauty.ua',\n",
              " 'graziamagazine.ru',\n",
              " 'spb.cian.ru',\n",
              " 'lapkins.ru',\n",
              " 'my.mosenergosbyt.ru',\n",
              " 'disqus.com',\n",
              " 'ucrazy.ru',\n",
              " 'medaboutme.ru',\n",
              " 'syndication.realsrv.com',\n",
              " 'legalacts.ru',\n",
              " '9111-ru.turbopages.org',\n",
              " 'primpress.ru',\n",
              " 'bus.biletyplus.ru',\n",
              " 'cdn.adhigh.net',\n",
              " 'dkbm-web.autoins.ru',\n",
              " 'auto.ironhorse.ru',\n",
              " 'russia.superjob.ru',\n",
              " 'm.ura.news',\n",
              " 'kassa.rambler.ru',\n",
              " 'alloha.tv',\n",
              " 'teleprogramma-pro.turbopages.org',\n",
              " 'hlamer.ru',\n",
              " 'samsung.com',\n",
              " 'news-af.feednews.com',\n",
              " 'timehd.org',\n",
              " 'svpressa.ru',\n",
              " 'primamedia.ru',\n",
              " 'link.alfabank.ru',\n",
              " 'profile.ru',\n",
              " 'my-calend.ru',\n",
              " 'interfax-ru.turbopages.org',\n",
              " 's.optnx.com',\n",
              " 'flipboard.com',\n",
              " 'ru.m.wikipedia.org',\n",
              " 'servers7.adriver.ru',\n",
              " 'programma-peredach.com',\n",
              " 'shpok.org',\n",
              " 'avrg.i-trailer.ru',\n",
              " 'mi7-news.org',\n",
              " 'id.tinkoff.ru',\n",
              " 'm1-shop.ru',\n",
              " 'showjet.net',\n",
              " 'delivery-club.ru',\n",
              " 'meduza.io',\n",
              " 'teksty-pesenok.ru',\n",
              " 'sportmaster.ru',\n",
              " 'minibus.biletyplus.ru',\n",
              " 'trashbox.ru',\n",
              " 'vplate.ru',\n",
              " 'imgur.com',\n",
              " 'downloadcenter.samsung.com',\n",
              " 'servers1.adriver.ru',\n",
              " 'tvzvezda.ru',\n",
              " 'autoreview.ru',\n",
              " 'news.gnezdo.ru',\n",
              " 'ramblernews.media.eagleplatform.com',\n",
              " 'tvsamara-ru.turbopages.org',\n",
              " '360.com',\n",
              " 'kinostream.media',\n",
              " 'animego.online',\n",
              " 'loveplanet.ru',\n",
              " '1qe.info',\n",
              " 'm.spletnik.ru',\n",
              " 'regnum-ru.turbopages.org',\n",
              " 'fc.extraextaz.com',\n",
              " 'rannews.ru',\n",
              " 'm.hitmos.com',\n",
              " 'labirint.ru',\n",
              " 'ru.wikihow.com',\n",
              " 'm-gazeta-ru.cdn.ampproject.org',\n",
              " 'uslugi.tatarstan.ru',\n",
              " 'thumb-p7.xhcdn.com',\n",
              " 's0.2mdn.net',\n",
              " 'xn--90adear.xn--p1ai',\n",
              " 'econet.ru',\n",
              " 'kad.arbitr.ru',\n",
              " 'tube.buzzoola.com',\n",
              " 'cdn.kidoz.net',\n",
              " '3d-galleru.ru',\n",
              " 'index.kodifikant.ru',\n",
              " 'appleinsider.ru',\n",
              " 'iz-ru.cdn.ampproject.org',\n",
              " 'radiorecord.ru',\n",
              " 'championat-com.turbopages.org',\n",
              " 'riamo.ru',\n",
              " 'app.city.travel',\n",
              " 'yandex.ua',\n",
              " 'i.pinimg.com',\n",
              " 'm.povar.ru',\n",
              " 'adme.ru',\n",
              " 'drivemusic.me',\n",
              " 'avtika.ru',\n",
              " 'gogov.ru',\n",
              " 'vbr.ru',\n",
              " 'cloud.mail.ru',\n",
              " 'amp-7days-ru.cdn.ampproject.org',\n",
              " 'kinoplay.app',\n",
              " 'modmcpe.net',\n",
              " 'web.telegram.org',\n",
              " 'nsk-aif-ru.turbopages.org',\n",
              " 'daily-afisha-ru.cdn.ampproject.org',\n",
              " 'prozoro.net.ua',\n",
              " 'postium.ru',\n",
              " '24tv.ua',\n",
              " 'adwile.com',\n",
              " 'amp.eda.ru',\n",
              " 's16.stc.all.kpcdn.net',\n",
              " 'videotoday.site',\n",
              " 'drive2.ru',\n",
              " 'doctorshishonin.ru',\n",
              " 'kodik.cc',\n",
              " 'news-sportbox-ru.turbopages.org',\n",
              " 'musify.club',\n",
              " 'ilibrary.ru',\n",
              " 'citilink.ru',\n",
              " 'shazoo.ru',\n",
              " 'udipediya.ru',\n",
              " 'tatufoto.com',\n",
              " 'uchi.ru',\n",
              " 'travel.rambler.ru',\n",
              " 'fe2.update.microsoft.com',\n",
              " 'bloknot.ru',\n",
              " 'mir24-tv.turbopages.org',\n",
              " 'amp-sport24-ru.cdn.ampproject.org',\n",
              " 'fb-ru.turbopages.org',\n",
              " 'pikabu.ru',\n",
              " 'kfcsale.ru',\n",
              " 'bloknot-volgograd.ru',\n",
              " 'mail.ru',\n",
              " 'pg21.ru',\n",
              " 'apteka.ru',\n",
              " 'promotion.aliexpress.ru',\n",
              " 'api.cian.ru',\n",
              " '0-hi--tech-mail-ru-0.cdn.ampproject.org',\n",
              " 'ussurmedia.ru',\n",
              " 'bipbap.ru',\n",
              " 'appetitres.ru',\n",
              " 'allfont.ru',\n",
              " 'slovo.me',\n",
              " 'spb.zoon.ru',\n",
              " 'torgi.gov.ru',\n",
              " 'mediametrics.ru',\n",
              " 'avtoshark.com',\n",
              " 'telemetr.me',\n",
              " 'medikforum-ru.turbopages.org',\n",
              " 'litres.ru',\n",
              " 'sportrecs.com',\n",
              " 'starhit-ru.turbopages.org',\n",
              " 'pkk.rosreestr.ru',\n",
              " 'autospot.ru',\n",
              " 'mobtop.com',\n",
              " 'ssp.otm-r.com',\n",
              " 's.viiadr.com',\n",
              " 'dnr-live.ru',\n",
              " 'doctor.rambler.ru',\n",
              " 'kg-portal.ru',\n",
              " 'm.sport-express.ru',\n",
              " 'publication.pravo.gov.ru',\n",
              " 'cis.infox.sg',\n",
              " 'spaces.im',\n",
              " 'nissan-modus.ru',\n",
              " 'ex.24smi.info',\n",
              " 'car.ru',\n",
              " 'gdz.ru',\n",
              " 'yavitrina.ru',\n",
              " 'cian.ru',\n",
              " 'gastronom-ru.turbopages.org',\n",
              " 'root-device.ru',\n",
              " 'dl.backbook.me',\n",
              " 'drive2-com.turbopages.org',\n",
              " '101.ru',\n",
              " 'mirturbaz.ru',\n",
              " 'lightstories.site',\n",
              " 'sibkray.ru',\n",
              " 'infox.sg',\n",
              " 'news-z.info',\n",
              " 'home.mi.com',\n",
              " 'socprav.ru',\n",
              " 'igromania-ru.turbopages.org',\n",
              " 'tpc.googlesyndication.com',\n",
              " 'russian-rt-com.turbopages.org',\n",
              " 'sudact.ru',\n",
              " 'mp3ha.org',\n",
              " 'online.rshb.ru',\n",
              " 'mir24.tv',\n",
              " '73online.ru',\n",
              " 'players.brightcove.net',\n",
              " 'drive2-ru.turbopages.org',\n",
              " '2minutki.ru',\n",
              " 'enigma--project-ru.turbopages.org',\n",
              " '4251.tech',\n",
              " 'gosuslugi.ru',\n",
              " 'beeline.ru',\n",
              " 'takprosto.cc',\n",
              " 'm.sobaka.ru',\n",
              " 'content.jwplatform.com',\n",
              " 'facebook.com',\n",
              " 'esia.gosuslugi.ru',\n",
              " 'leroymerlin.ru',\n",
              " 'pronedra.ru',\n",
              " 'amp.sport24.ru',\n",
              " 'cocoin.su',\n",
              " 'matchtv.ru',\n",
              " 'onrealt.ru',\n",
              " 'finance-rambler-ru.cdn.ampproject.org',\n",
              " 'v-fall.com',\n",
              " 'hl.24video.in',\n",
              " 'mobile.ok.ru',\n",
              " 'store.steampowered.com',\n",
              " 'auth2.bitrix24.net',\n",
              " 'm.mp3xa.fm',\n",
              " 'emosurf.com',\n",
              " 's12.stc.all.kpcdn.net',\n",
              " 'ugra-news.ru',\n",
              " 'filmskino.site',\n",
              " 'news.smi2.ru',\n",
              " 'studopedia.ru',\n",
              " 'rezka.ag',\n",
              " 'glas.ru',\n",
              " 'toptattoo.ru',\n",
              " 'media.discordapp.net',\n",
              " 'tvcenter-ru.turbopages.org',\n",
              " '99px.ru',\n",
              " 'nukadeti.ru',\n",
              " 'forum.consultant.ru',\n",
              " 'rutube.ru',\n",
              " 'videoroll.net',\n",
              " 'kp.ru',\n",
              " 'gazeta-ru.turbopages.org',\n",
              " 'static.1tv.ru',\n",
              " 'regmarkets.ru',\n",
              " 'v1.220vk.ru',\n",
              " 'online.sberbank.ru',\n",
              " 'doctorpiter.ru',\n",
              " 'postupi.online',\n",
              " 'vesiskitim.ru',\n",
              " 'online.sbis.ru',\n",
              " 'more.tv',\n",
              " 'radario.ru',\n",
              " 'health.mail.ru',\n",
              " 'alcofan.com',\n",
              " 'sovet-ok.ru',\n",
              " 'imasdk.googleapis.com',\n",
              " 'isralove.org',\n",
              " 'pozdravok.ru',\n",
              " 'youla.ru',\n",
              " 'cdn.otm-r.com',\n",
              " 'mysekret-ru.turbopages.org',\n",
              " 'avto-russia.ru',\n",
              " 'krutimotor.ru',\n",
              " 'utclient.utorrent.com',\n",
              " 'allcalc.ru',\n",
              " 'apteka-103-by.turbopages.org',\n",
              " 'professionali.ru',\n",
              " 'amp.championat.com',\n",
              " 'sportmail.ru',\n",
              " 'rutxt.ru',\n",
              " 'ura-news.turbopages.org',\n",
              " 'icloud.com',\n",
              " 'avatars.mds.yandex.net',\n",
              " 'blitz.plus',\n",
              " '7days.ru',\n",
              " 'tsargrad.tv',\n",
              " 'vashurok.ru',\n",
              " 'plplayer.online',\n",
              " 'app-96445.games.s3.yandex.net',\n",
              " 'tropki.ru',\n",
              " 'zinref.ru',\n",
              " 'pravda-sotrudnikov.ru',\n",
              " 'static.kost.tv',\n",
              " 'iz.ru',\n",
              " 'autopiter.ru',\n",
              " 'page-ru.didiglobal.com',\n",
              " 'promokodi.net',\n",
              " 'manrule.ru',\n",
              " 'login.microsoftonline.com',\n",
              " 'sun9-88.userapi.com',\n",
              " 'turbopages.org',\n",
              " 'cdn.ushareit.com',\n",
              " 'day.ru',\n",
              " 'speedtest.net',\n",
              " '100cards.ru',\n",
              " 'budu5.com',\n",
              " 'm.auto.ru',\n",
              " 'iklife-ru.turbopages.org',\n",
              " 'banners.adfox.ru',\n",
              " 'kanobu.ru',\n",
              " 't.me',\n",
              " 'yastatic.net',\n",
              " 'lk.mts.ru',\n",
              " 'top-radio.ru',\n",
              " 'ficbook.net',\n",
              " 'amp-kp-ru.cdn.ampproject.org',\n",
              " 'callfilter.app',\n",
              " 'justbutik.ru',\n",
              " 'login.mos.ru',\n",
              " 'reservationsteps.ru',\n",
              " 'markakachestva.ru',\n",
              " 'vsepredohraniteli.ru',\n",
              " 'argumenti.ru',\n",
              " 'spb.yavitrina.ru',\n",
              " 'rozetked.me',\n",
              " 'amdm.ru',\n",
              " 'login.dnevnik.ru',\n",
              " 'kodik.info',\n",
              " 'datki.net',\n",
              " 'fascist.thealloha.club',\n",
              " 'edp2.adriver.ru',\n",
              " 'muzmo.org',\n",
              " 'yclients.com',\n",
              " 'pbs.alfasense.com',\n",
              " 'online.vtb.ru',\n",
              " 'peopletalk.ru',\n",
              " 'wwv.zvuch.com',\n",
              " 'zamanilka.ru',\n",
              " 'webattach.mail.yandex.net',\n",
              " 'utarget.ru',\n",
              " 'o-krohe.ru',\n",
              " 's-cdn.sportbox.ru',\n",
              " 'lifehacker-ru.turbopages.org',\n",
              " 'busti.me',\n",
              " 'letidor-ru.cdn.ampproject.org',\n",
              " 'ad.mail.ru',\n",
              " 'solenka.info',\n",
              " 'news.ru',\n",
              " 'echo.msk.ru',\n",
              " 'sport24.ru',\n",
              " 'm.47news.ru',\n",
              " 'mi7.ru',\n",
              " 'trudvsem.ru',\n",
              " 'iz-ru.turbopages.org',\n",
              " 'podruzke.ru',\n",
              " 'forum.lyrsense.com',\n",
              " 'stroy-podskazka.ru',\n",
              " 's11.stc.all.kpcdn.net',\n",
              " 'vesiskitim-ru.turbopages.org',\n",
              " 'rt.bongacams14.com',\n",
              " 'golos-pravda.ru',\n",
              " 'tekst-pesni.online',\n",
              " 'thumb-p9.xhcdn.com',\n",
              " 'dsp.rtb.mts.ru',\n",
              " 'ok.ru',\n",
              " 'litnet.com',\n",
              " 'art-lunch.ru',\n",
              " 'hh.uz',\n",
              " 'euroauto.ru',\n",
              " 'deti.mail.ru',\n",
              " 'gorobzor.ru',\n",
              " '24smi-org.turbopages.org',\n",
              " '1prime.ru',\n",
              " 'm.avito.ru',\n",
              " 'start.ru',\n",
              " 'warfiles.ru',\n",
              " 'udipedia.net',\n",
              " 'krasnodar.hh.ru',\n",
              " 'acs3.sbrf.ru',\n",
              " 'inosmi.ru',\n",
              " 'brobank.ru',\n",
              " 'pluggedin.ru',\n",
              " 'sdk.meitusdk.com',\n",
              " 'politexpert-net.turbopages.org',\n",
              " 'mixer-days.com',\n",
              " 'ruserialy.net',\n",
              " 'news-mail-ru.cdn.ampproject.org',\n",
              " 'gorodrabot.ru',\n",
              " 'razdvabm.com',\n",
              " 'zvuk.com',\n",
              " 'test3.ok.ru',\n",
              " 'povar-ru.turbopages.org',\n",
              " 'meduniver.com',\n",
              " 'uslugi.mosreg.ru',\n",
              " 'sun9-17.userapi.com',\n",
              " 'anews.com',\n",
              " 'eadaily-com.turbopages.org',\n",
              " 'fan-news.org',\n",
              " 'mybedy.com',\n",
              " 'ej.sudrf.ru',\n",
              " 'adobe.com',\n",
              " 'sportrbc-ru.turbopages.org',\n",
              " 'steamcommunity.com',\n",
              " 'gismeteo.ru',\n",
              " 'idea.bolshoyvopros.ru',\n",
              " 'timepad.ru',\n",
              " 'news-rambler-ru.turbopages.org',\n",
              " 'cdn02.cdn.amatic.com',\n",
              " 'id.mail.ru',\n",
              " 'big.infomix.best',\n",
              " 'safebrowsdv.com',\n",
              " 'gdeposylka.ru',\n",
              " 'calend.ru',\n",
              " 'ukraina-ru.turbopages.org',\n",
              " 'cpg.money.mail.ru',\n",
              " '1gai.ru',\n",
              " 'tinkoff.ru',\n",
              " 'qiwi.com',\n",
              " 'rueconomics.ru',\n",
              " 'baidu.com',\n",
              " 'toloka.yandex.ru',\n",
              " 'egisso.ru',\n",
              " 'm.7days.ru',\n",
              " 'love.ru',\n",
              " 'medelement.com',\n",
              " 'videocdn.tv',\n",
              " 'gamesisart.ru',\n",
              " 'journal.tinkoff.ru',\n",
              " 'dobrogoutra.ru',\n",
              " 'okko.tv',\n",
              " 'lenta.com',\n",
              " 'time100.ru',\n",
              " 'moskva.bankiros.ru',\n",
              " 'smehopozitiv.ru',\n",
              " 'imo.im',\n",
              " 'sun9-85.userapi.com',\n",
              " 'm-lenta-ru.cdn.ampproject.org',\n",
              " 'intrigue.dating',\n",
              " 'geocult.ru',\n",
              " 'argumenti-ru.turbopages.org',\n",
              " 'likelol.online',\n",
              " 'readmanga.live',\n",
              " 'e.mail.ru',\n",
              " '24smi.org',\n",
              " 'webmaster.yandex.ru',\n",
              " 'node1.online.sberbank.ru',\n",
              " 'nation--news-ru.turbopages.org',\n",
              " 'sun9-29.userapi.com',\n",
              " 'api.facemojikeyboard.com',\n",
              " 'zvonili.com',\n",
              " 'quickaccess.internet.apps.samsung.com',\n",
              " 'kakpishem.ru',\n",
              " 'stories.6chcdn.feednews.com',\n",
              " 'premier.one',\n",
              " 'mos.ru',\n",
              " 'test2.ok.ru',\n",
              " 'ferra.media.eagleplatform.com',\n",
              " 'ads.betweendigital.com',\n",
              " 'shikimori.one',\n",
              " 'l.instagram.com',\n",
              " 'hhcdn.ru',\n",
              " 'servers2.adriver.ru',\n",
              " 'telegra.ph',\n",
              " 'dns-shop.ru',\n",
              " 'base.garant.ru',\n",
              " 'kodifikant.ru',\n",
              " 'm.vk.com',\n",
              " 'hi-tech.mail.ru',\n",
              " 'interfax.ru',\n",
              " 'pulse.mail.ru',\n",
              " 'xn--2-7sbc2aomf1e8b.xn--80acgfbsl1azdqr.xn--p1ai',\n",
              " '4pda.to',\n",
              " 'i24-7-news.com',\n",
              " 'code.directadvert.ru',\n",
              " 'z.cdn.ftd.agency',\n",
              " 'mrqz.me',\n",
              " 'kolesa-ru.turbopages.org',\n",
              " 'mobtop.ru',\n",
              " 'videonetv.com',\n",
              " 'drasler.ru',\n",
              " 'click.mail.ru',\n",
              " 'api.tobaco.ws',\n",
              " 'sutochno.ru',\n",
              " 'radiokp-ru.turbopages.org',\n",
              " 'sterlegrad.ru',\n",
              " 'acs5.sbrf.ru',\n",
              " 'cdn-rtb.sape.ru',\n",
              " 'nsportal.ru',\n",
              " 'service.nalog.ru',\n",
              " 'fedpress.ru',\n",
              " 'hotplayer.ru',\n",
              " 'finance.rambler.ru',\n",
              " 'udipedia-new.ru',\n",
              " 'motor.ru',\n",
              " 'omolitvah.ru',\n",
              " 'rsport.ria.ru',\n",
              " 'baza.drom.ru',\n",
              " 'ren-tv.turbopages.org',\n",
              " 'rzd.ru',\n",
              " 'muzebra.net',\n",
              " 'lentach.media',\n",
              " 'calcus.ru',\n",
              " 'ppt.ru',\n",
              " 'sport24-ru.turbopages.org',\n",
              " 'sunmag-me.turbopages.org',\n",
              " 'overclockers.ru',\n",
              " 'radiokp-ru.cdn.ampproject.org',\n",
              " 'timeshare-ok.ru',\n",
              " 'blocked.mts.ru',\n",
              " 'mail.rambler.ru',\n",
              " 'mraid.bigo.sg',\n",
              " 'pozdravok.com',\n",
              " 'lightaudio.ru',\n",
              " 'vin01.ru',\n",
              " 'app-98073.games.s3.yandex.net',\n",
              " 'ru.investing.com',\n",
              " 'almode.ru',\n",
              " 'linkedin.com',\n",
              " '4eva.ru',\n",
              " 'check.ofd.ru',\n",
              " 'aif-ru.cdn.ampproject.org',\n",
              " 'forum.ixbt.com',\n",
              " 'kartinki-life.ru',\n",
              " 'moscow.megafon.ru',\n",
              " 'ffclub.ru',\n",
              " 'done.7cord.com',\n",
              " 'sun9-61.userapi.com',\n",
              " 'lk.platformaofd.ru',\n",
              " 'azur.ru',\n",
              " 'svyaznoy.ru',\n",
              " 'business.tinkoff.ru',\n",
              " 'statcounter.com',\n",
              " 'sbi.sberbank.ru',\n",
              " 'tourvisor.ru',\n",
              " 'msk.tele2.ru',\n",
              " 'cdn-assets.matchtv.ru',\n",
              " 'novamett.ru',\n",
              " 'ctc.ru',\n",
              " 'deita.ru',\n",
              " 'o2.mail.ru',\n",
              " 'm.cyber.sports.ru',\n",
              " 'm24.ru',\n",
              " 'serieslife.ru',\n",
              " 'serieslife.online',\n",
              " 'showjet.ru',\n",
              " 'ilive-com-ua.turbopages.org',\n",
              " 'static.wi-fi.ru',\n",
              " 'd.pikabu.ru',\n",
              " 'googleweblight.com',\n",
              " 'vz-ru.turbopages.org',\n",
              " 'cloud.tvigle.ru',\n",
              " 'promokod.pikabu.ru',\n",
              " 'credit7.ru',\n",
              " 'farpost.ru',\n",
              " 'myshows.me',\n",
              " 'tgstat.ru',\n",
              " 'img.samsungapps.com',\n",
              " 'hammerjs.github.io',\n",
              " 's3.wi-fi.ru',\n",
              " 'login.mediafort.ru',\n",
              " 'grouple.co',\n",
              " 'studbooks.net',\n",
              " 'rueconomics-ru.turbopages.org',\n",
              " 'nashgorod.ru',\n",
              " 'm.anwap.love',\n",
              " 'kion.ru',\n",
              " 'avtodispetcher.reformal.ru',\n",
              " 'share.pluso.ru',\n",
              " 'xn--90aakbpnp1abtmc.xn--p1ai',\n",
              " '7days-ru.turbopages.org',\n",
              " 'cdek.ru',\n",
              " 'ostrovok.ru',\n",
              " 'video.vsetam.net',\n",
              " 'm-sport--express-ru.cdn.ampproject.org',\n",
              " 'studiohd.org',\n",
              " 'spac1.net',\n",
              " 'postila.ru',\n",
              " 'wotblitz.ru',\n",
              " 'recovercovid.com',\n",
              " 'ru.hitmotop.com',\n",
              " 'streamalloha.live',\n",
              " 'novostihub.com',\n",
              " 'android.fotostrana.ru',\n",
              " 'campaign.aliexpress.com',\n",
              " 'gazeta.media.eagleplatform.com',\n",
              " 'peers.tv',\n",
              " 'tsargrad-tv.turbopages.org',\n",
              " 'm.zen.yandex.ru',\n",
              " 'esplus.ru',\n",
              " 'infokinonovinki.com',\n",
              " 'superjob.ru',\n",
              " 'sprosivracha.com',\n",
              " 'yandex.ru',\n",
              " 'rbc-ru.turbopages.org',\n",
              " 'moevideo.net',\n",
              " 'nplus1.ru',\n",
              " 'leboard.ru',\n",
              " 'tuser.online',\n",
              " 'eg-ru.turbopages.org',\n",
              " 'fandom.com',\n",
              " 'coronavirus-control.ru',\n",
              " 'tgramsearch.com',\n",
              " 'webgate.volkswagen.ru',\n",
              " 'hh.ru',\n",
              " 'rt.bongacams21.com',\n",
              " 'zachestnyibiznes-ru.turbopages.org',\n",
              " 'odysseus-emb.more.tv',\n",
              " 'my.mail.ru',\n",
              " 'infourok.ru',\n",
              " '360tv-ru.turbopages.org',\n",
              " 'zakon-auto.ru',\n",
              " ...}"
            ]
          },
          "metadata": {},
          "execution_count": 132
        }
      ]
    },
    {
      "cell_type": "code",
      "source": [
        "#сабмиты и таргеты\n",
        "#сразу дропаем ненужный возраст из таргет\n",
        "id_for_target = pq.read_table(f'{LOCAL_DATA_PATH}/{TARGET_FILE}').to_pandas().query('age >=19 ') \n",
        "\n",
        "\n",
        "id_for_submit = pq.read_table(f'{LOCAL_DATA_PATH}/{SUBMISSION_FILE}').to_pandas() "
      ],
      "metadata": {
        "id": "wVHb5OhTLUGE"
      },
      "execution_count": null,
      "outputs": []
    },
    {
      "cell_type": "code",
      "source": [
        "#функция разбивки возраста по категориям\n",
        "def age_bucket(x):\n",
        "    return bisect.bisect_left([19,25,35,45,55,65], x)\n",
        "\n",
        "#my \n",
        "def age_bascket(x):\n",
        "  if x <= 25 :\n",
        "    return 1\n",
        "  elif 25 < x <= 35:\n",
        "    return 2\n",
        "  elif 35 < x <= 45:\n",
        "    return 3\n",
        "  elif 45 < x <= 55:\n",
        "    return 4\n",
        "  elif 55 < x <= 65:\n",
        "    return 5\n",
        "  return 6  \n",
        "#bisect.bisect_right([19,26,36,46,56,66], x) # вроде так надо пишут"
      ],
      "metadata": {
        "id": "1ATEGn288jq1"
      },
      "execution_count": null,
      "outputs": []
    },
    {
      "cell_type": "markdown",
      "source": [
        "## 1.1 Загружаем из паркета ЦИКЛОМ нужные фичи и обрабатываем кусок.\n",
        "Формируем часть дф готового к обработке, сохраняем на диск уже раздельно трайн и фо_сабмит выбокри. Все дял экономии памяти ОЗУ. Все разбивки  и сохраннеия все в цикле. Иначе финальный кусок не оббработать никак."
      ],
      "metadata": {
        "id": "C_hnsPbhCPSz"
      }
    },
    {
      "cell_type": "code",
      "source": [
        "part_list  = ['part-00000-aba60f69-2b63-4cc1-95ca-542598094698-c000.snappy.parquet',\n",
        "              'part-00001-aba60f69-2b63-4cc1-95ca-542598094698-c000.snappy.parquet',\n",
        "              'part-00002-aba60f69-2b63-4cc1-95ca-542598094698-c000.snappy.parquet',\n",
        "              'part-00003-aba60f69-2b63-4cc1-95ca-542598094698-c000.snappy.parquet',\n",
        "              'part-00004-aba60f69-2b63-4cc1-95ca-542598094698-c000.snappy.parquet',\n",
        "              'part-00005-aba60f69-2b63-4cc1-95ca-542598094698-c000.snappy.parquet',\n",
        "              'part-00006-aba60f69-2b63-4cc1-95ca-542598094698-c000.snappy.parquet',\n",
        "              'part-00007-aba60f69-2b63-4cc1-95ca-542598094698-c000.snappy.parquet',\n",
        "              'part-00008-aba60f69-2b63-4cc1-95ca-542598094698-c000.snappy.parquet',\n",
        "              'part-00009-aba60f69-2b63-4cc1-95ca-542598094698-c000.snappy.parquet',\n",
        "   \n",
        "]"
      ],
      "metadata": {
        "id": "qcyAvu5oCuWM"
      },
      "execution_count": null,
      "outputs": []
    },
    {
      "cell_type": "code",
      "source": [
        "# цикл грузит из паркета нужные даные и отсеивает по топ урлам из списка\n",
        "for i in   range(0,10): #[0,5]\n",
        "  \n",
        "  #тут выбираем какие колонки из паркета грузим, можно через переменну определить\n",
        "  # 'cpe_model_name' 'cpe_manufacturer_name',\n",
        "  df = pq.read_table(f'{LOCAL_DATA_PATH}{part_list[i]}').select([\t'cpe_model_name', 'cpe_model_os_type', 'url_host',\t\t'request_cnt',\t'part_of_day','user_id']).to_pandas()\n",
        "  \n",
        "  #контроль цикла, загрузка из паркета в память.\n",
        "  print ('part', i, 'load, shape = ',df.shape)\n",
        "  # для подсчета соко пропало user_id после обрезки по урлам\n",
        "  user_id_count = df['user_id'].nunique()\n",
        "  print ('part', i, 'до обрезки user_id = ', df['user_id'].nunique())\n",
        "\n",
        "  # дф по времени суток / нужно это делать на всем дф, со всеми урлами\n",
        "  df_user_part_of_day = df.pivot_table(index='user_id', columns='part_of_day', values='request_cnt',aggfunc='count').reset_index()\n",
        "\n",
        "  #обрезаем по урлам\n",
        "  df = df.query('url_host in @timur_url_list')\n",
        "  # урлы user_id кто не пользуются топ 2к сайтами. сначала надо их обрабоатть\n",
        "  #df_freaks = df.query('url_host not in @timur_url_list')\n",
        "  #df_freaks.reset_index(drop=True).to_feather(f'{LOCAL_DATA_PATH}df_freak_part_{i}.feather')\n",
        "\n",
        "\n",
        "  print ('part', i, 'load, shape после обрезки урлов = ',df.shape)\n",
        "  print ('part', i, 'после обрезки user_id уменьшилось на :',  user_id_count - df['user_id'].nunique())\n",
        "  # дф по урлам формируем \n",
        "  df_user_url = df.pivot_table(index='user_id', columns='url_host', values='request_cnt',aggfunc='count').reset_index()\n",
        "\n",
        "  #обезаем дф до состояния каждый юзер 1 строчка\n",
        "  df.drop(columns=['url_host', 'request_cnt', 'part_of_day'], inplace=True)\n",
        "  df.drop_duplicates(inplace=True)\n",
        "  \n",
        " \n",
        "  #объедение с выкидыванием юзеров фриков\n",
        "\n",
        "  print ('df_user_part_of_day.shape',df_user_part_of_day.shape )\n",
        "  df = df.merge(df_user_part_of_day, on='user_id')\n",
        "  print ('после .merge',df.shape)\n",
        "  df = df.merge(df_user_url, how='outer', on='user_id')\n",
        "  print ('после всех merge размерность df',df.shape)\n",
        "  \n",
        "  # кэт ругается на нан\n",
        "  df.loc[df['cpe_model_name'].isna() ,'cpe_model_name'] = '0'\n",
        "\n",
        "  #теперь разделяем на train submit \n",
        "  df_train = df.merge(id_for_target,  on='user_id')\n",
        "  df_submit = df.merge(id_for_submit, on='user_id')\n",
        "\n",
        "  \n",
        "  #дропаем возраст <19  сразу тут из  трайн (убирается в merge)\n",
        "  #df_train = df_train[df_train['age'] >=19] \n",
        "  \n",
        "  #категоризируем возраст - заменна функция на мою\n",
        "  df_train['age'] = df_train['age'].map(age_bascket)\n",
        "  \n",
        "  #сохраняем на диск  подготовленные файлы\n",
        "  #########################################\n",
        "  df_train.reset_index(drop=True).to_feather(f'{LOCAL_DATA_PATH}train_part_{i}.feather')\n",
        "  df_submit.to_feather(f'{LOCAL_DATA_PATH}submit_part_{i}.feather')\n",
        "\n",
        "  # все заранее разбиваем, т к потом не хватает ОЗУ общий файл обрабатывать\n",
        "  \n",
        "  # сохраняем фичи и таргет для age\n",
        "  df_train.drop(['user_id', 'age', 'is_male'], axis = 1).reset_index(drop=True).to_feather(f'{LOCAL_DATA_PATH}train_feat_age_part_{i}.feather') #,index = False)\n",
        "  #df_train.drop(['user_id', 'age', 'is_male'], axis = 1).to_csv(f'{LOCAL_DATA_PATH}train_feat_age_part_{i}.csv' ,index = False)\n",
        "  df_train['age'].to_csv(f'{LOCAL_DATA_PATH}train_target_age_part_{i}.csv', index = False)\n",
        "    \n",
        "\n",
        "  # сохраняем фичи и таргет для is_male\n",
        "  #дропаем перед ML по полу, заранее нельзя, тк  там много данных по возрасту\n",
        "  print ('df_train.shape до обрезки is_male != NA',df_train.shape )\n",
        "  df_train = df_train[df_train['is_male'] != 'NA']\n",
        "  print ('df_train.shape ПОСЛЕ обрезки is_male != NA',df_train.shape )\n",
        "  \n",
        "  df_train.drop(['user_id', 'age', 'is_male'], axis = 1).reset_index(drop=True).to_feather(f'{LOCAL_DATA_PATH}train_feat_is_male_part_{i}.feather')\n",
        "  df_train['is_male'].to_csv(f'{LOCAL_DATA_PATH}train_target_is_male_part_{i}.csv', index = False)\n",
        "\n",
        "\n",
        "  #итого сохраняется файл сабмита + общий_трайн + фич+таргет_age + фич+таргет_is_male = 6шт\n",
        "  # все нужно для анализа\n",
        "\n",
        "  print ('part' , i , 'saved on disc')"
      ],
      "metadata": {
        "id": "-cifsYJ6-ajK",
        "colab": {
          "base_uri": "https://localhost:8080/",
          "height": 554
        },
        "outputId": "50c67a0a-ff7c-406c-8848-eba239f898f5"
      },
      "execution_count": null,
      "outputs": [
        {
          "output_type": "stream",
          "name": "stdout",
          "text": [
            "part 0 load, shape =  (32638709, 6)\n",
            "part 0 до обрезки user_id =  41594\n"
          ]
        },
        {
          "output_type": "error",
          "ename": "UndefinedVariableError",
          "evalue": "ignored",
          "traceback": [
            "\u001b[0;31m---------------------------------------------------------------------------\u001b[0m",
            "\u001b[0;31mKeyError\u001b[0m                                  Traceback (most recent call last)",
            "\u001b[0;32m/usr/local/lib/python3.8/dist-packages/pandas/core/computation/scope.py\u001b[0m in \u001b[0;36mresolve\u001b[0;34m(self, key, is_local)\u001b[0m\n\u001b[1;32m    195\u001b[0m             \u001b[0;32mif\u001b[0m \u001b[0mis_local\u001b[0m\u001b[0;34m:\u001b[0m\u001b[0;34m\u001b[0m\u001b[0;34m\u001b[0m\u001b[0m\n\u001b[0;32m--> 196\u001b[0;31m                 \u001b[0;32mreturn\u001b[0m \u001b[0mself\u001b[0m\u001b[0;34m.\u001b[0m\u001b[0mscope\u001b[0m\u001b[0;34m[\u001b[0m\u001b[0mkey\u001b[0m\u001b[0;34m]\u001b[0m\u001b[0;34m\u001b[0m\u001b[0;34m\u001b[0m\u001b[0m\n\u001b[0m\u001b[1;32m    197\u001b[0m \u001b[0;34m\u001b[0m\u001b[0m\n",
            "\u001b[0;32m/usr/lib/python3.8/collections/__init__.py\u001b[0m in \u001b[0;36m__getitem__\u001b[0;34m(self, key)\u001b[0m\n\u001b[1;32m    897\u001b[0m                 \u001b[0;32mpass\u001b[0m\u001b[0;34m\u001b[0m\u001b[0;34m\u001b[0m\u001b[0m\n\u001b[0;32m--> 898\u001b[0;31m         \u001b[0;32mreturn\u001b[0m \u001b[0mself\u001b[0m\u001b[0;34m.\u001b[0m\u001b[0m__missing__\u001b[0m\u001b[0;34m(\u001b[0m\u001b[0mkey\u001b[0m\u001b[0;34m)\u001b[0m            \u001b[0;31m# support subclasses that define __missing__\u001b[0m\u001b[0;34m\u001b[0m\u001b[0;34m\u001b[0m\u001b[0m\n\u001b[0m\u001b[1;32m    899\u001b[0m \u001b[0;34m\u001b[0m\u001b[0m\n",
            "\u001b[0;32m/usr/lib/python3.8/collections/__init__.py\u001b[0m in \u001b[0;36m__missing__\u001b[0;34m(self, key)\u001b[0m\n\u001b[1;32m    889\u001b[0m     \u001b[0;32mdef\u001b[0m \u001b[0m__missing__\u001b[0m\u001b[0;34m(\u001b[0m\u001b[0mself\u001b[0m\u001b[0;34m,\u001b[0m \u001b[0mkey\u001b[0m\u001b[0;34m)\u001b[0m\u001b[0;34m:\u001b[0m\u001b[0;34m\u001b[0m\u001b[0;34m\u001b[0m\u001b[0m\n\u001b[0;32m--> 890\u001b[0;31m         \u001b[0;32mraise\u001b[0m \u001b[0mKeyError\u001b[0m\u001b[0;34m(\u001b[0m\u001b[0mkey\u001b[0m\u001b[0;34m)\u001b[0m\u001b[0;34m\u001b[0m\u001b[0;34m\u001b[0m\u001b[0m\n\u001b[0m\u001b[1;32m    891\u001b[0m \u001b[0;34m\u001b[0m\u001b[0m\n",
            "\u001b[0;31mKeyError\u001b[0m: 'timur_url_list'",
            "\nDuring handling of the above exception, another exception occurred:\n",
            "\u001b[0;31mKeyError\u001b[0m                                  Traceback (most recent call last)",
            "\u001b[0;32m/usr/local/lib/python3.8/dist-packages/pandas/core/computation/scope.py\u001b[0m in \u001b[0;36mresolve\u001b[0;34m(self, key, is_local)\u001b[0m\n\u001b[1;32m    210\u001b[0m                 \u001b[0;31m# e.g., df[df > 0]\u001b[0m\u001b[0;34m\u001b[0m\u001b[0;34m\u001b[0m\u001b[0;34m\u001b[0m\u001b[0m\n\u001b[0;32m--> 211\u001b[0;31m                 \u001b[0;32mreturn\u001b[0m \u001b[0mself\u001b[0m\u001b[0;34m.\u001b[0m\u001b[0mtemps\u001b[0m\u001b[0;34m[\u001b[0m\u001b[0mkey\u001b[0m\u001b[0;34m]\u001b[0m\u001b[0;34m\u001b[0m\u001b[0;34m\u001b[0m\u001b[0m\n\u001b[0m\u001b[1;32m    212\u001b[0m             \u001b[0;32mexcept\u001b[0m \u001b[0mKeyError\u001b[0m \u001b[0;32mas\u001b[0m \u001b[0merr\u001b[0m\u001b[0;34m:\u001b[0m\u001b[0;34m\u001b[0m\u001b[0;34m\u001b[0m\u001b[0m\n",
            "\u001b[0;31mKeyError\u001b[0m: 'timur_url_list'",
            "\nThe above exception was the direct cause of the following exception:\n",
            "\u001b[0;31mUndefinedVariableError\u001b[0m                    Traceback (most recent call last)",
            "\u001b[0;32m<ipython-input-144-ada9225303ef>\u001b[0m in \u001b[0;36m<module>\u001b[0;34m\u001b[0m\n\u001b[1;32m     16\u001b[0m \u001b[0;34m\u001b[0m\u001b[0m\n\u001b[1;32m     17\u001b[0m   \u001b[0;31m#обрезаем по урлам\u001b[0m\u001b[0;34m\u001b[0m\u001b[0;34m\u001b[0m\u001b[0;34m\u001b[0m\u001b[0m\n\u001b[0;32m---> 18\u001b[0;31m   \u001b[0mdf\u001b[0m \u001b[0;34m=\u001b[0m \u001b[0mdf\u001b[0m\u001b[0;34m.\u001b[0m\u001b[0mquery\u001b[0m\u001b[0;34m(\u001b[0m\u001b[0;34m'url_host in @timur_url_list'\u001b[0m\u001b[0;34m)\u001b[0m\u001b[0;34m\u001b[0m\u001b[0;34m\u001b[0m\u001b[0m\n\u001b[0m\u001b[1;32m     19\u001b[0m   \u001b[0;31m# урлы user_id кто не пользуются топ 2к сайтами. сначала надо их обрабоатть\u001b[0m\u001b[0;34m\u001b[0m\u001b[0;34m\u001b[0m\u001b[0;34m\u001b[0m\u001b[0m\n\u001b[1;32m     20\u001b[0m   \u001b[0;31m#df_freaks = df.query('url_host not in @timur_url_list')\u001b[0m\u001b[0;34m\u001b[0m\u001b[0;34m\u001b[0m\u001b[0;34m\u001b[0m\u001b[0m\n",
            "\u001b[0;32m/usr/local/lib/python3.8/dist-packages/pandas/core/frame.py\u001b[0m in \u001b[0;36mquery\u001b[0;34m(self, expr, inplace, **kwargs)\u001b[0m\n\u001b[1;32m   4058\u001b[0m         \u001b[0mkwargs\u001b[0m\u001b[0;34m[\u001b[0m\u001b[0;34m\"level\"\u001b[0m\u001b[0;34m]\u001b[0m \u001b[0;34m=\u001b[0m \u001b[0mkwargs\u001b[0m\u001b[0;34m.\u001b[0m\u001b[0mpop\u001b[0m\u001b[0;34m(\u001b[0m\u001b[0;34m\"level\"\u001b[0m\u001b[0;34m,\u001b[0m \u001b[0;36m0\u001b[0m\u001b[0;34m)\u001b[0m \u001b[0;34m+\u001b[0m \u001b[0;36m1\u001b[0m\u001b[0;34m\u001b[0m\u001b[0;34m\u001b[0m\u001b[0m\n\u001b[1;32m   4059\u001b[0m         \u001b[0mkwargs\u001b[0m\u001b[0;34m[\u001b[0m\u001b[0;34m\"target\"\u001b[0m\u001b[0;34m]\u001b[0m \u001b[0;34m=\u001b[0m \u001b[0;32mNone\u001b[0m\u001b[0;34m\u001b[0m\u001b[0;34m\u001b[0m\u001b[0m\n\u001b[0;32m-> 4060\u001b[0;31m         \u001b[0mres\u001b[0m \u001b[0;34m=\u001b[0m \u001b[0mself\u001b[0m\u001b[0;34m.\u001b[0m\u001b[0meval\u001b[0m\u001b[0;34m(\u001b[0m\u001b[0mexpr\u001b[0m\u001b[0;34m,\u001b[0m \u001b[0;34m**\u001b[0m\u001b[0mkwargs\u001b[0m\u001b[0;34m)\u001b[0m\u001b[0;34m\u001b[0m\u001b[0;34m\u001b[0m\u001b[0m\n\u001b[0m\u001b[1;32m   4061\u001b[0m \u001b[0;34m\u001b[0m\u001b[0m\n\u001b[1;32m   4062\u001b[0m         \u001b[0;32mtry\u001b[0m\u001b[0;34m:\u001b[0m\u001b[0;34m\u001b[0m\u001b[0;34m\u001b[0m\u001b[0m\n",
            "\u001b[0;32m/usr/local/lib/python3.8/dist-packages/pandas/core/frame.py\u001b[0m in \u001b[0;36meval\u001b[0;34m(self, expr, inplace, **kwargs)\u001b[0m\n\u001b[1;32m   4189\u001b[0m         \u001b[0mkwargs\u001b[0m\u001b[0;34m[\u001b[0m\u001b[0;34m\"resolvers\"\u001b[0m\u001b[0;34m]\u001b[0m \u001b[0;34m=\u001b[0m \u001b[0mkwargs\u001b[0m\u001b[0;34m.\u001b[0m\u001b[0mget\u001b[0m\u001b[0;34m(\u001b[0m\u001b[0;34m\"resolvers\"\u001b[0m\u001b[0;34m,\u001b[0m \u001b[0;34m(\u001b[0m\u001b[0;34m)\u001b[0m\u001b[0;34m)\u001b[0m \u001b[0;34m+\u001b[0m \u001b[0mtuple\u001b[0m\u001b[0;34m(\u001b[0m\u001b[0mresolvers\u001b[0m\u001b[0;34m)\u001b[0m\u001b[0;34m\u001b[0m\u001b[0;34m\u001b[0m\u001b[0m\n\u001b[1;32m   4190\u001b[0m \u001b[0;34m\u001b[0m\u001b[0m\n\u001b[0;32m-> 4191\u001b[0;31m         \u001b[0;32mreturn\u001b[0m \u001b[0m_eval\u001b[0m\u001b[0;34m(\u001b[0m\u001b[0mexpr\u001b[0m\u001b[0;34m,\u001b[0m \u001b[0minplace\u001b[0m\u001b[0;34m=\u001b[0m\u001b[0minplace\u001b[0m\u001b[0;34m,\u001b[0m \u001b[0;34m**\u001b[0m\u001b[0mkwargs\u001b[0m\u001b[0;34m)\u001b[0m\u001b[0;34m\u001b[0m\u001b[0;34m\u001b[0m\u001b[0m\n\u001b[0m\u001b[1;32m   4192\u001b[0m \u001b[0;34m\u001b[0m\u001b[0m\n\u001b[1;32m   4193\u001b[0m     \u001b[0;32mdef\u001b[0m \u001b[0mselect_dtypes\u001b[0m\u001b[0;34m(\u001b[0m\u001b[0mself\u001b[0m\u001b[0;34m,\u001b[0m \u001b[0minclude\u001b[0m\u001b[0;34m=\u001b[0m\u001b[0;32mNone\u001b[0m\u001b[0;34m,\u001b[0m \u001b[0mexclude\u001b[0m\u001b[0;34m=\u001b[0m\u001b[0;32mNone\u001b[0m\u001b[0;34m)\u001b[0m \u001b[0;34m->\u001b[0m \u001b[0mDataFrame\u001b[0m\u001b[0;34m:\u001b[0m\u001b[0;34m\u001b[0m\u001b[0;34m\u001b[0m\u001b[0m\n",
            "\u001b[0;32m/usr/local/lib/python3.8/dist-packages/pandas/core/computation/eval.py\u001b[0m in \u001b[0;36meval\u001b[0;34m(expr, parser, engine, truediv, local_dict, global_dict, resolvers, level, target, inplace)\u001b[0m\n\u001b[1;32m    346\u001b[0m         )\n\u001b[1;32m    347\u001b[0m \u001b[0;34m\u001b[0m\u001b[0m\n\u001b[0;32m--> 348\u001b[0;31m         \u001b[0mparsed_expr\u001b[0m \u001b[0;34m=\u001b[0m \u001b[0mExpr\u001b[0m\u001b[0;34m(\u001b[0m\u001b[0mexpr\u001b[0m\u001b[0;34m,\u001b[0m \u001b[0mengine\u001b[0m\u001b[0;34m=\u001b[0m\u001b[0mengine\u001b[0m\u001b[0;34m,\u001b[0m \u001b[0mparser\u001b[0m\u001b[0;34m=\u001b[0m\u001b[0mparser\u001b[0m\u001b[0;34m,\u001b[0m \u001b[0menv\u001b[0m\u001b[0;34m=\u001b[0m\u001b[0menv\u001b[0m\u001b[0;34m)\u001b[0m\u001b[0;34m\u001b[0m\u001b[0;34m\u001b[0m\u001b[0m\n\u001b[0m\u001b[1;32m    349\u001b[0m \u001b[0;34m\u001b[0m\u001b[0m\n\u001b[1;32m    350\u001b[0m         \u001b[0;31m# construct the engine and evaluate the parsed expression\u001b[0m\u001b[0;34m\u001b[0m\u001b[0;34m\u001b[0m\u001b[0;34m\u001b[0m\u001b[0m\n",
            "\u001b[0;32m/usr/local/lib/python3.8/dist-packages/pandas/core/computation/expr.py\u001b[0m in \u001b[0;36m__init__\u001b[0;34m(self, expr, engine, parser, env, level)\u001b[0m\n\u001b[1;32m    804\u001b[0m         \u001b[0mself\u001b[0m\u001b[0;34m.\u001b[0m\u001b[0mparser\u001b[0m \u001b[0;34m=\u001b[0m \u001b[0mparser\u001b[0m\u001b[0;34m\u001b[0m\u001b[0;34m\u001b[0m\u001b[0m\n\u001b[1;32m    805\u001b[0m         \u001b[0mself\u001b[0m\u001b[0;34m.\u001b[0m\u001b[0m_visitor\u001b[0m \u001b[0;34m=\u001b[0m \u001b[0mPARSERS\u001b[0m\u001b[0;34m[\u001b[0m\u001b[0mparser\u001b[0m\u001b[0;34m]\u001b[0m\u001b[0;34m(\u001b[0m\u001b[0mself\u001b[0m\u001b[0;34m.\u001b[0m\u001b[0menv\u001b[0m\u001b[0;34m,\u001b[0m \u001b[0mself\u001b[0m\u001b[0;34m.\u001b[0m\u001b[0mengine\u001b[0m\u001b[0;34m,\u001b[0m \u001b[0mself\u001b[0m\u001b[0;34m.\u001b[0m\u001b[0mparser\u001b[0m\u001b[0;34m)\u001b[0m\u001b[0;34m\u001b[0m\u001b[0;34m\u001b[0m\u001b[0m\n\u001b[0;32m--> 806\u001b[0;31m         \u001b[0mself\u001b[0m\u001b[0;34m.\u001b[0m\u001b[0mterms\u001b[0m \u001b[0;34m=\u001b[0m \u001b[0mself\u001b[0m\u001b[0;34m.\u001b[0m\u001b[0mparse\u001b[0m\u001b[0;34m(\u001b[0m\u001b[0;34m)\u001b[0m\u001b[0;34m\u001b[0m\u001b[0;34m\u001b[0m\u001b[0m\n\u001b[0m\u001b[1;32m    807\u001b[0m \u001b[0;34m\u001b[0m\u001b[0m\n\u001b[1;32m    808\u001b[0m     \u001b[0;34m@\u001b[0m\u001b[0mproperty\u001b[0m\u001b[0;34m\u001b[0m\u001b[0;34m\u001b[0m\u001b[0m\n",
            "\u001b[0;32m/usr/local/lib/python3.8/dist-packages/pandas/core/computation/expr.py\u001b[0m in \u001b[0;36mparse\u001b[0;34m(self)\u001b[0m\n\u001b[1;32m    823\u001b[0m         \u001b[0mParse\u001b[0m \u001b[0man\u001b[0m \u001b[0mexpression\u001b[0m\u001b[0;34m.\u001b[0m\u001b[0;34m\u001b[0m\u001b[0;34m\u001b[0m\u001b[0m\n\u001b[1;32m    824\u001b[0m         \"\"\"\n\u001b[0;32m--> 825\u001b[0;31m         \u001b[0;32mreturn\u001b[0m \u001b[0mself\u001b[0m\u001b[0;34m.\u001b[0m\u001b[0m_visitor\u001b[0m\u001b[0;34m.\u001b[0m\u001b[0mvisit\u001b[0m\u001b[0;34m(\u001b[0m\u001b[0mself\u001b[0m\u001b[0;34m.\u001b[0m\u001b[0mexpr\u001b[0m\u001b[0;34m)\u001b[0m\u001b[0;34m\u001b[0m\u001b[0;34m\u001b[0m\u001b[0m\n\u001b[0m\u001b[1;32m    826\u001b[0m \u001b[0;34m\u001b[0m\u001b[0m\n\u001b[1;32m    827\u001b[0m     \u001b[0;34m@\u001b[0m\u001b[0mproperty\u001b[0m\u001b[0;34m\u001b[0m\u001b[0;34m\u001b[0m\u001b[0m\n",
            "\u001b[0;32m/usr/local/lib/python3.8/dist-packages/pandas/core/computation/expr.py\u001b[0m in \u001b[0;36mvisit\u001b[0;34m(self, node, **kwargs)\u001b[0m\n\u001b[1;32m    409\u001b[0m         \u001b[0mmethod\u001b[0m \u001b[0;34m=\u001b[0m \u001b[0;34m\"visit_\"\u001b[0m \u001b[0;34m+\u001b[0m \u001b[0mtype\u001b[0m\u001b[0;34m(\u001b[0m\u001b[0mnode\u001b[0m\u001b[0;34m)\u001b[0m\u001b[0;34m.\u001b[0m\u001b[0m__name__\u001b[0m\u001b[0;34m\u001b[0m\u001b[0;34m\u001b[0m\u001b[0m\n\u001b[1;32m    410\u001b[0m         \u001b[0mvisitor\u001b[0m \u001b[0;34m=\u001b[0m \u001b[0mgetattr\u001b[0m\u001b[0;34m(\u001b[0m\u001b[0mself\u001b[0m\u001b[0;34m,\u001b[0m \u001b[0mmethod\u001b[0m\u001b[0;34m)\u001b[0m\u001b[0;34m\u001b[0m\u001b[0;34m\u001b[0m\u001b[0m\n\u001b[0;32m--> 411\u001b[0;31m         \u001b[0;32mreturn\u001b[0m \u001b[0mvisitor\u001b[0m\u001b[0;34m(\u001b[0m\u001b[0mnode\u001b[0m\u001b[0;34m,\u001b[0m \u001b[0;34m**\u001b[0m\u001b[0mkwargs\u001b[0m\u001b[0;34m)\u001b[0m\u001b[0;34m\u001b[0m\u001b[0;34m\u001b[0m\u001b[0m\n\u001b[0m\u001b[1;32m    412\u001b[0m \u001b[0;34m\u001b[0m\u001b[0m\n\u001b[1;32m    413\u001b[0m     \u001b[0;32mdef\u001b[0m \u001b[0mvisit_Module\u001b[0m\u001b[0;34m(\u001b[0m\u001b[0mself\u001b[0m\u001b[0;34m,\u001b[0m \u001b[0mnode\u001b[0m\u001b[0;34m,\u001b[0m \u001b[0;34m**\u001b[0m\u001b[0mkwargs\u001b[0m\u001b[0;34m)\u001b[0m\u001b[0;34m:\u001b[0m\u001b[0;34m\u001b[0m\u001b[0;34m\u001b[0m\u001b[0m\n",
            "\u001b[0;32m/usr/local/lib/python3.8/dist-packages/pandas/core/computation/expr.py\u001b[0m in \u001b[0;36mvisit_Module\u001b[0;34m(self, node, **kwargs)\u001b[0m\n\u001b[1;32m    415\u001b[0m             \u001b[0;32mraise\u001b[0m \u001b[0mSyntaxError\u001b[0m\u001b[0;34m(\u001b[0m\u001b[0;34m\"only a single expression is allowed\"\u001b[0m\u001b[0;34m)\u001b[0m\u001b[0;34m\u001b[0m\u001b[0;34m\u001b[0m\u001b[0m\n\u001b[1;32m    416\u001b[0m         \u001b[0mexpr\u001b[0m \u001b[0;34m=\u001b[0m \u001b[0mnode\u001b[0m\u001b[0;34m.\u001b[0m\u001b[0mbody\u001b[0m\u001b[0;34m[\u001b[0m\u001b[0;36m0\u001b[0m\u001b[0;34m]\u001b[0m\u001b[0;34m\u001b[0m\u001b[0;34m\u001b[0m\u001b[0m\n\u001b[0;32m--> 417\u001b[0;31m         \u001b[0;32mreturn\u001b[0m \u001b[0mself\u001b[0m\u001b[0;34m.\u001b[0m\u001b[0mvisit\u001b[0m\u001b[0;34m(\u001b[0m\u001b[0mexpr\u001b[0m\u001b[0;34m,\u001b[0m \u001b[0;34m**\u001b[0m\u001b[0mkwargs\u001b[0m\u001b[0;34m)\u001b[0m\u001b[0;34m\u001b[0m\u001b[0;34m\u001b[0m\u001b[0m\n\u001b[0m\u001b[1;32m    418\u001b[0m \u001b[0;34m\u001b[0m\u001b[0m\n\u001b[1;32m    419\u001b[0m     \u001b[0;32mdef\u001b[0m \u001b[0mvisit_Expr\u001b[0m\u001b[0;34m(\u001b[0m\u001b[0mself\u001b[0m\u001b[0;34m,\u001b[0m \u001b[0mnode\u001b[0m\u001b[0;34m,\u001b[0m \u001b[0;34m**\u001b[0m\u001b[0mkwargs\u001b[0m\u001b[0;34m)\u001b[0m\u001b[0;34m:\u001b[0m\u001b[0;34m\u001b[0m\u001b[0;34m\u001b[0m\u001b[0m\n",
            "\u001b[0;32m/usr/local/lib/python3.8/dist-packages/pandas/core/computation/expr.py\u001b[0m in \u001b[0;36mvisit\u001b[0;34m(self, node, **kwargs)\u001b[0m\n\u001b[1;32m    409\u001b[0m         \u001b[0mmethod\u001b[0m \u001b[0;34m=\u001b[0m \u001b[0;34m\"visit_\"\u001b[0m \u001b[0;34m+\u001b[0m \u001b[0mtype\u001b[0m\u001b[0;34m(\u001b[0m\u001b[0mnode\u001b[0m\u001b[0;34m)\u001b[0m\u001b[0;34m.\u001b[0m\u001b[0m__name__\u001b[0m\u001b[0;34m\u001b[0m\u001b[0;34m\u001b[0m\u001b[0m\n\u001b[1;32m    410\u001b[0m         \u001b[0mvisitor\u001b[0m \u001b[0;34m=\u001b[0m \u001b[0mgetattr\u001b[0m\u001b[0;34m(\u001b[0m\u001b[0mself\u001b[0m\u001b[0;34m,\u001b[0m \u001b[0mmethod\u001b[0m\u001b[0;34m)\u001b[0m\u001b[0;34m\u001b[0m\u001b[0;34m\u001b[0m\u001b[0m\n\u001b[0;32m--> 411\u001b[0;31m         \u001b[0;32mreturn\u001b[0m \u001b[0mvisitor\u001b[0m\u001b[0;34m(\u001b[0m\u001b[0mnode\u001b[0m\u001b[0;34m,\u001b[0m \u001b[0;34m**\u001b[0m\u001b[0mkwargs\u001b[0m\u001b[0;34m)\u001b[0m\u001b[0;34m\u001b[0m\u001b[0;34m\u001b[0m\u001b[0m\n\u001b[0m\u001b[1;32m    412\u001b[0m \u001b[0;34m\u001b[0m\u001b[0m\n\u001b[1;32m    413\u001b[0m     \u001b[0;32mdef\u001b[0m \u001b[0mvisit_Module\u001b[0m\u001b[0;34m(\u001b[0m\u001b[0mself\u001b[0m\u001b[0;34m,\u001b[0m \u001b[0mnode\u001b[0m\u001b[0;34m,\u001b[0m \u001b[0;34m**\u001b[0m\u001b[0mkwargs\u001b[0m\u001b[0;34m)\u001b[0m\u001b[0;34m:\u001b[0m\u001b[0;34m\u001b[0m\u001b[0;34m\u001b[0m\u001b[0m\n",
            "\u001b[0;32m/usr/local/lib/python3.8/dist-packages/pandas/core/computation/expr.py\u001b[0m in \u001b[0;36mvisit_Expr\u001b[0;34m(self, node, **kwargs)\u001b[0m\n\u001b[1;32m    418\u001b[0m \u001b[0;34m\u001b[0m\u001b[0m\n\u001b[1;32m    419\u001b[0m     \u001b[0;32mdef\u001b[0m \u001b[0mvisit_Expr\u001b[0m\u001b[0;34m(\u001b[0m\u001b[0mself\u001b[0m\u001b[0;34m,\u001b[0m \u001b[0mnode\u001b[0m\u001b[0;34m,\u001b[0m \u001b[0;34m**\u001b[0m\u001b[0mkwargs\u001b[0m\u001b[0;34m)\u001b[0m\u001b[0;34m:\u001b[0m\u001b[0;34m\u001b[0m\u001b[0;34m\u001b[0m\u001b[0m\n\u001b[0;32m--> 420\u001b[0;31m         \u001b[0;32mreturn\u001b[0m \u001b[0mself\u001b[0m\u001b[0;34m.\u001b[0m\u001b[0mvisit\u001b[0m\u001b[0;34m(\u001b[0m\u001b[0mnode\u001b[0m\u001b[0;34m.\u001b[0m\u001b[0mvalue\u001b[0m\u001b[0;34m,\u001b[0m \u001b[0;34m**\u001b[0m\u001b[0mkwargs\u001b[0m\u001b[0;34m)\u001b[0m\u001b[0;34m\u001b[0m\u001b[0;34m\u001b[0m\u001b[0m\n\u001b[0m\u001b[1;32m    421\u001b[0m \u001b[0;34m\u001b[0m\u001b[0m\n\u001b[1;32m    422\u001b[0m     \u001b[0;32mdef\u001b[0m \u001b[0m_rewrite_membership_op\u001b[0m\u001b[0;34m(\u001b[0m\u001b[0mself\u001b[0m\u001b[0;34m,\u001b[0m \u001b[0mnode\u001b[0m\u001b[0;34m,\u001b[0m \u001b[0mleft\u001b[0m\u001b[0;34m,\u001b[0m \u001b[0mright\u001b[0m\u001b[0;34m)\u001b[0m\u001b[0;34m:\u001b[0m\u001b[0;34m\u001b[0m\u001b[0;34m\u001b[0m\u001b[0m\n",
            "\u001b[0;32m/usr/local/lib/python3.8/dist-packages/pandas/core/computation/expr.py\u001b[0m in \u001b[0;36mvisit\u001b[0;34m(self, node, **kwargs)\u001b[0m\n\u001b[1;32m    409\u001b[0m         \u001b[0mmethod\u001b[0m \u001b[0;34m=\u001b[0m \u001b[0;34m\"visit_\"\u001b[0m \u001b[0;34m+\u001b[0m \u001b[0mtype\u001b[0m\u001b[0;34m(\u001b[0m\u001b[0mnode\u001b[0m\u001b[0;34m)\u001b[0m\u001b[0;34m.\u001b[0m\u001b[0m__name__\u001b[0m\u001b[0;34m\u001b[0m\u001b[0;34m\u001b[0m\u001b[0m\n\u001b[1;32m    410\u001b[0m         \u001b[0mvisitor\u001b[0m \u001b[0;34m=\u001b[0m \u001b[0mgetattr\u001b[0m\u001b[0;34m(\u001b[0m\u001b[0mself\u001b[0m\u001b[0;34m,\u001b[0m \u001b[0mmethod\u001b[0m\u001b[0;34m)\u001b[0m\u001b[0;34m\u001b[0m\u001b[0;34m\u001b[0m\u001b[0m\n\u001b[0;32m--> 411\u001b[0;31m         \u001b[0;32mreturn\u001b[0m \u001b[0mvisitor\u001b[0m\u001b[0;34m(\u001b[0m\u001b[0mnode\u001b[0m\u001b[0;34m,\u001b[0m \u001b[0;34m**\u001b[0m\u001b[0mkwargs\u001b[0m\u001b[0;34m)\u001b[0m\u001b[0;34m\u001b[0m\u001b[0;34m\u001b[0m\u001b[0m\n\u001b[0m\u001b[1;32m    412\u001b[0m \u001b[0;34m\u001b[0m\u001b[0m\n\u001b[1;32m    413\u001b[0m     \u001b[0;32mdef\u001b[0m \u001b[0mvisit_Module\u001b[0m\u001b[0;34m(\u001b[0m\u001b[0mself\u001b[0m\u001b[0;34m,\u001b[0m \u001b[0mnode\u001b[0m\u001b[0;34m,\u001b[0m \u001b[0;34m**\u001b[0m\u001b[0mkwargs\u001b[0m\u001b[0;34m)\u001b[0m\u001b[0;34m:\u001b[0m\u001b[0;34m\u001b[0m\u001b[0;34m\u001b[0m\u001b[0m\n",
            "\u001b[0;32m/usr/local/lib/python3.8/dist-packages/pandas/core/computation/expr.py\u001b[0m in \u001b[0;36mvisit_Compare\u001b[0;34m(self, node, **kwargs)\u001b[0m\n\u001b[1;32m    716\u001b[0m             \u001b[0mop\u001b[0m \u001b[0;34m=\u001b[0m \u001b[0mself\u001b[0m\u001b[0;34m.\u001b[0m\u001b[0mtranslate_In\u001b[0m\u001b[0;34m(\u001b[0m\u001b[0mops\u001b[0m\u001b[0;34m[\u001b[0m\u001b[0;36m0\u001b[0m\u001b[0;34m]\u001b[0m\u001b[0;34m)\u001b[0m\u001b[0;34m\u001b[0m\u001b[0;34m\u001b[0m\u001b[0m\n\u001b[1;32m    717\u001b[0m             \u001b[0mbinop\u001b[0m \u001b[0;34m=\u001b[0m \u001b[0mast\u001b[0m\u001b[0;34m.\u001b[0m\u001b[0mBinOp\u001b[0m\u001b[0;34m(\u001b[0m\u001b[0mop\u001b[0m\u001b[0;34m=\u001b[0m\u001b[0mop\u001b[0m\u001b[0;34m,\u001b[0m \u001b[0mleft\u001b[0m\u001b[0;34m=\u001b[0m\u001b[0mnode\u001b[0m\u001b[0;34m.\u001b[0m\u001b[0mleft\u001b[0m\u001b[0;34m,\u001b[0m \u001b[0mright\u001b[0m\u001b[0;34m=\u001b[0m\u001b[0mcomps\u001b[0m\u001b[0;34m[\u001b[0m\u001b[0;36m0\u001b[0m\u001b[0;34m]\u001b[0m\u001b[0;34m)\u001b[0m\u001b[0;34m\u001b[0m\u001b[0;34m\u001b[0m\u001b[0m\n\u001b[0;32m--> 718\u001b[0;31m             \u001b[0;32mreturn\u001b[0m \u001b[0mself\u001b[0m\u001b[0;34m.\u001b[0m\u001b[0mvisit\u001b[0m\u001b[0;34m(\u001b[0m\u001b[0mbinop\u001b[0m\u001b[0;34m)\u001b[0m\u001b[0;34m\u001b[0m\u001b[0;34m\u001b[0m\u001b[0m\n\u001b[0m\u001b[1;32m    719\u001b[0m \u001b[0;34m\u001b[0m\u001b[0m\n\u001b[1;32m    720\u001b[0m         \u001b[0;31m# recursive case: we have a chained comparison, a CMP b CMP c, etc.\u001b[0m\u001b[0;34m\u001b[0m\u001b[0;34m\u001b[0m\u001b[0;34m\u001b[0m\u001b[0m\n",
            "\u001b[0;32m/usr/local/lib/python3.8/dist-packages/pandas/core/computation/expr.py\u001b[0m in \u001b[0;36mvisit\u001b[0;34m(self, node, **kwargs)\u001b[0m\n\u001b[1;32m    409\u001b[0m         \u001b[0mmethod\u001b[0m \u001b[0;34m=\u001b[0m \u001b[0;34m\"visit_\"\u001b[0m \u001b[0;34m+\u001b[0m \u001b[0mtype\u001b[0m\u001b[0;34m(\u001b[0m\u001b[0mnode\u001b[0m\u001b[0;34m)\u001b[0m\u001b[0;34m.\u001b[0m\u001b[0m__name__\u001b[0m\u001b[0;34m\u001b[0m\u001b[0;34m\u001b[0m\u001b[0m\n\u001b[1;32m    410\u001b[0m         \u001b[0mvisitor\u001b[0m \u001b[0;34m=\u001b[0m \u001b[0mgetattr\u001b[0m\u001b[0;34m(\u001b[0m\u001b[0mself\u001b[0m\u001b[0;34m,\u001b[0m \u001b[0mmethod\u001b[0m\u001b[0;34m)\u001b[0m\u001b[0;34m\u001b[0m\u001b[0;34m\u001b[0m\u001b[0m\n\u001b[0;32m--> 411\u001b[0;31m         \u001b[0;32mreturn\u001b[0m \u001b[0mvisitor\u001b[0m\u001b[0;34m(\u001b[0m\u001b[0mnode\u001b[0m\u001b[0;34m,\u001b[0m \u001b[0;34m**\u001b[0m\u001b[0mkwargs\u001b[0m\u001b[0;34m)\u001b[0m\u001b[0;34m\u001b[0m\u001b[0;34m\u001b[0m\u001b[0m\n\u001b[0m\u001b[1;32m    412\u001b[0m \u001b[0;34m\u001b[0m\u001b[0m\n\u001b[1;32m    413\u001b[0m     \u001b[0;32mdef\u001b[0m \u001b[0mvisit_Module\u001b[0m\u001b[0;34m(\u001b[0m\u001b[0mself\u001b[0m\u001b[0;34m,\u001b[0m \u001b[0mnode\u001b[0m\u001b[0;34m,\u001b[0m \u001b[0;34m**\u001b[0m\u001b[0mkwargs\u001b[0m\u001b[0;34m)\u001b[0m\u001b[0;34m:\u001b[0m\u001b[0;34m\u001b[0m\u001b[0;34m\u001b[0m\u001b[0m\n",
            "\u001b[0;32m/usr/local/lib/python3.8/dist-packages/pandas/core/computation/expr.py\u001b[0m in \u001b[0;36mvisit_BinOp\u001b[0;34m(self, node, **kwargs)\u001b[0m\n\u001b[1;32m    530\u001b[0m \u001b[0;34m\u001b[0m\u001b[0m\n\u001b[1;32m    531\u001b[0m     \u001b[0;32mdef\u001b[0m \u001b[0mvisit_BinOp\u001b[0m\u001b[0;34m(\u001b[0m\u001b[0mself\u001b[0m\u001b[0;34m,\u001b[0m \u001b[0mnode\u001b[0m\u001b[0;34m,\u001b[0m \u001b[0;34m**\u001b[0m\u001b[0mkwargs\u001b[0m\u001b[0;34m)\u001b[0m\u001b[0;34m:\u001b[0m\u001b[0;34m\u001b[0m\u001b[0;34m\u001b[0m\u001b[0m\n\u001b[0;32m--> 532\u001b[0;31m         \u001b[0mop\u001b[0m\u001b[0;34m,\u001b[0m \u001b[0mop_class\u001b[0m\u001b[0;34m,\u001b[0m \u001b[0mleft\u001b[0m\u001b[0;34m,\u001b[0m \u001b[0mright\u001b[0m \u001b[0;34m=\u001b[0m \u001b[0mself\u001b[0m\u001b[0;34m.\u001b[0m\u001b[0m_maybe_transform_eq_ne\u001b[0m\u001b[0;34m(\u001b[0m\u001b[0mnode\u001b[0m\u001b[0;34m)\u001b[0m\u001b[0;34m\u001b[0m\u001b[0;34m\u001b[0m\u001b[0m\n\u001b[0m\u001b[1;32m    533\u001b[0m         \u001b[0mleft\u001b[0m\u001b[0;34m,\u001b[0m \u001b[0mright\u001b[0m \u001b[0;34m=\u001b[0m \u001b[0mself\u001b[0m\u001b[0;34m.\u001b[0m\u001b[0m_maybe_downcast_constants\u001b[0m\u001b[0;34m(\u001b[0m\u001b[0mleft\u001b[0m\u001b[0;34m,\u001b[0m \u001b[0mright\u001b[0m\u001b[0;34m)\u001b[0m\u001b[0;34m\u001b[0m\u001b[0;34m\u001b[0m\u001b[0m\n\u001b[1;32m    534\u001b[0m         \u001b[0;32mreturn\u001b[0m \u001b[0mself\u001b[0m\u001b[0;34m.\u001b[0m\u001b[0m_maybe_evaluate_binop\u001b[0m\u001b[0;34m(\u001b[0m\u001b[0mop\u001b[0m\u001b[0;34m,\u001b[0m \u001b[0mop_class\u001b[0m\u001b[0;34m,\u001b[0m \u001b[0mleft\u001b[0m\u001b[0;34m,\u001b[0m \u001b[0mright\u001b[0m\u001b[0;34m)\u001b[0m\u001b[0;34m\u001b[0m\u001b[0;34m\u001b[0m\u001b[0m\n",
            "\u001b[0;32m/usr/local/lib/python3.8/dist-packages/pandas/core/computation/expr.py\u001b[0m in \u001b[0;36m_maybe_transform_eq_ne\u001b[0;34m(self, node, left, right)\u001b[0m\n\u001b[1;32m    452\u001b[0m             \u001b[0mleft\u001b[0m \u001b[0;34m=\u001b[0m \u001b[0mself\u001b[0m\u001b[0;34m.\u001b[0m\u001b[0mvisit\u001b[0m\u001b[0;34m(\u001b[0m\u001b[0mnode\u001b[0m\u001b[0;34m.\u001b[0m\u001b[0mleft\u001b[0m\u001b[0;34m,\u001b[0m \u001b[0mside\u001b[0m\u001b[0;34m=\u001b[0m\u001b[0;34m\"left\"\u001b[0m\u001b[0;34m)\u001b[0m\u001b[0;34m\u001b[0m\u001b[0;34m\u001b[0m\u001b[0m\n\u001b[1;32m    453\u001b[0m         \u001b[0;32mif\u001b[0m \u001b[0mright\u001b[0m \u001b[0;32mis\u001b[0m \u001b[0;32mNone\u001b[0m\u001b[0;34m:\u001b[0m\u001b[0;34m\u001b[0m\u001b[0;34m\u001b[0m\u001b[0m\n\u001b[0;32m--> 454\u001b[0;31m             \u001b[0mright\u001b[0m \u001b[0;34m=\u001b[0m \u001b[0mself\u001b[0m\u001b[0;34m.\u001b[0m\u001b[0mvisit\u001b[0m\u001b[0;34m(\u001b[0m\u001b[0mnode\u001b[0m\u001b[0;34m.\u001b[0m\u001b[0mright\u001b[0m\u001b[0;34m,\u001b[0m \u001b[0mside\u001b[0m\u001b[0;34m=\u001b[0m\u001b[0;34m\"right\"\u001b[0m\u001b[0;34m)\u001b[0m\u001b[0;34m\u001b[0m\u001b[0;34m\u001b[0m\u001b[0m\n\u001b[0m\u001b[1;32m    455\u001b[0m         \u001b[0mop\u001b[0m\u001b[0;34m,\u001b[0m \u001b[0mop_class\u001b[0m\u001b[0;34m,\u001b[0m \u001b[0mleft\u001b[0m\u001b[0;34m,\u001b[0m \u001b[0mright\u001b[0m \u001b[0;34m=\u001b[0m \u001b[0mself\u001b[0m\u001b[0;34m.\u001b[0m\u001b[0m_rewrite_membership_op\u001b[0m\u001b[0;34m(\u001b[0m\u001b[0mnode\u001b[0m\u001b[0;34m,\u001b[0m \u001b[0mleft\u001b[0m\u001b[0;34m,\u001b[0m \u001b[0mright\u001b[0m\u001b[0;34m)\u001b[0m\u001b[0;34m\u001b[0m\u001b[0;34m\u001b[0m\u001b[0m\n\u001b[1;32m    456\u001b[0m         \u001b[0;32mreturn\u001b[0m \u001b[0mop\u001b[0m\u001b[0;34m,\u001b[0m \u001b[0mop_class\u001b[0m\u001b[0;34m,\u001b[0m \u001b[0mleft\u001b[0m\u001b[0;34m,\u001b[0m \u001b[0mright\u001b[0m\u001b[0;34m\u001b[0m\u001b[0;34m\u001b[0m\u001b[0m\n",
            "\u001b[0;32m/usr/local/lib/python3.8/dist-packages/pandas/core/computation/expr.py\u001b[0m in \u001b[0;36mvisit\u001b[0;34m(self, node, **kwargs)\u001b[0m\n\u001b[1;32m    409\u001b[0m         \u001b[0mmethod\u001b[0m \u001b[0;34m=\u001b[0m \u001b[0;34m\"visit_\"\u001b[0m \u001b[0;34m+\u001b[0m \u001b[0mtype\u001b[0m\u001b[0;34m(\u001b[0m\u001b[0mnode\u001b[0m\u001b[0;34m)\u001b[0m\u001b[0;34m.\u001b[0m\u001b[0m__name__\u001b[0m\u001b[0;34m\u001b[0m\u001b[0;34m\u001b[0m\u001b[0m\n\u001b[1;32m    410\u001b[0m         \u001b[0mvisitor\u001b[0m \u001b[0;34m=\u001b[0m \u001b[0mgetattr\u001b[0m\u001b[0;34m(\u001b[0m\u001b[0mself\u001b[0m\u001b[0;34m,\u001b[0m \u001b[0mmethod\u001b[0m\u001b[0;34m)\u001b[0m\u001b[0;34m\u001b[0m\u001b[0;34m\u001b[0m\u001b[0m\n\u001b[0;32m--> 411\u001b[0;31m         \u001b[0;32mreturn\u001b[0m \u001b[0mvisitor\u001b[0m\u001b[0;34m(\u001b[0m\u001b[0mnode\u001b[0m\u001b[0;34m,\u001b[0m \u001b[0;34m**\u001b[0m\u001b[0mkwargs\u001b[0m\u001b[0;34m)\u001b[0m\u001b[0;34m\u001b[0m\u001b[0;34m\u001b[0m\u001b[0m\n\u001b[0m\u001b[1;32m    412\u001b[0m \u001b[0;34m\u001b[0m\u001b[0m\n\u001b[1;32m    413\u001b[0m     \u001b[0;32mdef\u001b[0m \u001b[0mvisit_Module\u001b[0m\u001b[0;34m(\u001b[0m\u001b[0mself\u001b[0m\u001b[0;34m,\u001b[0m \u001b[0mnode\u001b[0m\u001b[0;34m,\u001b[0m \u001b[0;34m**\u001b[0m\u001b[0mkwargs\u001b[0m\u001b[0;34m)\u001b[0m\u001b[0;34m:\u001b[0m\u001b[0;34m\u001b[0m\u001b[0;34m\u001b[0m\u001b[0m\n",
            "\u001b[0;32m/usr/local/lib/python3.8/dist-packages/pandas/core/computation/expr.py\u001b[0m in \u001b[0;36mvisit_Name\u001b[0;34m(self, node, **kwargs)\u001b[0m\n\u001b[1;32m    543\u001b[0m \u001b[0;34m\u001b[0m\u001b[0m\n\u001b[1;32m    544\u001b[0m     \u001b[0;32mdef\u001b[0m \u001b[0mvisit_Name\u001b[0m\u001b[0;34m(\u001b[0m\u001b[0mself\u001b[0m\u001b[0;34m,\u001b[0m \u001b[0mnode\u001b[0m\u001b[0;34m,\u001b[0m \u001b[0;34m**\u001b[0m\u001b[0mkwargs\u001b[0m\u001b[0;34m)\u001b[0m\u001b[0;34m:\u001b[0m\u001b[0;34m\u001b[0m\u001b[0;34m\u001b[0m\u001b[0m\n\u001b[0;32m--> 545\u001b[0;31m         \u001b[0;32mreturn\u001b[0m \u001b[0mself\u001b[0m\u001b[0;34m.\u001b[0m\u001b[0mterm_type\u001b[0m\u001b[0;34m(\u001b[0m\u001b[0mnode\u001b[0m\u001b[0;34m.\u001b[0m\u001b[0mid\u001b[0m\u001b[0;34m,\u001b[0m \u001b[0mself\u001b[0m\u001b[0;34m.\u001b[0m\u001b[0menv\u001b[0m\u001b[0;34m,\u001b[0m \u001b[0;34m**\u001b[0m\u001b[0mkwargs\u001b[0m\u001b[0;34m)\u001b[0m\u001b[0;34m\u001b[0m\u001b[0;34m\u001b[0m\u001b[0m\n\u001b[0m\u001b[1;32m    546\u001b[0m \u001b[0;34m\u001b[0m\u001b[0m\n\u001b[1;32m    547\u001b[0m     \u001b[0;32mdef\u001b[0m \u001b[0mvisit_NameConstant\u001b[0m\u001b[0;34m(\u001b[0m\u001b[0mself\u001b[0m\u001b[0;34m,\u001b[0m \u001b[0mnode\u001b[0m\u001b[0;34m,\u001b[0m \u001b[0;34m**\u001b[0m\u001b[0mkwargs\u001b[0m\u001b[0;34m)\u001b[0m\u001b[0;34m:\u001b[0m\u001b[0;34m\u001b[0m\u001b[0;34m\u001b[0m\u001b[0m\n",
            "\u001b[0;32m/usr/local/lib/python3.8/dist-packages/pandas/core/computation/ops.py\u001b[0m in \u001b[0;36m__init__\u001b[0;34m(self, name, env, side, encoding)\u001b[0m\n\u001b[1;32m     96\u001b[0m         \u001b[0mtname\u001b[0m \u001b[0;34m=\u001b[0m \u001b[0mstr\u001b[0m\u001b[0;34m(\u001b[0m\u001b[0mname\u001b[0m\u001b[0;34m)\u001b[0m\u001b[0;34m\u001b[0m\u001b[0;34m\u001b[0m\u001b[0m\n\u001b[1;32m     97\u001b[0m         \u001b[0mself\u001b[0m\u001b[0;34m.\u001b[0m\u001b[0mis_local\u001b[0m \u001b[0;34m=\u001b[0m \u001b[0mtname\u001b[0m\u001b[0;34m.\u001b[0m\u001b[0mstartswith\u001b[0m\u001b[0;34m(\u001b[0m\u001b[0mLOCAL_TAG\u001b[0m\u001b[0;34m)\u001b[0m \u001b[0;32mor\u001b[0m \u001b[0mtname\u001b[0m \u001b[0;32min\u001b[0m \u001b[0mDEFAULT_GLOBALS\u001b[0m\u001b[0;34m\u001b[0m\u001b[0;34m\u001b[0m\u001b[0m\n\u001b[0;32m---> 98\u001b[0;31m         \u001b[0mself\u001b[0m\u001b[0;34m.\u001b[0m\u001b[0m_value\u001b[0m \u001b[0;34m=\u001b[0m \u001b[0mself\u001b[0m\u001b[0;34m.\u001b[0m\u001b[0m_resolve_name\u001b[0m\u001b[0;34m(\u001b[0m\u001b[0;34m)\u001b[0m\u001b[0;34m\u001b[0m\u001b[0;34m\u001b[0m\u001b[0m\n\u001b[0m\u001b[1;32m     99\u001b[0m         \u001b[0mself\u001b[0m\u001b[0;34m.\u001b[0m\u001b[0mencoding\u001b[0m \u001b[0;34m=\u001b[0m \u001b[0mencoding\u001b[0m\u001b[0;34m\u001b[0m\u001b[0;34m\u001b[0m\u001b[0m\n\u001b[1;32m    100\u001b[0m \u001b[0;34m\u001b[0m\u001b[0m\n",
            "\u001b[0;32m/usr/local/lib/python3.8/dist-packages/pandas/core/computation/ops.py\u001b[0m in \u001b[0;36m_resolve_name\u001b[0;34m(self)\u001b[0m\n\u001b[1;32m    113\u001b[0m \u001b[0;34m\u001b[0m\u001b[0m\n\u001b[1;32m    114\u001b[0m     \u001b[0;32mdef\u001b[0m \u001b[0m_resolve_name\u001b[0m\u001b[0;34m(\u001b[0m\u001b[0mself\u001b[0m\u001b[0;34m)\u001b[0m\u001b[0;34m:\u001b[0m\u001b[0;34m\u001b[0m\u001b[0;34m\u001b[0m\u001b[0m\n\u001b[0;32m--> 115\u001b[0;31m         \u001b[0mres\u001b[0m \u001b[0;34m=\u001b[0m \u001b[0mself\u001b[0m\u001b[0;34m.\u001b[0m\u001b[0menv\u001b[0m\u001b[0;34m.\u001b[0m\u001b[0mresolve\u001b[0m\u001b[0;34m(\u001b[0m\u001b[0mself\u001b[0m\u001b[0;34m.\u001b[0m\u001b[0mlocal_name\u001b[0m\u001b[0;34m,\u001b[0m \u001b[0mis_local\u001b[0m\u001b[0;34m=\u001b[0m\u001b[0mself\u001b[0m\u001b[0;34m.\u001b[0m\u001b[0mis_local\u001b[0m\u001b[0;34m)\u001b[0m\u001b[0;34m\u001b[0m\u001b[0;34m\u001b[0m\u001b[0m\n\u001b[0m\u001b[1;32m    116\u001b[0m         \u001b[0mself\u001b[0m\u001b[0;34m.\u001b[0m\u001b[0mupdate\u001b[0m\u001b[0;34m(\u001b[0m\u001b[0mres\u001b[0m\u001b[0;34m)\u001b[0m\u001b[0;34m\u001b[0m\u001b[0;34m\u001b[0m\u001b[0m\n\u001b[1;32m    117\u001b[0m \u001b[0;34m\u001b[0m\u001b[0m\n",
            "\u001b[0;32m/usr/local/lib/python3.8/dist-packages/pandas/core/computation/scope.py\u001b[0m in \u001b[0;36mresolve\u001b[0;34m(self, key, is_local)\u001b[0m\n\u001b[1;32m    214\u001b[0m                 \u001b[0;32mfrom\u001b[0m \u001b[0mpandas\u001b[0m\u001b[0;34m.\u001b[0m\u001b[0mcore\u001b[0m\u001b[0;34m.\u001b[0m\u001b[0mcomputation\u001b[0m\u001b[0;34m.\u001b[0m\u001b[0mops\u001b[0m \u001b[0;32mimport\u001b[0m \u001b[0mUndefinedVariableError\u001b[0m\u001b[0;34m\u001b[0m\u001b[0;34m\u001b[0m\u001b[0m\n\u001b[1;32m    215\u001b[0m \u001b[0;34m\u001b[0m\u001b[0m\n\u001b[0;32m--> 216\u001b[0;31m                 \u001b[0;32mraise\u001b[0m \u001b[0mUndefinedVariableError\u001b[0m\u001b[0;34m(\u001b[0m\u001b[0mkey\u001b[0m\u001b[0;34m,\u001b[0m \u001b[0mis_local\u001b[0m\u001b[0;34m)\u001b[0m \u001b[0;32mfrom\u001b[0m \u001b[0merr\u001b[0m\u001b[0;34m\u001b[0m\u001b[0;34m\u001b[0m\u001b[0m\n\u001b[0m\u001b[1;32m    217\u001b[0m \u001b[0;34m\u001b[0m\u001b[0m\n\u001b[1;32m    218\u001b[0m     \u001b[0;32mdef\u001b[0m \u001b[0mswapkey\u001b[0m\u001b[0;34m(\u001b[0m\u001b[0mself\u001b[0m\u001b[0;34m,\u001b[0m \u001b[0mold_key\u001b[0m\u001b[0;34m:\u001b[0m \u001b[0mstr\u001b[0m\u001b[0;34m,\u001b[0m \u001b[0mnew_key\u001b[0m\u001b[0;34m:\u001b[0m \u001b[0mstr\u001b[0m\u001b[0;34m,\u001b[0m \u001b[0mnew_value\u001b[0m\u001b[0;34m=\u001b[0m\u001b[0;32mNone\u001b[0m\u001b[0;34m)\u001b[0m \u001b[0;34m->\u001b[0m \u001b[0;32mNone\u001b[0m\u001b[0;34m:\u001b[0m\u001b[0;34m\u001b[0m\u001b[0;34m\u001b[0m\u001b[0m\n",
            "\u001b[0;31mUndefinedVariableError\u001b[0m: local variable 'timur_url_list' is not defined"
          ]
        }
      ]
    },
    {
      "cell_type": "markdown",
      "source": [
        "## Цикл 2, age & male раздельно по урлам, на основе features_important"
      ],
      "metadata": {
        "id": "FJLzBj1g3TC2"
      }
    },
    {
      "cell_type": "code",
      "source": [
        "# цикл грузит из паркета нужные даные и отсеивает по топ урлам из списка\n",
        "for i in     range(0,10):\n",
        "#for i in     [0,5]:  \n",
        "  #тут выбираем какие колонки из паркета грузим, можно через переменну определить\n",
        "  # 'cpe_model_name' 'cpe_manufacturer_name', ,'cpe_model_os_type'\n",
        "  df = pq.read_table(f'{LOCAL_DATA_PATH}{part_list[i]}').select([\t'cpe_model_name', 'cpe_model_os_type', 'url_host',\t\t'request_cnt',\t'part_of_day','user_id']).to_pandas()\n",
        "  \n",
        "  #контроль цикла, загрузка из паркета в память.\n",
        "  print ('part', i, 'load, shape = ',df.shape)\n",
        "  # для подсчета соко пропало user_id после обрезки по урлам\n",
        "  user_id_count = df['user_id'].nunique()\n",
        "  print ('part', i, 'до обрезки user_id = ', df['user_id'].nunique())\n",
        "\n",
        "  # дф по времени суток / нужно это делать на всем дф, со всеми урлами\n",
        "  df_user_part_of_day = df.pivot_table(index='user_id', columns='part_of_day', values='request_cnt',aggfunc='count').reset_index()\n",
        "\n",
        "  #обрезаем по урлам\n",
        "  df_age = df.query('url_host in @timur_url_list_age')\n",
        "  df_male= df.query('url_host in @timur_url_list_male')\n",
        "  #удаляем пременную для экономии паммяти\n",
        "  del df\n",
        "\n",
        "  print ('part', i, 'после обрезки user_id age уменьшилось на :',  user_id_count - df_age['user_id'].nunique())\n",
        "  print ('part', i, 'после обрезки user_id  male уменьшилось на :',  user_id_count - df_male['user_id'].nunique())\n",
        "\n",
        "  # дф по урлам формируем \n",
        "  df_user_url_age = df_age.pivot_table(index='user_id', columns='url_host', values='request_cnt',aggfunc='count').reset_index()\n",
        "  df_user_url_male = df_male.pivot_table(index='user_id', columns='url_host', values='request_cnt',aggfunc='count').reset_index()\n",
        "\n",
        "  #обезаем дф до состояния каждый юзер 1 строчка\n",
        "  df_age.drop(columns=['url_host', 'request_cnt', 'part_of_day'], inplace=True)\n",
        "  df_age.drop_duplicates(inplace=True)\n",
        "  df_male.drop(columns=['url_host', 'request_cnt', 'part_of_day'], inplace=True)\n",
        "  df_male.drop_duplicates(inplace=True)\n",
        " \n",
        "  #объедение с выкидыванием юзеров фриков\n",
        "  \n",
        "  df_age = df_age.merge(df_user_part_of_day, on='user_id')\n",
        "  df_age = df_age.merge(df_user_url_age, how='outer', on='user_id')\n",
        "  print ('после всех merge размерность df_age = ',df_age.shape)\n",
        "  \n",
        "  df_male = df_male.merge(df_user_part_of_day, on='user_id')\n",
        "  df_male = df_male.merge(df_user_url_male, how='outer', on='user_id')\n",
        "  print ('после всех merge размерность df_male = ',df_male.shape)\n",
        "  \n",
        "\n",
        "\n",
        "  # кэт ругается на нан\n",
        "  df_age.loc[df_age['cpe_model_name'].isna() ,'cpe_model_name'] = '0'\n",
        "  df_male.loc[df_male['cpe_model_name'].isna() ,'cpe_model_name'] = '0'\n",
        "\n",
        "  #теперь разделяем на train submit \n",
        "  df_train_age = df_age.merge(id_for_target,  on='user_id')\n",
        "  df_submit_age = df_age.merge(id_for_submit, on='user_id')\n",
        "  df_train_male = df_male.merge(id_for_target,  on='user_id')\n",
        "  df_submit_male = df_male.merge(id_for_submit, on='user_id')\n",
        "  #удаляем для экономии памати\n",
        "  del df_age\n",
        "  del df_male \n",
        "  \n",
        "  #категоризируем возраст - заменна функция на мою\n",
        "  df_train_age['age'] = df_train_age['age'].map(age_bascket)\n",
        "  \n",
        "  #сохраняем на диск  подготовленные файлы\n",
        "  #########################################\n",
        "  df_train_age.reset_index(drop=True).to_feather(f'{LOCAL_DATA_PATH}train_age_part_{i}.feather')\n",
        "  df_train_male.reset_index(drop=True).to_feather(f'{LOCAL_DATA_PATH}train_male_part_{i}.feather')\n",
        "\n",
        "  df_submit_age.to_feather(f'{LOCAL_DATA_PATH}submit_age_part_{i}.feather')\n",
        "  df_submit_male.to_feather(f'{LOCAL_DATA_PATH}submit_male_part_{i}.feather')\n",
        "\n",
        "  # все заранее разбиваем, т к потом не хватает ОЗУ общий файл обрабатывать\n",
        "  \n",
        "  # сохраняем фичи и таргет для age\n",
        "  df_train_age.drop(['user_id', 'age', 'is_male'], axis = 1).reset_index(drop=True).to_feather(f'{LOCAL_DATA_PATH}train_feat_age_part_{i}.feather') #,index = False)\n",
        "  #df_train.drop(['user_id', 'age', 'is_male'], axis = 1).to_csv(f'{LOCAL_DATA_PATH}train_feat_age_part_{i}.csv' ,index = False)\n",
        "  df_train_age['age'].to_csv(f'{LOCAL_DATA_PATH}train_target_age_part_{i}.csv', index = False)\n",
        "    \n",
        "\n",
        "  # сохраняем фичи и таргет для is_male\n",
        "  #дропаем перед ML по полу\n",
        "  df_train_male = df_train_male[df_train_male['is_male'] != 'NA']\n",
        "  \n",
        "  \n",
        "  df_train_male.drop(['user_id', 'age', 'is_male'], axis = 1).reset_index(drop=True).to_feather(f'{LOCAL_DATA_PATH}train_feat_is_male_part_{i}.feather')\n",
        "  df_train_male['is_male'].to_csv(f'{LOCAL_DATA_PATH}train_target_is_male_part_{i}.csv', index = False)\n",
        "\n",
        "  print ('part' , i , 'saved on disc')\n",
        "  del df_train_age\n",
        "  del df_train_male\n"
      ],
      "metadata": {
        "colab": {
          "base_uri": "https://localhost:8080/"
        },
        "id": "I6ptSrXKRBEu",
        "outputId": "e485358d-3920-4cba-9be0-5812f54c18cd"
      },
      "execution_count": null,
      "outputs": [
        {
          "output_type": "stream",
          "name": "stdout",
          "text": [
            "part 0 load, shape =  (32638709, 6)\n",
            "part 0 до обрезки user_id =  41594\n",
            "part 0 после обрезки user_id age уменьшилось на : 4\n",
            "part 0 после обрезки user_id  male уменьшилось на : 3\n",
            "после всех merge размерность df_age =  (41591, 1652)\n",
            "после всех merge размерность df_male =  (41592, 1611)\n",
            "part 0 saved on disc\n",
            "part 1 load, shape =  (32423119, 6)\n",
            "part 1 до обрезки user_id =  41570\n",
            "part 1 после обрезки user_id age уменьшилось на : 4\n",
            "part 1 после обрезки user_id  male уменьшилось на : 2\n",
            "после всех merge размерность df_age =  (41566, 1652)\n",
            "после всех merge размерность df_male =  (41568, 1611)\n",
            "part 1 saved on disc\n",
            "part 2 load, shape =  (32146620, 6)\n",
            "part 2 до обрезки user_id =  41335\n",
            "part 2 после обрезки user_id age уменьшилось на : 4\n",
            "part 2 после обрезки user_id  male уменьшилось на : 2\n",
            "после всех merge размерность df_age =  (41331, 1652)\n",
            "после всех merge размерность df_male =  (41333, 1611)\n",
            "part 2 saved on disc\n",
            "part 3 load, shape =  (32156858, 6)\n",
            "part 3 до обрезки user_id =  41640\n",
            "part 3 после обрезки user_id age уменьшилось на : 8\n",
            "part 3 после обрезки user_id  male уменьшилось на : 5\n",
            "после всех merge размерность df_age =  (41633, 1652)\n",
            "после всех merge размерность df_male =  (41636, 1611)\n",
            "part 3 saved on disc\n",
            "part 4 load, shape =  (32119163, 6)\n",
            "part 4 до обрезки user_id =  41286\n",
            "part 4 после обрезки user_id age уменьшилось на : 3\n",
            "part 4 после обрезки user_id  male уменьшилось на : 4\n",
            "после всех merge размерность df_age =  (41284, 1652)\n",
            "после всех merge размерность df_male =  (41283, 1611)\n",
            "part 4 saved on disc\n",
            "part 5 load, shape =  (32300908, 6)\n",
            "part 5 до обрезки user_id =  41577\n",
            "part 5 после обрезки user_id age уменьшилось на : 1\n",
            "part 5 после обрезки user_id  male уменьшилось на : 2\n",
            "после всех merge размерность df_age =  (41576, 1652)\n",
            "после всех merge размерность df_male =  (41575, 1611)\n",
            "part 5 saved on disc\n",
            "part 6 load, shape =  (32134423, 6)\n",
            "part 6 до обрезки user_id =  41461\n",
            "part 6 после обрезки user_id age уменьшилось на : 3\n",
            "part 6 после обрезки user_id  male уменьшилось на : 2\n",
            "после всех merge размерность df_age =  (41458, 1652)\n",
            "после всех merge размерность df_male =  (41459, 1611)\n",
            "part 6 saved on disc\n",
            "part 7 load, shape =  (32523675, 6)\n",
            "part 7 до обрезки user_id =  41612\n",
            "part 7 после обрезки user_id age уменьшилось на : 1\n",
            "part 7 после обрезки user_id  male уменьшилось на : 3\n",
            "после всех merge размерность df_age =  (41611, 1652)\n",
            "после всех merge размерность df_male =  (41609, 1611)\n",
            "part 7 saved on disc\n",
            "part 8 load, shape =  (32136680, 6)\n",
            "part 8 до обрезки user_id =  41683\n",
            "part 8 после обрезки user_id age уменьшилось на : 1\n",
            "part 8 после обрезки user_id  male уменьшилось на : 3\n",
            "после всех merge размерность df_age =  (41683, 1652)\n",
            "после всех merge размерность df_male =  (41681, 1611)\n",
            "part 8 saved on disc\n",
            "part 9 load, shape =  (32319280, 6)\n",
            "part 9 до обрезки user_id =  41559\n",
            "part 9 после обрезки user_id age уменьшилось на : 1\n",
            "part 9 после обрезки user_id  male уменьшилось на : 1\n",
            "после всех merge размерность df_age =  (41559, 1652)\n",
            "после всех merge размерность df_male =  (41559, 1611)\n",
            "part 9 saved on disc\n"
          ]
        }
      ]
    },
    {
      "cell_type": "markdown",
      "source": [
        "# Цикл Features Selection\n"
      ],
      "metadata": {
        "id": "EWsIMN9wtvsZ"
      }
    },
    {
      "cell_type": "code",
      "source": [
        "#перед циклом\n",
        "#top урлы сортировка по убыванию\n",
        "top_url_list = pd.read_csv(f'{LOCAL_DATA_PATH}top_all_urls.csv')\n",
        "#random\n",
        "state = np.random.RandomState(777)\n",
        "#list parequet\n",
        "part_list  = ['part-00000-aba60f69-2b63-4cc1-95ca-542598094698-c000.snappy.parquet',\n",
        "              'part-00001-aba60f69-2b63-4cc1-95ca-542598094698-c000.snappy.parquet',\n",
        "              'part-00002-aba60f69-2b63-4cc1-95ca-542598094698-c000.snappy.parquet',\n",
        "              'part-00003-aba60f69-2b63-4cc1-95ca-542598094698-c000.snappy.parquet',\n",
        "              'part-00004-aba60f69-2b63-4cc1-95ca-542598094698-c000.snappy.parquet',\n",
        "              'part-00005-aba60f69-2b63-4cc1-95ca-542598094698-c000.snappy.parquet',\n",
        "              'part-00006-aba60f69-2b63-4cc1-95ca-542598094698-c000.snappy.parquet',\n",
        "              'part-00007-aba60f69-2b63-4cc1-95ca-542598094698-c000.snappy.parquet',\n",
        "              'part-00008-aba60f69-2b63-4cc1-95ca-542598094698-c000.snappy.parquet',\n",
        "              'part-00009-aba60f69-2b63-4cc1-95ca-542598094698-c000.snappy.parquet',\n",
        "   ]\n",
        "\n",
        "#сразу дропаем ненужный возраст из таргет\n",
        "id_for_target = pq.read_table(f'{LOCAL_DATA_PATH}/{TARGET_FILE}').to_pandas().query('age >=19 ') \n",
        "id_for_submit = pq.read_table(f'{LOCAL_DATA_PATH}/{SUBMISSION_FILE}').to_pandas() \n",
        "\n",
        "#fucn\n",
        "#my \n",
        "def age_bascket(x):\n",
        "  if x <= 25 :\n",
        "    return 1\n",
        "  elif 25 < x <= 35:\n",
        "    return 2\n",
        "  elif 35 < x <= 45:\n",
        "    return 3\n",
        "  elif 45 < x <= 55:\n",
        "    return 4\n",
        "  elif 55 < x <= 65:\n",
        "    return 5\n",
        "  return 6  "
      ],
      "metadata": {
        "id": "CptOJVGOt1Be"
      },
      "execution_count": null,
      "outputs": []
    },
    {
      "cell_type": "markdown",
      "source": [],
      "metadata": {
        "id": "8UELXh-862qb"
      }
    },
    {
      "cell_type": "code",
      "source": [
        "%%time\n",
        "# цикл грузит из паркета нужные даные и отсеивает по топ урлам из списка\n",
        "# метка цикла\n",
        "j_randint = randint(0, 999999)\n",
        "for j in range (0,20):\n",
        "  print('цикл',j_randint ,'итерация', j)\n",
        "  #берем 10% от 150к, потмоу что глубже бесмысслено(я так думаю)\n",
        "  timur_url_list = top_url_list.head(15000).sample(1200,random_state=state)['index'].values \n",
        "  \n",
        "  #чтение кусков,выборка рандом урлов и создание дф\n",
        "  for i in   range(0,10): #[0,5]\n",
        "    df = pq.read_table(f'{LOCAL_DATA_PATH}{part_list[i]}').select(['url_host','request_cnt','user_id']).to_pandas()\n",
        "    #обрезаем по урлам\n",
        "    \n",
        "    #контроль цикла, загрузка из паркета в память.\n",
        "    print ('part', i, 'load, shape = ',df.shape)\n",
        "    # для подсчета соко пропало user_id после обрезки по урлам\n",
        "    user_id_count = df['user_id'].nunique()\n",
        "\n",
        "    df = df.query('url_host in @timur_url_list')\n",
        "    print ('part', i, 'после обрезки user_id уменьшилось на :',  user_id_count - df['user_id'].nunique())\n",
        "\n",
        "    # дф по урлам формируем \n",
        "    df = df.pivot_table(index='user_id', columns='url_host', values='request_cnt',aggfunc='count').reset_index()\n",
        " \n",
        "    #теперь разделяем на train submit \n",
        "    df = df.merge(id_for_target,  on='user_id')\n",
        "    # склейка дф, для 0 итерации нет склейки\n",
        "    if i == 0:\n",
        "      df_train = df\n",
        "    else:\n",
        "      df_train = pd.concat([df_train, df], ignore_index=True)\n",
        "    \n",
        "    \n",
        "  #конец цикла i\n",
        "  del df\n",
        "  print('итерация', j, 'конечное df_train.shape', df_train.shape)   \n",
        "  #категоризируем возраст - заменна функция на мою\n",
        "  df_train['age'] = df_train['age'].map(age_bascket)\n",
        "  \n",
        "  #сохраняем на диск  подготовленные файлы\n",
        "  df_train.reset_index(drop=True).to_feather(f'{LOCAL_DATA_PATH_2}train_part_all.feather')\n",
        "\n",
        "  #ML\n",
        "  cat_age = CatBoostClassifier(task_type=\"GPU\")\n",
        "  print('start', cat_age)\n",
        "  cat_age.fit(df_train.drop(['user_id', 'age', 'is_male'], axis = 1), df_train['age'], verbose = False)\n",
        "  #features_importance\n",
        "  feature_age_importance = pd.DataFrame(cat_age.get_feature_importance(), index=cat_age.feature_names_).reset_index()\n",
        "  feature_age_importance = feature_age_importance[feature_age_importance[0] > 0 ]\n",
        "  print('finish', cat_age)\n",
        "\n",
        "  cat_male = CatBoostClassifier(task_type=\"GPU\")\n",
        "  print('start', cat_male)\n",
        "  cat_male.fit(df_train.drop(['user_id', 'age', 'is_male'], axis = 1), df_train['is_male'], verbose = False)\n",
        "  #features_importance\n",
        "  feature_male_importance = pd.DataFrame(cat_male.get_feature_importance(), index=cat_male.feature_names_).reset_index()\n",
        "  feature_male_importance = feature_male_importance[feature_male_importance[0] > 0 ]\n",
        "  print('finish', cat_male)\n",
        "\n",
        "  del df_train\n",
        "\n",
        "  # склейка фич_импотант, для 0 итерации нет склейки\n",
        "  if j == 0 :\n",
        "     feature_age_importance_j = feature_age_importance\n",
        "     feature_male_importance_j = feature_male_importance\n",
        "  else:\n",
        "     feature_age_importance_j = pd.concat([feature_age_importance_j, feature_age_importance], ignore_index=True) \n",
        "     feature_male_importance_j = pd.concat([feature_male_importance_j, feature_male_importance], ignore_index=True) \n",
        "\n",
        "\n",
        "#конец цикла j - сохранне фич_импотант - это главная цель циклов\n",
        "feature_age_importance_j.to_csv(f'{LOCAL_DATA_PATH_2}feature_age_importance_{j_randint}.csv', index=False) \n",
        "feature_male_importance_j.to_csv(f'{LOCAL_DATA_PATH_2}feature_male_importance_{j_randint}.csv', index=False) \n",
        "print('итерация', j, 'выполнена')  \n",
        "    "
      ],
      "metadata": {
        "colab": {
          "base_uri": "https://localhost:8080/"
        },
        "id": "QkHjCILst1D9",
        "outputId": "2c13085b-d79f-4aaa-cd33-bb13927d0140"
      },
      "execution_count": null,
      "outputs": [
        {
          "output_type": "stream",
          "name": "stdout",
          "text": [
            "цикл 977070 итерация 0\n",
            "part 0 load, shape =  (32638709, 3)\n",
            "part 0 после обрезки user_id уменьшилось на : 4224\n",
            "part 1 load, shape =  (32423119, 3)\n",
            "part 1 после обрезки user_id уменьшилось на : 4320\n",
            "part 2 load, shape =  (32146620, 3)\n",
            "part 2 после обрезки user_id уменьшилось на : 4188\n",
            "part 3 load, shape =  (32156858, 3)\n",
            "part 3 после обрезки user_id уменьшилось на : 4360\n",
            "part 4 load, shape =  (32119163, 3)\n",
            "part 4 после обрезки user_id уменьшилось на : 4250\n",
            "part 5 load, shape =  (32300908, 3)\n",
            "part 5 после обрезки user_id уменьшилось на : 4437\n",
            "part 6 load, shape =  (32134423, 3)\n",
            "part 6 после обрезки user_id уменьшилось на : 4306\n",
            "part 7 load, shape =  (32523675, 3)\n",
            "part 7 после обрезки user_id уменьшилось на : 4464\n",
            "part 8 load, shape =  (32136680, 3)\n",
            "part 8 после обрезки user_id уменьшилось на : 4448\n",
            "part 9 load, shape =  (32319280, 3)\n",
            "part 9 после обрезки user_id уменьшилось на : 4187\n",
            "итерация 0 конечное df_train.shape (240967, 1203)\n",
            "start <catboost.core.CatBoostClassifier object at 0x7facfa5eafd0>\n",
            "finish <catboost.core.CatBoostClassifier object at 0x7facfa5eafd0>\n",
            "start <catboost.core.CatBoostClassifier object at 0x7fad0a968d60>\n",
            "finish <catboost.core.CatBoostClassifier object at 0x7fad0a968d60>\n",
            "цикл 977070 итерация 1\n",
            "part 0 load, shape =  (32638709, 3)\n",
            "part 0 после обрезки user_id уменьшилось на : 4574\n",
            "part 1 load, shape =  (32423119, 3)\n",
            "part 1 после обрезки user_id уменьшилось на : 4569\n",
            "part 2 load, shape =  (32146620, 3)\n",
            "part 2 после обрезки user_id уменьшилось на : 4562\n",
            "part 3 load, shape =  (32156858, 3)\n",
            "part 3 после обрезки user_id уменьшилось на : 4599\n",
            "part 4 load, shape =  (32119163, 3)\n",
            "part 4 после обрезки user_id уменьшилось на : 4513\n",
            "part 5 load, shape =  (32300908, 3)\n",
            "part 5 после обрезки user_id уменьшилось на : 4587\n",
            "part 6 load, shape =  (32134423, 3)\n",
            "part 6 после обрезки user_id уменьшилось на : 4592\n",
            "part 7 load, shape =  (32523675, 3)\n",
            "part 7 после обрезки user_id уменьшилось на : 4681\n",
            "part 8 load, shape =  (32136680, 3)\n",
            "part 8 после обрезки user_id уменьшилось на : 4707\n",
            "part 9 load, shape =  (32319280, 3)\n",
            "part 9 после обрезки user_id уменьшилось на : 4507\n",
            "итерация 1 конечное df_train.shape (239324, 1202)\n",
            "start <catboost.core.CatBoostClassifier object at 0x7facf5a70070>\n",
            "finish <catboost.core.CatBoostClassifier object at 0x7facf5a70070>\n",
            "start <catboost.core.CatBoostClassifier object at 0x7facfa471f40>\n",
            "finish <catboost.core.CatBoostClassifier object at 0x7facfa471f40>\n",
            "цикл 977070 итерация 2\n",
            "part 0 load, shape =  (32638709, 3)\n",
            "part 0 после обрезки user_id уменьшилось на : 7561\n",
            "part 1 load, shape =  (32423119, 3)\n",
            "part 1 после обрезки user_id уменьшилось на : 7497\n",
            "part 2 load, shape =  (32146620, 3)\n",
            "part 2 после обрезки user_id уменьшилось на : 7499\n",
            "part 3 load, shape =  (32156858, 3)\n",
            "part 3 после обрезки user_id уменьшилось на : 7700\n",
            "part 4 load, shape =  (32119163, 3)\n",
            "part 4 после обрезки user_id уменьшилось на : 7550\n",
            "part 5 load, shape =  (32300908, 3)\n",
            "part 5 после обрезки user_id уменьшилось на : 7554\n",
            "part 6 load, shape =  (32134423, 3)\n",
            "part 6 после обрезки user_id уменьшилось на : 7579\n",
            "part 7 load, shape =  (32523675, 3)\n",
            "part 7 после обрезки user_id уменьшилось на : 7694\n",
            "part 8 load, shape =  (32136680, 3)\n",
            "part 8 после обрезки user_id уменьшилось на : 7754\n",
            "part 9 load, shape =  (32319280, 3)\n",
            "part 9 после обрезки user_id уменьшилось на : 7502\n",
            "итерация 2 конечное df_train.shape (219829, 1203)\n",
            "start <catboost.core.CatBoostClassifier object at 0x7fad0a5d4e20>\n",
            "finish <catboost.core.CatBoostClassifier object at 0x7fad0a5d4e20>\n",
            "start <catboost.core.CatBoostClassifier object at 0x7fad08620e50>\n",
            "finish <catboost.core.CatBoostClassifier object at 0x7fad08620e50>\n",
            "цикл 977070 итерация 3\n",
            "part 0 load, shape =  (32638709, 3)\n",
            "part 0 после обрезки user_id уменьшилось на : 2500\n",
            "part 1 load, shape =  (32423119, 3)\n",
            "part 1 после обрезки user_id уменьшилось на : 2525\n",
            "part 2 load, shape =  (32146620, 3)\n",
            "part 2 после обрезки user_id уменьшилось на : 2472\n",
            "part 3 load, shape =  (32156858, 3)\n",
            "part 3 после обрезки user_id уменьшилось на : 2445\n",
            "part 4 load, shape =  (32119163, 3)\n",
            "part 4 после обрезки user_id уменьшилось на : 2497\n",
            "part 5 load, shape =  (32300908, 3)\n",
            "part 5 после обрезки user_id уменьшилось на : 2538\n",
            "part 6 load, shape =  (32134423, 3)\n",
            "part 6 после обрезки user_id уменьшилось на : 2516\n",
            "part 7 load, shape =  (32523675, 3)\n",
            "part 7 после обрезки user_id уменьшилось на : 2518\n",
            "part 8 load, shape =  (32136680, 3)\n",
            "part 8 после обрезки user_id уменьшилось на : 2572\n",
            "part 9 load, shape =  (32319280, 3)\n",
            "part 9 после обрезки user_id уменьшилось на : 2446\n",
            "итерация 3 конечное df_train.shape (252815, 1203)\n",
            "start <catboost.core.CatBoostClassifier object at 0x7fad08644b80>\n",
            "finish <catboost.core.CatBoostClassifier object at 0x7fad08644b80>\n",
            "start <catboost.core.CatBoostClassifier object at 0x7facfa471850>\n",
            "finish <catboost.core.CatBoostClassifier object at 0x7facfa471850>\n",
            "цикл 977070 итерация 4\n",
            "part 0 load, shape =  (32638709, 3)\n",
            "part 0 после обрезки user_id уменьшилось на : 2618\n",
            "part 1 load, shape =  (32423119, 3)\n",
            "part 1 после обрезки user_id уменьшилось на : 2595\n",
            "part 2 load, shape =  (32146620, 3)\n",
            "part 2 после обрезки user_id уменьшилось на : 2629\n",
            "part 3 load, shape =  (32156858, 3)\n",
            "part 3 после обрезки user_id уменьшилось на : 2577\n",
            "part 4 load, shape =  (32119163, 3)\n",
            "part 4 после обрезки user_id уменьшилось на : 2673\n",
            "part 5 load, shape =  (32300908, 3)\n",
            "part 5 после обрезки user_id уменьшилось на : 2679\n",
            "part 6 load, shape =  (32134423, 3)\n",
            "part 6 после обрезки user_id уменьшилось на : 2537\n",
            "part 7 load, shape =  (32523675, 3)\n",
            "part 7 после обрезки user_id уменьшилось на : 2625\n",
            "part 8 load, shape =  (32136680, 3)\n",
            "part 8 после обрезки user_id уменьшилось на : 2682\n",
            "part 9 load, shape =  (32319280, 3)\n",
            "part 9 после обрезки user_id уменьшилось на : 2483\n",
            "итерация 4 конечное df_train.shape (251990, 1203)\n",
            "start <catboost.core.CatBoostClassifier object at 0x7fad086285e0>\n",
            "finish <catboost.core.CatBoostClassifier object at 0x7fad086285e0>\n",
            "start <catboost.core.CatBoostClassifier object at 0x7fad086f23a0>\n",
            "finish <catboost.core.CatBoostClassifier object at 0x7fad086f23a0>\n",
            "цикл 977070 итерация 5\n",
            "part 0 load, shape =  (32638709, 3)\n",
            "part 0 после обрезки user_id уменьшилось на : 1532\n",
            "part 1 load, shape =  (32423119, 3)\n",
            "part 1 после обрезки user_id уменьшилось на : 1499\n",
            "part 2 load, shape =  (32146620, 3)\n",
            "part 2 после обрезки user_id уменьшилось на : 1594\n",
            "part 3 load, shape =  (32156858, 3)\n",
            "part 3 после обрезки user_id уменьшилось на : 1535\n",
            "part 4 load, shape =  (32119163, 3)\n",
            "part 4 после обрезки user_id уменьшилось на : 1559\n",
            "part 5 load, shape =  (32300908, 3)\n",
            "part 5 после обрезки user_id уменьшилось на : 1561\n",
            "part 6 load, shape =  (32134423, 3)\n",
            "part 6 после обрезки user_id уменьшилось на : 1568\n",
            "part 7 load, shape =  (32523675, 3)\n",
            "part 7 после обрезки user_id уменьшилось на : 1607\n",
            "part 8 load, shape =  (32136680, 3)\n",
            "part 8 после обрезки user_id уменьшилось на : 1602\n",
            "part 9 load, shape =  (32319280, 3)\n",
            "part 9 после обрезки user_id уменьшилось на : 1495\n",
            "итерация 5 конечное df_train.shape (258925, 1203)\n",
            "start <catboost.core.CatBoostClassifier object at 0x7fad0a916fd0>\n",
            "finish <catboost.core.CatBoostClassifier object at 0x7fad0a916fd0>\n",
            "start <catboost.core.CatBoostClassifier object at 0x7facf5ba7370>\n",
            "finish <catboost.core.CatBoostClassifier object at 0x7facf5ba7370>\n",
            "цикл 977070 итерация 6\n",
            "part 0 load, shape =  (32638709, 3)\n",
            "part 0 после обрезки user_id уменьшилось на : 2128\n",
            "part 1 load, shape =  (32423119, 3)\n",
            "part 1 после обрезки user_id уменьшилось на : 2246\n",
            "part 2 load, shape =  (32146620, 3)\n",
            "part 2 после обрезки user_id уменьшилось на : 2116\n",
            "part 3 load, shape =  (32156858, 3)\n",
            "part 3 после обрезки user_id уменьшилось на : 2097\n",
            "part 4 load, shape =  (32119163, 3)\n",
            "part 4 после обрезки user_id уменьшилось на : 2187\n",
            "part 5 load, shape =  (32300908, 3)\n",
            "part 5 после обрезки user_id уменьшилось на : 2156\n",
            "part 6 load, shape =  (32134423, 3)\n",
            "part 6 после обрезки user_id уменьшилось на : 2118\n",
            "part 7 load, shape =  (32523675, 3)\n",
            "part 7 после обрезки user_id уменьшилось на : 2126\n",
            "part 8 load, shape =  (32136680, 3)\n",
            "part 8 после обрезки user_id уменьшилось на : 2210\n",
            "part 9 load, shape =  (32319280, 3)\n",
            "part 9 после обрезки user_id уменьшилось на : 2073\n",
            "итерация 6 конечное df_train.shape (255098, 1203)\n",
            "start <catboost.core.CatBoostClassifier object at 0x7fad0a937fd0>\n",
            "finish <catboost.core.CatBoostClassifier object at 0x7fad0a937fd0>\n",
            "start <catboost.core.CatBoostClassifier object at 0x7fad0a92f160>\n",
            "finish <catboost.core.CatBoostClassifier object at 0x7fad0a92f160>\n",
            "цикл 977070 итерация 7\n",
            "part 0 load, shape =  (32638709, 3)\n",
            "part 0 после обрезки user_id уменьшилось на : 2205\n",
            "part 1 load, shape =  (32423119, 3)\n",
            "part 1 после обрезки user_id уменьшилось на : 2227\n",
            "part 2 load, shape =  (32146620, 3)\n",
            "part 2 после обрезки user_id уменьшилось на : 2211\n",
            "part 3 load, shape =  (32156858, 3)\n",
            "part 3 после обрезки user_id уменьшилось на : 2150\n",
            "part 4 load, shape =  (32119163, 3)\n",
            "part 4 после обрезки user_id уменьшилось на : 2253\n",
            "part 5 load, shape =  (32300908, 3)\n",
            "part 5 после обрезки user_id уменьшилось на : 2246\n",
            "part 6 load, shape =  (32134423, 3)\n",
            "part 6 после обрезки user_id уменьшилось на : 2145\n",
            "part 7 load, shape =  (32523675, 3)\n",
            "part 7 после обрезки user_id уменьшилось на : 2225\n",
            "part 8 load, shape =  (32136680, 3)\n",
            "part 8 после обрезки user_id уменьшилось на : 2280\n",
            "part 9 load, shape =  (32319280, 3)\n",
            "part 9 после обрезки user_id уменьшилось на : 2097\n",
            "итерация 7 конечное df_train.shape (254648, 1203)\n",
            "start <catboost.core.CatBoostClassifier object at 0x7fad0a92fa90>\n",
            "finish <catboost.core.CatBoostClassifier object at 0x7fad0a92fa90>\n",
            "start <catboost.core.CatBoostClassifier object at 0x7fad0a90d040>\n",
            "finish <catboost.core.CatBoostClassifier object at 0x7fad0a90d040>\n",
            "цикл 977070 итерация 8\n",
            "part 0 load, shape =  (32638709, 3)\n",
            "part 0 после обрезки user_id уменьшилось на : 4867\n",
            "part 1 load, shape =  (32423119, 3)\n",
            "part 1 после обрезки user_id уменьшилось на : 4837\n",
            "part 2 load, shape =  (32146620, 3)\n",
            "part 2 после обрезки user_id уменьшилось на : 4744\n",
            "part 3 load, shape =  (32156858, 3)\n",
            "part 3 после обрезки user_id уменьшилось на : 4769\n",
            "part 4 load, shape =  (32119163, 3)\n",
            "part 4 после обрезки user_id уменьшилось на : 4821\n",
            "part 5 load, shape =  (32300908, 3)\n",
            "part 5 после обрезки user_id уменьшилось на : 4860\n",
            "part 6 load, shape =  (32134423, 3)\n",
            "part 6 после обрезки user_id уменьшилось на : 4853\n",
            "part 7 load, shape =  (32523675, 3)\n",
            "part 7 после обрезки user_id уменьшилось на : 4934\n",
            "part 8 load, shape =  (32136680, 3)\n",
            "part 8 после обрезки user_id уменьшилось на : 4891\n",
            "part 9 load, shape =  (32319280, 3)\n",
            "part 9 после обрезки user_id уменьшилось на : 4814\n",
            "итерация 8 конечное df_train.shape (237650, 1203)\n",
            "start <catboost.core.CatBoostClassifier object at 0x7faa8248fee0>\n",
            "finish <catboost.core.CatBoostClassifier object at 0x7faa8248fee0>\n",
            "start <catboost.core.CatBoostClassifier object at 0x7facfa561fd0>\n",
            "finish <catboost.core.CatBoostClassifier object at 0x7facfa561fd0>\n",
            "цикл 977070 итерация 9\n",
            "part 0 load, shape =  (32638709, 3)\n",
            "part 0 после обрезки user_id уменьшилось на : 4888\n",
            "part 1 load, shape =  (32423119, 3)\n",
            "part 1 после обрезки user_id уменьшилось на : 4963\n",
            "part 2 load, shape =  (32146620, 3)\n",
            "part 2 после обрезки user_id уменьшилось на : 4796\n",
            "part 3 load, shape =  (32156858, 3)\n",
            "part 3 после обрезки user_id уменьшилось на : 4860\n",
            "part 4 load, shape =  (32119163, 3)\n",
            "part 4 после обрезки user_id уменьшилось на : 4850\n",
            "part 5 load, shape =  (32300908, 3)\n",
            "part 5 после обрезки user_id уменьшилось на : 4879\n",
            "part 6 load, shape =  (32134423, 3)\n",
            "part 6 после обрезки user_id уменьшилось на : 4842\n",
            "part 7 load, shape =  (32523675, 3)\n",
            "part 7 после обрезки user_id уменьшилось на : 5054\n",
            "part 8 load, shape =  (32136680, 3)\n",
            "part 8 после обрезки user_id уменьшилось на : 5059\n",
            "part 9 load, shape =  (32319280, 3)\n",
            "part 9 после обрезки user_id уменьшилось на : 4857\n",
            "итерация 9 конечное df_train.shape (237099, 1203)\n",
            "start <catboost.core.CatBoostClassifier object at 0x7facfa55df70>\n",
            "finish <catboost.core.CatBoostClassifier object at 0x7facfa55df70>\n",
            "start <catboost.core.CatBoostClassifier object at 0x7facf5a78d00>\n",
            "finish <catboost.core.CatBoostClassifier object at 0x7facf5a78d00>\n",
            "цикл 977070 итерация 10\n",
            "part 0 load, shape =  (32638709, 3)\n",
            "part 0 после обрезки user_id уменьшилось на : 1672\n",
            "part 1 load, shape =  (32423119, 3)\n",
            "part 1 после обрезки user_id уменьшилось на : 1645\n",
            "part 2 load, shape =  (32146620, 3)\n",
            "part 2 после обрезки user_id уменьшилось на : 1712\n",
            "part 3 load, shape =  (32156858, 3)\n",
            "part 3 после обрезки user_id уменьшилось на : 1679\n",
            "part 4 load, shape =  (32119163, 3)\n",
            "part 4 после обрезки user_id уменьшилось на : 1692\n",
            "part 5 load, shape =  (32300908, 3)\n",
            "part 5 после обрезки user_id уменьшилось на : 1684\n",
            "part 6 load, shape =  (32134423, 3)\n",
            "part 6 после обрезки user_id уменьшилось на : 1677\n",
            "part 7 load, shape =  (32523675, 3)\n",
            "part 7 после обрезки user_id уменьшилось на : 1675\n",
            "part 8 load, shape =  (32136680, 3)\n",
            "part 8 после обрезки user_id уменьшилось на : 1799\n",
            "part 9 load, shape =  (32319280, 3)\n",
            "part 9 после обрезки user_id уменьшилось на : 1655\n",
            "итерация 10 конечное df_train.shape (258013, 1203)\n",
            "start <catboost.core.CatBoostClassifier object at 0x7facf5a4cfd0>\n",
            "finish <catboost.core.CatBoostClassifier object at 0x7facf5a4cfd0>\n",
            "start <catboost.core.CatBoostClassifier object at 0x7facfa5bf7c0>\n",
            "finish <catboost.core.CatBoostClassifier object at 0x7facfa5bf7c0>\n",
            "цикл 977070 итерация 11\n",
            "part 0 load, shape =  (32638709, 3)\n",
            "part 0 после обрезки user_id уменьшилось на : 1939\n",
            "part 1 load, shape =  (32423119, 3)\n",
            "part 1 после обрезки user_id уменьшилось на : 1910\n",
            "part 2 load, shape =  (32146620, 3)\n",
            "part 2 после обрезки user_id уменьшилось на : 1992\n",
            "part 3 load, shape =  (32156858, 3)\n",
            "part 3 после обрезки user_id уменьшилось на : 1945\n",
            "part 4 load, shape =  (32119163, 3)\n",
            "part 4 после обрезки user_id уменьшилось на : 1926\n",
            "part 5 load, shape =  (32300908, 3)\n",
            "part 5 после обрезки user_id уменьшилось на : 1995\n",
            "part 6 load, shape =  (32134423, 3)\n",
            "part 6 после обрезки user_id уменьшилось на : 1945\n",
            "part 7 load, shape =  (32523675, 3)\n",
            "part 7 после обрезки user_id уменьшилось на : 1944\n",
            "part 8 load, shape =  (32136680, 3)\n",
            "part 8 после обрезки user_id уменьшилось на : 2008\n",
            "part 9 load, shape =  (32319280, 3)\n",
            "part 9 после обрезки user_id уменьшилось на : 1871\n",
            "итерация 11 конечное df_train.shape (256361, 1203)\n",
            "start <catboost.core.CatBoostClassifier object at 0x7facfa574700>\n",
            "finish <catboost.core.CatBoostClassifier object at 0x7facfa574700>\n",
            "start <catboost.core.CatBoostClassifier object at 0x7facf5a5c850>\n",
            "finish <catboost.core.CatBoostClassifier object at 0x7facf5a5c850>\n",
            "цикл 977070 итерация 12\n",
            "part 0 load, shape =  (32638709, 3)\n",
            "part 0 после обрезки user_id уменьшилось на : 2046\n",
            "part 1 load, shape =  (32423119, 3)\n",
            "part 1 после обрезки user_id уменьшилось на : 2117\n",
            "part 2 load, shape =  (32146620, 3)\n",
            "part 2 после обрезки user_id уменьшилось на : 1964\n",
            "part 3 load, shape =  (32156858, 3)\n",
            "part 3 после обрезки user_id уменьшилось на : 2042\n",
            "part 4 load, shape =  (32119163, 3)\n",
            "part 4 после обрезки user_id уменьшилось на : 2045\n",
            "part 5 load, shape =  (32300908, 3)\n",
            "part 5 после обрезки user_id уменьшилось на : 2130\n",
            "part 6 load, shape =  (32134423, 3)\n",
            "part 6 после обрезки user_id уменьшилось на : 1987\n",
            "part 7 load, shape =  (32523675, 3)\n",
            "part 7 после обрезки user_id уменьшилось на : 2089\n",
            "part 8 load, shape =  (32136680, 3)\n",
            "part 8 после обрезки user_id уменьшилось на : 2111\n",
            "part 9 load, shape =  (32319280, 3)\n",
            "part 9 после обрезки user_id уменьшилось на : 1936\n",
            "итерация 12 конечное df_train.shape (255692, 1203)\n",
            "start <catboost.core.CatBoostClassifier object at 0x7fad0869cfa0>\n",
            "finish <catboost.core.CatBoostClassifier object at 0x7fad0869cfa0>\n",
            "start <catboost.core.CatBoostClassifier object at 0x7facf5bc82b0>\n",
            "finish <catboost.core.CatBoostClassifier object at 0x7facf5bc82b0>\n",
            "цикл 977070 итерация 13\n",
            "part 0 load, shape =  (32638709, 3)\n",
            "part 0 после обрезки user_id уменьшилось на : 6031\n",
            "part 1 load, shape =  (32423119, 3)\n",
            "part 1 после обрезки user_id уменьшилось на : 6102\n",
            "part 2 load, shape =  (32146620, 3)\n",
            "part 2 после обрезки user_id уменьшилось на : 6031\n",
            "part 3 load, shape =  (32156858, 3)\n",
            "part 3 после обрезки user_id уменьшилось на : 6054\n",
            "part 4 load, shape =  (32119163, 3)\n",
            "part 4 после обрезки user_id уменьшилось на : 5969\n",
            "part 5 load, shape =  (32300908, 3)\n",
            "part 5 после обрезки user_id уменьшилось на : 6093\n",
            "part 6 load, shape =  (32134423, 3)\n",
            "part 6 после обрезки user_id уменьшилось на : 6040\n",
            "part 7 load, shape =  (32523675, 3)\n",
            "part 7 после обрезки user_id уменьшилось на : 6187\n",
            "part 8 load, shape =  (32136680, 3)\n",
            "part 8 после обрезки user_id уменьшилось на : 6196\n",
            "part 9 load, shape =  (32319280, 3)\n",
            "part 9 после обрезки user_id уменьшилось на : 5980\n",
            "итерация 13 конечное df_train.shape (229535, 1203)\n",
            "start <catboost.core.CatBoostClassifier object at 0x7faa8248f070>\n",
            "finish <catboost.core.CatBoostClassifier object at 0x7faa8248f070>\n",
            "start <catboost.core.CatBoostClassifier object at 0x7fad086c08b0>\n",
            "finish <catboost.core.CatBoostClassifier object at 0x7fad086c08b0>\n",
            "цикл 977070 итерация 14\n",
            "part 0 load, shape =  (32638709, 3)\n",
            "part 0 после обрезки user_id уменьшилось на : 2163\n",
            "part 1 load, shape =  (32423119, 3)\n",
            "part 1 после обрезки user_id уменьшилось на : 2240\n",
            "part 2 load, shape =  (32146620, 3)\n",
            "part 2 после обрезки user_id уменьшилось на : 2135\n",
            "part 3 load, shape =  (32156858, 3)\n",
            "part 3 после обрезки user_id уменьшилось на : 2152\n",
            "part 4 load, shape =  (32119163, 3)\n",
            "part 4 после обрезки user_id уменьшилось на : 2154\n",
            "part 5 load, shape =  (32300908, 3)\n",
            "part 5 после обрезки user_id уменьшилось на : 2174\n",
            "part 6 load, shape =  (32134423, 3)\n",
            "part 6 после обрезки user_id уменьшилось на : 2172\n",
            "part 7 load, shape =  (32523675, 3)\n",
            "part 7 после обрезки user_id уменьшилось на : 2215\n",
            "part 8 load, shape =  (32136680, 3)\n",
            "part 8 после обрезки user_id уменьшилось на : 2224\n",
            "part 9 load, shape =  (32319280, 3)\n",
            "part 9 после обрезки user_id уменьшилось на : 2085\n",
            "итерация 14 конечное df_train.shape (254865, 1203)\n",
            "start <catboost.core.CatBoostClassifier object at 0x7fad086c18b0>\n",
            "finish <catboost.core.CatBoostClassifier object at 0x7fad086c18b0>\n",
            "start <catboost.core.CatBoostClassifier object at 0x7fad086c0460>\n",
            "finish <catboost.core.CatBoostClassifier object at 0x7fad086c0460>\n",
            "цикл 977070 итерация 15\n",
            "part 0 load, shape =  (32638709, 3)\n",
            "part 0 после обрезки user_id уменьшилось на : 1711\n",
            "part 1 load, shape =  (32423119, 3)\n",
            "part 1 после обрезки user_id уменьшилось на : 1669\n",
            "part 2 load, shape =  (32146620, 3)\n",
            "part 2 после обрезки user_id уменьшилось на : 1755\n",
            "part 3 load, shape =  (32156858, 3)\n",
            "part 3 после обрезки user_id уменьшилось на : 1692\n",
            "part 4 load, shape =  (32119163, 3)\n",
            "part 4 после обрезки user_id уменьшилось на : 1717\n",
            "part 5 load, shape =  (32300908, 3)\n",
            "part 5 после обрезки user_id уменьшилось на : 1720\n",
            "part 6 load, shape =  (32134423, 3)\n",
            "part 6 после обрезки user_id уменьшилось на : 1727\n",
            "part 7 load, shape =  (32523675, 3)\n",
            "part 7 после обрезки user_id уменьшилось на : 1752\n",
            "part 8 load, shape =  (32136680, 3)\n",
            "part 8 после обрезки user_id уменьшилось на : 1763\n",
            "part 9 load, shape =  (32319280, 3)\n",
            "part 9 после обрезки user_id уменьшилось на : 1652\n",
            "итерация 15 конечное df_train.shape (257879, 1203)\n",
            "start <catboost.core.CatBoostClassifier object at 0x7faa8248f430>\n",
            "finish <catboost.core.CatBoostClassifier object at 0x7faa8248f430>\n",
            "start <catboost.core.CatBoostClassifier object at 0x7facfa54a9a0>\n",
            "finish <catboost.core.CatBoostClassifier object at 0x7facfa54a9a0>\n",
            "цикл 977070 итерация 16\n",
            "part 0 load, shape =  (32638709, 3)\n",
            "part 0 после обрезки user_id уменьшилось на : 10319\n",
            "part 1 load, shape =  (32423119, 3)\n",
            "part 1 после обрезки user_id уменьшилось на : 10313\n",
            "part 2 load, shape =  (32146620, 3)\n",
            "part 2 после обрезки user_id уменьшилось на : 10281\n",
            "part 3 load, shape =  (32156858, 3)\n",
            "part 3 после обрезки user_id уменьшилось на : 10444\n",
            "part 4 load, shape =  (32119163, 3)\n",
            "part 4 после обрезки user_id уменьшилось на : 10292\n",
            "part 5 load, shape =  (32300908, 3)\n",
            "part 5 после обрезки user_id уменьшилось на : 10393\n",
            "part 6 load, shape =  (32134423, 3)\n",
            "part 6 после обрезки user_id уменьшилось на : 10320\n",
            "part 7 load, shape =  (32523675, 3)\n",
            "part 7 после обрезки user_id уменьшилось на : 10514\n",
            "part 8 load, shape =  (32136680, 3)\n",
            "part 8 после обрезки user_id уменьшилось на : 10641\n",
            "part 9 load, shape =  (32319280, 3)\n",
            "part 9 после обрезки user_id уменьшилось на : 10233\n",
            "итерация 16 конечное df_train.shape (201748, 1203)\n",
            "start <catboost.core.CatBoostClassifier object at 0x7facf5a58c70>\n",
            "finish <catboost.core.CatBoostClassifier object at 0x7facf5a58c70>\n",
            "start <catboost.core.CatBoostClassifier object at 0x7faa824293a0>\n",
            "finish <catboost.core.CatBoostClassifier object at 0x7faa824293a0>\n",
            "цикл 977070 итерация 17\n",
            "part 0 load, shape =  (32638709, 3)\n",
            "part 0 после обрезки user_id уменьшилось на : 1739\n",
            "part 1 load, shape =  (32423119, 3)\n",
            "part 1 после обрезки user_id уменьшилось на : 1749\n",
            "part 2 load, shape =  (32146620, 3)\n",
            "part 2 после обрезки user_id уменьшилось на : 1803\n",
            "part 3 load, shape =  (32156858, 3)\n",
            "part 3 после обрезки user_id уменьшилось на : 1774\n",
            "part 4 load, shape =  (32119163, 3)\n",
            "part 4 после обрезки user_id уменьшилось на : 1752\n",
            "part 5 load, shape =  (32300908, 3)\n",
            "part 5 после обрезки user_id уменьшилось на : 1789\n",
            "part 6 load, shape =  (32134423, 3)\n",
            "part 6 после обрезки user_id уменьшилось на : 1808\n",
            "part 7 load, shape =  (32523675, 3)\n",
            "part 7 после обрезки user_id уменьшилось на : 1801\n",
            "part 8 load, shape =  (32136680, 3)\n",
            "part 8 после обрезки user_id уменьшилось на : 1841\n",
            "part 9 load, shape =  (32319280, 3)\n",
            "part 9 после обрезки user_id уменьшилось на : 1694\n",
            "итерация 17 конечное df_train.shape (257454, 1203)\n",
            "start <catboost.core.CatBoostClassifier object at 0x7fad086c1760>\n",
            "finish <catboost.core.CatBoostClassifier object at 0x7fad086c1760>\n",
            "start <catboost.core.CatBoostClassifier object at 0x7faa829ab3d0>\n",
            "finish <catboost.core.CatBoostClassifier object at 0x7faa829ab3d0>\n",
            "цикл 977070 итерация 18\n",
            "part 0 load, shape =  (32638709, 3)\n",
            "part 0 после обрезки user_id уменьшилось на : 7168\n",
            "part 1 load, shape =  (32423119, 3)\n",
            "part 1 после обрезки user_id уменьшилось на : 7231\n",
            "part 2 load, shape =  (32146620, 3)\n",
            "part 2 после обрезки user_id уменьшилось на : 7091\n",
            "part 3 load, shape =  (32156858, 3)\n",
            "part 3 после обрезки user_id уменьшилось на : 7216\n",
            "part 4 load, shape =  (32119163, 3)\n",
            "part 4 после обрезки user_id уменьшилось на : 7122\n",
            "part 5 load, shape =  (32300908, 3)\n",
            "part 5 после обрезки user_id уменьшилось на : 7240\n",
            "part 6 load, shape =  (32134423, 3)\n",
            "part 6 после обрезки user_id уменьшилось на : 7144\n",
            "part 7 load, shape =  (32523675, 3)\n",
            "part 7 после обрезки user_id уменьшилось на : 7358\n",
            "part 8 load, shape =  (32136680, 3)\n",
            "part 8 после обрезки user_id уменьшилось на : 7303\n",
            "part 9 load, shape =  (32319280, 3)\n",
            "part 9 после обрезки user_id уменьшилось на : 7210\n",
            "итерация 18 конечное df_train.shape (222264, 1203)\n",
            "start <catboost.core.CatBoostClassifier object at 0x7facf5a58f10>\n",
            "finish <catboost.core.CatBoostClassifier object at 0x7facf5a58f10>\n",
            "start <catboost.core.CatBoostClassifier object at 0x7faa82429d60>\n",
            "finish <catboost.core.CatBoostClassifier object at 0x7faa82429d60>\n",
            "цикл 977070 итерация 19\n",
            "part 0 load, shape =  (32638709, 3)\n",
            "part 0 после обрезки user_id уменьшилось на : 7873\n",
            "part 1 load, shape =  (32423119, 3)\n",
            "part 1 после обрезки user_id уменьшилось на : 7895\n",
            "part 2 load, shape =  (32146620, 3)\n",
            "part 2 после обрезки user_id уменьшилось на : 7919\n",
            "part 3 load, shape =  (32156858, 3)\n",
            "part 3 после обрезки user_id уменьшилось на : 7988\n",
            "part 4 load, shape =  (32119163, 3)\n",
            "part 4 после обрезки user_id уменьшилось на : 7983\n",
            "part 5 load, shape =  (32300908, 3)\n",
            "part 5 после обрезки user_id уменьшилось на : 8038\n",
            "part 6 load, shape =  (32134423, 3)\n",
            "part 6 после обрезки user_id уменьшилось на : 7936\n",
            "part 7 load, shape =  (32523675, 3)\n",
            "part 7 после обрезки user_id уменьшилось на : 8053\n",
            "part 8 load, shape =  (32136680, 3)\n",
            "part 8 после обрезки user_id уменьшилось на : 8144\n",
            "part 9 load, shape =  (32319280, 3)\n",
            "part 9 после обрезки user_id уменьшилось на : 7985\n",
            "итерация 19 конечное df_train.shape (217366, 1203)\n",
            "start <catboost.core.CatBoostClassifier object at 0x7fad0a8e3f40>\n",
            "finish <catboost.core.CatBoostClassifier object at 0x7fad0a8e3f40>\n",
            "start <catboost.core.CatBoostClassifier object at 0x7facf5a4c7f0>\n",
            "finish <catboost.core.CatBoostClassifier object at 0x7facf5a4c7f0>\n",
            "итерация 19 выполнена\n",
            "CPU times: user 1h 7min 15s, sys: 28min 14s, total: 1h 35min 29s\n",
            "Wall time: 1h 9min 44s\n"
          ]
        }
      ]
    },
    {
      "cell_type": "code",
      "source": [
        "df_train.info()"
      ],
      "metadata": {
        "colab": {
          "base_uri": "https://localhost:8080/"
        },
        "id": "4jAQTBkht1Gj",
        "outputId": "73beac8c-6f0b-4e46-fb5e-3fe378833f2b"
      },
      "execution_count": null,
      "outputs": [
        {
          "output_type": "stream",
          "name": "stdout",
          "text": [
            "<class 'pandas.core.frame.DataFrame'>\n",
            "RangeIndex: 2288 entries, 0 to 2287\n",
            "Data columns (total 13 columns):\n",
            " #   Column                     Non-Null Count  Dtype  \n",
            "---  ------                     --------------  -----  \n",
            " 0   user_id                    2288 non-null   int64  \n",
            " 1   assassinscreed.fandom.com  38 non-null     float64\n",
            " 2   chelseablues.ru            272 non-null    float64\n",
            " 3   detskiychas.ru             158 non-null    float64\n",
            " 4   dszn.ru                    760 non-null    float64\n",
            " 5   elitenetflix.ru            412 non-null    float64\n",
            " 6   nefteyugansk.2map.su       82 non-null     float64\n",
            " 7   razdeti.ru                 55 non-null     float64\n",
            " 8   shahty.ru                  134 non-null    float64\n",
            " 9   whywomenkilltv.ru          42 non-null     float64\n",
            " 10  yakutia-daily.ru           357 non-null    float64\n",
            " 11  age                        2288 non-null   int64  \n",
            " 12  is_male                    2288 non-null   object \n",
            "dtypes: float64(10), int64(2), object(1)\n",
            "memory usage: 232.5+ KB\n"
          ]
        }
      ]
    },
    {
      "cell_type": "code",
      "source": [
        "feature_male_importance_j.groupby(by='index').sum().sort_values(by=0, ascending=False).head(50)"
      ],
      "metadata": {
        "colab": {
          "base_uri": "https://localhost:8080/",
          "height": 1000
        },
        "id": "9-PDx6GNt1JF",
        "outputId": "a227bd3d-09d3-4110-aff8-3d1e0c52dbf9"
      },
      "execution_count": null,
      "outputs": [
        {
          "output_type": "execute_result",
          "data": {
            "text/plain": [
              "                                     0\n",
              "index                                 \n",
              "instagram.com                34.861137\n",
              "i.ytimg.com                  28.388533\n",
              "ads.adfox.ru                 26.621422\n",
              "ads.betweendigital.com       22.243425\n",
              "s0.2mdn.net                  19.928400\n",
              "i.pinimg.com                 17.483659\n",
              "imasdk.googleapis.com        16.264702\n",
              "blocked.mts.ru               15.525617\n",
              "yastatic.net                 15.302911\n",
              "tube.buzzoola.com            14.602476\n",
              "vk.com                       14.516734\n",
              "googleads.g.doubleclick.net  14.387028\n",
              "m.sports.ru                  14.003653\n",
              "news.gnezdo.ru               13.802867\n",
              "mail.yandex.ru               12.345597\n",
              "google.com                   12.341152\n",
              "drive2-ru.turbopages.org     12.013075\n",
              "rtb.com.ru                   11.854579\n",
              "prodoctorov.ru               11.808844\n",
              "m.ok.ru                      11.794819\n",
              "syndication.realsrv.com      11.794763\n",
              "icloud.com                   11.719135\n",
              "s-cdn.sportbox.ru            10.510021\n",
              "avatars.mds.yandex.net       10.281118\n",
              "sun9-29.userapi.com           9.806361\n",
              "ok.ru                         9.732784\n",
              "ssp-rtb.sape.ru               9.729970\n",
              "aliexpress.ru                 9.335462\n",
              "zen.yandex.ru                 9.249382\n",
              "connect.ok.ru                 9.123792\n",
              "gosuslugi.ru                  9.098797\n",
              "kinoaction.ru                 9.075922\n",
              "drive2.ru                     9.070108\n",
              "loveome.club                  8.842573\n",
              "t.me                          8.777984\n",
              "vp.rambler.ru                 8.599766\n",
              "ru.m.wikipedia.org            8.542599\n",
              "matchtv.ru                    8.516805\n",
              "apple.com                     8.409431\n",
              "relap.io                      8.351295\n",
              "m.vk.com                      8.342186\n",
              "tpc.googlesyndication.com     7.900116\n",
              "youtube.com                   7.853789\n",
              "sun9-17.userapi.com           7.841001\n",
              "sun9-32.userapi.com           7.812563\n",
              "l.instagram.com               7.674932\n",
              "m.avito.ru                    7.647791\n",
              "irecommend.ru                 7.618306\n",
              "lk.gosuslugi.ru               7.590925\n",
              "auto.ru                       7.584440"
            ],
            "text/html": [
              "\n",
              "  <div id=\"df-87dd53b1-73d2-4f92-8d1b-920f58684589\">\n",
              "    <div class=\"colab-df-container\">\n",
              "      <div>\n",
              "<style scoped>\n",
              "    .dataframe tbody tr th:only-of-type {\n",
              "        vertical-align: middle;\n",
              "    }\n",
              "\n",
              "    .dataframe tbody tr th {\n",
              "        vertical-align: top;\n",
              "    }\n",
              "\n",
              "    .dataframe thead th {\n",
              "        text-align: right;\n",
              "    }\n",
              "</style>\n",
              "<table border=\"1\" class=\"dataframe\">\n",
              "  <thead>\n",
              "    <tr style=\"text-align: right;\">\n",
              "      <th></th>\n",
              "      <th>0</th>\n",
              "    </tr>\n",
              "    <tr>\n",
              "      <th>index</th>\n",
              "      <th></th>\n",
              "    </tr>\n",
              "  </thead>\n",
              "  <tbody>\n",
              "    <tr>\n",
              "      <th>instagram.com</th>\n",
              "      <td>34.861137</td>\n",
              "    </tr>\n",
              "    <tr>\n",
              "      <th>i.ytimg.com</th>\n",
              "      <td>28.388533</td>\n",
              "    </tr>\n",
              "    <tr>\n",
              "      <th>ads.adfox.ru</th>\n",
              "      <td>26.621422</td>\n",
              "    </tr>\n",
              "    <tr>\n",
              "      <th>ads.betweendigital.com</th>\n",
              "      <td>22.243425</td>\n",
              "    </tr>\n",
              "    <tr>\n",
              "      <th>s0.2mdn.net</th>\n",
              "      <td>19.928400</td>\n",
              "    </tr>\n",
              "    <tr>\n",
              "      <th>i.pinimg.com</th>\n",
              "      <td>17.483659</td>\n",
              "    </tr>\n",
              "    <tr>\n",
              "      <th>imasdk.googleapis.com</th>\n",
              "      <td>16.264702</td>\n",
              "    </tr>\n",
              "    <tr>\n",
              "      <th>blocked.mts.ru</th>\n",
              "      <td>15.525617</td>\n",
              "    </tr>\n",
              "    <tr>\n",
              "      <th>yastatic.net</th>\n",
              "      <td>15.302911</td>\n",
              "    </tr>\n",
              "    <tr>\n",
              "      <th>tube.buzzoola.com</th>\n",
              "      <td>14.602476</td>\n",
              "    </tr>\n",
              "    <tr>\n",
              "      <th>vk.com</th>\n",
              "      <td>14.516734</td>\n",
              "    </tr>\n",
              "    <tr>\n",
              "      <th>googleads.g.doubleclick.net</th>\n",
              "      <td>14.387028</td>\n",
              "    </tr>\n",
              "    <tr>\n",
              "      <th>m.sports.ru</th>\n",
              "      <td>14.003653</td>\n",
              "    </tr>\n",
              "    <tr>\n",
              "      <th>news.gnezdo.ru</th>\n",
              "      <td>13.802867</td>\n",
              "    </tr>\n",
              "    <tr>\n",
              "      <th>mail.yandex.ru</th>\n",
              "      <td>12.345597</td>\n",
              "    </tr>\n",
              "    <tr>\n",
              "      <th>google.com</th>\n",
              "      <td>12.341152</td>\n",
              "    </tr>\n",
              "    <tr>\n",
              "      <th>drive2-ru.turbopages.org</th>\n",
              "      <td>12.013075</td>\n",
              "    </tr>\n",
              "    <tr>\n",
              "      <th>rtb.com.ru</th>\n",
              "      <td>11.854579</td>\n",
              "    </tr>\n",
              "    <tr>\n",
              "      <th>prodoctorov.ru</th>\n",
              "      <td>11.808844</td>\n",
              "    </tr>\n",
              "    <tr>\n",
              "      <th>m.ok.ru</th>\n",
              "      <td>11.794819</td>\n",
              "    </tr>\n",
              "    <tr>\n",
              "      <th>syndication.realsrv.com</th>\n",
              "      <td>11.794763</td>\n",
              "    </tr>\n",
              "    <tr>\n",
              "      <th>icloud.com</th>\n",
              "      <td>11.719135</td>\n",
              "    </tr>\n",
              "    <tr>\n",
              "      <th>s-cdn.sportbox.ru</th>\n",
              "      <td>10.510021</td>\n",
              "    </tr>\n",
              "    <tr>\n",
              "      <th>avatars.mds.yandex.net</th>\n",
              "      <td>10.281118</td>\n",
              "    </tr>\n",
              "    <tr>\n",
              "      <th>sun9-29.userapi.com</th>\n",
              "      <td>9.806361</td>\n",
              "    </tr>\n",
              "    <tr>\n",
              "      <th>ok.ru</th>\n",
              "      <td>9.732784</td>\n",
              "    </tr>\n",
              "    <tr>\n",
              "      <th>ssp-rtb.sape.ru</th>\n",
              "      <td>9.729970</td>\n",
              "    </tr>\n",
              "    <tr>\n",
              "      <th>aliexpress.ru</th>\n",
              "      <td>9.335462</td>\n",
              "    </tr>\n",
              "    <tr>\n",
              "      <th>zen.yandex.ru</th>\n",
              "      <td>9.249382</td>\n",
              "    </tr>\n",
              "    <tr>\n",
              "      <th>connect.ok.ru</th>\n",
              "      <td>9.123792</td>\n",
              "    </tr>\n",
              "    <tr>\n",
              "      <th>gosuslugi.ru</th>\n",
              "      <td>9.098797</td>\n",
              "    </tr>\n",
              "    <tr>\n",
              "      <th>kinoaction.ru</th>\n",
              "      <td>9.075922</td>\n",
              "    </tr>\n",
              "    <tr>\n",
              "      <th>drive2.ru</th>\n",
              "      <td>9.070108</td>\n",
              "    </tr>\n",
              "    <tr>\n",
              "      <th>loveome.club</th>\n",
              "      <td>8.842573</td>\n",
              "    </tr>\n",
              "    <tr>\n",
              "      <th>t.me</th>\n",
              "      <td>8.777984</td>\n",
              "    </tr>\n",
              "    <tr>\n",
              "      <th>vp.rambler.ru</th>\n",
              "      <td>8.599766</td>\n",
              "    </tr>\n",
              "    <tr>\n",
              "      <th>ru.m.wikipedia.org</th>\n",
              "      <td>8.542599</td>\n",
              "    </tr>\n",
              "    <tr>\n",
              "      <th>matchtv.ru</th>\n",
              "      <td>8.516805</td>\n",
              "    </tr>\n",
              "    <tr>\n",
              "      <th>apple.com</th>\n",
              "      <td>8.409431</td>\n",
              "    </tr>\n",
              "    <tr>\n",
              "      <th>relap.io</th>\n",
              "      <td>8.351295</td>\n",
              "    </tr>\n",
              "    <tr>\n",
              "      <th>m.vk.com</th>\n",
              "      <td>8.342186</td>\n",
              "    </tr>\n",
              "    <tr>\n",
              "      <th>tpc.googlesyndication.com</th>\n",
              "      <td>7.900116</td>\n",
              "    </tr>\n",
              "    <tr>\n",
              "      <th>youtube.com</th>\n",
              "      <td>7.853789</td>\n",
              "    </tr>\n",
              "    <tr>\n",
              "      <th>sun9-17.userapi.com</th>\n",
              "      <td>7.841001</td>\n",
              "    </tr>\n",
              "    <tr>\n",
              "      <th>sun9-32.userapi.com</th>\n",
              "      <td>7.812563</td>\n",
              "    </tr>\n",
              "    <tr>\n",
              "      <th>l.instagram.com</th>\n",
              "      <td>7.674932</td>\n",
              "    </tr>\n",
              "    <tr>\n",
              "      <th>m.avito.ru</th>\n",
              "      <td>7.647791</td>\n",
              "    </tr>\n",
              "    <tr>\n",
              "      <th>irecommend.ru</th>\n",
              "      <td>7.618306</td>\n",
              "    </tr>\n",
              "    <tr>\n",
              "      <th>lk.gosuslugi.ru</th>\n",
              "      <td>7.590925</td>\n",
              "    </tr>\n",
              "    <tr>\n",
              "      <th>auto.ru</th>\n",
              "      <td>7.584440</td>\n",
              "    </tr>\n",
              "  </tbody>\n",
              "</table>\n",
              "</div>\n",
              "      <button class=\"colab-df-convert\" onclick=\"convertToInteractive('df-87dd53b1-73d2-4f92-8d1b-920f58684589')\"\n",
              "              title=\"Convert this dataframe to an interactive table.\"\n",
              "              style=\"display:none;\">\n",
              "        \n",
              "  <svg xmlns=\"http://www.w3.org/2000/svg\" height=\"24px\"viewBox=\"0 0 24 24\"\n",
              "       width=\"24px\">\n",
              "    <path d=\"M0 0h24v24H0V0z\" fill=\"none\"/>\n",
              "    <path d=\"M18.56 5.44l.94 2.06.94-2.06 2.06-.94-2.06-.94-.94-2.06-.94 2.06-2.06.94zm-11 1L8.5 8.5l.94-2.06 2.06-.94-2.06-.94L8.5 2.5l-.94 2.06-2.06.94zm10 10l.94 2.06.94-2.06 2.06-.94-2.06-.94-.94-2.06-.94 2.06-2.06.94z\"/><path d=\"M17.41 7.96l-1.37-1.37c-.4-.4-.92-.59-1.43-.59-.52 0-1.04.2-1.43.59L10.3 9.45l-7.72 7.72c-.78.78-.78 2.05 0 2.83L4 21.41c.39.39.9.59 1.41.59.51 0 1.02-.2 1.41-.59l7.78-7.78 2.81-2.81c.8-.78.8-2.07 0-2.86zM5.41 20L4 18.59l7.72-7.72 1.47 1.35L5.41 20z\"/>\n",
              "  </svg>\n",
              "      </button>\n",
              "      \n",
              "  <style>\n",
              "    .colab-df-container {\n",
              "      display:flex;\n",
              "      flex-wrap:wrap;\n",
              "      gap: 12px;\n",
              "    }\n",
              "\n",
              "    .colab-df-convert {\n",
              "      background-color: #E8F0FE;\n",
              "      border: none;\n",
              "      border-radius: 50%;\n",
              "      cursor: pointer;\n",
              "      display: none;\n",
              "      fill: #1967D2;\n",
              "      height: 32px;\n",
              "      padding: 0 0 0 0;\n",
              "      width: 32px;\n",
              "    }\n",
              "\n",
              "    .colab-df-convert:hover {\n",
              "      background-color: #E2EBFA;\n",
              "      box-shadow: 0px 1px 2px rgba(60, 64, 67, 0.3), 0px 1px 3px 1px rgba(60, 64, 67, 0.15);\n",
              "      fill: #174EA6;\n",
              "    }\n",
              "\n",
              "    [theme=dark] .colab-df-convert {\n",
              "      background-color: #3B4455;\n",
              "      fill: #D2E3FC;\n",
              "    }\n",
              "\n",
              "    [theme=dark] .colab-df-convert:hover {\n",
              "      background-color: #434B5C;\n",
              "      box-shadow: 0px 1px 3px 1px rgba(0, 0, 0, 0.15);\n",
              "      filter: drop-shadow(0px 1px 2px rgba(0, 0, 0, 0.3));\n",
              "      fill: #FFFFFF;\n",
              "    }\n",
              "  </style>\n",
              "\n",
              "      <script>\n",
              "        const buttonEl =\n",
              "          document.querySelector('#df-87dd53b1-73d2-4f92-8d1b-920f58684589 button.colab-df-convert');\n",
              "        buttonEl.style.display =\n",
              "          google.colab.kernel.accessAllowed ? 'block' : 'none';\n",
              "\n",
              "        async function convertToInteractive(key) {\n",
              "          const element = document.querySelector('#df-87dd53b1-73d2-4f92-8d1b-920f58684589');\n",
              "          const dataTable =\n",
              "            await google.colab.kernel.invokeFunction('convertToInteractive',\n",
              "                                                     [key], {});\n",
              "          if (!dataTable) return;\n",
              "\n",
              "          const docLinkHtml = 'Like what you see? Visit the ' +\n",
              "            '<a target=\"_blank\" href=https://colab.research.google.com/notebooks/data_table.ipynb>data table notebook</a>'\n",
              "            + ' to learn more about interactive tables.';\n",
              "          element.innerHTML = '';\n",
              "          dataTable['output_type'] = 'display_data';\n",
              "          await google.colab.output.renderOutput(dataTable, element);\n",
              "          const docLink = document.createElement('div');\n",
              "          docLink.innerHTML = docLinkHtml;\n",
              "          element.appendChild(docLink);\n",
              "        }\n",
              "      </script>\n",
              "    </div>\n",
              "  </div>\n",
              "  "
            ]
          },
          "metadata": {},
          "execution_count": 14
        }
      ]
    },
    {
      "cell_type": "code",
      "source": [
        "feature_male_importance_j['index'].nunique()"
      ],
      "metadata": {
        "colab": {
          "base_uri": "https://localhost:8080/"
        },
        "id": "TqsxEEyL31JX",
        "outputId": "016ab653-1cc2-4fd0-97c4-1cdbcd6047d9"
      },
      "execution_count": null,
      "outputs": [
        {
          "output_type": "execute_result",
          "data": {
            "text/plain": [
              "10550"
            ]
          },
          "metadata": {},
          "execution_count": 16
        }
      ]
    },
    {
      "cell_type": "markdown",
      "source": [
        "### Подгрузка найденвх фич и обработка"
      ],
      "metadata": {
        "id": "u0tCLyNGpnf4"
      }
    },
    {
      "cell_type": "code",
      "source": [
        "feature_importance_list = [\n",
        "   '977070',\n",
        "   '79457',\n",
        "   #'79867',\n",
        "\n",
        "]\n",
        "#cсозд пуст дф\n",
        "feature_importance_age = pd.read_csv(f'{LOCAL_DATA_PATH_2}feature_age_importance_79867.csv') \n",
        "feature_importance_male = pd.read_csv(f'{LOCAL_DATA_PATH_2}feature_male_importance_79867.csv')\n",
        "# подкгрузка и склека\n",
        "for i in feature_importance_list:\n",
        "  feature_importance_age_ = pd.read_csv(f'{LOCAL_DATA_PATH_2}feature_age_importance_{i}.csv') \n",
        "  feature_importance_male_ = pd.read_csv(f'{LOCAL_DATA_PATH_2}feature_male_importance_{i}.csv')\n",
        "\n",
        "  feature_importance_age = pd.concat([feature_importance_age, feature_importance_age_], ignore_index=True)\n",
        "  feature_importance_male = pd.concat([feature_importance_male, feature_importance_male_], ignore_index=True)\n",
        "  print (i)\n",
        "\n",
        "  #feature_importance_age = feature_importance_age.rename(columns={'index' :'url', '0':'feat_imp' }) \n",
        "  #feature_importance_male = feature_importance_male.rename(columns={'index' :'url', '0':'feat_imp' }) \n",
        "\n",
        "timur_url_list_age_v2 = feature_importance_age.pivot_table(index='index', values='0', aggfunc='sum').sort_values(by='0',ascending=False).reset_index()['index'].head(1200).values\n",
        "timur_url_list_male_v2 = feature_importance_male.pivot_table(index='index', values='0', aggfunc='sum').sort_values(by='0',ascending=False).reset_index()['index'].head(1200).values\n"
      ],
      "metadata": {
        "colab": {
          "base_uri": "https://localhost:8080/"
        },
        "id": "xV-rnEl_qHCX",
        "outputId": "92e98eb8-275d-4a64-a540-ef51f24d7b12"
      },
      "execution_count": null,
      "outputs": [
        {
          "output_type": "stream",
          "name": "stdout",
          "text": [
            "977070\n",
            "79457\n"
          ]
        }
      ]
    },
    {
      "cell_type": "code",
      "source": [
        "timur_url_list_age.shape\n",
        "timur_url_list_male.shape"
      ],
      "metadata": {
        "colab": {
          "base_uri": "https://localhost:8080/"
        },
        "id": "NXNrOZOD0sHm",
        "outputId": "9807777b-65f4-4179-d1f4-0d66d02572e9"
      },
      "execution_count": null,
      "outputs": [
        {
          "output_type": "execute_result",
          "data": {
            "text/plain": [
              "(1200,)"
            ]
          },
          "metadata": {},
          "execution_count": 9
        }
      ]
    },
    {
      "cell_type": "code",
      "source": [
        "\n",
        "timur_url_list_age = feature_importance_age.pivot_table(index='index', values='0', aggfunc='sum').sort_values(by='0',ascending=False).reset_index()['index'].head(5).values\n",
        "timur_url_list_male = feature_importance_male.pivot_table(index='index', values='0', aggfunc='sum').sort_values(by='0',ascending=False).reset_index()['index'].head(5).values"
      ],
      "metadata": {
        "id": "vcTmqzloxfHE"
      },
      "execution_count": null,
      "outputs": []
    },
    {
      "cell_type": "code",
      "source": [
        "feature_importance_age.pivot_table(index='url', values='feat_imp', aggfunc='sum').sort_values(by='feat_imp',ascending=False).reset_index().head(20)['url'].values"
      ],
      "metadata": {
        "colab": {
          "base_uri": "https://localhost:8080/"
        },
        "id": "I4aDvHcwyC7g",
        "outputId": "45aa72e0-2092-486b-9cf9-e69fe579ddbe"
      },
      "execution_count": null,
      "outputs": [
        {
          "output_type": "execute_result",
          "data": {
            "text/plain": [
              "array(['sun9-29.userapi.com', 'sun9-32.userapi.com', 'sun9-5.userapi.com',\n",
              "       'vk.com', 'sun9-17.userapi.com', 'instagram.com', 'm.vk.com',\n",
              "       'gosuslugi.ru', 'm.zen.yandex.ru', 'sun9-88.userapi.com',\n",
              "       'ads.adfox.ru', 'm.avito.ru', 'syndication.realsrv.com',\n",
              "       'vp.rambler.ru', 'm.ok.ru', 't.me', 'icloud.com', 'ad.adriver.ru',\n",
              "       'sun9-61.userapi.com', 'google.com'], dtype=object)"
            ]
          },
          "metadata": {},
          "execution_count": 72
        }
      ]
    },
    {
      "cell_type": "code",
      "source": [
        "feature_importance_age.groupby(by='index').sum().sort_values(by=0, ascending=False).head(1000)"
      ],
      "metadata": {
        "colab": {
          "base_uri": "https://localhost:8080/",
          "height": 311
        },
        "id": "vUX9FGmPqpSW",
        "outputId": "e5bfb5d4-eb05-4352-ca53-5232c3c857bf"
      },
      "execution_count": null,
      "outputs": [
        {
          "output_type": "error",
          "ename": "KeyError",
          "evalue": "ignored",
          "traceback": [
            "\u001b[0;31m---------------------------------------------------------------------------\u001b[0m",
            "\u001b[0;31mKeyError\u001b[0m                                  Traceback (most recent call last)",
            "\u001b[0;32m<ipython-input-48-94fd1489e426>\u001b[0m in \u001b[0;36m<module>\u001b[0;34m\u001b[0m\n\u001b[0;32m----> 1\u001b[0;31m \u001b[0mfeature_importance_age\u001b[0m\u001b[0;34m.\u001b[0m\u001b[0mgroupby\u001b[0m\u001b[0;34m(\u001b[0m\u001b[0mby\u001b[0m\u001b[0;34m=\u001b[0m\u001b[0;34m'index'\u001b[0m\u001b[0;34m)\u001b[0m\u001b[0;34m.\u001b[0m\u001b[0msum\u001b[0m\u001b[0;34m(\u001b[0m\u001b[0;34m)\u001b[0m\u001b[0;34m.\u001b[0m\u001b[0msort_values\u001b[0m\u001b[0;34m(\u001b[0m\u001b[0mby\u001b[0m\u001b[0;34m=\u001b[0m\u001b[0;36m0\u001b[0m\u001b[0;34m,\u001b[0m \u001b[0mascending\u001b[0m\u001b[0;34m=\u001b[0m\u001b[0;32mFalse\u001b[0m\u001b[0;34m)\u001b[0m\u001b[0;34m.\u001b[0m\u001b[0mhead\u001b[0m\u001b[0;34m(\u001b[0m\u001b[0;36m1000\u001b[0m\u001b[0;34m)\u001b[0m\u001b[0;34m\u001b[0m\u001b[0;34m\u001b[0m\u001b[0m\n\u001b[0m",
            "\u001b[0;32m/usr/local/lib/python3.8/dist-packages/pandas/util/_decorators.py\u001b[0m in \u001b[0;36mwrapper\u001b[0;34m(*args, **kwargs)\u001b[0m\n\u001b[1;32m    309\u001b[0m                     \u001b[0mstacklevel\u001b[0m\u001b[0;34m=\u001b[0m\u001b[0mstacklevel\u001b[0m\u001b[0;34m,\u001b[0m\u001b[0;34m\u001b[0m\u001b[0;34m\u001b[0m\u001b[0m\n\u001b[1;32m    310\u001b[0m                 )\n\u001b[0;32m--> 311\u001b[0;31m             \u001b[0;32mreturn\u001b[0m \u001b[0mfunc\u001b[0m\u001b[0;34m(\u001b[0m\u001b[0;34m*\u001b[0m\u001b[0margs\u001b[0m\u001b[0;34m,\u001b[0m \u001b[0;34m**\u001b[0m\u001b[0mkwargs\u001b[0m\u001b[0;34m)\u001b[0m\u001b[0;34m\u001b[0m\u001b[0;34m\u001b[0m\u001b[0m\n\u001b[0m\u001b[1;32m    312\u001b[0m \u001b[0;34m\u001b[0m\u001b[0m\n\u001b[1;32m    313\u001b[0m         \u001b[0;32mreturn\u001b[0m \u001b[0mwrapper\u001b[0m\u001b[0;34m\u001b[0m\u001b[0;34m\u001b[0m\u001b[0m\n",
            "\u001b[0;32m/usr/local/lib/python3.8/dist-packages/pandas/core/frame.py\u001b[0m in \u001b[0;36msort_values\u001b[0;34m(self, by, axis, ascending, inplace, kind, na_position, ignore_index, key)\u001b[0m\n\u001b[1;32m   6257\u001b[0m \u001b[0;34m\u001b[0m\u001b[0m\n\u001b[1;32m   6258\u001b[0m             \u001b[0mby\u001b[0m \u001b[0;34m=\u001b[0m \u001b[0mby\u001b[0m\u001b[0;34m[\u001b[0m\u001b[0;36m0\u001b[0m\u001b[0;34m]\u001b[0m\u001b[0;34m\u001b[0m\u001b[0;34m\u001b[0m\u001b[0m\n\u001b[0;32m-> 6259\u001b[0;31m             \u001b[0mk\u001b[0m \u001b[0;34m=\u001b[0m \u001b[0mself\u001b[0m\u001b[0;34m.\u001b[0m\u001b[0m_get_label_or_level_values\u001b[0m\u001b[0;34m(\u001b[0m\u001b[0mby\u001b[0m\u001b[0;34m,\u001b[0m \u001b[0maxis\u001b[0m\u001b[0;34m=\u001b[0m\u001b[0maxis\u001b[0m\u001b[0;34m)\u001b[0m\u001b[0;34m\u001b[0m\u001b[0;34m\u001b[0m\u001b[0m\n\u001b[0m\u001b[1;32m   6260\u001b[0m \u001b[0;34m\u001b[0m\u001b[0m\n\u001b[1;32m   6261\u001b[0m             \u001b[0;31m# need to rewrap column in Series to apply key function\u001b[0m\u001b[0;34m\u001b[0m\u001b[0;34m\u001b[0m\u001b[0;34m\u001b[0m\u001b[0m\n",
            "\u001b[0;32m/usr/local/lib/python3.8/dist-packages/pandas/core/generic.py\u001b[0m in \u001b[0;36m_get_label_or_level_values\u001b[0;34m(self, key, axis)\u001b[0m\n\u001b[1;32m   1777\u001b[0m             \u001b[0mvalues\u001b[0m \u001b[0;34m=\u001b[0m \u001b[0mself\u001b[0m\u001b[0;34m.\u001b[0m\u001b[0maxes\u001b[0m\u001b[0;34m[\u001b[0m\u001b[0maxis\u001b[0m\u001b[0;34m]\u001b[0m\u001b[0;34m.\u001b[0m\u001b[0mget_level_values\u001b[0m\u001b[0;34m(\u001b[0m\u001b[0mkey\u001b[0m\u001b[0;34m)\u001b[0m\u001b[0;34m.\u001b[0m\u001b[0m_values\u001b[0m\u001b[0;34m\u001b[0m\u001b[0;34m\u001b[0m\u001b[0m\n\u001b[1;32m   1778\u001b[0m         \u001b[0;32melse\u001b[0m\u001b[0;34m:\u001b[0m\u001b[0;34m\u001b[0m\u001b[0;34m\u001b[0m\u001b[0m\n\u001b[0;32m-> 1779\u001b[0;31m             \u001b[0;32mraise\u001b[0m \u001b[0mKeyError\u001b[0m\u001b[0;34m(\u001b[0m\u001b[0mkey\u001b[0m\u001b[0;34m)\u001b[0m\u001b[0;34m\u001b[0m\u001b[0;34m\u001b[0m\u001b[0m\n\u001b[0m\u001b[1;32m   1780\u001b[0m \u001b[0;34m\u001b[0m\u001b[0m\n\u001b[1;32m   1781\u001b[0m         \u001b[0;31m# Check for duplicates\u001b[0m\u001b[0;34m\u001b[0m\u001b[0;34m\u001b[0m\u001b[0;34m\u001b[0m\u001b[0m\n",
            "\u001b[0;31mKeyError\u001b[0m: 0"
          ]
        }
      ]
    },
    {
      "cell_type": "code",
      "source": [
        "timur_url_list_age = timur_url_list_age.drop_duplicates()"
      ],
      "metadata": {
        "id": "xcmHC3K8v3pX"
      },
      "execution_count": null,
      "outputs": []
    },
    {
      "cell_type": "code",
      "source": [
        "timur_url_list_age.reset_index().sort_values(by=0, ascending=False)"
      ],
      "metadata": {
        "colab": {
          "base_uri": "https://localhost:8080/",
          "height": 311
        },
        "id": "cIMF5G13v1Yj",
        "outputId": "7b3c5278-ad98-4b1a-82f2-ee9c0190a9a0"
      },
      "execution_count": null,
      "outputs": [
        {
          "output_type": "error",
          "ename": "KeyError",
          "evalue": "ignored",
          "traceback": [
            "\u001b[0;31m---------------------------------------------------------------------------\u001b[0m",
            "\u001b[0;31mKeyError\u001b[0m                                  Traceback (most recent call last)",
            "\u001b[0;32m<ipython-input-44-6563acaf6be2>\u001b[0m in \u001b[0;36m<module>\u001b[0;34m\u001b[0m\n\u001b[0;32m----> 1\u001b[0;31m \u001b[0mtimur_url_list_age\u001b[0m\u001b[0;34m.\u001b[0m\u001b[0mreset_index\u001b[0m\u001b[0;34m(\u001b[0m\u001b[0;34m)\u001b[0m\u001b[0;34m.\u001b[0m\u001b[0msort_values\u001b[0m\u001b[0;34m(\u001b[0m\u001b[0mby\u001b[0m\u001b[0;34m=\u001b[0m\u001b[0;36m0\u001b[0m\u001b[0;34m,\u001b[0m \u001b[0mascending\u001b[0m\u001b[0;34m=\u001b[0m\u001b[0;32mFalse\u001b[0m\u001b[0;34m)\u001b[0m\u001b[0;34m\u001b[0m\u001b[0;34m\u001b[0m\u001b[0m\n\u001b[0m",
            "\u001b[0;32m/usr/local/lib/python3.8/dist-packages/pandas/util/_decorators.py\u001b[0m in \u001b[0;36mwrapper\u001b[0;34m(*args, **kwargs)\u001b[0m\n\u001b[1;32m    309\u001b[0m                     \u001b[0mstacklevel\u001b[0m\u001b[0;34m=\u001b[0m\u001b[0mstacklevel\u001b[0m\u001b[0;34m,\u001b[0m\u001b[0;34m\u001b[0m\u001b[0;34m\u001b[0m\u001b[0m\n\u001b[1;32m    310\u001b[0m                 )\n\u001b[0;32m--> 311\u001b[0;31m             \u001b[0;32mreturn\u001b[0m \u001b[0mfunc\u001b[0m\u001b[0;34m(\u001b[0m\u001b[0;34m*\u001b[0m\u001b[0margs\u001b[0m\u001b[0;34m,\u001b[0m \u001b[0;34m**\u001b[0m\u001b[0mkwargs\u001b[0m\u001b[0;34m)\u001b[0m\u001b[0;34m\u001b[0m\u001b[0;34m\u001b[0m\u001b[0m\n\u001b[0m\u001b[1;32m    312\u001b[0m \u001b[0;34m\u001b[0m\u001b[0m\n\u001b[1;32m    313\u001b[0m         \u001b[0;32mreturn\u001b[0m \u001b[0mwrapper\u001b[0m\u001b[0;34m\u001b[0m\u001b[0;34m\u001b[0m\u001b[0m\n",
            "\u001b[0;32m/usr/local/lib/python3.8/dist-packages/pandas/core/frame.py\u001b[0m in \u001b[0;36msort_values\u001b[0;34m(self, by, axis, ascending, inplace, kind, na_position, ignore_index, key)\u001b[0m\n\u001b[1;32m   6257\u001b[0m \u001b[0;34m\u001b[0m\u001b[0m\n\u001b[1;32m   6258\u001b[0m             \u001b[0mby\u001b[0m \u001b[0;34m=\u001b[0m \u001b[0mby\u001b[0m\u001b[0;34m[\u001b[0m\u001b[0;36m0\u001b[0m\u001b[0;34m]\u001b[0m\u001b[0;34m\u001b[0m\u001b[0;34m\u001b[0m\u001b[0m\n\u001b[0;32m-> 6259\u001b[0;31m             \u001b[0mk\u001b[0m \u001b[0;34m=\u001b[0m \u001b[0mself\u001b[0m\u001b[0;34m.\u001b[0m\u001b[0m_get_label_or_level_values\u001b[0m\u001b[0;34m(\u001b[0m\u001b[0mby\u001b[0m\u001b[0;34m,\u001b[0m \u001b[0maxis\u001b[0m\u001b[0;34m=\u001b[0m\u001b[0maxis\u001b[0m\u001b[0;34m)\u001b[0m\u001b[0;34m\u001b[0m\u001b[0;34m\u001b[0m\u001b[0m\n\u001b[0m\u001b[1;32m   6260\u001b[0m \u001b[0;34m\u001b[0m\u001b[0m\n\u001b[1;32m   6261\u001b[0m             \u001b[0;31m# need to rewrap column in Series to apply key function\u001b[0m\u001b[0;34m\u001b[0m\u001b[0;34m\u001b[0m\u001b[0;34m\u001b[0m\u001b[0m\n",
            "\u001b[0;32m/usr/local/lib/python3.8/dist-packages/pandas/core/generic.py\u001b[0m in \u001b[0;36m_get_label_or_level_values\u001b[0;34m(self, key, axis)\u001b[0m\n\u001b[1;32m   1777\u001b[0m             \u001b[0mvalues\u001b[0m \u001b[0;34m=\u001b[0m \u001b[0mself\u001b[0m\u001b[0;34m.\u001b[0m\u001b[0maxes\u001b[0m\u001b[0;34m[\u001b[0m\u001b[0maxis\u001b[0m\u001b[0;34m]\u001b[0m\u001b[0;34m.\u001b[0m\u001b[0mget_level_values\u001b[0m\u001b[0;34m(\u001b[0m\u001b[0mkey\u001b[0m\u001b[0;34m)\u001b[0m\u001b[0;34m.\u001b[0m\u001b[0m_values\u001b[0m\u001b[0;34m\u001b[0m\u001b[0;34m\u001b[0m\u001b[0m\n\u001b[1;32m   1778\u001b[0m         \u001b[0;32melse\u001b[0m\u001b[0;34m:\u001b[0m\u001b[0;34m\u001b[0m\u001b[0;34m\u001b[0m\u001b[0m\n\u001b[0;32m-> 1779\u001b[0;31m             \u001b[0;32mraise\u001b[0m \u001b[0mKeyError\u001b[0m\u001b[0;34m(\u001b[0m\u001b[0mkey\u001b[0m\u001b[0;34m)\u001b[0m\u001b[0;34m\u001b[0m\u001b[0;34m\u001b[0m\u001b[0m\n\u001b[0m\u001b[1;32m   1780\u001b[0m \u001b[0;34m\u001b[0m\u001b[0m\n\u001b[1;32m   1781\u001b[0m         \u001b[0;31m# Check for duplicates\u001b[0m\u001b[0;34m\u001b[0m\u001b[0;34m\u001b[0m\u001b[0;34m\u001b[0m\u001b[0m\n",
            "\u001b[0;31mKeyError\u001b[0m: 0"
          ]
        }
      ]
    },
    {
      "cell_type": "code",
      "source": [
        "feature_importance_age = pd.DataFrame(columns=['index', int(0)])\n",
        "feature_importance_age.info()"
      ],
      "metadata": {
        "colab": {
          "base_uri": "https://localhost:8080/"
        },
        "id": "mGe3vSYEtfcD",
        "outputId": "5003ffc7-5e58-4517-d505-695f464106c4"
      },
      "execution_count": null,
      "outputs": [
        {
          "output_type": "stream",
          "name": "stdout",
          "text": [
            "<class 'pandas.core.frame.DataFrame'>\n",
            "Index: 0 entries\n",
            "Data columns (total 2 columns):\n",
            " #   Column  Non-Null Count  Dtype \n",
            "---  ------  --------------  ----- \n",
            " 0   index   0 non-null      object\n",
            " 1   0       0 non-null      object\n",
            "dtypes: object(2)\n",
            "memory usage: 0.0+ bytes\n"
          ]
        }
      ]
    },
    {
      "cell_type": "code",
      "source": [
        "droplevel(0, axis=1) \n",
        "droplevel(0, axis=1).rename_axis(None, axis=1)\n",
        "droplevel(0, axis=1).rename_axis(None, axis=1).reset_index()\n"
      ],
      "metadata": {
        "id": "JzONHl9vwhqt"
      },
      "execution_count": null,
      "outputs": []
    },
    {
      "cell_type": "code",
      "source": [
        "\n"
      ],
      "metadata": {
        "id": "zwFoLLfKw-7t"
      },
      "execution_count": null,
      "outputs": []
    },
    {
      "cell_type": "markdown",
      "source": [
        "df_feat_age = df.drop(['user_id', 'age', 'is_male'], axis = 1)\n",
        "      df_target_age = df['age']\n",
        "      df_feat_male= df.drop(['user_id', 'age', 'is_male'], axis = 1)\n",
        "      df_target_male = df['is_male']"
      ],
      "metadata": {
        "id": "ajDINlZtWLQE"
      }
    },
    {
      "cell_type": "markdown",
      "source": [
        "# 2.Склейка и сохранение  итогового файла. \n",
        "Тут уже файлы готовые , относительно не большие. сшиваются и сохр на диск,   хватает ОЗУ. "
      ],
      "metadata": {
        "id": "MzZ_-aEe0EMb"
      }
    },
    {
      "cell_type": "code",
      "source": [
        "list_train  = [\n",
        "    'train_part_0.feather',\n",
        "    'train_part_1.feather',\n",
        "    'train_part_2.feather',\n",
        "    'train_part_3.feather',\n",
        "    'train_part_4.feather',\n",
        "    'train_part_5.feather',\n",
        "    'train_part_6.feather',\n",
        "    'train_part_7.feather',\n",
        "    'train_part_8.feather',\n",
        "    'train_part_9.feather',\n",
        "     ]\n",
        "\n",
        "list_submit  = [\n",
        "    'submit_part_0.feather',\n",
        "    'submit_part_1.feather',\n",
        "    'submit_part_2.feather',\n",
        "    'submit_part_3.feather',\n",
        "    'submit_part_4.feather',\n",
        "    'submit_part_5.feather',\n",
        "    'submit_part_6.feather',\n",
        "    'submit_part_7.feather',\n",
        "    'submit_part_8.feather',\n",
        "    'submit_part_9.feather',\n",
        "     ]\n"
      ],
      "metadata": {
        "id": "Av_V3gFS0O8t"
      },
      "execution_count": null,
      "outputs": []
    },
    {
      "cell_type": "code",
      "source": [
        "%%time\n",
        "#цикл склейки train общего\n",
        "#первый файл\n",
        "df = pd.read_csv(f'{LOCAL_DATA_PATH}{list_train[0]}')\n",
        "print (list_train[0],'shape', df.shape)\n",
        "\n",
        "\n",
        "for i in range (1,len(list_train)):\n",
        "  df_ = pd.read_csv(f'{LOCAL_DATA_PATH}{list_train[i]}')\n",
        "       \n",
        "  #сшиваем\n",
        "  df = pd.concat([df, df_], ignore_index=True)\n",
        "  #контролль цикла\n",
        "  print (list_train[i],'shape', df_.shape)\n",
        "  print ('Суммарное df.shape',df.shape)\n",
        "\n",
        "\n",
        "# сохранение\n",
        "\n",
        "#df.to_csv(f'{LOCAL_DATA_PATH}/train_df_all_parts.csv')\n",
        "#df.to_pickle(f'{LOCAL_DATA_PATH}/train_df_all_parts.pkl')\n",
        "df.to_feather(f'{LOCAL_DATA_PATH}/train_df_all_parts.feather')\n",
        "print ('Итоговый файл сохранен на диск')"
      ],
      "metadata": {
        "colab": {
          "base_uri": "https://localhost:8080/",
          "height": 415
        },
        "id": "ddwjgOe76D4D",
        "outputId": "79e38f3d-1823-46f9-8cd6-672c6fe3a309"
      },
      "execution_count": null,
      "outputs": [
        {
          "output_type": "error",
          "ename": "FileNotFoundError",
          "evalue": "ignored",
          "traceback": [
            "\u001b[0;31m---------------------------------------------------------------------------\u001b[0m",
            "\u001b[0;31mFileNotFoundError\u001b[0m                         Traceback (most recent call last)",
            "\u001b[0;32m<timed exec>\u001b[0m in \u001b[0;36m<module>\u001b[0;34m\u001b[0m\n",
            "\u001b[0;32m/usr/local/lib/python3.8/dist-packages/pandas/util/_decorators.py\u001b[0m in \u001b[0;36mwrapper\u001b[0;34m(*args, **kwargs)\u001b[0m\n\u001b[1;32m    309\u001b[0m                     \u001b[0mstacklevel\u001b[0m\u001b[0;34m=\u001b[0m\u001b[0mstacklevel\u001b[0m\u001b[0;34m,\u001b[0m\u001b[0;34m\u001b[0m\u001b[0;34m\u001b[0m\u001b[0m\n\u001b[1;32m    310\u001b[0m                 )\n\u001b[0;32m--> 311\u001b[0;31m             \u001b[0;32mreturn\u001b[0m \u001b[0mfunc\u001b[0m\u001b[0;34m(\u001b[0m\u001b[0;34m*\u001b[0m\u001b[0margs\u001b[0m\u001b[0;34m,\u001b[0m \u001b[0;34m**\u001b[0m\u001b[0mkwargs\u001b[0m\u001b[0;34m)\u001b[0m\u001b[0;34m\u001b[0m\u001b[0;34m\u001b[0m\u001b[0m\n\u001b[0m\u001b[1;32m    312\u001b[0m \u001b[0;34m\u001b[0m\u001b[0m\n\u001b[1;32m    313\u001b[0m         \u001b[0;32mreturn\u001b[0m \u001b[0mwrapper\u001b[0m\u001b[0;34m\u001b[0m\u001b[0;34m\u001b[0m\u001b[0m\n",
            "\u001b[0;32m/usr/local/lib/python3.8/dist-packages/pandas/io/parsers/readers.py\u001b[0m in \u001b[0;36mread_csv\u001b[0;34m(filepath_or_buffer, sep, delimiter, header, names, index_col, usecols, squeeze, prefix, mangle_dupe_cols, dtype, engine, converters, true_values, false_values, skipinitialspace, skiprows, skipfooter, nrows, na_values, keep_default_na, na_filter, verbose, skip_blank_lines, parse_dates, infer_datetime_format, keep_date_col, date_parser, dayfirst, cache_dates, iterator, chunksize, compression, thousands, decimal, lineterminator, quotechar, quoting, doublequote, escapechar, comment, encoding, encoding_errors, dialect, error_bad_lines, warn_bad_lines, on_bad_lines, delim_whitespace, low_memory, memory_map, float_precision, storage_options)\u001b[0m\n\u001b[1;32m    584\u001b[0m     \u001b[0mkwds\u001b[0m\u001b[0;34m.\u001b[0m\u001b[0mupdate\u001b[0m\u001b[0;34m(\u001b[0m\u001b[0mkwds_defaults\u001b[0m\u001b[0;34m)\u001b[0m\u001b[0;34m\u001b[0m\u001b[0;34m\u001b[0m\u001b[0m\n\u001b[1;32m    585\u001b[0m \u001b[0;34m\u001b[0m\u001b[0m\n\u001b[0;32m--> 586\u001b[0;31m     \u001b[0;32mreturn\u001b[0m \u001b[0m_read\u001b[0m\u001b[0;34m(\u001b[0m\u001b[0mfilepath_or_buffer\u001b[0m\u001b[0;34m,\u001b[0m \u001b[0mkwds\u001b[0m\u001b[0;34m)\u001b[0m\u001b[0;34m\u001b[0m\u001b[0;34m\u001b[0m\u001b[0m\n\u001b[0m\u001b[1;32m    587\u001b[0m \u001b[0;34m\u001b[0m\u001b[0m\n\u001b[1;32m    588\u001b[0m \u001b[0;34m\u001b[0m\u001b[0m\n",
            "\u001b[0;32m/usr/local/lib/python3.8/dist-packages/pandas/io/parsers/readers.py\u001b[0m in \u001b[0;36m_read\u001b[0;34m(filepath_or_buffer, kwds)\u001b[0m\n\u001b[1;32m    480\u001b[0m \u001b[0;34m\u001b[0m\u001b[0m\n\u001b[1;32m    481\u001b[0m     \u001b[0;31m# Create the parser.\u001b[0m\u001b[0;34m\u001b[0m\u001b[0;34m\u001b[0m\u001b[0;34m\u001b[0m\u001b[0m\n\u001b[0;32m--> 482\u001b[0;31m     \u001b[0mparser\u001b[0m \u001b[0;34m=\u001b[0m \u001b[0mTextFileReader\u001b[0m\u001b[0;34m(\u001b[0m\u001b[0mfilepath_or_buffer\u001b[0m\u001b[0;34m,\u001b[0m \u001b[0;34m**\u001b[0m\u001b[0mkwds\u001b[0m\u001b[0;34m)\u001b[0m\u001b[0;34m\u001b[0m\u001b[0;34m\u001b[0m\u001b[0m\n\u001b[0m\u001b[1;32m    483\u001b[0m \u001b[0;34m\u001b[0m\u001b[0m\n\u001b[1;32m    484\u001b[0m     \u001b[0;32mif\u001b[0m \u001b[0mchunksize\u001b[0m \u001b[0;32mor\u001b[0m \u001b[0miterator\u001b[0m\u001b[0;34m:\u001b[0m\u001b[0;34m\u001b[0m\u001b[0;34m\u001b[0m\u001b[0m\n",
            "\u001b[0;32m/usr/local/lib/python3.8/dist-packages/pandas/io/parsers/readers.py\u001b[0m in \u001b[0;36m__init__\u001b[0;34m(self, f, engine, **kwds)\u001b[0m\n\u001b[1;32m    809\u001b[0m             \u001b[0mself\u001b[0m\u001b[0;34m.\u001b[0m\u001b[0moptions\u001b[0m\u001b[0;34m[\u001b[0m\u001b[0;34m\"has_index_names\"\u001b[0m\u001b[0;34m]\u001b[0m \u001b[0;34m=\u001b[0m \u001b[0mkwds\u001b[0m\u001b[0;34m[\u001b[0m\u001b[0;34m\"has_index_names\"\u001b[0m\u001b[0;34m]\u001b[0m\u001b[0;34m\u001b[0m\u001b[0;34m\u001b[0m\u001b[0m\n\u001b[1;32m    810\u001b[0m \u001b[0;34m\u001b[0m\u001b[0m\n\u001b[0;32m--> 811\u001b[0;31m         \u001b[0mself\u001b[0m\u001b[0;34m.\u001b[0m\u001b[0m_engine\u001b[0m \u001b[0;34m=\u001b[0m \u001b[0mself\u001b[0m\u001b[0;34m.\u001b[0m\u001b[0m_make_engine\u001b[0m\u001b[0;34m(\u001b[0m\u001b[0mself\u001b[0m\u001b[0;34m.\u001b[0m\u001b[0mengine\u001b[0m\u001b[0;34m)\u001b[0m\u001b[0;34m\u001b[0m\u001b[0;34m\u001b[0m\u001b[0m\n\u001b[0m\u001b[1;32m    812\u001b[0m \u001b[0;34m\u001b[0m\u001b[0m\n\u001b[1;32m    813\u001b[0m     \u001b[0;32mdef\u001b[0m \u001b[0mclose\u001b[0m\u001b[0;34m(\u001b[0m\u001b[0mself\u001b[0m\u001b[0;34m)\u001b[0m\u001b[0;34m:\u001b[0m\u001b[0;34m\u001b[0m\u001b[0;34m\u001b[0m\u001b[0m\n",
            "\u001b[0;32m/usr/local/lib/python3.8/dist-packages/pandas/io/parsers/readers.py\u001b[0m in \u001b[0;36m_make_engine\u001b[0;34m(self, engine)\u001b[0m\n\u001b[1;32m   1038\u001b[0m             )\n\u001b[1;32m   1039\u001b[0m         \u001b[0;31m# error: Too many arguments for \"ParserBase\"\u001b[0m\u001b[0;34m\u001b[0m\u001b[0;34m\u001b[0m\u001b[0;34m\u001b[0m\u001b[0m\n\u001b[0;32m-> 1040\u001b[0;31m         \u001b[0;32mreturn\u001b[0m \u001b[0mmapping\u001b[0m\u001b[0;34m[\u001b[0m\u001b[0mengine\u001b[0m\u001b[0;34m]\u001b[0m\u001b[0;34m(\u001b[0m\u001b[0mself\u001b[0m\u001b[0;34m.\u001b[0m\u001b[0mf\u001b[0m\u001b[0;34m,\u001b[0m \u001b[0;34m**\u001b[0m\u001b[0mself\u001b[0m\u001b[0;34m.\u001b[0m\u001b[0moptions\u001b[0m\u001b[0;34m)\u001b[0m  \u001b[0;31m# type: ignore[call-arg]\u001b[0m\u001b[0;34m\u001b[0m\u001b[0;34m\u001b[0m\u001b[0m\n\u001b[0m\u001b[1;32m   1041\u001b[0m \u001b[0;34m\u001b[0m\u001b[0m\n\u001b[1;32m   1042\u001b[0m     \u001b[0;32mdef\u001b[0m \u001b[0m_failover_to_python\u001b[0m\u001b[0;34m(\u001b[0m\u001b[0mself\u001b[0m\u001b[0;34m)\u001b[0m\u001b[0;34m:\u001b[0m\u001b[0;34m\u001b[0m\u001b[0;34m\u001b[0m\u001b[0m\n",
            "\u001b[0;32m/usr/local/lib/python3.8/dist-packages/pandas/io/parsers/c_parser_wrapper.py\u001b[0m in \u001b[0;36m__init__\u001b[0;34m(self, src, **kwds)\u001b[0m\n\u001b[1;32m     49\u001b[0m \u001b[0;34m\u001b[0m\u001b[0m\n\u001b[1;32m     50\u001b[0m         \u001b[0;31m# open handles\u001b[0m\u001b[0;34m\u001b[0m\u001b[0;34m\u001b[0m\u001b[0;34m\u001b[0m\u001b[0m\n\u001b[0;32m---> 51\u001b[0;31m         \u001b[0mself\u001b[0m\u001b[0;34m.\u001b[0m\u001b[0m_open_handles\u001b[0m\u001b[0;34m(\u001b[0m\u001b[0msrc\u001b[0m\u001b[0;34m,\u001b[0m \u001b[0mkwds\u001b[0m\u001b[0;34m)\u001b[0m\u001b[0;34m\u001b[0m\u001b[0;34m\u001b[0m\u001b[0m\n\u001b[0m\u001b[1;32m     52\u001b[0m         \u001b[0;32massert\u001b[0m \u001b[0mself\u001b[0m\u001b[0;34m.\u001b[0m\u001b[0mhandles\u001b[0m \u001b[0;32mis\u001b[0m \u001b[0;32mnot\u001b[0m \u001b[0;32mNone\u001b[0m\u001b[0;34m\u001b[0m\u001b[0;34m\u001b[0m\u001b[0m\n\u001b[1;32m     53\u001b[0m \u001b[0;34m\u001b[0m\u001b[0m\n",
            "\u001b[0;32m/usr/local/lib/python3.8/dist-packages/pandas/io/parsers/base_parser.py\u001b[0m in \u001b[0;36m_open_handles\u001b[0;34m(self, src, kwds)\u001b[0m\n\u001b[1;32m    220\u001b[0m         \u001b[0mLet\u001b[0m \u001b[0mthe\u001b[0m \u001b[0mreaders\u001b[0m \u001b[0mopen\u001b[0m \u001b[0mIOHandles\u001b[0m \u001b[0mafter\u001b[0m \u001b[0mthey\u001b[0m \u001b[0mare\u001b[0m \u001b[0mdone\u001b[0m \u001b[0;32mwith\u001b[0m \u001b[0mtheir\u001b[0m \u001b[0mpotential\u001b[0m \u001b[0mraises\u001b[0m\u001b[0;34m.\u001b[0m\u001b[0;34m\u001b[0m\u001b[0;34m\u001b[0m\u001b[0m\n\u001b[1;32m    221\u001b[0m         \"\"\"\n\u001b[0;32m--> 222\u001b[0;31m         self.handles = get_handle(\n\u001b[0m\u001b[1;32m    223\u001b[0m             \u001b[0msrc\u001b[0m\u001b[0;34m,\u001b[0m\u001b[0;34m\u001b[0m\u001b[0;34m\u001b[0m\u001b[0m\n\u001b[1;32m    224\u001b[0m             \u001b[0;34m\"r\"\u001b[0m\u001b[0;34m,\u001b[0m\u001b[0;34m\u001b[0m\u001b[0;34m\u001b[0m\u001b[0m\n",
            "\u001b[0;32m/usr/local/lib/python3.8/dist-packages/pandas/io/common.py\u001b[0m in \u001b[0;36mget_handle\u001b[0;34m(path_or_buf, mode, encoding, compression, memory_map, is_text, errors, storage_options)\u001b[0m\n\u001b[1;32m    700\u001b[0m         \u001b[0;32mif\u001b[0m \u001b[0mioargs\u001b[0m\u001b[0;34m.\u001b[0m\u001b[0mencoding\u001b[0m \u001b[0;32mand\u001b[0m \u001b[0;34m\"b\"\u001b[0m \u001b[0;32mnot\u001b[0m \u001b[0;32min\u001b[0m \u001b[0mioargs\u001b[0m\u001b[0;34m.\u001b[0m\u001b[0mmode\u001b[0m\u001b[0;34m:\u001b[0m\u001b[0;34m\u001b[0m\u001b[0;34m\u001b[0m\u001b[0m\n\u001b[1;32m    701\u001b[0m             \u001b[0;31m# Encoding\u001b[0m\u001b[0;34m\u001b[0m\u001b[0;34m\u001b[0m\u001b[0;34m\u001b[0m\u001b[0m\n\u001b[0;32m--> 702\u001b[0;31m             handle = open(\n\u001b[0m\u001b[1;32m    703\u001b[0m                 \u001b[0mhandle\u001b[0m\u001b[0;34m,\u001b[0m\u001b[0;34m\u001b[0m\u001b[0;34m\u001b[0m\u001b[0m\n\u001b[1;32m    704\u001b[0m                 \u001b[0mioargs\u001b[0m\u001b[0;34m.\u001b[0m\u001b[0mmode\u001b[0m\u001b[0;34m,\u001b[0m\u001b[0;34m\u001b[0m\u001b[0;34m\u001b[0m\u001b[0m\n",
            "\u001b[0;31mFileNotFoundError\u001b[0m: [Errno 2] No such file or directory: '/content/drive/MyDrive/DS/MTS/train_part_0.feather'"
          ]
        }
      ]
    },
    {
      "cell_type": "markdown",
      "source": [
        "### цикл склейки submit"
      ],
      "metadata": {
        "id": "nH0I0DJ3N3bm"
      }
    },
    {
      "cell_type": "code",
      "source": [
        "#цикл склейки submit оБЩЕГО\n",
        "list_submit  = [\n",
        "    'submit_part_0.feather',\n",
        "    'submit_part_1.feather',\n",
        "    'submit_part_2.feather',\n",
        "    'submit_part_3.feather',\n",
        "    'submit_part_4.feather',\n",
        "    'submit_part_5.feather',\n",
        "    'submit_part_6.feather',\n",
        "    'submit_part_7.feather',\n",
        "    'submit_part_8.feather',\n",
        "    'submit_part_9.feather',\n",
        "     ]\n",
        "#первый файл\n",
        "df = pd.read_feather(f'{LOCAL_DATA_PATH}{list_submit[0]}')\n",
        "#df.loc[df['cpe_model_name'].isna() ,'cpe_model_name'] = '0'\n",
        "print (list_submit[0],'shape', df.shape)\n",
        "\n",
        "for i in range (1,len(list_submit)):\n",
        "  df_ = pd.read_feather(f'{LOCAL_DATA_PATH}{list_submit[i]}')\n",
        "  #df_.loc[df_['cpe_model_name'].isna() ,'cpe_model_name'] = '0'\n",
        "  df = pd.concat([df, df_], ignore_index=True)\n",
        "  #контролль цикла\n",
        "  print (list_submit[i],'shape', df_.shape)\n",
        "  #print ('Суммарное df.shape',df.shape)\n",
        "\n",
        "\n",
        "# сохранение \n",
        "#df.to_pickle(f'{LOCAL_DATA_PATH}/submit_df_all_parts.pkl')\n",
        "df.to_feather(f'{LOCAL_DATA_PATH}/submit_df_all_parts.feather')\n",
        "#df.to_csv(f'{LOCAL_DATA_PATH}/submit_df_all_parts.csv')\n",
        "del df\n",
        "del df_\n",
        "print ('Итоговый файл сохранен на диск')\n"
      ],
      "metadata": {
        "colab": {
          "base_uri": "https://localhost:8080/"
        },
        "id": "AcdySNU_a49a",
        "outputId": "1939c58b-410c-4973-d4de-2f7beafbba3a"
      },
      "execution_count": null,
      "outputs": [
        {
          "output_type": "stream",
          "name": "stdout",
          "text": [
            "submit_part_0.feather shape (7081, 7351)\n",
            "submit_part_1.feather shape (7066, 7286)\n",
            "submit_part_2.feather shape (6973, 7298)\n",
            "submit_part_3.feather shape (7106, 7336)\n",
            "submit_part_4.feather shape (6962, 7322)\n",
            "submit_part_5.feather shape (7076, 7337)\n",
            "submit_part_6.feather shape (7179, 7344)\n",
            "submit_part_7.feather shape (7128, 7275)\n",
            "submit_part_8.feather shape (7051, 7283)\n",
            "submit_part_9.feather shape (7178, 7271)\n",
            "Итоговый файл сохранен на диск\n"
          ]
        }
      ]
    },
    {
      "cell_type": "code",
      "source": [
        "# Цикл склейки submit разделных age и male\n",
        "list_submit_age  = [\n",
        "    'submit_age_part_0.feather',\n",
        "    'submit_age_part_1.feather',\n",
        "    'submit_age_part_2.feather',\n",
        "    'submit_age_part_3.feather',\n",
        "    'submit_age_part_4.feather',\n",
        "    'submit_age_part_5.feather',\n",
        "    'submit_age_part_6.feather',\n",
        "    'submit_age_part_7.feather',\n",
        "    'submit_age_part_8.feather',\n",
        "    'submit_age_part_9.feather',\n",
        "     ]\n",
        "list_submit_male  = [\n",
        "    'submit_male_part_0.feather',\n",
        "    'submit_male_part_1.feather',\n",
        "    'submit_male_part_2.feather',\n",
        "    'submit_male_part_3.feather',\n",
        "    'submit_male_part_4.feather',\n",
        "    'submit_male_part_5.feather',\n",
        "    'submit_male_part_6.feather',\n",
        "    'submit_male_part_7.feather',\n",
        "    'submit_male_part_8.feather',\n",
        "    'submit_male_part_9.feather',\n",
        "     ]\n",
        "#цикл склейки submit\n",
        "#age\n",
        "df = pd.read_feather(f'{LOCAL_DATA_PATH}{list_submit_age[0]}')\n",
        "\n",
        "for i in range (1,10):\n",
        "  df_ = pd.read_feather(f'{LOCAL_DATA_PATH}{list_submit_age[i]}')\n",
        "  df = pd.concat([df, df_], ignore_index=True)\n",
        " \n",
        "# сохранение \n",
        "df.to_feather(f'{LOCAL_DATA_PATH}/submit_age_df_all_parts.feather')\n",
        "print ('Итоговый файл submit_age_df_all_parts.feather сохранен на диск')\n",
        "print (df.shape)\n",
        "\n",
        "#male\n",
        "df = pd.read_feather(f'{LOCAL_DATA_PATH}{list_submit_male[0]}')\n",
        "\n",
        "for i in range (1,10):\n",
        "  df_ = pd.read_feather(f'{LOCAL_DATA_PATH}{list_submit_male[i]}')\n",
        "  df = pd.concat([df, df_], ignore_index=True)\n",
        " \n",
        "# сохранение \n",
        "df.to_feather(f'{LOCAL_DATA_PATH}/submit_male_df_all_parts.feather')\n",
        "print ('Итоговый файл submit_male_all_parts.feather сохранен на диск')\n",
        "print (df.shape)\n",
        "del df\n",
        "del df_\n",
        "\n"
      ],
      "metadata": {
        "id": "XXEXh-bv87W9",
        "colab": {
          "base_uri": "https://localhost:8080/"
        },
        "outputId": "e29c0a5d-e53f-49e9-e3b4-765efee2a1b7"
      },
      "execution_count": null,
      "outputs": [
        {
          "output_type": "stream",
          "name": "stdout",
          "text": [
            "Итоговый файл submit_age_df_all_parts.feather сохранен на диск\n",
            "(144719, 1652)\n",
            "Итоговый файл submit_male_all_parts.feather сохранен на диск\n",
            "(144723, 1611)\n"
          ]
        }
      ]
    },
    {
      "cell_type": "code",
      "source": [
        "list_train_feat_age  = [\n",
        "    'train_feat_age_part_0.feather',\n",
        "    'train_feat_age_part_1.feather',\n",
        "    'train_feat_age_part_2.feather',\n",
        "    'train_feat_age_part_3.feather',\n",
        "    'train_feat_age_part_4.feather',\n",
        "    'train_feat_age_part_5.feather',\n",
        "    'train_feat_age_part_6.feather',\n",
        "    'train_feat_age_part_7.feather',\n",
        "    'train_feat_age_part_8.feather',\n",
        "    'train_feat_age_part_9.feather',\n",
        "     ]\n",
        "\n",
        "list_train_target_age  = [\n",
        "    'train_target_age_part_0.csv',\n",
        "    'train_target_age_part_1.csv',\n",
        "    'train_target_age_part_2.csv',\n",
        "    'train_target_age_part_3.csv',\n",
        "    'train_target_age_part_4.csv',\n",
        "    'train_target_age_part_5.csv',\n",
        "    'train_target_age_part_6.csv',\n",
        "    'train_target_age_part_7.csv',\n",
        "    'train_target_age_part_8.csv',\n",
        "    'train_target_age_part_9.csv',\n",
        "     ]\n",
        "list_train_feat_is_male  = [\n",
        "    'train_feat_is_male_part_0.feather',\n",
        "    'train_feat_is_male_part_1.feather',\n",
        "    'train_feat_is_male_part_2.feather',\n",
        "    'train_feat_is_male_part_3.feather',\n",
        "    'train_feat_is_male_part_4.feather',\n",
        "    'train_feat_is_male_part_5.feather',\n",
        "    'train_feat_is_male_part_6.feather',\n",
        "    'train_feat_is_male_part_7.feather',\n",
        "    'train_feat_is_male_part_8.feather',\n",
        "    'train_feat_is_male_part_9.feather',\n",
        "     ]\n",
        "\n",
        "list_train_target_is_male  = [\n",
        "    'train_target_is_male_part_0.csv',\n",
        "    'train_target_is_male_part_1.csv',\n",
        "    'train_target_is_male_part_2.csv',\n",
        "    'train_target_is_male_part_3.csv',\n",
        "    'train_target_is_male_part_4.csv',\n",
        "    'train_target_is_male_part_5.csv',\n",
        "    'train_target_is_male_part_6.csv',\n",
        "    'train_target_is_male_part_7.csv',\n",
        "    'train_target_is_male_part_8.csv',\n",
        "    'train_target_is_male_part_9.csv',\n",
        "     ]"
      ],
      "metadata": {
        "id": "KTJCW4DaE_la"
      },
      "execution_count": null,
      "outputs": []
    },
    {
      "cell_type": "markdown",
      "source": [
        "### цикл склейки age"
      ],
      "metadata": {
        "id": "3GGjdeTONd1G"
      }
    },
    {
      "cell_type": "code",
      "source": [
        "%%time\n",
        "#цикл склейки train_feat_age\n",
        "#первый файл\n",
        "df = pd.read_feather(f'{LOCAL_DATA_PATH}{list_train_feat_age[0]}')\n",
        "#df = pd.read_csv(f'{LOCAL_DATA_PATH}{list_train_feat_age[0]}')\n",
        "print (list_train_feat_age[0],'shape', df.shape)\n",
        "\n",
        "\n",
        "for i in range (1,10):\n",
        "  df_ = pd.read_feather(f'{LOCAL_DATA_PATH}{list_train_feat_age[i]}')\n",
        "  #df_ = pd.read_csv(f'{LOCAL_DATA_PATH}{list_train_feat_age[i]}')   \n",
        "  #сшиваем\n",
        "  df = pd.concat([df, df_], ignore_index=True)\n",
        "  #контролль цикла\n",
        "  print (list_train_feat_age[i],'shape', df_.shape)\n",
        "  #print ('Суммарное df.shape',df.shape)\n",
        "\n",
        "\n",
        "# сохранение\n",
        "df.to_feather(f'{LOCAL_DATA_PATH}/train_feat_age_df_all_parts.feather')\n",
        "#df.to_csv(f'{LOCAL_DATA_PATH}/train_feat_age_df_all_parts.csv' ,index=False)\n",
        "\n",
        "print ('Итоговый файл сохранен на диск')\n",
        "\n",
        "\n",
        "\n",
        "#цикл склейки train_target_age\n",
        "#первый файл\n",
        "df = pd.read_csv(f'{LOCAL_DATA_PATH}{list_train_target_age[0]}')\n",
        "print (list_train_target_age[0],'shape', df.shape)\n",
        "\n",
        "\n",
        "for i in range (1,10):\n",
        "  #df_ = pd.read_csv(f'{LOCAL_DATA_PATH}{list_train_target_age[i]}')\n",
        "       \n",
        "  #сшиваем\n",
        "  df = pd.concat([df, pd.read_csv(f'{LOCAL_DATA_PATH}{list_train_target_age[i]}')], ignore_index=True)\n",
        "  #контролль цикла\n",
        "  print (list_train_target_age[i],'shape', df_.shape)\n",
        "  #print ('Суммарное df.shape',df.shape)\n",
        "\n",
        "\n",
        "# сохранение\n",
        "# pickle быстрее сохраняет( раз в 5-6) и читает, но  больше размером на диске в 6-7  раз\n",
        "df.to_csv(f'{LOCAL_DATA_PATH}/train_target_age_df_all_parts.csv', index=False)\n",
        "#df.to_pickle(f'{LOCAL_DATA_PATH}/train_target_age_df_all_parts.pkl')\n",
        "#df.to_feather(f'{LOCAL_DATA_PATH}/train_target_age_df_all_parts.feather')\n",
        "\n",
        "print ('Итоговый файл  train_target_age_df_all_parts сохранен на диск')\n",
        "del df\n",
        "del df_"
      ],
      "metadata": {
        "id": "PSzrMLbX0O_3",
        "colab": {
          "base_uri": "https://localhost:8080/"
        },
        "outputId": "ef45b10a-d7d5-4149-fdc4-a792bd819843"
      },
      "execution_count": null,
      "outputs": [
        {
          "output_type": "stream",
          "name": "stdout",
          "text": [
            "train_feat_age_part_0.feather shape (27079, 1651)\n",
            "train_feat_age_part_1.feather shape (26934, 1651)\n",
            "train_feat_age_part_2.feather shape (26800, 1651)\n",
            "train_feat_age_part_3.feather shape (26894, 1651)\n",
            "train_feat_age_part_4.feather shape (26791, 1651)\n",
            "train_feat_age_part_5.feather shape (26961, 1651)\n",
            "train_feat_age_part_6.feather shape (26815, 1651)\n",
            "train_feat_age_part_7.feather shape (26838, 1651)\n",
            "train_feat_age_part_8.feather shape (26882, 1651)\n",
            "train_feat_age_part_9.feather shape (26908, 1651)\n",
            "Итоговый файл сохранен на диск\n",
            "train_target_age_part_0.csv shape (27079, 1)\n",
            "train_target_age_part_1.csv shape (26908, 1651)\n",
            "train_target_age_part_2.csv shape (26908, 1651)\n",
            "train_target_age_part_3.csv shape (26908, 1651)\n",
            "train_target_age_part_4.csv shape (26908, 1651)\n",
            "train_target_age_part_5.csv shape (26908, 1651)\n",
            "train_target_age_part_6.csv shape (26908, 1651)\n",
            "train_target_age_part_7.csv shape (26908, 1651)\n",
            "train_target_age_part_8.csv shape (26908, 1651)\n",
            "train_target_age_part_9.csv shape (26908, 1651)\n",
            "Итоговый файл  train_target_age_df_all_parts сохранен на диск\n",
            "CPU times: user 10 s, sys: 10.6 s, total: 20.6 s\n",
            "Wall time: 16.7 s\n"
          ]
        }
      ]
    },
    {
      "cell_type": "markdown",
      "source": [
        "### цикл склейки is_male"
      ],
      "metadata": {
        "id": "dOLcxJslPel_"
      }
    },
    {
      "cell_type": "code",
      "source": [
        "#цикл склейки train_feat_is_male\n",
        "#первый файл\n",
        "df = pd.read_feather(f'{LOCAL_DATA_PATH}{list_train_feat_is_male[0]}')\n",
        "print (list_train_feat_is_male[0],'shape', df.shape)\n",
        "\n",
        "\n",
        "for i in range (1,len(list_train_feat_is_male)):\n",
        "  df_ = pd.read_feather(f'{LOCAL_DATA_PATH}{list_train_feat_is_male[i]}')\n",
        "       \n",
        "  #сшиваем\n",
        "  df = pd.concat([df, df_], ignore_index=True)\n",
        "  #контролль цикла\n",
        "  print (list_train_feat_is_male[i],'shape', df_.shape)\n",
        "  #print ('Суммарное df.shape',df.shape)\n",
        "\n",
        "\n",
        "# сохранение\n",
        "\n",
        "df.to_feather(f'{LOCAL_DATA_PATH}/train_feat_is_male_df_all_parts.feather')\n",
        "print ('Итоговый файл сохранен на диск')\n",
        "\n",
        "\n",
        "\n",
        "#цикл склейки train_target_is_male\n",
        "#первый файл\n",
        "df = pd.read_csv(f'{LOCAL_DATA_PATH}{list_train_target_is_male[0]}')\n",
        "print (list_train_target_is_male[0],'shape', df.shape)\n",
        "\n",
        "\n",
        "for i in range (1,len(list_train_target_is_male)):\n",
        "  df_ = pd.read_csv(f'{LOCAL_DATA_PATH}{list_train_target_is_male[i]}')\n",
        "       \n",
        "  #сшиваем\n",
        "  df = pd.concat([df, df_], ignore_index=True)\n",
        "  #контролль цикла\n",
        "  print (list_train_target_is_male[i],'shape', df_.shape)\n",
        "  #print ('Суммарное df.shape',df.shape)\n",
        "\n",
        "\n",
        "# сохранение\n",
        "\n",
        "df.to_csv(f'{LOCAL_DATA_PATH}/train_target_is_male_df_all_parts.csv', index=False)\n",
        "\n",
        "#df.to_feather(f'{LOCAL_DATA_PATH}/train_target_is_male_df_all_parts.feather')\n",
        "\n",
        "print ('Итоговый файл  train_target_is_male_df_all_parts сохранен на диск')\n",
        "del df\n",
        "del df_"
      ],
      "metadata": {
        "id": "Dkga_jVYIvf4",
        "colab": {
          "base_uri": "https://localhost:8080/"
        },
        "outputId": "727959f9-ad09-42d5-fe1a-64f3c7e8b438"
      },
      "execution_count": null,
      "outputs": [
        {
          "output_type": "stream",
          "name": "stdout",
          "text": [
            "train_feat_is_male_part_0.feather shape (26528, 1610)\n",
            "train_feat_is_male_part_1.feather shape (26392, 1610)\n",
            "train_feat_is_male_part_2.feather shape (26267, 1610)\n",
            "train_feat_is_male_part_3.feather shape (26335, 1610)\n",
            "train_feat_is_male_part_4.feather shape (26247, 1610)\n",
            "train_feat_is_male_part_5.feather shape (26408, 1610)\n",
            "train_feat_is_male_part_6.feather shape (26285, 1610)\n",
            "train_feat_is_male_part_7.feather shape (26353, 1610)\n",
            "train_feat_is_male_part_8.feather shape (26315, 1610)\n",
            "train_feat_is_male_part_9.feather shape (26358, 1610)\n",
            "Итоговый файл сохранен на диск\n",
            "train_target_is_male_part_0.csv shape (26528, 1)\n",
            "train_target_is_male_part_1.csv shape (26392, 1)\n",
            "train_target_is_male_part_2.csv shape (26267, 1)\n",
            "train_target_is_male_part_3.csv shape (26335, 1)\n",
            "train_target_is_male_part_4.csv shape (26247, 1)\n",
            "train_target_is_male_part_5.csv shape (26408, 1)\n",
            "train_target_is_male_part_6.csv shape (26285, 1)\n",
            "train_target_is_male_part_7.csv shape (26353, 1)\n",
            "train_target_is_male_part_8.csv shape (26315, 1)\n",
            "train_target_is_male_part_9.csv shape (26358, 1)\n",
            "Итоговый файл  train_target_is_male_df_all_parts сохранен на диск\n"
          ]
        }
      ]
    },
    {
      "cell_type": "markdown",
      "source": [
        "# tmp\n"
      ],
      "metadata": {
        "id": "etbRa8ls0X7B"
      }
    },
    {
      "cell_type": "markdown",
      "source": [
        "### cpe_manufacturer_name\n"
      ],
      "metadata": {
        "id": "tv4gZIrcAlFM"
      }
    },
    {
      "cell_type": "code",
      "source": [
        "#загрузим данные\n",
        "df_train = pd.read_pickle(f'{LOCAL_DATA_PATH}train_part_0.pkl')#.sample(frac=0.1, random_state=777)\n",
        "df_train.shape\n"
      ],
      "metadata": {
        "colab": {
          "base_uri": "https://localhost:8080/"
        },
        "id": "9gWEvOLoD1LO",
        "outputId": "0739d4ad-316d-4f85-fe89-9fa66ade2341"
      },
      "execution_count": null,
      "outputs": [
        {
          "output_type": "execute_result",
          "data": {
            "text/plain": [
              "(27081, 20)"
            ]
          },
          "metadata": {},
          "execution_count": 109
        }
      ]
    },
    {
      "cell_type": "code",
      "source": [
        "df_train.head(1)"
      ],
      "metadata": {
        "colab": {
          "base_uri": "https://localhost:8080/",
          "height": 145
        },
        "id": "b2E2pNXuAygH",
        "outputId": "2a4a3f6b-1fa6-40d3-a154-a93dcee58bf8"
      },
      "execution_count": null,
      "outputs": [
        {
          "output_type": "execute_result",
          "data": {
            "text/plain": [
              "   user_id    day  evening  morning  night cpe_model_name  \\\n",
              "0        4  199.0    170.0    212.0   10.0         Nova 3   \n",
              "\n",
              "  cpe_manufacturer_name  apple.com  google.com  icloud.com  instagram.com  \\\n",
              "0                Huawei        NaN        28.0         NaN            1.0   \n",
              "\n",
              "   mail.yandex.ru  o2.mail.ru  online.sberbank.ru  play.google.com  vk.com  \\\n",
              "0             NaN        17.0                 8.0              1.0    32.0   \n",
              "\n",
              "   yandex.ru  zen.yandex.ru  age is_male  \n",
              "0       21.0            2.0    2       0  "
            ],
            "text/html": [
              "\n",
              "  <div id=\"df-210d756b-4ce0-4441-bf24-3c2b4c921028\">\n",
              "    <div class=\"colab-df-container\">\n",
              "      <div>\n",
              "<style scoped>\n",
              "    .dataframe tbody tr th:only-of-type {\n",
              "        vertical-align: middle;\n",
              "    }\n",
              "\n",
              "    .dataframe tbody tr th {\n",
              "        vertical-align: top;\n",
              "    }\n",
              "\n",
              "    .dataframe thead th {\n",
              "        text-align: right;\n",
              "    }\n",
              "</style>\n",
              "<table border=\"1\" class=\"dataframe\">\n",
              "  <thead>\n",
              "    <tr style=\"text-align: right;\">\n",
              "      <th></th>\n",
              "      <th>user_id</th>\n",
              "      <th>day</th>\n",
              "      <th>evening</th>\n",
              "      <th>morning</th>\n",
              "      <th>night</th>\n",
              "      <th>cpe_model_name</th>\n",
              "      <th>cpe_manufacturer_name</th>\n",
              "      <th>apple.com</th>\n",
              "      <th>google.com</th>\n",
              "      <th>icloud.com</th>\n",
              "      <th>instagram.com</th>\n",
              "      <th>mail.yandex.ru</th>\n",
              "      <th>o2.mail.ru</th>\n",
              "      <th>online.sberbank.ru</th>\n",
              "      <th>play.google.com</th>\n",
              "      <th>vk.com</th>\n",
              "      <th>yandex.ru</th>\n",
              "      <th>zen.yandex.ru</th>\n",
              "      <th>age</th>\n",
              "      <th>is_male</th>\n",
              "    </tr>\n",
              "  </thead>\n",
              "  <tbody>\n",
              "    <tr>\n",
              "      <th>0</th>\n",
              "      <td>4</td>\n",
              "      <td>199.0</td>\n",
              "      <td>170.0</td>\n",
              "      <td>212.0</td>\n",
              "      <td>10.0</td>\n",
              "      <td>Nova 3</td>\n",
              "      <td>Huawei</td>\n",
              "      <td>NaN</td>\n",
              "      <td>28.0</td>\n",
              "      <td>NaN</td>\n",
              "      <td>1.0</td>\n",
              "      <td>NaN</td>\n",
              "      <td>17.0</td>\n",
              "      <td>8.0</td>\n",
              "      <td>1.0</td>\n",
              "      <td>32.0</td>\n",
              "      <td>21.0</td>\n",
              "      <td>2.0</td>\n",
              "      <td>2</td>\n",
              "      <td>0</td>\n",
              "    </tr>\n",
              "  </tbody>\n",
              "</table>\n",
              "</div>\n",
              "      <button class=\"colab-df-convert\" onclick=\"convertToInteractive('df-210d756b-4ce0-4441-bf24-3c2b4c921028')\"\n",
              "              title=\"Convert this dataframe to an interactive table.\"\n",
              "              style=\"display:none;\">\n",
              "        \n",
              "  <svg xmlns=\"http://www.w3.org/2000/svg\" height=\"24px\"viewBox=\"0 0 24 24\"\n",
              "       width=\"24px\">\n",
              "    <path d=\"M0 0h24v24H0V0z\" fill=\"none\"/>\n",
              "    <path d=\"M18.56 5.44l.94 2.06.94-2.06 2.06-.94-2.06-.94-.94-2.06-.94 2.06-2.06.94zm-11 1L8.5 8.5l.94-2.06 2.06-.94-2.06-.94L8.5 2.5l-.94 2.06-2.06.94zm10 10l.94 2.06.94-2.06 2.06-.94-2.06-.94-.94-2.06-.94 2.06-2.06.94z\"/><path d=\"M17.41 7.96l-1.37-1.37c-.4-.4-.92-.59-1.43-.59-.52 0-1.04.2-1.43.59L10.3 9.45l-7.72 7.72c-.78.78-.78 2.05 0 2.83L4 21.41c.39.39.9.59 1.41.59.51 0 1.02-.2 1.41-.59l7.78-7.78 2.81-2.81c.8-.78.8-2.07 0-2.86zM5.41 20L4 18.59l7.72-7.72 1.47 1.35L5.41 20z\"/>\n",
              "  </svg>\n",
              "      </button>\n",
              "      \n",
              "  <style>\n",
              "    .colab-df-container {\n",
              "      display:flex;\n",
              "      flex-wrap:wrap;\n",
              "      gap: 12px;\n",
              "    }\n",
              "\n",
              "    .colab-df-convert {\n",
              "      background-color: #E8F0FE;\n",
              "      border: none;\n",
              "      border-radius: 50%;\n",
              "      cursor: pointer;\n",
              "      display: none;\n",
              "      fill: #1967D2;\n",
              "      height: 32px;\n",
              "      padding: 0 0 0 0;\n",
              "      width: 32px;\n",
              "    }\n",
              "\n",
              "    .colab-df-convert:hover {\n",
              "      background-color: #E2EBFA;\n",
              "      box-shadow: 0px 1px 2px rgba(60, 64, 67, 0.3), 0px 1px 3px 1px rgba(60, 64, 67, 0.15);\n",
              "      fill: #174EA6;\n",
              "    }\n",
              "\n",
              "    [theme=dark] .colab-df-convert {\n",
              "      background-color: #3B4455;\n",
              "      fill: #D2E3FC;\n",
              "    }\n",
              "\n",
              "    [theme=dark] .colab-df-convert:hover {\n",
              "      background-color: #434B5C;\n",
              "      box-shadow: 0px 1px 3px 1px rgba(0, 0, 0, 0.15);\n",
              "      filter: drop-shadow(0px 1px 2px rgba(0, 0, 0, 0.3));\n",
              "      fill: #FFFFFF;\n",
              "    }\n",
              "  </style>\n",
              "\n",
              "      <script>\n",
              "        const buttonEl =\n",
              "          document.querySelector('#df-210d756b-4ce0-4441-bf24-3c2b4c921028 button.colab-df-convert');\n",
              "        buttonEl.style.display =\n",
              "          google.colab.kernel.accessAllowed ? 'block' : 'none';\n",
              "\n",
              "        async function convertToInteractive(key) {\n",
              "          const element = document.querySelector('#df-210d756b-4ce0-4441-bf24-3c2b4c921028');\n",
              "          const dataTable =\n",
              "            await google.colab.kernel.invokeFunction('convertToInteractive',\n",
              "                                                     [key], {});\n",
              "          if (!dataTable) return;\n",
              "\n",
              "          const docLinkHtml = 'Like what you see? Visit the ' +\n",
              "            '<a target=\"_blank\" href=https://colab.research.google.com/notebooks/data_table.ipynb>data table notebook</a>'\n",
              "            + ' to learn more about interactive tables.';\n",
              "          element.innerHTML = '';\n",
              "          dataTable['output_type'] = 'display_data';\n",
              "          await google.colab.output.renderOutput(dataTable, element);\n",
              "          const docLink = document.createElement('div');\n",
              "          docLink.innerHTML = docLinkHtml;\n",
              "          element.appendChild(docLink);\n",
              "        }\n",
              "      </script>\n",
              "    </div>\n",
              "  </div>\n",
              "  "
            ]
          },
          "metadata": {},
          "execution_count": 91
        }
      ]
    },
    {
      "cell_type": "code",
      "source": [
        "df_train['pusto'] = ' '"
      ],
      "metadata": {
        "id": "z2kqXwU-CXNy"
      },
      "execution_count": null,
      "outputs": []
    },
    {
      "cell_type": "code",
      "source": [
        "df_train['model'] = df_train['cpe_manufacturer_name'] + ' ' + df_train['cpe_model_name']"
      ],
      "metadata": {
        "id": "ph5TapuMAywt"
      },
      "execution_count": null,
      "outputs": []
    },
    {
      "cell_type": "code",
      "source": [
        "df_train['model'].unique()"
      ],
      "metadata": {
        "colab": {
          "base_uri": "https://localhost:8080/"
        },
        "id": "N7_0uq0jAy7n",
        "outputId": "5af7b06f-8a31-4221-c12a-a8408b9314b6"
      },
      "execution_count": null,
      "outputs": [
        {
          "output_type": "execute_result",
          "data": {
            "text/plain": [
              "array(['Huawei Nova 3', 'Samsung Galaxy A10 Dual',\n",
              "       'Samsung Galaxy A51 Dual', 'Samsung Galaxy A7 2017 Dual',\n",
              "       'Apple iPhone 8 Plus', 'Apple iPhone XR', 'Huawei Honor 9 Lite',\n",
              "       'Samsung Galaxy J6 Plus Dual', 'Huawei Honor 8A',\n",
              "       'Huawei Honor 8X', 'Xiaomi Redmi Note 8T', 'Huawei Honor 9 Dual',\n",
              "       'Samsung Galaxy A52', 'Huawei Honor 10 Lite', 'Apple iPhone 11',\n",
              "       'Apple iPhone 5S', 'Samsung Galaxy A5 2017 Dual', 'Apple iPhone X',\n",
              "       'Apple iPhone 11 Pro Max', 'Apple iPhone 6', 'Apple iPhone 7',\n",
              "       'Apple iPhone 7 Plus', 'Huawei Honor 7A Pro',\n",
              "       'Samsung Galaxy A50 Dual', 'Samsung Galaxy A9 2018 Dual',\n",
              "       'Xiaomi Redmi 9C NFC', 'Apple iPhone 6S', 'Apple iPhone 11 Pro',\n",
              "       'Samsung Galaxy A5 2016 Duos', 'Xiaomi Redmi Note 8 Pro',\n",
              "       'Samsung Galaxy A30 Dual', 'Apple iPhone SE', 'Apple iPhone 8',\n",
              "       'Huawei Honor 20', 'Apple iPhone Xs', 'Xiaomi Redmi 6A',\n",
              "       'Huawei Honor 7S Dual', 'Samsung Galaxy M31',\n",
              "       'Samsung Galaxy A7 2018 Dual', 'Samsung Galaxy A32 LTE',\n",
              "       'Apple iPhone 12 Pro', 'Samsung Galaxy A30s Dual',\n",
              "       'Huawei Honor 20 Pro', nan, 'Samsung Galaxy A11 Dual',\n",
              "       'Samsung Galaxy A12', 'Samsung Galaxy S III Neo Plus',\n",
              "       'Samsung Galaxy S20 FE', 'Xiaomi Redmi 9',\n",
              "       'Samsung Galaxy S10e Dual', 'Huawei P30 Pro', 'Samsung Galaxy A31',\n",
              "       'Xiaomi Poco X3 NFC', 'Huawei Y3 2017 MT6737M Dual',\n",
              "       'Samsung Galaxy A71 Dual Russia', 'Xiaomi Redmi Note 7',\n",
              "       'Apple iPhone 12 Pro Max', 'Huawei P Smart Z',\n",
              "       'Samsung Galaxy S8 Dual', 'Samsung Galaxy J5 2016 LTE Dual',\n",
              "       'Samsung Galaxy J4 Plus Dual', 'Samsung Galaxy A70 Dual',\n",
              "       'Samsung Galaxy A20 Dual', 'Samsung Galaxy J6 Dual',\n",
              "       'Samsung Galaxy Note 20 Ultra', 'Samsung Galaxy A40 Dual',\n",
              "       'Samsung Galaxy A8 2018 Dual', 'Xiaomi Redmi Note 10 Pro',\n",
              "       'Xiaomi Redmi Note 9 Pro', 'Samsung Galaxy A72', 'Xiaomi Redmi 8',\n",
              "       'Samsung Galaxy A51',\n",
              "       'Realme Chongqing Mobile Telecommunications Corp Ltd XT',\n",
              "       'Huawei Device Company Limited Honor 10X Lite',\n",
              "       'Realme Chongqing Mobile Telecommunications Corp Ltd X50',\n",
              "       'Samsung Galaxy S9 Dual', 'Apple iPhone Xs Max', 'Huawei P30',\n",
              "       'Apple iPhone 6 Plus', 'Samsung Galaxy M12', 'Xiaomi Redmi Note 9',\n",
              "       'Huawei P30 lite', 'Samsung Galaxy M21',\n",
              "       'Huawei Honor 6C Pro Dual', 'Apple iPhone 12',\n",
              "       'Xiaomi Redmi 9A Global', 'Samsung Galaxy J1 2016 LTE Dual',\n",
              "       'Xiaomi Mi 9 SE', 'Xiaomi Poco X3', 'Huawei Honor 8 Dual',\n",
              "       'Huawei Honor 6A', 'Samsung Galaxy S10 Dual', 'Huawei Y5 2019',\n",
              "       'Huawei P20 Lite', 'Huawei Honor 7X', 'Samsung Galaxy S20 Dual',\n",
              "       'Xiaomi Redmi 9C', 'Huawei HONOR 20S', 'Samsung Galaxy A5 2017',\n",
              "       'Samsung Galaxy A80 Dual', 'Samsung Galaxy A3 2016 Duos',\n",
              "       'Huawei Honor 8 Lite', 'Samsung Galaxy S21', 'Huawei Y5 Lite',\n",
              "       'Samsung Galaxy A20s Dual', 'Apple iPhone SE 2020',\n",
              "       'Samsung Galaxy S21 Ultra 5G', 'Samsung Galaxy J3 LTE Dual',\n",
              "       'Samsung Galaxy A21s', 'ZTE Blade A3 2020RU', 'Xiaomi Redmi 6',\n",
              "       'Huawei Honor 9A', 'Oppo A1k', 'Xiaomi Redmi 3S',\n",
              "       'Huawei Y3 2017 MT6580M Dual', 'Samsung Galaxy J2 Prime Dual',\n",
              "       'Samsung Galaxy S10 Plus Dual', 'Nokia 5 Dual', 'Huawei Honor 6X',\n",
              "       'Samsung Galaxy S5 4G', 'Huawei Nova 5T', 'Vivo Y17',\n",
              "       'Huawei Honor 10', 'Apple iPhone 13 Pro', 'Xiaomi Redmi Note 8',\n",
              "       'Xiaomi Poco M3', 'Xiaomi Redmi 9A', 'Samsung Galaxy S8 Plus Dual',\n",
              "       'Samsung Galaxy S7 Dual Southeast Asia', 'Xiaomi Mi Note 10 Lite',\n",
              "       'Xiaomi Redmi K20', 'Huawei Honor View 20', 'Xiaomi Redmi 4A',\n",
              "       'Samsung Galaxy J2 Core Dual', 'Samsung Galaxy A6',\n",
              "       'Huawei Y7 2019', 'Huawei Honor 8S', 'Samsung Galaxy S10',\n",
              "       'Huawei Y7p', 'Asus Zenfone Max Plus ZB570TL', 'Huawei Y6 2019',\n",
              "       'Huawei Honor 8C', 'Samsung Galaxy S9 Plus Dual',\n",
              "       'Samsung Galaxy Note 9 Dual', 'Samsung Galaxy A3 2017 Dual',\n",
              "       'Huawei P Smart Dual', 'Xiaomi Redmi Note 4X',\n",
              "       'Samsung Galaxy A02 Dual SIM', 'Apple iPhone 12 mini',\n",
              "       'Huawei Mate 10 Lite', 'Huawei Honor 20 Lite',\n",
              "       'Samsung Galaxy A02s', 'HTC U Ultra', 'Huawei Honor 7C',\n",
              "       'Huawei P20 Pro', 'Samsung Galaxy J3 2017 Dual',\n",
              "       'Samsung Galaxy M31s', 'Samsung Galaxy S20+',\n",
              "       'Huawei Mate 20 Lite', 'Huawei Y5 Prime 2018',\n",
              "       'Huawei Honor 5C Dual', 'Huawei P Smart 2019', 'Xiaomi Redmi 4X',\n",
              "       'Samsung Galaxy J4 2018 Dual', 'Apple iPhone 13',\n",
              "       'Xiaomi Redmi Note 5A', 'Samsung Galaxy Note 8 Dual',\n",
              "       'Xiaomi MI Mix 2S', 'Samsung Galaxy J7 2016 LTE Dual',\n",
              "       'Xiaomi Redmi 7A', 'Vivo S1 Pro',\n",
              "       'Realme Chongqing Mobile Telecommunications Corp Ltd 6',\n",
              "       'Apple iPhone 5', 'Sony Xperia XA2', 'Samsung Galaxy Note10 Lite',\n",
              "       'Xiaomi Redmi 5 Plus',\n",
              "       'Realme Chongqing Mobile Telecommunications Corp Ltd C3',\n",
              "       'Xiaomi Note7', 'Honor Device Company Limited Honor 50',\n",
              "       'Vivo Y11', 'Huawei P40 Lite',\n",
              "       'Realme Chongqing Mobile Telecommunications Corp Ltd Realme 7 Pro',\n",
              "       'Samsung Galaxy J5 2017 Dual', 'Oppo Reno2',\n",
              "       'Huawei Device Company Limited P Smart 2021',\n",
              "       'Xiaomi Redmi Note 3 Pro',\n",
              "       'Realme Chongqing Mobile Telecommunications Corp Ltd C21',\n",
              "       'Xiaomi Poco X3 Pro', 'Apple iPhone 4S',\n",
              "       'Samsung Galaxy A01 Dual Global', 'Vivo Y31', 'Xiaomi MI 8',\n",
              "       'Xiaomi Redmi Note 6 Pro', 'ZTE Blade A5', 'Xiaomi MI A2 Lite',\n",
              "       'Asus Zenfone Max Pro M1', 'Oppo A5s', 'Huawei Honor 9S',\n",
              "       'Samsung Galaxy J7 2017 Dual', 'Xiaomi Mi 9 Lite', 'Oppo F11 Pro',\n",
              "       'Xiaomi Redmi 7', 'Xiaomi Redmi Note 9S',\n",
              "       'Realme Chongqing Mobile Telecommunications Corp Ltd C11',\n",
              "       'Xiaomi Redmi 4 Prime', 'Samsung Galaxy A6 Plus 2018 Dual',\n",
              "       'Apple iPhone 6S Plus', 'Xiaomi MI 8 Lite', 'Meizu M6 Note',\n",
              "       'Asus ZenFone 5', 'Samsung Galaxy M51 Dual',\n",
              "       'Xiaomi Mi 10 Lite 5G', 'Vivo Y1s', 'Xiaomi Redmi 9T',\n",
              "       'Samsung Galaxy Note 10 Dual', 'Samsung Galaxy J3 2016',\n",
              "       'Xiaomi MI Note 3', 'Oppo A9 2020', 'Xiaomi MI A1',\n",
              "       'Xiaomi Redmi Note 4', 'Oppo A92s', 'Xiaomi Mi 10T Pro',\n",
              "       'Xiaomi Redmi Note 7 Pro', 'Nokia 5.4',\n",
              "       'Samsung Galaxy J7 Core Dual', 'Samsung Galaxy A10',\n",
              "       'Xiaomi Mi 10T Pro 5G', 'Samsung Galaxy A3 LTE Dual',\n",
              "       'Xiaomi Redmi Note 5', 'Huawei Honor 9C', 'Oppo A5 2020',\n",
              "       'Samsung Galaxy A8 Plus 2018 Dual', 'Samsung Galaxy A41 Dual',\n",
              "       'Samsung Galaxy Note 10 Plus Dual', 'Huawei Y8p',\n",
              "       'Huawei Honor View 10', 'Huawei Honor Play', 'Xiaomi MI A3',\n",
              "       'Doke Communication (HK) Limited BV5900', 'Huawei Honor 30 5G',\n",
              "       'Samsung Galaxy J2 2018 Dual', 'Xiaomi MI 5S', 'Nokia 7.2',\n",
              "       'Realme Chongqing Mobile Telecommunications Corp Ltd 6i',\n",
              "       'Xiaomi 11T', 'Xiaomi MI A2', 'Huawei Honor 30 Pro+', 'Oppo A91',\n",
              "       'Samsung Galaxy A6 2018 Dual', 'Xiaomi Redmi 5', 'Nokia C20',\n",
              "       'Vivo Y19', 'LG X Power Dual', 'Huawei Nova 2', 'Xiaomi Redmi 8A',\n",
              "       'Nokia 6 Dual', 'ZTE Blade L8', 'Huawei P9 Lite Dual',\n",
              "       'Itel Technology Limited A16 Plus', 'Huawei Honor V30 Pro',\n",
              "       'Apple iPhone 13 Pro Max', 'Samsung Galaxy Tab A 8.0 2019 LTE',\n",
              "       'Samsung Galaxy S21 FE', 'Xiaomi Redmi Go', 'Xiaomi Redmi K20 Pro',\n",
              "       'Samsung Galaxy A6 Plus', 'ZTE Blade 20 Smart',\n",
              "       'Samsung Galaxy J5 Prime Dual', 'Xiaomi MI Max 2',\n",
              "       'Huawei Y9s 2019', 'Xiaomi Mi 9', 'Huawei Y6 Prime 2018',\n",
              "       'Nokia 8 Dual', 'Samsung Galaxy J8 Dual',\n",
              "       'Samsung Galaxy S6 Edge+ LTE-A', 'Meizu M6',\n",
              "       'Samsung Galaxy Note 9', 'Huawei Mate 20 Pro',\n",
              "       'Huawei GR3 2017 Dual',\n",
              "       'Samsung Galaxy Note20 Ultra 5G Dual Global',\n",
              "       'Samsung Galaxy S21+ 5G', 'Xiaomi Redmi Note 10',\n",
              "       'Xiaomi Redmi 5A', 'Vivo Y20', 'OnePlus 7 Pro', 'LeEco Le 2',\n",
              "       'Samsung Galaxy A01 Core Dual',\n",
              "       'Samsung Galaxy S7 EDGE Dual Indonesia', 'Huawei P10',\n",
              "       'Nokia 7 Plus Dual', 'Nokia 3 Dual', 'Sony Xperia E5',\n",
              "       'Samsung Galaxy A22', 'Huawei P40', 'Huawei Y9 2018',\n",
              "       'Realme Chongqing Mobile Telecommunications Corp Ltd RMX2021',\n",
              "       'Huawei Y5 2017 Dual', 'OnePlus 5T', 'Oppo A54',\n",
              "       'Apple iPhone 12 (A2403) Global', 'Samsung Galaxy Note 20',\n",
              "       'Apple iPhone 13 mini', 'Huawei P40 Pro', 'Xiaomi Mi 5 Pro',\n",
              "       'Asus Live L1', 'Xiaomi MI 6', 'Huawei Honor 30S',\n",
              "       'Sony Mobile Communications Inc. Xperia 5', 'Vivo Y91i',\n",
              "       'Alcatel 1', 'Xiaomi Mi Note 10', 'Huawei MediaPad M5 Lite 8',\n",
              "       'Samsung Galaxy S20 Ultra 5G Dual', 'Meizu M6T',\n",
              "       'Samsung Galaxy Note 10 Plus Brasil, China', 'Oppo F11 PRO',\n",
              "       'Samsung Galaxy S20', 'Asus Zenfone 4 Max ZC520KL', 'OnePlus 6T',\n",
              "       'Huawei Mate 20', 'Asus Zenfone Max', 'Xiaomi Pocophone F1',\n",
              "       'Samsung Galaxy A7', 'Asus Zenfone Max Pro', 'Samsung Galaxy A22s',\n",
              "       'Doogee S60', 'Sony Xperia XA1', 'Vivo Y93', 'Huawei Honor 8X Max',\n",
              "       'Xiaomi Poco F2 Pro', 'OnePlus 8 PRO 5G', 'Vivo Y81',\n",
              "       'Realme Chongqing Mobile Telecommunications Corp Ltd Realme 8',\n",
              "       'Xiaomi Mi 10T',\n",
              "       'Realme Chongqing Mobile Telecommunications Corp Ltd 8 Pro',\n",
              "       'Meizu M6s', 'Meizu M3 Note', 'Huawei P9', 'OnePlus 8T',\n",
              "       'Huawei P10 Lite', 'Xiaomi Redmi S2', 'Vivo 1904',\n",
              "       'Sony Xperia X Compact', 'Samsung Galaxy M01 Dual Global',\n",
              "       'ZTE Blade L210RU', 'Huawei Mate 20 RS',\n",
              "       'Samsung Galaxy S10 Lite Dual', 'Xiaomi Mi 11 Lite',\n",
              "       'Xiaomi Redmi Note 10S', 'Huawei P40 Lite E',\n",
              "       'Xiaomi Redmi Note 5A Prime', 'Xiaomi MEG7',\n",
              "       'Samsung Galaxy A5 LTE Dual', 'Samsung Galaxy M11 Dual',\n",
              "       'ZTE Blade V10 Vita RU', 'Vivo V20 SE', 'Meizu Note 9',\n",
              "       'Realme Chongqing Mobile Telecommunications Corp Ltd RMX2180',\n",
              "       'ZTE Blade A7', 'Asus Zenfone Max Pro ZB631KL',\n",
              "       'Google Inc Pixel 2 XL', 'Samsung Galaxy A12 Nacho',\n",
              "       'Xiaomi Mi 11 Lite 5G', 'Samsung Galaxy S6 Edge', 'Oppo A15',\n",
              "       'Xiaomi MI 5S Plus', 'Lenovo Vibe Shot', 'Samsung Galaxy A3 2017',\n",
              "       'Samsung Galaxy A01 Core', 'BQ Devices Limited BQ-5340 Choice',\n",
              "       'Samsung Galaxy Note 4', 'Samsung Galaxy Grand Prime Duos',\n",
              "       'Xiaomi Mi 10 Pro 5G', 'Xiaomi Redmi 3', 'Nokia 5.1 Plus',\n",
              "       'Sony Xperia XA1 Plus', 'Samsung Galaxy S6', 'Xiaomi MI Mix 2',\n",
              "       'Tecno SPARK 6 Go', 'Nokia 6.1 Dual', 'Nokia 2.1 Dual',\n",
              "       'Huawei P20', 'Vivo V21e', 'LG K10 LTE Dual', 'ZTE Blade V8',\n",
              "       'Honor Device Company Limited NTN-LX1',\n",
              "       'Samsung Galaxy Tab A 8.0 2019', 'Oppo Reno', 'Vivo V17 Neo',\n",
              "       'Huawei Y6 II Compact', 'Itel Technology Limited L6006',\n",
              "       'Alcatel 1X', 'Sony Mobile Communications Inc. Xperia 1',\n",
              "       'Xiaomi Mi Max 3', 'Apple iPhone 5C', 'Xiaomi Mi 10T 5G',\n",
              "       'Huawei Honor 4C Pro', 'Huawei Enjoy 7 Dual', 'Vivo Y30',\n",
              "       'OnePlus 6', 'Oppo Reno3', 'Sony Xperia XZ1',\n",
              "       'Huawei Device Company Limited Y6p', 'Samsung Galaxy S20 Ultra 5G',\n",
              "       'Meizu M5s 32Gb',\n",
              "       'Realme Chongqing Mobile Telecommunications Corp Ltd 5',\n",
              "       'Realme Chongqing Mobile Telecommunications Corp Ltd 5 Pro',\n",
              "       'OnePlus 7', 'Xiaomi POCO F3', 'ZTE Blade V9', 'Oppo Reno2 Z',\n",
              "       'LG Q6 Dual', 'Vivo V20', 'Highscreen Limited Max 3',\n",
              "       'Huawei P10 Lite Dual', 'Asus Zenfone 4 Max',\n",
              "       'Sony Mobile Communications Inc. Xperia 10', 'Xiaomi Redmi 10T',\n",
              "       'Samsung Galaxy J1 Mini Prime Duos', 'ZTE Blade A3 2019',\n",
              "       'Samsung Galaxy S10 Plus', 'Samsung Galaxy J1 mini 3G Dual',\n",
              "       'Meizu M5 Note', 'Samsung Galaxy M30S Dual', 'Samsung Galaxy S21+',\n",
              "       'OnePlus 7T', 'Google Inc Pixel 4a', 'Xiaomi Mi 8 Lite',\n",
              "       'Huawei Honor V9', 'Xiaomi Mi 8 Pro',\n",
              "       'Asus ZenFone 2 Laser 5.0 ZE500KL', 'Xiaomi Xiaomi 11T Pro',\n",
              "       'OnePlus 7T Pro', 'Samsung Galaxy Z Fold2 5G', 'LG V30 Dual',\n",
              "       'Samsung SM-F711B', 'BQ Devices Limited Magic', 'OnePlus 5',\n",
              "       'Meizu M5c', 'Samsung Galaxy S8 Plus', 'ZTE Blade A7s',\n",
              "       'Tecno LC7', 'Huawei Nova', 'Samsung Galaxy S9',\n",
              "       'Sony Mobile Communications Inc. Xperia XZ3', 'Xiaomi MI MAX2',\n",
              "       'HTC U11', 'ZTE Blade A6', 'Sony Xperia L2',\n",
              "       'Realme Chongqing Mobile Telecommunications Corp Ltd 7',\n",
              "       'Asus ZenFone 3 Max ZC520TL', 'Nokia 7.1 DS',\n",
              "       'Samsung Galaxy S6 Duos LTE-A', 'Samsung Galaxy S8',\n",
              "       'Blackview BV6000', 'Xiaomi Mi Max', 'Samsung Galaxy Tab A 10.5',\n",
              "       'Doke Communication (HK) Limited BV9500 Plus',\n",
              "       'Samsung Galaxy Tab A 9.7 LTE', 'OnePlus 9 Pro 5G',\n",
              "       'Huawei MediaPad T3 8.0', 'Samsung Galaxy A7 2016 Duos',\n",
              "       'Asus ROG Phone', 'Xiaomi POCO M3 Pro 5G', 'Alcatel U5 3G Dual',\n",
              "       'Realme Chongqing Mobile Telecommunications Corp Ltd K20 Pro',\n",
              "       'Sony Xperia XA1 Ultra', 'LG G7 ThinQ', 'Huawei Honor 5A',\n",
              "       'Samsung Galaxy Tab A 10.1 2016', 'Huawei P Smart Plus',\n",
              "       'Oppo RX17 Neo', 'Xiaomi 11 Lite 5G NE', 'Samsung Galaxy M20 Dual',\n",
              "       'Xiaomi Redmi 10 Pebble White', 'Sony Xperia XZ Premium',\n",
              "       'Sony Xperia L1', 'Samsung Galaxy S9 Plus', 'OnePlus KB2003',\n",
              "       'Samsung Galaxy Note20 Ultra 5G Global', 'Google Inc Pixel 3',\n",
              "       'Asus ZenFone 3 ZE552KL', 'Yandex LLC YNDX-000SB', 'Meizu Pro 7',\n",
              "       'Motorola Moto G9 Play', 'Meizu U10'], dtype=object)"
            ]
          },
          "metadata": {},
          "execution_count": 111
        }
      ]
    },
    {
      "cell_type": "code",
      "source": [
        "df_train.info()"
      ],
      "metadata": {
        "colab": {
          "base_uri": "https://localhost:8080/"
        },
        "id": "Skc8x2FSDeh7",
        "outputId": "65ce6f61-10d8-41f3-c817-ff239ec9eb87"
      },
      "execution_count": null,
      "outputs": [
        {
          "output_type": "stream",
          "name": "stdout",
          "text": [
            "<class 'pandas.core.frame.DataFrame'>\n",
            "Int64Index: 26529 entries, 0 to 27080\n",
            "Data columns (total 22 columns):\n",
            " #   Column                 Non-Null Count  Dtype  \n",
            "---  ------                 --------------  -----  \n",
            " 0   user_id                26529 non-null  int64  \n",
            " 1   day                    25792 non-null  float64\n",
            " 2   evening                24953 non-null  float64\n",
            " 3   morning                25250 non-null  float64\n",
            " 4   night                  21685 non-null  float64\n",
            " 5   cpe_model_name         26118 non-null  object \n",
            " 6   cpe_manufacturer_name  26118 non-null  object \n",
            " 7   apple.com              9120 non-null   float64\n",
            " 8   google.com             17817 non-null  float64\n",
            " 9   icloud.com             6228 non-null   float64\n",
            " 10  instagram.com          11166 non-null  float64\n",
            " 11  mail.yandex.ru         15094 non-null  float64\n",
            " 12  o2.mail.ru             10110 non-null  float64\n",
            " 13  online.sberbank.ru     20273 non-null  float64\n",
            " 14  play.google.com        16650 non-null  float64\n",
            " 15  vk.com                 23939 non-null  float64\n",
            " 16  yandex.ru              24696 non-null  float64\n",
            " 17  zen.yandex.ru          18783 non-null  float64\n",
            " 18  age                    26529 non-null  int64  \n",
            " 19  is_male                26529 non-null  object \n",
            " 20  model                  26118 non-null  object \n",
            " 21  pusto                  26529 non-null  object \n",
            "dtypes: float64(15), int64(2), object(5)\n",
            "memory usage: 4.7+ MB\n"
          ]
        }
      ]
    },
    {
      "cell_type": "markdown",
      "source": [
        "## Посмотрим  по сколько строк на кажлм пльзователе.   \n",
        "чтобы выкинуть тех у кого мало и котрые не дадут инфы для МЛ.    \n",
        "тут я получил, что  чем больше возраст тем меньше на user_id строк с урлами, меньше кол-во среднего"
      ],
      "metadata": {
        "id": "iuiyJX_gxnZp"
      }
    },
    {
      "cell_type": "code",
      "source": [
        "df.pivot_table(index='user_id', values='request_cnt', aggfunc=('count')).reset_index()"
      ],
      "metadata": {
        "colab": {
          "base_uri": "https://localhost:8080/",
          "height": 424
        },
        "id": "pRZJ7TRKyplH",
        "outputId": "83eeb035-b350-49d8-cc6c-a20f50fec083"
      },
      "execution_count": null,
      "outputs": [
        {
          "output_type": "execute_result",
          "data": {
            "text/plain": [
              "       user_id  request_cnt\n",
              "0            4          591\n",
              "1           16         1231\n",
              "2           18         1125\n",
              "3           26         1018\n",
              "4           29         1458\n",
              "...        ...          ...\n",
              "27173   415227            4\n",
              "27174   415251            3\n",
              "27175   415266            3\n",
              "27176   415273            1\n",
              "27177   415277            5\n",
              "\n",
              "[27178 rows x 2 columns]"
            ],
            "text/html": [
              "\n",
              "  <div id=\"df-0410a18f-b311-46aa-93a0-6190fb245e82\">\n",
              "    <div class=\"colab-df-container\">\n",
              "      <div>\n",
              "<style scoped>\n",
              "    .dataframe tbody tr th:only-of-type {\n",
              "        vertical-align: middle;\n",
              "    }\n",
              "\n",
              "    .dataframe tbody tr th {\n",
              "        vertical-align: top;\n",
              "    }\n",
              "\n",
              "    .dataframe thead th {\n",
              "        text-align: right;\n",
              "    }\n",
              "</style>\n",
              "<table border=\"1\" class=\"dataframe\">\n",
              "  <thead>\n",
              "    <tr style=\"text-align: right;\">\n",
              "      <th></th>\n",
              "      <th>user_id</th>\n",
              "      <th>request_cnt</th>\n",
              "    </tr>\n",
              "  </thead>\n",
              "  <tbody>\n",
              "    <tr>\n",
              "      <th>0</th>\n",
              "      <td>4</td>\n",
              "      <td>591</td>\n",
              "    </tr>\n",
              "    <tr>\n",
              "      <th>1</th>\n",
              "      <td>16</td>\n",
              "      <td>1231</td>\n",
              "    </tr>\n",
              "    <tr>\n",
              "      <th>2</th>\n",
              "      <td>18</td>\n",
              "      <td>1125</td>\n",
              "    </tr>\n",
              "    <tr>\n",
              "      <th>3</th>\n",
              "      <td>26</td>\n",
              "      <td>1018</td>\n",
              "    </tr>\n",
              "    <tr>\n",
              "      <th>4</th>\n",
              "      <td>29</td>\n",
              "      <td>1458</td>\n",
              "    </tr>\n",
              "    <tr>\n",
              "      <th>...</th>\n",
              "      <td>...</td>\n",
              "      <td>...</td>\n",
              "    </tr>\n",
              "    <tr>\n",
              "      <th>27173</th>\n",
              "      <td>415227</td>\n",
              "      <td>4</td>\n",
              "    </tr>\n",
              "    <tr>\n",
              "      <th>27174</th>\n",
              "      <td>415251</td>\n",
              "      <td>3</td>\n",
              "    </tr>\n",
              "    <tr>\n",
              "      <th>27175</th>\n",
              "      <td>415266</td>\n",
              "      <td>3</td>\n",
              "    </tr>\n",
              "    <tr>\n",
              "      <th>27176</th>\n",
              "      <td>415273</td>\n",
              "      <td>1</td>\n",
              "    </tr>\n",
              "    <tr>\n",
              "      <th>27177</th>\n",
              "      <td>415277</td>\n",
              "      <td>5</td>\n",
              "    </tr>\n",
              "  </tbody>\n",
              "</table>\n",
              "<p>27178 rows × 2 columns</p>\n",
              "</div>\n",
              "      <button class=\"colab-df-convert\" onclick=\"convertToInteractive('df-0410a18f-b311-46aa-93a0-6190fb245e82')\"\n",
              "              title=\"Convert this dataframe to an interactive table.\"\n",
              "              style=\"display:none;\">\n",
              "        \n",
              "  <svg xmlns=\"http://www.w3.org/2000/svg\" height=\"24px\"viewBox=\"0 0 24 24\"\n",
              "       width=\"24px\">\n",
              "    <path d=\"M0 0h24v24H0V0z\" fill=\"none\"/>\n",
              "    <path d=\"M18.56 5.44l.94 2.06.94-2.06 2.06-.94-2.06-.94-.94-2.06-.94 2.06-2.06.94zm-11 1L8.5 8.5l.94-2.06 2.06-.94-2.06-.94L8.5 2.5l-.94 2.06-2.06.94zm10 10l.94 2.06.94-2.06 2.06-.94-2.06-.94-.94-2.06-.94 2.06-2.06.94z\"/><path d=\"M17.41 7.96l-1.37-1.37c-.4-.4-.92-.59-1.43-.59-.52 0-1.04.2-1.43.59L10.3 9.45l-7.72 7.72c-.78.78-.78 2.05 0 2.83L4 21.41c.39.39.9.59 1.41.59.51 0 1.02-.2 1.41-.59l7.78-7.78 2.81-2.81c.8-.78.8-2.07 0-2.86zM5.41 20L4 18.59l7.72-7.72 1.47 1.35L5.41 20z\"/>\n",
              "  </svg>\n",
              "      </button>\n",
              "      \n",
              "  <style>\n",
              "    .colab-df-container {\n",
              "      display:flex;\n",
              "      flex-wrap:wrap;\n",
              "      gap: 12px;\n",
              "    }\n",
              "\n",
              "    .colab-df-convert {\n",
              "      background-color: #E8F0FE;\n",
              "      border: none;\n",
              "      border-radius: 50%;\n",
              "      cursor: pointer;\n",
              "      display: none;\n",
              "      fill: #1967D2;\n",
              "      height: 32px;\n",
              "      padding: 0 0 0 0;\n",
              "      width: 32px;\n",
              "    }\n",
              "\n",
              "    .colab-df-convert:hover {\n",
              "      background-color: #E2EBFA;\n",
              "      box-shadow: 0px 1px 2px rgba(60, 64, 67, 0.3), 0px 1px 3px 1px rgba(60, 64, 67, 0.15);\n",
              "      fill: #174EA6;\n",
              "    }\n",
              "\n",
              "    [theme=dark] .colab-df-convert {\n",
              "      background-color: #3B4455;\n",
              "      fill: #D2E3FC;\n",
              "    }\n",
              "\n",
              "    [theme=dark] .colab-df-convert:hover {\n",
              "      background-color: #434B5C;\n",
              "      box-shadow: 0px 1px 3px 1px rgba(0, 0, 0, 0.15);\n",
              "      filter: drop-shadow(0px 1px 2px rgba(0, 0, 0, 0.3));\n",
              "      fill: #FFFFFF;\n",
              "    }\n",
              "  </style>\n",
              "\n",
              "      <script>\n",
              "        const buttonEl =\n",
              "          document.querySelector('#df-0410a18f-b311-46aa-93a0-6190fb245e82 button.colab-df-convert');\n",
              "        buttonEl.style.display =\n",
              "          google.colab.kernel.accessAllowed ? 'block' : 'none';\n",
              "\n",
              "        async function convertToInteractive(key) {\n",
              "          const element = document.querySelector('#df-0410a18f-b311-46aa-93a0-6190fb245e82');\n",
              "          const dataTable =\n",
              "            await google.colab.kernel.invokeFunction('convertToInteractive',\n",
              "                                                     [key], {});\n",
              "          if (!dataTable) return;\n",
              "\n",
              "          const docLinkHtml = 'Like what you see? Visit the ' +\n",
              "            '<a target=\"_blank\" href=https://colab.research.google.com/notebooks/data_table.ipynb>data table notebook</a>'\n",
              "            + ' to learn more about interactive tables.';\n",
              "          element.innerHTML = '';\n",
              "          dataTable['output_type'] = 'display_data';\n",
              "          await google.colab.output.renderOutput(dataTable, element);\n",
              "          const docLink = document.createElement('div');\n",
              "          docLink.innerHTML = docLinkHtml;\n",
              "          element.appendChild(docLink);\n",
              "        }\n",
              "      </script>\n",
              "    </div>\n",
              "  </div>\n",
              "  "
            ]
          },
          "metadata": {},
          "execution_count": 102
        }
      ]
    },
    {
      "cell_type": "code",
      "source": [],
      "metadata": {
        "colab": {
          "base_uri": "https://localhost:8080/",
          "height": 143
        },
        "id": "bueGmE100jZ8",
        "outputId": "56927653-7770-444f-e4dd-fc6c17bf5632"
      },
      "execution_count": null,
      "outputs": [
        {
          "output_type": "execute_result",
          "data": {
            "text/plain": [
              "   user_id  request_cnt\n",
              "0        4          591\n",
              "1       16         1231\n",
              "2       18         1125"
            ],
            "text/html": [
              "\n",
              "  <div id=\"df-ef733782-1a67-4c57-a0c9-935fa06e82a8\">\n",
              "    <div class=\"colab-df-container\">\n",
              "      <div>\n",
              "<style scoped>\n",
              "    .dataframe tbody tr th:only-of-type {\n",
              "        vertical-align: middle;\n",
              "    }\n",
              "\n",
              "    .dataframe tbody tr th {\n",
              "        vertical-align: top;\n",
              "    }\n",
              "\n",
              "    .dataframe thead th {\n",
              "        text-align: right;\n",
              "    }\n",
              "</style>\n",
              "<table border=\"1\" class=\"dataframe\">\n",
              "  <thead>\n",
              "    <tr style=\"text-align: right;\">\n",
              "      <th></th>\n",
              "      <th>user_id</th>\n",
              "      <th>request_cnt</th>\n",
              "    </tr>\n",
              "  </thead>\n",
              "  <tbody>\n",
              "    <tr>\n",
              "      <th>0</th>\n",
              "      <td>4</td>\n",
              "      <td>591</td>\n",
              "    </tr>\n",
              "    <tr>\n",
              "      <th>1</th>\n",
              "      <td>16</td>\n",
              "      <td>1231</td>\n",
              "    </tr>\n",
              "    <tr>\n",
              "      <th>2</th>\n",
              "      <td>18</td>\n",
              "      <td>1125</td>\n",
              "    </tr>\n",
              "  </tbody>\n",
              "</table>\n",
              "</div>\n",
              "      <button class=\"colab-df-convert\" onclick=\"convertToInteractive('df-ef733782-1a67-4c57-a0c9-935fa06e82a8')\"\n",
              "              title=\"Convert this dataframe to an interactive table.\"\n",
              "              style=\"display:none;\">\n",
              "        \n",
              "  <svg xmlns=\"http://www.w3.org/2000/svg\" height=\"24px\"viewBox=\"0 0 24 24\"\n",
              "       width=\"24px\">\n",
              "    <path d=\"M0 0h24v24H0V0z\" fill=\"none\"/>\n",
              "    <path d=\"M18.56 5.44l.94 2.06.94-2.06 2.06-.94-2.06-.94-.94-2.06-.94 2.06-2.06.94zm-11 1L8.5 8.5l.94-2.06 2.06-.94-2.06-.94L8.5 2.5l-.94 2.06-2.06.94zm10 10l.94 2.06.94-2.06 2.06-.94-2.06-.94-.94-2.06-.94 2.06-2.06.94z\"/><path d=\"M17.41 7.96l-1.37-1.37c-.4-.4-.92-.59-1.43-.59-.52 0-1.04.2-1.43.59L10.3 9.45l-7.72 7.72c-.78.78-.78 2.05 0 2.83L4 21.41c.39.39.9.59 1.41.59.51 0 1.02-.2 1.41-.59l7.78-7.78 2.81-2.81c.8-.78.8-2.07 0-2.86zM5.41 20L4 18.59l7.72-7.72 1.47 1.35L5.41 20z\"/>\n",
              "  </svg>\n",
              "      </button>\n",
              "      \n",
              "  <style>\n",
              "    .colab-df-container {\n",
              "      display:flex;\n",
              "      flex-wrap:wrap;\n",
              "      gap: 12px;\n",
              "    }\n",
              "\n",
              "    .colab-df-convert {\n",
              "      background-color: #E8F0FE;\n",
              "      border: none;\n",
              "      border-radius: 50%;\n",
              "      cursor: pointer;\n",
              "      display: none;\n",
              "      fill: #1967D2;\n",
              "      height: 32px;\n",
              "      padding: 0 0 0 0;\n",
              "      width: 32px;\n",
              "    }\n",
              "\n",
              "    .colab-df-convert:hover {\n",
              "      background-color: #E2EBFA;\n",
              "      box-shadow: 0px 1px 2px rgba(60, 64, 67, 0.3), 0px 1px 3px 1px rgba(60, 64, 67, 0.15);\n",
              "      fill: #174EA6;\n",
              "    }\n",
              "\n",
              "    [theme=dark] .colab-df-convert {\n",
              "      background-color: #3B4455;\n",
              "      fill: #D2E3FC;\n",
              "    }\n",
              "\n",
              "    [theme=dark] .colab-df-convert:hover {\n",
              "      background-color: #434B5C;\n",
              "      box-shadow: 0px 1px 3px 1px rgba(0, 0, 0, 0.15);\n",
              "      filter: drop-shadow(0px 1px 2px rgba(0, 0, 0, 0.3));\n",
              "      fill: #FFFFFF;\n",
              "    }\n",
              "  </style>\n",
              "\n",
              "      <script>\n",
              "        const buttonEl =\n",
              "          document.querySelector('#df-ef733782-1a67-4c57-a0c9-935fa06e82a8 button.colab-df-convert');\n",
              "        buttonEl.style.display =\n",
              "          google.colab.kernel.accessAllowed ? 'block' : 'none';\n",
              "\n",
              "        async function convertToInteractive(key) {\n",
              "          const element = document.querySelector('#df-ef733782-1a67-4c57-a0c9-935fa06e82a8');\n",
              "          const dataTable =\n",
              "            await google.colab.kernel.invokeFunction('convertToInteractive',\n",
              "                                                     [key], {});\n",
              "          if (!dataTable) return;\n",
              "\n",
              "          const docLinkHtml = 'Like what you see? Visit the ' +\n",
              "            '<a target=\"_blank\" href=https://colab.research.google.com/notebooks/data_table.ipynb>data table notebook</a>'\n",
              "            + ' to learn more about interactive tables.';\n",
              "          element.innerHTML = '';\n",
              "          dataTable['output_type'] = 'display_data';\n",
              "          await google.colab.output.renderOutput(dataTable, element);\n",
              "          const docLink = document.createElement('div');\n",
              "          docLink.innerHTML = docLinkHtml;\n",
              "          element.appendChild(docLink);\n",
              "        }\n",
              "      </script>\n",
              "    </div>\n",
              "  </div>\n",
              "  "
            ]
          },
          "metadata": {},
          "execution_count": 89
        }
      ]
    },
    {
      "cell_type": "code",
      "source": [
        "df_pivot['request_cnt'].describe()"
      ],
      "metadata": {
        "colab": {
          "base_uri": "https://localhost:8080/"
        },
        "id": "d3yMPSL00n3f",
        "outputId": "f5510a66-8c36-410e-eaa2-d4834ac45699"
      },
      "execution_count": null,
      "outputs": [
        {
          "output_type": "execute_result",
          "data": {
            "text/plain": [
              "count    27178.000000\n",
              "mean       786.966517\n",
              "std       1045.336455\n",
              "min          1.000000\n",
              "25%        106.000000\n",
              "50%        426.000000\n",
              "75%       1060.000000\n",
              "max      17481.000000\n",
              "Name: request_cnt, dtype: float64"
            ]
          },
          "metadata": {},
          "execution_count": 92
        }
      ]
    },
    {
      "cell_type": "markdown",
      "source": [
        "##Нужен список топ УРЛОВ"
      ],
      "metadata": {
        "id": "WPi2Y6yzxhAX"
      }
    },
    {
      "cell_type": "code",
      "source": [
        "df = pq.read_table(f'{LOCAL_DATA_PATH}part-00000-aba60f69-2b63-4cc1-95ca-542598094698-c000.snappy.parquet').\\\n",
        "select(['url_host','request_cnt']).to_pandas()"
      ],
      "metadata": {
        "id": "ZlpZx1rk8-QX"
      },
      "execution_count": null,
      "outputs": []
    },
    {
      "cell_type": "code",
      "source": [
        "df.info()"
      ],
      "metadata": {
        "colab": {
          "base_uri": "https://localhost:8080/"
        },
        "id": "Bq6qBvjR9EC5",
        "outputId": "a8a2abe0-119a-435d-e443-7b80dd2f56a6"
      },
      "execution_count": null,
      "outputs": [
        {
          "output_type": "stream",
          "name": "stdout",
          "text": [
            "<class 'pandas.core.frame.DataFrame'>\n",
            "RangeIndex: 32638709 entries, 0 to 32638708\n",
            "Data columns (total 2 columns):\n",
            " #   Column       Dtype \n",
            "---  ------       ----- \n",
            " 0   url_host     object\n",
            " 1   request_cnt  int64 \n",
            "dtypes: int64(1), object(1)\n",
            "memory usage: 498.0+ MB\n"
          ]
        }
      ]
    },
    {
      "cell_type": "code",
      "source": [],
      "metadata": {
        "id": "u8tS3xhB9EFb"
      },
      "execution_count": null,
      "outputs": []
    },
    {
      "cell_type": "code",
      "source": [
        "#всего урлов\n",
        "# цикл грузит из паркета ид\n",
        "df = pq.read_table(f'{LOCAL_DATA_PATH}{part_list[0]}').select(['url_host']).to_pandas()\n",
        "for i in  range(3,7):\n",
        "  df_ = pq.read_table(f'{LOCAL_DATA_PATH}{part_list[i]}').select(['url_host','request_cnt']).to_pandas()\n",
        "  #соединяем\n",
        "  df = pd.concat([df, df_], ignore_index=True)\n",
        "  #контролль цикла\n",
        "  print ('df_,shape',df_.shape)\n",
        "  print ('df,shape',df.shape)\n"
      ],
      "metadata": {
        "id": "vs7r5HrJJrAv",
        "colab": {
          "base_uri": "https://localhost:8080/"
        },
        "outputId": "4a6e1c01-6410-47d5-decd-4c775a822832"
      },
      "execution_count": null,
      "outputs": [
        {
          "output_type": "stream",
          "name": "stdout",
          "text": [
            "df_,shape (32156858, 2)\n",
            "df,shape (64795567, 2)\n",
            "df_,shape (32119163, 2)\n",
            "df,shape (96914730, 2)\n",
            "df_,shape (32300908, 2)\n",
            "df,shape (129215638, 2)\n",
            "df_,shape (32134423, 2)\n",
            "df,shape (161350061, 2)\n"
          ]
        }
      ]
    },
    {
      "cell_type": "code",
      "source": [
        "df_urls = df['url_host'].value_counts().reset_index()#['url_host'].describe()"
      ],
      "metadata": {
        "id": "16296QEGyTEh"
      },
      "execution_count": null,
      "outputs": []
    },
    {
      "cell_type": "code",
      "source": [
        "df_urls"
      ],
      "metadata": {
        "colab": {
          "base_uri": "https://localhost:8080/",
          "height": 424
        },
        "id": "C-bso4T7APKg",
        "outputId": "62a24579-f632-40d5-90f9-9e9ab829eebd"
      },
      "execution_count": null,
      "outputs": [
        {
          "output_type": "execute_result",
          "data": {
            "text/plain": [
              "                                              index  url_host\n",
              "0                       googleads.g.doubleclick.net  10974508\n",
              "1                                         yandex.ru   9493377\n",
              "2                                       i.ytimg.com   8416659\n",
              "3                                            vk.com   8319908\n",
              "4                            avatars.mds.yandex.net   8093162\n",
              "...                                             ...       ...\n",
              "154844                      emelind.livejournal.com         1\n",
              "154845        temhuk-livejournal-com.turbopages.org         1\n",
              "154846                                       bbp.ru         1\n",
              "154847  vestiukraine-livejournal-com.turbopages.org         1\n",
              "154848                                    tatist.ru         1\n",
              "\n",
              "[154849 rows x 2 columns]"
            ],
            "text/html": [
              "\n",
              "  <div id=\"df-cadfe1c3-c1df-450d-b32c-8cc9f8d11a0b\">\n",
              "    <div class=\"colab-df-container\">\n",
              "      <div>\n",
              "<style scoped>\n",
              "    .dataframe tbody tr th:only-of-type {\n",
              "        vertical-align: middle;\n",
              "    }\n",
              "\n",
              "    .dataframe tbody tr th {\n",
              "        vertical-align: top;\n",
              "    }\n",
              "\n",
              "    .dataframe thead th {\n",
              "        text-align: right;\n",
              "    }\n",
              "</style>\n",
              "<table border=\"1\" class=\"dataframe\">\n",
              "  <thead>\n",
              "    <tr style=\"text-align: right;\">\n",
              "      <th></th>\n",
              "      <th>index</th>\n",
              "      <th>url_host</th>\n",
              "    </tr>\n",
              "  </thead>\n",
              "  <tbody>\n",
              "    <tr>\n",
              "      <th>0</th>\n",
              "      <td>googleads.g.doubleclick.net</td>\n",
              "      <td>10974508</td>\n",
              "    </tr>\n",
              "    <tr>\n",
              "      <th>1</th>\n",
              "      <td>yandex.ru</td>\n",
              "      <td>9493377</td>\n",
              "    </tr>\n",
              "    <tr>\n",
              "      <th>2</th>\n",
              "      <td>i.ytimg.com</td>\n",
              "      <td>8416659</td>\n",
              "    </tr>\n",
              "    <tr>\n",
              "      <th>3</th>\n",
              "      <td>vk.com</td>\n",
              "      <td>8319908</td>\n",
              "    </tr>\n",
              "    <tr>\n",
              "      <th>4</th>\n",
              "      <td>avatars.mds.yandex.net</td>\n",
              "      <td>8093162</td>\n",
              "    </tr>\n",
              "    <tr>\n",
              "      <th>...</th>\n",
              "      <td>...</td>\n",
              "      <td>...</td>\n",
              "    </tr>\n",
              "    <tr>\n",
              "      <th>154844</th>\n",
              "      <td>emelind.livejournal.com</td>\n",
              "      <td>1</td>\n",
              "    </tr>\n",
              "    <tr>\n",
              "      <th>154845</th>\n",
              "      <td>temhuk-livejournal-com.turbopages.org</td>\n",
              "      <td>1</td>\n",
              "    </tr>\n",
              "    <tr>\n",
              "      <th>154846</th>\n",
              "      <td>bbp.ru</td>\n",
              "      <td>1</td>\n",
              "    </tr>\n",
              "    <tr>\n",
              "      <th>154847</th>\n",
              "      <td>vestiukraine-livejournal-com.turbopages.org</td>\n",
              "      <td>1</td>\n",
              "    </tr>\n",
              "    <tr>\n",
              "      <th>154848</th>\n",
              "      <td>tatist.ru</td>\n",
              "      <td>1</td>\n",
              "    </tr>\n",
              "  </tbody>\n",
              "</table>\n",
              "<p>154849 rows × 2 columns</p>\n",
              "</div>\n",
              "      <button class=\"colab-df-convert\" onclick=\"convertToInteractive('df-cadfe1c3-c1df-450d-b32c-8cc9f8d11a0b')\"\n",
              "              title=\"Convert this dataframe to an interactive table.\"\n",
              "              style=\"display:none;\">\n",
              "        \n",
              "  <svg xmlns=\"http://www.w3.org/2000/svg\" height=\"24px\"viewBox=\"0 0 24 24\"\n",
              "       width=\"24px\">\n",
              "    <path d=\"M0 0h24v24H0V0z\" fill=\"none\"/>\n",
              "    <path d=\"M18.56 5.44l.94 2.06.94-2.06 2.06-.94-2.06-.94-.94-2.06-.94 2.06-2.06.94zm-11 1L8.5 8.5l.94-2.06 2.06-.94-2.06-.94L8.5 2.5l-.94 2.06-2.06.94zm10 10l.94 2.06.94-2.06 2.06-.94-2.06-.94-.94-2.06-.94 2.06-2.06.94z\"/><path d=\"M17.41 7.96l-1.37-1.37c-.4-.4-.92-.59-1.43-.59-.52 0-1.04.2-1.43.59L10.3 9.45l-7.72 7.72c-.78.78-.78 2.05 0 2.83L4 21.41c.39.39.9.59 1.41.59.51 0 1.02-.2 1.41-.59l7.78-7.78 2.81-2.81c.8-.78.8-2.07 0-2.86zM5.41 20L4 18.59l7.72-7.72 1.47 1.35L5.41 20z\"/>\n",
              "  </svg>\n",
              "      </button>\n",
              "      \n",
              "  <style>\n",
              "    .colab-df-container {\n",
              "      display:flex;\n",
              "      flex-wrap:wrap;\n",
              "      gap: 12px;\n",
              "    }\n",
              "\n",
              "    .colab-df-convert {\n",
              "      background-color: #E8F0FE;\n",
              "      border: none;\n",
              "      border-radius: 50%;\n",
              "      cursor: pointer;\n",
              "      display: none;\n",
              "      fill: #1967D2;\n",
              "      height: 32px;\n",
              "      padding: 0 0 0 0;\n",
              "      width: 32px;\n",
              "    }\n",
              "\n",
              "    .colab-df-convert:hover {\n",
              "      background-color: #E2EBFA;\n",
              "      box-shadow: 0px 1px 2px rgba(60, 64, 67, 0.3), 0px 1px 3px 1px rgba(60, 64, 67, 0.15);\n",
              "      fill: #174EA6;\n",
              "    }\n",
              "\n",
              "    [theme=dark] .colab-df-convert {\n",
              "      background-color: #3B4455;\n",
              "      fill: #D2E3FC;\n",
              "    }\n",
              "\n",
              "    [theme=dark] .colab-df-convert:hover {\n",
              "      background-color: #434B5C;\n",
              "      box-shadow: 0px 1px 3px 1px rgba(0, 0, 0, 0.15);\n",
              "      filter: drop-shadow(0px 1px 2px rgba(0, 0, 0, 0.3));\n",
              "      fill: #FFFFFF;\n",
              "    }\n",
              "  </style>\n",
              "\n",
              "      <script>\n",
              "        const buttonEl =\n",
              "          document.querySelector('#df-cadfe1c3-c1df-450d-b32c-8cc9f8d11a0b button.colab-df-convert');\n",
              "        buttonEl.style.display =\n",
              "          google.colab.kernel.accessAllowed ? 'block' : 'none';\n",
              "\n",
              "        async function convertToInteractive(key) {\n",
              "          const element = document.querySelector('#df-cadfe1c3-c1df-450d-b32c-8cc9f8d11a0b');\n",
              "          const dataTable =\n",
              "            await google.colab.kernel.invokeFunction('convertToInteractive',\n",
              "                                                     [key], {});\n",
              "          if (!dataTable) return;\n",
              "\n",
              "          const docLinkHtml = 'Like what you see? Visit the ' +\n",
              "            '<a target=\"_blank\" href=https://colab.research.google.com/notebooks/data_table.ipynb>data table notebook</a>'\n",
              "            + ' to learn more about interactive tables.';\n",
              "          element.innerHTML = '';\n",
              "          dataTable['output_type'] = 'display_data';\n",
              "          await google.colab.output.renderOutput(dataTable, element);\n",
              "          const docLink = document.createElement('div');\n",
              "          docLink.innerHTML = docLinkHtml;\n",
              "          element.appendChild(docLink);\n",
              "        }\n",
              "      </script>\n",
              "    </div>\n",
              "  </div>\n",
              "  "
            ]
          },
          "metadata": {},
          "execution_count": 6
        }
      ]
    },
    {
      "cell_type": "code",
      "source": [
        "#в список топ\n",
        "top_urls = set(df['url_host'].value_counts().head(2000).index)"
      ],
      "metadata": {
        "id": "h8HN0JziQJAg"
      },
      "execution_count": null,
      "outputs": []
    },
    {
      "cell_type": "code",
      "source": [
        "top_urls"
      ],
      "metadata": {
        "colab": {
          "base_uri": "https://localhost:8080/"
        },
        "id": "-TTEDssrpgAA",
        "outputId": "d89e5162-2e98-4ba2-d1d2-0c02d8d6121a"
      },
      "execution_count": null,
      "outputs": [
        {
          "output_type": "execute_result",
          "data": {
            "text/plain": [
              "Index(['googleads.g.doubleclick.net', 'yandex.ru', 'i.ytimg.com', 'vk.com',\n",
              "       'avatars.mds.yandex.net', 'ad.mail.ru', 'yastatic.net', 'apple.com',\n",
              "       'ads.adfox.ru', 'tpc.googlesyndication.com',\n",
              "       ...\n",
              "       'amic-ru.turbopages.org', 'qrcoder.ru', 'kino.rambler.ru',\n",
              "       'service-online.su', 'friday.ru', 'tgramsearch.com',\n",
              "       'bashinform-ru.turbopages.org', 'kogda-vykhodit.ru', 'snipp.ru',\n",
              "       'rutaxist.ru'],\n",
              "      dtype='object', length=2000)"
            ]
          },
          "metadata": {},
          "execution_count": 24
        }
      ]
    },
    {
      "cell_type": "code",
      "source": [
        "#cохраняем список топ урлов, чтобы тимур пометил не нужные\n",
        "df_urls.to_csv(f'{LOCAL_DATA_PATH}/top_all_urls.csv', index=False)"
      ],
      "metadata": {
        "id": "PihaphxzTn5I"
      },
      "execution_count": null,
      "outputs": []
    },
    {
      "cell_type": "code",
      "source": [
        "df_top_urls.info()\n"
      ],
      "metadata": {
        "colab": {
          "base_uri": "https://localhost:8080/"
        },
        "id": "EqSwmu-o5oEX",
        "outputId": "0cbae913-1727-447a-abb8-068f012f758e"
      },
      "execution_count": null,
      "outputs": [
        {
          "output_type": "stream",
          "name": "stdout",
          "text": [
            "<class 'pandas.core.frame.DataFrame'>\n",
            "Int64Index: 9636142 entries, 0 to 21388167\n",
            "Data columns (total 14 columns):\n",
            " #   Column                 Dtype  \n",
            "---  ------                 -----  \n",
            " 0   region_name            object \n",
            " 1   city_name              object \n",
            " 2   cpe_manufacturer_name  object \n",
            " 3   cpe_model_name         object \n",
            " 4   url_host               object \n",
            " 5   cpe_type_cd            object \n",
            " 6   cpe_model_os_type      object \n",
            " 7   price                  float64\n",
            " 8   date                   object \n",
            " 9   part_of_day            object \n",
            " 10  request_cnt            int64  \n",
            " 11  user_id                int64  \n",
            " 12  age                    float64\n",
            " 13  is_male                object \n",
            "dtypes: float64(2), int64(2), object(10)\n",
            "memory usage: 1.1+ GB\n"
          ]
        }
      ]
    },
    {
      "cell_type": "markdown",
      "source": [
        "## FeaturesEng  \\ Определяем нужны ли фичи\n",
        "Загрузим df с таргетами ,все кроме урлов. Урежем таблицу. Зупустим ML.\n"
      ],
      "metadata": {
        "id": "-Z1nlSBxCYbE"
      }
    },
    {
      "cell_type": "code",
      "source": [
        "df.drop(columns=['url_host','date', 'region_name','city_name', 'price','request_cnt','part_of_day','cpe_type_cd' ], inplace=True)  #'part_of_day',"
      ],
      "metadata": {
        "id": "WtA1OP3hDvnE"
      },
      "execution_count": null,
      "outputs": []
    },
    {
      "cell_type": "code",
      "source": [
        "df.drop(columns=['part_of_day'], inplace=True) #'url_host',"
      ],
      "metadata": {
        "id": "Nmyh21cUMr_W"
      },
      "execution_count": null,
      "outputs": []
    },
    {
      "cell_type": "code",
      "source": [
        "#df.drop(columns=['cpe_type_cd','cpe_model_name'], inplace=True)"
      ],
      "metadata": {
        "id": "-P4NYaxC8eaV"
      },
      "execution_count": null,
      "outputs": []
    },
    {
      "cell_type": "code",
      "source": [
        "#после удаления урлов у нас куча строк дубликатов\n",
        "df.drop_duplicates(inplace=True)"
      ],
      "metadata": {
        "id": "9pE8XjiaFOw2"
      },
      "execution_count": null,
      "outputs": []
    },
    {
      "cell_type": "code",
      "source": [
        "df = pq.read_table(f'{LOCAL_DATA_PATH}{part_list[0]}').select([\t'city_name','cpe_model_name',\t 'url_host',\t\t'request_cnt',\t'part_of_day','user_id']).to_pandas()"
      ],
      "metadata": {
        "id": "Fu7NVmQJ1Q7E"
      },
      "execution_count": null,
      "outputs": []
    },
    {
      "cell_type": "code",
      "source": [
        "df.groupby(['user_id', 'city_name']).aggregate([('request_cnt', \"count\")])['url_host']"
      ],
      "metadata": {
        "colab": {
          "base_uri": "https://localhost:8080/",
          "height": 455
        },
        "id": "adS3wl1a1d8t",
        "outputId": "5f1af441-d9b2-4837-e334-65e7a81c124a"
      },
      "execution_count": null,
      "outputs": [
        {
          "output_type": "execute_result",
          "data": {
            "text/plain": [
              "                         request_cnt\n",
              "user_id city_name                   \n",
              "4       Абинск                     1\n",
              "        Анапа                    444\n",
              "        Волгоград                 22\n",
              "        Геленджик                  9\n",
              "        Камышин                    1\n",
              "...                              ...\n",
              "415251  Чернушка                   3\n",
              "415266  Якутск                     3\n",
              "415273  Азнакаево                  1\n",
              "415277  Нижний Новгород            5\n",
              "415305  Хабаровск                  3\n",
              "\n",
              "[128642 rows x 1 columns]"
            ],
            "text/html": [
              "\n",
              "  <div id=\"df-863e10fe-de57-4416-9803-841a5c12050a\">\n",
              "    <div class=\"colab-df-container\">\n",
              "      <div>\n",
              "<style scoped>\n",
              "    .dataframe tbody tr th:only-of-type {\n",
              "        vertical-align: middle;\n",
              "    }\n",
              "\n",
              "    .dataframe tbody tr th {\n",
              "        vertical-align: top;\n",
              "    }\n",
              "\n",
              "    .dataframe thead th {\n",
              "        text-align: right;\n",
              "    }\n",
              "</style>\n",
              "<table border=\"1\" class=\"dataframe\">\n",
              "  <thead>\n",
              "    <tr style=\"text-align: right;\">\n",
              "      <th></th>\n",
              "      <th></th>\n",
              "      <th>request_cnt</th>\n",
              "    </tr>\n",
              "    <tr>\n",
              "      <th>user_id</th>\n",
              "      <th>city_name</th>\n",
              "      <th></th>\n",
              "    </tr>\n",
              "  </thead>\n",
              "  <tbody>\n",
              "    <tr>\n",
              "      <th rowspan=\"5\" valign=\"top\">4</th>\n",
              "      <th>Абинск</th>\n",
              "      <td>1</td>\n",
              "    </tr>\n",
              "    <tr>\n",
              "      <th>Анапа</th>\n",
              "      <td>444</td>\n",
              "    </tr>\n",
              "    <tr>\n",
              "      <th>Волгоград</th>\n",
              "      <td>22</td>\n",
              "    </tr>\n",
              "    <tr>\n",
              "      <th>Геленджик</th>\n",
              "      <td>9</td>\n",
              "    </tr>\n",
              "    <tr>\n",
              "      <th>Камышин</th>\n",
              "      <td>1</td>\n",
              "    </tr>\n",
              "    <tr>\n",
              "      <th>...</th>\n",
              "      <th>...</th>\n",
              "      <td>...</td>\n",
              "    </tr>\n",
              "    <tr>\n",
              "      <th>415251</th>\n",
              "      <th>Чернушка</th>\n",
              "      <td>3</td>\n",
              "    </tr>\n",
              "    <tr>\n",
              "      <th>415266</th>\n",
              "      <th>Якутск</th>\n",
              "      <td>3</td>\n",
              "    </tr>\n",
              "    <tr>\n",
              "      <th>415273</th>\n",
              "      <th>Азнакаево</th>\n",
              "      <td>1</td>\n",
              "    </tr>\n",
              "    <tr>\n",
              "      <th>415277</th>\n",
              "      <th>Нижний Новгород</th>\n",
              "      <td>5</td>\n",
              "    </tr>\n",
              "    <tr>\n",
              "      <th>415305</th>\n",
              "      <th>Хабаровск</th>\n",
              "      <td>3</td>\n",
              "    </tr>\n",
              "  </tbody>\n",
              "</table>\n",
              "<p>128642 rows × 1 columns</p>\n",
              "</div>\n",
              "      <button class=\"colab-df-convert\" onclick=\"convertToInteractive('df-863e10fe-de57-4416-9803-841a5c12050a')\"\n",
              "              title=\"Convert this dataframe to an interactive table.\"\n",
              "              style=\"display:none;\">\n",
              "        \n",
              "  <svg xmlns=\"http://www.w3.org/2000/svg\" height=\"24px\"viewBox=\"0 0 24 24\"\n",
              "       width=\"24px\">\n",
              "    <path d=\"M0 0h24v24H0V0z\" fill=\"none\"/>\n",
              "    <path d=\"M18.56 5.44l.94 2.06.94-2.06 2.06-.94-2.06-.94-.94-2.06-.94 2.06-2.06.94zm-11 1L8.5 8.5l.94-2.06 2.06-.94-2.06-.94L8.5 2.5l-.94 2.06-2.06.94zm10 10l.94 2.06.94-2.06 2.06-.94-2.06-.94-.94-2.06-.94 2.06-2.06.94z\"/><path d=\"M17.41 7.96l-1.37-1.37c-.4-.4-.92-.59-1.43-.59-.52 0-1.04.2-1.43.59L10.3 9.45l-7.72 7.72c-.78.78-.78 2.05 0 2.83L4 21.41c.39.39.9.59 1.41.59.51 0 1.02-.2 1.41-.59l7.78-7.78 2.81-2.81c.8-.78.8-2.07 0-2.86zM5.41 20L4 18.59l7.72-7.72 1.47 1.35L5.41 20z\"/>\n",
              "  </svg>\n",
              "      </button>\n",
              "      \n",
              "  <style>\n",
              "    .colab-df-container {\n",
              "      display:flex;\n",
              "      flex-wrap:wrap;\n",
              "      gap: 12px;\n",
              "    }\n",
              "\n",
              "    .colab-df-convert {\n",
              "      background-color: #E8F0FE;\n",
              "      border: none;\n",
              "      border-radius: 50%;\n",
              "      cursor: pointer;\n",
              "      display: none;\n",
              "      fill: #1967D2;\n",
              "      height: 32px;\n",
              "      padding: 0 0 0 0;\n",
              "      width: 32px;\n",
              "    }\n",
              "\n",
              "    .colab-df-convert:hover {\n",
              "      background-color: #E2EBFA;\n",
              "      box-shadow: 0px 1px 2px rgba(60, 64, 67, 0.3), 0px 1px 3px 1px rgba(60, 64, 67, 0.15);\n",
              "      fill: #174EA6;\n",
              "    }\n",
              "\n",
              "    [theme=dark] .colab-df-convert {\n",
              "      background-color: #3B4455;\n",
              "      fill: #D2E3FC;\n",
              "    }\n",
              "\n",
              "    [theme=dark] .colab-df-convert:hover {\n",
              "      background-color: #434B5C;\n",
              "      box-shadow: 0px 1px 3px 1px rgba(0, 0, 0, 0.15);\n",
              "      filter: drop-shadow(0px 1px 2px rgba(0, 0, 0, 0.3));\n",
              "      fill: #FFFFFF;\n",
              "    }\n",
              "  </style>\n",
              "\n",
              "      <script>\n",
              "        const buttonEl =\n",
              "          document.querySelector('#df-863e10fe-de57-4416-9803-841a5c12050a button.colab-df-convert');\n",
              "        buttonEl.style.display =\n",
              "          google.colab.kernel.accessAllowed ? 'block' : 'none';\n",
              "\n",
              "        async function convertToInteractive(key) {\n",
              "          const element = document.querySelector('#df-863e10fe-de57-4416-9803-841a5c12050a');\n",
              "          const dataTable =\n",
              "            await google.colab.kernel.invokeFunction('convertToInteractive',\n",
              "                                                     [key], {});\n",
              "          if (!dataTable) return;\n",
              "\n",
              "          const docLinkHtml = 'Like what you see? Visit the ' +\n",
              "            '<a target=\"_blank\" href=https://colab.research.google.com/notebooks/data_table.ipynb>data table notebook</a>'\n",
              "            + ' to learn more about interactive tables.';\n",
              "          element.innerHTML = '';\n",
              "          dataTable['output_type'] = 'display_data';\n",
              "          await google.colab.output.renderOutput(dataTable, element);\n",
              "          const docLink = document.createElement('div');\n",
              "          docLink.innerHTML = docLinkHtml;\n",
              "          element.appendChild(docLink);\n",
              "        }\n",
              "      </script>\n",
              "    </div>\n",
              "  </div>\n",
              "  "
            ]
          },
          "metadata": {},
          "execution_count": 25
        }
      ]
    },
    {
      "cell_type": "code",
      "source": [
        "df.head(2)"
      ],
      "metadata": {
        "colab": {
          "base_uri": "https://localhost:8080/",
          "height": 112
        },
        "id": "IS1X9yjHFtyR",
        "outputId": "6c478625-b156-472b-9671-d48bc398208d"
      },
      "execution_count": null,
      "outputs": [
        {
          "output_type": "execute_result",
          "data": {
            "text/plain": [
              "     cpe_model_name  user_id   age is_male\n",
              "0       Galaxy S20+    79395  35.0       1\n",
              "1635    Poco X3 Pro    91294  35.0       1"
            ],
            "text/html": [
              "\n",
              "  <div id=\"df-674da5c6-e08c-4c90-839a-c7f2f55261b2\">\n",
              "    <div class=\"colab-df-container\">\n",
              "      <div>\n",
              "<style scoped>\n",
              "    .dataframe tbody tr th:only-of-type {\n",
              "        vertical-align: middle;\n",
              "    }\n",
              "\n",
              "    .dataframe tbody tr th {\n",
              "        vertical-align: top;\n",
              "    }\n",
              "\n",
              "    .dataframe thead th {\n",
              "        text-align: right;\n",
              "    }\n",
              "</style>\n",
              "<table border=\"1\" class=\"dataframe\">\n",
              "  <thead>\n",
              "    <tr style=\"text-align: right;\">\n",
              "      <th></th>\n",
              "      <th>cpe_model_name</th>\n",
              "      <th>user_id</th>\n",
              "      <th>age</th>\n",
              "      <th>is_male</th>\n",
              "    </tr>\n",
              "  </thead>\n",
              "  <tbody>\n",
              "    <tr>\n",
              "      <th>0</th>\n",
              "      <td>Galaxy S20+</td>\n",
              "      <td>79395</td>\n",
              "      <td>35.0</td>\n",
              "      <td>1</td>\n",
              "    </tr>\n",
              "    <tr>\n",
              "      <th>1635</th>\n",
              "      <td>Poco X3 Pro</td>\n",
              "      <td>91294</td>\n",
              "      <td>35.0</td>\n",
              "      <td>1</td>\n",
              "    </tr>\n",
              "  </tbody>\n",
              "</table>\n",
              "</div>\n",
              "      <button class=\"colab-df-convert\" onclick=\"convertToInteractive('df-674da5c6-e08c-4c90-839a-c7f2f55261b2')\"\n",
              "              title=\"Convert this dataframe to an interactive table.\"\n",
              "              style=\"display:none;\">\n",
              "        \n",
              "  <svg xmlns=\"http://www.w3.org/2000/svg\" height=\"24px\"viewBox=\"0 0 24 24\"\n",
              "       width=\"24px\">\n",
              "    <path d=\"M0 0h24v24H0V0z\" fill=\"none\"/>\n",
              "    <path d=\"M18.56 5.44l.94 2.06.94-2.06 2.06-.94-2.06-.94-.94-2.06-.94 2.06-2.06.94zm-11 1L8.5 8.5l.94-2.06 2.06-.94-2.06-.94L8.5 2.5l-.94 2.06-2.06.94zm10 10l.94 2.06.94-2.06 2.06-.94-2.06-.94-.94-2.06-.94 2.06-2.06.94z\"/><path d=\"M17.41 7.96l-1.37-1.37c-.4-.4-.92-.59-1.43-.59-.52 0-1.04.2-1.43.59L10.3 9.45l-7.72 7.72c-.78.78-.78 2.05 0 2.83L4 21.41c.39.39.9.59 1.41.59.51 0 1.02-.2 1.41-.59l7.78-7.78 2.81-2.81c.8-.78.8-2.07 0-2.86zM5.41 20L4 18.59l7.72-7.72 1.47 1.35L5.41 20z\"/>\n",
              "  </svg>\n",
              "      </button>\n",
              "      \n",
              "  <style>\n",
              "    .colab-df-container {\n",
              "      display:flex;\n",
              "      flex-wrap:wrap;\n",
              "      gap: 12px;\n",
              "    }\n",
              "\n",
              "    .colab-df-convert {\n",
              "      background-color: #E8F0FE;\n",
              "      border: none;\n",
              "      border-radius: 50%;\n",
              "      cursor: pointer;\n",
              "      display: none;\n",
              "      fill: #1967D2;\n",
              "      height: 32px;\n",
              "      padding: 0 0 0 0;\n",
              "      width: 32px;\n",
              "    }\n",
              "\n",
              "    .colab-df-convert:hover {\n",
              "      background-color: #E2EBFA;\n",
              "      box-shadow: 0px 1px 2px rgba(60, 64, 67, 0.3), 0px 1px 3px 1px rgba(60, 64, 67, 0.15);\n",
              "      fill: #174EA6;\n",
              "    }\n",
              "\n",
              "    [theme=dark] .colab-df-convert {\n",
              "      background-color: #3B4455;\n",
              "      fill: #D2E3FC;\n",
              "    }\n",
              "\n",
              "    [theme=dark] .colab-df-convert:hover {\n",
              "      background-color: #434B5C;\n",
              "      box-shadow: 0px 1px 3px 1px rgba(0, 0, 0, 0.15);\n",
              "      filter: drop-shadow(0px 1px 2px rgba(0, 0, 0, 0.3));\n",
              "      fill: #FFFFFF;\n",
              "    }\n",
              "  </style>\n",
              "\n",
              "      <script>\n",
              "        const buttonEl =\n",
              "          document.querySelector('#df-674da5c6-e08c-4c90-839a-c7f2f55261b2 button.colab-df-convert');\n",
              "        buttonEl.style.display =\n",
              "          google.colab.kernel.accessAllowed ? 'block' : 'none';\n",
              "\n",
              "        async function convertToInteractive(key) {\n",
              "          const element = document.querySelector('#df-674da5c6-e08c-4c90-839a-c7f2f55261b2');\n",
              "          const dataTable =\n",
              "            await google.colab.kernel.invokeFunction('convertToInteractive',\n",
              "                                                     [key], {});\n",
              "          if (!dataTable) return;\n",
              "\n",
              "          const docLinkHtml = 'Like what you see? Visit the ' +\n",
              "            '<a target=\"_blank\" href=https://colab.research.google.com/notebooks/data_table.ipynb>data table notebook</a>'\n",
              "            + ' to learn more about interactive tables.';\n",
              "          element.innerHTML = '';\n",
              "          dataTable['output_type'] = 'display_data';\n",
              "          await google.colab.output.renderOutput(dataTable, element);\n",
              "          const docLink = document.createElement('div');\n",
              "          docLink.innerHTML = docLinkHtml;\n",
              "          element.appendChild(docLink);\n",
              "        }\n",
              "      </script>\n",
              "    </div>\n",
              "  </div>\n",
              "  "
            ]
          },
          "metadata": {},
          "execution_count": 97
        }
      ]
    },
    {
      "cell_type": "code",
      "source": [
        "df.head(2)"
      ],
      "metadata": {
        "colab": {
          "base_uri": "https://localhost:8080/",
          "height": 112
        },
        "id": "i5nLgVwSX14g",
        "outputId": "c76aefb9-510a-42bb-d067-abee5a96cb75"
      },
      "execution_count": null,
      "outputs": [
        {
          "output_type": "execute_result",
          "data": {
            "text/plain": [
              "  cpe_model_name  user_id  age is_male    day  evening  morning  night\n",
              "0    Galaxy S20+    79395    1       1  586.0    524.0    346.0  179.0\n",
              "1    Poco X3 Pro    91294    1       1  551.0    515.0    338.0  166.0"
            ],
            "text/html": [
              "\n",
              "  <div id=\"df-723e096b-8e8c-49b0-8039-815612ad3169\">\n",
              "    <div class=\"colab-df-container\">\n",
              "      <div>\n",
              "<style scoped>\n",
              "    .dataframe tbody tr th:only-of-type {\n",
              "        vertical-align: middle;\n",
              "    }\n",
              "\n",
              "    .dataframe tbody tr th {\n",
              "        vertical-align: top;\n",
              "    }\n",
              "\n",
              "    .dataframe thead th {\n",
              "        text-align: right;\n",
              "    }\n",
              "</style>\n",
              "<table border=\"1\" class=\"dataframe\">\n",
              "  <thead>\n",
              "    <tr style=\"text-align: right;\">\n",
              "      <th></th>\n",
              "      <th>cpe_model_name</th>\n",
              "      <th>user_id</th>\n",
              "      <th>age</th>\n",
              "      <th>is_male</th>\n",
              "      <th>day</th>\n",
              "      <th>evening</th>\n",
              "      <th>morning</th>\n",
              "      <th>night</th>\n",
              "    </tr>\n",
              "  </thead>\n",
              "  <tbody>\n",
              "    <tr>\n",
              "      <th>0</th>\n",
              "      <td>Galaxy S20+</td>\n",
              "      <td>79395</td>\n",
              "      <td>1</td>\n",
              "      <td>1</td>\n",
              "      <td>586.0</td>\n",
              "      <td>524.0</td>\n",
              "      <td>346.0</td>\n",
              "      <td>179.0</td>\n",
              "    </tr>\n",
              "    <tr>\n",
              "      <th>1</th>\n",
              "      <td>Poco X3 Pro</td>\n",
              "      <td>91294</td>\n",
              "      <td>1</td>\n",
              "      <td>1</td>\n",
              "      <td>551.0</td>\n",
              "      <td>515.0</td>\n",
              "      <td>338.0</td>\n",
              "      <td>166.0</td>\n",
              "    </tr>\n",
              "  </tbody>\n",
              "</table>\n",
              "</div>\n",
              "      <button class=\"colab-df-convert\" onclick=\"convertToInteractive('df-723e096b-8e8c-49b0-8039-815612ad3169')\"\n",
              "              title=\"Convert this dataframe to an interactive table.\"\n",
              "              style=\"display:none;\">\n",
              "        \n",
              "  <svg xmlns=\"http://www.w3.org/2000/svg\" height=\"24px\"viewBox=\"0 0 24 24\"\n",
              "       width=\"24px\">\n",
              "    <path d=\"M0 0h24v24H0V0z\" fill=\"none\"/>\n",
              "    <path d=\"M18.56 5.44l.94 2.06.94-2.06 2.06-.94-2.06-.94-.94-2.06-.94 2.06-2.06.94zm-11 1L8.5 8.5l.94-2.06 2.06-.94-2.06-.94L8.5 2.5l-.94 2.06-2.06.94zm10 10l.94 2.06.94-2.06 2.06-.94-2.06-.94-.94-2.06-.94 2.06-2.06.94z\"/><path d=\"M17.41 7.96l-1.37-1.37c-.4-.4-.92-.59-1.43-.59-.52 0-1.04.2-1.43.59L10.3 9.45l-7.72 7.72c-.78.78-.78 2.05 0 2.83L4 21.41c.39.39.9.59 1.41.59.51 0 1.02-.2 1.41-.59l7.78-7.78 2.81-2.81c.8-.78.8-2.07 0-2.86zM5.41 20L4 18.59l7.72-7.72 1.47 1.35L5.41 20z\"/>\n",
              "  </svg>\n",
              "      </button>\n",
              "      \n",
              "  <style>\n",
              "    .colab-df-container {\n",
              "      display:flex;\n",
              "      flex-wrap:wrap;\n",
              "      gap: 12px;\n",
              "    }\n",
              "\n",
              "    .colab-df-convert {\n",
              "      background-color: #E8F0FE;\n",
              "      border: none;\n",
              "      border-radius: 50%;\n",
              "      cursor: pointer;\n",
              "      display: none;\n",
              "      fill: #1967D2;\n",
              "      height: 32px;\n",
              "      padding: 0 0 0 0;\n",
              "      width: 32px;\n",
              "    }\n",
              "\n",
              "    .colab-df-convert:hover {\n",
              "      background-color: #E2EBFA;\n",
              "      box-shadow: 0px 1px 2px rgba(60, 64, 67, 0.3), 0px 1px 3px 1px rgba(60, 64, 67, 0.15);\n",
              "      fill: #174EA6;\n",
              "    }\n",
              "\n",
              "    [theme=dark] .colab-df-convert {\n",
              "      background-color: #3B4455;\n",
              "      fill: #D2E3FC;\n",
              "    }\n",
              "\n",
              "    [theme=dark] .colab-df-convert:hover {\n",
              "      background-color: #434B5C;\n",
              "      box-shadow: 0px 1px 3px 1px rgba(0, 0, 0, 0.15);\n",
              "      filter: drop-shadow(0px 1px 2px rgba(0, 0, 0, 0.3));\n",
              "      fill: #FFFFFF;\n",
              "    }\n",
              "  </style>\n",
              "\n",
              "      <script>\n",
              "        const buttonEl =\n",
              "          document.querySelector('#df-723e096b-8e8c-49b0-8039-815612ad3169 button.colab-df-convert');\n",
              "        buttonEl.style.display =\n",
              "          google.colab.kernel.accessAllowed ? 'block' : 'none';\n",
              "\n",
              "        async function convertToInteractive(key) {\n",
              "          const element = document.querySelector('#df-723e096b-8e8c-49b0-8039-815612ad3169');\n",
              "          const dataTable =\n",
              "            await google.colab.kernel.invokeFunction('convertToInteractive',\n",
              "                                                     [key], {});\n",
              "          if (!dataTable) return;\n",
              "\n",
              "          const docLinkHtml = 'Like what you see? Visit the ' +\n",
              "            '<a target=\"_blank\" href=https://colab.research.google.com/notebooks/data_table.ipynb>data table notebook</a>'\n",
              "            + ' to learn more about interactive tables.';\n",
              "          element.innerHTML = '';\n",
              "          dataTable['output_type'] = 'display_data';\n",
              "          await google.colab.output.renderOutput(dataTable, element);\n",
              "          const docLink = document.createElement('div');\n",
              "          docLink.innerHTML = docLinkHtml;\n",
              "          element.appendChild(docLink);\n",
              "        }\n",
              "      </script>\n",
              "    </div>\n",
              "  </div>\n",
              "  "
            ]
          },
          "metadata": {},
          "execution_count": 102
        }
      ]
    },
    {
      "cell_type": "markdown",
      "source": [
        "### df_freaks   \n",
        "разберемся что тут и как оптимальней предсказать\n"
      ],
      "metadata": {
        "id": "diKavVGcFiBK"
      }
    },
    {
      "cell_type": "code",
      "source": [
        "df_freaks = pd.read_feather(f'{LOCAL_DATA_PATH}df_freak_part_{0}.feather')\n"
      ],
      "metadata": {
        "id": "BkCoxgsVFoZ_"
      },
      "execution_count": null,
      "outputs": []
    },
    {
      "cell_type": "code",
      "source": [
        "df_freaks"
      ],
      "metadata": {
        "id": "2Y9I57lnFodP"
      },
      "execution_count": null,
      "outputs": []
    },
    {
      "cell_type": "code",
      "source": [],
      "metadata": {
        "id": "5NdMDQWaFof2"
      },
      "execution_count": null,
      "outputs": []
    },
    {
      "cell_type": "markdown",
      "source": [
        "### по урлам разбить\n"
      ],
      "metadata": {
        "id": "7fKTL88vwpz2"
      }
    },
    {
      "cell_type": "code",
      "source": [
        "df = pq.read_table(f'{LOCAL_DATA_PATH}{part_list[0]}').select([\t'cpe_model_name',\t 'url_host',\t\t'request_cnt',\t'part_of_day','user_id']).to_pandas()"
      ],
      "metadata": {
        "id": "9ymBqpFqFoi5"
      },
      "execution_count": null,
      "outputs": []
    },
    {
      "cell_type": "code",
      "source": [
        "df.head()"
      ],
      "metadata": {
        "colab": {
          "base_uri": "https://localhost:8080/",
          "height": 206
        },
        "id": "ZIYLK4bkwyAT",
        "outputId": "27fbb255-b938-4a48-d72d-e433d758bdaf"
      },
      "execution_count": null,
      "outputs": [
        {
          "output_type": "execute_result",
          "data": {
            "text/plain": [
              "  cpe_model_name                     url_host  request_cnt part_of_day  \\\n",
              "0       iPhone 7                ad.adriver.ru            1     morning   \n",
              "1       iPhone 7                    apple.com            1     morning   \n",
              "2       iPhone 7       avatars.mds.yandex.net            1         day   \n",
              "3       iPhone 7  googleads.g.doubleclick.net            1         day   \n",
              "4       iPhone 7  googleads.g.doubleclick.net            1         day   \n",
              "\n",
              "   user_id  \n",
              "0    45098  \n",
              "1    45098  \n",
              "2    45098  \n",
              "3    45098  \n",
              "4    45098  "
            ],
            "text/html": [
              "\n",
              "  <div id=\"df-1ed457d8-fc31-473b-9af5-68f4b4a138e9\">\n",
              "    <div class=\"colab-df-container\">\n",
              "      <div>\n",
              "<style scoped>\n",
              "    .dataframe tbody tr th:only-of-type {\n",
              "        vertical-align: middle;\n",
              "    }\n",
              "\n",
              "    .dataframe tbody tr th {\n",
              "        vertical-align: top;\n",
              "    }\n",
              "\n",
              "    .dataframe thead th {\n",
              "        text-align: right;\n",
              "    }\n",
              "</style>\n",
              "<table border=\"1\" class=\"dataframe\">\n",
              "  <thead>\n",
              "    <tr style=\"text-align: right;\">\n",
              "      <th></th>\n",
              "      <th>cpe_model_name</th>\n",
              "      <th>url_host</th>\n",
              "      <th>request_cnt</th>\n",
              "      <th>part_of_day</th>\n",
              "      <th>user_id</th>\n",
              "    </tr>\n",
              "  </thead>\n",
              "  <tbody>\n",
              "    <tr>\n",
              "      <th>0</th>\n",
              "      <td>iPhone 7</td>\n",
              "      <td>ad.adriver.ru</td>\n",
              "      <td>1</td>\n",
              "      <td>morning</td>\n",
              "      <td>45098</td>\n",
              "    </tr>\n",
              "    <tr>\n",
              "      <th>1</th>\n",
              "      <td>iPhone 7</td>\n",
              "      <td>apple.com</td>\n",
              "      <td>1</td>\n",
              "      <td>morning</td>\n",
              "      <td>45098</td>\n",
              "    </tr>\n",
              "    <tr>\n",
              "      <th>2</th>\n",
              "      <td>iPhone 7</td>\n",
              "      <td>avatars.mds.yandex.net</td>\n",
              "      <td>1</td>\n",
              "      <td>day</td>\n",
              "      <td>45098</td>\n",
              "    </tr>\n",
              "    <tr>\n",
              "      <th>3</th>\n",
              "      <td>iPhone 7</td>\n",
              "      <td>googleads.g.doubleclick.net</td>\n",
              "      <td>1</td>\n",
              "      <td>day</td>\n",
              "      <td>45098</td>\n",
              "    </tr>\n",
              "    <tr>\n",
              "      <th>4</th>\n",
              "      <td>iPhone 7</td>\n",
              "      <td>googleads.g.doubleclick.net</td>\n",
              "      <td>1</td>\n",
              "      <td>day</td>\n",
              "      <td>45098</td>\n",
              "    </tr>\n",
              "  </tbody>\n",
              "</table>\n",
              "</div>\n",
              "      <button class=\"colab-df-convert\" onclick=\"convertToInteractive('df-1ed457d8-fc31-473b-9af5-68f4b4a138e9')\"\n",
              "              title=\"Convert this dataframe to an interactive table.\"\n",
              "              style=\"display:none;\">\n",
              "        \n",
              "  <svg xmlns=\"http://www.w3.org/2000/svg\" height=\"24px\"viewBox=\"0 0 24 24\"\n",
              "       width=\"24px\">\n",
              "    <path d=\"M0 0h24v24H0V0z\" fill=\"none\"/>\n",
              "    <path d=\"M18.56 5.44l.94 2.06.94-2.06 2.06-.94-2.06-.94-.94-2.06-.94 2.06-2.06.94zm-11 1L8.5 8.5l.94-2.06 2.06-.94-2.06-.94L8.5 2.5l-.94 2.06-2.06.94zm10 10l.94 2.06.94-2.06 2.06-.94-2.06-.94-.94-2.06-.94 2.06-2.06.94z\"/><path d=\"M17.41 7.96l-1.37-1.37c-.4-.4-.92-.59-1.43-.59-.52 0-1.04.2-1.43.59L10.3 9.45l-7.72 7.72c-.78.78-.78 2.05 0 2.83L4 21.41c.39.39.9.59 1.41.59.51 0 1.02-.2 1.41-.59l7.78-7.78 2.81-2.81c.8-.78.8-2.07 0-2.86zM5.41 20L4 18.59l7.72-7.72 1.47 1.35L5.41 20z\"/>\n",
              "  </svg>\n",
              "      </button>\n",
              "      \n",
              "  <style>\n",
              "    .colab-df-container {\n",
              "      display:flex;\n",
              "      flex-wrap:wrap;\n",
              "      gap: 12px;\n",
              "    }\n",
              "\n",
              "    .colab-df-convert {\n",
              "      background-color: #E8F0FE;\n",
              "      border: none;\n",
              "      border-radius: 50%;\n",
              "      cursor: pointer;\n",
              "      display: none;\n",
              "      fill: #1967D2;\n",
              "      height: 32px;\n",
              "      padding: 0 0 0 0;\n",
              "      width: 32px;\n",
              "    }\n",
              "\n",
              "    .colab-df-convert:hover {\n",
              "      background-color: #E2EBFA;\n",
              "      box-shadow: 0px 1px 2px rgba(60, 64, 67, 0.3), 0px 1px 3px 1px rgba(60, 64, 67, 0.15);\n",
              "      fill: #174EA6;\n",
              "    }\n",
              "\n",
              "    [theme=dark] .colab-df-convert {\n",
              "      background-color: #3B4455;\n",
              "      fill: #D2E3FC;\n",
              "    }\n",
              "\n",
              "    [theme=dark] .colab-df-convert:hover {\n",
              "      background-color: #434B5C;\n",
              "      box-shadow: 0px 1px 3px 1px rgba(0, 0, 0, 0.15);\n",
              "      filter: drop-shadow(0px 1px 2px rgba(0, 0, 0, 0.3));\n",
              "      fill: #FFFFFF;\n",
              "    }\n",
              "  </style>\n",
              "\n",
              "      <script>\n",
              "        const buttonEl =\n",
              "          document.querySelector('#df-1ed457d8-fc31-473b-9af5-68f4b4a138e9 button.colab-df-convert');\n",
              "        buttonEl.style.display =\n",
              "          google.colab.kernel.accessAllowed ? 'block' : 'none';\n",
              "\n",
              "        async function convertToInteractive(key) {\n",
              "          const element = document.querySelector('#df-1ed457d8-fc31-473b-9af5-68f4b4a138e9');\n",
              "          const dataTable =\n",
              "            await google.colab.kernel.invokeFunction('convertToInteractive',\n",
              "                                                     [key], {});\n",
              "          if (!dataTable) return;\n",
              "\n",
              "          const docLinkHtml = 'Like what you see? Visit the ' +\n",
              "            '<a target=\"_blank\" href=https://colab.research.google.com/notebooks/data_table.ipynb>data table notebook</a>'\n",
              "            + ' to learn more about interactive tables.';\n",
              "          element.innerHTML = '';\n",
              "          dataTable['output_type'] = 'display_data';\n",
              "          await google.colab.output.renderOutput(dataTable, element);\n",
              "          const docLink = document.createElement('div');\n",
              "          docLink.innerHTML = docLinkHtml;\n",
              "          element.appendChild(docLink);\n",
              "        }\n",
              "      </script>\n",
              "    </div>\n",
              "  </div>\n",
              "  "
            ]
          },
          "metadata": {},
          "execution_count": 98
        }
      ]
    },
    {
      "cell_type": "code",
      "source": [
        "urls_count = df.groupby('user_id').agg('count')['url_host']"
      ],
      "metadata": {
        "id": "dPDHYY22wyX2"
      },
      "execution_count": null,
      "outputs": []
    },
    {
      "cell_type": "code",
      "source": [
        "urls_count.hist()"
      ],
      "metadata": {
        "colab": {
          "base_uri": "https://localhost:8080/",
          "height": 282
        },
        "id": "UIJ5_L7FwyzC",
        "outputId": "ae59c005-3e5c-42e8-8315-f265d5e8b59d"
      },
      "execution_count": null,
      "outputs": [
        {
          "output_type": "execute_result",
          "data": {
            "text/plain": [
              "<AxesSubplot:>"
            ]
          },
          "metadata": {},
          "execution_count": 110
        },
        {
          "output_type": "display_data",
          "data": {
            "text/plain": [
              "<Figure size 432x288 with 1 Axes>"
            ],
            "image/png": "[encoded data removed]"
          },
          "metadata": {
            "needs_background": "light"
          }
        }
      ]
    },
    {
      "cell_type": "code",
      "source": [
        "df = df.query('url_host in @timur_url_list')"
      ],
      "metadata": {
        "id": "X-pqNgGLyy5N"
      },
      "execution_count": null,
      "outputs": []
    },
    {
      "cell_type": "code",
      "source": [
        "df.groupby('user_id').agg('count')['url_host'].hist(bins=100)"
      ],
      "metadata": {
        "colab": {
          "base_uri": "https://localhost:8080/",
          "height": 265
        },
        "id": "B8qkUjGsyzEe",
        "outputId": "fc5d91c5-2ced-46da-9d11-6c9ff4dfb2c0"
      },
      "execution_count": null,
      "outputs": [
        {
          "output_type": "display_data",
          "data": {
            "text/plain": [
              "<Figure size 432x288 with 1 Axes>"
            ],
            "image/png": "[encoded data removed]"
          },
          "metadata": {
            "needs_background": "light"
          }
        }
      ]
    },
    {
      "cell_type": "code",
      "source": [],
      "metadata": {
        "id": "whI-oj8TyzOm"
      },
      "execution_count": null,
      "outputs": []
    },
    {
      "cell_type": "code",
      "source": [],
      "metadata": {
        "id": "6EcKy9XYyzYG"
      },
      "execution_count": null,
      "outputs": []
    },
    {
      "cell_type": "markdown",
      "source": [
        "# 3.ML"
      ],
      "metadata": {
        "id": "qyTjz_XQJKMT"
      }
    },
    {
      "cell_type": "code",
      "source": [
        "#сабмиты и таргеты\n",
        "id_for_target = pq.read_table(f'{LOCAL_DATA_PATH}/{TARGET_FILE}').to_pandas().query ('age >=19 ')\n",
        "id_for_submit = pq.read_table(f'{LOCAL_DATA_PATH}/{SUBMISSION_FILE}').to_pandas()"
      ],
      "metadata": {
        "id": "jWCpvZA08VsK"
      },
      "execution_count": null,
      "outputs": []
    },
    {
      "cell_type": "code",
      "source": [
        "id_for_submit['user_id'].nunique()"
      ],
      "metadata": {
        "colab": {
          "base_uri": "https://localhost:8080/"
        },
        "id": "8iMOMAYj9RRr",
        "outputId": "a6c569d4-592b-4f41-d584-e9044fdefe48"
      },
      "execution_count": null,
      "outputs": [
        {
          "output_type": "execute_result",
          "data": {
            "text/plain": [
              "144724"
            ]
          },
          "metadata": {},
          "execution_count": 6
        }
      ]
    },
    {
      "cell_type": "code",
      "source": [
        "id_for_target['user_id'].nunique()"
      ],
      "metadata": {
        "colab": {
          "base_uri": "https://localhost:8080/"
        },
        "id": "TOuejFuR9-t7",
        "outputId": "27927bfd-fe33-48ff-e44a-986953b375bb"
      },
      "execution_count": null,
      "outputs": [
        {
          "output_type": "execute_result",
          "data": {
            "text/plain": [
              "268922"
            ]
          },
          "metadata": {},
          "execution_count": 7
        }
      ]
    },
    {
      "cell_type": "markdown",
      "source": [
        "### Подгружаем файл с дииска\n",
        "Трайн и сабмиты отдельно.   \n",
        "Для age и is_male  отдельно."
      ],
      "metadata": {
        "id": "cTwXxcIApWVf"
      }
    },
    {
      "cell_type": "code",
      "source": [
        "#df_train = pd.read_pickle(f'{LOCAL_DATA_PATH}/train_df_all_parts.pkl')\n",
        "#df_train = pd.read_csv(f'{LOCAL_DATA_PATH}/train_df_all_parts.csv')   # csv  не подгруждается, не хватает памяти..\n"
      ],
      "metadata": {
        "id": "QVdbR2EJpeUx"
      },
      "execution_count": null,
      "outputs": []
    },
    {
      "cell_type": "code",
      "source": [
        "df_submit = pd.read_feather(f'{LOCAL_DATA_PATH}/submit_df_all_parts.feather')\n",
        "df_submit.info()"
      ],
      "metadata": {
        "colab": {
          "base_uri": "https://localhost:8080/"
        },
        "id": "AK4BKv4qpert",
        "outputId": "cbafe2b1-ade8-4863-8ad5-4e4efe41d7c2"
      },
      "execution_count": null,
      "outputs": [
        {
          "output_type": "stream",
          "name": "stdout",
          "text": [
            "<class 'pandas.core.frame.DataFrame'>\n",
            "RangeIndex: 144715 entries, 0 to 144714\n",
            "Columns: 506 entries, cpe_model_name to zyf03k.xyz\n",
            "dtypes: float64(504), int64(1), object(1)\n",
            "memory usage: 558.7+ MB\n"
          ]
        }
      ]
    },
    {
      "cell_type": "code",
      "source": [
        "df_submit.loc[df_submit['cpe_model_name'].isna() ,'cpe_model_name'] = '0'"
      ],
      "metadata": {
        "id": "tt5ZRyw5umTN"
      },
      "execution_count": null,
      "outputs": []
    },
    {
      "cell_type": "code",
      "source": [
        "df_submit.loc[df_submit['cpe_model_name'].isna() ,'cpe_model_name']"
      ],
      "metadata": {
        "colab": {
          "base_uri": "https://localhost:8080/"
        },
        "id": "6695Q4b8u999",
        "outputId": "42815ffd-efe0-47b7-fe47-df3ae1d98424"
      },
      "execution_count": null,
      "outputs": [
        {
          "output_type": "execute_result",
          "data": {
            "text/plain": [
              "Series([], Name: cpe_model_name, dtype: object)"
            ]
          },
          "metadata": {},
          "execution_count": 18
        }
      ]
    },
    {
      "cell_type": "code",
      "source": [
        "df_submit = df_submit.drop(['user_id'], axis=1)"
      ],
      "metadata": {
        "id": "FM8QolaavrUZ"
      },
      "execution_count": null,
      "outputs": []
    },
    {
      "cell_type": "code",
      "source": [],
      "metadata": {
        "colab": {
          "base_uri": "https://localhost:8080/"
        },
        "id": "x6_ZGJnWzU_A",
        "outputId": "9053470b-39f4-447f-d1a5-7bca03e5682d"
      },
      "execution_count": null,
      "outputs": [
        {
          "output_type": "execute_result",
          "data": {
            "text/plain": [
              "0         635.0\n",
              "1         132.0\n",
              "2         704.0\n",
              "3          82.0\n",
              "4         189.0\n",
              "          ...  \n",
              "144719      NaN\n",
              "144720      NaN\n",
              "144721      NaN\n",
              "144722      4.0\n",
              "144723      NaN\n",
              "Name: morning, Length: 144724, dtype: float64"
            ]
          },
          "metadata": {},
          "execution_count": 39
        }
      ]
    },
    {
      "cell_type": "code",
      "source": [
        "# проверим размерности\n",
        "#print ('df_train.shape =', df_train.shape)\n",
        "print ('df_submit.shape =', df_submit.shape)"
      ],
      "metadata": {
        "id": "XvLp8LnVfU2w",
        "colab": {
          "base_uri": "https://localhost:8080/"
        },
        "outputId": "31e549ad-2137-458b-c9b2-81c627085691"
      },
      "execution_count": null,
      "outputs": [
        {
          "output_type": "stream",
          "name": "stdout",
          "text": [
            "df_submit.shape = (144724, 2506)\n"
          ]
        }
      ]
    },
    {
      "cell_type": "markdown",
      "source": [
        "###Трайн,Тест Сплит для тестов моделей"
      ],
      "metadata": {
        "id": "iTPN0wZ4Sj5l"
      }
    },
    {
      "cell_type": "code",
      "source": [
        "################ age ###########"
      ],
      "metadata": {
        "id": "7KBS7c1xXD7u"
      },
      "execution_count": null,
      "outputs": []
    },
    {
      "cell_type": "code",
      "source": [
        "#сшиваем куски 0 и  5(чтобы увеличить выборку под тесты) РАЗДЕЛЬНЫЙ сабмит\n",
        "#df_train = pd.read_feather(f'{LOCAL_DATA_PATH}train_part_0.feather')\n",
        "df_train = pd.read_feather(f'{LOCAL_DATA_PATH}train_age_part_0.feather')\n",
        "print ('df_train.shape', df_train.shape)\n",
        "#df_ = pd.read_feather(f'{LOCAL_DATA_PATH}train_part_5.feather')\n",
        "df_ = pd.read_feather(f'{LOCAL_DATA_PATH}train_age_part_5.feather')\n",
        "df_train = pd.concat([df_train, df_], ignore_index=True)\n",
        "print ('df_train.shape', df_train.shape)"
      ],
      "metadata": {
        "colab": {
          "base_uri": "https://localhost:8080/"
        },
        "id": "8ZF6xPpuERka",
        "outputId": "9700c34a-eb5b-44b5-da79-8e80e16b4308"
      },
      "execution_count": null,
      "outputs": [
        {
          "output_type": "stream",
          "name": "stdout",
          "text": [
            "df_train.shape (27079, 1654)\n",
            "df_train.shape (54040, 1654)\n"
          ]
        }
      ]
    },
    {
      "cell_type": "code",
      "source": [
        "#сшиваем куски 0 и  5(чтобы увеличить выборку под тесты) ОБЩИЙ сабмит\n",
        "df_train = pd.read_feather(f'{LOCAL_DATA_PATH}train_part_0.feather')\n",
        "print ('df_train.shape', df_train.shape)\n",
        "df_ = pd.read_feather(f'{LOCAL_DATA_PATH}train_part_5.feather')\n",
        "df_train = pd.concat([df_train, df_], ignore_index=True)\n",
        "print ('df_train.shape', df_train.shape)"
      ],
      "metadata": {
        "colab": {
          "base_uri": "https://localhost:8080/"
        },
        "id": "ll7CT_OY45W4",
        "outputId": "1a65d25e-cabd-4731-b64e-278c2162f848"
      },
      "execution_count": null,
      "outputs": [
        {
          "output_type": "stream",
          "name": "stdout",
          "text": [
            "df_train.shape (15523, 2507)\n",
            "df_train.shape (30844, 2508)\n"
          ]
        }
      ]
    },
    {
      "cell_type": "code",
      "source": [
        "#df_train['model'] = df_train['cpe_manufacturer_name'] + ' ' + df_train['cpe_model_name']\n",
        "#df_train = df_train.drop(['cpe_model_name','cpe_manufacturer_name'], axis=1)"
      ],
      "metadata": {
        "id": "5fpKxkL1Ecvo"
      },
      "execution_count": null,
      "outputs": []
    },
    {
      "cell_type": "code",
      "source": [
        "#cat_features = ['cpe_model_name'] #'cpe_manufacturer_name',\n",
        "cat_features = ['cpe_model_name', 'cpe_model_os_type']\n",
        "#cat_features = ['model']"
      ],
      "metadata": {
        "id": "y7a8ekFSnsmt"
      },
      "execution_count": null,
      "outputs": []
    },
    {
      "cell_type": "code",
      "source": [
        "%%time\n",
        "#тест модели  22 мин два куска по 2500 примрено\n",
        "# 5000  33 мин\n",
        "# 1200   12 min\n",
        "x_train, x_test, y_train, y_test = train_test_split(\\\n",
        "    df_train.drop(['user_id', 'age', 'is_male'], axis = 1),   df_train['age'], test_size = 0.33, random_state = 777)\n",
        "    #df_train.drop(['user_id', 'age', 'is_male', 'cpe_model_name',\t'user_id',\t'day',\t'evening',\t'morning',\t'night'\t], axis = 1), df_train['age'], test_size = 0.33, random_state = 777)\n",
        "\n",
        "clf = CatBoostClassifier(task_type=\"GPU\" , depth= 6, l2_leaf_reg=1, learning_rate=0.1)\n",
        "clf.fit(x_train, y_train, cat_features=cat_features, verbose = False) #cat_features,\n",
        "print(metrics.classification_report(y_test, clf.predict(x_test), \\\n",
        "    target_names = [ '19-25','26-34', '36-45', '46-56', '56-65', '65+']))"
      ],
      "metadata": {
        "id": "rLczs18YEukz",
        "colab": {
          "base_uri": "https://localhost:8080/"
        },
        "outputId": "d8813b1a-8eaa-45d4-a50a-778b15c62595"
      },
      "execution_count": null,
      "outputs": [
        {
          "output_type": "stream",
          "name": "stdout",
          "text": [
            "              precision    recall  f1-score   support\n",
            "\n",
            "       19-25       0.57      0.33      0.42      2217\n",
            "       26-34       0.49      0.64      0.55      5776\n",
            "       36-45       0.40      0.51      0.45      5050\n",
            "       46-56       0.37      0.23      0.28      2832\n",
            "       56-65       0.44      0.20      0.27      1591\n",
            "         65+       0.48      0.03      0.06       368\n",
            "\n",
            "    accuracy                           0.45     17834\n",
            "   macro avg       0.46      0.32      0.34     17834\n",
            "weighted avg       0.45      0.45      0.43     17834\n",
            "\n",
            "CPU times: user 29 s, sys: 14.9 s, total: 43.9 s\n",
            "Wall time: 28.4 s\n"
          ]
        }
      ]
    },
    {
      "cell_type": "markdown",
      "source": [
        "Обычный режим :      \n",
        "CPU times: user 20min 12s, sys: 49.9 s, total: 21min 2s\n",
        "Wall time: 13min 19s       \n",
        "task_type=\"GPU\" (с включением его в коллбае)      \n",
        "CPU times: user 25.8 s, sys: 13.6 s, total: 39.5 s    \n",
        "Wall time: 32.5 s      \n",
        " OMG!!! и метрики улучшились!!"
      ],
      "metadata": {
        "id": "mBZXoZQDfF3Z"
      }
    },
    {
      "cell_type": "code",
      "source": [
        "print(f1_score(y_test, clf.predict(x_test), average='weighted'))\n",
        "age_f1 = f1_score(y_test, clf.predict(x_test), average='weighted')"
      ],
      "metadata": {
        "colab": {
          "base_uri": "https://localhost:8080/"
        },
        "id": "p8B_M4-QjjYF",
        "outputId": "04b0ad7c-a74d-4d2e-b0dd-204e0e2a68d4"
      },
      "execution_count": null,
      "outputs": [
        {
          "output_type": "stream",
          "name": "stdout",
          "text": [
            "0.42827795649469025\n"
          ]
        }
      ]
    },
    {
      "cell_type": "code",
      "source": [
        "#######  is MALE  ###########"
      ],
      "metadata": {
        "id": "RHX3R1XkXFrN"
      },
      "execution_count": 5,
      "outputs": []
    },
    {
      "cell_type": "code",
      "source": [
        "#сшиваем куски 0 и  5(чтобы увеличить выборку под тесты) РАЗДЕЛЬНЫЙ САБМИТ\n",
        "#df_train = pd.read_feather(f'{LOCAL_DATA_PATH}train_part_0.feather')\n",
        "df_train = pd.read_feather(f'{LOCAL_DATA_PATH}train_male_part_0.feather')\n",
        "print ('df_train.shape', df_train.shape)\n",
        "#df_ = pd.read_feather(f'{LOCAL_DATA_PATH}train_part_5.feather')\n",
        "df_ = pd.read_feather(f'{LOCAL_DATA_PATH}train_male_part_5.feather')\n",
        "df_train = pd.concat([df_train, df_], ignore_index=True)\n",
        "print ('df_train.shape', df_train.shape)\n",
        "del df_"
      ],
      "metadata": {
        "colab": {
          "base_uri": "https://localhost:8080/"
        },
        "id": "NMc3TVHfg-iJ",
        "outputId": "3b8ec574-21d3-4aae-f5f0-7ecdeda75020"
      },
      "execution_count": 12,
      "outputs": [
        {
          "output_type": "stream",
          "name": "stdout",
          "text": [
            "df_train.shape (27079, 1613)\n",
            "df_train.shape (54039, 1613)\n"
          ]
        }
      ]
    },
    {
      "cell_type": "code",
      "source": [
        "#сшиваем куски 0 и  5(чтобы увеличить выборку под тесты) Общий САБМИТ\n",
        "df_train = pd.read_feather(f'{LOCAL_DATA_PATH}train_part_0.feather')\n",
        "print ('df_train.shape', df_train.shape)\n",
        "df_ = pd.read_feather(f'{LOCAL_DATA_PATH}train_part_5.feather')\n",
        "df_train = pd.concat([df_train, df_], ignore_index=True)\n",
        "print ('df_train.shape', df_train.shape)"
      ],
      "metadata": {
        "colab": {
          "base_uri": "https://localhost:8080/"
        },
        "id": "ICIECSPD767H",
        "outputId": "725341e2-058c-4a07-a73c-dba67b309256"
      },
      "execution_count": null,
      "outputs": [
        {
          "output_type": "stream",
          "name": "stdout",
          "text": [
            "df_train.shape (15523, 2507)\n",
            "df_train.shape (30844, 2508)\n"
          ]
        }
      ]
    },
    {
      "cell_type": "code",
      "source": [
        "print(df_train['is_male'].unique())\n",
        "df_train = df_train[df_train['is_male'] != 'NA']\n",
        "print(df_train['is_male'].unique())"
      ],
      "metadata": {
        "colab": {
          "base_uri": "https://localhost:8080/"
        },
        "id": "wwQC1R61Nscx",
        "outputId": "54857f17-1827-4bb8-f79f-5fcab11be6c1"
      },
      "execution_count": 13,
      "outputs": [
        {
          "output_type": "stream",
          "name": "stdout",
          "text": [
            "['1' '0' 'NA']\n",
            "['1' '0']\n"
          ]
        }
      ]
    },
    {
      "cell_type": "code",
      "source": [
        "%%time\n",
        "#cat_features = ['cpe_model_name'] #, 'cpe_manufacturer_name' , 'cpe_model_os_type'] \n",
        "cat_features = ['cpe_model_name','cpe_model_os_type']\n",
        "\n",
        "x_train, x_test, y_train, y_test = train_test_split(\\\n",
        "   #df_train[['cpe_model_name',\t'user_id',\t'day',\t'evening',\t'morning',\t'night'\t]], df_train['is_male'], test_size = 0.33, random_state = 777)\n",
        "   df_train.drop(['user_id', 'age', 'is_male',], axis = 1), df_train['is_male'], test_size = 0.33, random_state = 777)\n",
        "\n",
        "\n",
        "clf_2 = CatBoostClassifier(depth=6, l2_leaf_reg=1, learning_rate=0.13)\n",
        "clf_2.fit(x_train, y_train, cat_features=cat_features, verbose = False ) #cat_features ,\n",
        "print(f'GINI по полу {2 * metrics.roc_auc_score(y_test, clf_2.predict_proba(x_test)[:,1]) - 1:2.3f}')"
      ],
      "metadata": {
        "colab": {
          "base_uri": "https://localhost:8080/"
        },
        "id": "I4dpGEXMqDAN",
        "outputId": "b7e322bd-9fb9-44e8-ec1b-22f28d84d632"
      },
      "execution_count": 17,
      "outputs": [
        {
          "output_type": "stream",
          "name": "stdout",
          "text": [
            "GINI по полу 0.715\n",
            "CPU times: user 4min 45s, sys: 6.19 s, total: 4min 51s\n",
            "Wall time: 2min 57s\n"
          ]
        }
      ]
    },
    {
      "cell_type": "code",
      "source": [
        "is_male_gini = 2 * roc_auc_score(y_test, clf_2.predict_proba(x_test)[:,1]) - 1\n",
        "is_male_gini"
      ],
      "metadata": {
        "colab": {
          "base_uri": "https://localhost:8080/"
        },
        "id": "o8RvSdIhzClz",
        "outputId": "f2d13de8-9e35-41ab-dd08-51815a01247b"
      },
      "execution_count": 18,
      "outputs": [
        {
          "output_type": "execute_result",
          "data": {
            "text/plain": [
              "0.7147781830159599"
            ]
          },
          "metadata": {},
          "execution_count": 18
        }
      ]
    },
    {
      "cell_type": "code",
      "source": [
        "# GPU 0.4979827571553026\n",
        "#  оыбч 0.5141124501715626 явно лучше"
      ],
      "metadata": {
        "id": "p_sr_zNreEmx"
      },
      "execution_count": null,
      "outputs": []
    },
    {
      "cell_type": "code",
      "source": [
        "#2 * f1_weighted(по 6 возрастным бакетам) + gini по полу.\n",
        "# на всей выборке получается лучше на 0.1 примерно 0.41*2 + 0.668 = 1,488 ,а  мой скор на всей выборке 1,588\n",
        "validation_score = 2 * age_f1 + is_male_gini\n",
        "validation_score\n",
        "\n"
      ],
      "metadata": {
        "colab": {
          "base_uri": "https://localhost:8080/"
        },
        "id": "0GzIz1I4qDQZ",
        "outputId": "c113ffe1-22a0-4ed4-cb2d-a112008965eb"
      },
      "execution_count": null,
      "outputs": [
        {
          "output_type": "execute_result",
          "data": {
            "text/plain": [
              "1.5659287604778327"
            ]
          },
          "metadata": {},
          "execution_count": 202
        }
      ]
    },
    {
      "cell_type": "markdown",
      "source": [
        "Итого тестов ( в бейз лане джини 0.665 , f1 w = 0.41)\n",
        "1. Отсеяно окло 90 технич, топ 2500, с каждого куска отлетает 400, они оставлены , но везде по урлам у них NaN     \n",
        "GINI по полу 0.668      \n",
        "f1 weighted avg 0.40  \n",
        "\n",
        "2. Отсеяно окло 124 технич(второй список тим), топ 2500, с каждого куска отлетает 430, они оставлены , но везде по урлам у них NaN     \n",
        "GINI по полу 0.669      \n",
        "f1 weighted avg 0.40 \n",
        "\n",
        "3. как 2,только 0 и 5 часть\n",
        "GINI по полу 0.684   \n",
        "f1 weighted avg 0.41\n",
        "\n",
        "4. Как 2 , только фрик изеров откинул. сразу пошло улчшение.   \n",
        "GINI по полу 0.694   \n",
        "f1 weighted avg 0.42\n",
        "5. Обрезано 1500, фрик юзеры откинуты. Все таки уменьшается. Поэотму  нужно больше урлов.    \n",
        "GINI по полу 0.691   \n",
        "f1 weighted avg 0.41\n",
        "6. взято 3000      как будто 2500 лучше зашло. попроубем снова\n",
        "GINI по полу 0.691   \n",
        "f1 weighted avg 0.41   \n",
        "\n",
        "7. Возвращаем 2500       \n",
        "f1 = 0.41652572833791973         \n",
        " 0.6937536797756576        \n",
        " 1.5268051364514972       \n",
        "8.  2200     \n",
        " 0.4215625331737689       \n",
        " 0.6937223527878662   \n",
        " 1.536847419135404      \n",
        "9. 2000    \n",
        "   1.5295346460897814    \n",
        "10. тпеерь 2200 просто по топ урлам(просто без выкида технич), модель обучается дольше       \n",
        "  0.42407319455382625      \n",
        "  0.7137759046995946    \n",
        "  1.561922293807247  \n",
        "11. 3500 урлов(без выкида техн)       \n",
        " 0.4237691751440371    \n",
        " 0.7100425918188447  \n",
        "\n",
        "12. только технические 124 шт     \n",
        " 0.3888162737403301  \n",
        " 0.5227557751781631 \n",
        "\n",
        "13. всего 500    \n",
        " 0.4171705859800364       \n",
        "   0.6971221241586638     \n",
        "   1.5314632961187367    \n",
        "\n",
        "14. 500 после выкида технических. пол тоже хуже становится  \n",
        "   0.6666198760291548     \n",
        "15. 5000 без отсева техн  \n",
        " 0.4232420184723813      \n",
        " 0.7100330883738457\n",
        "\n",
        "16. тупо откид первой сотни 100:2200    \n",
        "  0.393738607432108      \n",
        "  0.7053114477442413\n",
        "17.2200, только урлы оставали без дня и ночи и модели тел.\n",
        "  0.3817243605350264    тут отстает значит.\n",
        "  0.6995905155436426 тут очень хорошо\n",
        "18. Фичи импотантс_1 (от 2500 оставил не нулевые  веса фичи) age-1191 , male -1138)  \n",
        "  0.4251173311022155      \n",
        "  0.7147234246718353     \n",
        "19. Фичи импотант 1_1 (прогонка на фич_имп_1 и отброс нулевых 230 и 150 примерно)    \n",
        "  0.4242853084033863    \n",
        "  0.7142319276812232  немного ухудшилось непонтно как себя поведет на всей выборке.  \n",
        "20. как 19,только включил !!!!GPU в Кэт и Коллабе   \n",
        "  0.42712763345063454      \n",
        "  0.7014499770923197 немного ухудшилась еще..  надо проверить на всей выборке\n",
        "21. фич_ип3(1+2 и снова фич имп на них)    \n",
        "  cpe_modle_name     \n",
        "  0.4280966038090383    \n",
        "  0.7145228286492007   \n",
        "  0.7145228286492007   GPU тоже самое чт ли ?       \n",
        "   1.5707160362672772    \n",
        "     \n",
        "\n",
        "  cpe_modle_name+ manufactured    \n",
        "  0.428814616718996   >>>>> 1 место! но тут нет топ скора на всем дс    \n",
        "  0.7139946697686046      \n",
        "  1.5716239032065966          \n",
        "   \n",
        "   cpe_modle_name+ manufactured +os_type    \n",
        "  0.42523211526217675     \n",
        "  0.7195595716180927   >>>>>>>>>1 место !!!!!  \n",
        "  1.5700238021424462      \n",
        "\n",
        "  'cpe_model_name','cpe_model_os_type'      \n",
        "  0.42731406609825173      \n",
        "  0.7034540717275477 GPU (точно)     \n",
        "  .7197547395040331  без GPU     >>>>>>>>>1 место !!!!!     \n",
        "  1.5743828717005366          \n",
        "\n",
        "22. фич селект рандомом.1000 урлов топ.(но без GPU)       \n",
        "  0.4255568199390758   \n",
        "  0.7107815490375298     \n",
        "  1.5618951889156814\n",
        "\n",
        "22. фич селект рандомом.2000 урлов топ.(но без GPU)      \n",
        "  0.41974817120480534    \n",
        "  0.7100813993108459     \n",
        "  1.5495777417204566        \n",
        "23. фич селект рандомом.500 урлов топ.(но без GPU)      \n",
        "  0.41755896277101173     \n",
        "  0.7094910614526897\n",
        "  1.5446089869947133   \n",
        "24. фич селект рандомом.1200 урлов топ.(но без GPU)      \n",
        "  0.42117353148381204     \n",
        "  0.7111895226631166      \n",
        "  1.5535365856307406\n",
        "  \n",
        "25. фич_слект_1+ фич_рандом_серч_топ_1200  (тут самый большой скор на всем дс)  \n",
        "  0.42718752448217523      \n",
        "  0.7115537115134822     \n",
        "  1.5659287604778327  \n",
        "26. фич_слект_1+ фич_рандом_серч_топ_1200 + грид серч   \n",
        "{'depth': 6, 'l2_leaf_reg': 1, 'learning_rate': 0.1}    \n",
        " 0.42827795649469025   \n",
        "   depth=6, l2_leaf_reg=1, learning_rate=0.13     \n",
        "   0.7147781830159599\n"
      ],
      "metadata": {
        "id": "nOKduzro_rxF"
      }
    },
    {
      "cell_type": "code",
      "source": [
        "0.428814616718996*2 + 0.7139946697686046"
      ],
      "metadata": {
        "colab": {
          "base_uri": "https://localhost:8080/"
        },
        "id": "QBNCFo6Fco9o",
        "outputId": "e2eefeea-659d-4cad-f09e-51820e22fb92"
      },
      "execution_count": null,
      "outputs": [
        {
          "output_type": "execute_result",
          "data": {
            "text/plain": [
              "1.5716239032065966"
            ]
          },
          "metadata": {},
          "execution_count": 25
        }
      ]
    },
    {
      "cell_type": "code",
      "source": [
        "0.4280966038090383*2 + 0.7145228286492007"
      ],
      "metadata": {
        "colab": {
          "base_uri": "https://localhost:8080/"
        },
        "id": "4K_zPco8cs1I",
        "outputId": "9ddfe869-9414-4c5b-a010-5ce813e77f89"
      },
      "execution_count": null,
      "outputs": [
        {
          "output_type": "execute_result",
          "data": {
            "text/plain": [
              "1.5707160362672772"
            ]
          },
          "metadata": {},
          "execution_count": 26
        }
      ]
    },
    {
      "cell_type": "markdown",
      "source": [
        "### Значимость фичей.\n",
        "Отобрать списки тока значимых ? те же 2200 тока значимых"
      ],
      "metadata": {
        "id": "wrNQf1U0iRrE"
      }
    },
    {
      "cell_type": "code",
      "source": [
        "# подгружаем\n",
        "#df_train_feat_age = pd.read_feather(f'{LOCAL_DATA_PATH}train_feat_age_df_all_parts.feather')\n",
        "clf_age = joblib.load(f'{LOCAL_DATA_PATH}model_age_v13.pkl')"
      ],
      "metadata": {
        "id": "gzYa7wRf1sIT"
      },
      "execution_count": null,
      "outputs": []
    },
    {
      "cell_type": "code",
      "source": [
        "# важные в дф и сорт по убыванию\n",
        "feature_age_importance = pd.DataFrame(clf_age.get_feature_importance(), index=clf_age.feature_names_).reset_index()\n",
        "\n",
        "# более лайтова запись, индексы из модели и и берем , ен надо мучатсья ))\n",
        "#feature_importances = pd.Series(cat.feature_importances_, index=cat.feature_names_).sort_values(ascending=False)"
      ],
      "metadata": {
        "id": "gDhKwBmbgg-T"
      },
      "execution_count": null,
      "outputs": []
    },
    {
      "cell_type": "code",
      "source": [
        "features_not_url_list = ['cpe_model_name', 'cpe_model_os_type',\t'user_id',\t'day',\t'evening',\t'morning',\t'night']\n",
        "feature_age_importance.shape\n"
      ],
      "metadata": {
        "id": "UXekiZ7U0oRl",
        "colab": {
          "base_uri": "https://localhost:8080/"
        },
        "outputId": "50694817-aa9e-4cfb-82ce-1b9fa10e8d5f"
      },
      "execution_count": null,
      "outputs": [
        {
          "output_type": "execute_result",
          "data": {
            "text/plain": [
              "(1651, 2)"
            ]
          },
          "metadata": {},
          "execution_count": 183
        }
      ]
    },
    {
      "cell_type": "code",
      "source": [
        "feature_age_importance = feature_age_importance[feature_age_importance[0] > 0 ]\n",
        "feature_age_importance.shape"
      ],
      "metadata": {
        "colab": {
          "base_uri": "https://localhost:8080/"
        },
        "id": "nVt7ejTB1Jji",
        "outputId": "37e1ad54-a2ba-42f8-b9f1-9ad7e42bc027"
      },
      "execution_count": null,
      "outputs": [
        {
          "output_type": "execute_result",
          "data": {
            "text/plain": [
              "(1313, 2)"
            ]
          },
          "metadata": {},
          "execution_count": 184
        }
      ]
    },
    {
      "cell_type": "code",
      "source": [
        "feature_age_importance = feature_age_importance.sort_values(by=0, ascending=False).reset_index(drop=True)\n",
        "feature_age_importance = feature_age_importance.query('index not in@ features_not_url_list')\n",
        "feature_age_importance.head(10)"
      ],
      "metadata": {
        "colab": {
          "base_uri": "https://localhost:8080/",
          "height": 363
        },
        "id": "l6cV6P-9iY0m",
        "outputId": "72a3dcaf-d165-4b62-c374-951770313597"
      },
      "execution_count": null,
      "outputs": [
        {
          "output_type": "execute_result",
          "data": {
            "text/plain": [
              "                      index         0\n",
              "1                    vk.com  3.182558\n",
              "2           l.instagram.com  2.444828\n",
              "3       sun9-17.userapi.com  2.207640\n",
              "4         esia.gosuslugi.ru  2.191405\n",
              "6             instagram.com  1.985989\n",
              "7             ad.adriver.ru  1.897773\n",
              "8       sun9-29.userapi.com  1.736166\n",
              "9              whatsapp.com  1.503306\n",
              "10       online.sberbank.ru  1.465467\n",
              "11  syndication.realsrv.com  1.392055"
            ],
            "text/html": [
              "\n",
              "  <div id=\"df-fc41cfb3-a0aa-45c1-9945-59a873a97f37\">\n",
              "    <div class=\"colab-df-container\">\n",
              "      <div>\n",
              "<style scoped>\n",
              "    .dataframe tbody tr th:only-of-type {\n",
              "        vertical-align: middle;\n",
              "    }\n",
              "\n",
              "    .dataframe tbody tr th {\n",
              "        vertical-align: top;\n",
              "    }\n",
              "\n",
              "    .dataframe thead th {\n",
              "        text-align: right;\n",
              "    }\n",
              "</style>\n",
              "<table border=\"1\" class=\"dataframe\">\n",
              "  <thead>\n",
              "    <tr style=\"text-align: right;\">\n",
              "      <th></th>\n",
              "      <th>index</th>\n",
              "      <th>0</th>\n",
              "    </tr>\n",
              "  </thead>\n",
              "  <tbody>\n",
              "    <tr>\n",
              "      <th>1</th>\n",
              "      <td>vk.com</td>\n",
              "      <td>3.182558</td>\n",
              "    </tr>\n",
              "    <tr>\n",
              "      <th>2</th>\n",
              "      <td>l.instagram.com</td>\n",
              "      <td>2.444828</td>\n",
              "    </tr>\n",
              "    <tr>\n",
              "      <th>3</th>\n",
              "      <td>sun9-17.userapi.com</td>\n",
              "      <td>2.207640</td>\n",
              "    </tr>\n",
              "    <tr>\n",
              "      <th>4</th>\n",
              "      <td>esia.gosuslugi.ru</td>\n",
              "      <td>2.191405</td>\n",
              "    </tr>\n",
              "    <tr>\n",
              "      <th>6</th>\n",
              "      <td>instagram.com</td>\n",
              "      <td>1.985989</td>\n",
              "    </tr>\n",
              "    <tr>\n",
              "      <th>7</th>\n",
              "      <td>ad.adriver.ru</td>\n",
              "      <td>1.897773</td>\n",
              "    </tr>\n",
              "    <tr>\n",
              "      <th>8</th>\n",
              "      <td>sun9-29.userapi.com</td>\n",
              "      <td>1.736166</td>\n",
              "    </tr>\n",
              "    <tr>\n",
              "      <th>9</th>\n",
              "      <td>whatsapp.com</td>\n",
              "      <td>1.503306</td>\n",
              "    </tr>\n",
              "    <tr>\n",
              "      <th>10</th>\n",
              "      <td>online.sberbank.ru</td>\n",
              "      <td>1.465467</td>\n",
              "    </tr>\n",
              "    <tr>\n",
              "      <th>11</th>\n",
              "      <td>syndication.realsrv.com</td>\n",
              "      <td>1.392055</td>\n",
              "    </tr>\n",
              "  </tbody>\n",
              "</table>\n",
              "</div>\n",
              "      <button class=\"colab-df-convert\" onclick=\"convertToInteractive('df-fc41cfb3-a0aa-45c1-9945-59a873a97f37')\"\n",
              "              title=\"Convert this dataframe to an interactive table.\"\n",
              "              style=\"display:none;\">\n",
              "        \n",
              "  <svg xmlns=\"http://www.w3.org/2000/svg\" height=\"24px\"viewBox=\"0 0 24 24\"\n",
              "       width=\"24px\">\n",
              "    <path d=\"M0 0h24v24H0V0z\" fill=\"none\"/>\n",
              "    <path d=\"M18.56 5.44l.94 2.06.94-2.06 2.06-.94-2.06-.94-.94-2.06-.94 2.06-2.06.94zm-11 1L8.5 8.5l.94-2.06 2.06-.94-2.06-.94L8.5 2.5l-.94 2.06-2.06.94zm10 10l.94 2.06.94-2.06 2.06-.94-2.06-.94-.94-2.06-.94 2.06-2.06.94z\"/><path d=\"M17.41 7.96l-1.37-1.37c-.4-.4-.92-.59-1.43-.59-.52 0-1.04.2-1.43.59L10.3 9.45l-7.72 7.72c-.78.78-.78 2.05 0 2.83L4 21.41c.39.39.9.59 1.41.59.51 0 1.02-.2 1.41-.59l7.78-7.78 2.81-2.81c.8-.78.8-2.07 0-2.86zM5.41 20L4 18.59l7.72-7.72 1.47 1.35L5.41 20z\"/>\n",
              "  </svg>\n",
              "      </button>\n",
              "      \n",
              "  <style>\n",
              "    .colab-df-container {\n",
              "      display:flex;\n",
              "      flex-wrap:wrap;\n",
              "      gap: 12px;\n",
              "    }\n",
              "\n",
              "    .colab-df-convert {\n",
              "      background-color: #E8F0FE;\n",
              "      border: none;\n",
              "      border-radius: 50%;\n",
              "      cursor: pointer;\n",
              "      display: none;\n",
              "      fill: #1967D2;\n",
              "      height: 32px;\n",
              "      padding: 0 0 0 0;\n",
              "      width: 32px;\n",
              "    }\n",
              "\n",
              "    .colab-df-convert:hover {\n",
              "      background-color: #E2EBFA;\n",
              "      box-shadow: 0px 1px 2px rgba(60, 64, 67, 0.3), 0px 1px 3px 1px rgba(60, 64, 67, 0.15);\n",
              "      fill: #174EA6;\n",
              "    }\n",
              "\n",
              "    [theme=dark] .colab-df-convert {\n",
              "      background-color: #3B4455;\n",
              "      fill: #D2E3FC;\n",
              "    }\n",
              "\n",
              "    [theme=dark] .colab-df-convert:hover {\n",
              "      background-color: #434B5C;\n",
              "      box-shadow: 0px 1px 3px 1px rgba(0, 0, 0, 0.15);\n",
              "      filter: drop-shadow(0px 1px 2px rgba(0, 0, 0, 0.3));\n",
              "      fill: #FFFFFF;\n",
              "    }\n",
              "  </style>\n",
              "\n",
              "      <script>\n",
              "        const buttonEl =\n",
              "          document.querySelector('#df-fc41cfb3-a0aa-45c1-9945-59a873a97f37 button.colab-df-convert');\n",
              "        buttonEl.style.display =\n",
              "          google.colab.kernel.accessAllowed ? 'block' : 'none';\n",
              "\n",
              "        async function convertToInteractive(key) {\n",
              "          const element = document.querySelector('#df-fc41cfb3-a0aa-45c1-9945-59a873a97f37');\n",
              "          const dataTable =\n",
              "            await google.colab.kernel.invokeFunction('convertToInteractive',\n",
              "                                                     [key], {});\n",
              "          if (!dataTable) return;\n",
              "\n",
              "          const docLinkHtml = 'Like what you see? Visit the ' +\n",
              "            '<a target=\"_blank\" href=https://colab.research.google.com/notebooks/data_table.ipynb>data table notebook</a>'\n",
              "            + ' to learn more about interactive tables.';\n",
              "          element.innerHTML = '';\n",
              "          dataTable['output_type'] = 'display_data';\n",
              "          await google.colab.output.renderOutput(dataTable, element);\n",
              "          const docLink = document.createElement('div');\n",
              "          docLink.innerHTML = docLinkHtml;\n",
              "          element.appendChild(docLink);\n",
              "        }\n",
              "      </script>\n",
              "    </div>\n",
              "  </div>\n",
              "  "
            ]
          },
          "metadata": {},
          "execution_count": 174
        }
      ]
    },
    {
      "cell_type": "code",
      "source": [
        "feature_age_importance.loc[feature_age_importance[0] == 0 ,0].shape"
      ],
      "metadata": {
        "colab": {
          "base_uri": "https://localhost:8080/"
        },
        "id": "TSZrSJdJtbEc",
        "outputId": "bc8db42f-b587-4e19-d7f7-45cb7004ba8a"
      },
      "execution_count": null,
      "outputs": [
        {
          "output_type": "execute_result",
          "data": {
            "text/plain": [
              "(0,)"
            ]
          },
          "metadata": {},
          "execution_count": 185
        }
      ]
    },
    {
      "cell_type": "code",
      "source": [
        "feature_age_importance.loc[feature_age_importance[0] > 0.1 ,0]"
      ],
      "metadata": {
        "colab": {
          "base_uri": "https://localhost:8080/"
        },
        "id": "ewVEu1NW19Rk",
        "outputId": "b6f5e184-3840-4891-b4d4-82824fc8e3f3"
      },
      "execution_count": null,
      "outputs": [
        {
          "output_type": "execute_result",
          "data": {
            "text/plain": [
              "1      3.182558\n",
              "2      2.444828\n",
              "3      2.207640\n",
              "4      2.191405\n",
              "6      1.985989\n",
              "         ...   \n",
              "154    0.106191\n",
              "155    0.104817\n",
              "156    0.104102\n",
              "157    0.102965\n",
              "158    0.100374\n",
              "Name: 0, Length: 153, dtype: float64"
            ]
          },
          "metadata": {},
          "execution_count": 176
        }
      ]
    },
    {
      "cell_type": "code",
      "source": [
        "#feature_age_not_importance_1 = feature_age_importance.loc[feature_age_importance[0] == 0 ,'index']\n",
        "feature_age_importance_1 = feature_age_importance.loc[feature_age_importance[0] !=0 ,'index'] #<<<<\n",
        "print ('feature_age_importance_1.shape',feature_age_importance_1.shape)\n",
        "#print ('feature_age_not_importance_1.shape',feature_age_not_importance_1.shape)\n",
        "#feature_age_not_importance_1.to_csv(f'{LOCAL_DATA_PATH}feature_age_not_importance_5.csv',index=False)\n",
        "feature_age_importance_1.to_csv(f'{LOCAL_DATA_PATH}feature_age_importance_5.csv',index=False)"
      ],
      "metadata": {
        "id": "OShrPbLBqlAM",
        "colab": {
          "base_uri": "https://localhost:8080/"
        },
        "outputId": "fdbde4c9-a672-48e6-99a1-938b9f7c266c"
      },
      "execution_count": null,
      "outputs": [
        {
          "output_type": "stream",
          "name": "stdout",
          "text": [
            "feature_age_importance_1.shape (1313,)\n"
          ]
        }
      ]
    },
    {
      "cell_type": "code",
      "source": [
        "#male  ПОДГРУЖАЕМ\n",
        "#df_train_feat_is_male = pd.read_feather(f'{LOCAL_DATA_PATH}train_feat_is_male_df_all_parts.feather')\n",
        "# load\n",
        "clf_is_male = joblib.load(f'{LOCAL_DATA_PATH}model_is_male_v9.pkl')"
      ],
      "metadata": {
        "id": "1TEiMZ_auWbL"
      },
      "execution_count": null,
      "outputs": []
    },
    {
      "cell_type": "code",
      "source": [
        "# важные в дф и сорт по убыванию\n",
        "feature_male_importance = pd.DataFrame(clf_is_male.get_feature_importance(), index=clf_is_male.feature_names_).reset_index()"
      ],
      "metadata": {
        "id": "-MyKa1JMuWdc"
      },
      "execution_count": null,
      "outputs": []
    },
    {
      "cell_type": "code",
      "source": [
        "feature_male_importance = feature_male_importance.sort_values(by=0, ascending=False).reset_index(drop=True)\n",
        "feature_male_importance = feature_male_importance.query('index not in@ features_not_url_list')\n",
        "feature_male_importance.head(10)"
      ],
      "metadata": {
        "colab": {
          "base_uri": "https://localhost:8080/",
          "height": 363
        },
        "id": "EOEURL2iuWfx",
        "outputId": "889ae156-fe06-49ad-8f6d-2e57e2e90399"
      },
      "execution_count": null,
      "outputs": [
        {
          "output_type": "execute_result",
          "data": {
            "text/plain": [
              "                        index         0\n",
              "0     syndication.realsrv.com  5.223595\n",
              "1                baza.drom.ru  3.707607\n",
              "2                i.pinimg.com  3.390719\n",
              "3             l.instagram.com  2.790935\n",
              "4  rpc-php.trafficfactory.biz  2.287600\n",
              "5    drive2-ru.turbopages.org  2.033468\n",
              "6           s-cdn.sportbox.ru  1.842507\n",
              "7      avatars.mds.yandex.net  1.361886\n",
              "8                   drive2.ru  1.348615\n",
              "9                 i.ytimg.com  1.212685"
            ],
            "text/html": [
              "\n",
              "  <div id=\"df-ab1225b0-cddf-4edc-9023-7507544e4d46\">\n",
              "    <div class=\"colab-df-container\">\n",
              "      <div>\n",
              "<style scoped>\n",
              "    .dataframe tbody tr th:only-of-type {\n",
              "        vertical-align: middle;\n",
              "    }\n",
              "\n",
              "    .dataframe tbody tr th {\n",
              "        vertical-align: top;\n",
              "    }\n",
              "\n",
              "    .dataframe thead th {\n",
              "        text-align: right;\n",
              "    }\n",
              "</style>\n",
              "<table border=\"1\" class=\"dataframe\">\n",
              "  <thead>\n",
              "    <tr style=\"text-align: right;\">\n",
              "      <th></th>\n",
              "      <th>index</th>\n",
              "      <th>0</th>\n",
              "    </tr>\n",
              "  </thead>\n",
              "  <tbody>\n",
              "    <tr>\n",
              "      <th>0</th>\n",
              "      <td>syndication.realsrv.com</td>\n",
              "      <td>5.223595</td>\n",
              "    </tr>\n",
              "    <tr>\n",
              "      <th>1</th>\n",
              "      <td>baza.drom.ru</td>\n",
              "      <td>3.707607</td>\n",
              "    </tr>\n",
              "    <tr>\n",
              "      <th>2</th>\n",
              "      <td>i.pinimg.com</td>\n",
              "      <td>3.390719</td>\n",
              "    </tr>\n",
              "    <tr>\n",
              "      <th>3</th>\n",
              "      <td>l.instagram.com</td>\n",
              "      <td>2.790935</td>\n",
              "    </tr>\n",
              "    <tr>\n",
              "      <th>4</th>\n",
              "      <td>rpc-php.trafficfactory.biz</td>\n",
              "      <td>2.287600</td>\n",
              "    </tr>\n",
              "    <tr>\n",
              "      <th>5</th>\n",
              "      <td>drive2-ru.turbopages.org</td>\n",
              "      <td>2.033468</td>\n",
              "    </tr>\n",
              "    <tr>\n",
              "      <th>6</th>\n",
              "      <td>s-cdn.sportbox.ru</td>\n",
              "      <td>1.842507</td>\n",
              "    </tr>\n",
              "    <tr>\n",
              "      <th>7</th>\n",
              "      <td>avatars.mds.yandex.net</td>\n",
              "      <td>1.361886</td>\n",
              "    </tr>\n",
              "    <tr>\n",
              "      <th>8</th>\n",
              "      <td>drive2.ru</td>\n",
              "      <td>1.348615</td>\n",
              "    </tr>\n",
              "    <tr>\n",
              "      <th>9</th>\n",
              "      <td>i.ytimg.com</td>\n",
              "      <td>1.212685</td>\n",
              "    </tr>\n",
              "  </tbody>\n",
              "</table>\n",
              "</div>\n",
              "      <button class=\"colab-df-convert\" onclick=\"convertToInteractive('df-ab1225b0-cddf-4edc-9023-7507544e4d46')\"\n",
              "              title=\"Convert this dataframe to an interactive table.\"\n",
              "              style=\"display:none;\">\n",
              "        \n",
              "  <svg xmlns=\"http://www.w3.org/2000/svg\" height=\"24px\"viewBox=\"0 0 24 24\"\n",
              "       width=\"24px\">\n",
              "    <path d=\"M0 0h24v24H0V0z\" fill=\"none\"/>\n",
              "    <path d=\"M18.56 5.44l.94 2.06.94-2.06 2.06-.94-2.06-.94-.94-2.06-.94 2.06-2.06.94zm-11 1L8.5 8.5l.94-2.06 2.06-.94-2.06-.94L8.5 2.5l-.94 2.06-2.06.94zm10 10l.94 2.06.94-2.06 2.06-.94-2.06-.94-.94-2.06-.94 2.06-2.06.94z\"/><path d=\"M17.41 7.96l-1.37-1.37c-.4-.4-.92-.59-1.43-.59-.52 0-1.04.2-1.43.59L10.3 9.45l-7.72 7.72c-.78.78-.78 2.05 0 2.83L4 21.41c.39.39.9.59 1.41.59.51 0 1.02-.2 1.41-.59l7.78-7.78 2.81-2.81c.8-.78.8-2.07 0-2.86zM5.41 20L4 18.59l7.72-7.72 1.47 1.35L5.41 20z\"/>\n",
              "  </svg>\n",
              "      </button>\n",
              "      \n",
              "  <style>\n",
              "    .colab-df-container {\n",
              "      display:flex;\n",
              "      flex-wrap:wrap;\n",
              "      gap: 12px;\n",
              "    }\n",
              "\n",
              "    .colab-df-convert {\n",
              "      background-color: #E8F0FE;\n",
              "      border: none;\n",
              "      border-radius: 50%;\n",
              "      cursor: pointer;\n",
              "      display: none;\n",
              "      fill: #1967D2;\n",
              "      height: 32px;\n",
              "      padding: 0 0 0 0;\n",
              "      width: 32px;\n",
              "    }\n",
              "\n",
              "    .colab-df-convert:hover {\n",
              "      background-color: #E2EBFA;\n",
              "      box-shadow: 0px 1px 2px rgba(60, 64, 67, 0.3), 0px 1px 3px 1px rgba(60, 64, 67, 0.15);\n",
              "      fill: #174EA6;\n",
              "    }\n",
              "\n",
              "    [theme=dark] .colab-df-convert {\n",
              "      background-color: #3B4455;\n",
              "      fill: #D2E3FC;\n",
              "    }\n",
              "\n",
              "    [theme=dark] .colab-df-convert:hover {\n",
              "      background-color: #434B5C;\n",
              "      box-shadow: 0px 1px 3px 1px rgba(0, 0, 0, 0.15);\n",
              "      filter: drop-shadow(0px 1px 2px rgba(0, 0, 0, 0.3));\n",
              "      fill: #FFFFFF;\n",
              "    }\n",
              "  </style>\n",
              "\n",
              "      <script>\n",
              "        const buttonEl =\n",
              "          document.querySelector('#df-ab1225b0-cddf-4edc-9023-7507544e4d46 button.colab-df-convert');\n",
              "        buttonEl.style.display =\n",
              "          google.colab.kernel.accessAllowed ? 'block' : 'none';\n",
              "\n",
              "        async function convertToInteractive(key) {\n",
              "          const element = document.querySelector('#df-ab1225b0-cddf-4edc-9023-7507544e4d46');\n",
              "          const dataTable =\n",
              "            await google.colab.kernel.invokeFunction('convertToInteractive',\n",
              "                                                     [key], {});\n",
              "          if (!dataTable) return;\n",
              "\n",
              "          const docLinkHtml = 'Like what you see? Visit the ' +\n",
              "            '<a target=\"_blank\" href=https://colab.research.google.com/notebooks/data_table.ipynb>data table notebook</a>'\n",
              "            + ' to learn more about interactive tables.';\n",
              "          element.innerHTML = '';\n",
              "          dataTable['output_type'] = 'display_data';\n",
              "          await google.colab.output.renderOutput(dataTable, element);\n",
              "          const docLink = document.createElement('div');\n",
              "          docLink.innerHTML = docLinkHtml;\n",
              "          element.appendChild(docLink);\n",
              "        }\n",
              "      </script>\n",
              "    </div>\n",
              "  </div>\n",
              "  "
            ]
          },
          "metadata": {},
          "execution_count": 188
        }
      ]
    },
    {
      "cell_type": "code",
      "source": [
        "feature_male_importance.loc[feature_male_importance[0] == 0 ,0].shape\n"
      ],
      "metadata": {
        "colab": {
          "base_uri": "https://localhost:8080/"
        },
        "id": "wu2OxNyBV20p",
        "outputId": "ae5b9181-c871-4bf3-af8a-812a40015abd"
      },
      "execution_count": null,
      "outputs": [
        {
          "output_type": "execute_result",
          "data": {
            "text/plain": [
              "(529,)"
            ]
          },
          "metadata": {},
          "execution_count": 189
        }
      ]
    },
    {
      "cell_type": "code",
      "source": [
        "feature_male_importance.loc[feature_male_importance[0] > 0 ,0].shape"
      ],
      "metadata": {
        "colab": {
          "base_uri": "https://localhost:8080/"
        },
        "id": "bG95SIG84ES0",
        "outputId": "31c8dbbd-0688-44c2-aacb-ea28d40cc46a"
      },
      "execution_count": null,
      "outputs": [
        {
          "output_type": "execute_result",
          "data": {
            "text/plain": [
              "(1075,)"
            ]
          },
          "metadata": {},
          "execution_count": 190
        }
      ]
    },
    {
      "cell_type": "code",
      "source": [
        "# сохраняем важные и не важные  фичи на диск\n",
        "#feature_male_not_importance_1 = feature_male_importance.loc[feature_male_importance[0] == 0 ,'index']\n",
        "feature_male_importance_1 = feature_male_importance.loc[feature_male_importance[0] > 0 ,'index'] # <<<<<<<<\n",
        "print ('feature_male_importance_1.shape',feature_male_importance_1.shape)\n",
        "#print ('feature_male_not_importance_1.shape',feature_male_not_importance_1.shape)\n",
        "#feature_male_not_importance_1.to_csv(f'{LOCAL_DATA_PATH}feature_male_not_importance_4.csv', index=False)\n",
        "feature_male_importance_1.to_csv(f'{LOCAL_DATA_PATH}feature_male_importance_5.csv',index=False)"
      ],
      "metadata": {
        "id": "_AV4BLaByQq0",
        "colab": {
          "base_uri": "https://localhost:8080/"
        },
        "outputId": "20227779-a867-41ec-db4f-73db24d37348"
      },
      "execution_count": null,
      "outputs": [
        {
          "output_type": "stream",
          "name": "stdout",
          "text": [
            "feature_male_importance_1.shape (1075,)\n"
          ]
        }
      ]
    },
    {
      "cell_type": "code",
      "source": [
        "# 1 это выжимка из 2500 топ урлов не нулевые, ~ 1200 shape\n",
        "# 1_1 прогонка 1 (с улучшением метрики), не нулевые ~ 943 age shape, 1009 male.shape\n",
        "# 2 выжимка из 2500-5000 урлвов 1473 age, 1135 age\n",
        "# 3 это обьеденение 1 и 2 и выжимка из них фич_имп \n",
        "# 4 \n",
        "# 5 фич имп 1 +фич_рандом_серч_топ1200   выжимка   ~~ 1300_age  , ~~~~1075+male тут самый лучший скор получился\n",
        "# 6\n",
        "# \n",
        "#f'{LOCAL_DATA_PATH}feature_age_not_importance_1.csv'\n",
        "#f'{LOCAL_DATA_PATH}feature_age_importance_1.csv'"
      ],
      "metadata": {
        "id": "-uKTk1rOib9_"
      },
      "execution_count": null,
      "outputs": []
    },
    {
      "cell_type": "markdown",
      "source": [
        "### Грид серч ?"
      ],
      "metadata": {
        "id": "qZ0s7BEV-gT6"
      }
    },
    {
      "cell_type": "code",
      "source": [
        "cat_features = ['cpe_model_name', 'cpe_model_os_type']"
      ],
      "metadata": {
        "id": "mxVNNRbLOset"
      },
      "execution_count": 9,
      "outputs": []
    },
    {
      "cell_type": "code",
      "source": [
        "clf = CatBoostClassifier(task_type=\"GPU\",cat_features=cat_features)\n",
        "grid = {\n",
        "    'learning_rate': [0.03, 0.1],\n",
        "    'depth':[4, 6, 10],\n",
        "    'l2_leaf_reg': [1, 3, 5, 7, 9]\n",
        "}\n",
        "grid_search_results = clf.grid_search(grid, df_train.drop(['user_id', 'age', 'is_male'], axis = 1),   df_train['age'], shuffle=False, verbose=False, plot=False)"
      ],
      "metadata": {
        "id": "EMdSdcJBOwIw"
      },
      "execution_count": null,
      "outputs": []
    },
    {
      "cell_type": "code",
      "source": [
        "grid_search_results['params']\n",
        "#{'depth': 6, 'l2_leaf_reg': 1, 'learning_rate': 0.1}\n",
        "#немного улучшило метрику на age на валид , можно поробовать около этих параметров искать\n",
        "#"
      ],
      "metadata": {
        "colab": {
          "base_uri": "https://localhost:8080/"
        },
        "id": "X9CPv96aATNS",
        "outputId": "411d4f45-083f-429e-e88c-59d5b27a6835"
      },
      "execution_count": null,
      "outputs": [
        {
          "output_type": "execute_result",
          "data": {
            "text/plain": [
              "{'depth': 6, 'l2_leaf_reg': 1, 'learning_rate': 0.1}"
            ]
          },
          "metadata": {},
          "execution_count": 210
        }
      ]
    },
    {
      "cell_type": "code",
      "source": [
        "%%time\n",
        "clf = CatBoostClassifier(cat_features=cat_features, silent=True)\n",
        "grid = {\n",
        "    'learning_rate': [0.12, 0.13, 0.14],\n",
        "    'depth':[ 5, 6, 7],\n",
        "    'l2_leaf_reg': [1]\n",
        "}\n",
        "grid_search_results = clf.grid_search(grid, df_train.drop(['user_id', 'age', 'is_male'], axis = 1),   df_train['is_male'], shuffle=False, verbose=False, plot=False)"
      ],
      "metadata": {
        "colab": {
          "base_uri": "https://localhost:8080/"
        },
        "id": "raYyy7ZSOawg",
        "outputId": "06267252-7e8c-4da7-a773-b5d559df39cb"
      },
      "execution_count": null,
      "outputs": [
        {
          "output_type": "stream",
          "name": "stdout",
          "text": [
            "\n",
            "bestTest = 0.4736763411\n",
            "bestIteration = 998\n",
            "\n",
            "\n",
            "bestTest = 0.4733530519\n",
            "bestIteration = 999\n",
            "\n",
            "\n",
            "bestTest = 0.4739962747\n",
            "bestIteration = 984\n",
            "\n",
            "\n",
            "bestTest = 0.4710122361\n",
            "bestIteration = 964\n",
            "\n",
            "\n",
            "bestTest = 0.4716522462\n",
            "bestIteration = 989\n",
            "\n",
            "\n",
            "bestTest = 0.4727713748\n",
            "bestIteration = 899\n",
            "\n",
            "\n",
            "bestTest = 0.4723531626\n",
            "bestIteration = 999\n",
            "\n",
            "\n",
            "bestTest = 0.4752028527\n",
            "bestIteration = 971\n",
            "\n",
            "\n",
            "bestTest = 0.4734754711\n",
            "bestIteration = 766\n",
            "\n",
            "Training on fold [0/3]\n",
            "\n",
            "bestTest = 0.5011716404\n",
            "bestIteration = 974\n",
            "\n",
            "Training on fold [1/3]\n",
            "\n",
            "bestTest = 0.4233292304\n",
            "bestIteration = 904\n",
            "\n",
            "Training on fold [2/3]\n",
            "\n",
            "bestTest = 0.5002691637\n",
            "bestIteration = 998\n",
            "\n"
          ]
        }
      ]
    },
    {
      "cell_type": "code",
      "source": [
        "grid_search_results['params']\n",
        "# {'depth': 6, 'l2_leaf_reg': 1, 'learning_rate': 0.13}"
      ],
      "metadata": {
        "id": "zZR6igWJOazW",
        "colab": {
          "base_uri": "https://localhost:8080/"
        },
        "outputId": "79354dfc-b327-4ad5-c75b-231bfdfbc4ae"
      },
      "execution_count": 11,
      "outputs": [
        {
          "output_type": "execute_result",
          "data": {
            "text/plain": [
              "{'depth': 6, 'l2_leaf_reg': 1, 'learning_rate': 0.13}"
            ]
          },
          "metadata": {},
          "execution_count": 11
        }
      ]
    },
    {
      "cell_type": "markdown",
      "source": [
        "## ML age"
      ],
      "metadata": {
        "id": "VT_DX4zYpgec"
      }
    },
    {
      "cell_type": "code",
      "source": [
        "# загружаем файл для age\n",
        "#df_train_feat_age = pd.read_feather(f'{LOCAL_DATA_PATH}train_feat_age_df_all_parts.feather')\n",
        "#df_train_target_age = pd.read_csv(f'{LOCAL_DATA_PATH}train_target_age_df_all_parts.csv')\n",
        "\n"
      ],
      "metadata": {
        "id": "hgcQ12pmJrxC"
      },
      "execution_count": null,
      "outputs": []
    },
    {
      "cell_type": "code",
      "source": [
        "#cat_features = ['cpe_manufacturer_name',\t'cpe_model_os_type' ] #\t,\n",
        "cat_features = ['cpe_model_name'] \n"
      ],
      "metadata": {
        "id": "xCCKSLjWIyRe"
      },
      "execution_count": null,
      "outputs": []
    },
    {
      "cell_type": "markdown",
      "source": [
        "### Обучение на всей трайн выборке для сабмитов"
      ],
      "metadata": {
        "id": "owDcR7hEQau3"
      }
    },
    {
      "cell_type": "code",
      "source": [
        "# подгружаем\n",
        "df_train_feat_age = pd.read_feather(f'{LOCAL_DATA_PATH}train_feat_age_df_all_parts.feather')\n",
        "df_train_target_age = pd.read_csv(f'{LOCAL_DATA_PATH}train_target_age_df_all_parts.csv')"
      ],
      "metadata": {
        "id": "iHBgrzzC05-X"
      },
      "execution_count": null,
      "outputs": []
    },
    {
      "cell_type": "code",
      "source": [
        "#cat_features = ['cpe_model_name'] \n",
        "cat_features = ['cpe_model_name', 'cpe_model_os_type']"
      ],
      "metadata": {
        "id": "c_B00DtB3vRW"
      },
      "execution_count": null,
      "outputs": []
    },
    {
      "cell_type": "code",
      "source": [
        "df_train_feat_age.shape"
      ],
      "metadata": {
        "colab": {
          "base_uri": "https://localhost:8080/"
        },
        "id": "uFa9doqwDDHr",
        "outputId": "673df2c3-8c64-4c23-a8c9-1b4799b30b42"
      },
      "execution_count": null,
      "outputs": [
        {
          "output_type": "execute_result",
          "data": {
            "text/plain": [
              "(269969, 949)"
            ]
          },
          "metadata": {},
          "execution_count": 104
        }
      ]
    },
    {
      "cell_type": "code",
      "source": [
        "%%time\n",
        "# финальное обучение для сабмита age\n",
        "#Wall time: 1h 38min 10s для 1к с чем то урлов\n",
        "# 2500 урлов на GPU 3 мин вместо 3,5 часа ан обычном\n",
        "clf = CatBoostClassifier(task_type=\"GPU\")\n",
        "clf.fit(df_train_feat_age, df_train_target_age, cat_features, verbose = False)\n",
        "\n"
      ],
      "metadata": {
        "colab": {
          "base_uri": "https://localhost:8080/"
        },
        "id": "gtARWd5qb6w7",
        "outputId": "b3a0b5fd-15a5-4dd2-d71a-82da5b8f7754"
      },
      "execution_count": null,
      "outputs": [
        {
          "output_type": "stream",
          "name": "stdout",
          "text": [
            "CPU times: user 1min 12s, sys: 26.8 s, total: 1min 39s\n",
            "Wall time: 1min 10s\n"
          ]
        },
        {
          "output_type": "execute_result",
          "data": {
            "text/plain": [
              "<catboost.core.CatBoostClassifier at 0x7f7461b263d0>"
            ]
          },
          "metadata": {},
          "execution_count": 144
        }
      ]
    },
    {
      "cell_type": "code",
      "source": [
        "##########################\n",
        "# SAVE-LOAD using joblib #\n",
        "##########################\n",
        "# v5 features important_1\n",
        "# v5.1 features important_1   age на GPU\n",
        "# v6 второй кусок 2500-5000 топ урлов \n",
        "# v7 фич_имп_1+2\n",
        "# v8 фич_имп_3 (отжим 1+2) надо отправить \n",
        "# v9 5001-7500 для фич выжимки\n",
        "# v10 фич_имп с помощью рандом-цикла, топ 1200\n",
        "# v11 eatures important_1_1 на ГПЮ\n",
        "# v12 как 11только age<19 оставил в трайн выборке\n",
        "# v13 'Это фич_имп_1 | фич_рандом_сейрч_топ 1200\n",
        "joblib.dump(clf, f'{LOCAL_DATA_PATH}model_age_v13.pkl')"
      ],
      "metadata": {
        "colab": {
          "base_uri": "https://localhost:8080/"
        },
        "id": "QCq0SRbCAF1R",
        "outputId": "668de256-f1bb-4b68-bd9c-2538d031c72a"
      },
      "execution_count": null,
      "outputs": [
        {
          "output_type": "execute_result",
          "data": {
            "text/plain": [
              "['/content/drive/MyDrive/DS/MTS/model_age_v13.pkl']"
            ]
          },
          "metadata": {},
          "execution_count": 145
        }
      ]
    },
    {
      "cell_type": "code",
      "source": [
        "del df_train_feat_age\n",
        "del df_train_target_age"
      ],
      "metadata": {
        "id": "uX3ufrMKFuUX"
      },
      "execution_count": null,
      "outputs": []
    },
    {
      "cell_type": "code",
      "source": [
        "# load\n",
        "clf_age = joblib.load(f'{LOCAL_DATA_PATH}model_age_v13.pkl')"
      ],
      "metadata": {
        "id": "UgTjcRx1MegA"
      },
      "execution_count": null,
      "outputs": []
    },
    {
      "cell_type": "code",
      "source": [
        "# предикты возраста для  раздельного сабмита\n",
        "df_submit_age = pd.read_feather(f'{LOCAL_DATA_PATH}/submit_age_df_all_parts.feather')\n",
        "predict_age = clf_age.predict(df_submit_age)"
      ],
      "metadata": {
        "id": "H_ZQsmpYcb1x"
      },
      "execution_count": null,
      "outputs": []
    },
    {
      "cell_type": "code",
      "source": [
        "# для совмещенного сабмит \n",
        "df_submit = pd.read_feather(f'{LOCAL_DATA_PATH}/submit_df_all_parts.feather')\n",
        "predict_age = clf_age.predict(df_submit)"
      ],
      "metadata": {
        "id": "E91RkR0pw2AR"
      },
      "execution_count": null,
      "outputs": []
    },
    {
      "cell_type": "code",
      "source": [
        "print(predict_age.shape)\n",
        "print(df_submit_age['user_id'].shape)"
      ],
      "metadata": {
        "colab": {
          "base_uri": "https://localhost:8080/"
        },
        "id": "T7T9E6rzgkFq",
        "outputId": "b336cf52-ab4c-47d7-fd5e-15ffed5abe2a"
      },
      "execution_count": null,
      "outputs": [
        {
          "output_type": "stream",
          "name": "stdout",
          "text": [
            "(144719, 1)\n",
            "(144719,)\n"
          ]
        }
      ]
    },
    {
      "cell_type": "markdown",
      "source": [
        "## ML is_male\n"
      ],
      "metadata": {
        "id": "0x-MzRd4pw5B"
      }
    },
    {
      "cell_type": "markdown",
      "source": [
        "### Обучение на всей выбоке для сабмитов"
      ],
      "metadata": {
        "id": "vuPtGDq5wRR4"
      }
    },
    {
      "cell_type": "code",
      "source": [
        "df_train_feat_is_male = pd.read_feather(f'{LOCAL_DATA_PATH}train_feat_is_male_df_all_parts.feather')\n",
        "df_train_target_is_male = pd.read_csv(f'{LOCAL_DATA_PATH}train_target_is_male_df_all_parts.csv')"
      ],
      "metadata": {
        "id": "qsiTjyAA4jag"
      },
      "execution_count": null,
      "outputs": []
    },
    {
      "cell_type": "code",
      "source": [
        "#cat_features = ['cpe_model_name'] \n",
        "cat_features = ['cpe_model_name', 'cpe_model_os_type']"
      ],
      "metadata": {
        "id": "b-hP5nifOwjH"
      },
      "execution_count": null,
      "outputs": []
    },
    {
      "cell_type": "code",
      "source": [
        "%%time\n",
        "# обучения для сабмита на всей выборке\n",
        "clf = CatBoostClassifier()\n",
        "clf.fit(df_train_feat_is_male, df_train_target_is_male, cat_features , verbose = False )\n"
      ],
      "metadata": {
        "colab": {
          "base_uri": "https://localhost:8080/"
        },
        "id": "jrQ9e7dxqCah",
        "outputId": "a02f96bb-cf74-4f68-db85-698f31b05ab5"
      },
      "execution_count": null,
      "outputs": [
        {
          "output_type": "stream",
          "name": "stdout",
          "text": [
            "CPU times: user 36min 18s, sys: 13.7 s, total: 36min 32s\n",
            "Wall time: 21min 26s\n"
          ]
        },
        {
          "output_type": "execute_result",
          "data": {
            "text/plain": [
              "<catboost.core.CatBoostClassifier at 0x7f7221d41640>"
            ]
          },
          "metadata": {},
          "execution_count": 149
        }
      ]
    },
    {
      "cell_type": "code",
      "source": [
        "##########################\n",
        "# SAVE-LOAD using joblib #\n",
        "##########################\n",
        "# v5 features important_1 (~~~1200)\n",
        "# v5.\n",
        "# v6 второй кусок 2500-5000 топ урлов \n",
        "# v7 фич имп 1+2 \n",
        "# v8 (1+2).faeat_imp\n",
        "# v9 5001-7500\n",
        "# v10  фич имп  рандом топ 1200\n",
        "joblib.dump(clf, f'{LOCAL_DATA_PATH}model_is_male_v13.pkl')\n"
      ],
      "metadata": {
        "id": "z3upHH2VOvh3",
        "colab": {
          "base_uri": "https://localhost:8080/"
        },
        "outputId": "500c5065-060f-4e8c-f783-1edbd562b275"
      },
      "execution_count": null,
      "outputs": [
        {
          "output_type": "execute_result",
          "data": {
            "text/plain": [
              "['/content/drive/MyDrive/DS/MTS/model_is_male_v13.pkl']"
            ]
          },
          "metadata": {},
          "execution_count": 150
        }
      ]
    },
    {
      "cell_type": "code",
      "source": [
        "del df_train_feat_is_male\n",
        "del df_train_target_is_male"
      ],
      "metadata": {
        "id": "7nojl1PjSFwP"
      },
      "execution_count": null,
      "outputs": []
    },
    {
      "cell_type": "code",
      "source": [
        "# load\n",
        "clf_is_male = joblib.load(f'{LOCAL_DATA_PATH}model_is_male_v13.pkl')"
      ],
      "metadata": {
        "id": "C-92fm1xO7Ae"
      },
      "execution_count": null,
      "outputs": []
    },
    {
      "cell_type": "code",
      "source": [
        "# для раздельного сабмит age &  male\n",
        "df_submit_male = pd.read_feather(f'{LOCAL_DATA_PATH}/submit_male_df_all_parts.feather')\n",
        "predict_is_male_proba = clf_is_male.predict_proba(df_submit_male)"
      ],
      "metadata": {
        "id": "brrrkeEIps7U"
      },
      "execution_count": null,
      "outputs": []
    },
    {
      "cell_type": "code",
      "source": [
        "# для совмещенного  сабмит age &  male\n",
        "df_submit= pd.read_feather(f'{LOCAL_DATA_PATH}/submit_df_all_parts.feather')\n",
        "predict_is_male_proba = clf_is_male.predict_proba(df_submit)"
      ],
      "metadata": {
        "id": "VybhN6Vewgon"
      },
      "execution_count": null,
      "outputs": []
    },
    {
      "cell_type": "code",
      "source": [
        "predict_is_male_proba[:,0].shape"
      ],
      "metadata": {
        "id": "k9nh_wXSxqit",
        "colab": {
          "base_uri": "https://localhost:8080/"
        },
        "outputId": "944f5292-e2a4-4df3-83a1-59cb03356c7b"
      },
      "execution_count": null,
      "outputs": [
        {
          "output_type": "execute_result",
          "data": {
            "text/plain": [
              "(144713,)"
            ]
          },
          "metadata": {},
          "execution_count": 81
        }
      ]
    },
    {
      "cell_type": "code",
      "source": [
        "df_submit_male['user_id'].shape"
      ],
      "metadata": {
        "colab": {
          "base_uri": "https://localhost:8080/"
        },
        "id": "tNQDwrDntbZ9",
        "outputId": "bf7b744f-be2f-4ab2-86da-3e9ec806a962"
      },
      "execution_count": null,
      "outputs": [
        {
          "output_type": "execute_result",
          "data": {
            "text/plain": [
              "(144723,)"
            ]
          },
          "metadata": {},
          "execution_count": 157
        }
      ]
    },
    {
      "cell_type": "markdown",
      "source": [
        "## Заполняем id_to_submit"
      ],
      "metadata": {
        "id": "af4DlhRVxrYq"
      }
    },
    {
      "cell_type": "code",
      "source": [
        "#это временный дата сет, т к у нас нет некоторого числа user_id  \n",
        "a = pd.DataFrame (df_submit_age['user_id'])\n",
        "b = pd.DataFrame (df_submit_male['user_id'])\n",
        "#раздельно\n",
        "a['age'] =  predict_age\n",
        "b['is_male'] = predict_is_male_proba[:,1]"
      ],
      "metadata": {
        "id": "jS_9humru5_f"
      },
      "execution_count": null,
      "outputs": []
    },
    {
      "cell_type": "code",
      "source": [
        "a['user_id'].value_counts().head(5)"
      ],
      "metadata": {
        "colab": {
          "base_uri": "https://localhost:8080/"
        },
        "id": "ngMyY9HbdV6-",
        "outputId": "542b7d42-ecd9-4f20-9daa-7ef3d86bf770"
      },
      "execution_count": null,
      "outputs": [
        {
          "output_type": "execute_result",
          "data": {
            "text/plain": [
              "45098     1\n",
              "361153    1\n",
              "11961     1\n",
              "35203     1\n",
              "269706    1\n",
              "Name: user_id, dtype: int64"
            ]
          },
          "metadata": {},
          "execution_count": 163
        }
      ]
    },
    {
      "cell_type": "code",
      "source": [
        "print (b[b['user_id'] == 406224].index)\n",
        "print (b[b['user_id'] == 85148].index)\n",
        "print (b[b['user_id'] == 53540].index)\n"
      ],
      "metadata": {
        "colab": {
          "base_uri": "https://localhost:8080/"
        },
        "id": "NAxqb_kxdxso",
        "outputId": "f3c0ce23-d750-4844-a356-0f6412c14bdf"
      },
      "execution_count": null,
      "outputs": [
        {
          "output_type": "stream",
          "name": "stdout",
          "text": [
            "Int64Index([117206, 117207], dtype='int64')\n",
            "Int64Index([45165, 45166], dtype='int64')\n",
            "Int64Index([61182, 61183], dtype='int64')\n"
          ]
        }
      ]
    },
    {
      "cell_type": "code",
      "source": [
        "# какие то полные дубликаты залетели 3 шт...появились посл е добавления os_type\n",
        "a = a.drop_duplicates()\n",
        "b = b.drop_duplicates()"
      ],
      "metadata": {
        "id": "gWex0RpHtvvh"
      },
      "execution_count": null,
      "outputs": []
    },
    {
      "cell_type": "code",
      "source": [
        "b = b.drop(index=[117206])"
      ],
      "metadata": {
        "id": "BOIhDLNvetzh"
      },
      "execution_count": null,
      "outputs": []
    },
    {
      "cell_type": "code",
      "source": [
        "#совмещно\n",
        "a = pd.DataFrame (df_submit['user_id'])\n",
        "a['age'] =  predict_age\n",
        "a['is_male'] = predict_is_male_proba[:,1]"
      ],
      "metadata": {
        "colab": {
          "base_uri": "https://localhost:8080/",
          "height": 217
        },
        "id": "F-w9T3pjxcnO",
        "outputId": "f24e662f-d287-4bca-ecd1-11af150eaa88"
      },
      "execution_count": null,
      "outputs": [
        {
          "output_type": "error",
          "ename": "NameError",
          "evalue": "ignored",
          "traceback": [
            "\u001b[0;31m---------------------------------------------------------------------------\u001b[0m",
            "\u001b[0;31mNameError\u001b[0m                                 Traceback (most recent call last)",
            "\u001b[0;32m<ipython-input-33-23d88efae29d>\u001b[0m in \u001b[0;36m<module>\u001b[0;34m\u001b[0m\n\u001b[1;32m      1\u001b[0m \u001b[0;31m#совмещно\u001b[0m\u001b[0;34m\u001b[0m\u001b[0;34m\u001b[0m\u001b[0;34m\u001b[0m\u001b[0m\n\u001b[0;32m----> 2\u001b[0;31m \u001b[0ma\u001b[0m \u001b[0;34m=\u001b[0m \u001b[0mpd\u001b[0m\u001b[0;34m.\u001b[0m\u001b[0mDataFrame\u001b[0m \u001b[0;34m(\u001b[0m\u001b[0mdf_submit\u001b[0m\u001b[0;34m[\u001b[0m\u001b[0;34m'user_id'\u001b[0m\u001b[0;34m]\u001b[0m\u001b[0;34m)\u001b[0m\u001b[0;34m\u001b[0m\u001b[0;34m\u001b[0m\u001b[0m\n\u001b[0m\u001b[1;32m      3\u001b[0m \u001b[0ma\u001b[0m\u001b[0;34m[\u001b[0m\u001b[0;34m'age'\u001b[0m\u001b[0;34m]\u001b[0m \u001b[0;34m=\u001b[0m  \u001b[0mpredict_age\u001b[0m\u001b[0;34m\u001b[0m\u001b[0;34m\u001b[0m\u001b[0m\n\u001b[1;32m      4\u001b[0m \u001b[0ma\u001b[0m\u001b[0;34m[\u001b[0m\u001b[0;34m'is_male'\u001b[0m\u001b[0;34m]\u001b[0m \u001b[0;34m=\u001b[0m \u001b[0mpredict_is_male_proba\u001b[0m\u001b[0;34m[\u001b[0m\u001b[0;34m:\u001b[0m\u001b[0;34m,\u001b[0m\u001b[0;36m1\u001b[0m\u001b[0;34m]\u001b[0m\u001b[0;34m\u001b[0m\u001b[0;34m\u001b[0m\u001b[0m\n",
            "\u001b[0;31mNameError\u001b[0m: name 'df_submit' is not defined"
          ]
        }
      ]
    },
    {
      "cell_type": "code",
      "source": [
        "id_to_submit = pq.read_table(f'{LOCAL_DATA_PATH}/{SUBMISSION_FILE}').to_pandas().reset_index(drop=True)\n",
        "id_to_submit.shape"
      ],
      "metadata": {
        "id": "72kFBmkSw-xP",
        "colab": {
          "base_uri": "https://localhost:8080/"
        },
        "outputId": "4ad58379-26c8-49dc-a929-5eb47cbf64a7"
      },
      "execution_count": null,
      "outputs": [
        {
          "output_type": "execute_result",
          "data": {
            "text/plain": [
              "(144724, 1)"
            ]
          },
          "metadata": {},
          "execution_count": 164
        }
      ]
    },
    {
      "cell_type": "code",
      "source": [
        "# когда все user_id  в предиктах\n",
        "#id_to_submit['is_male'] = predict_is_male_proba[:,1]\n",
        "#id_to_submit['age'] =  predict_age"
      ],
      "metadata": {
        "id": "_P1F3Wzw5Njl"
      },
      "execution_count": null,
      "outputs": []
    },
    {
      "cell_type": "code",
      "source": [
        "#этот мердж правльный РАЗДЕЛЬНЫЙ сабмит\n",
        "id_to_submit = id_to_submit.merge(a,how='outer', on='user_id')\n",
        "id_to_submit = id_to_submit.merge(b,how='outer', on='user_id')"
      ],
      "metadata": {
        "id": "XY16xxOPyDOf"
      },
      "execution_count": null,
      "outputs": []
    },
    {
      "cell_type": "code",
      "source": [
        "id_to_submit.info()"
      ],
      "metadata": {
        "colab": {
          "base_uri": "https://localhost:8080/"
        },
        "id": "E-eOGPOXyhUI",
        "outputId": "fb00ac3b-b733-41ad-e1b8-c94c9b1ae98d"
      },
      "execution_count": null,
      "outputs": [
        {
          "output_type": "stream",
          "name": "stdout",
          "text": [
            "<class 'pandas.core.frame.DataFrame'>\n",
            "Int64Index: 144724 entries, 0 to 144723\n",
            "Data columns (total 3 columns):\n",
            " #   Column   Non-Null Count   Dtype  \n",
            "---  ------   --------------   -----  \n",
            " 0   user_id  144724 non-null  int64  \n",
            " 1   age      144716 non-null  float64\n",
            " 2   is_male  144720 non-null  float64\n",
            "dtypes: float64(2), int64(1)\n",
            "memory usage: 4.4 MB\n"
          ]
        }
      ]
    },
    {
      "cell_type": "code",
      "source": [
        "#заполним пропуски is_male = 0.511735 , age = 2 or 3"
      ],
      "metadata": {
        "id": "V6IXPKnFzQVw"
      },
      "execution_count": null,
      "outputs": []
    },
    {
      "cell_type": "code",
      "source": [
        "#закрывем na\n",
        "id_to_submit.loc[id_to_submit['age'].isna(),'age'] = 2\n",
        "id_to_submit.loc[id_to_submit['is_male'].isna(),'is_male'] = 0.51\n",
        "id_to_submit['age'] = id_to_submit['age'].astype(int)"
      ],
      "metadata": {
        "id": "ONvVmORxzxjQ"
      },
      "execution_count": null,
      "outputs": []
    },
    {
      "cell_type": "code",
      "source": [
        "#144724 \n",
        "id_to_submit.info()"
      ],
      "metadata": {
        "colab": {
          "base_uri": "https://localhost:8080/"
        },
        "id": "fu0sfFzlzBhw",
        "outputId": "46e6879a-a547-4164-a057-39b9ccd6f266"
      },
      "execution_count": null,
      "outputs": [
        {
          "output_type": "stream",
          "name": "stdout",
          "text": [
            "<class 'pandas.core.frame.DataFrame'>\n",
            "Int64Index: 144724 entries, 0 to 144723\n",
            "Data columns (total 3 columns):\n",
            " #   Column   Non-Null Count   Dtype  \n",
            "---  ------   --------------   -----  \n",
            " 0   user_id  144724 non-null  int64  \n",
            " 1   age      144724 non-null  int64  \n",
            " 2   is_male  144724 non-null  float64\n",
            "dtypes: float64(1), int64(2)\n",
            "memory usage: 4.4 MB\n"
          ]
        }
      ]
    },
    {
      "cell_type": "code",
      "source": [
        "id_to_submit.head()"
      ],
      "metadata": {
        "colab": {
          "base_uri": "https://localhost:8080/",
          "height": 206
        },
        "id": "PMQKWv33-QGU",
        "outputId": "c93bbe34-fbd7-4893-fc03-59c0a1d0606c"
      },
      "execution_count": null,
      "outputs": [
        {
          "output_type": "execute_result",
          "data": {
            "text/plain": [
              "   user_id  age   is_male\n",
              "0   221301    2  0.931127\n",
              "1    31271    3  0.475811\n",
              "2   211594    2  0.538992\n",
              "3   253119    3  0.494714\n",
              "4   192578    2  0.840878"
            ],
            "text/html": [
              "\n",
              "  <div id=\"df-58ff64a3-ce8e-452b-a2a0-da914220c4ae\">\n",
              "    <div class=\"colab-df-container\">\n",
              "      <div>\n",
              "<style scoped>\n",
              "    .dataframe tbody tr th:only-of-type {\n",
              "        vertical-align: middle;\n",
              "    }\n",
              "\n",
              "    .dataframe tbody tr th {\n",
              "        vertical-align: top;\n",
              "    }\n",
              "\n",
              "    .dataframe thead th {\n",
              "        text-align: right;\n",
              "    }\n",
              "</style>\n",
              "<table border=\"1\" class=\"dataframe\">\n",
              "  <thead>\n",
              "    <tr style=\"text-align: right;\">\n",
              "      <th></th>\n",
              "      <th>user_id</th>\n",
              "      <th>age</th>\n",
              "      <th>is_male</th>\n",
              "    </tr>\n",
              "  </thead>\n",
              "  <tbody>\n",
              "    <tr>\n",
              "      <th>0</th>\n",
              "      <td>221301</td>\n",
              "      <td>2</td>\n",
              "      <td>0.931127</td>\n",
              "    </tr>\n",
              "    <tr>\n",
              "      <th>1</th>\n",
              "      <td>31271</td>\n",
              "      <td>3</td>\n",
              "      <td>0.475811</td>\n",
              "    </tr>\n",
              "    <tr>\n",
              "      <th>2</th>\n",
              "      <td>211594</td>\n",
              "      <td>2</td>\n",
              "      <td>0.538992</td>\n",
              "    </tr>\n",
              "    <tr>\n",
              "      <th>3</th>\n",
              "      <td>253119</td>\n",
              "      <td>3</td>\n",
              "      <td>0.494714</td>\n",
              "    </tr>\n",
              "    <tr>\n",
              "      <th>4</th>\n",
              "      <td>192578</td>\n",
              "      <td>2</td>\n",
              "      <td>0.840878</td>\n",
              "    </tr>\n",
              "  </tbody>\n",
              "</table>\n",
              "</div>\n",
              "      <button class=\"colab-df-convert\" onclick=\"convertToInteractive('df-58ff64a3-ce8e-452b-a2a0-da914220c4ae')\"\n",
              "              title=\"Convert this dataframe to an interactive table.\"\n",
              "              style=\"display:none;\">\n",
              "        \n",
              "  <svg xmlns=\"http://www.w3.org/2000/svg\" height=\"24px\"viewBox=\"0 0 24 24\"\n",
              "       width=\"24px\">\n",
              "    <path d=\"M0 0h24v24H0V0z\" fill=\"none\"/>\n",
              "    <path d=\"M18.56 5.44l.94 2.06.94-2.06 2.06-.94-2.06-.94-.94-2.06-.94 2.06-2.06.94zm-11 1L8.5 8.5l.94-2.06 2.06-.94-2.06-.94L8.5 2.5l-.94 2.06-2.06.94zm10 10l.94 2.06.94-2.06 2.06-.94-2.06-.94-.94-2.06-.94 2.06-2.06.94z\"/><path d=\"M17.41 7.96l-1.37-1.37c-.4-.4-.92-.59-1.43-.59-.52 0-1.04.2-1.43.59L10.3 9.45l-7.72 7.72c-.78.78-.78 2.05 0 2.83L4 21.41c.39.39.9.59 1.41.59.51 0 1.02-.2 1.41-.59l7.78-7.78 2.81-2.81c.8-.78.8-2.07 0-2.86zM5.41 20L4 18.59l7.72-7.72 1.47 1.35L5.41 20z\"/>\n",
              "  </svg>\n",
              "      </button>\n",
              "      \n",
              "  <style>\n",
              "    .colab-df-container {\n",
              "      display:flex;\n",
              "      flex-wrap:wrap;\n",
              "      gap: 12px;\n",
              "    }\n",
              "\n",
              "    .colab-df-convert {\n",
              "      background-color: #E8F0FE;\n",
              "      border: none;\n",
              "      border-radius: 50%;\n",
              "      cursor: pointer;\n",
              "      display: none;\n",
              "      fill: #1967D2;\n",
              "      height: 32px;\n",
              "      padding: 0 0 0 0;\n",
              "      width: 32px;\n",
              "    }\n",
              "\n",
              "    .colab-df-convert:hover {\n",
              "      background-color: #E2EBFA;\n",
              "      box-shadow: 0px 1px 2px rgba(60, 64, 67, 0.3), 0px 1px 3px 1px rgba(60, 64, 67, 0.15);\n",
              "      fill: #174EA6;\n",
              "    }\n",
              "\n",
              "    [theme=dark] .colab-df-convert {\n",
              "      background-color: #3B4455;\n",
              "      fill: #D2E3FC;\n",
              "    }\n",
              "\n",
              "    [theme=dark] .colab-df-convert:hover {\n",
              "      background-color: #434B5C;\n",
              "      box-shadow: 0px 1px 3px 1px rgba(0, 0, 0, 0.15);\n",
              "      filter: drop-shadow(0px 1px 2px rgba(0, 0, 0, 0.3));\n",
              "      fill: #FFFFFF;\n",
              "    }\n",
              "  </style>\n",
              "\n",
              "      <script>\n",
              "        const buttonEl =\n",
              "          document.querySelector('#df-58ff64a3-ce8e-452b-a2a0-da914220c4ae button.colab-df-convert');\n",
              "        buttonEl.style.display =\n",
              "          google.colab.kernel.accessAllowed ? 'block' : 'none';\n",
              "\n",
              "        async function convertToInteractive(key) {\n",
              "          const element = document.querySelector('#df-58ff64a3-ce8e-452b-a2a0-da914220c4ae');\n",
              "          const dataTable =\n",
              "            await google.colab.kernel.invokeFunction('convertToInteractive',\n",
              "                                                     [key], {});\n",
              "          if (!dataTable) return;\n",
              "\n",
              "          const docLinkHtml = 'Like what you see? Visit the ' +\n",
              "            '<a target=\"_blank\" href=https://colab.research.google.com/notebooks/data_table.ipynb>data table notebook</a>'\n",
              "            + ' to learn more about interactive tables.';\n",
              "          element.innerHTML = '';\n",
              "          dataTable['output_type'] = 'display_data';\n",
              "          await google.colab.output.renderOutput(dataTable, element);\n",
              "          const docLink = document.createElement('div');\n",
              "          docLink.innerHTML = docLinkHtml;\n",
              "          element.appendChild(docLink);\n",
              "        }\n",
              "      </script>\n",
              "    </div>\n",
              "  </div>\n",
              "  "
            ]
          },
          "metadata": {},
          "execution_count": 169
        }
      ]
    },
    {
      "cell_type": "code",
      "source": [
        "#итоговый сохраняем\n",
        "id_to_submit.to_csv(f'{LOCAL_DATA_PATH}/submission_v13.csv', index = False)\n",
        "# v8 надо потправить, пофиксенную я сохранил"
      ],
      "metadata": {
        "id": "7d9MPnTs1Cdr"
      },
      "execution_count": null,
      "outputs": []
    },
    {
      "cell_type": "markdown",
      "source": [
        "## СКоры на лидер борде    \n",
        "Когда пофиксил категоризацию age\n",
        "\t1,6359491017   это 2300 тпо урлов без отсева технических, кэт дефол          \n",
        "\t1,5881700832 отсеяно окло 100 технич, топ 2500, с каждого куска отлетает 400, я их оставил, похоже их нужно отдельно обрабатывать      \n",
        "\n",
        "\t1,6366998198 2500 урлов с техническими   \n",
        "\t\n",
        "\tначал отжимать фич импотант и на GPU\n",
        "\t1,652348507"
      ],
      "metadata": {
        "id": "cH-Vuz70AGKx"
      }
    },
    {
      "cell_type": "code",
      "source": [],
      "metadata": {
        "id": "QqlwWsJ-7KZ1"
      },
      "execution_count": null,
      "outputs": []
    }
  ]
}