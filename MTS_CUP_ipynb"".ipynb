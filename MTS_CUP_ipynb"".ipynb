{
  "nbformat": 4,
  "nbformat_minor": 0,
  "metadata": {
    "colab": {
      "provenance": [],
      "toc_visible": true,
      "mount_file_id": "1UffclFiH1TH8ti6cgVmCVJIlNh1lXjIx",
      "authorship_tag": "ABX9TyMwGKwrcd4Ia6o2trtO+Xa5",
      "include_colab_link": true
    },
    "kernelspec": {
      "name": "python3",
      "display_name": "Python 3"
    },
    "language_info": {
      "name": "python"
    }
  },
  "cells": [
    {
      "cell_type": "markdown",
      "metadata": {
        "id": "view-in-github",
        "colab_type": "text"
      },
      "source": [
        "<a href=\"https://colab.research.google.com/github/ivan74rus/MTS-ML-CUP/blob/v2/MTS_CUP_ipynb%22%22.ipynb\" target=\"_parent\"><img src=\"https://colab.research.google.com/assets/colab-badge.svg\" alt=\"Open In Colab\"/></a>"
      ]
    },
    {
      "cell_type": "markdown",
      "source": [
        "##import"
      ],
      "metadata": {
        "id": "G_xOu4W7VnK2"
      }
    },
    {
      "cell_type": "code",
      "source": [
        "#подключить гугл диск\n",
        "from google.colab import drive\n",
        "drive.mount('/content/drive')"
      ],
      "metadata": {
        "id": "bfB7f6PGYJ8Z",
        "colab": {
          "base_uri": "https://localhost:8080/"
        },
        "outputId": "75fece74-800c-43e9-d5ad-7bf63eecdbc7"
      },
      "execution_count": 1,
      "outputs": [
        {
          "output_type": "stream",
          "name": "stdout",
          "text": [
            "Mounted at /content/drive\n"
          ]
        }
      ]
    },
    {
      "cell_type": "code",
      "source": [
        "#instal catboost\n",
        "!pip install catboost"
      ],
      "metadata": {
        "id": "JvHKSDRATzw9",
        "colab": {
          "base_uri": "https://localhost:8080/"
        },
        "outputId": "c8be327f-2b3e-4358-e967-9fdba3418e4f"
      },
      "execution_count": 2,
      "outputs": [
        {
          "output_type": "stream",
          "name": "stdout",
          "text": [
            "Looking in indexes: https://pypi.org/simple, https://us-python.pkg.dev/colab-wheels/public/simple/\n",
            "Collecting catboost\n",
            "  Downloading catboost-1.1.1-cp38-none-manylinux1_x86_64.whl (76.6 MB)\n",
            "\u001b[2K     \u001b[90m━━━━━━━━━━━━━━━━━━━━━━━━━━━━━━━━━━━━━━━━\u001b[0m \u001b[32m76.6/76.6 MB\u001b[0m \u001b[31m8.8 MB/s\u001b[0m eta \u001b[36m0:00:00\u001b[0m\n",
            "\u001b[?25hRequirement already satisfied: matplotlib in /usr/local/lib/python3.8/dist-packages (from catboost) (3.5.3)\n",
            "Requirement already satisfied: numpy>=1.16.0 in /usr/local/lib/python3.8/dist-packages (from catboost) (1.22.4)\n",
            "Requirement already satisfied: six in /usr/local/lib/python3.8/dist-packages (from catboost) (1.15.0)\n",
            "Requirement already satisfied: plotly in /usr/local/lib/python3.8/dist-packages (from catboost) (5.5.0)\n",
            "Requirement already satisfied: graphviz in /usr/local/lib/python3.8/dist-packages (from catboost) (0.10.1)\n",
            "Requirement already satisfied: scipy in /usr/local/lib/python3.8/dist-packages (from catboost) (1.10.1)\n",
            "Requirement already satisfied: pandas>=0.24.0 in /usr/local/lib/python3.8/dist-packages (from catboost) (1.3.5)\n",
            "Requirement already satisfied: python-dateutil>=2.7.3 in /usr/local/lib/python3.8/dist-packages (from pandas>=0.24.0->catboost) (2.8.2)\n",
            "Requirement already satisfied: pytz>=2017.3 in /usr/local/lib/python3.8/dist-packages (from pandas>=0.24.0->catboost) (2022.7.1)\n",
            "Requirement already satisfied: pyparsing>=2.2.1 in /usr/local/lib/python3.8/dist-packages (from matplotlib->catboost) (3.0.9)\n",
            "Requirement already satisfied: fonttools>=4.22.0 in /usr/local/lib/python3.8/dist-packages (from matplotlib->catboost) (4.38.0)\n",
            "Requirement already satisfied: packaging>=20.0 in /usr/local/lib/python3.8/dist-packages (from matplotlib->catboost) (23.0)\n",
            "Requirement already satisfied: pillow>=6.2.0 in /usr/local/lib/python3.8/dist-packages (from matplotlib->catboost) (8.4.0)\n",
            "Requirement already satisfied: cycler>=0.10 in /usr/local/lib/python3.8/dist-packages (from matplotlib->catboost) (0.11.0)\n",
            "Requirement already satisfied: kiwisolver>=1.0.1 in /usr/local/lib/python3.8/dist-packages (from matplotlib->catboost) (1.4.4)\n",
            "Requirement already satisfied: tenacity>=6.2.0 in /usr/local/lib/python3.8/dist-packages (from plotly->catboost) (8.2.2)\n",
            "Installing collected packages: catboost\n",
            "Successfully installed catboost-1.1.1\n"
          ]
        }
      ]
    },
    {
      "cell_type": "code",
      "source": [
        "import pandas as pd\n",
        "import joblib\n",
        "import numpy as np\n",
        "import time\n",
        "import pyarrow.parquet as pq\n",
        "import scipy\n",
        "import bisect\n",
        "import sklearn.metrics as metrics\n",
        "from catboost import CatBoostClassifier, CatBoostRegressor, Pool\n",
        "from sklearn.model_selection import train_test_split\n",
        "from sklearn.calibration import calibration_curve, CalibratedClassifierCV"
      ],
      "metadata": {
        "id": "_rFkNmInIuNH"
      },
      "execution_count": 1,
      "outputs": []
    },
    {
      "cell_type": "code",
      "source": [
        "# константы\n",
        "LOCAL_DATA_PATH = '/content/drive/MyDrive/DS/MTS/'\n",
        "#SPLIT_SEED = 42\n",
        "DATA_FILE = 'competition_data_final_pqt'\n",
        "TIM_LIST = 'top_300urls_timur.xlsx'\n",
        "TARGET_FILE = 'public_train.pqt'\n",
        "SUBMISSION_FILE = 'submit_2.pqt'\n"
      ],
      "metadata": {
        "id": "uvBOEOey_e26"
      },
      "execution_count": 2,
      "outputs": []
    },
    {
      "cell_type": "markdown",
      "source": [
        "# 1.Загружаем в пандус кусок  и готовим для ML.\n",
        " Так как ОЗУ всего 12 Гигов и не хватает, то будем выдергивать нужные фичи по кускам, сохранять все на диск в csv и затем с диска снова подгружать.    \n",
        "\n",
        "  "
      ],
      "metadata": {
        "id": "JN7gGMxU-bYZ"
      }
    },
    {
      "cell_type": "markdown",
      "source": [
        "### 1.0. Условие на нужные урлы \n",
        " \n",
        "Оставим только урлы из списка Тимура,   \n",
        "Подгрузим submit    \n"
      ],
      "metadata": {
        "id": "mjFlY2ljTau_"
      }
    },
    {
      "cell_type": "code",
      "source": [
        "#оставляем урлы Тимура , это отсортированные топ 300 урл по реквестам, и руками выкинуты технические\n",
        "timur_url_list_1 = pd.read_excel(f'{LOCAL_DATA_PATH}{TIM_LIST}')\n",
        "#технические для дропа\n",
        "timur_url_list_tech = timur_url_list_1[timur_url_list_1['url_host'] == 0]['Unnamed: 0'].values\n",
        "\n",
        "#дропаем технические\n",
        "timur_url_list = pd.read_csv(f'{LOCAL_DATA_PATH}top_all_urls.csv')\n",
        "timur_url_list = timur_url_list.query('index not in @timur_url_list_tech')\n",
        "\n",
        "# 3300 уже не хватает ОЗУ чтобы сшить, нужно разделять похоже\n",
        "timur_url_list = timur_url_list.reset_index(drop=True).loc[:2500,'index'].values\n",
        "len(timur_url_list)\n",
        "#timur_url_list"
      ],
      "metadata": {
        "id": "pg91YiVXZihO",
        "colab": {
          "base_uri": "https://localhost:8080/"
        },
        "outputId": "45b7f0b5-bf9d-4e9e-852f-487cef13776e"
      },
      "execution_count": null,
      "outputs": [
        {
          "output_type": "execute_result",
          "data": {
            "text/plain": [
              "2501"
            ]
          },
          "metadata": {},
          "execution_count": 7
        }
      ]
    },
    {
      "cell_type": "code",
      "source": [
        "#сабмиты и таргеты\n",
        "#сразу дропаем ненужный возраст из таргет\n",
        "id_for_target = pq.read_table(f'{LOCAL_DATA_PATH}/{TARGET_FILE}').to_pandas().query('age >=19 ') \n",
        "\n",
        "\n",
        "id_for_submit = pq.read_table(f'{LOCAL_DATA_PATH}/{SUBMISSION_FILE}').to_pandas() "
      ],
      "metadata": {
        "id": "wVHb5OhTLUGE"
      },
      "execution_count": null,
      "outputs": []
    },
    {
      "cell_type": "code",
      "source": [
        "#функция разбивки возраста по категориям\n",
        "def age_bucket(x):\n",
        "    return bisect.bisect_left([19,25,35,45,55,65], x)\n",
        "\n",
        "#my \n",
        "def age_bascket(x):\n",
        "  if x <= 25 :\n",
        "    return 1\n",
        "  elif 25 < x <= 35:\n",
        "    return 2\n",
        "  elif 35 < x <= 45:\n",
        "    return 3\n",
        "  elif 45 < x <= 55:\n",
        "    return 4\n",
        "  elif 55 < x <= 65:\n",
        "    return 5\n",
        "  return 6  \n",
        "#bisect.bisect_right([19,26,36,46,56,66], x) # вроде так надо пишут"
      ],
      "metadata": {
        "id": "1ATEGn288jq1"
      },
      "execution_count": null,
      "outputs": []
    },
    {
      "cell_type": "code",
      "source": [
        "age_bascket(33)"
      ],
      "metadata": {
        "colab": {
          "base_uri": "https://localhost:8080/"
        },
        "id": "A4ThdP7RCnhq",
        "outputId": "176000e3-6827-4965-e7c1-14d30eca436f"
      },
      "execution_count": null,
      "outputs": [
        {
          "output_type": "execute_result",
          "data": {
            "text/plain": [
              "2"
            ]
          },
          "metadata": {},
          "execution_count": 11
        }
      ]
    },
    {
      "cell_type": "markdown",
      "source": [
        "## 1.1 Загружаем из паркета ЦИКЛОМ нужные фичи и обрабатываем кусок.\n",
        "Формируем часть дф готового к обработке, сохраняем на диск уже раздельно трайн и фо_сабмит выбокри. Все дял экономии памяти ОЗУ. Все разбивки  и сохраннеия все в цикле. Иначе финальный кусок не оббработать никак."
      ],
      "metadata": {
        "id": "C_hnsPbhCPSz"
      }
    },
    {
      "cell_type": "code",
      "source": [
        "part_list  = ['part-00000-aba60f69-2b63-4cc1-95ca-542598094698-c000.snappy.parquet',\n",
        "              'part-00001-aba60f69-2b63-4cc1-95ca-542598094698-c000.snappy.parquet',\n",
        "              'part-00002-aba60f69-2b63-4cc1-95ca-542598094698-c000.snappy.parquet',\n",
        "              'part-00003-aba60f69-2b63-4cc1-95ca-542598094698-c000.snappy.parquet',\n",
        "              'part-00004-aba60f69-2b63-4cc1-95ca-542598094698-c000.snappy.parquet',\n",
        "              'part-00005-aba60f69-2b63-4cc1-95ca-542598094698-c000.snappy.parquet',\n",
        "              'part-00006-aba60f69-2b63-4cc1-95ca-542598094698-c000.snappy.parquet',\n",
        "              'part-00007-aba60f69-2b63-4cc1-95ca-542598094698-c000.snappy.parquet',\n",
        "              'part-00008-aba60f69-2b63-4cc1-95ca-542598094698-c000.snappy.parquet',\n",
        "              'part-00009-aba60f69-2b63-4cc1-95ca-542598094698-c000.snappy.parquet',\n",
        "    \n",
        "]"
      ],
      "metadata": {
        "id": "qcyAvu5oCuWM"
      },
      "execution_count": null,
      "outputs": []
    },
    {
      "cell_type": "code",
      "source": [
        "# цикл грузит из паркета нужные даные и отсеивает по топ урлам из списка\n",
        "for i in  range(0,10): #(len(part_list))\n",
        "  \n",
        "  #тут выбираем какие колонки из паркета грузим, можно через переменну определить\n",
        "  # 'cpe_model_name' 'cpe_manufacturer_name',\n",
        "  df = pq.read_table(f'{LOCAL_DATA_PATH}{part_list[i]}').select([\t'cpe_model_name',\t 'url_host',\t\t'request_cnt',\t'part_of_day','user_id']).to_pandas()\n",
        "  \n",
        "  #контроль цикла, загрузка из паркета в память.\n",
        "  print ('part', i, 'load, shape = ',df.shape)\n",
        "  # для подсчета соко пропало user_id после обрезки по урлам\n",
        "  user_id_count = df['user_id'].nunique()\n",
        "  print ('part', i, 'до обрезки user_id = ', df['user_id'].nunique())\n",
        "\n",
        "  # дф по времени суток / нужно это делать на всем дф, со всеми урлами\n",
        "  df_user_part_of_day = df.pivot_table(index='user_id', columns='part_of_day', values='request_cnt',aggfunc='count').reset_index()\n",
        "\n",
        "  #обрезаем по урлам\n",
        "  df = df.query('url_host in @timur_url_list')\n",
        "  print ('part', i, 'load, shape после обрезки урлов = ',df.shape)\n",
        "  print ('part', i, 'после обрезки user_id уменьшилось на :',  user_id_count - df['user_id'].nunique())\n",
        "  # дф по урлам формируем \n",
        "  df_user_url = df.pivot_table(index='user_id', columns='url_host', values='request_cnt',aggfunc='count').reset_index()\n",
        "\n",
        "  #обезаем дф до состояния каждый юзер 1 строчка\n",
        "  df.drop(columns=['url_host', 'request_cnt', 'part_of_day'], inplace=True)\n",
        "  df.drop_duplicates(inplace=True)\n",
        "  \n",
        " \n",
        "  #обьединяем все куски тк что снала идет полная по user_id таблица с part_of_day\n",
        "  # ее объединяем how='outer', чтобы все строки сохранились\n",
        "  # для строк где нет урлов,будет прогнозирвоаться по part_day и модели балалайки\n",
        "  print ('df_user_part_of_day.shape',df_user_part_of_day.shape )\n",
        "  df = df_user_part_of_day.merge(df, how='outer', on='user_id')\n",
        "  print ('после \"df = df_user_part_of_day.merge(df_',df.shape)\n",
        "  df = df.merge(df_user_url, how='outer', on='user_id')\n",
        "  print ('после всех merge размерность df',df.shape)\n",
        "  \n",
        "  #теперь разделяем на train submit \n",
        "  df_train = df.merge(id_for_target,  on='user_id')\n",
        "  df_submit = df.merge(id_for_submit, on='user_id')\n",
        "\n",
        "  # кэт ругается на нан\n",
        "  df_train.loc[df_train['cpe_model_name'].isna() ,'cpe_model_name'] = '0'\n",
        "\n",
        "  #дропаем возраст <19  сразу тут из  трайн (убирается в merge)\n",
        "  #df_train = df_train[df_train['age'] >=19] \n",
        "  \n",
        "  #категоризируем возраст - заменна функция на мою\n",
        "  df_train['age'] = df_train['age'].map(age_bascket)\n",
        "  \n",
        "  #сохраняем на диск  подготовленные файлы\n",
        "  \n",
        "  #df_train.reset_index(drop=True).to_pickle(f'{LOCAL_DATA_PATH}train_part_{i}.pkl')\n",
        "  df_submit.to_feather(f'{LOCAL_DATA_PATH}submit_part_{i}.feather')\n",
        "\n",
        "  # все заранее разбиваем, т к потом не хватает ОЗУ общий файл обрабатывать\n",
        "  \n",
        "  # сохраняем фичи и таргет для age\n",
        "  df_train.drop(['user_id', 'age', 'is_male'], axis = 1).reset_index(drop=True).to_feather(f'{LOCAL_DATA_PATH}train_feat_age_part_{i}.feather') #,index = False)\n",
        "  #df_train.drop(['user_id', 'age', 'is_male'], axis = 1).to_csv(f'{LOCAL_DATA_PATH}train_feat_age_part_{i}.csv' ,index = False)\n",
        "  df_train['age'].to_csv(f'{LOCAL_DATA_PATH}train_target_age_part_{i}.csv', index = False)\n",
        "    \n",
        "\n",
        "  # сохраняем фичи и таргет для is_male\n",
        "  #дропаем перед ML по полу, заранее нельзя, тк  там много данных по возрасту\n",
        "  print ('df_train.shape до обрезки is_male != NA',df_train.shape )\n",
        "  df_train = df_train[df_train['is_male'] != 'NA']\n",
        "  print ('df_train.shape ПОСЛЕ обрезки is_male != NA',df_train.shape )\n",
        "  \n",
        "  df_train.drop(['user_id', 'age', 'is_male'], axis = 1).reset_index(drop=True).to_feather(f'{LOCAL_DATA_PATH}train_feat_is_male_part_{i}.feather')\n",
        "  df_train['is_male'].to_csv(f'{LOCAL_DATA_PATH}train_target_is_male_part_{i}.csv', index = False)\n",
        "\n",
        "\n",
        "  #итого сохраняется файл сабмита + общий_трайн + фич+таргет_age + фич+таргет_is_male = 6шт\n",
        "  # все нужно для анализа\n",
        "\n",
        "  print ('part' , i , 'saved on disc')"
      ],
      "metadata": {
        "id": "-cifsYJ6-ajK",
        "colab": {
          "base_uri": "https://localhost:8080/"
        },
        "outputId": "5780367d-43db-4398-a70f-cec7a5ecd015"
      },
      "execution_count": null,
      "outputs": [
        {
          "output_type": "stream",
          "name": "stdout",
          "text": [
            "part 0 load, shape =  (32638709, 5)\n",
            "part 0 до обрезки user_id =  41594\n",
            "part 0 load, shape после обрезки урлов =  (15204490, 5)\n",
            "part 0 после обрезки user_id уменьшилось на : 419\n",
            "df_user_part_of_day.shape (41594, 5)\n",
            "после \"df = df_user_part_of_day.merge(df_ (41594, 6)\n",
            "после всех merge размерность df (41594, 2506)\n",
            "df_train.shape до обрезки is_male != NA (27081, 2508)\n",
            "df_train.shape ПОСЛЕ обрезки is_male != NA (26529, 2508)\n",
            "part 0 saved on disc\n",
            "part 1 load, shape =  (32423119, 5)\n",
            "part 1 до обрезки user_id =  41570\n",
            "part 1 load, shape после обрезки урлов =  (15048716, 5)\n",
            "part 1 после обрезки user_id уменьшилось на : 497\n",
            "df_user_part_of_day.shape (41570, 5)\n",
            "после \"df = df_user_part_of_day.merge(df_ (41570, 6)\n",
            "после всех merge размерность df (41570, 2506)\n",
            "df_train.shape до обрезки is_male != NA (26936, 2508)\n",
            "df_train.shape ПОСЛЕ обрезки is_male != NA (26394, 2508)\n",
            "part 1 saved on disc\n",
            "part 2 load, shape =  (32146620, 5)\n",
            "part 2 до обрезки user_id =  41335\n",
            "part 2 load, shape после обрезки урлов =  (14961417, 5)\n",
            "part 2 после обрезки user_id уменьшилось на : 412\n",
            "df_user_part_of_day.shape (41335, 5)\n",
            "после \"df = df_user_part_of_day.merge(df_ (41335, 6)\n",
            "после всех merge размерность df (41335, 2505)\n",
            "df_train.shape до обрезки is_male != NA (26801, 2507)\n",
            "df_train.shape ПОСЛЕ обрезки is_male != NA (26269, 2507)\n",
            "part 2 saved on disc\n",
            "part 3 load, shape =  (32156858, 5)\n",
            "part 3 до обрезки user_id =  41640\n",
            "part 3 load, shape после обрезки урлов =  (14941904, 5)\n",
            "part 3 после обрезки user_id уменьшилось на : 453\n",
            "df_user_part_of_day.shape (41640, 5)\n",
            "после \"df = df_user_part_of_day.merge(df_ (41640, 6)\n",
            "после всех merge размерность df (41640, 2506)\n",
            "df_train.shape до обрезки is_male != NA (26901, 2508)\n",
            "df_train.shape ПОСЛЕ обрезки is_male != NA (26338, 2508)\n",
            "part 3 saved on disc\n",
            "part 4 load, shape =  (32119163, 5)\n",
            "part 4 до обрезки user_id =  41286\n",
            "part 4 load, shape после обрезки урлов =  (14976042, 5)\n",
            "part 4 после обрезки user_id уменьшилось на : 435\n",
            "df_user_part_of_day.shape (41286, 5)\n",
            "после \"df = df_user_part_of_day.merge(df_ (41286, 6)\n",
            "после всех merge размерность df (41286, 2505)\n",
            "df_train.shape до обрезки is_male != NA (26794, 2507)\n",
            "df_train.shape ПОСЛЕ обрезки is_male != NA (26251, 2507)\n",
            "part 4 saved on disc\n",
            "part 5 load, shape =  (32300908, 5)\n",
            "part 5 до обрезки user_id =  41577\n",
            "part 5 load, shape после обрезки урлов =  (15024332, 5)\n",
            "part 5 после обрезки user_id уменьшилось на : 458\n",
            "df_user_part_of_day.shape (41577, 5)\n",
            "после \"df = df_user_part_of_day.merge(df_ (41577, 6)\n",
            "после всех merge размерность df (41577, 2506)\n",
            "df_train.shape до обрезки is_male != NA (26962, 2508)\n",
            "df_train.shape ПОСЛЕ обрезки is_male != NA (26410, 2508)\n",
            "part 5 saved on disc\n",
            "part 6 load, shape =  (32134423, 5)\n",
            "part 6 до обрезки user_id =  41461\n",
            "part 6 load, shape после обрезки урлов =  (14960835, 5)\n",
            "part 6 после обрезки user_id уменьшилось на : 427\n",
            "df_user_part_of_day.shape (41461, 5)\n",
            "после \"df = df_user_part_of_day.merge(df_ (41461, 6)\n",
            "после всех merge размерность df (41461, 2506)\n",
            "df_train.shape до обрезки is_male != NA (26817, 2508)\n",
            "df_train.shape ПОСЛЕ обрезки is_male != NA (26287, 2508)\n",
            "part 6 saved on disc\n",
            "part 7 load, shape =  (32523675, 5)\n",
            "part 7 до обрезки user_id =  41612\n",
            "part 7 load, shape после обрезки урлов =  (15094396, 5)\n",
            "part 7 после обрезки user_id уменьшилось на : 434\n",
            "df_user_part_of_day.shape (41612, 5)\n",
            "после \"df = df_user_part_of_day.merge(df_ (41612, 6)\n",
            "после всех merge размерность df (41612, 2506)\n",
            "df_train.shape до обрезки is_male != NA (26839, 2508)\n",
            "df_train.shape ПОСЛЕ обрезки is_male != NA (26356, 2508)\n",
            "part 7 saved on disc\n",
            "part 8 load, shape =  (32136680, 5)\n",
            "part 8 до обрезки user_id =  41683\n",
            "part 8 load, shape после обрезки урлов =  (14917524, 5)\n",
            "part 8 после обрезки user_id уменьшилось на : 424\n",
            "df_user_part_of_day.shape (41683, 5)\n",
            "после \"df = df_user_part_of_day.merge(df_ (41683, 6)\n",
            "после всех merge размерность df (41683, 2505)\n",
            "df_train.shape до обрезки is_male != NA (26883, 2507)\n",
            "df_train.shape ПОСЛЕ обрезки is_male != NA (26316, 2507)\n",
            "part 8 saved on disc\n",
            "part 9 load, shape =  (32319280, 5)\n",
            "part 9 до обрезки user_id =  41559\n",
            "part 9 load, shape после обрезки урлов =  (15059211, 5)\n",
            "part 9 после обрезки user_id уменьшилось на : 424\n",
            "df_user_part_of_day.shape (41559, 5)\n",
            "после \"df = df_user_part_of_day.merge(df_ (41559, 6)\n",
            "после всех merge размерность df (41559, 2506)\n",
            "df_train.shape до обрезки is_male != NA (26908, 2508)\n",
            "df_train.shape ПОСЛЕ обрезки is_male != NA (26358, 2508)\n",
            "part 9 saved on disc\n"
          ]
        }
      ]
    },
    {
      "cell_type": "code",
      "source": [
        "print (df_user_part_of_day.shape )\n",
        "print (df.shape)\n",
        "print (df_submit.shape)"
      ],
      "metadata": {
        "colab": {
          "base_uri": "https://localhost:8080/"
        },
        "id": "I6ptSrXKRBEu",
        "outputId": "f823fc47-6d12-4d86-e022-021b44976a13"
      },
      "execution_count": null,
      "outputs": [
        {
          "output_type": "stream",
          "name": "stdout",
          "text": [
            "(41594, 5)\n",
            "(41175, 2411)\n",
            "(14237, 2411)\n"
          ]
        }
      ]
    },
    {
      "cell_type": "markdown",
      "source": [
        "# 2.Склейка и сохранение  итогового файла. \n",
        "Тут уже файлы готовые , относительно не большие. сшиваются и сохр на диск,   хватает ОЗУ. "
      ],
      "metadata": {
        "id": "MzZ_-aEe0EMb"
      }
    },
    {
      "cell_type": "code",
      "source": [
        "list_train  = [\n",
        "    'train_part_0.feather',\n",
        "    'train_part_1.feather',\n",
        "    'train_part_2.feather',\n",
        "    'train_part_3.feather',\n",
        "    'train_part_4.feather',\n",
        "    'train_part_5.feather',\n",
        "    'train_part_6.feather',\n",
        "    'train_part_7.feather',\n",
        "    'train_part_8.feather',\n",
        "    'train_part_9.feather',\n",
        "     ]\n",
        "\n",
        "list_submit  = [\n",
        "    'submit_part_0.feather',\n",
        "    'submit_part_1.feather',\n",
        "    'submit_part_2.feather',\n",
        "    'submit_part_3.feather',\n",
        "    'submit_part_4.feather',\n",
        "    'submit_part_5.feather',\n",
        "    'submit_part_6.feather',\n",
        "    'submit_part_7.feather',\n",
        "    'submit_part_8.feather',\n",
        "    'submit_part_9.feather',\n",
        "     ]\n"
      ],
      "metadata": {
        "id": "Av_V3gFS0O8t"
      },
      "execution_count": 54,
      "outputs": []
    },
    {
      "cell_type": "code",
      "source": [
        "%%time\n",
        "#цикл склейки train общего\n",
        "#первый файл\n",
        "df = pd.read_csv(f'{LOCAL_DATA_PATH}{list_train[0]}')\n",
        "print (list_train[0],'shape', df.shape)\n",
        "\n",
        "\n",
        "for i in range (1,len(list_train)):\n",
        "  df_ = pd.read_csv(f'{LOCAL_DATA_PATH}{list_train[i]}')\n",
        "       \n",
        "  #сшиваем\n",
        "  df = pd.concat([df, df_], ignore_index=True)\n",
        "  #контролль цикла\n",
        "  print (list_train[i],'shape', df_.shape)\n",
        "  print ('Суммарное df.shape',df.shape)\n",
        "\n",
        "\n",
        "# сохранение\n",
        "\n",
        "#df.to_csv(f'{LOCAL_DATA_PATH}/train_df_all_parts.csv')\n",
        "#df.to_pickle(f'{LOCAL_DATA_PATH}/train_df_all_parts.pkl')\n",
        "df.to_feather(f'{LOCAL_DATA_PATH}/train_df_all_parts.feather')\n",
        "print ('Итоговый файл сохранен на диск')"
      ],
      "metadata": {
        "colab": {
          "base_uri": "https://localhost:8080/",
          "height": 415
        },
        "id": "ddwjgOe76D4D",
        "outputId": "79e38f3d-1823-46f9-8cd6-672c6fe3a309"
      },
      "execution_count": null,
      "outputs": [
        {
          "output_type": "error",
          "ename": "FileNotFoundError",
          "evalue": "ignored",
          "traceback": [
            "\u001b[0;31m---------------------------------------------------------------------------\u001b[0m",
            "\u001b[0;31mFileNotFoundError\u001b[0m                         Traceback (most recent call last)",
            "\u001b[0;32m<timed exec>\u001b[0m in \u001b[0;36m<module>\u001b[0;34m\u001b[0m\n",
            "\u001b[0;32m/usr/local/lib/python3.8/dist-packages/pandas/util/_decorators.py\u001b[0m in \u001b[0;36mwrapper\u001b[0;34m(*args, **kwargs)\u001b[0m\n\u001b[1;32m    309\u001b[0m                     \u001b[0mstacklevel\u001b[0m\u001b[0;34m=\u001b[0m\u001b[0mstacklevel\u001b[0m\u001b[0;34m,\u001b[0m\u001b[0;34m\u001b[0m\u001b[0;34m\u001b[0m\u001b[0m\n\u001b[1;32m    310\u001b[0m                 )\n\u001b[0;32m--> 311\u001b[0;31m             \u001b[0;32mreturn\u001b[0m \u001b[0mfunc\u001b[0m\u001b[0;34m(\u001b[0m\u001b[0;34m*\u001b[0m\u001b[0margs\u001b[0m\u001b[0;34m,\u001b[0m \u001b[0;34m**\u001b[0m\u001b[0mkwargs\u001b[0m\u001b[0;34m)\u001b[0m\u001b[0;34m\u001b[0m\u001b[0;34m\u001b[0m\u001b[0m\n\u001b[0m\u001b[1;32m    312\u001b[0m \u001b[0;34m\u001b[0m\u001b[0m\n\u001b[1;32m    313\u001b[0m         \u001b[0;32mreturn\u001b[0m \u001b[0mwrapper\u001b[0m\u001b[0;34m\u001b[0m\u001b[0;34m\u001b[0m\u001b[0m\n",
            "\u001b[0;32m/usr/local/lib/python3.8/dist-packages/pandas/io/parsers/readers.py\u001b[0m in \u001b[0;36mread_csv\u001b[0;34m(filepath_or_buffer, sep, delimiter, header, names, index_col, usecols, squeeze, prefix, mangle_dupe_cols, dtype, engine, converters, true_values, false_values, skipinitialspace, skiprows, skipfooter, nrows, na_values, keep_default_na, na_filter, verbose, skip_blank_lines, parse_dates, infer_datetime_format, keep_date_col, date_parser, dayfirst, cache_dates, iterator, chunksize, compression, thousands, decimal, lineterminator, quotechar, quoting, doublequote, escapechar, comment, encoding, encoding_errors, dialect, error_bad_lines, warn_bad_lines, on_bad_lines, delim_whitespace, low_memory, memory_map, float_precision, storage_options)\u001b[0m\n\u001b[1;32m    584\u001b[0m     \u001b[0mkwds\u001b[0m\u001b[0;34m.\u001b[0m\u001b[0mupdate\u001b[0m\u001b[0;34m(\u001b[0m\u001b[0mkwds_defaults\u001b[0m\u001b[0;34m)\u001b[0m\u001b[0;34m\u001b[0m\u001b[0;34m\u001b[0m\u001b[0m\n\u001b[1;32m    585\u001b[0m \u001b[0;34m\u001b[0m\u001b[0m\n\u001b[0;32m--> 586\u001b[0;31m     \u001b[0;32mreturn\u001b[0m \u001b[0m_read\u001b[0m\u001b[0;34m(\u001b[0m\u001b[0mfilepath_or_buffer\u001b[0m\u001b[0;34m,\u001b[0m \u001b[0mkwds\u001b[0m\u001b[0;34m)\u001b[0m\u001b[0;34m\u001b[0m\u001b[0;34m\u001b[0m\u001b[0m\n\u001b[0m\u001b[1;32m    587\u001b[0m \u001b[0;34m\u001b[0m\u001b[0m\n\u001b[1;32m    588\u001b[0m \u001b[0;34m\u001b[0m\u001b[0m\n",
            "\u001b[0;32m/usr/local/lib/python3.8/dist-packages/pandas/io/parsers/readers.py\u001b[0m in \u001b[0;36m_read\u001b[0;34m(filepath_or_buffer, kwds)\u001b[0m\n\u001b[1;32m    480\u001b[0m \u001b[0;34m\u001b[0m\u001b[0m\n\u001b[1;32m    481\u001b[0m     \u001b[0;31m# Create the parser.\u001b[0m\u001b[0;34m\u001b[0m\u001b[0;34m\u001b[0m\u001b[0;34m\u001b[0m\u001b[0m\n\u001b[0;32m--> 482\u001b[0;31m     \u001b[0mparser\u001b[0m \u001b[0;34m=\u001b[0m \u001b[0mTextFileReader\u001b[0m\u001b[0;34m(\u001b[0m\u001b[0mfilepath_or_buffer\u001b[0m\u001b[0;34m,\u001b[0m \u001b[0;34m**\u001b[0m\u001b[0mkwds\u001b[0m\u001b[0;34m)\u001b[0m\u001b[0;34m\u001b[0m\u001b[0;34m\u001b[0m\u001b[0m\n\u001b[0m\u001b[1;32m    483\u001b[0m \u001b[0;34m\u001b[0m\u001b[0m\n\u001b[1;32m    484\u001b[0m     \u001b[0;32mif\u001b[0m \u001b[0mchunksize\u001b[0m \u001b[0;32mor\u001b[0m \u001b[0miterator\u001b[0m\u001b[0;34m:\u001b[0m\u001b[0;34m\u001b[0m\u001b[0;34m\u001b[0m\u001b[0m\n",
            "\u001b[0;32m/usr/local/lib/python3.8/dist-packages/pandas/io/parsers/readers.py\u001b[0m in \u001b[0;36m__init__\u001b[0;34m(self, f, engine, **kwds)\u001b[0m\n\u001b[1;32m    809\u001b[0m             \u001b[0mself\u001b[0m\u001b[0;34m.\u001b[0m\u001b[0moptions\u001b[0m\u001b[0;34m[\u001b[0m\u001b[0;34m\"has_index_names\"\u001b[0m\u001b[0;34m]\u001b[0m \u001b[0;34m=\u001b[0m \u001b[0mkwds\u001b[0m\u001b[0;34m[\u001b[0m\u001b[0;34m\"has_index_names\"\u001b[0m\u001b[0;34m]\u001b[0m\u001b[0;34m\u001b[0m\u001b[0;34m\u001b[0m\u001b[0m\n\u001b[1;32m    810\u001b[0m \u001b[0;34m\u001b[0m\u001b[0m\n\u001b[0;32m--> 811\u001b[0;31m         \u001b[0mself\u001b[0m\u001b[0;34m.\u001b[0m\u001b[0m_engine\u001b[0m \u001b[0;34m=\u001b[0m \u001b[0mself\u001b[0m\u001b[0;34m.\u001b[0m\u001b[0m_make_engine\u001b[0m\u001b[0;34m(\u001b[0m\u001b[0mself\u001b[0m\u001b[0;34m.\u001b[0m\u001b[0mengine\u001b[0m\u001b[0;34m)\u001b[0m\u001b[0;34m\u001b[0m\u001b[0;34m\u001b[0m\u001b[0m\n\u001b[0m\u001b[1;32m    812\u001b[0m \u001b[0;34m\u001b[0m\u001b[0m\n\u001b[1;32m    813\u001b[0m     \u001b[0;32mdef\u001b[0m \u001b[0mclose\u001b[0m\u001b[0;34m(\u001b[0m\u001b[0mself\u001b[0m\u001b[0;34m)\u001b[0m\u001b[0;34m:\u001b[0m\u001b[0;34m\u001b[0m\u001b[0;34m\u001b[0m\u001b[0m\n",
            "\u001b[0;32m/usr/local/lib/python3.8/dist-packages/pandas/io/parsers/readers.py\u001b[0m in \u001b[0;36m_make_engine\u001b[0;34m(self, engine)\u001b[0m\n\u001b[1;32m   1038\u001b[0m             )\n\u001b[1;32m   1039\u001b[0m         \u001b[0;31m# error: Too many arguments for \"ParserBase\"\u001b[0m\u001b[0;34m\u001b[0m\u001b[0;34m\u001b[0m\u001b[0;34m\u001b[0m\u001b[0m\n\u001b[0;32m-> 1040\u001b[0;31m         \u001b[0;32mreturn\u001b[0m \u001b[0mmapping\u001b[0m\u001b[0;34m[\u001b[0m\u001b[0mengine\u001b[0m\u001b[0;34m]\u001b[0m\u001b[0;34m(\u001b[0m\u001b[0mself\u001b[0m\u001b[0;34m.\u001b[0m\u001b[0mf\u001b[0m\u001b[0;34m,\u001b[0m \u001b[0;34m**\u001b[0m\u001b[0mself\u001b[0m\u001b[0;34m.\u001b[0m\u001b[0moptions\u001b[0m\u001b[0;34m)\u001b[0m  \u001b[0;31m# type: ignore[call-arg]\u001b[0m\u001b[0;34m\u001b[0m\u001b[0;34m\u001b[0m\u001b[0m\n\u001b[0m\u001b[1;32m   1041\u001b[0m \u001b[0;34m\u001b[0m\u001b[0m\n\u001b[1;32m   1042\u001b[0m     \u001b[0;32mdef\u001b[0m \u001b[0m_failover_to_python\u001b[0m\u001b[0;34m(\u001b[0m\u001b[0mself\u001b[0m\u001b[0;34m)\u001b[0m\u001b[0;34m:\u001b[0m\u001b[0;34m\u001b[0m\u001b[0;34m\u001b[0m\u001b[0m\n",
            "\u001b[0;32m/usr/local/lib/python3.8/dist-packages/pandas/io/parsers/c_parser_wrapper.py\u001b[0m in \u001b[0;36m__init__\u001b[0;34m(self, src, **kwds)\u001b[0m\n\u001b[1;32m     49\u001b[0m \u001b[0;34m\u001b[0m\u001b[0m\n\u001b[1;32m     50\u001b[0m         \u001b[0;31m# open handles\u001b[0m\u001b[0;34m\u001b[0m\u001b[0;34m\u001b[0m\u001b[0;34m\u001b[0m\u001b[0m\n\u001b[0;32m---> 51\u001b[0;31m         \u001b[0mself\u001b[0m\u001b[0;34m.\u001b[0m\u001b[0m_open_handles\u001b[0m\u001b[0;34m(\u001b[0m\u001b[0msrc\u001b[0m\u001b[0;34m,\u001b[0m \u001b[0mkwds\u001b[0m\u001b[0;34m)\u001b[0m\u001b[0;34m\u001b[0m\u001b[0;34m\u001b[0m\u001b[0m\n\u001b[0m\u001b[1;32m     52\u001b[0m         \u001b[0;32massert\u001b[0m \u001b[0mself\u001b[0m\u001b[0;34m.\u001b[0m\u001b[0mhandles\u001b[0m \u001b[0;32mis\u001b[0m \u001b[0;32mnot\u001b[0m \u001b[0;32mNone\u001b[0m\u001b[0;34m\u001b[0m\u001b[0;34m\u001b[0m\u001b[0m\n\u001b[1;32m     53\u001b[0m \u001b[0;34m\u001b[0m\u001b[0m\n",
            "\u001b[0;32m/usr/local/lib/python3.8/dist-packages/pandas/io/parsers/base_parser.py\u001b[0m in \u001b[0;36m_open_handles\u001b[0;34m(self, src, kwds)\u001b[0m\n\u001b[1;32m    220\u001b[0m         \u001b[0mLet\u001b[0m \u001b[0mthe\u001b[0m \u001b[0mreaders\u001b[0m \u001b[0mopen\u001b[0m \u001b[0mIOHandles\u001b[0m \u001b[0mafter\u001b[0m \u001b[0mthey\u001b[0m \u001b[0mare\u001b[0m \u001b[0mdone\u001b[0m \u001b[0;32mwith\u001b[0m \u001b[0mtheir\u001b[0m \u001b[0mpotential\u001b[0m \u001b[0mraises\u001b[0m\u001b[0;34m.\u001b[0m\u001b[0;34m\u001b[0m\u001b[0;34m\u001b[0m\u001b[0m\n\u001b[1;32m    221\u001b[0m         \"\"\"\n\u001b[0;32m--> 222\u001b[0;31m         self.handles = get_handle(\n\u001b[0m\u001b[1;32m    223\u001b[0m             \u001b[0msrc\u001b[0m\u001b[0;34m,\u001b[0m\u001b[0;34m\u001b[0m\u001b[0;34m\u001b[0m\u001b[0m\n\u001b[1;32m    224\u001b[0m             \u001b[0;34m\"r\"\u001b[0m\u001b[0;34m,\u001b[0m\u001b[0;34m\u001b[0m\u001b[0;34m\u001b[0m\u001b[0m\n",
            "\u001b[0;32m/usr/local/lib/python3.8/dist-packages/pandas/io/common.py\u001b[0m in \u001b[0;36mget_handle\u001b[0;34m(path_or_buf, mode, encoding, compression, memory_map, is_text, errors, storage_options)\u001b[0m\n\u001b[1;32m    700\u001b[0m         \u001b[0;32mif\u001b[0m \u001b[0mioargs\u001b[0m\u001b[0;34m.\u001b[0m\u001b[0mencoding\u001b[0m \u001b[0;32mand\u001b[0m \u001b[0;34m\"b\"\u001b[0m \u001b[0;32mnot\u001b[0m \u001b[0;32min\u001b[0m \u001b[0mioargs\u001b[0m\u001b[0;34m.\u001b[0m\u001b[0mmode\u001b[0m\u001b[0;34m:\u001b[0m\u001b[0;34m\u001b[0m\u001b[0;34m\u001b[0m\u001b[0m\n\u001b[1;32m    701\u001b[0m             \u001b[0;31m# Encoding\u001b[0m\u001b[0;34m\u001b[0m\u001b[0;34m\u001b[0m\u001b[0;34m\u001b[0m\u001b[0m\n\u001b[0;32m--> 702\u001b[0;31m             handle = open(\n\u001b[0m\u001b[1;32m    703\u001b[0m                 \u001b[0mhandle\u001b[0m\u001b[0;34m,\u001b[0m\u001b[0;34m\u001b[0m\u001b[0;34m\u001b[0m\u001b[0m\n\u001b[1;32m    704\u001b[0m                 \u001b[0mioargs\u001b[0m\u001b[0;34m.\u001b[0m\u001b[0mmode\u001b[0m\u001b[0;34m,\u001b[0m\u001b[0;34m\u001b[0m\u001b[0;34m\u001b[0m\u001b[0m\n",
            "\u001b[0;31mFileNotFoundError\u001b[0m: [Errno 2] No such file or directory: '/content/drive/MyDrive/DS/MTS/train_part_0.feather'"
          ]
        }
      ]
    },
    {
      "cell_type": "markdown",
      "source": [
        "### цикл склейки submit"
      ],
      "metadata": {
        "id": "nH0I0DJ3N3bm"
      }
    },
    {
      "cell_type": "code",
      "source": [
        "#цикл склейки submit\n",
        "#первый файл\n",
        "df = pd.read_feather(f'{LOCAL_DATA_PATH}{list_submit[0]}')\n",
        "df.loc[df['cpe_model_name'].isna() ,'cpe_model_name'] = '0'\n",
        "print (list_submit[0],'shape', df.shape)\n",
        "\n",
        "for i in range (1,len(list_submit)):\n",
        "  df_ = pd.read_feather(f'{LOCAL_DATA_PATH}{list_submit[i]}')\n",
        "  df_.loc[df_['cpe_model_name'].isna() ,'cpe_model_name'] = '0'\n",
        "  df = pd.concat([df, df_], ignore_index=True)\n",
        "  #контролль цикла\n",
        "  print (list_submit[i],'shape', df_.shape)\n",
        "  #print ('Суммарное df.shape',df.shape)\n",
        "\n",
        "\n",
        "# сохранение \n",
        "#df.to_pickle(f'{LOCAL_DATA_PATH}/submit_df_all_parts.pkl')\n",
        "df.to_feather(f'{LOCAL_DATA_PATH}/submit_df_all_parts.feather')\n",
        "#df.to_csv(f'{LOCAL_DATA_PATH}/submit_df_all_parts.csv')\n",
        "print ('Итоговый файл сохранен на диск')"
      ],
      "metadata": {
        "colab": {
          "base_uri": "https://localhost:8080/"
        },
        "id": "AcdySNU_a49a",
        "outputId": "c62fe658-4a29-4878-b317-076be76595db"
      },
      "execution_count": 56,
      "outputs": [
        {
          "output_type": "stream",
          "name": "stdout",
          "text": [
            "submit_part_0.feather shape (14368, 2506)\n",
            "submit_part_1.feather shape (14463, 2506)\n",
            "submit_part_2.feather shape (14366, 2505)\n",
            "submit_part_3.feather shape (14572, 2506)\n",
            "submit_part_4.feather shape (14315, 2505)\n",
            "submit_part_5.feather shape (14426, 2506)\n",
            "submit_part_6.feather shape (14485, 2506)\n",
            "submit_part_7.feather shape (14616, 2506)\n",
            "submit_part_8.feather shape (14623, 2505)\n",
            "submit_part_9.feather shape (14490, 2506)\n",
            "Итоговый файл сохранен на диск\n"
          ]
        }
      ]
    },
    {
      "cell_type": "code",
      "source": [
        "list_train_feat_age  = [\n",
        "    'train_feat_age_part_0.feather',\n",
        "    'train_feat_age_part_1.feather',\n",
        "    'train_feat_age_part_2.feather',\n",
        "    'train_feat_age_part_3.feather',\n",
        "    'train_feat_age_part_4.feather',\n",
        "    'train_feat_age_part_5.feather',\n",
        "    'train_feat_age_part_6.feather',\n",
        "    'train_feat_age_part_7.feather',\n",
        "    'train_feat_age_part_8.feather',\n",
        "    'train_feat_age_part_9.feather',\n",
        "     ]\n",
        "\n",
        "list_train_target_age  = [\n",
        "    'train_target_age_part_0.csv',\n",
        "    'train_target_age_part_1.csv',\n",
        "    'train_target_age_part_2.csv',\n",
        "    'train_target_age_part_3.csv',\n",
        "    'train_target_age_part_4.csv',\n",
        "    'train_target_age_part_5.csv',\n",
        "    'train_target_age_part_6.csv',\n",
        "    'train_target_age_part_7.csv',\n",
        "    'train_target_age_part_8.csv',\n",
        "    'train_target_age_part_9.csv',\n",
        "     ]\n",
        "list_train_feat_is_male  = [\n",
        "    'train_feat_is_male_part_0.feather',\n",
        "    'train_feat_is_male_part_1.feather',\n",
        "    'train_feat_is_male_part_2.feather',\n",
        "    'train_feat_is_male_part_3.feather',\n",
        "    'train_feat_is_male_part_4.feather',\n",
        "    'train_feat_is_male_part_5.feather',\n",
        "    'train_feat_is_male_part_6.feather',\n",
        "    'train_feat_is_male_part_7.feather',\n",
        "    'train_feat_is_male_part_8.feather',\n",
        "    'train_feat_is_male_part_9.feather',\n",
        "     ]\n",
        "\n",
        "list_train_target_is_male  = [\n",
        "    'train_target_is_male_part_0.csv',\n",
        "    'train_target_is_male_part_1.csv',\n",
        "    'train_target_is_male_part_2.csv',\n",
        "    'train_target_is_male_part_3.csv',\n",
        "    'train_target_is_male_part_4.csv',\n",
        "    'train_target_is_male_part_5.csv',\n",
        "    'train_target_is_male_part_6.csv',\n",
        "    'train_target_is_male_part_7.csv',\n",
        "    'train_target_is_male_part_8.csv',\n",
        "    'train_target_is_male_part_9.csv',\n",
        "     ]"
      ],
      "metadata": {
        "id": "KTJCW4DaE_la"
      },
      "execution_count": null,
      "outputs": []
    },
    {
      "cell_type": "code",
      "source": [
        "list_train_feat_age  = [\n",
        "    'train_feat_age_part_0.csv',\n",
        "    'train_feat_age_part_1.csv',\n",
        "    'train_feat_age_part_2.csv',\n",
        "    'train_feat_age_part_3.csv',\n",
        "    'train_feat_age_part_4.csv',\n",
        "    'train_feat_age_part_5.csv',\n",
        "    'train_feat_age_part_6.csv',\n",
        "    'train_feat_age_part_7.csv',\n",
        "    'train_feat_age_part_8.csv',\n",
        "    'train_feat_age_part_9.csv',\n",
        "     ]\n",
        "\n",
        "list_train_target_age  = [\n",
        "    'train_target_age_part_0.csv',\n",
        "    'train_target_age_part_1.csv',\n",
        "    'train_target_age_part_2.csv',\n",
        "    'train_target_age_part_3.csv',\n",
        "    'train_target_age_part_4.csv',\n",
        "    'train_target_age_part_5.csv',\n",
        "    'train_target_age_part_6.csv',\n",
        "    'train_target_age_part_7.csv',\n",
        "    'train_target_age_part_8.csv',\n",
        "    'train_target_age_part_9.csv',\n",
        "     ]\n",
        "list_train_feat_is_male  = [\n",
        "    'train_feat_is_male_part_0.feather',\n",
        "    'train_feat_is_male_part_1.feather',\n",
        "    'train_feat_is_male_part_2.feather',\n",
        "    'train_feat_is_male_part_3.feather',\n",
        "    'train_feat_is_male_part_4.feather',\n",
        "    'train_feat_is_male_part_5.feather',\n",
        "    'train_feat_is_male_part_6.feather',\n",
        "    'train_feat_is_male_part_7.feather',\n",
        "    'train_feat_is_male_part_8.feather',\n",
        "    'train_feat_is_male_part_9.feather',\n",
        "     ]\n",
        "\n",
        "list_train_target_is_male  = [\n",
        "    'train_target_is_male_part_0.csv',\n",
        "    'train_target_is_male_part_1.csv',\n",
        "    'train_target_is_male_part_2.csv',\n",
        "    'train_target_is_male_part_3.csv',\n",
        "    'train_target_is_male_part_4.csv',\n",
        "    'train_target_is_male_part_5.csv',\n",
        "    'train_target_is_male_part_6.csv',\n",
        "    'train_target_is_male_part_7.csv',\n",
        "    'train_target_is_male_part_8.csv',\n",
        "    'train_target_is_male_part_9.csv',\n",
        "     ]"
      ],
      "metadata": {
        "id": "FKVcVN3bpfA7"
      },
      "execution_count": null,
      "outputs": []
    },
    {
      "cell_type": "markdown",
      "source": [
        "### цикл склейки age"
      ],
      "metadata": {
        "id": "3GGjdeTONd1G"
      }
    },
    {
      "cell_type": "code",
      "source": [
        "%%time\n",
        "#цикл склейки train_feat_age\n",
        "#первый файл\n",
        "df = pd.read_feather(f'{LOCAL_DATA_PATH}{list_train_feat_age[0]}')\n",
        "#df = pd.read_csv(f'{LOCAL_DATA_PATH}{list_train_feat_age[0]}')\n",
        "print (list_train_feat_age[0],'shape', df.shape)\n",
        "\n",
        "\n",
        "for i in range (1,10):\n",
        "  df_ = pd.read_feather(f'{LOCAL_DATA_PATH}{list_train_feat_age[i]}')\n",
        "  #df_ = pd.read_csv(f'{LOCAL_DATA_PATH}{list_train_feat_age[i]}')   \n",
        "  #сшиваем\n",
        "  df = pd.concat([df, df_], ignore_index=True)\n",
        "  #контролль цикла\n",
        "  print (list_train_feat_age[i],'shape', df_.shape)\n",
        "  #print ('Суммарное df.shape',df.shape)\n",
        "\n",
        "\n",
        "# сохранение\n",
        "df.to_feather(f'{LOCAL_DATA_PATH}/train_feat_age_df_all_parts.feather')\n",
        "#df.to_csv(f'{LOCAL_DATA_PATH}/train_feat_age_df_all_parts.csv' ,index=False)\n",
        "\n",
        "print ('Итоговый файл сохранен на диск')\n",
        "\n",
        "\n",
        "\n",
        "#цикл склейки train_target_age\n",
        "#первый файл\n",
        "df = pd.read_csv(f'{LOCAL_DATA_PATH}{list_train_target_age[0]}')\n",
        "print (list_train_target_age[0],'shape', df.shape)\n",
        "\n",
        "\n",
        "for i in range (1,10):\n",
        "  #df_ = pd.read_csv(f'{LOCAL_DATA_PATH}{list_train_target_age[i]}')\n",
        "       \n",
        "  #сшиваем\n",
        "  df = pd.concat([df, pd.read_csv(f'{LOCAL_DATA_PATH}{list_train_target_age[i]}')], ignore_index=True)\n",
        "  #контролль цикла\n",
        "  print (list_train_target_age[i],'shape', df_.shape)\n",
        "  #print ('Суммарное df.shape',df.shape)\n",
        "\n",
        "\n",
        "# сохранение\n",
        "# pickle быстрее сохраняет( раз в 5-6) и читает, но  больше размером на диске в 6-7  раз\n",
        "df.to_csv(f'{LOCAL_DATA_PATH}/train_target_age_df_all_parts.csv', index=False)\n",
        "#df.to_pickle(f'{LOCAL_DATA_PATH}/train_target_age_df_all_parts.pkl')\n",
        "#df.to_feather(f'{LOCAL_DATA_PATH}/train_target_age_df_all_parts.feather')\n",
        "\n",
        "print ('Итоговый файл  train_target_age_df_all_parts сохранен на диск')\n"
      ],
      "metadata": {
        "id": "PSzrMLbX0O_3",
        "colab": {
          "base_uri": "https://localhost:8080/"
        },
        "outputId": "49197028-6e67-4022-82db-1292804f9b23"
      },
      "execution_count": null,
      "outputs": [
        {
          "output_type": "stream",
          "name": "stdout",
          "text": [
            "train_feat_age_part_0.feather shape (27081, 2505)\n",
            "train_feat_age_part_1.feather shape (26936, 2505)\n",
            "train_feat_age_part_2.feather shape (26801, 2504)\n",
            "train_feat_age_part_3.feather shape (26901, 2505)\n",
            "train_feat_age_part_4.feather shape (26794, 2504)\n",
            "train_feat_age_part_5.feather shape (26962, 2505)\n",
            "train_feat_age_part_6.feather shape (26817, 2505)\n",
            "train_feat_age_part_7.feather shape (26839, 2505)\n",
            "train_feat_age_part_8.feather shape (26883, 2504)\n",
            "train_feat_age_part_9.feather shape (26908, 2505)\n",
            "Итоговый файл сохранен на диск\n",
            "train_target_age_part_0.csv shape (27081, 1)\n",
            "train_target_age_part_1.csv shape (26908, 2505)\n",
            "train_target_age_part_2.csv shape (26908, 2505)\n",
            "train_target_age_part_3.csv shape (26908, 2505)\n",
            "train_target_age_part_4.csv shape (26908, 2505)\n",
            "train_target_age_part_5.csv shape (26908, 2505)\n",
            "train_target_age_part_6.csv shape (26908, 2505)\n",
            "train_target_age_part_7.csv shape (26908, 2505)\n",
            "train_target_age_part_8.csv shape (26908, 2505)\n",
            "train_target_age_part_9.csv shape (26908, 2505)\n",
            "Итоговый файл  train_target_age_df_all_parts сохранен на диск\n",
            "CPU times: user 17.4 s, sys: 17 s, total: 34.3 s\n",
            "Wall time: 50.1 s\n"
          ]
        }
      ]
    },
    {
      "cell_type": "markdown",
      "source": [
        "### цикл склейки is_male"
      ],
      "metadata": {
        "id": "dOLcxJslPel_"
      }
    },
    {
      "cell_type": "code",
      "source": [
        "#цикл склейки train_feat_is_male\n",
        "#первый файл\n",
        "df = pd.read_feather(f'{LOCAL_DATA_PATH}{list_train_feat_is_male[0]}')\n",
        "print (list_train_feat_is_male[0],'shape', df.shape)\n",
        "\n",
        "\n",
        "for i in range (1,len(list_train_feat_is_male)):\n",
        "  df_ = pd.read_feather(f'{LOCAL_DATA_PATH}{list_train_feat_is_male[i]}')\n",
        "       \n",
        "  #сшиваем\n",
        "  df = pd.concat([df, df_], ignore_index=True)\n",
        "  #контролль цикла\n",
        "  print (list_train_feat_is_male[i],'shape', df_.shape)\n",
        "  #print ('Суммарное df.shape',df.shape)\n",
        "\n",
        "\n",
        "# сохранение\n",
        "\n",
        "df.to_feather(f'{LOCAL_DATA_PATH}/train_feat_is_male_df_all_parts.feather')\n",
        "print ('Итоговый файл сохранен на диск')\n",
        "\n",
        "\n",
        "\n",
        "#цикл склейки train_target_is_male\n",
        "#первый файл\n",
        "df = pd.read_csv(f'{LOCAL_DATA_PATH}{list_train_target_is_male[0]}')\n",
        "print (list_train_target_is_male[0],'shape', df.shape)\n",
        "\n",
        "\n",
        "for i in range (1,len(list_train_target_is_male)):\n",
        "  df_ = pd.read_csv(f'{LOCAL_DATA_PATH}{list_train_target_is_male[i]}')\n",
        "       \n",
        "  #сшиваем\n",
        "  df = pd.concat([df, df_], ignore_index=True)\n",
        "  #контролль цикла\n",
        "  print (list_train_target_is_male[i],'shape', df_.shape)\n",
        "  #print ('Суммарное df.shape',df.shape)\n",
        "\n",
        "\n",
        "# сохранение\n",
        "\n",
        "df.to_csv(f'{LOCAL_DATA_PATH}/train_target_is_male_df_all_parts.csv', index=False)\n",
        "\n",
        "#df.to_feather(f'{LOCAL_DATA_PATH}/train_target_is_male_df_all_parts.feather')\n",
        "\n",
        "print ('Итоговый файл  train_target_is_male_df_all_parts сохранен на диск')"
      ],
      "metadata": {
        "id": "Dkga_jVYIvf4",
        "colab": {
          "base_uri": "https://localhost:8080/",
          "height": 380
        },
        "outputId": "16000442-0a26-470c-ada5-d73ee3a3ab6b"
      },
      "execution_count": null,
      "outputs": [
        {
          "output_type": "error",
          "ename": "FileNotFoundError",
          "evalue": "ignored",
          "traceback": [
            "\u001b[0;31m---------------------------------------------------------------------------\u001b[0m",
            "\u001b[0;31mFileNotFoundError\u001b[0m                         Traceback (most recent call last)",
            "\u001b[0;32m<ipython-input-12-b8cc691b169c>\u001b[0m in \u001b[0;36m<module>\u001b[0;34m\u001b[0m\n\u001b[1;32m      1\u001b[0m \u001b[0;31m#цикл склейки train_feat_is_male\u001b[0m\u001b[0;34m\u001b[0m\u001b[0;34m\u001b[0m\u001b[0;34m\u001b[0m\u001b[0m\n\u001b[1;32m      2\u001b[0m \u001b[0;31m#первый файл\u001b[0m\u001b[0;34m\u001b[0m\u001b[0;34m\u001b[0m\u001b[0;34m\u001b[0m\u001b[0m\n\u001b[0;32m----> 3\u001b[0;31m \u001b[0mdf\u001b[0m \u001b[0;34m=\u001b[0m \u001b[0mpd\u001b[0m\u001b[0;34m.\u001b[0m\u001b[0mread_feather\u001b[0m\u001b[0;34m(\u001b[0m\u001b[0;34mf'{LOCAL_DATA_PATH}{list_train_feat_is_male[0]}'\u001b[0m\u001b[0;34m)\u001b[0m\u001b[0;34m\u001b[0m\u001b[0;34m\u001b[0m\u001b[0m\n\u001b[0m\u001b[1;32m      4\u001b[0m \u001b[0mprint\u001b[0m \u001b[0;34m(\u001b[0m\u001b[0mlist_train_feat_is_male\u001b[0m\u001b[0;34m[\u001b[0m\u001b[0;36m0\u001b[0m\u001b[0;34m]\u001b[0m\u001b[0;34m,\u001b[0m\u001b[0;34m'shape'\u001b[0m\u001b[0;34m,\u001b[0m \u001b[0mdf\u001b[0m\u001b[0;34m.\u001b[0m\u001b[0mshape\u001b[0m\u001b[0;34m)\u001b[0m\u001b[0;34m\u001b[0m\u001b[0;34m\u001b[0m\u001b[0m\n\u001b[1;32m      5\u001b[0m \u001b[0;34m\u001b[0m\u001b[0m\n",
            "\u001b[0;32m/usr/local/lib/python3.8/dist-packages/pandas/io/feather_format.py\u001b[0m in \u001b[0;36mread_feather\u001b[0;34m(path, columns, use_threads, storage_options)\u001b[0m\n\u001b[1;32m    124\u001b[0m     \u001b[0;32mfrom\u001b[0m \u001b[0mpyarrow\u001b[0m \u001b[0;32mimport\u001b[0m \u001b[0mfeather\u001b[0m\u001b[0;34m\u001b[0m\u001b[0;34m\u001b[0m\u001b[0m\n\u001b[1;32m    125\u001b[0m \u001b[0;34m\u001b[0m\u001b[0m\n\u001b[0;32m--> 126\u001b[0;31m     with get_handle(\n\u001b[0m\u001b[1;32m    127\u001b[0m         \u001b[0mpath\u001b[0m\u001b[0;34m,\u001b[0m \u001b[0;34m\"rb\"\u001b[0m\u001b[0;34m,\u001b[0m \u001b[0mstorage_options\u001b[0m\u001b[0;34m=\u001b[0m\u001b[0mstorage_options\u001b[0m\u001b[0;34m,\u001b[0m \u001b[0mis_text\u001b[0m\u001b[0;34m=\u001b[0m\u001b[0;32mFalse\u001b[0m\u001b[0;34m\u001b[0m\u001b[0;34m\u001b[0m\u001b[0m\n\u001b[1;32m    128\u001b[0m     ) as handles:\n",
            "\u001b[0;32m/usr/local/lib/python3.8/dist-packages/pandas/io/common.py\u001b[0m in \u001b[0;36mget_handle\u001b[0;34m(path_or_buf, mode, encoding, compression, memory_map, is_text, errors, storage_options)\u001b[0m\n\u001b[1;32m    709\u001b[0m         \u001b[0;32melse\u001b[0m\u001b[0;34m:\u001b[0m\u001b[0;34m\u001b[0m\u001b[0;34m\u001b[0m\u001b[0m\n\u001b[1;32m    710\u001b[0m             \u001b[0;31m# Binary mode\u001b[0m\u001b[0;34m\u001b[0m\u001b[0;34m\u001b[0m\u001b[0;34m\u001b[0m\u001b[0m\n\u001b[0;32m--> 711\u001b[0;31m             \u001b[0mhandle\u001b[0m \u001b[0;34m=\u001b[0m \u001b[0mopen\u001b[0m\u001b[0;34m(\u001b[0m\u001b[0mhandle\u001b[0m\u001b[0;34m,\u001b[0m \u001b[0mioargs\u001b[0m\u001b[0;34m.\u001b[0m\u001b[0mmode\u001b[0m\u001b[0;34m)\u001b[0m\u001b[0;34m\u001b[0m\u001b[0;34m\u001b[0m\u001b[0m\n\u001b[0m\u001b[1;32m    712\u001b[0m         \u001b[0mhandles\u001b[0m\u001b[0;34m.\u001b[0m\u001b[0mappend\u001b[0m\u001b[0;34m(\u001b[0m\u001b[0mhandle\u001b[0m\u001b[0;34m)\u001b[0m\u001b[0;34m\u001b[0m\u001b[0;34m\u001b[0m\u001b[0m\n\u001b[1;32m    713\u001b[0m \u001b[0;34m\u001b[0m\u001b[0m\n",
            "\u001b[0;31mFileNotFoundError\u001b[0m: [Errno 2] No such file or directory: '/content/drive/MyDrive/DS/MTS/train_feat_is_male_part_0.feather'"
          ]
        }
      ]
    },
    {
      "cell_type": "code",
      "source": [
        "\n",
        "#цикл склейки train_target_is_male\n",
        "#первый файл\n",
        "df = pd.read_csv(f'{LOCAL_DATA_PATH}{list_train_target_is_male[0]}')\n",
        "print (list_train_target_is_male[0],'shape', df.shape)\n",
        "\n",
        "for i in range (1,len(list_train_target_is_male)):\n",
        "  df_ = pd.read_csv(f'{LOCAL_DATA_PATH}{list_train_target_is_male[i]}')\n",
        "       \n",
        "  #сшиваем\n",
        "  df = pd.concat([df, df_], ignore_index=True)\n",
        "  #контролль цикла\n",
        "  print (list_train_target_is_male[i],'shape', df_.shape)\n",
        "  #print ('Суммарное df.shape',df.shape)\n",
        "\n",
        "\n",
        "# сохранение\n",
        "\n",
        "df.to_csv(f'{LOCAL_DATA_PATH}/train_target_is_male_df_all_parts.csv', index=False)\n",
        "\n",
        "#df.to_feather(f'{LOCAL_DATA_PATH}/train_target_is_male_df_all_parts.feather')\n",
        "\n",
        "print ('Итоговый файл  train_target_is_male_df_all_parts сохранен на диск')"
      ],
      "metadata": {
        "colab": {
          "base_uri": "https://localhost:8080/"
        },
        "id": "9f4n5WYXPOyi",
        "outputId": "41f0b19b-869b-4246-bbed-12126d5ea22f"
      },
      "execution_count": null,
      "outputs": [
        {
          "output_type": "stream",
          "name": "stdout",
          "text": [
            "train_target_is_male_part_0.csv shape (26529, 1)\n",
            "train_target_is_male_part_1.csv shape (26394, 1)\n",
            "train_target_is_male_part_2.csv shape (26269, 1)\n",
            "train_target_is_male_part_3.csv shape (26338, 1)\n",
            "train_target_is_male_part_4.csv shape (26251, 1)\n",
            "train_target_is_male_part_5.csv shape (26410, 1)\n",
            "train_target_is_male_part_6.csv shape (26287, 1)\n",
            "train_target_is_male_part_7.csv shape (26356, 1)\n",
            "train_target_is_male_part_8.csv shape (26316, 1)\n",
            "train_target_is_male_part_9.csv shape (26358, 1)\n",
            "Итоговый файл  train_target_is_male_df_all_parts сохранен на диск\n"
          ]
        }
      ]
    },
    {
      "cell_type": "code",
      "source": [
        "df.shape"
      ],
      "metadata": {
        "colab": {
          "base_uri": "https://localhost:8080/"
        },
        "id": "-Ll9zf1w79cj",
        "outputId": "012b7a43-8e75-47f9-d29f-6e0c19d25058"
      },
      "execution_count": null,
      "outputs": [
        {
          "output_type": "execute_result",
          "data": {
            "text/plain": [
              "(410594, 211)"
            ]
          },
          "metadata": {},
          "execution_count": 7
        }
      ]
    },
    {
      "cell_type": "markdown",
      "source": [
        "# tmp\n"
      ],
      "metadata": {
        "id": "etbRa8ls0X7B"
      }
    },
    {
      "cell_type": "markdown",
      "source": [
        "### cpe_manufacturer_name\n"
      ],
      "metadata": {
        "id": "tv4gZIrcAlFM"
      }
    },
    {
      "cell_type": "code",
      "source": [
        "#загрузим данные\n",
        "df_train = pd.read_pickle(f'{LOCAL_DATA_PATH}train_part_0.pkl')#.sample(frac=0.1, random_state=777)\n",
        "df_train.shape\n"
      ],
      "metadata": {
        "colab": {
          "base_uri": "https://localhost:8080/"
        },
        "id": "9gWEvOLoD1LO",
        "outputId": "0739d4ad-316d-4f85-fe89-9fa66ade2341"
      },
      "execution_count": null,
      "outputs": [
        {
          "output_type": "execute_result",
          "data": {
            "text/plain": [
              "(27081, 20)"
            ]
          },
          "metadata": {},
          "execution_count": 109
        }
      ]
    },
    {
      "cell_type": "code",
      "source": [
        "df_train.head(1)"
      ],
      "metadata": {
        "colab": {
          "base_uri": "https://localhost:8080/",
          "height": 145
        },
        "id": "b2E2pNXuAygH",
        "outputId": "2a4a3f6b-1fa6-40d3-a154-a93dcee58bf8"
      },
      "execution_count": null,
      "outputs": [
        {
          "output_type": "execute_result",
          "data": {
            "text/plain": [
              "   user_id    day  evening  morning  night cpe_model_name  \\\n",
              "0        4  199.0    170.0    212.0   10.0         Nova 3   \n",
              "\n",
              "  cpe_manufacturer_name  apple.com  google.com  icloud.com  instagram.com  \\\n",
              "0                Huawei        NaN        28.0         NaN            1.0   \n",
              "\n",
              "   mail.yandex.ru  o2.mail.ru  online.sberbank.ru  play.google.com  vk.com  \\\n",
              "0             NaN        17.0                 8.0              1.0    32.0   \n",
              "\n",
              "   yandex.ru  zen.yandex.ru  age is_male  \n",
              "0       21.0            2.0    2       0  "
            ],
            "text/html": [
              "\n",
              "  <div id=\"df-210d756b-4ce0-4441-bf24-3c2b4c921028\">\n",
              "    <div class=\"colab-df-container\">\n",
              "      <div>\n",
              "<style scoped>\n",
              "    .dataframe tbody tr th:only-of-type {\n",
              "        vertical-align: middle;\n",
              "    }\n",
              "\n",
              "    .dataframe tbody tr th {\n",
              "        vertical-align: top;\n",
              "    }\n",
              "\n",
              "    .dataframe thead th {\n",
              "        text-align: right;\n",
              "    }\n",
              "</style>\n",
              "<table border=\"1\" class=\"dataframe\">\n",
              "  <thead>\n",
              "    <tr style=\"text-align: right;\">\n",
              "      <th></th>\n",
              "      <th>user_id</th>\n",
              "      <th>day</th>\n",
              "      <th>evening</th>\n",
              "      <th>morning</th>\n",
              "      <th>night</th>\n",
              "      <th>cpe_model_name</th>\n",
              "      <th>cpe_manufacturer_name</th>\n",
              "      <th>apple.com</th>\n",
              "      <th>google.com</th>\n",
              "      <th>icloud.com</th>\n",
              "      <th>instagram.com</th>\n",
              "      <th>mail.yandex.ru</th>\n",
              "      <th>o2.mail.ru</th>\n",
              "      <th>online.sberbank.ru</th>\n",
              "      <th>play.google.com</th>\n",
              "      <th>vk.com</th>\n",
              "      <th>yandex.ru</th>\n",
              "      <th>zen.yandex.ru</th>\n",
              "      <th>age</th>\n",
              "      <th>is_male</th>\n",
              "    </tr>\n",
              "  </thead>\n",
              "  <tbody>\n",
              "    <tr>\n",
              "      <th>0</th>\n",
              "      <td>4</td>\n",
              "      <td>199.0</td>\n",
              "      <td>170.0</td>\n",
              "      <td>212.0</td>\n",
              "      <td>10.0</td>\n",
              "      <td>Nova 3</td>\n",
              "      <td>Huawei</td>\n",
              "      <td>NaN</td>\n",
              "      <td>28.0</td>\n",
              "      <td>NaN</td>\n",
              "      <td>1.0</td>\n",
              "      <td>NaN</td>\n",
              "      <td>17.0</td>\n",
              "      <td>8.0</td>\n",
              "      <td>1.0</td>\n",
              "      <td>32.0</td>\n",
              "      <td>21.0</td>\n",
              "      <td>2.0</td>\n",
              "      <td>2</td>\n",
              "      <td>0</td>\n",
              "    </tr>\n",
              "  </tbody>\n",
              "</table>\n",
              "</div>\n",
              "      <button class=\"colab-df-convert\" onclick=\"convertToInteractive('df-210d756b-4ce0-4441-bf24-3c2b4c921028')\"\n",
              "              title=\"Convert this dataframe to an interactive table.\"\n",
              "              style=\"display:none;\">\n",
              "        \n",
              "  <svg xmlns=\"http://www.w3.org/2000/svg\" height=\"24px\"viewBox=\"0 0 24 24\"\n",
              "       width=\"24px\">\n",
              "    <path d=\"M0 0h24v24H0V0z\" fill=\"none\"/>\n",
              "    <path d=\"M18.56 5.44l.94 2.06.94-2.06 2.06-.94-2.06-.94-.94-2.06-.94 2.06-2.06.94zm-11 1L8.5 8.5l.94-2.06 2.06-.94-2.06-.94L8.5 2.5l-.94 2.06-2.06.94zm10 10l.94 2.06.94-2.06 2.06-.94-2.06-.94-.94-2.06-.94 2.06-2.06.94z\"/><path d=\"M17.41 7.96l-1.37-1.37c-.4-.4-.92-.59-1.43-.59-.52 0-1.04.2-1.43.59L10.3 9.45l-7.72 7.72c-.78.78-.78 2.05 0 2.83L4 21.41c.39.39.9.59 1.41.59.51 0 1.02-.2 1.41-.59l7.78-7.78 2.81-2.81c.8-.78.8-2.07 0-2.86zM5.41 20L4 18.59l7.72-7.72 1.47 1.35L5.41 20z\"/>\n",
              "  </svg>\n",
              "      </button>\n",
              "      \n",
              "  <style>\n",
              "    .colab-df-container {\n",
              "      display:flex;\n",
              "      flex-wrap:wrap;\n",
              "      gap: 12px;\n",
              "    }\n",
              "\n",
              "    .colab-df-convert {\n",
              "      background-color: #E8F0FE;\n",
              "      border: none;\n",
              "      border-radius: 50%;\n",
              "      cursor: pointer;\n",
              "      display: none;\n",
              "      fill: #1967D2;\n",
              "      height: 32px;\n",
              "      padding: 0 0 0 0;\n",
              "      width: 32px;\n",
              "    }\n",
              "\n",
              "    .colab-df-convert:hover {\n",
              "      background-color: #E2EBFA;\n",
              "      box-shadow: 0px 1px 2px rgba(60, 64, 67, 0.3), 0px 1px 3px 1px rgba(60, 64, 67, 0.15);\n",
              "      fill: #174EA6;\n",
              "    }\n",
              "\n",
              "    [theme=dark] .colab-df-convert {\n",
              "      background-color: #3B4455;\n",
              "      fill: #D2E3FC;\n",
              "    }\n",
              "\n",
              "    [theme=dark] .colab-df-convert:hover {\n",
              "      background-color: #434B5C;\n",
              "      box-shadow: 0px 1px 3px 1px rgba(0, 0, 0, 0.15);\n",
              "      filter: drop-shadow(0px 1px 2px rgba(0, 0, 0, 0.3));\n",
              "      fill: #FFFFFF;\n",
              "    }\n",
              "  </style>\n",
              "\n",
              "      <script>\n",
              "        const buttonEl =\n",
              "          document.querySelector('#df-210d756b-4ce0-4441-bf24-3c2b4c921028 button.colab-df-convert');\n",
              "        buttonEl.style.display =\n",
              "          google.colab.kernel.accessAllowed ? 'block' : 'none';\n",
              "\n",
              "        async function convertToInteractive(key) {\n",
              "          const element = document.querySelector('#df-210d756b-4ce0-4441-bf24-3c2b4c921028');\n",
              "          const dataTable =\n",
              "            await google.colab.kernel.invokeFunction('convertToInteractive',\n",
              "                                                     [key], {});\n",
              "          if (!dataTable) return;\n",
              "\n",
              "          const docLinkHtml = 'Like what you see? Visit the ' +\n",
              "            '<a target=\"_blank\" href=https://colab.research.google.com/notebooks/data_table.ipynb>data table notebook</a>'\n",
              "            + ' to learn more about interactive tables.';\n",
              "          element.innerHTML = '';\n",
              "          dataTable['output_type'] = 'display_data';\n",
              "          await google.colab.output.renderOutput(dataTable, element);\n",
              "          const docLink = document.createElement('div');\n",
              "          docLink.innerHTML = docLinkHtml;\n",
              "          element.appendChild(docLink);\n",
              "        }\n",
              "      </script>\n",
              "    </div>\n",
              "  </div>\n",
              "  "
            ]
          },
          "metadata": {},
          "execution_count": 91
        }
      ]
    },
    {
      "cell_type": "code",
      "source": [
        "df_train['pusto'] = ' '"
      ],
      "metadata": {
        "id": "z2kqXwU-CXNy"
      },
      "execution_count": null,
      "outputs": []
    },
    {
      "cell_type": "code",
      "source": [
        "df_train['model'] = df_train['cpe_manufacturer_name'] + ' ' + df_train['cpe_model_name']"
      ],
      "metadata": {
        "id": "ph5TapuMAywt"
      },
      "execution_count": null,
      "outputs": []
    },
    {
      "cell_type": "code",
      "source": [
        "df_train['model'].unique()"
      ],
      "metadata": {
        "colab": {
          "base_uri": "https://localhost:8080/"
        },
        "id": "N7_0uq0jAy7n",
        "outputId": "5af7b06f-8a31-4221-c12a-a8408b9314b6"
      },
      "execution_count": null,
      "outputs": [
        {
          "output_type": "execute_result",
          "data": {
            "text/plain": [
              "array(['Huawei Nova 3', 'Samsung Galaxy A10 Dual',\n",
              "       'Samsung Galaxy A51 Dual', 'Samsung Galaxy A7 2017 Dual',\n",
              "       'Apple iPhone 8 Plus', 'Apple iPhone XR', 'Huawei Honor 9 Lite',\n",
              "       'Samsung Galaxy J6 Plus Dual', 'Huawei Honor 8A',\n",
              "       'Huawei Honor 8X', 'Xiaomi Redmi Note 8T', 'Huawei Honor 9 Dual',\n",
              "       'Samsung Galaxy A52', 'Huawei Honor 10 Lite', 'Apple iPhone 11',\n",
              "       'Apple iPhone 5S', 'Samsung Galaxy A5 2017 Dual', 'Apple iPhone X',\n",
              "       'Apple iPhone 11 Pro Max', 'Apple iPhone 6', 'Apple iPhone 7',\n",
              "       'Apple iPhone 7 Plus', 'Huawei Honor 7A Pro',\n",
              "       'Samsung Galaxy A50 Dual', 'Samsung Galaxy A9 2018 Dual',\n",
              "       'Xiaomi Redmi 9C NFC', 'Apple iPhone 6S', 'Apple iPhone 11 Pro',\n",
              "       'Samsung Galaxy A5 2016 Duos', 'Xiaomi Redmi Note 8 Pro',\n",
              "       'Samsung Galaxy A30 Dual', 'Apple iPhone SE', 'Apple iPhone 8',\n",
              "       'Huawei Honor 20', 'Apple iPhone Xs', 'Xiaomi Redmi 6A',\n",
              "       'Huawei Honor 7S Dual', 'Samsung Galaxy M31',\n",
              "       'Samsung Galaxy A7 2018 Dual', 'Samsung Galaxy A32 LTE',\n",
              "       'Apple iPhone 12 Pro', 'Samsung Galaxy A30s Dual',\n",
              "       'Huawei Honor 20 Pro', nan, 'Samsung Galaxy A11 Dual',\n",
              "       'Samsung Galaxy A12', 'Samsung Galaxy S III Neo Plus',\n",
              "       'Samsung Galaxy S20 FE', 'Xiaomi Redmi 9',\n",
              "       'Samsung Galaxy S10e Dual', 'Huawei P30 Pro', 'Samsung Galaxy A31',\n",
              "       'Xiaomi Poco X3 NFC', 'Huawei Y3 2017 MT6737M Dual',\n",
              "       'Samsung Galaxy A71 Dual Russia', 'Xiaomi Redmi Note 7',\n",
              "       'Apple iPhone 12 Pro Max', 'Huawei P Smart Z',\n",
              "       'Samsung Galaxy S8 Dual', 'Samsung Galaxy J5 2016 LTE Dual',\n",
              "       'Samsung Galaxy J4 Plus Dual', 'Samsung Galaxy A70 Dual',\n",
              "       'Samsung Galaxy A20 Dual', 'Samsung Galaxy J6 Dual',\n",
              "       'Samsung Galaxy Note 20 Ultra', 'Samsung Galaxy A40 Dual',\n",
              "       'Samsung Galaxy A8 2018 Dual', 'Xiaomi Redmi Note 10 Pro',\n",
              "       'Xiaomi Redmi Note 9 Pro', 'Samsung Galaxy A72', 'Xiaomi Redmi 8',\n",
              "       'Samsung Galaxy A51',\n",
              "       'Realme Chongqing Mobile Telecommunications Corp Ltd XT',\n",
              "       'Huawei Device Company Limited Honor 10X Lite',\n",
              "       'Realme Chongqing Mobile Telecommunications Corp Ltd X50',\n",
              "       'Samsung Galaxy S9 Dual', 'Apple iPhone Xs Max', 'Huawei P30',\n",
              "       'Apple iPhone 6 Plus', 'Samsung Galaxy M12', 'Xiaomi Redmi Note 9',\n",
              "       'Huawei P30 lite', 'Samsung Galaxy M21',\n",
              "       'Huawei Honor 6C Pro Dual', 'Apple iPhone 12',\n",
              "       'Xiaomi Redmi 9A Global', 'Samsung Galaxy J1 2016 LTE Dual',\n",
              "       'Xiaomi Mi 9 SE', 'Xiaomi Poco X3', 'Huawei Honor 8 Dual',\n",
              "       'Huawei Honor 6A', 'Samsung Galaxy S10 Dual', 'Huawei Y5 2019',\n",
              "       'Huawei P20 Lite', 'Huawei Honor 7X', 'Samsung Galaxy S20 Dual',\n",
              "       'Xiaomi Redmi 9C', 'Huawei HONOR 20S', 'Samsung Galaxy A5 2017',\n",
              "       'Samsung Galaxy A80 Dual', 'Samsung Galaxy A3 2016 Duos',\n",
              "       'Huawei Honor 8 Lite', 'Samsung Galaxy S21', 'Huawei Y5 Lite',\n",
              "       'Samsung Galaxy A20s Dual', 'Apple iPhone SE 2020',\n",
              "       'Samsung Galaxy S21 Ultra 5G', 'Samsung Galaxy J3 LTE Dual',\n",
              "       'Samsung Galaxy A21s', 'ZTE Blade A3 2020RU', 'Xiaomi Redmi 6',\n",
              "       'Huawei Honor 9A', 'Oppo A1k', 'Xiaomi Redmi 3S',\n",
              "       'Huawei Y3 2017 MT6580M Dual', 'Samsung Galaxy J2 Prime Dual',\n",
              "       'Samsung Galaxy S10 Plus Dual', 'Nokia 5 Dual', 'Huawei Honor 6X',\n",
              "       'Samsung Galaxy S5 4G', 'Huawei Nova 5T', 'Vivo Y17',\n",
              "       'Huawei Honor 10', 'Apple iPhone 13 Pro', 'Xiaomi Redmi Note 8',\n",
              "       'Xiaomi Poco M3', 'Xiaomi Redmi 9A', 'Samsung Galaxy S8 Plus Dual',\n",
              "       'Samsung Galaxy S7 Dual Southeast Asia', 'Xiaomi Mi Note 10 Lite',\n",
              "       'Xiaomi Redmi K20', 'Huawei Honor View 20', 'Xiaomi Redmi 4A',\n",
              "       'Samsung Galaxy J2 Core Dual', 'Samsung Galaxy A6',\n",
              "       'Huawei Y7 2019', 'Huawei Honor 8S', 'Samsung Galaxy S10',\n",
              "       'Huawei Y7p', 'Asus Zenfone Max Plus ZB570TL', 'Huawei Y6 2019',\n",
              "       'Huawei Honor 8C', 'Samsung Galaxy S9 Plus Dual',\n",
              "       'Samsung Galaxy Note 9 Dual', 'Samsung Galaxy A3 2017 Dual',\n",
              "       'Huawei P Smart Dual', 'Xiaomi Redmi Note 4X',\n",
              "       'Samsung Galaxy A02 Dual SIM', 'Apple iPhone 12 mini',\n",
              "       'Huawei Mate 10 Lite', 'Huawei Honor 20 Lite',\n",
              "       'Samsung Galaxy A02s', 'HTC U Ultra', 'Huawei Honor 7C',\n",
              "       'Huawei P20 Pro', 'Samsung Galaxy J3 2017 Dual',\n",
              "       'Samsung Galaxy M31s', 'Samsung Galaxy S20+',\n",
              "       'Huawei Mate 20 Lite', 'Huawei Y5 Prime 2018',\n",
              "       'Huawei Honor 5C Dual', 'Huawei P Smart 2019', 'Xiaomi Redmi 4X',\n",
              "       'Samsung Galaxy J4 2018 Dual', 'Apple iPhone 13',\n",
              "       'Xiaomi Redmi Note 5A', 'Samsung Galaxy Note 8 Dual',\n",
              "       'Xiaomi MI Mix 2S', 'Samsung Galaxy J7 2016 LTE Dual',\n",
              "       'Xiaomi Redmi 7A', 'Vivo S1 Pro',\n",
              "       'Realme Chongqing Mobile Telecommunications Corp Ltd 6',\n",
              "       'Apple iPhone 5', 'Sony Xperia XA2', 'Samsung Galaxy Note10 Lite',\n",
              "       'Xiaomi Redmi 5 Plus',\n",
              "       'Realme Chongqing Mobile Telecommunications Corp Ltd C3',\n",
              "       'Xiaomi Note7', 'Honor Device Company Limited Honor 50',\n",
              "       'Vivo Y11', 'Huawei P40 Lite',\n",
              "       'Realme Chongqing Mobile Telecommunications Corp Ltd Realme 7 Pro',\n",
              "       'Samsung Galaxy J5 2017 Dual', 'Oppo Reno2',\n",
              "       'Huawei Device Company Limited P Smart 2021',\n",
              "       'Xiaomi Redmi Note 3 Pro',\n",
              "       'Realme Chongqing Mobile Telecommunications Corp Ltd C21',\n",
              "       'Xiaomi Poco X3 Pro', 'Apple iPhone 4S',\n",
              "       'Samsung Galaxy A01 Dual Global', 'Vivo Y31', 'Xiaomi MI 8',\n",
              "       'Xiaomi Redmi Note 6 Pro', 'ZTE Blade A5', 'Xiaomi MI A2 Lite',\n",
              "       'Asus Zenfone Max Pro M1', 'Oppo A5s', 'Huawei Honor 9S',\n",
              "       'Samsung Galaxy J7 2017 Dual', 'Xiaomi Mi 9 Lite', 'Oppo F11 Pro',\n",
              "       'Xiaomi Redmi 7', 'Xiaomi Redmi Note 9S',\n",
              "       'Realme Chongqing Mobile Telecommunications Corp Ltd C11',\n",
              "       'Xiaomi Redmi 4 Prime', 'Samsung Galaxy A6 Plus 2018 Dual',\n",
              "       'Apple iPhone 6S Plus', 'Xiaomi MI 8 Lite', 'Meizu M6 Note',\n",
              "       'Asus ZenFone 5', 'Samsung Galaxy M51 Dual',\n",
              "       'Xiaomi Mi 10 Lite 5G', 'Vivo Y1s', 'Xiaomi Redmi 9T',\n",
              "       'Samsung Galaxy Note 10 Dual', 'Samsung Galaxy J3 2016',\n",
              "       'Xiaomi MI Note 3', 'Oppo A9 2020', 'Xiaomi MI A1',\n",
              "       'Xiaomi Redmi Note 4', 'Oppo A92s', 'Xiaomi Mi 10T Pro',\n",
              "       'Xiaomi Redmi Note 7 Pro', 'Nokia 5.4',\n",
              "       'Samsung Galaxy J7 Core Dual', 'Samsung Galaxy A10',\n",
              "       'Xiaomi Mi 10T Pro 5G', 'Samsung Galaxy A3 LTE Dual',\n",
              "       'Xiaomi Redmi Note 5', 'Huawei Honor 9C', 'Oppo A5 2020',\n",
              "       'Samsung Galaxy A8 Plus 2018 Dual', 'Samsung Galaxy A41 Dual',\n",
              "       'Samsung Galaxy Note 10 Plus Dual', 'Huawei Y8p',\n",
              "       'Huawei Honor View 10', 'Huawei Honor Play', 'Xiaomi MI A3',\n",
              "       'Doke Communication (HK) Limited BV5900', 'Huawei Honor 30 5G',\n",
              "       'Samsung Galaxy J2 2018 Dual', 'Xiaomi MI 5S', 'Nokia 7.2',\n",
              "       'Realme Chongqing Mobile Telecommunications Corp Ltd 6i',\n",
              "       'Xiaomi 11T', 'Xiaomi MI A2', 'Huawei Honor 30 Pro+', 'Oppo A91',\n",
              "       'Samsung Galaxy A6 2018 Dual', 'Xiaomi Redmi 5', 'Nokia C20',\n",
              "       'Vivo Y19', 'LG X Power Dual', 'Huawei Nova 2', 'Xiaomi Redmi 8A',\n",
              "       'Nokia 6 Dual', 'ZTE Blade L8', 'Huawei P9 Lite Dual',\n",
              "       'Itel Technology Limited A16 Plus', 'Huawei Honor V30 Pro',\n",
              "       'Apple iPhone 13 Pro Max', 'Samsung Galaxy Tab A 8.0 2019 LTE',\n",
              "       'Samsung Galaxy S21 FE', 'Xiaomi Redmi Go', 'Xiaomi Redmi K20 Pro',\n",
              "       'Samsung Galaxy A6 Plus', 'ZTE Blade 20 Smart',\n",
              "       'Samsung Galaxy J5 Prime Dual', 'Xiaomi MI Max 2',\n",
              "       'Huawei Y9s 2019', 'Xiaomi Mi 9', 'Huawei Y6 Prime 2018',\n",
              "       'Nokia 8 Dual', 'Samsung Galaxy J8 Dual',\n",
              "       'Samsung Galaxy S6 Edge+ LTE-A', 'Meizu M6',\n",
              "       'Samsung Galaxy Note 9', 'Huawei Mate 20 Pro',\n",
              "       'Huawei GR3 2017 Dual',\n",
              "       'Samsung Galaxy Note20 Ultra 5G Dual Global',\n",
              "       'Samsung Galaxy S21+ 5G', 'Xiaomi Redmi Note 10',\n",
              "       'Xiaomi Redmi 5A', 'Vivo Y20', 'OnePlus 7 Pro', 'LeEco Le 2',\n",
              "       'Samsung Galaxy A01 Core Dual',\n",
              "       'Samsung Galaxy S7 EDGE Dual Indonesia', 'Huawei P10',\n",
              "       'Nokia 7 Plus Dual', 'Nokia 3 Dual', 'Sony Xperia E5',\n",
              "       'Samsung Galaxy A22', 'Huawei P40', 'Huawei Y9 2018',\n",
              "       'Realme Chongqing Mobile Telecommunications Corp Ltd RMX2021',\n",
              "       'Huawei Y5 2017 Dual', 'OnePlus 5T', 'Oppo A54',\n",
              "       'Apple iPhone 12 (A2403) Global', 'Samsung Galaxy Note 20',\n",
              "       'Apple iPhone 13 mini', 'Huawei P40 Pro', 'Xiaomi Mi 5 Pro',\n",
              "       'Asus Live L1', 'Xiaomi MI 6', 'Huawei Honor 30S',\n",
              "       'Sony Mobile Communications Inc. Xperia 5', 'Vivo Y91i',\n",
              "       'Alcatel 1', 'Xiaomi Mi Note 10', 'Huawei MediaPad M5 Lite 8',\n",
              "       'Samsung Galaxy S20 Ultra 5G Dual', 'Meizu M6T',\n",
              "       'Samsung Galaxy Note 10 Plus Brasil, China', 'Oppo F11 PRO',\n",
              "       'Samsung Galaxy S20', 'Asus Zenfone 4 Max ZC520KL', 'OnePlus 6T',\n",
              "       'Huawei Mate 20', 'Asus Zenfone Max', 'Xiaomi Pocophone F1',\n",
              "       'Samsung Galaxy A7', 'Asus Zenfone Max Pro', 'Samsung Galaxy A22s',\n",
              "       'Doogee S60', 'Sony Xperia XA1', 'Vivo Y93', 'Huawei Honor 8X Max',\n",
              "       'Xiaomi Poco F2 Pro', 'OnePlus 8 PRO 5G', 'Vivo Y81',\n",
              "       'Realme Chongqing Mobile Telecommunications Corp Ltd Realme 8',\n",
              "       'Xiaomi Mi 10T',\n",
              "       'Realme Chongqing Mobile Telecommunications Corp Ltd 8 Pro',\n",
              "       'Meizu M6s', 'Meizu M3 Note', 'Huawei P9', 'OnePlus 8T',\n",
              "       'Huawei P10 Lite', 'Xiaomi Redmi S2', 'Vivo 1904',\n",
              "       'Sony Xperia X Compact', 'Samsung Galaxy M01 Dual Global',\n",
              "       'ZTE Blade L210RU', 'Huawei Mate 20 RS',\n",
              "       'Samsung Galaxy S10 Lite Dual', 'Xiaomi Mi 11 Lite',\n",
              "       'Xiaomi Redmi Note 10S', 'Huawei P40 Lite E',\n",
              "       'Xiaomi Redmi Note 5A Prime', 'Xiaomi MEG7',\n",
              "       'Samsung Galaxy A5 LTE Dual', 'Samsung Galaxy M11 Dual',\n",
              "       'ZTE Blade V10 Vita RU', 'Vivo V20 SE', 'Meizu Note 9',\n",
              "       'Realme Chongqing Mobile Telecommunications Corp Ltd RMX2180',\n",
              "       'ZTE Blade A7', 'Asus Zenfone Max Pro ZB631KL',\n",
              "       'Google Inc Pixel 2 XL', 'Samsung Galaxy A12 Nacho',\n",
              "       'Xiaomi Mi 11 Lite 5G', 'Samsung Galaxy S6 Edge', 'Oppo A15',\n",
              "       'Xiaomi MI 5S Plus', 'Lenovo Vibe Shot', 'Samsung Galaxy A3 2017',\n",
              "       'Samsung Galaxy A01 Core', 'BQ Devices Limited BQ-5340 Choice',\n",
              "       'Samsung Galaxy Note 4', 'Samsung Galaxy Grand Prime Duos',\n",
              "       'Xiaomi Mi 10 Pro 5G', 'Xiaomi Redmi 3', 'Nokia 5.1 Plus',\n",
              "       'Sony Xperia XA1 Plus', 'Samsung Galaxy S6', 'Xiaomi MI Mix 2',\n",
              "       'Tecno SPARK 6 Go', 'Nokia 6.1 Dual', 'Nokia 2.1 Dual',\n",
              "       'Huawei P20', 'Vivo V21e', 'LG K10 LTE Dual', 'ZTE Blade V8',\n",
              "       'Honor Device Company Limited NTN-LX1',\n",
              "       'Samsung Galaxy Tab A 8.0 2019', 'Oppo Reno', 'Vivo V17 Neo',\n",
              "       'Huawei Y6 II Compact', 'Itel Technology Limited L6006',\n",
              "       'Alcatel 1X', 'Sony Mobile Communications Inc. Xperia 1',\n",
              "       'Xiaomi Mi Max 3', 'Apple iPhone 5C', 'Xiaomi Mi 10T 5G',\n",
              "       'Huawei Honor 4C Pro', 'Huawei Enjoy 7 Dual', 'Vivo Y30',\n",
              "       'OnePlus 6', 'Oppo Reno3', 'Sony Xperia XZ1',\n",
              "       'Huawei Device Company Limited Y6p', 'Samsung Galaxy S20 Ultra 5G',\n",
              "       'Meizu M5s 32Gb',\n",
              "       'Realme Chongqing Mobile Telecommunications Corp Ltd 5',\n",
              "       'Realme Chongqing Mobile Telecommunications Corp Ltd 5 Pro',\n",
              "       'OnePlus 7', 'Xiaomi POCO F3', 'ZTE Blade V9', 'Oppo Reno2 Z',\n",
              "       'LG Q6 Dual', 'Vivo V20', 'Highscreen Limited Max 3',\n",
              "       'Huawei P10 Lite Dual', 'Asus Zenfone 4 Max',\n",
              "       'Sony Mobile Communications Inc. Xperia 10', 'Xiaomi Redmi 10T',\n",
              "       'Samsung Galaxy J1 Mini Prime Duos', 'ZTE Blade A3 2019',\n",
              "       'Samsung Galaxy S10 Plus', 'Samsung Galaxy J1 mini 3G Dual',\n",
              "       'Meizu M5 Note', 'Samsung Galaxy M30S Dual', 'Samsung Galaxy S21+',\n",
              "       'OnePlus 7T', 'Google Inc Pixel 4a', 'Xiaomi Mi 8 Lite',\n",
              "       'Huawei Honor V9', 'Xiaomi Mi 8 Pro',\n",
              "       'Asus ZenFone 2 Laser 5.0 ZE500KL', 'Xiaomi Xiaomi 11T Pro',\n",
              "       'OnePlus 7T Pro', 'Samsung Galaxy Z Fold2 5G', 'LG V30 Dual',\n",
              "       'Samsung SM-F711B', 'BQ Devices Limited Magic', 'OnePlus 5',\n",
              "       'Meizu M5c', 'Samsung Galaxy S8 Plus', 'ZTE Blade A7s',\n",
              "       'Tecno LC7', 'Huawei Nova', 'Samsung Galaxy S9',\n",
              "       'Sony Mobile Communications Inc. Xperia XZ3', 'Xiaomi MI MAX2',\n",
              "       'HTC U11', 'ZTE Blade A6', 'Sony Xperia L2',\n",
              "       'Realme Chongqing Mobile Telecommunications Corp Ltd 7',\n",
              "       'Asus ZenFone 3 Max ZC520TL', 'Nokia 7.1 DS',\n",
              "       'Samsung Galaxy S6 Duos LTE-A', 'Samsung Galaxy S8',\n",
              "       'Blackview BV6000', 'Xiaomi Mi Max', 'Samsung Galaxy Tab A 10.5',\n",
              "       'Doke Communication (HK) Limited BV9500 Plus',\n",
              "       'Samsung Galaxy Tab A 9.7 LTE', 'OnePlus 9 Pro 5G',\n",
              "       'Huawei MediaPad T3 8.0', 'Samsung Galaxy A7 2016 Duos',\n",
              "       'Asus ROG Phone', 'Xiaomi POCO M3 Pro 5G', 'Alcatel U5 3G Dual',\n",
              "       'Realme Chongqing Mobile Telecommunications Corp Ltd K20 Pro',\n",
              "       'Sony Xperia XA1 Ultra', 'LG G7 ThinQ', 'Huawei Honor 5A',\n",
              "       'Samsung Galaxy Tab A 10.1 2016', 'Huawei P Smart Plus',\n",
              "       'Oppo RX17 Neo', 'Xiaomi 11 Lite 5G NE', 'Samsung Galaxy M20 Dual',\n",
              "       'Xiaomi Redmi 10 Pebble White', 'Sony Xperia XZ Premium',\n",
              "       'Sony Xperia L1', 'Samsung Galaxy S9 Plus', 'OnePlus KB2003',\n",
              "       'Samsung Galaxy Note20 Ultra 5G Global', 'Google Inc Pixel 3',\n",
              "       'Asus ZenFone 3 ZE552KL', 'Yandex LLC YNDX-000SB', 'Meizu Pro 7',\n",
              "       'Motorola Moto G9 Play', 'Meizu U10'], dtype=object)"
            ]
          },
          "metadata": {},
          "execution_count": 111
        }
      ]
    },
    {
      "cell_type": "code",
      "source": [
        "df_train.info()"
      ],
      "metadata": {
        "colab": {
          "base_uri": "https://localhost:8080/"
        },
        "id": "Skc8x2FSDeh7",
        "outputId": "65ce6f61-10d8-41f3-c817-ff239ec9eb87"
      },
      "execution_count": null,
      "outputs": [
        {
          "output_type": "stream",
          "name": "stdout",
          "text": [
            "<class 'pandas.core.frame.DataFrame'>\n",
            "Int64Index: 26529 entries, 0 to 27080\n",
            "Data columns (total 22 columns):\n",
            " #   Column                 Non-Null Count  Dtype  \n",
            "---  ------                 --------------  -----  \n",
            " 0   user_id                26529 non-null  int64  \n",
            " 1   day                    25792 non-null  float64\n",
            " 2   evening                24953 non-null  float64\n",
            " 3   morning                25250 non-null  float64\n",
            " 4   night                  21685 non-null  float64\n",
            " 5   cpe_model_name         26118 non-null  object \n",
            " 6   cpe_manufacturer_name  26118 non-null  object \n",
            " 7   apple.com              9120 non-null   float64\n",
            " 8   google.com             17817 non-null  float64\n",
            " 9   icloud.com             6228 non-null   float64\n",
            " 10  instagram.com          11166 non-null  float64\n",
            " 11  mail.yandex.ru         15094 non-null  float64\n",
            " 12  o2.mail.ru             10110 non-null  float64\n",
            " 13  online.sberbank.ru     20273 non-null  float64\n",
            " 14  play.google.com        16650 non-null  float64\n",
            " 15  vk.com                 23939 non-null  float64\n",
            " 16  yandex.ru              24696 non-null  float64\n",
            " 17  zen.yandex.ru          18783 non-null  float64\n",
            " 18  age                    26529 non-null  int64  \n",
            " 19  is_male                26529 non-null  object \n",
            " 20  model                  26118 non-null  object \n",
            " 21  pusto                  26529 non-null  object \n",
            "dtypes: float64(15), int64(2), object(5)\n",
            "memory usage: 4.7+ MB\n"
          ]
        }
      ]
    },
    {
      "cell_type": "markdown",
      "source": [
        "## Посмотрим  по сколько строк на кажлм пльзователе.   \n",
        "чтобы выкинуть тех у кого мало и котрые не дадут инфы для МЛ.    \n",
        "тут я получил, что  чем больше возраст тем меньше на user_id строк с урлами, меньше кол-во среднего"
      ],
      "metadata": {
        "id": "iuiyJX_gxnZp"
      }
    },
    {
      "cell_type": "code",
      "source": [
        "df.pivot_table(index='user_id', values='request_cnt', aggfunc=('count')).reset_index()"
      ],
      "metadata": {
        "colab": {
          "base_uri": "https://localhost:8080/",
          "height": 424
        },
        "id": "pRZJ7TRKyplH",
        "outputId": "83eeb035-b350-49d8-cc6c-a20f50fec083"
      },
      "execution_count": null,
      "outputs": [
        {
          "output_type": "execute_result",
          "data": {
            "text/plain": [
              "       user_id  request_cnt\n",
              "0            4          591\n",
              "1           16         1231\n",
              "2           18         1125\n",
              "3           26         1018\n",
              "4           29         1458\n",
              "...        ...          ...\n",
              "27173   415227            4\n",
              "27174   415251            3\n",
              "27175   415266            3\n",
              "27176   415273            1\n",
              "27177   415277            5\n",
              "\n",
              "[27178 rows x 2 columns]"
            ],
            "text/html": [
              "\n",
              "  <div id=\"df-0410a18f-b311-46aa-93a0-6190fb245e82\">\n",
              "    <div class=\"colab-df-container\">\n",
              "      <div>\n",
              "<style scoped>\n",
              "    .dataframe tbody tr th:only-of-type {\n",
              "        vertical-align: middle;\n",
              "    }\n",
              "\n",
              "    .dataframe tbody tr th {\n",
              "        vertical-align: top;\n",
              "    }\n",
              "\n",
              "    .dataframe thead th {\n",
              "        text-align: right;\n",
              "    }\n",
              "</style>\n",
              "<table border=\"1\" class=\"dataframe\">\n",
              "  <thead>\n",
              "    <tr style=\"text-align: right;\">\n",
              "      <th></th>\n",
              "      <th>user_id</th>\n",
              "      <th>request_cnt</th>\n",
              "    </tr>\n",
              "  </thead>\n",
              "  <tbody>\n",
              "    <tr>\n",
              "      <th>0</th>\n",
              "      <td>4</td>\n",
              "      <td>591</td>\n",
              "    </tr>\n",
              "    <tr>\n",
              "      <th>1</th>\n",
              "      <td>16</td>\n",
              "      <td>1231</td>\n",
              "    </tr>\n",
              "    <tr>\n",
              "      <th>2</th>\n",
              "      <td>18</td>\n",
              "      <td>1125</td>\n",
              "    </tr>\n",
              "    <tr>\n",
              "      <th>3</th>\n",
              "      <td>26</td>\n",
              "      <td>1018</td>\n",
              "    </tr>\n",
              "    <tr>\n",
              "      <th>4</th>\n",
              "      <td>29</td>\n",
              "      <td>1458</td>\n",
              "    </tr>\n",
              "    <tr>\n",
              "      <th>...</th>\n",
              "      <td>...</td>\n",
              "      <td>...</td>\n",
              "    </tr>\n",
              "    <tr>\n",
              "      <th>27173</th>\n",
              "      <td>415227</td>\n",
              "      <td>4</td>\n",
              "    </tr>\n",
              "    <tr>\n",
              "      <th>27174</th>\n",
              "      <td>415251</td>\n",
              "      <td>3</td>\n",
              "    </tr>\n",
              "    <tr>\n",
              "      <th>27175</th>\n",
              "      <td>415266</td>\n",
              "      <td>3</td>\n",
              "    </tr>\n",
              "    <tr>\n",
              "      <th>27176</th>\n",
              "      <td>415273</td>\n",
              "      <td>1</td>\n",
              "    </tr>\n",
              "    <tr>\n",
              "      <th>27177</th>\n",
              "      <td>415277</td>\n",
              "      <td>5</td>\n",
              "    </tr>\n",
              "  </tbody>\n",
              "</table>\n",
              "<p>27178 rows × 2 columns</p>\n",
              "</div>\n",
              "      <button class=\"colab-df-convert\" onclick=\"convertToInteractive('df-0410a18f-b311-46aa-93a0-6190fb245e82')\"\n",
              "              title=\"Convert this dataframe to an interactive table.\"\n",
              "              style=\"display:none;\">\n",
              "        \n",
              "  <svg xmlns=\"http://www.w3.org/2000/svg\" height=\"24px\"viewBox=\"0 0 24 24\"\n",
              "       width=\"24px\">\n",
              "    <path d=\"M0 0h24v24H0V0z\" fill=\"none\"/>\n",
              "    <path d=\"M18.56 5.44l.94 2.06.94-2.06 2.06-.94-2.06-.94-.94-2.06-.94 2.06-2.06.94zm-11 1L8.5 8.5l.94-2.06 2.06-.94-2.06-.94L8.5 2.5l-.94 2.06-2.06.94zm10 10l.94 2.06.94-2.06 2.06-.94-2.06-.94-.94-2.06-.94 2.06-2.06.94z\"/><path d=\"M17.41 7.96l-1.37-1.37c-.4-.4-.92-.59-1.43-.59-.52 0-1.04.2-1.43.59L10.3 9.45l-7.72 7.72c-.78.78-.78 2.05 0 2.83L4 21.41c.39.39.9.59 1.41.59.51 0 1.02-.2 1.41-.59l7.78-7.78 2.81-2.81c.8-.78.8-2.07 0-2.86zM5.41 20L4 18.59l7.72-7.72 1.47 1.35L5.41 20z\"/>\n",
              "  </svg>\n",
              "      </button>\n",
              "      \n",
              "  <style>\n",
              "    .colab-df-container {\n",
              "      display:flex;\n",
              "      flex-wrap:wrap;\n",
              "      gap: 12px;\n",
              "    }\n",
              "\n",
              "    .colab-df-convert {\n",
              "      background-color: #E8F0FE;\n",
              "      border: none;\n",
              "      border-radius: 50%;\n",
              "      cursor: pointer;\n",
              "      display: none;\n",
              "      fill: #1967D2;\n",
              "      height: 32px;\n",
              "      padding: 0 0 0 0;\n",
              "      width: 32px;\n",
              "    }\n",
              "\n",
              "    .colab-df-convert:hover {\n",
              "      background-color: #E2EBFA;\n",
              "      box-shadow: 0px 1px 2px rgba(60, 64, 67, 0.3), 0px 1px 3px 1px rgba(60, 64, 67, 0.15);\n",
              "      fill: #174EA6;\n",
              "    }\n",
              "\n",
              "    [theme=dark] .colab-df-convert {\n",
              "      background-color: #3B4455;\n",
              "      fill: #D2E3FC;\n",
              "    }\n",
              "\n",
              "    [theme=dark] .colab-df-convert:hover {\n",
              "      background-color: #434B5C;\n",
              "      box-shadow: 0px 1px 3px 1px rgba(0, 0, 0, 0.15);\n",
              "      filter: drop-shadow(0px 1px 2px rgba(0, 0, 0, 0.3));\n",
              "      fill: #FFFFFF;\n",
              "    }\n",
              "  </style>\n",
              "\n",
              "      <script>\n",
              "        const buttonEl =\n",
              "          document.querySelector('#df-0410a18f-b311-46aa-93a0-6190fb245e82 button.colab-df-convert');\n",
              "        buttonEl.style.display =\n",
              "          google.colab.kernel.accessAllowed ? 'block' : 'none';\n",
              "\n",
              "        async function convertToInteractive(key) {\n",
              "          const element = document.querySelector('#df-0410a18f-b311-46aa-93a0-6190fb245e82');\n",
              "          const dataTable =\n",
              "            await google.colab.kernel.invokeFunction('convertToInteractive',\n",
              "                                                     [key], {});\n",
              "          if (!dataTable) return;\n",
              "\n",
              "          const docLinkHtml = 'Like what you see? Visit the ' +\n",
              "            '<a target=\"_blank\" href=https://colab.research.google.com/notebooks/data_table.ipynb>data table notebook</a>'\n",
              "            + ' to learn more about interactive tables.';\n",
              "          element.innerHTML = '';\n",
              "          dataTable['output_type'] = 'display_data';\n",
              "          await google.colab.output.renderOutput(dataTable, element);\n",
              "          const docLink = document.createElement('div');\n",
              "          docLink.innerHTML = docLinkHtml;\n",
              "          element.appendChild(docLink);\n",
              "        }\n",
              "      </script>\n",
              "    </div>\n",
              "  </div>\n",
              "  "
            ]
          },
          "metadata": {},
          "execution_count": 102
        }
      ]
    },
    {
      "cell_type": "code",
      "source": [],
      "metadata": {
        "colab": {
          "base_uri": "https://localhost:8080/",
          "height": 143
        },
        "id": "bueGmE100jZ8",
        "outputId": "56927653-7770-444f-e4dd-fc6c17bf5632"
      },
      "execution_count": null,
      "outputs": [
        {
          "output_type": "execute_result",
          "data": {
            "text/plain": [
              "   user_id  request_cnt\n",
              "0        4          591\n",
              "1       16         1231\n",
              "2       18         1125"
            ],
            "text/html": [
              "\n",
              "  <div id=\"df-ef733782-1a67-4c57-a0c9-935fa06e82a8\">\n",
              "    <div class=\"colab-df-container\">\n",
              "      <div>\n",
              "<style scoped>\n",
              "    .dataframe tbody tr th:only-of-type {\n",
              "        vertical-align: middle;\n",
              "    }\n",
              "\n",
              "    .dataframe tbody tr th {\n",
              "        vertical-align: top;\n",
              "    }\n",
              "\n",
              "    .dataframe thead th {\n",
              "        text-align: right;\n",
              "    }\n",
              "</style>\n",
              "<table border=\"1\" class=\"dataframe\">\n",
              "  <thead>\n",
              "    <tr style=\"text-align: right;\">\n",
              "      <th></th>\n",
              "      <th>user_id</th>\n",
              "      <th>request_cnt</th>\n",
              "    </tr>\n",
              "  </thead>\n",
              "  <tbody>\n",
              "    <tr>\n",
              "      <th>0</th>\n",
              "      <td>4</td>\n",
              "      <td>591</td>\n",
              "    </tr>\n",
              "    <tr>\n",
              "      <th>1</th>\n",
              "      <td>16</td>\n",
              "      <td>1231</td>\n",
              "    </tr>\n",
              "    <tr>\n",
              "      <th>2</th>\n",
              "      <td>18</td>\n",
              "      <td>1125</td>\n",
              "    </tr>\n",
              "  </tbody>\n",
              "</table>\n",
              "</div>\n",
              "      <button class=\"colab-df-convert\" onclick=\"convertToInteractive('df-ef733782-1a67-4c57-a0c9-935fa06e82a8')\"\n",
              "              title=\"Convert this dataframe to an interactive table.\"\n",
              "              style=\"display:none;\">\n",
              "        \n",
              "  <svg xmlns=\"http://www.w3.org/2000/svg\" height=\"24px\"viewBox=\"0 0 24 24\"\n",
              "       width=\"24px\">\n",
              "    <path d=\"M0 0h24v24H0V0z\" fill=\"none\"/>\n",
              "    <path d=\"M18.56 5.44l.94 2.06.94-2.06 2.06-.94-2.06-.94-.94-2.06-.94 2.06-2.06.94zm-11 1L8.5 8.5l.94-2.06 2.06-.94-2.06-.94L8.5 2.5l-.94 2.06-2.06.94zm10 10l.94 2.06.94-2.06 2.06-.94-2.06-.94-.94-2.06-.94 2.06-2.06.94z\"/><path d=\"M17.41 7.96l-1.37-1.37c-.4-.4-.92-.59-1.43-.59-.52 0-1.04.2-1.43.59L10.3 9.45l-7.72 7.72c-.78.78-.78 2.05 0 2.83L4 21.41c.39.39.9.59 1.41.59.51 0 1.02-.2 1.41-.59l7.78-7.78 2.81-2.81c.8-.78.8-2.07 0-2.86zM5.41 20L4 18.59l7.72-7.72 1.47 1.35L5.41 20z\"/>\n",
              "  </svg>\n",
              "      </button>\n",
              "      \n",
              "  <style>\n",
              "    .colab-df-container {\n",
              "      display:flex;\n",
              "      flex-wrap:wrap;\n",
              "      gap: 12px;\n",
              "    }\n",
              "\n",
              "    .colab-df-convert {\n",
              "      background-color: #E8F0FE;\n",
              "      border: none;\n",
              "      border-radius: 50%;\n",
              "      cursor: pointer;\n",
              "      display: none;\n",
              "      fill: #1967D2;\n",
              "      height: 32px;\n",
              "      padding: 0 0 0 0;\n",
              "      width: 32px;\n",
              "    }\n",
              "\n",
              "    .colab-df-convert:hover {\n",
              "      background-color: #E2EBFA;\n",
              "      box-shadow: 0px 1px 2px rgba(60, 64, 67, 0.3), 0px 1px 3px 1px rgba(60, 64, 67, 0.15);\n",
              "      fill: #174EA6;\n",
              "    }\n",
              "\n",
              "    [theme=dark] .colab-df-convert {\n",
              "      background-color: #3B4455;\n",
              "      fill: #D2E3FC;\n",
              "    }\n",
              "\n",
              "    [theme=dark] .colab-df-convert:hover {\n",
              "      background-color: #434B5C;\n",
              "      box-shadow: 0px 1px 3px 1px rgba(0, 0, 0, 0.15);\n",
              "      filter: drop-shadow(0px 1px 2px rgba(0, 0, 0, 0.3));\n",
              "      fill: #FFFFFF;\n",
              "    }\n",
              "  </style>\n",
              "\n",
              "      <script>\n",
              "        const buttonEl =\n",
              "          document.querySelector('#df-ef733782-1a67-4c57-a0c9-935fa06e82a8 button.colab-df-convert');\n",
              "        buttonEl.style.display =\n",
              "          google.colab.kernel.accessAllowed ? 'block' : 'none';\n",
              "\n",
              "        async function convertToInteractive(key) {\n",
              "          const element = document.querySelector('#df-ef733782-1a67-4c57-a0c9-935fa06e82a8');\n",
              "          const dataTable =\n",
              "            await google.colab.kernel.invokeFunction('convertToInteractive',\n",
              "                                                     [key], {});\n",
              "          if (!dataTable) return;\n",
              "\n",
              "          const docLinkHtml = 'Like what you see? Visit the ' +\n",
              "            '<a target=\"_blank\" href=https://colab.research.google.com/notebooks/data_table.ipynb>data table notebook</a>'\n",
              "            + ' to learn more about interactive tables.';\n",
              "          element.innerHTML = '';\n",
              "          dataTable['output_type'] = 'display_data';\n",
              "          await google.colab.output.renderOutput(dataTable, element);\n",
              "          const docLink = document.createElement('div');\n",
              "          docLink.innerHTML = docLinkHtml;\n",
              "          element.appendChild(docLink);\n",
              "        }\n",
              "      </script>\n",
              "    </div>\n",
              "  </div>\n",
              "  "
            ]
          },
          "metadata": {},
          "execution_count": 89
        }
      ]
    },
    {
      "cell_type": "code",
      "source": [
        "df_pivot['request_cnt'].describe()"
      ],
      "metadata": {
        "colab": {
          "base_uri": "https://localhost:8080/"
        },
        "id": "d3yMPSL00n3f",
        "outputId": "f5510a66-8c36-410e-eaa2-d4834ac45699"
      },
      "execution_count": null,
      "outputs": [
        {
          "output_type": "execute_result",
          "data": {
            "text/plain": [
              "count    27178.000000\n",
              "mean       786.966517\n",
              "std       1045.336455\n",
              "min          1.000000\n",
              "25%        106.000000\n",
              "50%        426.000000\n",
              "75%       1060.000000\n",
              "max      17481.000000\n",
              "Name: request_cnt, dtype: float64"
            ]
          },
          "metadata": {},
          "execution_count": 92
        }
      ]
    },
    {
      "cell_type": "markdown",
      "source": [
        "##Нужен список топ УРЛОВ"
      ],
      "metadata": {
        "id": "WPi2Y6yzxhAX"
      }
    },
    {
      "cell_type": "code",
      "source": [
        "df = pq.read_table(f'{LOCAL_DATA_PATH}part-00000-aba60f69-2b63-4cc1-95ca-542598094698-c000.snappy.parquet').\\\n",
        "select(['url_host','request_cnt']).to_pandas()"
      ],
      "metadata": {
        "id": "ZlpZx1rk8-QX"
      },
      "execution_count": null,
      "outputs": []
    },
    {
      "cell_type": "code",
      "source": [
        "df.info()"
      ],
      "metadata": {
        "colab": {
          "base_uri": "https://localhost:8080/"
        },
        "id": "Bq6qBvjR9EC5",
        "outputId": "a8a2abe0-119a-435d-e443-7b80dd2f56a6"
      },
      "execution_count": null,
      "outputs": [
        {
          "output_type": "stream",
          "name": "stdout",
          "text": [
            "<class 'pandas.core.frame.DataFrame'>\n",
            "RangeIndex: 32638709 entries, 0 to 32638708\n",
            "Data columns (total 2 columns):\n",
            " #   Column       Dtype \n",
            "---  ------       ----- \n",
            " 0   url_host     object\n",
            " 1   request_cnt  int64 \n",
            "dtypes: int64(1), object(1)\n",
            "memory usage: 498.0+ MB\n"
          ]
        }
      ]
    },
    {
      "cell_type": "code",
      "source": [],
      "metadata": {
        "id": "u8tS3xhB9EFb"
      },
      "execution_count": null,
      "outputs": []
    },
    {
      "cell_type": "code",
      "source": [
        "#всего урлов\n",
        "# цикл грузит из паркета ид\n",
        "df = pq.read_table(f'{LOCAL_DATA_PATH}{part_list[0]}').select(['url_host']).to_pandas()\n",
        "for i in  range(3,7):\n",
        "  df_ = pq.read_table(f'{LOCAL_DATA_PATH}{part_list[i]}').select(['url_host','request_cnt']).to_pandas()\n",
        "  #соединяем\n",
        "  df = pd.concat([df, df_], ignore_index=True)\n",
        "  #контролль цикла\n",
        "  print ('df_,shape',df_.shape)\n",
        "  print ('df,shape',df.shape)\n"
      ],
      "metadata": {
        "id": "vs7r5HrJJrAv",
        "colab": {
          "base_uri": "https://localhost:8080/"
        },
        "outputId": "4a6e1c01-6410-47d5-decd-4c775a822832"
      },
      "execution_count": null,
      "outputs": [
        {
          "output_type": "stream",
          "name": "stdout",
          "text": [
            "df_,shape (32156858, 2)\n",
            "df,shape (64795567, 2)\n",
            "df_,shape (32119163, 2)\n",
            "df,shape (96914730, 2)\n",
            "df_,shape (32300908, 2)\n",
            "df,shape (129215638, 2)\n",
            "df_,shape (32134423, 2)\n",
            "df,shape (161350061, 2)\n"
          ]
        }
      ]
    },
    {
      "cell_type": "code",
      "source": [
        "df_urls = df['url_host'].value_counts().reset_index()#['url_host'].describe()"
      ],
      "metadata": {
        "id": "16296QEGyTEh"
      },
      "execution_count": null,
      "outputs": []
    },
    {
      "cell_type": "code",
      "source": [
        "df_urls"
      ],
      "metadata": {
        "colab": {
          "base_uri": "https://localhost:8080/",
          "height": 424
        },
        "id": "C-bso4T7APKg",
        "outputId": "62a24579-f632-40d5-90f9-9e9ab829eebd"
      },
      "execution_count": null,
      "outputs": [
        {
          "output_type": "execute_result",
          "data": {
            "text/plain": [
              "                                              index  url_host\n",
              "0                       googleads.g.doubleclick.net  10974508\n",
              "1                                         yandex.ru   9493377\n",
              "2                                       i.ytimg.com   8416659\n",
              "3                                            vk.com   8319908\n",
              "4                            avatars.mds.yandex.net   8093162\n",
              "...                                             ...       ...\n",
              "154844                      emelind.livejournal.com         1\n",
              "154845        temhuk-livejournal-com.turbopages.org         1\n",
              "154846                                       bbp.ru         1\n",
              "154847  vestiukraine-livejournal-com.turbopages.org         1\n",
              "154848                                    tatist.ru         1\n",
              "\n",
              "[154849 rows x 2 columns]"
            ],
            "text/html": [
              "\n",
              "  <div id=\"df-cadfe1c3-c1df-450d-b32c-8cc9f8d11a0b\">\n",
              "    <div class=\"colab-df-container\">\n",
              "      <div>\n",
              "<style scoped>\n",
              "    .dataframe tbody tr th:only-of-type {\n",
              "        vertical-align: middle;\n",
              "    }\n",
              "\n",
              "    .dataframe tbody tr th {\n",
              "        vertical-align: top;\n",
              "    }\n",
              "\n",
              "    .dataframe thead th {\n",
              "        text-align: right;\n",
              "    }\n",
              "</style>\n",
              "<table border=\"1\" class=\"dataframe\">\n",
              "  <thead>\n",
              "    <tr style=\"text-align: right;\">\n",
              "      <th></th>\n",
              "      <th>index</th>\n",
              "      <th>url_host</th>\n",
              "    </tr>\n",
              "  </thead>\n",
              "  <tbody>\n",
              "    <tr>\n",
              "      <th>0</th>\n",
              "      <td>googleads.g.doubleclick.net</td>\n",
              "      <td>10974508</td>\n",
              "    </tr>\n",
              "    <tr>\n",
              "      <th>1</th>\n",
              "      <td>yandex.ru</td>\n",
              "      <td>9493377</td>\n",
              "    </tr>\n",
              "    <tr>\n",
              "      <th>2</th>\n",
              "      <td>i.ytimg.com</td>\n",
              "      <td>8416659</td>\n",
              "    </tr>\n",
              "    <tr>\n",
              "      <th>3</th>\n",
              "      <td>vk.com</td>\n",
              "      <td>8319908</td>\n",
              "    </tr>\n",
              "    <tr>\n",
              "      <th>4</th>\n",
              "      <td>avatars.mds.yandex.net</td>\n",
              "      <td>8093162</td>\n",
              "    </tr>\n",
              "    <tr>\n",
              "      <th>...</th>\n",
              "      <td>...</td>\n",
              "      <td>...</td>\n",
              "    </tr>\n",
              "    <tr>\n",
              "      <th>154844</th>\n",
              "      <td>emelind.livejournal.com</td>\n",
              "      <td>1</td>\n",
              "    </tr>\n",
              "    <tr>\n",
              "      <th>154845</th>\n",
              "      <td>temhuk-livejournal-com.turbopages.org</td>\n",
              "      <td>1</td>\n",
              "    </tr>\n",
              "    <tr>\n",
              "      <th>154846</th>\n",
              "      <td>bbp.ru</td>\n",
              "      <td>1</td>\n",
              "    </tr>\n",
              "    <tr>\n",
              "      <th>154847</th>\n",
              "      <td>vestiukraine-livejournal-com.turbopages.org</td>\n",
              "      <td>1</td>\n",
              "    </tr>\n",
              "    <tr>\n",
              "      <th>154848</th>\n",
              "      <td>tatist.ru</td>\n",
              "      <td>1</td>\n",
              "    </tr>\n",
              "  </tbody>\n",
              "</table>\n",
              "<p>154849 rows × 2 columns</p>\n",
              "</div>\n",
              "      <button class=\"colab-df-convert\" onclick=\"convertToInteractive('df-cadfe1c3-c1df-450d-b32c-8cc9f8d11a0b')\"\n",
              "              title=\"Convert this dataframe to an interactive table.\"\n",
              "              style=\"display:none;\">\n",
              "        \n",
              "  <svg xmlns=\"http://www.w3.org/2000/svg\" height=\"24px\"viewBox=\"0 0 24 24\"\n",
              "       width=\"24px\">\n",
              "    <path d=\"M0 0h24v24H0V0z\" fill=\"none\"/>\n",
              "    <path d=\"M18.56 5.44l.94 2.06.94-2.06 2.06-.94-2.06-.94-.94-2.06-.94 2.06-2.06.94zm-11 1L8.5 8.5l.94-2.06 2.06-.94-2.06-.94L8.5 2.5l-.94 2.06-2.06.94zm10 10l.94 2.06.94-2.06 2.06-.94-2.06-.94-.94-2.06-.94 2.06-2.06.94z\"/><path d=\"M17.41 7.96l-1.37-1.37c-.4-.4-.92-.59-1.43-.59-.52 0-1.04.2-1.43.59L10.3 9.45l-7.72 7.72c-.78.78-.78 2.05 0 2.83L4 21.41c.39.39.9.59 1.41.59.51 0 1.02-.2 1.41-.59l7.78-7.78 2.81-2.81c.8-.78.8-2.07 0-2.86zM5.41 20L4 18.59l7.72-7.72 1.47 1.35L5.41 20z\"/>\n",
              "  </svg>\n",
              "      </button>\n",
              "      \n",
              "  <style>\n",
              "    .colab-df-container {\n",
              "      display:flex;\n",
              "      flex-wrap:wrap;\n",
              "      gap: 12px;\n",
              "    }\n",
              "\n",
              "    .colab-df-convert {\n",
              "      background-color: #E8F0FE;\n",
              "      border: none;\n",
              "      border-radius: 50%;\n",
              "      cursor: pointer;\n",
              "      display: none;\n",
              "      fill: #1967D2;\n",
              "      height: 32px;\n",
              "      padding: 0 0 0 0;\n",
              "      width: 32px;\n",
              "    }\n",
              "\n",
              "    .colab-df-convert:hover {\n",
              "      background-color: #E2EBFA;\n",
              "      box-shadow: 0px 1px 2px rgba(60, 64, 67, 0.3), 0px 1px 3px 1px rgba(60, 64, 67, 0.15);\n",
              "      fill: #174EA6;\n",
              "    }\n",
              "\n",
              "    [theme=dark] .colab-df-convert {\n",
              "      background-color: #3B4455;\n",
              "      fill: #D2E3FC;\n",
              "    }\n",
              "\n",
              "    [theme=dark] .colab-df-convert:hover {\n",
              "      background-color: #434B5C;\n",
              "      box-shadow: 0px 1px 3px 1px rgba(0, 0, 0, 0.15);\n",
              "      filter: drop-shadow(0px 1px 2px rgba(0, 0, 0, 0.3));\n",
              "      fill: #FFFFFF;\n",
              "    }\n",
              "  </style>\n",
              "\n",
              "      <script>\n",
              "        const buttonEl =\n",
              "          document.querySelector('#df-cadfe1c3-c1df-450d-b32c-8cc9f8d11a0b button.colab-df-convert');\n",
              "        buttonEl.style.display =\n",
              "          google.colab.kernel.accessAllowed ? 'block' : 'none';\n",
              "\n",
              "        async function convertToInteractive(key) {\n",
              "          const element = document.querySelector('#df-cadfe1c3-c1df-450d-b32c-8cc9f8d11a0b');\n",
              "          const dataTable =\n",
              "            await google.colab.kernel.invokeFunction('convertToInteractive',\n",
              "                                                     [key], {});\n",
              "          if (!dataTable) return;\n",
              "\n",
              "          const docLinkHtml = 'Like what you see? Visit the ' +\n",
              "            '<a target=\"_blank\" href=https://colab.research.google.com/notebooks/data_table.ipynb>data table notebook</a>'\n",
              "            + ' to learn more about interactive tables.';\n",
              "          element.innerHTML = '';\n",
              "          dataTable['output_type'] = 'display_data';\n",
              "          await google.colab.output.renderOutput(dataTable, element);\n",
              "          const docLink = document.createElement('div');\n",
              "          docLink.innerHTML = docLinkHtml;\n",
              "          element.appendChild(docLink);\n",
              "        }\n",
              "      </script>\n",
              "    </div>\n",
              "  </div>\n",
              "  "
            ]
          },
          "metadata": {},
          "execution_count": 6
        }
      ]
    },
    {
      "cell_type": "code",
      "source": [
        "#в список топ\n",
        "top_urls = set(df['url_host'].value_counts().head(2000).index)"
      ],
      "metadata": {
        "id": "h8HN0JziQJAg"
      },
      "execution_count": null,
      "outputs": []
    },
    {
      "cell_type": "code",
      "source": [
        "top_urls"
      ],
      "metadata": {
        "colab": {
          "base_uri": "https://localhost:8080/"
        },
        "id": "-TTEDssrpgAA",
        "outputId": "d89e5162-2e98-4ba2-d1d2-0c02d8d6121a"
      },
      "execution_count": null,
      "outputs": [
        {
          "output_type": "execute_result",
          "data": {
            "text/plain": [
              "Index(['googleads.g.doubleclick.net', 'yandex.ru', 'i.ytimg.com', 'vk.com',\n",
              "       'avatars.mds.yandex.net', 'ad.mail.ru', 'yastatic.net', 'apple.com',\n",
              "       'ads.adfox.ru', 'tpc.googlesyndication.com',\n",
              "       ...\n",
              "       'amic-ru.turbopages.org', 'qrcoder.ru', 'kino.rambler.ru',\n",
              "       'service-online.su', 'friday.ru', 'tgramsearch.com',\n",
              "       'bashinform-ru.turbopages.org', 'kogda-vykhodit.ru', 'snipp.ru',\n",
              "       'rutaxist.ru'],\n",
              "      dtype='object', length=2000)"
            ]
          },
          "metadata": {},
          "execution_count": 24
        }
      ]
    },
    {
      "cell_type": "code",
      "source": [
        "#cохраняем список топ урлов, чтобы тимур пометил не нужные\n",
        "df_urls.to_csv(f'{LOCAL_DATA_PATH}/top_all_urls.csv', index=False)"
      ],
      "metadata": {
        "id": "PihaphxzTn5I"
      },
      "execution_count": null,
      "outputs": []
    },
    {
      "cell_type": "code",
      "source": [
        "df_top_urls.info()\n"
      ],
      "metadata": {
        "colab": {
          "base_uri": "https://localhost:8080/"
        },
        "id": "EqSwmu-o5oEX",
        "outputId": "0cbae913-1727-447a-abb8-068f012f758e"
      },
      "execution_count": null,
      "outputs": [
        {
          "output_type": "stream",
          "name": "stdout",
          "text": [
            "<class 'pandas.core.frame.DataFrame'>\n",
            "Int64Index: 9636142 entries, 0 to 21388167\n",
            "Data columns (total 14 columns):\n",
            " #   Column                 Dtype  \n",
            "---  ------                 -----  \n",
            " 0   region_name            object \n",
            " 1   city_name              object \n",
            " 2   cpe_manufacturer_name  object \n",
            " 3   cpe_model_name         object \n",
            " 4   url_host               object \n",
            " 5   cpe_type_cd            object \n",
            " 6   cpe_model_os_type      object \n",
            " 7   price                  float64\n",
            " 8   date                   object \n",
            " 9   part_of_day            object \n",
            " 10  request_cnt            int64  \n",
            " 11  user_id                int64  \n",
            " 12  age                    float64\n",
            " 13  is_male                object \n",
            "dtypes: float64(2), int64(2), object(10)\n",
            "memory usage: 1.1+ GB\n"
          ]
        }
      ]
    },
    {
      "cell_type": "markdown",
      "source": [
        "## FeaturesEng  \\ Определяем нужны ли фичи\n",
        "Загрузим df с таргетами ,все кроме урлов. Урежем таблицу. Зупустим ML.\n"
      ],
      "metadata": {
        "id": "-Z1nlSBxCYbE"
      }
    },
    {
      "cell_type": "code",
      "source": [
        "df.drop(columns=['url_host','date', 'region_name','city_name', 'price','request_cnt','part_of_day','cpe_type_cd' ], inplace=True)  #'part_of_day',"
      ],
      "metadata": {
        "id": "WtA1OP3hDvnE"
      },
      "execution_count": null,
      "outputs": []
    },
    {
      "cell_type": "code",
      "source": [
        "df.drop(columns=['part_of_day'], inplace=True) #'url_host',"
      ],
      "metadata": {
        "id": "Nmyh21cUMr_W"
      },
      "execution_count": null,
      "outputs": []
    },
    {
      "cell_type": "code",
      "source": [
        "#df.drop(columns=['cpe_type_cd','cpe_model_name'], inplace=True)"
      ],
      "metadata": {
        "id": "-P4NYaxC8eaV"
      },
      "execution_count": null,
      "outputs": []
    },
    {
      "cell_type": "code",
      "source": [
        "#после удаления урлов у нас куча строк дубликатов\n",
        "df.drop_duplicates(inplace=True)"
      ],
      "metadata": {
        "id": "9pE8XjiaFOw2"
      },
      "execution_count": null,
      "outputs": []
    },
    {
      "cell_type": "code",
      "source": [
        "#выкидывыаем возраст меньше 19\n",
        "df = df[df['age'] >= 19]"
      ],
      "metadata": {
        "id": "Fu7NVmQJ1Q7E"
      },
      "execution_count": null,
      "outputs": []
    },
    {
      "cell_type": "code",
      "source": [
        "df.info()"
      ],
      "metadata": {
        "colab": {
          "base_uri": "https://localhost:8080/"
        },
        "id": "adS3wl1a1d8t",
        "outputId": "9c5e475b-7004-4753-b309-098ab121fc73"
      },
      "execution_count": null,
      "outputs": [
        {
          "output_type": "stream",
          "name": "stdout",
          "text": [
            "<class 'pandas.core.frame.DataFrame'>\n",
            "Int64Index: 27081 entries, 0 to 21385071\n",
            "Data columns (total 4 columns):\n",
            " #   Column          Non-Null Count  Dtype  \n",
            "---  ------          --------------  -----  \n",
            " 0   cpe_model_name  27081 non-null  object \n",
            " 1   user_id         27081 non-null  int64  \n",
            " 2   age             27081 non-null  float64\n",
            " 3   is_male         27081 non-null  object \n",
            "dtypes: float64(1), int64(1), object(2)\n",
            "memory usage: 1.0+ MB\n"
          ]
        }
      ]
    },
    {
      "cell_type": "code",
      "source": [
        "df.head(2)"
      ],
      "metadata": {
        "colab": {
          "base_uri": "https://localhost:8080/",
          "height": 112
        },
        "id": "IS1X9yjHFtyR",
        "outputId": "6c478625-b156-472b-9671-d48bc398208d"
      },
      "execution_count": null,
      "outputs": [
        {
          "output_type": "execute_result",
          "data": {
            "text/plain": [
              "     cpe_model_name  user_id   age is_male\n",
              "0       Galaxy S20+    79395  35.0       1\n",
              "1635    Poco X3 Pro    91294  35.0       1"
            ],
            "text/html": [
              "\n",
              "  <div id=\"df-674da5c6-e08c-4c90-839a-c7f2f55261b2\">\n",
              "    <div class=\"colab-df-container\">\n",
              "      <div>\n",
              "<style scoped>\n",
              "    .dataframe tbody tr th:only-of-type {\n",
              "        vertical-align: middle;\n",
              "    }\n",
              "\n",
              "    .dataframe tbody tr th {\n",
              "        vertical-align: top;\n",
              "    }\n",
              "\n",
              "    .dataframe thead th {\n",
              "        text-align: right;\n",
              "    }\n",
              "</style>\n",
              "<table border=\"1\" class=\"dataframe\">\n",
              "  <thead>\n",
              "    <tr style=\"text-align: right;\">\n",
              "      <th></th>\n",
              "      <th>cpe_model_name</th>\n",
              "      <th>user_id</th>\n",
              "      <th>age</th>\n",
              "      <th>is_male</th>\n",
              "    </tr>\n",
              "  </thead>\n",
              "  <tbody>\n",
              "    <tr>\n",
              "      <th>0</th>\n",
              "      <td>Galaxy S20+</td>\n",
              "      <td>79395</td>\n",
              "      <td>35.0</td>\n",
              "      <td>1</td>\n",
              "    </tr>\n",
              "    <tr>\n",
              "      <th>1635</th>\n",
              "      <td>Poco X3 Pro</td>\n",
              "      <td>91294</td>\n",
              "      <td>35.0</td>\n",
              "      <td>1</td>\n",
              "    </tr>\n",
              "  </tbody>\n",
              "</table>\n",
              "</div>\n",
              "      <button class=\"colab-df-convert\" onclick=\"convertToInteractive('df-674da5c6-e08c-4c90-839a-c7f2f55261b2')\"\n",
              "              title=\"Convert this dataframe to an interactive table.\"\n",
              "              style=\"display:none;\">\n",
              "        \n",
              "  <svg xmlns=\"http://www.w3.org/2000/svg\" height=\"24px\"viewBox=\"0 0 24 24\"\n",
              "       width=\"24px\">\n",
              "    <path d=\"M0 0h24v24H0V0z\" fill=\"none\"/>\n",
              "    <path d=\"M18.56 5.44l.94 2.06.94-2.06 2.06-.94-2.06-.94-.94-2.06-.94 2.06-2.06.94zm-11 1L8.5 8.5l.94-2.06 2.06-.94-2.06-.94L8.5 2.5l-.94 2.06-2.06.94zm10 10l.94 2.06.94-2.06 2.06-.94-2.06-.94-.94-2.06-.94 2.06-2.06.94z\"/><path d=\"M17.41 7.96l-1.37-1.37c-.4-.4-.92-.59-1.43-.59-.52 0-1.04.2-1.43.59L10.3 9.45l-7.72 7.72c-.78.78-.78 2.05 0 2.83L4 21.41c.39.39.9.59 1.41.59.51 0 1.02-.2 1.41-.59l7.78-7.78 2.81-2.81c.8-.78.8-2.07 0-2.86zM5.41 20L4 18.59l7.72-7.72 1.47 1.35L5.41 20z\"/>\n",
              "  </svg>\n",
              "      </button>\n",
              "      \n",
              "  <style>\n",
              "    .colab-df-container {\n",
              "      display:flex;\n",
              "      flex-wrap:wrap;\n",
              "      gap: 12px;\n",
              "    }\n",
              "\n",
              "    .colab-df-convert {\n",
              "      background-color: #E8F0FE;\n",
              "      border: none;\n",
              "      border-radius: 50%;\n",
              "      cursor: pointer;\n",
              "      display: none;\n",
              "      fill: #1967D2;\n",
              "      height: 32px;\n",
              "      padding: 0 0 0 0;\n",
              "      width: 32px;\n",
              "    }\n",
              "\n",
              "    .colab-df-convert:hover {\n",
              "      background-color: #E2EBFA;\n",
              "      box-shadow: 0px 1px 2px rgba(60, 64, 67, 0.3), 0px 1px 3px 1px rgba(60, 64, 67, 0.15);\n",
              "      fill: #174EA6;\n",
              "    }\n",
              "\n",
              "    [theme=dark] .colab-df-convert {\n",
              "      background-color: #3B4455;\n",
              "      fill: #D2E3FC;\n",
              "    }\n",
              "\n",
              "    [theme=dark] .colab-df-convert:hover {\n",
              "      background-color: #434B5C;\n",
              "      box-shadow: 0px 1px 3px 1px rgba(0, 0, 0, 0.15);\n",
              "      filter: drop-shadow(0px 1px 2px rgba(0, 0, 0, 0.3));\n",
              "      fill: #FFFFFF;\n",
              "    }\n",
              "  </style>\n",
              "\n",
              "      <script>\n",
              "        const buttonEl =\n",
              "          document.querySelector('#df-674da5c6-e08c-4c90-839a-c7f2f55261b2 button.colab-df-convert');\n",
              "        buttonEl.style.display =\n",
              "          google.colab.kernel.accessAllowed ? 'block' : 'none';\n",
              "\n",
              "        async function convertToInteractive(key) {\n",
              "          const element = document.querySelector('#df-674da5c6-e08c-4c90-839a-c7f2f55261b2');\n",
              "          const dataTable =\n",
              "            await google.colab.kernel.invokeFunction('convertToInteractive',\n",
              "                                                     [key], {});\n",
              "          if (!dataTable) return;\n",
              "\n",
              "          const docLinkHtml = 'Like what you see? Visit the ' +\n",
              "            '<a target=\"_blank\" href=https://colab.research.google.com/notebooks/data_table.ipynb>data table notebook</a>'\n",
              "            + ' to learn more about interactive tables.';\n",
              "          element.innerHTML = '';\n",
              "          dataTable['output_type'] = 'display_data';\n",
              "          await google.colab.output.renderOutput(dataTable, element);\n",
              "          const docLink = document.createElement('div');\n",
              "          docLink.innerHTML = docLinkHtml;\n",
              "          element.appendChild(docLink);\n",
              "        }\n",
              "      </script>\n",
              "    </div>\n",
              "  </div>\n",
              "  "
            ]
          },
          "metadata": {},
          "execution_count": 97
        }
      ]
    },
    {
      "cell_type": "code",
      "source": [
        "df.head(2)"
      ],
      "metadata": {
        "colab": {
          "base_uri": "https://localhost:8080/",
          "height": 112
        },
        "id": "i5nLgVwSX14g",
        "outputId": "c76aefb9-510a-42bb-d067-abee5a96cb75"
      },
      "execution_count": null,
      "outputs": [
        {
          "output_type": "execute_result",
          "data": {
            "text/plain": [
              "  cpe_model_name  user_id  age is_male    day  evening  morning  night\n",
              "0    Galaxy S20+    79395    1       1  586.0    524.0    346.0  179.0\n",
              "1    Poco X3 Pro    91294    1       1  551.0    515.0    338.0  166.0"
            ],
            "text/html": [
              "\n",
              "  <div id=\"df-723e096b-8e8c-49b0-8039-815612ad3169\">\n",
              "    <div class=\"colab-df-container\">\n",
              "      <div>\n",
              "<style scoped>\n",
              "    .dataframe tbody tr th:only-of-type {\n",
              "        vertical-align: middle;\n",
              "    }\n",
              "\n",
              "    .dataframe tbody tr th {\n",
              "        vertical-align: top;\n",
              "    }\n",
              "\n",
              "    .dataframe thead th {\n",
              "        text-align: right;\n",
              "    }\n",
              "</style>\n",
              "<table border=\"1\" class=\"dataframe\">\n",
              "  <thead>\n",
              "    <tr style=\"text-align: right;\">\n",
              "      <th></th>\n",
              "      <th>cpe_model_name</th>\n",
              "      <th>user_id</th>\n",
              "      <th>age</th>\n",
              "      <th>is_male</th>\n",
              "      <th>day</th>\n",
              "      <th>evening</th>\n",
              "      <th>morning</th>\n",
              "      <th>night</th>\n",
              "    </tr>\n",
              "  </thead>\n",
              "  <tbody>\n",
              "    <tr>\n",
              "      <th>0</th>\n",
              "      <td>Galaxy S20+</td>\n",
              "      <td>79395</td>\n",
              "      <td>1</td>\n",
              "      <td>1</td>\n",
              "      <td>586.0</td>\n",
              "      <td>524.0</td>\n",
              "      <td>346.0</td>\n",
              "      <td>179.0</td>\n",
              "    </tr>\n",
              "    <tr>\n",
              "      <th>1</th>\n",
              "      <td>Poco X3 Pro</td>\n",
              "      <td>91294</td>\n",
              "      <td>1</td>\n",
              "      <td>1</td>\n",
              "      <td>551.0</td>\n",
              "      <td>515.0</td>\n",
              "      <td>338.0</td>\n",
              "      <td>166.0</td>\n",
              "    </tr>\n",
              "  </tbody>\n",
              "</table>\n",
              "</div>\n",
              "      <button class=\"colab-df-convert\" onclick=\"convertToInteractive('df-723e096b-8e8c-49b0-8039-815612ad3169')\"\n",
              "              title=\"Convert this dataframe to an interactive table.\"\n",
              "              style=\"display:none;\">\n",
              "        \n",
              "  <svg xmlns=\"http://www.w3.org/2000/svg\" height=\"24px\"viewBox=\"0 0 24 24\"\n",
              "       width=\"24px\">\n",
              "    <path d=\"M0 0h24v24H0V0z\" fill=\"none\"/>\n",
              "    <path d=\"M18.56 5.44l.94 2.06.94-2.06 2.06-.94-2.06-.94-.94-2.06-.94 2.06-2.06.94zm-11 1L8.5 8.5l.94-2.06 2.06-.94-2.06-.94L8.5 2.5l-.94 2.06-2.06.94zm10 10l.94 2.06.94-2.06 2.06-.94-2.06-.94-.94-2.06-.94 2.06-2.06.94z\"/><path d=\"M17.41 7.96l-1.37-1.37c-.4-.4-.92-.59-1.43-.59-.52 0-1.04.2-1.43.59L10.3 9.45l-7.72 7.72c-.78.78-.78 2.05 0 2.83L4 21.41c.39.39.9.59 1.41.59.51 0 1.02-.2 1.41-.59l7.78-7.78 2.81-2.81c.8-.78.8-2.07 0-2.86zM5.41 20L4 18.59l7.72-7.72 1.47 1.35L5.41 20z\"/>\n",
              "  </svg>\n",
              "      </button>\n",
              "      \n",
              "  <style>\n",
              "    .colab-df-container {\n",
              "      display:flex;\n",
              "      flex-wrap:wrap;\n",
              "      gap: 12px;\n",
              "    }\n",
              "\n",
              "    .colab-df-convert {\n",
              "      background-color: #E8F0FE;\n",
              "      border: none;\n",
              "      border-radius: 50%;\n",
              "      cursor: pointer;\n",
              "      display: none;\n",
              "      fill: #1967D2;\n",
              "      height: 32px;\n",
              "      padding: 0 0 0 0;\n",
              "      width: 32px;\n",
              "    }\n",
              "\n",
              "    .colab-df-convert:hover {\n",
              "      background-color: #E2EBFA;\n",
              "      box-shadow: 0px 1px 2px rgba(60, 64, 67, 0.3), 0px 1px 3px 1px rgba(60, 64, 67, 0.15);\n",
              "      fill: #174EA6;\n",
              "    }\n",
              "\n",
              "    [theme=dark] .colab-df-convert {\n",
              "      background-color: #3B4455;\n",
              "      fill: #D2E3FC;\n",
              "    }\n",
              "\n",
              "    [theme=dark] .colab-df-convert:hover {\n",
              "      background-color: #434B5C;\n",
              "      box-shadow: 0px 1px 3px 1px rgba(0, 0, 0, 0.15);\n",
              "      filter: drop-shadow(0px 1px 2px rgba(0, 0, 0, 0.3));\n",
              "      fill: #FFFFFF;\n",
              "    }\n",
              "  </style>\n",
              "\n",
              "      <script>\n",
              "        const buttonEl =\n",
              "          document.querySelector('#df-723e096b-8e8c-49b0-8039-815612ad3169 button.colab-df-convert');\n",
              "        buttonEl.style.display =\n",
              "          google.colab.kernel.accessAllowed ? 'block' : 'none';\n",
              "\n",
              "        async function convertToInteractive(key) {\n",
              "          const element = document.querySelector('#df-723e096b-8e8c-49b0-8039-815612ad3169');\n",
              "          const dataTable =\n",
              "            await google.colab.kernel.invokeFunction('convertToInteractive',\n",
              "                                                     [key], {});\n",
              "          if (!dataTable) return;\n",
              "\n",
              "          const docLinkHtml = 'Like what you see? Visit the ' +\n",
              "            '<a target=\"_blank\" href=https://colab.research.google.com/notebooks/data_table.ipynb>data table notebook</a>'\n",
              "            + ' to learn more about interactive tables.';\n",
              "          element.innerHTML = '';\n",
              "          dataTable['output_type'] = 'display_data';\n",
              "          await google.colab.output.renderOutput(dataTable, element);\n",
              "          const docLink = document.createElement('div');\n",
              "          docLink.innerHTML = docLinkHtml;\n",
              "          element.appendChild(docLink);\n",
              "        }\n",
              "      </script>\n",
              "    </div>\n",
              "  </div>\n",
              "  "
            ]
          },
          "metadata": {},
          "execution_count": 102
        }
      ]
    },
    {
      "cell_type": "markdown",
      "source": [
        "# 3.ML"
      ],
      "metadata": {
        "id": "qyTjz_XQJKMT"
      }
    },
    {
      "cell_type": "code",
      "source": [
        "#сабмиты и таргеты\n",
        "id_for_target = pq.read_table(f'{LOCAL_DATA_PATH}/{TARGET_FILE}').to_pandas().query ('age >=19 ')\n",
        "id_for_submit = pq.read_table(f'{LOCAL_DATA_PATH}/{SUBMISSION_FILE}').to_pandas()"
      ],
      "metadata": {
        "id": "jWCpvZA08VsK"
      },
      "execution_count": null,
      "outputs": []
    },
    {
      "cell_type": "code",
      "source": [
        "id_for_submit['user_id'].nunique()"
      ],
      "metadata": {
        "colab": {
          "base_uri": "https://localhost:8080/"
        },
        "id": "8iMOMAYj9RRr",
        "outputId": "a6c569d4-592b-4f41-d584-e9044fdefe48"
      },
      "execution_count": null,
      "outputs": [
        {
          "output_type": "execute_result",
          "data": {
            "text/plain": [
              "144724"
            ]
          },
          "metadata": {},
          "execution_count": 6
        }
      ]
    },
    {
      "cell_type": "code",
      "source": [
        "id_for_target['user_id'].nunique()"
      ],
      "metadata": {
        "colab": {
          "base_uri": "https://localhost:8080/"
        },
        "id": "TOuejFuR9-t7",
        "outputId": "27927bfd-fe33-48ff-e44a-986953b375bb"
      },
      "execution_count": null,
      "outputs": [
        {
          "output_type": "execute_result",
          "data": {
            "text/plain": [
              "268922"
            ]
          },
          "metadata": {},
          "execution_count": 7
        }
      ]
    },
    {
      "cell_type": "markdown",
      "source": [
        "### Подгружаем файл с дииска\n",
        "Трайн и сабмиты отдельно.   \n",
        "Для age и is_male  отдельно."
      ],
      "metadata": {
        "id": "cTwXxcIApWVf"
      }
    },
    {
      "cell_type": "code",
      "source": [
        "#df_train = pd.read_pickle(f'{LOCAL_DATA_PATH}/train_df_all_parts.pkl')\n",
        "#df_train = pd.read_csv(f'{LOCAL_DATA_PATH}/train_df_all_parts.csv')   # csv  не подгруждается, не хватает памяти..\n"
      ],
      "metadata": {
        "id": "QVdbR2EJpeUx"
      },
      "execution_count": null,
      "outputs": []
    },
    {
      "cell_type": "code",
      "source": [
        "df_submit = pd.read_feather(f'{LOCAL_DATA_PATH}/submit_df_all_parts.feather')\n",
        "df_submit.info()"
      ],
      "metadata": {
        "colab": {
          "base_uri": "https://localhost:8080/"
        },
        "id": "AK4BKv4qpert",
        "outputId": "a7cf40b5-6149-48df-cdad-f4027ff18141"
      },
      "execution_count": 19,
      "outputs": [
        {
          "output_type": "stream",
          "name": "stdout",
          "text": [
            "<class 'pandas.core.frame.DataFrame'>\n",
            "RangeIndex: 144724 entries, 0 to 144723\n",
            "Columns: 2506 entries, user_id to zyf03k.xyz\n",
            "dtypes: float64(2504), int64(1), object(1)\n",
            "memory usage: 2.7+ GB\n"
          ]
        }
      ]
    },
    {
      "cell_type": "code",
      "source": [
        "df_submit.loc[df_submit['cpe_model_name'].isna() ,'cpe_model_name'] = '0'"
      ],
      "metadata": {
        "id": "tt5ZRyw5umTN"
      },
      "execution_count": 17,
      "outputs": []
    },
    {
      "cell_type": "code",
      "source": [
        "df_submit.loc[df_submit['cpe_model_name'].isna() ,'cpe_model_name']"
      ],
      "metadata": {
        "colab": {
          "base_uri": "https://localhost:8080/"
        },
        "id": "6695Q4b8u999",
        "outputId": "42815ffd-efe0-47b7-fe47-df3ae1d98424"
      },
      "execution_count": 18,
      "outputs": [
        {
          "output_type": "execute_result",
          "data": {
            "text/plain": [
              "Series([], Name: cpe_model_name, dtype: object)"
            ]
          },
          "metadata": {},
          "execution_count": 18
        }
      ]
    },
    {
      "cell_type": "code",
      "source": [
        "df_submit = df_submit.drop(['user_id'], axis=1)"
      ],
      "metadata": {
        "id": "FM8QolaavrUZ"
      },
      "execution_count": 7,
      "outputs": []
    },
    {
      "cell_type": "code",
      "source": [],
      "metadata": {
        "colab": {
          "base_uri": "https://localhost:8080/"
        },
        "id": "x6_ZGJnWzU_A",
        "outputId": "9053470b-39f4-447f-d1a5-7bca03e5682d"
      },
      "execution_count": 39,
      "outputs": [
        {
          "output_type": "execute_result",
          "data": {
            "text/plain": [
              "0         635.0\n",
              "1         132.0\n",
              "2         704.0\n",
              "3          82.0\n",
              "4         189.0\n",
              "          ...  \n",
              "144719      NaN\n",
              "144720      NaN\n",
              "144721      NaN\n",
              "144722      4.0\n",
              "144723      NaN\n",
              "Name: morning, Length: 144724, dtype: float64"
            ]
          },
          "metadata": {},
          "execution_count": 39
        }
      ]
    },
    {
      "cell_type": "code",
      "source": [
        "# проверим размерности\n",
        "#print ('df_train.shape =', df_train.shape)\n",
        "print ('df_submit.shape =', df_submit.shape)"
      ],
      "metadata": {
        "id": "XvLp8LnVfU2w",
        "colab": {
          "base_uri": "https://localhost:8080/"
        },
        "outputId": "31e549ad-2137-458b-c9b2-81c627085691"
      },
      "execution_count": 7,
      "outputs": [
        {
          "output_type": "stream",
          "name": "stdout",
          "text": [
            "df_submit.shape = (144724, 2506)\n"
          ]
        }
      ]
    },
    {
      "cell_type": "markdown",
      "source": [
        "## ML age"
      ],
      "metadata": {
        "id": "VT_DX4zYpgec"
      }
    },
    {
      "cell_type": "code",
      "source": [
        "# загружаем файл для age\n",
        "#df_train_feat_age = pd.read_feather(f'{LOCAL_DATA_PATH}train_feat_age_df_all_parts.feather')\n",
        "#df_train_target_age = pd.read_csv(f'{LOCAL_DATA_PATH}train_target_age_df_all_parts.csv')\n",
        "\n"
      ],
      "metadata": {
        "id": "hgcQ12pmJrxC"
      },
      "execution_count": null,
      "outputs": []
    },
    {
      "cell_type": "code",
      "source": [
        "#cat_features = ['cpe_manufacturer_name',\t'cpe_model_os_type' ] #\t,\n",
        "cat_features = ['cpe_model_name'] \n"
      ],
      "metadata": {
        "id": "xCCKSLjWIyRe"
      },
      "execution_count": 6,
      "outputs": []
    },
    {
      "cell_type": "markdown",
      "source": [
        "### Поиск гиперпаратметров кэт для age,  use optuna\n",
        "возьмем выборку 10% с общего файла или кусок один..\n"
      ],
      "metadata": {
        "id": "zsNeeL4sOVkW"
      }
    },
    {
      "cell_type": "code",
      "source": [
        "#пока тут\n",
        "import optuna\n",
        "from sklearn.metrics import f1_score"
      ],
      "metadata": {
        "id": "WC19d9zIQORI"
      },
      "execution_count": null,
      "outputs": []
    },
    {
      "cell_type": "code",
      "source": [
        "#загрузим данные\n",
        "df_train = pd.read_feather(f'{LOCAL_DATA_PATH}train_part_0.feather')#.sample(frac=0.1, random_state=777)\n",
        "df_train.shape"
      ],
      "metadata": {
        "id": "wTHQZs6QOah5",
        "colab": {
          "base_uri": "https://localhost:8080/"
        },
        "outputId": "97aed63a-3430-439c-cfbd-98d9dc4aa942"
      },
      "execution_count": null,
      "outputs": [
        {
          "output_type": "execute_result",
          "data": {
            "text/plain": [
              "(27078, 2508)"
            ]
          },
          "metadata": {},
          "execution_count": 6
        }
      ]
    },
    {
      "cell_type": "code",
      "source": [
        "x_train, x_test, y_train, y_test = train_test_split(\\\n",
        "    df_train.drop(['user_id', 'age', 'is_male'], axis = 1), \\\n",
        "    df_train['age'], test_size = 0.33, random_state = 777)\n",
        "\n"
      ],
      "metadata": {
        "id": "q0HuZZgdOal2"
      },
      "execution_count": null,
      "outputs": []
    },
    {
      "cell_type": "code",
      "source": [
        "def objective(trial):\n",
        "    \n",
        "    params = {\n",
        "        'iterations': trial.suggest_int('iterations', 100, 1000),\n",
        "        'learning_rate': trial.suggest_loguniform('learning_rate', 0.001, 0.1),\n",
        "        'depth': trial.suggest_int('depth', 4, 10),\n",
        "        'l2_leaf_reg': trial.suggest_int('l2_leaf_reg', 1, 10),\n",
        "        'border_count': trial.suggest_int('border_count', 32, 255),\n",
        "        'random_strength': trial.suggest_int('random_strength', 1, 100),\n",
        "        'bagging_temperature': trial.suggest_loguniform('bagging_temperature', 0.01, 100.00)\n",
        "    }\n",
        "\n",
        "    model = CatBoostClassifier(**params, cat_features=cat_features, silent=True)\n",
        "    model.fit(x_train, y_train, eval_set=(x_test, y_test), early_stopping_rounds=100, verbose=False)\n",
        "\n",
        "    y_pred = model.predict(x_test)\n",
        "    f1 = f1_score(y_test, y_pred, average='weighted')\n",
        "\n",
        "    return 1.0 - f1"
      ],
      "metadata": {
        "id": "aVme9JBkEhyB"
      },
      "execution_count": null,
      "outputs": []
    },
    {
      "cell_type": "code",
      "source": [
        "%%time\n",
        "study = optuna.create_study(direction='minimize')\n",
        "study.optimize(objective, n_trials=100)\n",
        "\n",
        "print('Number of finished trials:', len(study.trials))\n",
        "print('Best trial:', study.best_trial.params)"
      ],
      "metadata": {
        "colab": {
          "base_uri": "https://localhost:8080/",
          "height": 1000
        },
        "id": "M2XjMHaSFQZV",
        "outputId": "6c5f7b0d-a8ea-4977-b6ce-1ecda1be76de"
      },
      "execution_count": null,
      "outputs": [
        {
          "output_type": "stream",
          "name": "stderr",
          "text": [
            "\u001b[32m[I 2023-03-01 17:52:45,921]\u001b[0m A new study created in memory with name: no-name-b3d9549c-45e2-41e9-85a9-fe1107eea898\u001b[0m\n",
            "<ipython-input-111-1a69750e193a>:5: FutureWarning: suggest_loguniform has been deprecated in v3.0.0. This feature will be removed in v6.0.0. See https://github.com/optuna/optuna/releases/tag/v3.0.0. Use :func:`~optuna.trial.Trial.suggest_float` instead.\n",
            "  'learning_rate': trial.suggest_loguniform('learning_rate', 0.001, 0.1),\n",
            "<ipython-input-111-1a69750e193a>:10: FutureWarning: suggest_loguniform has been deprecated in v3.0.0. This feature will be removed in v6.0.0. See https://github.com/optuna/optuna/releases/tag/v3.0.0. Use :func:`~optuna.trial.Trial.suggest_float` instead.\n",
            "  'bagging_temperature': trial.suggest_loguniform('bagging_temperature', 0.01, 100.00)\n",
            "\u001b[32m[I 2023-03-01 18:24:36,292]\u001b[0m Trial 0 finished with value: 0.8364013876915181 and parameters: {'iterations': 309, 'learning_rate': 0.010184915467627361, 'depth': 10, 'l2_leaf_reg': 3, 'border_count': 255, 'random_strength': 53, 'bagging_temperature': 1.1997682470432331}. Best is trial 0 with value: 0.8364013876915181.\u001b[0m\n",
            "<ipython-input-111-1a69750e193a>:5: FutureWarning: suggest_loguniform has been deprecated in v3.0.0. This feature will be removed in v6.0.0. See https://github.com/optuna/optuna/releases/tag/v3.0.0. Use :func:`~optuna.trial.Trial.suggest_float` instead.\n",
            "  'learning_rate': trial.suggest_loguniform('learning_rate', 0.001, 0.1),\n",
            "<ipython-input-111-1a69750e193a>:10: FutureWarning: suggest_loguniform has been deprecated in v3.0.0. This feature will be removed in v6.0.0. See https://github.com/optuna/optuna/releases/tag/v3.0.0. Use :func:`~optuna.trial.Trial.suggest_float` instead.\n",
            "  'bagging_temperature': trial.suggest_loguniform('bagging_temperature', 0.01, 100.00)\n",
            "\u001b[32m[I 2023-03-01 18:51:18,041]\u001b[0m Trial 1 finished with value: 0.8398085239142878 and parameters: {'iterations': 566, 'learning_rate': 0.0047405670828938595, 'depth': 8, 'l2_leaf_reg': 8, 'border_count': 77, 'random_strength': 67, 'bagging_temperature': 0.45105332496890516}. Best is trial 0 with value: 0.8364013876915181.\u001b[0m\n",
            "<ipython-input-111-1a69750e193a>:5: FutureWarning: suggest_loguniform has been deprecated in v3.0.0. This feature will be removed in v6.0.0. See https://github.com/optuna/optuna/releases/tag/v3.0.0. Use :func:`~optuna.trial.Trial.suggest_float` instead.\n",
            "  'learning_rate': trial.suggest_loguniform('learning_rate', 0.001, 0.1),\n",
            "<ipython-input-111-1a69750e193a>:10: FutureWarning: suggest_loguniform has been deprecated in v3.0.0. This feature will be removed in v6.0.0. See https://github.com/optuna/optuna/releases/tag/v3.0.0. Use :func:`~optuna.trial.Trial.suggest_float` instead.\n",
            "  'bagging_temperature': trial.suggest_loguniform('bagging_temperature', 0.01, 100.00)\n",
            "\u001b[32m[I 2023-03-01 19:14:20,384]\u001b[0m Trial 2 finished with value: 0.8408607391134524 and parameters: {'iterations': 615, 'learning_rate': 0.002388225487392558, 'depth': 7, 'l2_leaf_reg': 8, 'border_count': 220, 'random_strength': 77, 'bagging_temperature': 0.05455344925011703}. Best is trial 0 with value: 0.8364013876915181.\u001b[0m\n",
            "<ipython-input-111-1a69750e193a>:5: FutureWarning: suggest_loguniform has been deprecated in v3.0.0. This feature will be removed in v6.0.0. See https://github.com/optuna/optuna/releases/tag/v3.0.0. Use :func:`~optuna.trial.Trial.suggest_float` instead.\n",
            "  'learning_rate': trial.suggest_loguniform('learning_rate', 0.001, 0.1),\n",
            "<ipython-input-111-1a69750e193a>:10: FutureWarning: suggest_loguniform has been deprecated in v3.0.0. This feature will be removed in v6.0.0. See https://github.com/optuna/optuna/releases/tag/v3.0.0. Use :func:`~optuna.trial.Trial.suggest_float` instead.\n",
            "  'bagging_temperature': trial.suggest_loguniform('bagging_temperature', 0.01, 100.00)\n",
            "\u001b[32m[I 2023-03-01 19:19:21,070]\u001b[0m Trial 3 finished with value: 0.8368010437073539 and parameters: {'iterations': 772, 'learning_rate': 0.0080579458758831, 'depth': 4, 'l2_leaf_reg': 3, 'border_count': 91, 'random_strength': 26, 'bagging_temperature': 1.9591047666946424}. Best is trial 0 with value: 0.8364013876915181.\u001b[0m\n",
            "<ipython-input-111-1a69750e193a>:5: FutureWarning: suggest_loguniform has been deprecated in v3.0.0. This feature will be removed in v6.0.0. See https://github.com/optuna/optuna/releases/tag/v3.0.0. Use :func:`~optuna.trial.Trial.suggest_float` instead.\n",
            "  'learning_rate': trial.suggest_loguniform('learning_rate', 0.001, 0.1),\n",
            "<ipython-input-111-1a69750e193a>:10: FutureWarning: suggest_loguniform has been deprecated in v3.0.0. This feature will be removed in v6.0.0. See https://github.com/optuna/optuna/releases/tag/v3.0.0. Use :func:`~optuna.trial.Trial.suggest_float` instead.\n",
            "  'bagging_temperature': trial.suggest_loguniform('bagging_temperature', 0.01, 100.00)\n",
            "\u001b[33m[W 2023-03-01 19:19:22,646]\u001b[0m Trial 4 failed with parameters: {'iterations': 830, 'learning_rate': 0.002024541508730709, 'depth': 10, 'l2_leaf_reg': 8, 'border_count': 64, 'random_strength': 17, 'bagging_temperature': 90.31679071517839} because of the following error: CatBoostError('catboost/private/libs/algo/tensor_search_helpers.cpp:99: This should be unreachable').\u001b[0m\n",
            "Traceback (most recent call last):\n",
            "  File \"/usr/local/lib/python3.8/dist-packages/optuna/study/_optimize.py\", line 200, in _run_trial\n",
            "    value_or_values = func(trial)\n",
            "  File \"<ipython-input-111-1a69750e193a>\", line 14, in objective\n",
            "    model.fit(x_train, y_train, eval_set=(x_test, y_test), early_stopping_rounds=100, verbose=False)\n",
            "  File \"/usr/local/lib/python3.8/dist-packages/catboost/core.py\", line 5128, in fit\n",
            "    self._fit(X, y, cat_features, text_features, embedding_features, None, sample_weight, None, None, None, None, baseline, use_best_model,\n",
            "  File \"/usr/local/lib/python3.8/dist-packages/catboost/core.py\", line 2355, in _fit\n",
            "    self._train(\n",
            "  File \"/usr/local/lib/python3.8/dist-packages/catboost/core.py\", line 1759, in _train\n",
            "    self._object._train(train_pool, test_pool, params, allow_clear_pool, init_model._object if init_model else None)\n",
            "  File \"_catboost.pyx\", line 4623, in _catboost._CatBoost._train\n",
            "  File \"_catboost.pyx\", line 4672, in _catboost._CatBoost._train\n",
            "_catboost.CatBoostError: catboost/private/libs/algo/tensor_search_helpers.cpp:99: This should be unreachable\n",
            "\u001b[33m[W 2023-03-01 19:19:22,649]\u001b[0m Trial 4 failed with value None.\u001b[0m\n"
          ]
        },
        {
          "output_type": "error",
          "ename": "CatBoostError",
          "evalue": "ignored",
          "traceback": [
            "\u001b[0;31m---------------------------------------------------------------------------\u001b[0m",
            "\u001b[0;31mCatBoostError\u001b[0m                             Traceback (most recent call last)",
            "\u001b[0;32m<timed exec>\u001b[0m in \u001b[0;36m<module>\u001b[0;34m\u001b[0m\n",
            "\u001b[0;32m/usr/local/lib/python3.8/dist-packages/optuna/study/study.py\u001b[0m in \u001b[0;36moptimize\u001b[0;34m(self, func, n_trials, timeout, n_jobs, catch, callbacks, gc_after_trial, show_progress_bar)\u001b[0m\n\u001b[1;32m    423\u001b[0m         \"\"\"\n\u001b[1;32m    424\u001b[0m \u001b[0;34m\u001b[0m\u001b[0m\n\u001b[0;32m--> 425\u001b[0;31m         _optimize(\n\u001b[0m\u001b[1;32m    426\u001b[0m             \u001b[0mstudy\u001b[0m\u001b[0;34m=\u001b[0m\u001b[0mself\u001b[0m\u001b[0;34m,\u001b[0m\u001b[0;34m\u001b[0m\u001b[0;34m\u001b[0m\u001b[0m\n\u001b[1;32m    427\u001b[0m             \u001b[0mfunc\u001b[0m\u001b[0;34m=\u001b[0m\u001b[0mfunc\u001b[0m\u001b[0;34m,\u001b[0m\u001b[0;34m\u001b[0m\u001b[0;34m\u001b[0m\u001b[0m\n",
            "\u001b[0;32m/usr/local/lib/python3.8/dist-packages/optuna/study/_optimize.py\u001b[0m in \u001b[0;36m_optimize\u001b[0;34m(study, func, n_trials, timeout, n_jobs, catch, callbacks, gc_after_trial, show_progress_bar)\u001b[0m\n\u001b[1;32m     64\u001b[0m     \u001b[0;32mtry\u001b[0m\u001b[0;34m:\u001b[0m\u001b[0;34m\u001b[0m\u001b[0;34m\u001b[0m\u001b[0m\n\u001b[1;32m     65\u001b[0m         \u001b[0;32mif\u001b[0m \u001b[0mn_jobs\u001b[0m \u001b[0;34m==\u001b[0m \u001b[0;36m1\u001b[0m\u001b[0;34m:\u001b[0m\u001b[0;34m\u001b[0m\u001b[0;34m\u001b[0m\u001b[0m\n\u001b[0;32m---> 66\u001b[0;31m             _optimize_sequential(\n\u001b[0m\u001b[1;32m     67\u001b[0m                 \u001b[0mstudy\u001b[0m\u001b[0;34m,\u001b[0m\u001b[0;34m\u001b[0m\u001b[0;34m\u001b[0m\u001b[0m\n\u001b[1;32m     68\u001b[0m                 \u001b[0mfunc\u001b[0m\u001b[0;34m,\u001b[0m\u001b[0;34m\u001b[0m\u001b[0;34m\u001b[0m\u001b[0m\n",
            "\u001b[0;32m/usr/local/lib/python3.8/dist-packages/optuna/study/_optimize.py\u001b[0m in \u001b[0;36m_optimize_sequential\u001b[0;34m(study, func, n_trials, timeout, catch, callbacks, gc_after_trial, reseed_sampler_rng, time_start, progress_bar)\u001b[0m\n\u001b[1;32m    161\u001b[0m \u001b[0;34m\u001b[0m\u001b[0m\n\u001b[1;32m    162\u001b[0m         \u001b[0;32mtry\u001b[0m\u001b[0;34m:\u001b[0m\u001b[0;34m\u001b[0m\u001b[0;34m\u001b[0m\u001b[0m\n\u001b[0;32m--> 163\u001b[0;31m             \u001b[0mfrozen_trial\u001b[0m \u001b[0;34m=\u001b[0m \u001b[0m_run_trial\u001b[0m\u001b[0;34m(\u001b[0m\u001b[0mstudy\u001b[0m\u001b[0;34m,\u001b[0m \u001b[0mfunc\u001b[0m\u001b[0;34m,\u001b[0m \u001b[0mcatch\u001b[0m\u001b[0;34m)\u001b[0m\u001b[0;34m\u001b[0m\u001b[0;34m\u001b[0m\u001b[0m\n\u001b[0m\u001b[1;32m    164\u001b[0m         \u001b[0;32mfinally\u001b[0m\u001b[0;34m:\u001b[0m\u001b[0;34m\u001b[0m\u001b[0;34m\u001b[0m\u001b[0m\n\u001b[1;32m    165\u001b[0m             \u001b[0;31m# The following line mitigates memory problems that can be occurred in some\u001b[0m\u001b[0;34m\u001b[0m\u001b[0;34m\u001b[0m\u001b[0;34m\u001b[0m\u001b[0m\n",
            "\u001b[0;32m/usr/local/lib/python3.8/dist-packages/optuna/study/_optimize.py\u001b[0m in \u001b[0;36m_run_trial\u001b[0;34m(study, func, catch)\u001b[0m\n\u001b[1;32m    249\u001b[0m         \u001b[0;32mand\u001b[0m \u001b[0;32mnot\u001b[0m \u001b[0misinstance\u001b[0m\u001b[0;34m(\u001b[0m\u001b[0mfunc_err\u001b[0m\u001b[0;34m,\u001b[0m \u001b[0mcatch\u001b[0m\u001b[0;34m)\u001b[0m\u001b[0;34m\u001b[0m\u001b[0;34m\u001b[0m\u001b[0m\n\u001b[1;32m    250\u001b[0m     ):\n\u001b[0;32m--> 251\u001b[0;31m         \u001b[0;32mraise\u001b[0m \u001b[0mfunc_err\u001b[0m\u001b[0;34m\u001b[0m\u001b[0;34m\u001b[0m\u001b[0m\n\u001b[0m\u001b[1;32m    252\u001b[0m     \u001b[0;32mreturn\u001b[0m \u001b[0mfrozen_trial\u001b[0m\u001b[0;34m\u001b[0m\u001b[0;34m\u001b[0m\u001b[0m\n\u001b[1;32m    253\u001b[0m \u001b[0;34m\u001b[0m\u001b[0m\n",
            "\u001b[0;32m/usr/local/lib/python3.8/dist-packages/optuna/study/_optimize.py\u001b[0m in \u001b[0;36m_run_trial\u001b[0;34m(study, func, catch)\u001b[0m\n\u001b[1;32m    198\u001b[0m     \u001b[0;32mwith\u001b[0m \u001b[0mget_heartbeat_thread\u001b[0m\u001b[0;34m(\u001b[0m\u001b[0mtrial\u001b[0m\u001b[0;34m.\u001b[0m\u001b[0m_trial_id\u001b[0m\u001b[0;34m,\u001b[0m \u001b[0mstudy\u001b[0m\u001b[0;34m.\u001b[0m\u001b[0m_storage\u001b[0m\u001b[0;34m)\u001b[0m\u001b[0;34m:\u001b[0m\u001b[0;34m\u001b[0m\u001b[0;34m\u001b[0m\u001b[0m\n\u001b[1;32m    199\u001b[0m         \u001b[0;32mtry\u001b[0m\u001b[0;34m:\u001b[0m\u001b[0;34m\u001b[0m\u001b[0;34m\u001b[0m\u001b[0m\n\u001b[0;32m--> 200\u001b[0;31m             \u001b[0mvalue_or_values\u001b[0m \u001b[0;34m=\u001b[0m \u001b[0mfunc\u001b[0m\u001b[0;34m(\u001b[0m\u001b[0mtrial\u001b[0m\u001b[0;34m)\u001b[0m\u001b[0;34m\u001b[0m\u001b[0;34m\u001b[0m\u001b[0m\n\u001b[0m\u001b[1;32m    201\u001b[0m         \u001b[0;32mexcept\u001b[0m \u001b[0mexceptions\u001b[0m\u001b[0;34m.\u001b[0m\u001b[0mTrialPruned\u001b[0m \u001b[0;32mas\u001b[0m \u001b[0me\u001b[0m\u001b[0;34m:\u001b[0m\u001b[0;34m\u001b[0m\u001b[0;34m\u001b[0m\u001b[0m\n\u001b[1;32m    202\u001b[0m             \u001b[0;31m# TODO(mamu): Handle multi-objective cases.\u001b[0m\u001b[0;34m\u001b[0m\u001b[0;34m\u001b[0m\u001b[0;34m\u001b[0m\u001b[0m\n",
            "\u001b[0;32m<ipython-input-111-1a69750e193a>\u001b[0m in \u001b[0;36mobjective\u001b[0;34m(trial)\u001b[0m\n\u001b[1;32m     12\u001b[0m \u001b[0;34m\u001b[0m\u001b[0m\n\u001b[1;32m     13\u001b[0m     \u001b[0mmodel\u001b[0m \u001b[0;34m=\u001b[0m \u001b[0mCatBoostClassifier\u001b[0m\u001b[0;34m(\u001b[0m\u001b[0;34m**\u001b[0m\u001b[0mparams\u001b[0m\u001b[0;34m,\u001b[0m \u001b[0mcat_features\u001b[0m\u001b[0;34m=\u001b[0m\u001b[0mcat_features\u001b[0m\u001b[0;34m,\u001b[0m \u001b[0msilent\u001b[0m\u001b[0;34m=\u001b[0m\u001b[0;32mTrue\u001b[0m\u001b[0;34m)\u001b[0m\u001b[0;34m\u001b[0m\u001b[0;34m\u001b[0m\u001b[0m\n\u001b[0;32m---> 14\u001b[0;31m     \u001b[0mmodel\u001b[0m\u001b[0;34m.\u001b[0m\u001b[0mfit\u001b[0m\u001b[0;34m(\u001b[0m\u001b[0mx_train\u001b[0m\u001b[0;34m,\u001b[0m \u001b[0my_train\u001b[0m\u001b[0;34m,\u001b[0m \u001b[0meval_set\u001b[0m\u001b[0;34m=\u001b[0m\u001b[0;34m(\u001b[0m\u001b[0mx_test\u001b[0m\u001b[0;34m,\u001b[0m \u001b[0my_test\u001b[0m\u001b[0;34m)\u001b[0m\u001b[0;34m,\u001b[0m \u001b[0mearly_stopping_rounds\u001b[0m\u001b[0;34m=\u001b[0m\u001b[0;36m100\u001b[0m\u001b[0;34m,\u001b[0m \u001b[0mverbose\u001b[0m\u001b[0;34m=\u001b[0m\u001b[0;32mFalse\u001b[0m\u001b[0;34m)\u001b[0m\u001b[0;34m\u001b[0m\u001b[0;34m\u001b[0m\u001b[0m\n\u001b[0m\u001b[1;32m     15\u001b[0m \u001b[0;34m\u001b[0m\u001b[0m\n\u001b[1;32m     16\u001b[0m     \u001b[0my_pred\u001b[0m \u001b[0;34m=\u001b[0m \u001b[0mmodel\u001b[0m\u001b[0;34m.\u001b[0m\u001b[0mpredict\u001b[0m\u001b[0;34m(\u001b[0m\u001b[0mx_test\u001b[0m\u001b[0;34m)\u001b[0m\u001b[0;34m\u001b[0m\u001b[0;34m\u001b[0m\u001b[0m\n",
            "\u001b[0;32m/usr/local/lib/python3.8/dist-packages/catboost/core.py\u001b[0m in \u001b[0;36mfit\u001b[0;34m(self, X, y, cat_features, text_features, embedding_features, sample_weight, baseline, use_best_model, eval_set, verbose, logging_level, plot, plot_file, column_description, verbose_eval, metric_period, silent, early_stopping_rounds, save_snapshot, snapshot_file, snapshot_interval, init_model, callbacks, log_cout, log_cerr)\u001b[0m\n\u001b[1;32m   5126\u001b[0m             \u001b[0mCatBoostClassifier\u001b[0m\u001b[0;34m.\u001b[0m\u001b[0m_check_is_compatible_loss\u001b[0m\u001b[0;34m(\u001b[0m\u001b[0mparams\u001b[0m\u001b[0;34m[\u001b[0m\u001b[0;34m'loss_function'\u001b[0m\u001b[0;34m]\u001b[0m\u001b[0;34m)\u001b[0m\u001b[0;34m\u001b[0m\u001b[0;34m\u001b[0m\u001b[0m\n\u001b[1;32m   5127\u001b[0m \u001b[0;34m\u001b[0m\u001b[0m\n\u001b[0;32m-> 5128\u001b[0;31m         self._fit(X, y, cat_features, text_features, embedding_features, None, sample_weight, None, None, None, None, baseline, use_best_model,\n\u001b[0m\u001b[1;32m   5129\u001b[0m                   \u001b[0meval_set\u001b[0m\u001b[0;34m,\u001b[0m \u001b[0mverbose\u001b[0m\u001b[0;34m,\u001b[0m \u001b[0mlogging_level\u001b[0m\u001b[0;34m,\u001b[0m \u001b[0mplot\u001b[0m\u001b[0;34m,\u001b[0m \u001b[0mplot_file\u001b[0m\u001b[0;34m,\u001b[0m \u001b[0mcolumn_description\u001b[0m\u001b[0;34m,\u001b[0m \u001b[0mverbose_eval\u001b[0m\u001b[0;34m,\u001b[0m \u001b[0mmetric_period\u001b[0m\u001b[0;34m,\u001b[0m\u001b[0;34m\u001b[0m\u001b[0;34m\u001b[0m\u001b[0m\n\u001b[1;32m   5130\u001b[0m                   silent, early_stopping_rounds, save_snapshot, snapshot_file, snapshot_interval, init_model, callbacks, log_cout, log_cerr)\n",
            "\u001b[0;32m/usr/local/lib/python3.8/dist-packages/catboost/core.py\u001b[0m in \u001b[0;36m_fit\u001b[0;34m(self, X, y, cat_features, text_features, embedding_features, pairs, sample_weight, group_id, group_weight, subgroup_id, pairs_weight, baseline, use_best_model, eval_set, verbose, logging_level, plot, plot_file, column_description, verbose_eval, metric_period, silent, early_stopping_rounds, save_snapshot, snapshot_file, snapshot_interval, init_model, callbacks, log_cout, log_cerr)\u001b[0m\n\u001b[1;32m   2353\u001b[0m         \u001b[0;32mwith\u001b[0m \u001b[0mlog_fixup\u001b[0m\u001b[0;34m(\u001b[0m\u001b[0mlog_cout\u001b[0m\u001b[0;34m,\u001b[0m \u001b[0mlog_cerr\u001b[0m\u001b[0;34m)\u001b[0m\u001b[0;34m,\u001b[0m\u001b[0;31m \u001b[0m\u001b[0;31m\\\u001b[0m\u001b[0;34m\u001b[0m\u001b[0;34m\u001b[0m\u001b[0m\n\u001b[1;32m   2354\u001b[0m             \u001b[0mplot_wrapper\u001b[0m\u001b[0;34m(\u001b[0m\u001b[0mplot\u001b[0m\u001b[0;34m,\u001b[0m \u001b[0mplot_file\u001b[0m\u001b[0;34m,\u001b[0m \u001b[0;34m'Training plots'\u001b[0m\u001b[0;34m,\u001b[0m \u001b[0;34m[\u001b[0m\u001b[0m_get_train_dir\u001b[0m\u001b[0;34m(\u001b[0m\u001b[0mself\u001b[0m\u001b[0;34m.\u001b[0m\u001b[0mget_params\u001b[0m\u001b[0;34m(\u001b[0m\u001b[0;34m)\u001b[0m\u001b[0;34m)\u001b[0m\u001b[0;34m]\u001b[0m\u001b[0;34m)\u001b[0m\u001b[0;34m:\u001b[0m\u001b[0;34m\u001b[0m\u001b[0;34m\u001b[0m\u001b[0m\n\u001b[0;32m-> 2355\u001b[0;31m             self._train(\n\u001b[0m\u001b[1;32m   2356\u001b[0m                 \u001b[0mtrain_pool\u001b[0m\u001b[0;34m,\u001b[0m\u001b[0;34m\u001b[0m\u001b[0;34m\u001b[0m\u001b[0m\n\u001b[1;32m   2357\u001b[0m                 \u001b[0mtrain_params\u001b[0m\u001b[0;34m[\u001b[0m\u001b[0;34m\"eval_sets\"\u001b[0m\u001b[0;34m]\u001b[0m\u001b[0;34m,\u001b[0m\u001b[0;34m\u001b[0m\u001b[0;34m\u001b[0m\u001b[0m\n",
            "\u001b[0;32m/usr/local/lib/python3.8/dist-packages/catboost/core.py\u001b[0m in \u001b[0;36m_train\u001b[0;34m(self, train_pool, test_pool, params, allow_clear_pool, init_model)\u001b[0m\n\u001b[1;32m   1757\u001b[0m \u001b[0;34m\u001b[0m\u001b[0m\n\u001b[1;32m   1758\u001b[0m     \u001b[0;32mdef\u001b[0m \u001b[0m_train\u001b[0m\u001b[0;34m(\u001b[0m\u001b[0mself\u001b[0m\u001b[0;34m,\u001b[0m \u001b[0mtrain_pool\u001b[0m\u001b[0;34m,\u001b[0m \u001b[0mtest_pool\u001b[0m\u001b[0;34m,\u001b[0m \u001b[0mparams\u001b[0m\u001b[0;34m,\u001b[0m \u001b[0mallow_clear_pool\u001b[0m\u001b[0;34m,\u001b[0m \u001b[0minit_model\u001b[0m\u001b[0;34m)\u001b[0m\u001b[0;34m:\u001b[0m\u001b[0;34m\u001b[0m\u001b[0;34m\u001b[0m\u001b[0m\n\u001b[0;32m-> 1759\u001b[0;31m         \u001b[0mself\u001b[0m\u001b[0;34m.\u001b[0m\u001b[0m_object\u001b[0m\u001b[0;34m.\u001b[0m\u001b[0m_train\u001b[0m\u001b[0;34m(\u001b[0m\u001b[0mtrain_pool\u001b[0m\u001b[0;34m,\u001b[0m \u001b[0mtest_pool\u001b[0m\u001b[0;34m,\u001b[0m \u001b[0mparams\u001b[0m\u001b[0;34m,\u001b[0m \u001b[0mallow_clear_pool\u001b[0m\u001b[0;34m,\u001b[0m \u001b[0minit_model\u001b[0m\u001b[0;34m.\u001b[0m\u001b[0m_object\u001b[0m \u001b[0;32mif\u001b[0m \u001b[0minit_model\u001b[0m \u001b[0;32melse\u001b[0m \u001b[0;32mNone\u001b[0m\u001b[0;34m)\u001b[0m\u001b[0;34m\u001b[0m\u001b[0;34m\u001b[0m\u001b[0m\n\u001b[0m\u001b[1;32m   1760\u001b[0m         \u001b[0mself\u001b[0m\u001b[0;34m.\u001b[0m\u001b[0m_set_trained_model_attributes\u001b[0m\u001b[0;34m(\u001b[0m\u001b[0;34m)\u001b[0m\u001b[0;34m\u001b[0m\u001b[0;34m\u001b[0m\u001b[0m\n\u001b[1;32m   1761\u001b[0m \u001b[0;34m\u001b[0m\u001b[0m\n",
            "\u001b[0;32m_catboost.pyx\u001b[0m in \u001b[0;36m_catboost._CatBoost._train\u001b[0;34m()\u001b[0m\n",
            "\u001b[0;32m_catboost.pyx\u001b[0m in \u001b[0;36m_catboost._CatBoost._train\u001b[0;34m()\u001b[0m\n",
            "\u001b[0;31mCatBoostError\u001b[0m: catboost/private/libs/algo/tensor_search_helpers.cpp:99: This should be unreachable"
          ]
        }
      ]
    },
    {
      "cell_type": "code",
      "source": [
        "best_params = study.best_trial.params\n",
        "best_params"
      ],
      "metadata": {
        "colab": {
          "base_uri": "https://localhost:8080/"
        },
        "id": "6mTc0Je-FQoo",
        "outputId": "cdb1871a-f153-4b0b-f737-4610b7483ee9"
      },
      "execution_count": null,
      "outputs": [
        {
          "output_type": "execute_result",
          "data": {
            "text/plain": [
              "{'iterations': 309,\n",
              " 'learning_rate': 0.010184915467627361,\n",
              " 'depth': 10,\n",
              " 'l2_leaf_reg': 3,\n",
              " 'border_count': 255,\n",
              " 'random_strength': 53,\n",
              " 'bagging_temperature': 1.1997682470432331}"
            ]
          },
          "metadata": {},
          "execution_count": 114
        }
      ]
    },
    {
      "cell_type": "code",
      "source": [
        "#это что отыскала оптуна до сбоя но получилась чушь , неа дефолтах в гораздо лучгше\n",
        "# нужно переобучить оптуну, разхобраться что за х\n",
        "best_params = {'iterations': 309,\n",
        " 'learning_rate': 0.010184915467627361,\n",
        " 'depth': 10,\n",
        " 'l2_leaf_reg': 3,\n",
        " 'border_count': 255,\n",
        " 'random_strength': 53,\n",
        " 'bagging_temperature': 1.1997682470432331}"
      ],
      "metadata": {
        "id": "RI_mPxdnmavr"
      },
      "execution_count": null,
      "outputs": []
    },
    {
      "cell_type": "code",
      "source": [
        "#best_params = study.best_trial.params\n",
        "model = CatBoostClassifier(**best_params,cat_features=cat_features, silent=True )\n",
        "model.fit(x_train, y_train)\n",
        "print(metrics.classification_report(y_test, model.predict(x_test), \\\n",
        "    target_names = [ '19-25','26-34', '36-45', '46-56', '56-65', '65+']))"
      ],
      "metadata": {
        "colab": {
          "base_uri": "https://localhost:8080/",
          "height": 217
        },
        "id": "2KpClzVNn47j",
        "outputId": "4dc7ee65-34fe-4657-f17c-17f2acb0c6f6"
      },
      "execution_count": null,
      "outputs": [
        {
          "output_type": "error",
          "ename": "NameError",
          "evalue": "ignored",
          "traceback": [
            "\u001b[0;31m---------------------------------------------------------------------------\u001b[0m",
            "\u001b[0;31mNameError\u001b[0m                                 Traceback (most recent call last)",
            "\u001b[0;32m<ipython-input-13-292364218476>\u001b[0m in \u001b[0;36m<module>\u001b[0;34m\u001b[0m\n\u001b[1;32m      2\u001b[0m \u001b[0mmodel\u001b[0m \u001b[0;34m=\u001b[0m \u001b[0mCatBoostClassifier\u001b[0m\u001b[0;34m(\u001b[0m\u001b[0;34m**\u001b[0m\u001b[0mbest_params\u001b[0m\u001b[0;34m,\u001b[0m\u001b[0mcat_features\u001b[0m\u001b[0;34m=\u001b[0m\u001b[0mcat_features\u001b[0m\u001b[0;34m,\u001b[0m \u001b[0msilent\u001b[0m\u001b[0;34m=\u001b[0m\u001b[0;32mTrue\u001b[0m \u001b[0;34m)\u001b[0m\u001b[0;34m\u001b[0m\u001b[0;34m\u001b[0m\u001b[0m\n\u001b[1;32m      3\u001b[0m \u001b[0mmodel\u001b[0m\u001b[0;34m.\u001b[0m\u001b[0mfit\u001b[0m\u001b[0;34m(\u001b[0m\u001b[0mx_train\u001b[0m\u001b[0;34m,\u001b[0m \u001b[0my_train\u001b[0m\u001b[0;34m)\u001b[0m\u001b[0;34m\u001b[0m\u001b[0;34m\u001b[0m\u001b[0m\n\u001b[0;32m----> 4\u001b[0;31m print(metrics.classification_report(y_test, clf.predict(x_test), \\\n\u001b[0m\u001b[1;32m      5\u001b[0m     target_names = [ '19-25','26-34', '36-45', '46-56', '56-65', '65+']))\n",
            "\u001b[0;31mNameError\u001b[0m: name 'clf' is not defined"
          ]
        }
      ]
    },
    {
      "cell_type": "code",
      "source": [
        "print(metrics.classification_report(y_test, model.predict(x_test), \\\n",
        "    target_names = [ '19-25','26-34', '36-45', '46-56', '56-65', '65+']))"
      ],
      "metadata": {
        "colab": {
          "base_uri": "https://localhost:8080/"
        },
        "id": "i_kG--nQt08u",
        "outputId": "5508d8de-a2cb-4b1a-fad7-c9f9286a8ed8"
      },
      "execution_count": null,
      "outputs": [
        {
          "output_type": "stream",
          "name": "stdout",
          "text": [
            "              precision    recall  f1-score   support\n",
            "\n",
            "       19-25       0.00      0.00      0.00      1110\n",
            "       26-34       0.33      1.00      0.49      2901\n",
            "       36-45       0.28      0.01      0.01      2546\n",
            "       46-56       0.00      0.00      0.00      1423\n",
            "       56-65       0.00      0.00      0.00       776\n",
            "         65+       0.00      0.00      0.00       180\n",
            "\n",
            "    accuracy                           0.33      8936\n",
            "   macro avg       0.10      0.17      0.08      8936\n",
            "weighted avg       0.19      0.33      0.16      8936\n",
            "\n"
          ]
        },
        {
          "output_type": "stream",
          "name": "stderr",
          "text": [
            "/usr/local/lib/python3.8/dist-packages/sklearn/metrics/_classification.py:1318: UndefinedMetricWarning: Precision and F-score are ill-defined and being set to 0.0 in labels with no predicted samples. Use `zero_division` parameter to control this behavior.\n",
            "  _warn_prf(average, modifier, msg_start, len(result))\n",
            "/usr/local/lib/python3.8/dist-packages/sklearn/metrics/_classification.py:1318: UndefinedMetricWarning: Precision and F-score are ill-defined and being set to 0.0 in labels with no predicted samples. Use `zero_division` parameter to control this behavior.\n",
            "  _warn_prf(average, modifier, msg_start, len(result))\n",
            "/usr/local/lib/python3.8/dist-packages/sklearn/metrics/_classification.py:1318: UndefinedMetricWarning: Precision and F-score are ill-defined and being set to 0.0 in labels with no predicted samples. Use `zero_division` parameter to control this behavior.\n",
            "  _warn_prf(average, modifier, msg_start, len(result))\n"
          ]
        }
      ]
    },
    {
      "cell_type": "markdown",
      "source": [
        "###Трайн,Тест Сплит"
      ],
      "metadata": {
        "id": "iTPN0wZ4Sj5l"
      }
    },
    {
      "cell_type": "code",
      "source": [
        "#загрузим данные\n",
        "df_train = pd.read_pickle(f'{LOCAL_DATA_PATH}train_part_0.pkl')#.sample(frac=0.1, random_state=777)\n",
        "df_train.shape\n"
      ],
      "metadata": {
        "colab": {
          "base_uri": "https://localhost:8080/"
        },
        "id": "BMQ_PLwS1sn_",
        "outputId": "5deadf2d-1b09-4811-8639-82efe2fe78f2"
      },
      "execution_count": null,
      "outputs": [
        {
          "output_type": "execute_result",
          "data": {
            "text/plain": [
              "(27081, 3341)"
            ]
          },
          "metadata": {},
          "execution_count": 207
        }
      ]
    },
    {
      "cell_type": "code",
      "source": [
        "df_train.columns"
      ],
      "metadata": {
        "colab": {
          "base_uri": "https://localhost:8080/"
        },
        "id": "8ZF6xPpuERka",
        "outputId": "e940d59d-2f28-493e-8d49-9576ea3b0355"
      },
      "execution_count": null,
      "outputs": [
        {
          "output_type": "execute_result",
          "data": {
            "text/plain": [
              "Index(['user_id', 'day', 'evening', 'morning', 'night', 'cpe_model_name', '-1',\n",
              "       '0-hi--tech-mail-ru-0.cdn.ampproject.org', '03online.com', '1',\n",
              "       ...\n",
              "       'zooportal.pro', 'zr-ru.turbopages.org', 'zvonili.com', 'zvuch.com',\n",
              "       'zvuk.com', 'zvukipro.com', 'zycrypto.com', 'zyf03k.xyz', 'age',\n",
              "       'is_male'],\n",
              "      dtype='object', length=3008)"
            ]
          },
          "metadata": {},
          "execution_count": 188
        }
      ]
    },
    {
      "cell_type": "code",
      "source": [
        "df_train['model'] = df_train['cpe_manufacturer_name'] + ' ' + df_train['cpe_model_name']\n",
        "df_train = df_train.drop(['cpe_model_name','cpe_manufacturer_name'], axis=1)"
      ],
      "metadata": {
        "id": "5fpKxkL1Ecvo"
      },
      "execution_count": null,
      "outputs": []
    },
    {
      "cell_type": "code",
      "source": [
        "df_train = df_train.drop(['cpe_manufacturer_name'], axis=1)"
      ],
      "metadata": {
        "id": "LjnFIbPeFlam"
      },
      "execution_count": null,
      "outputs": []
    },
    {
      "cell_type": "code",
      "source": [
        "cat_features = ['cpe_model_name'] \n",
        "#cat_features = ['cpe_manufacturer_name']\n",
        "#cat_features = ['model']"
      ],
      "metadata": {
        "id": "y7a8ekFSnsmt"
      },
      "execution_count": null,
      "outputs": []
    },
    {
      "cell_type": "code",
      "source": [
        "cat_features"
      ],
      "metadata": {
        "colab": {
          "base_uri": "https://localhost:8080/"
        },
        "id": "r4CMcfSaIlLu",
        "outputId": "3c09401a-6938-4e46-91bc-d2a29a474033"
      },
      "execution_count": null,
      "outputs": [
        {
          "output_type": "execute_result",
          "data": {
            "text/plain": [
              "['cpe_model_name']"
            ]
          },
          "metadata": {},
          "execution_count": 181
        }
      ]
    },
    {
      "cell_type": "code",
      "source": [
        "df_train.loc[df_train['cpe_model_name'].isna() ,'cpe_model_name'] = 0"
      ],
      "metadata": {
        "id": "OIhqvUmXEeV_"
      },
      "execution_count": null,
      "outputs": []
    },
    {
      "cell_type": "code",
      "source": [
        "x_train, x_test, y_train, y_test = train_test_split(\\\n",
        "    df_train.drop(['user_id', 'age', 'is_male'], axis = 1), \\\n",
        "    df_train['age'], test_size = 0.33, random_state = 777)\n"
      ],
      "metadata": {
        "id": "5I6Om0smELfg"
      },
      "execution_count": null,
      "outputs": []
    },
    {
      "cell_type": "code",
      "source": [
        "%%time\n",
        "#тест модели \n",
        "clf = CatBoostClassifier()\n",
        "clf.fit(x_train, y_train,cat_features, verbose = False)\n",
        "print(metrics.classification_report(y_test, clf.predict(x_test), \\\n",
        "    target_names = [ '19-25','26-34', '36-45', '46-56', '56-65', '65+']))"
      ],
      "metadata": {
        "id": "rLczs18YEukz",
        "colab": {
          "base_uri": "https://localhost:8080/"
        },
        "outputId": "57316bf9-2063-42d9-803b-9ddf444240e5"
      },
      "execution_count": null,
      "outputs": [
        {
          "output_type": "stream",
          "name": "stdout",
          "text": [
            "              precision    recall  f1-score   support\n",
            "\n",
            "       19-25       0.53      0.25      0.34      1099\n",
            "       26-34       0.47      0.66      0.55      2924\n",
            "       36-45       0.39      0.49      0.43      2575\n",
            "       46-56       0.37      0.18      0.25      1430\n",
            "       56-65       0.43      0.18      0.25       721\n",
            "         65+       0.33      0.01      0.02       188\n",
            "\n",
            "    accuracy                           0.43      8937\n",
            "   macro avg       0.42      0.29      0.31      8937\n",
            "weighted avg       0.43      0.43      0.40      8937\n",
            "\n",
            "CPU times: user 17min 9s, sys: 1min 7s, total: 18min 16s\n",
            "Wall time: 10min 55s\n"
          ]
        }
      ]
    },
    {
      "cell_type": "markdown",
      "source": [
        "### Обучение на всей трайн выборке для сабмитов"
      ],
      "metadata": {
        "id": "owDcR7hEQau3"
      }
    },
    {
      "cell_type": "code",
      "source": [
        "# подгружаем\n",
        "df_train_feat_age = pd.read_feather(f'{LOCAL_DATA_PATH}train_feat_age_df_all_parts.feather')\n",
        "df_train_target_age = pd.read_csv(f'{LOCAL_DATA_PATH}train_target_age_df_all_parts.csv')"
      ],
      "metadata": {
        "id": "iHBgrzzC05-X"
      },
      "execution_count": null,
      "outputs": []
    },
    {
      "cell_type": "code",
      "source": [
        "cat_features = ['cpe_model_name'] "
      ],
      "metadata": {
        "id": "c_B00DtB3vRW"
      },
      "execution_count": null,
      "outputs": []
    },
    {
      "cell_type": "code",
      "source": [
        "%%time\n",
        "# финальное обучение для сабмита\n",
        "clf = CatBoostClassifier()\n",
        "clf.fit(df_train_feat_age, df_train_target_age, cat_features, verbose = False)\n",
        "\n"
      ],
      "metadata": {
        "colab": {
          "base_uri": "https://localhost:8080/"
        },
        "id": "gtARWd5qb6w7",
        "outputId": "6247353d-e7fb-4870-f089-7295c83b5020"
      },
      "execution_count": null,
      "outputs": [
        {
          "output_type": "stream",
          "name": "stdout",
          "text": [
            "CPU times: user 4h 34min 9s, sys: 1min 43s, total: 4h 35min 52s\n",
            "Wall time: 2h 35min 55s\n"
          ]
        },
        {
          "output_type": "execute_result",
          "data": {
            "text/plain": [
              "<catboost.core.CatBoostClassifier at 0x7f70ad3bb880>"
            ]
          },
          "metadata": {},
          "execution_count": 5
        }
      ]
    },
    {
      "cell_type": "code",
      "source": [
        "##########################\n",
        "# SAVE-LOAD using joblib #\n",
        "##########################\n",
        "# save\n",
        "joblib.dump(clf, f'{LOCAL_DATA_PATH}model_age_v2.pkl')"
      ],
      "metadata": {
        "colab": {
          "base_uri": "https://localhost:8080/"
        },
        "id": "QCq0SRbCAF1R",
        "outputId": "91fa86bd-8099-4f84-eaa1-fd085a711dbf"
      },
      "execution_count": null,
      "outputs": [
        {
          "output_type": "execute_result",
          "data": {
            "text/plain": [
              "['/content/drive/MyDrive/DS/MTS/model_age_v2.pkl']"
            ]
          },
          "metadata": {},
          "execution_count": 6
        }
      ]
    },
    {
      "cell_type": "code",
      "source": [
        "# load\n",
        "clf_age = joblib.load(f'{LOCAL_DATA_PATH}model_age_v2.pkl')"
      ],
      "metadata": {
        "id": "UgTjcRx1MegA"
      },
      "execution_count": 8,
      "outputs": []
    },
    {
      "cell_type": "code",
      "source": [
        "# предикты возраста\n",
        "predict_age = clf_age.predict(df_submit)"
      ],
      "metadata": {
        "id": "H_ZQsmpYcb1x"
      },
      "execution_count": 9,
      "outputs": []
    },
    {
      "cell_type": "code",
      "source": [
        "#сохраняем в файл\n",
        "pd.Series(predict_age.reshape(-1)).to_pickle(f'{LOCAL_DATA_PATH}predict_age.pkl')\n"
      ],
      "metadata": {
        "id": "I3Sq3XPnmy09"
      },
      "execution_count": null,
      "outputs": []
    },
    {
      "cell_type": "markdown",
      "source": [
        "## ML is_male\n"
      ],
      "metadata": {
        "id": "0x-MzRd4pw5B"
      }
    },
    {
      "cell_type": "code",
      "source": [
        "#загружаем данные для is_male\n",
        "#df_train_feat_is_male = pd.read_pickle(f'{LOCAL_DATA_PATH}train_feat_is_male_df_all_parts.pkl')\n",
        "#df_train_target_is_male = pd.read_pickle(f'{LOCAL_DATA_PATH}train_target_is_male_df_all_parts.pkl')\n",
        "df_train_feat_is_male = pd.read_feather(f'{LOCAL_DATA_PATH}train_feat_is_male_df_all_parts.feather')\n",
        "df_train_target_is_male = pd.read_feather(f'{LOCAL_DATA_PATH}train_target_is_male_df_all_parts.feather')"
      ],
      "metadata": {
        "id": "NXYlH75lwl9M"
      },
      "execution_count": null,
      "outputs": []
    },
    {
      "cell_type": "markdown",
      "source": [
        "### Трайн Тест Сплит"
      ],
      "metadata": {
        "id": "a2gwErEKOdO3"
      }
    },
    {
      "cell_type": "code",
      "source": [
        "df_train_target_is_male['is_male'].unique()\n",
        "df_train_target_is_male.shape"
      ],
      "metadata": {
        "id": "k2-DAsvlKRCb",
        "colab": {
          "base_uri": "https://localhost:8080/",
          "height": 183
        },
        "outputId": "23191727-b770-4e2c-925c-1bc57cdc0191"
      },
      "execution_count": null,
      "outputs": [
        {
          "output_type": "error",
          "ename": "NameError",
          "evalue": "ignored",
          "traceback": [
            "\u001b[0;31m---------------------------------------------------------------------------\u001b[0m",
            "\u001b[0;31mNameError\u001b[0m                                 Traceback (most recent call last)",
            "\u001b[0;32m<ipython-input-196-b9615b9086d2>\u001b[0m in \u001b[0;36m<module>\u001b[0;34m\u001b[0m\n\u001b[0;32m----> 1\u001b[0;31m \u001b[0mdf_train_target_is_male\u001b[0m\u001b[0;34m[\u001b[0m\u001b[0;34m'is_male'\u001b[0m\u001b[0;34m]\u001b[0m\u001b[0;34m.\u001b[0m\u001b[0munique\u001b[0m\u001b[0;34m(\u001b[0m\u001b[0;34m)\u001b[0m\u001b[0;34m\u001b[0m\u001b[0;34m\u001b[0m\u001b[0m\n\u001b[0m\u001b[1;32m      2\u001b[0m \u001b[0mdf_train_target_is_male\u001b[0m\u001b[0;34m.\u001b[0m\u001b[0mshape\u001b[0m\u001b[0;34m\u001b[0m\u001b[0;34m\u001b[0m\u001b[0m\n",
            "\u001b[0;31mNameError\u001b[0m: name 'df_train_target_is_male' is not defined"
          ]
        }
      ]
    },
    {
      "cell_type": "code",
      "source": [
        "cat_features = ['cpe_model_name'] "
      ],
      "metadata": {
        "id": "m6bh9cjfRv0b"
      },
      "execution_count": null,
      "outputs": []
    },
    {
      "cell_type": "code",
      "source": [
        "df_train['is_male'].unique()"
      ],
      "metadata": {
        "colab": {
          "base_uri": "https://localhost:8080/"
        },
        "id": "wwQC1R61Nscx",
        "outputId": "48f7eded-1910-4256-8cfc-295ed3de895d"
      },
      "execution_count": null,
      "outputs": [
        {
          "output_type": "execute_result",
          "data": {
            "text/plain": [
              "array(['0', '1'], dtype=object)"
            ]
          },
          "metadata": {},
          "execution_count": 199
        }
      ]
    },
    {
      "cell_type": "code",
      "source": [
        "df_train = df_train[df_train['is_male'] != 'NA']"
      ],
      "metadata": {
        "id": "EreWo9SNN52_"
      },
      "execution_count": null,
      "outputs": []
    },
    {
      "cell_type": "code",
      "source": [
        "%%time\n",
        "x_train, x_test, y_train, y_test = train_test_split(\\\n",
        "    df_train.drop(['user_id', 'age', 'is_male'], axis = 1), df_train['is_male'], test_size = 0.33, random_state = 777)\n",
        "clf = CatBoostClassifier()\n",
        "clf.fit(x_train, y_train, cat_features , verbose = False )\n"
      ],
      "metadata": {
        "colab": {
          "base_uri": "https://localhost:8080/"
        },
        "id": "I4dpGEXMqDAN",
        "outputId": "162d9c1f-5844-4439-8926-e37ed6f52a25"
      },
      "execution_count": null,
      "outputs": [
        {
          "output_type": "stream",
          "name": "stdout",
          "text": [
            "CPU times: user 3min 37s, sys: 5.23 s, total: 3min 43s\n",
            "Wall time: 2min 15s\n"
          ]
        },
        {
          "output_type": "execute_result",
          "data": {
            "text/plain": [
              "<catboost.core.CatBoostClassifier at 0x7f4a75468f40>"
            ]
          },
          "metadata": {},
          "execution_count": 212
        }
      ]
    },
    {
      "cell_type": "code",
      "source": [
        "print(f'GINI по полу {2 * metrics.roc_auc_score(y_test, clf.predict_proba(x_test)[:,1]) - 1:2.3f}')"
      ],
      "metadata": {
        "colab": {
          "base_uri": "https://localhost:8080/"
        },
        "id": "0GzIz1I4qDQZ",
        "outputId": "de4cbcfb-b124-483e-bf6b-0451cf9ccb3b"
      },
      "execution_count": null,
      "outputs": [
        {
          "output_type": "stream",
          "name": "stdout",
          "text": [
            "GINI по полу 0.667\n"
          ]
        }
      ]
    },
    {
      "cell_type": "markdown",
      "source": [
        "### Обучение на всей выбоке для сабмитов"
      ],
      "metadata": {
        "id": "vuPtGDq5wRR4"
      }
    },
    {
      "cell_type": "code",
      "source": [
        "df_train_feat_is_male = pd.read_feather(f'{LOCAL_DATA_PATH}train_feat_is_male_df_all_parts.feather')\n",
        "df_train_target_is_male = pd.read_csv(f'{LOCAL_DATA_PATH}train_target_is_male_df_all_parts.csv')"
      ],
      "metadata": {
        "id": "qsiTjyAA4jag"
      },
      "execution_count": null,
      "outputs": []
    },
    {
      "cell_type": "code",
      "source": [
        "cat_features = ['cpe_model_name'] "
      ],
      "metadata": {
        "id": "b-hP5nifOwjH"
      },
      "execution_count": null,
      "outputs": []
    },
    {
      "cell_type": "code",
      "source": [
        "df_train_target_is_male.head()\n"
      ],
      "metadata": {
        "colab": {
          "base_uri": "https://localhost:8080/",
          "height": 206
        },
        "id": "Rx7Jz_2EO0aN",
        "outputId": "444e77fb-cf44-4159-f942-d1270d12c9f6"
      },
      "execution_count": null,
      "outputs": [
        {
          "output_type": "execute_result",
          "data": {
            "text/plain": [
              "   is_male\n",
              "0        0\n",
              "1        0\n",
              "2        1\n",
              "3        0\n",
              "4        0"
            ],
            "text/html": [
              "\n",
              "  <div id=\"df-7deee52f-7f2d-4519-adc5-3b5ba4e9df66\">\n",
              "    <div class=\"colab-df-container\">\n",
              "      <div>\n",
              "<style scoped>\n",
              "    .dataframe tbody tr th:only-of-type {\n",
              "        vertical-align: middle;\n",
              "    }\n",
              "\n",
              "    .dataframe tbody tr th {\n",
              "        vertical-align: top;\n",
              "    }\n",
              "\n",
              "    .dataframe thead th {\n",
              "        text-align: right;\n",
              "    }\n",
              "</style>\n",
              "<table border=\"1\" class=\"dataframe\">\n",
              "  <thead>\n",
              "    <tr style=\"text-align: right;\">\n",
              "      <th></th>\n",
              "      <th>is_male</th>\n",
              "    </tr>\n",
              "  </thead>\n",
              "  <tbody>\n",
              "    <tr>\n",
              "      <th>0</th>\n",
              "      <td>0</td>\n",
              "    </tr>\n",
              "    <tr>\n",
              "      <th>1</th>\n",
              "      <td>0</td>\n",
              "    </tr>\n",
              "    <tr>\n",
              "      <th>2</th>\n",
              "      <td>1</td>\n",
              "    </tr>\n",
              "    <tr>\n",
              "      <th>3</th>\n",
              "      <td>0</td>\n",
              "    </tr>\n",
              "    <tr>\n",
              "      <th>4</th>\n",
              "      <td>0</td>\n",
              "    </tr>\n",
              "  </tbody>\n",
              "</table>\n",
              "</div>\n",
              "      <button class=\"colab-df-convert\" onclick=\"convertToInteractive('df-7deee52f-7f2d-4519-adc5-3b5ba4e9df66')\"\n",
              "              title=\"Convert this dataframe to an interactive table.\"\n",
              "              style=\"display:none;\">\n",
              "        \n",
              "  <svg xmlns=\"http://www.w3.org/2000/svg\" height=\"24px\"viewBox=\"0 0 24 24\"\n",
              "       width=\"24px\">\n",
              "    <path d=\"M0 0h24v24H0V0z\" fill=\"none\"/>\n",
              "    <path d=\"M18.56 5.44l.94 2.06.94-2.06 2.06-.94-2.06-.94-.94-2.06-.94 2.06-2.06.94zm-11 1L8.5 8.5l.94-2.06 2.06-.94-2.06-.94L8.5 2.5l-.94 2.06-2.06.94zm10 10l.94 2.06.94-2.06 2.06-.94-2.06-.94-.94-2.06-.94 2.06-2.06.94z\"/><path d=\"M17.41 7.96l-1.37-1.37c-.4-.4-.92-.59-1.43-.59-.52 0-1.04.2-1.43.59L10.3 9.45l-7.72 7.72c-.78.78-.78 2.05 0 2.83L4 21.41c.39.39.9.59 1.41.59.51 0 1.02-.2 1.41-.59l7.78-7.78 2.81-2.81c.8-.78.8-2.07 0-2.86zM5.41 20L4 18.59l7.72-7.72 1.47 1.35L5.41 20z\"/>\n",
              "  </svg>\n",
              "      </button>\n",
              "      \n",
              "  <style>\n",
              "    .colab-df-container {\n",
              "      display:flex;\n",
              "      flex-wrap:wrap;\n",
              "      gap: 12px;\n",
              "    }\n",
              "\n",
              "    .colab-df-convert {\n",
              "      background-color: #E8F0FE;\n",
              "      border: none;\n",
              "      border-radius: 50%;\n",
              "      cursor: pointer;\n",
              "      display: none;\n",
              "      fill: #1967D2;\n",
              "      height: 32px;\n",
              "      padding: 0 0 0 0;\n",
              "      width: 32px;\n",
              "    }\n",
              "\n",
              "    .colab-df-convert:hover {\n",
              "      background-color: #E2EBFA;\n",
              "      box-shadow: 0px 1px 2px rgba(60, 64, 67, 0.3), 0px 1px 3px 1px rgba(60, 64, 67, 0.15);\n",
              "      fill: #174EA6;\n",
              "    }\n",
              "\n",
              "    [theme=dark] .colab-df-convert {\n",
              "      background-color: #3B4455;\n",
              "      fill: #D2E3FC;\n",
              "    }\n",
              "\n",
              "    [theme=dark] .colab-df-convert:hover {\n",
              "      background-color: #434B5C;\n",
              "      box-shadow: 0px 1px 3px 1px rgba(0, 0, 0, 0.15);\n",
              "      filter: drop-shadow(0px 1px 2px rgba(0, 0, 0, 0.3));\n",
              "      fill: #FFFFFF;\n",
              "    }\n",
              "  </style>\n",
              "\n",
              "      <script>\n",
              "        const buttonEl =\n",
              "          document.querySelector('#df-7deee52f-7f2d-4519-adc5-3b5ba4e9df66 button.colab-df-convert');\n",
              "        buttonEl.style.display =\n",
              "          google.colab.kernel.accessAllowed ? 'block' : 'none';\n",
              "\n",
              "        async function convertToInteractive(key) {\n",
              "          const element = document.querySelector('#df-7deee52f-7f2d-4519-adc5-3b5ba4e9df66');\n",
              "          const dataTable =\n",
              "            await google.colab.kernel.invokeFunction('convertToInteractive',\n",
              "                                                     [key], {});\n",
              "          if (!dataTable) return;\n",
              "\n",
              "          const docLinkHtml = 'Like what you see? Visit the ' +\n",
              "            '<a target=\"_blank\" href=https://colab.research.google.com/notebooks/data_table.ipynb>data table notebook</a>'\n",
              "            + ' to learn more about interactive tables.';\n",
              "          element.innerHTML = '';\n",
              "          dataTable['output_type'] = 'display_data';\n",
              "          await google.colab.output.renderOutput(dataTable, element);\n",
              "          const docLink = document.createElement('div');\n",
              "          docLink.innerHTML = docLinkHtml;\n",
              "          element.appendChild(docLink);\n",
              "        }\n",
              "      </script>\n",
              "    </div>\n",
              "  </div>\n",
              "  "
            ]
          },
          "metadata": {},
          "execution_count": 6
        }
      ]
    },
    {
      "cell_type": "code",
      "source": [
        "%%time\n",
        "\n",
        "# обучения для сабмита на всей выборке\n",
        "clf = CatBoostClassifier()\n",
        "clf.fit(df_train_feat_is_male, df_train_target_is_male, cat_features , verbose = False )\n"
      ],
      "metadata": {
        "colab": {
          "base_uri": "https://localhost:8080/"
        },
        "id": "jrQ9e7dxqCah",
        "outputId": "be9db385-f3f3-4293-f890-4cfa73562b3c"
      },
      "execution_count": null,
      "outputs": [
        {
          "output_type": "stream",
          "name": "stdout",
          "text": [
            "CPU times: user 43min 28s, sys: 8.37 s, total: 43min 36s\n",
            "Wall time: 24min 39s\n"
          ]
        },
        {
          "output_type": "execute_result",
          "data": {
            "text/plain": [
              "<catboost.core.CatBoostClassifier at 0x7f24403f65b0>"
            ]
          },
          "metadata": {},
          "execution_count": 7
        }
      ]
    },
    {
      "cell_type": "code",
      "source": [
        "##########################\n",
        "# SAVE-LOAD using joblib #\n",
        "##########################\n",
        "joblib.dump(clf, f'{LOCAL_DATA_PATH}model_is_male_v2.pkl')"
      ],
      "metadata": {
        "colab": {
          "base_uri": "https://localhost:8080/"
        },
        "id": "z3upHH2VOvh3",
        "outputId": "9fbc5cfc-01de-4b7f-9d95-a40445a77718"
      },
      "execution_count": null,
      "outputs": [
        {
          "output_type": "execute_result",
          "data": {
            "text/plain": [
              "['/content/drive/MyDrive/DS/MTS/model_is_male_v2.pkl']"
            ]
          },
          "metadata": {},
          "execution_count": 8
        }
      ]
    },
    {
      "cell_type": "code",
      "source": [
        "# load\n",
        "clf_is_male = joblib.load(f'{LOCAL_DATA_PATH}model_is_male_v2.pkl')"
      ],
      "metadata": {
        "id": "C-92fm1xO7Ae"
      },
      "execution_count": 10,
      "outputs": []
    },
    {
      "cell_type": "code",
      "source": [
        "predict_is_male_proba = clf_is_male.predict_proba(df_submit)"
      ],
      "metadata": {
        "id": "brrrkeEIps7U"
      },
      "execution_count": 11,
      "outputs": []
    },
    {
      "cell_type": "code",
      "source": [
        "#сохранем\n",
        "pd.Series(predict_is_male_proba[:,1]).to_pickle(f'{LOCAL_DATA_PATH}predict_is_male_proba.pkl')"
      ],
      "metadata": {
        "id": "pUa6KVkQrxWr"
      },
      "execution_count": null,
      "outputs": []
    },
    {
      "cell_type": "code",
      "source": [
        "predict_is_male_proba[:,0].shape"
      ],
      "metadata": {
        "id": "k9nh_wXSxqit",
        "colab": {
          "base_uri": "https://localhost:8080/"
        },
        "outputId": "557b2678-ab01-4847-8ac0-55b1d74dc7fa"
      },
      "execution_count": 14,
      "outputs": [
        {
          "output_type": "execute_result",
          "data": {
            "text/plain": [
              "(144724,)"
            ]
          },
          "metadata": {},
          "execution_count": 14
        }
      ]
    },
    {
      "cell_type": "markdown",
      "source": [
        "## Заполняем id_to_submit"
      ],
      "metadata": {
        "id": "af4DlhRVxrYq"
      }
    },
    {
      "cell_type": "code",
      "source": [
        "#меняем категорию\n",
        "def fix_age_cat(age):\n",
        "  if age == 0:\n",
        "    return 1\n",
        "  elif age == 1:\n",
        "    return 2\n",
        "  elif age == 2:\n",
        "    return 3\n",
        "  elif age == 3:\n",
        "    return 4\n",
        "  elif age == 4:\n",
        "    return 5\n",
        "  return 6"
      ],
      "metadata": {
        "id": "y30leV3HAEoi"
      },
      "execution_count": null,
      "outputs": []
    },
    {
      "cell_type": "code",
      "source": [
        "#это временный дата сет, т к у нас нет некоторого числа user_id  \n",
        "a = pd.DataFrame (df_submit['user_id'])"
      ],
      "metadata": {
        "id": "jS_9humru5_f"
      },
      "execution_count": 20,
      "outputs": []
    },
    {
      "cell_type": "code",
      "source": [
        "a['is_male'] = predict_is_male_proba[:,1]\n",
        "a['age'] =  predict_age"
      ],
      "metadata": {
        "id": "Q33CnO-9v-8n"
      },
      "execution_count": 21,
      "outputs": []
    },
    {
      "cell_type": "code",
      "source": [
        "# fix категории\n",
        "a['age'] = a['age'].map(fix_age_cat)"
      ],
      "metadata": {
        "id": "sTFPxULz1Mwg"
      },
      "execution_count": null,
      "outputs": []
    },
    {
      "cell_type": "code",
      "source": [
        "a['age'].unique()"
      ],
      "metadata": {
        "colab": {
          "base_uri": "https://localhost:8080/"
        },
        "id": "JdVmgRB6GjJE",
        "outputId": "87231a34-0229-4778-8d5d-d349cccb666e"
      },
      "execution_count": 22,
      "outputs": [
        {
          "output_type": "execute_result",
          "data": {
            "text/plain": [
              "array([2, 1, 3, 4, 5, 6])"
            ]
          },
          "metadata": {},
          "execution_count": 22
        }
      ]
    },
    {
      "cell_type": "code",
      "source": [
        "id_to_submit = pq.read_table(f'{LOCAL_DATA_PATH}/{SUBMISSION_FILE}').to_pandas().reset_index(drop=True)"
      ],
      "metadata": {
        "id": "72kFBmkSw-xP"
      },
      "execution_count": 23,
      "outputs": []
    },
    {
      "cell_type": "code",
      "source": [
        "id_to_submit.shape\n",
        "#a.shape"
      ],
      "metadata": {
        "colab": {
          "base_uri": "https://localhost:8080/"
        },
        "id": "GhJ-3fp4sjGU",
        "outputId": "1df9c1e6-e833-498e-e561-22e5fe6a57ed"
      },
      "execution_count": 15,
      "outputs": [
        {
          "output_type": "execute_result",
          "data": {
            "text/plain": [
              "(144724, 3)"
            ]
          },
          "metadata": {},
          "execution_count": 15
        }
      ]
    },
    {
      "cell_type": "code",
      "source": [
        "# когда все user_id  в предиктах\n",
        "id_to_submit['is_male'] = predict_is_male_proba[:,1]\n",
        "id_to_submit['age'] =  predict_age"
      ],
      "metadata": {
        "id": "_P1F3Wzw5Njl"
      },
      "execution_count": 14,
      "outputs": []
    },
    {
      "cell_type": "code",
      "source": [
        "#этот мердж правльный\n",
        "id_to_submit = id_to_submit.merge(a,how='outer', on='user_id')\n"
      ],
      "metadata": {
        "id": "XY16xxOPyDOf"
      },
      "execution_count": 24,
      "outputs": []
    },
    {
      "cell_type": "code",
      "source": [
        "id_to_submit.info()"
      ],
      "metadata": {
        "colab": {
          "base_uri": "https://localhost:8080/"
        },
        "id": "E-eOGPOXyhUI",
        "outputId": "91e57834-a29c-4ec3-e44d-4652cd1f90d1"
      },
      "execution_count": 25,
      "outputs": [
        {
          "output_type": "stream",
          "name": "stdout",
          "text": [
            "<class 'pandas.core.frame.DataFrame'>\n",
            "Int64Index: 144724 entries, 0 to 144723\n",
            "Data columns (total 3 columns):\n",
            " #   Column   Non-Null Count   Dtype  \n",
            "---  ------   --------------   -----  \n",
            " 0   user_id  144724 non-null  int64  \n",
            " 1   is_male  144724 non-null  float64\n",
            " 2   age      144724 non-null  int64  \n",
            "dtypes: float64(1), int64(2)\n",
            "memory usage: 4.4 MB\n"
          ]
        }
      ]
    },
    {
      "cell_type": "code",
      "source": [
        "#заполним пропуски is_male = 0.511735 , age = 2 or 3"
      ],
      "metadata": {
        "id": "V6IXPKnFzQVw"
      },
      "execution_count": null,
      "outputs": []
    },
    {
      "cell_type": "code",
      "source": [
        "#закрывем na\n",
        "id_to_submit.loc[id_to_submit['age'].isna(),'age'] = 3\n",
        "id_to_submit.loc[id_to_submit['is_male'].isna(),'is_male'] = 0.52\n",
        "id_to_submit['age'] = id_to_submit['age'].astype(int)"
      ],
      "metadata": {
        "id": "ONvVmORxzxjQ"
      },
      "execution_count": null,
      "outputs": []
    },
    {
      "cell_type": "code",
      "source": [
        "id_to_submit.info()"
      ],
      "metadata": {
        "colab": {
          "base_uri": "https://localhost:8080/"
        },
        "id": "fu0sfFzlzBhw",
        "outputId": "0e00213b-0a21-437b-9526-97dc84efb608"
      },
      "execution_count": 26,
      "outputs": [
        {
          "output_type": "stream",
          "name": "stdout",
          "text": [
            "<class 'pandas.core.frame.DataFrame'>\n",
            "Int64Index: 144724 entries, 0 to 144723\n",
            "Data columns (total 3 columns):\n",
            " #   Column   Non-Null Count   Dtype  \n",
            "---  ------   --------------   -----  \n",
            " 0   user_id  144724 non-null  int64  \n",
            " 1   is_male  144724 non-null  float64\n",
            " 2   age      144724 non-null  int64  \n",
            "dtypes: float64(1), int64(2)\n",
            "memory usage: 4.4 MB\n"
          ]
        }
      ]
    },
    {
      "cell_type": "code",
      "source": [
        "id_to_submit.head()"
      ],
      "metadata": {
        "colab": {
          "base_uri": "https://localhost:8080/",
          "height": 206
        },
        "id": "PMQKWv33-QGU",
        "outputId": "ef42ff7b-bdb5-47ac-ccdc-24c947622574"
      },
      "execution_count": 27,
      "outputs": [
        {
          "output_type": "execute_result",
          "data": {
            "text/plain": [
              "   user_id   is_male  age\n",
              "0   221301  0.961782    2\n",
              "1    31271  0.451565    3\n",
              "2   211594  0.523701    2\n",
              "3   253119  0.494832    3\n",
              "4   192578  0.811708    2"
            ],
            "text/html": [
              "\n",
              "  <div id=\"df-845f1e24-8b58-45ac-8822-80bf7d72d205\">\n",
              "    <div class=\"colab-df-container\">\n",
              "      <div>\n",
              "<style scoped>\n",
              "    .dataframe tbody tr th:only-of-type {\n",
              "        vertical-align: middle;\n",
              "    }\n",
              "\n",
              "    .dataframe tbody tr th {\n",
              "        vertical-align: top;\n",
              "    }\n",
              "\n",
              "    .dataframe thead th {\n",
              "        text-align: right;\n",
              "    }\n",
              "</style>\n",
              "<table border=\"1\" class=\"dataframe\">\n",
              "  <thead>\n",
              "    <tr style=\"text-align: right;\">\n",
              "      <th></th>\n",
              "      <th>user_id</th>\n",
              "      <th>is_male</th>\n",
              "      <th>age</th>\n",
              "    </tr>\n",
              "  </thead>\n",
              "  <tbody>\n",
              "    <tr>\n",
              "      <th>0</th>\n",
              "      <td>221301</td>\n",
              "      <td>0.961782</td>\n",
              "      <td>2</td>\n",
              "    </tr>\n",
              "    <tr>\n",
              "      <th>1</th>\n",
              "      <td>31271</td>\n",
              "      <td>0.451565</td>\n",
              "      <td>3</td>\n",
              "    </tr>\n",
              "    <tr>\n",
              "      <th>2</th>\n",
              "      <td>211594</td>\n",
              "      <td>0.523701</td>\n",
              "      <td>2</td>\n",
              "    </tr>\n",
              "    <tr>\n",
              "      <th>3</th>\n",
              "      <td>253119</td>\n",
              "      <td>0.494832</td>\n",
              "      <td>3</td>\n",
              "    </tr>\n",
              "    <tr>\n",
              "      <th>4</th>\n",
              "      <td>192578</td>\n",
              "      <td>0.811708</td>\n",
              "      <td>2</td>\n",
              "    </tr>\n",
              "  </tbody>\n",
              "</table>\n",
              "</div>\n",
              "      <button class=\"colab-df-convert\" onclick=\"convertToInteractive('df-845f1e24-8b58-45ac-8822-80bf7d72d205')\"\n",
              "              title=\"Convert this dataframe to an interactive table.\"\n",
              "              style=\"display:none;\">\n",
              "        \n",
              "  <svg xmlns=\"http://www.w3.org/2000/svg\" height=\"24px\"viewBox=\"0 0 24 24\"\n",
              "       width=\"24px\">\n",
              "    <path d=\"M0 0h24v24H0V0z\" fill=\"none\"/>\n",
              "    <path d=\"M18.56 5.44l.94 2.06.94-2.06 2.06-.94-2.06-.94-.94-2.06-.94 2.06-2.06.94zm-11 1L8.5 8.5l.94-2.06 2.06-.94-2.06-.94L8.5 2.5l-.94 2.06-2.06.94zm10 10l.94 2.06.94-2.06 2.06-.94-2.06-.94-.94-2.06-.94 2.06-2.06.94z\"/><path d=\"M17.41 7.96l-1.37-1.37c-.4-.4-.92-.59-1.43-.59-.52 0-1.04.2-1.43.59L10.3 9.45l-7.72 7.72c-.78.78-.78 2.05 0 2.83L4 21.41c.39.39.9.59 1.41.59.51 0 1.02-.2 1.41-.59l7.78-7.78 2.81-2.81c.8-.78.8-2.07 0-2.86zM5.41 20L4 18.59l7.72-7.72 1.47 1.35L5.41 20z\"/>\n",
              "  </svg>\n",
              "      </button>\n",
              "      \n",
              "  <style>\n",
              "    .colab-df-container {\n",
              "      display:flex;\n",
              "      flex-wrap:wrap;\n",
              "      gap: 12px;\n",
              "    }\n",
              "\n",
              "    .colab-df-convert {\n",
              "      background-color: #E8F0FE;\n",
              "      border: none;\n",
              "      border-radius: 50%;\n",
              "      cursor: pointer;\n",
              "      display: none;\n",
              "      fill: #1967D2;\n",
              "      height: 32px;\n",
              "      padding: 0 0 0 0;\n",
              "      width: 32px;\n",
              "    }\n",
              "\n",
              "    .colab-df-convert:hover {\n",
              "      background-color: #E2EBFA;\n",
              "      box-shadow: 0px 1px 2px rgba(60, 64, 67, 0.3), 0px 1px 3px 1px rgba(60, 64, 67, 0.15);\n",
              "      fill: #174EA6;\n",
              "    }\n",
              "\n",
              "    [theme=dark] .colab-df-convert {\n",
              "      background-color: #3B4455;\n",
              "      fill: #D2E3FC;\n",
              "    }\n",
              "\n",
              "    [theme=dark] .colab-df-convert:hover {\n",
              "      background-color: #434B5C;\n",
              "      box-shadow: 0px 1px 3px 1px rgba(0, 0, 0, 0.15);\n",
              "      filter: drop-shadow(0px 1px 2px rgba(0, 0, 0, 0.3));\n",
              "      fill: #FFFFFF;\n",
              "    }\n",
              "  </style>\n",
              "\n",
              "      <script>\n",
              "        const buttonEl =\n",
              "          document.querySelector('#df-845f1e24-8b58-45ac-8822-80bf7d72d205 button.colab-df-convert');\n",
              "        buttonEl.style.display =\n",
              "          google.colab.kernel.accessAllowed ? 'block' : 'none';\n",
              "\n",
              "        async function convertToInteractive(key) {\n",
              "          const element = document.querySelector('#df-845f1e24-8b58-45ac-8822-80bf7d72d205');\n",
              "          const dataTable =\n",
              "            await google.colab.kernel.invokeFunction('convertToInteractive',\n",
              "                                                     [key], {});\n",
              "          if (!dataTable) return;\n",
              "\n",
              "          const docLinkHtml = 'Like what you see? Visit the ' +\n",
              "            '<a target=\"_blank\" href=https://colab.research.google.com/notebooks/data_table.ipynb>data table notebook</a>'\n",
              "            + ' to learn more about interactive tables.';\n",
              "          element.innerHTML = '';\n",
              "          dataTable['output_type'] = 'display_data';\n",
              "          await google.colab.output.renderOutput(dataTable, element);\n",
              "          const docLink = document.createElement('div');\n",
              "          docLink.innerHTML = docLinkHtml;\n",
              "          element.appendChild(docLink);\n",
              "        }\n",
              "      </script>\n",
              "    </div>\n",
              "  </div>\n",
              "  "
            ]
          },
          "metadata": {},
          "execution_count": 27
        }
      ]
    },
    {
      "cell_type": "code",
      "source": [
        "#итоговый сохраняем\n",
        "id_to_submit.to_csv(f'{LOCAL_DATA_PATH}/submission_v4_1.csv', index = False)"
      ],
      "metadata": {
        "id": "7d9MPnTs1Cdr"
      },
      "execution_count": 28,
      "outputs": []
    },
    {
      "cell_type": "markdown",
      "source": [
        "## СКоры на лидер борде    \n",
        "Когда пофиксил категоризацию age\n",
        "\t1,6359491017   это 2300 тпо урлов без отсева технических, кэт дефол"
      ],
      "metadata": {
        "id": "cH-Vuz70AGKx"
      }
    }
  ]
}